{
 "cells": [
  {
   "cell_type": "code",
   "execution_count": 233,
   "metadata": {},
   "outputs": [],
   "source": [
    "import numpy as np\n",
    "from copy import deepcopy\n",
    "import dionysus as d\n",
    "import scipy"
   ]
  },
  {
   "cell_type": "code",
   "execution_count": 288,
   "metadata": {},
   "outputs": [],
   "source": [
    "def SchurComp(M, ind):\n",
    "    ind = [i if i >=0 else M.shape[0] + i for i in ind]\n",
    "    nind = [i for i in range(M.shape[0]) if i not in ind]\n",
    "    A = M[nind, :][:, nind]\n",
    "    B = M[nind, :][:, ind]\n",
    "    C = M[ind, :][:, nind]\n",
    "    D = M[ind, :][:, ind]\n",
    "    return A - B @ np.linalg.pinv(D) @ C\n",
    "\n",
    "def combinatorial_Laplacian(Bqplus1, Bq):\n",
    "    upLaplacian = Bqplus1@Bqplus1.T\n",
    "    if Bq == 0:\n",
    "        return upLaplacian\n",
    "    else:\n",
    "        downLaplacian = Bq.T@Bq\n",
    "        return upLaplacian + downLaplacian\n",
    "\n",
    "def persistent_Laplacian(Bqplus1: np.array, Bq: np.array) -> np.array:\n",
    "    \"\"\"\n",
    "    Inclusion of K in L. Assume the boundaries are ordered the same and first the boundaries in K appear in L.\n",
    "\n",
    "    Bqplus1: (q+1)-boundary matrix of L.\n",
    "    Bq: q-boundary matrix of K. (nqK if q=0)\n",
    "    \"\"\"\n",
    "    if type(Bq) == int:\n",
    "        nqK = Bq\n",
    "        downL = 0\n",
    "    else:\n",
    "        nqK = Bq.shape[1]\n",
    "        downL = Bq.T@Bq\n",
    "\n",
    "    if type(Bqplus1) != int:\n",
    "        upLaplacian = Bqplus1@Bqplus1.T\n",
    "        nqL = Bqplus1.shape[0]\n",
    "        IKL = list(range(nqK, nqL))\n",
    "        upL = SchurComp(upLaplacian, IKL)\n",
    "    else:\n",
    "        upL = 0\n",
    "        \n",
    "    return upL + downL\n"
   ]
  },
  {
   "cell_type": "code",
   "execution_count": 276,
   "metadata": {},
   "outputs": [],
   "source": [
    "\n",
    "f = d.Filtration()\n",
    "simplices = [([0], 0), ([1], 1), ([2], 2), ([3], 3), ([1,0], 4), ([0,3], 5), ([1,3], 6), ([2,3], 7), ([0,2], 8), ([0,1,3], 9)]\n",
    "for vertices, time in simplices:\n",
    "    f.append(d.Simplex(vertices, time))\n",
    "f.sort()"
   ]
  },
  {
   "cell_type": "code",
   "execution_count": 313,
   "metadata": {},
   "outputs": [
    {
     "name": "stdout",
     "output_type": "stream",
     "text": [
      "<class 'int'>\n",
      "0,\n",
      "<class 'int'>\n",
      "1,\n",
      "<class 'int'>\n",
      "2,\n",
      "<class 'int'>\n",
      "3,\n",
      "<class 'int'>\n",
      "0,<class 'int'>\n",
      "1,\n",
      "<class 'int'>\n",
      "0,<class 'int'>\n",
      "3,\n",
      "<class 'int'>\n",
      "1,<class 'int'>\n",
      "3,\n",
      "<class 'int'>\n",
      "2,<class 'int'>\n",
      "3,\n",
      "<class 'int'>\n",
      "0,<class 'int'>\n",
      "2,\n",
      "<class 'int'>\n",
      "0,<class 'int'>\n",
      "1,<class 'int'>\n",
      "3,\n"
     ]
    }
   ],
   "source": [
    "for s in f:\n",
    "    for v in s:\n",
    "        print(type(v))\n",
    "        print(v, end=\",\")\n",
    "    print()\n"
   ]
  },
  {
   "cell_type": "code",
   "execution_count": 324,
   "metadata": {},
   "outputs": [
    {
     "data": {
      "text/plain": [
       "array([[-1., -1.,  0.,  0.,  0.],\n",
       "       [ 0.,  0., -1.,  0.,  0.],\n",
       "       [ 0.,  0.,  0., -1.,  0.],\n",
       "       [ 0.,  0.,  1.,  0.,  0.]])"
      ]
     },
     "execution_count": 324,
     "metadata": {},
     "output_type": "execute_result"
    }
   ],
   "source": [
    "def compute_boundary_matrices(f: d.Filtration, weight_fun):\n",
    "    t_old = 0\n",
    "    relevant_times = [t_old]\n",
    "    n_simplicies_seen_per_time = [[0]]\n",
    "    n_simplicies_seen_total = [0]\n",
    "\n",
    "    for s in f:\n",
    "        q = s.dimension()\n",
    "        if s.data != t_old:\n",
    "            relevant_times.append(s.data)\n",
    "            n_simplicies_seen_per_time.append(deepcopy(n_simplicies_seen_total))\n",
    "            t_old = s.data\n",
    "\n",
    "        if q >= len(n_simplicies_seen_total):\n",
    "            n_simplicies_seen_total.append(0)\n",
    "        n_simplicies_seen_total[q] += 1\n",
    "\n",
    "    relevant_times.append(s.data)\n",
    "    n_simplicies_seen_per_time.append(deepcopy(n_simplicies_seen_total))\n",
    "    maxq = len(n_simplicies_seen_per_time[-1])\n",
    "    for qi in range(len(n_simplicies_seen_per_time)):\n",
    "        n_simplicies_seen_per_time[qi] = n_simplicies_seen_per_time[qi] + [0]*(maxq-len(n_simplicies_seen_per_time[qi]))\n",
    "\n",
    "    def simplices_at_time(t):\n",
    "        i = 0\n",
    "        if t == np.inf:\n",
    "            return n_simplicies_seen_per_time[-1]\n",
    "        while relevant_times[i] <= t:\n",
    "            i += 1\n",
    "            if i == len(relevant_times) - 1:\n",
    "                return n_simplicies_seen_per_time[-1]\n",
    "        return n_simplicies_seen_per_time[i]\n",
    "\n",
    "    simplices_at_end = simplices_at_time(np.inf)\n",
    "    boundary_matrices = [0]+[np.zeros((simplices_at_end[q-1], simplices_at_end[q])) for q in range(1,maxq)]\n",
    "    name_to_idx = [{} for _ in range(maxq)]\n",
    "    for s in f:\n",
    "        q = s.dimension()\n",
    "\n",
    "        name = str(s).split(\"<\")[1].split(\">\")[0]\n",
    "        idx = len(name_to_idx[q])\n",
    "        name_to_idx[q][name] = idx\n",
    "\n",
    "        if q > 0:\n",
    "            for i, bdry_simplex in enumerate(s.boundary()):\n",
    "                name_bdry_simplex = str(bdry_simplex).split(\"<\")[1].split(\">\")[0]  \n",
    "                idx_bdry_simplex = name_to_idx[q-1][name_bdry_simplex]\n",
    "\n",
    "                # Boundaries as described in OG paper\n",
    "                # boundary_matrices[q][idx_bdry_simplex, idx] = weight_fun(name)/weight_fun(name_bdry_simplex)*(-1)**i\n",
    "\n",
    "                # Assuming product weights\n",
    "                for v in s:\n",
    "                    if v not in bdry_simplex:\n",
    "                        name_bdry_simplex = str(v)\n",
    "                        break\n",
    "                boundary_matrices[q][idx_bdry_simplex, idx] = weight_fun(name_bdry_simplex)*(-1)**i\n",
    "\n",
    "    return boundary_matrices, name_to_idx, simplices_at_time\n",
    "\n",
    "def weight_fun(x):\n",
    "    if x in [\"0\", \"2\"]:\n",
    "        return 0\n",
    "    return 1\n",
    "\n",
    "boundary_matrices, name_to_idx, simplices_at_time = compute_boundary_matrices(f, weight_fun)\n",
    "boundary_matrices[1]"
   ]
  },
  {
   "cell_type": "code",
   "execution_count": 303,
   "metadata": {},
   "outputs": [
    {
     "data": {
      "text/plain": [
       "[1, 0, 0]"
      ]
     },
     "execution_count": 303,
     "metadata": {},
     "output_type": "execute_result"
    }
   ],
   "source": [
    "# Fails because of machine precision !!!!!!!\n",
    "simplices_at_time(0)"
   ]
  },
  {
   "cell_type": "code",
   "execution_count": 325,
   "metadata": {},
   "outputs": [
    {
     "name": "stdout",
     "output_type": "stream",
     "text": [
      "0 4\n",
      "3 6\n",
      "2 7\n"
     ]
    }
   ],
   "source": [
    "import scipy.linalg\n",
    "\n",
    "\n",
    "def persistent_Laplacian_filtration(q, boundary_matrices, s, t, simplices_at_time):\n",
    "    if q > 0:\n",
    "        Bq = boundary_matrices[q][:simplices_at_time(s)[q-1], :simplices_at_time(s)[q]]\n",
    "    else:\n",
    "        Bq = simplices_at_time(s)[q]\n",
    "    \n",
    "    if q+1 <= len(simplices_at_time(t)):\n",
    "        Bqplus1 = boundary_matrices[q+1][:simplices_at_time(t)[q], :simplices_at_time(t)[q+1]]\n",
    "    else:\n",
    "        Bqplus1 = 0\n",
    "    return persistent_Laplacian(Bqplus1, Bq)\n",
    "\n",
    "q = 0\n",
    "\n",
    "for t in range(1,10):\n",
    "    for s in range(t):\n",
    "\n",
    "        Lap = persistent_Laplacian_filtration(q, boundary_matrices, s, t-1, simplices_at_time)\n",
    "        bijm1 = np.sum(np.linalg.eig(Lap)[0] < 1e-5)\n",
    "\n",
    "        Lap = persistent_Laplacian_filtration(q, boundary_matrices, s, t, simplices_at_time)\n",
    "        bij = np.sum(np.linalg.eig(Lap)[0] < 1e-5)\n",
    "\n",
    "        Lap = persistent_Laplacian_filtration(q, boundary_matrices, s-1, t-1, simplices_at_time)\n",
    "        bim1jm1 = np.sum(np.linalg.eig(Lap)[0] < 1e-5)\n",
    "\n",
    "        Lap = persistent_Laplacian_filtration(q, boundary_matrices, s-1, t, simplices_at_time)\n",
    "        bim1j = np.sum(np.linalg.eig(Lap)[0] < 1e-5)\n",
    "\n",
    "        if bijm1-bij-(bim1jm1-bim1j) > 0:\n",
    "            print(s, t)"
   ]
  },
  {
   "cell_type": "code",
   "execution_count": 139,
   "metadata": {},
   "outputs": [
    {
     "name": "stdout",
     "output_type": "stream",
     "text": [
      "[[0 1]\n",
      " [2 3]\n",
      " [4 5]] (3, 2)\n",
      "[[0 1]\n",
      " [2 3]] (2, 2)\n"
     ]
    },
    {
     "data": {
      "text/plain": [
       "array([[ 2,  3],\n",
       "       [ 6, 11],\n",
       "       [10, 19]])"
      ]
     },
     "execution_count": 139,
     "metadata": {},
     "output_type": "execute_result"
    }
   ],
   "source": [
    "A = np.arange(6).reshape((3,2))\n",
    "print(A, A.shape)\n",
    "B = np.arange(4).reshape((2,2))\n",
    "print(B, B.shape)\n",
    "(A@B)"
   ]
  }
 ],
 "metadata": {
  "kernelspec": {
   "display_name": "thesis",
   "language": "python",
   "name": "python3"
  },
  "language_info": {
   "codemirror_mode": {
    "name": "ipython",
    "version": 3
   },
   "file_extension": ".py",
   "mimetype": "text/x-python",
   "name": "python",
   "nbconvert_exporter": "python",
   "pygments_lexer": "ipython3",
   "version": "3.9.21"
  }
 },
 "nbformat": 4,
 "nbformat_minor": 2
}
