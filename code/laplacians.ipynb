{
 "cells": [
  {
   "cell_type": "code",
   "execution_count": 1,
   "metadata": {},
   "outputs": [],
   "source": [
    "import numpy as np\n",
    "from copy import deepcopy\n",
    "import dionysus as d\n",
    "import scipy\n",
    "import pandas as pd\n",
    "import gudhi as gd\n",
    "from collections import Counter\n",
    "import networkx as nx\n",
    "import matplotlib.pyplot as plt\n",
    "\n",
    "\n",
    "from Laplacian_Functions import *\n",
    "from Ren_Functions import *"
   ]
  },
  {
   "cell_type": "code",
   "execution_count": 2,
   "metadata": {},
   "outputs": [
    {
     "data": {
      "text/plain": [
       "3"
      ]
     },
     "execution_count": 2,
     "metadata": {},
     "output_type": "execute_result"
    }
   ],
   "source": [
    "3%4"
   ]
  },
  {
   "cell_type": "code",
   "execution_count": 3,
   "metadata": {},
   "outputs": [
    {
     "data": {
      "image/png": "[encoded data removed]",
      "text/plain": [
       "<Figure size 640x480 with 1 Axes>"
      ]
     },
     "metadata": {},
     "output_type": "display_data"
    }
   ],
   "source": [
    "def create_cycle(n, overlap = 0, start_n=0, overlap_start = 0):\n",
    "    simplices = []\n",
    "    for v_i in range(n):\n",
    "        if v_i < overlap:\n",
    "            simplices.append(([v_i+overlap_start], 0))\n",
    "            if v_i + 1 == overlap:\n",
    "                simplices.append(([v_i+overlap_start, start_n], 1))\n",
    "            else:\n",
    "                simplices.append(([v_i+overlap_start, v_i+overlap_start+1], 1))\n",
    "        elif v_i < n-1:\n",
    "            simplices.append(([v_i+start_n-overlap], 0))\n",
    "            simplices.append(([v_i+start_n-overlap, v_i+1+start_n-overlap], 1))\n",
    "        else:\n",
    "            simplices.append(([v_i+start_n-overlap], 0))\n",
    "            # If you started with overlap, go to overlap_start. Otherwise go to start_n.\n",
    "            simplices.append(([v_i+start_n-overlap, start_n*(overlap==0)+overlap_start*(overlap > 0)], 1))\n",
    "    return simplices\n",
    "    \n",
    "\n",
    "# Drawn\n",
    "simplices = [([0], 0), ([1], 1), ([2], 2), ([3], 3), ([1,0], 4), ([0,3], 5), ([1,3], 6), ([2,3], 7), ([0,2], 8), ([0,1,3], 9)]#, ([0,2,3], 10)]\n",
    "# simplices = [([0], 0), ([1], 1), ([2], 2), ([3], 3), ([1,0], 4), ([0,3], 8), ([1,3], 10), ([2,3], 10.1), ([0,2], 12), ([0,1,3], 12.5)]\n",
    "\n",
    "# Ren paper\n",
    "# simplices = [([0], 0), ([1], 0), ([2], 0), ([3], 0), ([0,2], 1), ([0,3], 1), ([2,3], 1), ([0,1], 2), ([0,2,3], 3)]\n",
    "\n",
    "# Drawn new\n",
    "# simplices = [([0], 0), ([1], 0), ([2], 0), ([3], 1), ([0,1], 2), ([1,2], 2), ([2,3], 2), ([0,2], 3), ([0,3], 3), ([4], 4), ([2,4], 5), ([3,4], 5), ([0,1,2], 6), ([2,3,4], 7)]#, ([0,2,3], 8)]\n",
    "\n",
    "# Test easy\n",
    "# simplices = [([0], 0), ([1], 0), ([2], 0), ([0,1], 0), ([0,2], 0), ([1,2], 0),\n",
    "#              ([3], 1), ([2,3], 1), ([1,3], 1), ([0,1,2], 1), ([1,2,3], 1)]\n",
    "\n",
    "# Test hard\n",
    "# simplices = [([0], 0), ([1], 0), ([2], 0), ([3], 0), ([0,1], 0), ([0,2], 0), ([1,3], 0), ([2,3], 0),\n",
    "#               ([1,2], 1),  ([0,1,2], 1), ([1,2,3], 1)]\n",
    "\n",
    "# Cycles\n",
    "x = 4\n",
    "y = 4\n",
    "z = 4\n",
    "x4 = 5\n",
    "overlap = 3\n",
    "# Three cycles added in order x->y->z, with x and z not connected.\n",
    "# simplices = create_cycle(x) + create_cycle(y, start_n=x, overlap=overlap, overlap_start=x-overlap) + create_cycle(z, start_n=x+y-overlap, overlap=overlap, overlap_start=x+y-2*overlap)\n",
    "# Three cycles added with all of them connecting on overlap vertices.\n",
    "# simplices = create_cycle(x) + create_cycle(y, start_n=x, overlap=overlap) + create_cycle(z, start_n=x+y-overlap, overlap=overlap)\n",
    "# simplices = create_cycle(x) + create_cycle(y, start_n=x, overlap=overlap) + create_cycle(z, start_n=x+y-overlap, overlap=overlap)+ create_cycle(x4, start_n=x+y+z-2*overlap, overlap=overlap)\n",
    "# simplices.append(([7], 0))\n",
    "# simplices.append(([6,7], 1))\n",
    "# simplices = create_cycle(7)\n",
    "# simplices.append(([10], 2))\n",
    "# simplices.append(([0,2], 2))\n",
    "# simplices.append(([0,1,2], 2))\n",
    "# simplices.append(([0,3], 3))\n",
    "# simplices.append(([0,2,3], 3))\n",
    "# print(simplices)\n",
    "\n",
    "f = d.Filtration()\n",
    "for vertices, time in simplices:\n",
    "    f.append(d.Simplex(vertices, time))\n",
    "\n",
    "# Drawing graph\n",
    "G = nx.Graph()\n",
    "f.sort()\n",
    "for s in f:\n",
    "    if s.dimension() == 0:\n",
    "        G.add_node(s[0])\n",
    "    elif s.dimension() == 1:\n",
    "        G.add_edge(s[0], s[1])\n",
    "nx.draw_planar(G, with_labels=True)"
   ]
  },
  {
   "cell_type": "code",
   "execution_count": 4,
   "metadata": {},
   "outputs": [
    {
     "name": "stdout",
     "output_type": "stream",
     "text": [
      "(0.0, 1.0, 2.0, 3.0)\n",
      "(inf, 4.0, 7.0, 5.0)\n"
     ]
    }
   ],
   "source": [
    "p = d.cohomology_persistence(f, 47, True)\n",
    "dgms = d.init_diagrams(p, f)    \n",
    "barcodes = [[(p.birth, p.death) for p in dgms[q]] for q in range(len(dgms))]\n",
    "for k in zip(*barcodes[0]):\n",
    "    print(k)\n"
   ]
  },
  {
   "cell_type": "code",
   "execution_count": 5,
   "metadata": {},
   "outputs": [
    {
     "data": {
      "application/vnd.jupyter.widget-view+json": {
       "model_id": "aa508020b682454fbec0814a2f6f50a8",
       "version_major": 2,
       "version_minor": 0
      },
      "text/plain": [
       "  0%|          | 0/10 [00:00<?, ?it/s]"
      ]
     },
     "metadata": {},
     "output_type": "display_data"
    },
    {
     "data": {
      "application/vnd.jupyter.widget-view+json": {
       "model_id": "6467e589503e48a0bf3d962292f123d9",
       "version_major": 2,
       "version_minor": 0
      },
      "text/plain": [
       "  0%|          | 0/10 [00:00<?, ?it/s]"
      ]
     },
     "metadata": {},
     "output_type": "display_data"
    },
    {
     "name": "stderr",
     "output_type": "stream",
     "text": [
      "/home/siroj/code/Master_thesis/code/Laplacian_Functions.py:609: UserWarning: FigureCanvasAgg is non-interactive, and thus cannot be shown\n",
      "  fig.show()\n"
     ]
    },
    {
     "data": {
      "image/png": "[encoded data removed]",
      "text/plain": [
       "<Figure size 1600x800 with 24 Axes>"
      ]
     },
     "metadata": {},
     "output_type": "display_data"
    }
   ],
   "source": [
    "eigenvalues, relevant_times, fig, ax = plot_persistent_Laplacian_eigenvalues(f, lambda x: 1)"
   ]
  },
  {
   "cell_type": "code",
   "execution_count": 7,
   "metadata": {},
   "outputs": [
    {
     "name": "stdout",
     "output_type": "stream",
     "text": [
      "upL:\n",
      " [[0.]]\n",
      "eval: 0.0, evec: [1.]\n",
      "Product of eigenvalues: 1\n",
      "\n",
      "downL:\n",
      " [[2.]]\n",
      "eval: 2.0, evec: [1.]\n",
      "Product of eigenvalues: 2.0\n",
      "\n",
      "Lap:\n",
      " [[2.]]\n",
      "eval: 2.0, evec: [1.]\n"
     ]
    }
   ],
   "source": [
    "def weight_fun(x):\n",
    "    v = x.split(\",\")\n",
    "    p = 1\n",
    "    # if \"2\" in v:\n",
    "    #     return 2\n",
    "    # if \"0\" in v:\n",
    "    #     p *= 2#**(len(v)/2)\n",
    "    # if \"3\" in v:\n",
    "    #     p *= 3#**(len(v)/2)\n",
    "    return p\n",
    "\n",
    "\n",
    "Lap = compute_Laplacian(f, 1, 4, 4, weight_fun, verb=True)\n",
    "print(\"Lap:\\n\", Lap)\n",
    "eval, evec = np.linalg.eig(Lap)\n",
    "for i in range(len(eval)):\n",
    "    print(f\"eval: {np.round(eval[i], 2)}, evec: {np.round(evec[:,i]/np.min(np.abs(evec[:,i][np.abs(evec[:,i]) > 1e-8])),2)}\", )"
   ]
  },
  {
   "cell_type": "code",
   "execution_count": 32,
   "metadata": {},
   "outputs": [
    {
     "name": "stdout",
     "output_type": "stream",
     "text": [
      "[[-1 -1  0  0]\n",
      " [ 1  0 -1  0]\n",
      " [ 0  0  0 -1]]\n",
      "[[ 1.          0.          0.          0.        ]\n",
      " [ 0.          0.66666667 -0.33333333 -0.33333333]\n",
      " [ 0.         -0.33333333  0.66666667 -0.33333333]\n",
      " [ 0.         -0.33333333 -0.33333333  0.66666667]]\n"
     ]
    },
    {
     "data": {
      "text/plain": [
       "array([[ 1.66666667, -1.33333333, -0.33333333],\n",
       "       [-1.33333333,  1.66666667, -0.33333333],\n",
       "       [-0.33333333, -0.33333333,  0.66666667]])"
      ]
     },
     "execution_count": 32,
     "metadata": {},
     "output_type": "execute_result"
    }
   ],
   "source": [
    "B12 = np.array([[-1,-1,0,0],\n",
    "        [1,0,-1,0],\n",
    "        [0,0,0,-1]])\n",
    "B22 = np.array([[0,1,1,1]])\n",
    "print(B12)\n",
    "print(np.eye(4)-np.linalg.pinv(B22)@B22)\n",
    "B12@(np.eye(4)-np.linalg.pinv(B22)@B22)@B12.T\n",
    "# np.round(np.linalg.pinv(,\n",
    "#                          [0,1,1,1]]))@np.array([[-1,-1,0,0],\n",
    "#                          [1,0,-1,0],\n",
    "#                          [0,0,0,-1],\n",
    "#                          [0,1,1,1]]), 2)"
   ]
  },
  {
   "cell_type": "code",
   "execution_count": 41,
   "metadata": {},
   "outputs": [
    {
     "data": {
      "text/plain": [
       "(array([ 3.32287566e+00, -8.31872381e-19,  6.77124344e-01]),\n",
       " array([[-0.76505532,  0.57735027, -0.28523152],\n",
       "        [ 0.6295454 ,  0.57735027, -0.51994159],\n",
       "        [ 0.13550992,  0.57735027,  0.8051731 ]]))"
      ]
     },
     "execution_count": 41,
     "metadata": {},
     "output_type": "execute_result"
    }
   ],
   "source": [
    "A = np.array([[2,-1.5,-0.5],\n",
    "          [-1.5, 1.5, 0],\n",
    "          [-0.5, 0, 0.5]])\n",
    "eig_val, eig_vec = np.linalg.eig(A)\n",
    "eig_val, eig_vec"
   ]
  },
  {
   "cell_type": "code",
   "execution_count": 43,
   "metadata": {},
   "outputs": [
    {
     "data": {
      "text/plain": [
       "4.000000000000002"
      ]
     },
     "execution_count": 43,
     "metadata": {},
     "output_type": "execute_result"
    }
   ],
   "source": [
    "eig_val[0]+eig_val[2]"
   ]
  },
  {
   "cell_type": "code",
   "execution_count": 34,
   "metadata": {},
   "outputs": [
    {
     "name": "stdout",
     "output_type": "stream",
     "text": [
      "null space: [[-0.57735027 -0.57735027 -0.57735027]\n",
      " [ 0.66666667 -0.33333333 -0.33333333]\n",
      " [-0.33333333  0.66666667 -0.33333333]\n",
      " [-0.33333333 -0.33333333  0.66666667]]\n"
     ]
    },
    {
     "data": {
      "text/plain": [
       "array([[ 1.66666667, -1.33333333, -0.33333333],\n",
       "       [-1.33333333,  1.66666667, -0.33333333],\n",
       "       [-0.33333333, -0.33333333,  0.66666667]])"
      ]
     },
     "execution_count": 34,
     "metadata": {},
     "output_type": "execute_result"
    }
   ],
   "source": [
    "import scipy.linalg as sl\n",
    "\n",
    "ns = sl.null_space(B22)\n",
    "print(\"null space:\", ns)\n",
    "C = B12@ns\n",
    "C@C.T"
   ]
  },
  {
   "cell_type": "code",
   "execution_count": 46,
   "metadata": {},
   "outputs": [
    {
     "name": "stdout",
     "output_type": "stream",
     "text": [
      "[[ 1.          0.          0.        ]\n",
      " [ 0.         -0.40824829 -0.70710678]\n",
      " [ 0.          0.81649658  0.        ]\n",
      " [ 0.         -0.40824829  0.70710678]]\n"
     ]
    },
    {
     "data": {
      "text/plain": [
       "array([[ 1.66666667, -1.33333333, -0.33333333],\n",
       "       [-1.33333333,  1.66666667, -0.33333333],\n",
       "       [-0.33333333, -0.33333333,  0.66666667]])"
      ]
     },
     "execution_count": 46,
     "metadata": {},
     "output_type": "execute_result"
    }
   ],
   "source": [
    "sqrt_2 = np.sqrt(2)\n",
    "sqrt_6 = np.sqrt(6)\n",
    "my_ns = np.array([[1,0,0],\n",
    "                  [0,-1/sqrt_6, -1/sqrt_2],\n",
    "                  [0,2/sqrt_6, 0],\n",
    "                  [0,-1/sqrt_6,1/sqrt_2]])\n",
    "print(my_ns)\n",
    "my_C = B12@my_ns\n",
    "my_C@my_C.T"
   ]
  },
  {
   "cell_type": "code",
   "execution_count": 25,
   "metadata": {},
   "outputs": [
    {
     "data": {
      "text/plain": [
       "array([[ 0.57735027, -0.0893164 , -0.9106836 ,  0.9106836 ],\n",
       "       [ 0.57735027, -0.24401694,  1.24401694, -0.24401694],\n",
       "       [ 0.57735027,  0.33333333, -0.33333333, -0.66666667]])"
      ]
     },
     "execution_count": 25,
     "metadata": {},
     "output_type": "execute_result"
    }
   ],
   "source": [
    "svd = np.linalg.svd(B22)\n",
    "B12@svd.Vh"
   ]
  },
  {
   "cell_type": "code",
   "execution_count": 4,
   "metadata": {},
   "outputs": [
    {
     "data": {
      "text/plain": [
       "array([[ 2., -1.,  0., -1.,  0.,  0.,  0.,  0.,  0.,  0.,  0.,  0.,  0.,\n",
       "         0.],\n",
       "       [-1.,  2., -1.,  0.,  0.,  0.,  0.,  0.,  0.,  0.,  0.,  0.,  0.,\n",
       "         0.],\n",
       "       [ 0., -1.,  2., -1.,  0.,  0.,  0.,  0.,  0.,  0.,  0.,  0.,  0.,\n",
       "         0.],\n",
       "       [-1.,  0., -1.,  4., -1.,  0.,  0.,  0.,  0., -1.,  0.,  0.,  0.,\n",
       "         0.],\n",
       "       [ 0.,  0.,  0., -1.,  2., -1.,  0.,  0.,  0.,  0.,  0.,  0.,  0.,\n",
       "         0.],\n",
       "       [ 0.,  0.,  0.,  0., -1.,  2., -1.,  0.,  0.,  0.,  0.,  0.,  0.,\n",
       "         0.],\n",
       "       [ 0.,  0.,  0.,  0.,  0., -1.,  2., -1.,  0.,  0.,  0.,  0.,  0.,\n",
       "         0.],\n",
       "       [ 0.,  0.,  0.,  0.,  0.,  0., -1.,  2., -1.,  0.,  0.,  0.,  0.,\n",
       "         0.],\n",
       "       [ 0.,  0.,  0.,  0.,  0.,  0.,  0., -1.,  2., -1.,  0.,  0.,  0.,\n",
       "         0.],\n",
       "       [ 0.,  0.,  0., -1.,  0.,  0.,  0.,  0., -1.,  4., -1.,  0.,  0.,\n",
       "        -1.],\n",
       "       [ 0.,  0.,  0.,  0.,  0.,  0.,  0.,  0.,  0., -1.,  2., -1.,  0.,\n",
       "         0.],\n",
       "       [ 0.,  0.,  0.,  0.,  0.,  0.,  0.,  0.,  0.,  0., -1.,  2., -1.,\n",
       "         0.],\n",
       "       [ 0.,  0.,  0.,  0.,  0.,  0.,  0.,  0.,  0.,  0.,  0., -1.,  2.,\n",
       "        -1.],\n",
       "       [ 0.,  0.,  0.,  0.,  0.,  0.,  0.,  0.,  0., -1.,  0.,  0., -1.,\n",
       "         2.]])"
      ]
     },
     "execution_count": 4,
     "metadata": {},
     "output_type": "execute_result"
    }
   ],
   "source": [
    "compute_Laplacian(f, 0, 3, 5, lambda x: 1)"
   ]
  },
  {
   "cell_type": "code",
   "execution_count": 33,
   "metadata": {},
   "outputs": [
    {
     "data": {
      "text/html": [
       "<div>\n",
       "<style scoped>\n",
       "    .dataframe tbody tr th:only-of-type {\n",
       "        vertical-align: middle;\n",
       "    }\n",
       "\n",
       "    .dataframe tbody tr th {\n",
       "        vertical-align: top;\n",
       "    }\n",
       "\n",
       "    .dataframe thead th {\n",
       "        text-align: right;\n",
       "    }\n",
       "</style>\n",
       "<table border=\"1\" class=\"dataframe\">\n",
       "  <thead>\n",
       "    <tr style=\"text-align: right;\">\n",
       "      <th></th>\n",
       "      <th>birth</th>\n",
       "      <th>death</th>\n",
       "      <th>multiplicity</th>\n",
       "      <th>eigenvalues_ijm1</th>\n",
       "      <th>eigenvalues_ij</th>\n",
       "      <th>eigenvalues_im1jm1</th>\n",
       "      <th>eigenvalues_im1j</th>\n",
       "      <th>p_ijm1</th>\n",
       "      <th>p_ij</th>\n",
       "      <th>p_im1jm1</th>\n",
       "      <th>p_im1j</th>\n",
       "    </tr>\n",
       "  </thead>\n",
       "  <tbody>\n",
       "    <tr>\n",
       "      <th>0</th>\n",
       "      <td>0.0</td>\n",
       "      <td>1.0</td>\n",
       "      <td>7</td>\n",
       "      <td>[0.0, 0.0, 0.0, 0.0, 0.0, 0.0, 0.0, 0.0]</td>\n",
       "      <td>[-0.0, 0.64, 1.53, 2.0, 2.5, 3.5, 4.47, 5.36]</td>\n",
       "      <td>[]</td>\n",
       "      <td>[]</td>\n",
       "      <td>1</td>\n",
       "      <td>408.0</td>\n",
       "      <td>1</td>\n",
       "      <td>1</td>\n",
       "    </tr>\n",
       "    <tr>\n",
       "      <th>1</th>\n",
       "      <td>0.0</td>\n",
       "      <td>inf</td>\n",
       "      <td>1</td>\n",
       "      <td>[0.0, 0.0, 0.0, 0.0, 0.0, 0.0, 0.0, 0.0]</td>\n",
       "      <td>[-0.0, 0.64, 1.53, 2.0, 2.5, 3.5, 4.47, 5.36]</td>\n",
       "      <td>[]</td>\n",
       "      <td>[]</td>\n",
       "      <td>1</td>\n",
       "      <td>408.0</td>\n",
       "      <td>1</td>\n",
       "      <td>1</td>\n",
       "    </tr>\n",
       "  </tbody>\n",
       "</table>\n",
       "</div>"
      ],
      "text/plain": [
       "   birth  death  multiplicity                          eigenvalues_ijm1  \\\n",
       "0    0.0    1.0             7  [0.0, 0.0, 0.0, 0.0, 0.0, 0.0, 0.0, 0.0]   \n",
       "1    0.0    inf             1  [0.0, 0.0, 0.0, 0.0, 0.0, 0.0, 0.0, 0.0]   \n",
       "\n",
       "                                  eigenvalues_ij eigenvalues_im1jm1  \\\n",
       "0  [-0.0, 0.64, 1.53, 2.0, 2.5, 3.5, 4.47, 5.36]                 []   \n",
       "1  [-0.0, 0.64, 1.53, 2.0, 2.5, 3.5, 4.47, 5.36]                 []   \n",
       "\n",
       "  eigenvalues_im1j  p_ijm1   p_ij  p_im1jm1  p_im1j  \n",
       "0               []       1  408.0         1       1  \n",
       "1               []       1  408.0         1       1  "
      ]
     },
     "metadata": {},
     "output_type": "display_data"
    },
    {
     "data": {
      "text/html": [
       "<div>\n",
       "<style scoped>\n",
       "    .dataframe tbody tr th:only-of-type {\n",
       "        vertical-align: middle;\n",
       "    }\n",
       "\n",
       "    .dataframe tbody tr th {\n",
       "        vertical-align: top;\n",
       "    }\n",
       "\n",
       "    .dataframe thead th {\n",
       "        text-align: right;\n",
       "    }\n",
       "</style>\n",
       "<table border=\"1\" class=\"dataframe\">\n",
       "  <thead>\n",
       "    <tr style=\"text-align: right;\">\n",
       "      <th></th>\n",
       "      <th>birth</th>\n",
       "      <th>death</th>\n",
       "      <th>multiplicity</th>\n",
       "      <th>eigenvalues_ijm1</th>\n",
       "      <th>eigenvalues_ij</th>\n",
       "      <th>eigenvalues_im1jm1</th>\n",
       "      <th>eigenvalues_im1j</th>\n",
       "      <th>p_ijm1</th>\n",
       "      <th>p_ij</th>\n",
       "      <th>p_im1jm1</th>\n",
       "      <th>p_im1j</th>\n",
       "    </tr>\n",
       "  </thead>\n",
       "  <tbody>\n",
       "    <tr>\n",
       "      <th>2</th>\n",
       "      <td>1.0</td>\n",
       "      <td>inf</td>\n",
       "      <td>3</td>\n",
       "      <td>[]</td>\n",
       "      <td>[-0.0, -0.0, 0.0, 0.64, 1.53, 2.0, 2.5, 3.5, 4...</td>\n",
       "      <td>[]</td>\n",
       "      <td>[]</td>\n",
       "      <td>1</td>\n",
       "      <td>408.0</td>\n",
       "      <td>1</td>\n",
       "      <td>1</td>\n",
       "    </tr>\n",
       "  </tbody>\n",
       "</table>\n",
       "</div>"
      ],
      "text/plain": [
       "   birth  death  multiplicity eigenvalues_ijm1  \\\n",
       "2    1.0    inf             3               []   \n",
       "\n",
       "                                      eigenvalues_ij eigenvalues_im1jm1  \\\n",
       "2  [-0.0, -0.0, 0.0, 0.64, 1.53, 2.0, 2.5, 3.5, 4...                 []   \n",
       "\n",
       "  eigenvalues_im1j  p_ijm1   p_ij  p_im1jm1  p_im1j  \n",
       "2               []       1  408.0         1       1  "
      ]
     },
     "metadata": {},
     "output_type": "display_data"
    },
    {
     "data": {
      "text/html": [
       "<div>\n",
       "<style scoped>\n",
       "    .dataframe tbody tr th:only-of-type {\n",
       "        vertical-align: middle;\n",
       "    }\n",
       "\n",
       "    .dataframe tbody tr th {\n",
       "        vertical-align: top;\n",
       "    }\n",
       "\n",
       "    .dataframe thead th {\n",
       "        text-align: right;\n",
       "    }\n",
       "</style>\n",
       "<table border=\"1\" class=\"dataframe\">\n",
       "  <thead>\n",
       "    <tr style=\"text-align: right;\">\n",
       "      <th></th>\n",
       "    </tr>\n",
       "  </thead>\n",
       "  <tbody>\n",
       "  </tbody>\n",
       "</table>\n",
       "</div>"
      ],
      "text/plain": [
       "Empty DataFrame\n",
       "Columns: []\n",
       "Index: []"
      ]
     },
     "execution_count": 33,
     "metadata": {},
     "output_type": "execute_result"
    }
   ],
   "source": [
    "def weight_fun(x):\n",
    "    if \"1\" in x:\n",
    "        return 1\n",
    "    return 1\n",
    "\n",
    "\n",
    "barcodes_df = complete_analysis_fast(f, weight_fun)\n",
    "# print(np.round(barcodes_df.loc[2, \"p_ij\"], 2))\n",
    "barcodes_df.apply(lambda x: x.apply(lambda y: np.round(y, 2) if y is not None else None).apply(lambda y: np.sort(y) if type(y) == np.ndarray else y), axis=1).groupby(\"q\").apply(display, include_groups=False)\n"
   ]
  },
  {
   "cell_type": "code",
   "execution_count": 188,
   "metadata": {},
   "outputs": [
    {
     "name": "stdout",
     "output_type": "stream",
     "text": [
      "[[ 2.  1. -1.  0.  0.  0.]\n",
      " [ 1.  2.  0.  0.  0.  1.]\n",
      " [-1.  0.  2. -1.  0.  0.]\n",
      " [ 0.  0. -1.  2. -1.  0.]\n",
      " [ 0.  0.  0. -1.  2. -1.]\n",
      " [ 0.  1.  0.  0. -1.  2.]]\n",
      "[-1.11022302e-16  1.00000000e+00  4.00000000e+00  3.00000000e+00\n",
      "  1.00000000e+00  3.00000000e+00]\n",
      "<0> 0 - <1> 0 - <2> 0 - <3> 0 - <4> 0 - <5> 0 - <0,1> 1 - <0,5> 1 - <1,2> 1 - <2,3> 1 - <3,4> 1 - <4,5> 1 - "
     ]
    },
    {
     "data": {
      "image/png": "[encoded data removed]",
      "text/plain": [
       "<Figure size 640x480 with 1 Axes>"
      ]
     },
     "metadata": {},
     "output_type": "display_data"
    }
   ],
   "source": [
    "x=6\n",
    "simplices = create_cycle(x)\n",
    "f = d.Filtration()\n",
    "for vertices, time in simplices:\n",
    "    f.append(d.Simplex(vertices, time))\n",
    "\n",
    "Lap = compute_Laplacian(f, 1, 1, 1, lambda x: 1)\n",
    "print(Lap)\n",
    "print(np.linalg.eig(Lap)[0])\n",
    "G = nx.Graph()\n",
    "f.sort()\n",
    "for s in f:\n",
    "    print(s, end=\" - \")\n",
    "    if s.dimension() == 0:\n",
    "        G.add_node(s[0])\n",
    "    elif s.dimension() == 1:\n",
    "        G.add_edge(s[0], s[1])\n",
    "nx.draw_planar(G, with_labels=True)"
   ]
  },
  {
   "cell_type": "code",
   "execution_count": 185,
   "metadata": {},
   "outputs": [
    {
     "data": {
      "text/plain": [
       "EigResult(eigenvalues=array([-6.66133815e-16,  2.00000000e+00,  4.00000000e+00,  2.00000000e+00]), eigenvectors=array([[ 5.00000000e-01,  7.07106781e-01, -5.00000000e-01,\n",
       "         5.55111512e-17],\n",
       "       [ 5.00000000e-01, -2.74466000e-16,  5.00000000e-01,\n",
       "        -7.07106781e-01],\n",
       "       [ 5.00000000e-01, -7.07106781e-01, -5.00000000e-01,\n",
       "         2.58507341e-16],\n",
       "       [ 5.00000000e-01,  3.08103393e-17,  5.00000000e-01,\n",
       "         7.07106781e-01]]))"
      ]
     },
     "execution_count": 185,
     "metadata": {},
     "output_type": "execute_result"
    }
   ],
   "source": [
    "# A = np.array([[2,-1,0,0,-1],\n",
    "#               [-1,2,-1,0,0],\n",
    "#               [0,-1,2,-1,0],\n",
    "#               [0,0,-1,2,-1],\n",
    "#               [-1,0,0,-1,2]])\n",
    "A = np.array([[2,-1,0,-1],\n",
    "              [-1,2,-1,0],\n",
    "              [0,-1,2,-1],\n",
    "              [-1,0,-1,2]])\n",
    "np.linalg.eig(A)"
   ]
  },
  {
   "cell_type": "code",
   "execution_count": null,
   "metadata": {},
   "outputs": [
    {
     "data": {
      "text/plain": [
       "1.9999999999999996"
      ]
     },
     "execution_count": 189,
     "metadata": {},
     "output_type": "execute_result"
    }
   ],
   "source": [
    "n=4\n"
   ]
  },
  {
   "cell_type": "code",
   "execution_count": 168,
   "metadata": {},
   "outputs": [
    {
     "name": "stdout",
     "output_type": "stream",
     "text": [
      "Coefficients: [  1.   1.   1.  -8.  -9.  -9.  -9. -18. -18. -18. 126. 126. 126.], intercept: -432.0000000551663\n",
      "Certainty: 1.0\n"
     ]
    }
   ],
   "source": [
    "import sklearn\n",
    "import sklearn.linear_model\n",
    "overlap = 4\n",
    "\n",
    "results = {}\n",
    "results_np = []\n",
    "amount_good = 0\n",
    "\n",
    "for z in range(2*overlap+2, 10+2*overlap):\n",
    "    results[z] = {}\n",
    "    for x in range(2*overlap+2, 10+2*overlap):\n",
    "        results[z][x] = {}\n",
    "        for y in range(2*overlap+2, 10+2*overlap):\n",
    "            # Three cycles added in order x->y->z, with x and z not connected.\n",
    "            # simplices = create_cycle(x) + create_cycle(y, start_n=x, overlap=overlap, overlap_start=x-overlap) + create_cycle(z, start_n=x+y-overlap, overlap=overlap, overlap_start=x+y-2*overlap)\n",
    "            # Three cycles added with all of them connecting on overlap vertices.\n",
    "            simplices = create_cycle(x) + create_cycle(y, start_n=x, overlap=overlap) + create_cycle(z, start_n=x+y-overlap, overlap=overlap)\n",
    "            f = d.Filtration()\n",
    "            for vertices, time in simplices:\n",
    "                f.append(d.Simplex(vertices, time))\n",
    "            Lap = compute_Laplacian(f, 1, 1, 1, lambda x: 1)\n",
    "            positive_evals = [i for i in np.linalg.eig(Lap)[0] if i > 1e-8]\n",
    "            res = 1\n",
    "            for eval in positive_evals:\n",
    "                res *= eval\n",
    "            res = res.real\n",
    "            # barcodes_df = complete_analysis_fast(f, weight_fun)\n",
    "            # res = (np.round(barcodes_df.loc[2, \"p_ij\"], 2)).real\n",
    "            results[z][x][y] = (res)\n",
    "            results_np.append([x**2*y*z, x*y**2*z, x*y*z**2, x*y*z, x**2, y**2, z**2, x*y, x*z, y*z, x,y,z,res])\n",
    "    # print(f\"z={z}\")\n",
    "    # display(pd.DataFrame(results[z]))\n",
    "results_np = np.array(results_np)\n",
    "linear_model = sklearn.linear_model.LinearRegression()\n",
    "linear_model.fit(results_np[:, :-1], results_np[:, -1])\n",
    "print(f\"Coefficients: {np.round(linear_model.coef_, 2)}, intercept: {linear_model.intercept_}\")\n",
    "print(\"Certainty:\",linear_model.score(results_np[:, :-1], results_np[:, -1]))"
   ]
  },
  {
   "cell_type": "code",
   "execution_count": 170,
   "metadata": {},
   "outputs": [
    {
     "name": "stdout",
     "output_type": "stream",
     "text": [
      "Coefficients: [ 9.99999999e-01  1.00000000e+00 -3.20999999e+02 -1.02400000e+05\n",
      " -1.02400000e+05], intercept: 32870399.972475786\n",
      "Certainty: 1.0\n"
     ]
    }
   ],
   "source": [
    "overlap = 321\n",
    "\n",
    "results_np = []\n",
    "results = {}\n",
    "\n",
    "for x in range(overlap+1, overlap+7):\n",
    "    results[x] = {}\n",
    "    for y in range(overlap+1, overlap+7):\n",
    "        simplices = create_cycle(x) + create_cycle(y, start_n=x, overlap=overlap)\n",
    "\n",
    "        f = d.Filtration()\n",
    "        for vertices, time in simplices:\n",
    "            f.append(d.Simplex(vertices, time))\n",
    "\n",
    "        Lap = compute_Laplacian(f, 1, 1, 1, lambda x: 1)\n",
    "        positive_evals = [i for i in np.linalg.eig(Lap)[0] if i > 1e-8]\n",
    "        res = 1\n",
    "        for eval in positive_evals:\n",
    "            res *= eval\n",
    "        res = res.real\n",
    "        results[x][y] = (res)\n",
    "        results_np.append([x**2*y, x*y**2, x*y, x, y ,res])\n",
    "# display(pd.DataFrame(results))\n",
    "results_np = np.array(results_np)\n",
    "linear_model = sklearn.linear_model.LinearRegression()\n",
    "linear_model.fit(results_np[:, :-1], results_np[:, -1])\n",
    "print(f\"Coefficients: {linear_model.coef_}, intercept: {linear_model.intercept_}\")\n",
    "print(\"Certainty:\",linear_model.score(results_np[:, :-1], results_np[:, -1]))"
   ]
  },
  {
   "cell_type": "code",
   "execution_count": 169,
   "metadata": {},
   "outputs": [
    {
     "name": "stdout",
     "output_type": "stream",
     "text": [
      "Coefficients: [1. 1. 1. 1.]\n",
      "[-21.]\n",
      "[-108. -108. -108. -108.  -36.  -36.  -36.  -36.  -36.  -36.  -36.  -36.\n",
      "  -36.  -36.  -36.  -36.]\n",
      "[   432.    432.    432.    432.   1620.   1620.   1620.   1620.   1620.\n",
      "   1620. -12960. -12960. -12960. -12960.]\n",
      ", intercept: 81648.0\n",
      "Certainty: 1.0\n"
     ]
    }
   ],
   "source": [
    "import sklearn\n",
    "import sklearn.linear_model\n",
    "overlap = 7\n",
    "\n",
    "results_np = []\n",
    "amount_good = 0\n",
    "\n",
    "\n",
    "for x in range(2*overlap+2, 7+2*overlap):\n",
    "    for y in range(2*overlap+2, 7+2*overlap):\n",
    "        for z in range(2*overlap+2, 7+2*overlap):\n",
    "            for x4 in range(2*overlap+2, 7+2*overlap):\n",
    "                # Three cycles added in order x->y->z, with x and z not connected.\n",
    "                # simplices = create_cycle(x) + create_cycle(y, start_n=x, overlap=overlap, overlap_start=x-overlap) + create_cycle(z, start_n=x+y-overlap, overlap=overlap, overlap_start=x+y-2*overlap)\n",
    "                # Three cycles added with all of them connecting on overlap vertices.\n",
    "                simplices = create_cycle(x) + create_cycle(y, start_n=x, overlap=overlap) + create_cycle(z, start_n=x+y-overlap, overlap=overlap)+ create_cycle(x4, start_n=x+y+z-2*overlap, overlap=overlap)\n",
    "                f = d.Filtration()\n",
    "                for vertices, time in simplices:\n",
    "                    f.append(d.Simplex(vertices, time))\n",
    "                \n",
    "                Lap = compute_Laplacian(f, 1, 1, 1, lambda x: 1)\n",
    "                positive_evals = [i for i in np.linalg.eig(Lap)[0] if i > 1e-8]\n",
    "                res = 1\n",
    "                for eval in positive_evals:\n",
    "                    res *= eval\n",
    "                res = res.real\n",
    "\n",
    "                results_np.append([x**2*y*z*x4, x*y**2*z*x4, x*y*z**2*x4, x*y*z*x4**2, \n",
    "                                   x*y*z*x4, \n",
    "                                   x*y*z, x*y*x4, x*z*x4, y*z*x4, x**2*y, x**2*z, x**2*x4, y**2*x, y**2*z, y**2*x4, z**2*x, z**2*y, z**2*x4, x4**2*x, x4**2*y, x4**2*z,\n",
    "                                    x**2, y**2, z**2, x4**2, x*y, x*z, x*x4, y*z, y*x4, z*x4, x, y, z, x4, res])\n",
    "    # print(f\"z={z}\")\n",
    "    # display(pd.DataFrame(results[z]))\n",
    "results_np = np.array(results_np)\n",
    "linear_model = sklearn.linear_model.LinearRegression()\n",
    "linear_model.fit(results_np[:, :-1], results_np[:, -1])\n",
    "coefs = np.round(linear_model.coef_, 2)\n",
    "print(f\"Coefficients: {coefs[:4]}\\n{coefs[4:5]}\\n{coefs[5:21]}\\n{coefs[21:]}\\n, intercept: {np.round(linear_model.intercept_, 2)}\")\n",
    "print(\"Certainty:\",linear_model.score(results_np[:, :-1], results_np[:, -1]))"
   ]
  },
  {
   "cell_type": "code",
   "execution_count": 93,
   "metadata": {},
   "outputs": [
    {
     "data": {
      "text/plain": [
       "32870400"
      ]
     },
     "execution_count": 93,
     "metadata": {},
     "output_type": "execute_result"
    }
   ],
   "source": [
    "320**3+320**2"
   ]
  },
  {
   "cell_type": "code",
   "execution_count": 28,
   "metadata": {},
   "outputs": [
    {
     "data": {
      "application/vnd.jupyter.widget-view+json": {
       "model_id": "23553d54d5ad4aed9ff7c901569f5a3d",
       "version_major": 2,
       "version_minor": 0
      },
      "text/plain": [
       "  0%|          | 0/10 [00:00<?, ?it/s]"
      ]
     },
     "metadata": {},
     "output_type": "display_data"
    },
    {
     "data": {
      "application/vnd.jupyter.widget-view+json": {
       "model_id": "5d73aa3daff14f63967fb3a738681b8a",
       "version_major": 2,
       "version_minor": 0
      },
      "text/plain": [
       "  0%|          | 0/10 [00:00<?, ?it/s]"
      ]
     },
     "metadata": {},
     "output_type": "display_data"
    },
    {
     "data": {
      "text/html": [
       "<div>\n",
       "<style scoped>\n",
       "    .dataframe tbody tr th:only-of-type {\n",
       "        vertical-align: middle;\n",
       "    }\n",
       "\n",
       "    .dataframe tbody tr th {\n",
       "        vertical-align: top;\n",
       "    }\n",
       "\n",
       "    .dataframe thead th {\n",
       "        text-align: right;\n",
       "    }\n",
       "</style>\n",
       "<table border=\"1\" class=\"dataframe\">\n",
       "  <thead>\n",
       "    <tr style=\"text-align: right;\">\n",
       "      <th></th>\n",
       "      <th>birth</th>\n",
       "      <th>death</th>\n",
       "      <th>multiplicity</th>\n",
       "      <th>eigenvalues_ijm1</th>\n",
       "      <th>eigenvalues_ij</th>\n",
       "      <th>eigenvalues_im1jm1</th>\n",
       "      <th>eigenvalues_im1j</th>\n",
       "      <th>p_ijm1</th>\n",
       "      <th>p_ij</th>\n",
       "      <th>p_im1jm1</th>\n",
       "      <th>p_im1j</th>\n",
       "    </tr>\n",
       "  </thead>\n",
       "  <tbody>\n",
       "    <tr>\n",
       "      <th>0</th>\n",
       "      <td>1.0</td>\n",
       "      <td>4.0</td>\n",
       "      <td>1</td>\n",
       "      <td>[0.0, 0.0]</td>\n",
       "      <td>[0.0, 2.0]</td>\n",
       "      <td>[0.0]</td>\n",
       "      <td>[0.0]</td>\n",
       "      <td>1.0</td>\n",
       "      <td>2.0</td>\n",
       "      <td>1.0</td>\n",
       "      <td>1.0</td>\n",
       "    </tr>\n",
       "    <tr>\n",
       "      <th>1</th>\n",
       "      <td>3.0</td>\n",
       "      <td>5.0</td>\n",
       "      <td>1</td>\n",
       "      <td>[0.0, 0.0, 0.0, 2.0]</td>\n",
       "      <td>[-0.0, 0.0, 1.0, 3.0]</td>\n",
       "      <td>[0.0, 0.0, 2.0]</td>\n",
       "      <td>[0.0, 0.0, 2.0]</td>\n",
       "      <td>2.0</td>\n",
       "      <td>3.0</td>\n",
       "      <td>2.0</td>\n",
       "      <td>2.0</td>\n",
       "    </tr>\n",
       "    <tr>\n",
       "      <th>2</th>\n",
       "      <td>2.0</td>\n",
       "      <td>7.0</td>\n",
       "      <td>1</td>\n",
       "      <td>[-0.0, 0.0, 3.0]</td>\n",
       "      <td>[0.0, 1.0, 3.0]</td>\n",
       "      <td>[-0.0, 3.0]</td>\n",
       "      <td>[0.0, 3.0]</td>\n",
       "      <td>3.0</td>\n",
       "      <td>3.0</td>\n",
       "      <td>3.0</td>\n",
       "      <td>3.0</td>\n",
       "    </tr>\n",
       "    <tr>\n",
       "      <th>3</th>\n",
       "      <td>0.0</td>\n",
       "      <td>inf</td>\n",
       "      <td>1</td>\n",
       "      <td>[0.0]</td>\n",
       "      <td>[0.0]</td>\n",
       "      <td>[]</td>\n",
       "      <td>[]</td>\n",
       "      <td>1.0</td>\n",
       "      <td>1.0</td>\n",
       "      <td>1.0</td>\n",
       "      <td>1.0</td>\n",
       "    </tr>\n",
       "  </tbody>\n",
       "</table>\n",
       "</div>"
      ],
      "text/plain": [
       "   birth  death  multiplicity      eigenvalues_ijm1         eigenvalues_ij  \\\n",
       "0    1.0    4.0             1            [0.0, 0.0]             [0.0, 2.0]   \n",
       "1    3.0    5.0             1  [0.0, 0.0, 0.0, 2.0]  [-0.0, 0.0, 1.0, 3.0]   \n",
       "2    2.0    7.0             1      [-0.0, 0.0, 3.0]        [0.0, 1.0, 3.0]   \n",
       "3    0.0    inf             1                 [0.0]                  [0.0]   \n",
       "\n",
       "  eigenvalues_im1jm1 eigenvalues_im1j  p_ijm1  p_ij  p_im1jm1  p_im1j  \n",
       "0              [0.0]            [0.0]     1.0   2.0       1.0     1.0  \n",
       "1    [0.0, 0.0, 2.0]  [0.0, 0.0, 2.0]     2.0   3.0       2.0     2.0  \n",
       "2        [-0.0, 3.0]       [0.0, 3.0]     3.0   3.0       3.0     3.0  \n",
       "3                 []               []     1.0   1.0       1.0     1.0  "
      ]
     },
     "metadata": {},
     "output_type": "display_data"
    },
    {
     "data": {
      "text/html": [
       "<div>\n",
       "<style scoped>\n",
       "    .dataframe tbody tr th:only-of-type {\n",
       "        vertical-align: middle;\n",
       "    }\n",
       "\n",
       "    .dataframe tbody tr th {\n",
       "        vertical-align: top;\n",
       "    }\n",
       "\n",
       "    .dataframe thead th {\n",
       "        text-align: right;\n",
       "    }\n",
       "</style>\n",
       "<table border=\"1\" class=\"dataframe\">\n",
       "  <thead>\n",
       "    <tr style=\"text-align: right;\">\n",
       "      <th></th>\n",
       "      <th>birth</th>\n",
       "      <th>death</th>\n",
       "      <th>multiplicity</th>\n",
       "      <th>eigenvalues_ijm1</th>\n",
       "      <th>eigenvalues_ij</th>\n",
       "      <th>eigenvalues_im1jm1</th>\n",
       "      <th>eigenvalues_im1j</th>\n",
       "      <th>p_ijm1</th>\n",
       "      <th>p_ij</th>\n",
       "      <th>p_im1jm1</th>\n",
       "      <th>p_im1j</th>\n",
       "    </tr>\n",
       "  </thead>\n",
       "  <tbody>\n",
       "    <tr>\n",
       "      <th>4</th>\n",
       "      <td>6.0</td>\n",
       "      <td>9.0</td>\n",
       "      <td>1</td>\n",
       "      <td>[-0.0, 3.0, 3.0]</td>\n",
       "      <td>[3.0, 3.0, 3.0]</td>\n",
       "      <td>[1.0, 3.0]</td>\n",
       "      <td>[1.0, 3.0]</td>\n",
       "      <td>9.0</td>\n",
       "      <td>27.0</td>\n",
       "      <td>3.0</td>\n",
       "      <td>3.0</td>\n",
       "    </tr>\n",
       "    <tr>\n",
       "      <th>5</th>\n",
       "      <td>8.0</td>\n",
       "      <td>inf</td>\n",
       "      <td>1</td>\n",
       "      <td>[0.0, -0.0, 2.0, 7.0, 7.0]</td>\n",
       "      <td>[-0.0, 2.0, 3.0, 7.0, 7.0]</td>\n",
       "      <td>[-0.0, 1.0, 3.0, 7.0]</td>\n",
       "      <td>[1.0, 3.0, 3.0, 7.0]</td>\n",
       "      <td>98.0</td>\n",
       "      <td>294.0</td>\n",
       "      <td>21.0</td>\n",
       "      <td>63.0</td>\n",
       "    </tr>\n",
       "  </tbody>\n",
       "</table>\n",
       "</div>"
      ],
      "text/plain": [
       "   birth  death  multiplicity            eigenvalues_ijm1  \\\n",
       "4    6.0    9.0             1            [-0.0, 3.0, 3.0]   \n",
       "5    8.0    inf             1  [0.0, -0.0, 2.0, 7.0, 7.0]   \n",
       "\n",
       "               eigenvalues_ij     eigenvalues_im1jm1      eigenvalues_im1j  \\\n",
       "4             [3.0, 3.0, 3.0]             [1.0, 3.0]            [1.0, 3.0]   \n",
       "5  [-0.0, 2.0, 3.0, 7.0, 7.0]  [-0.0, 1.0, 3.0, 7.0]  [1.0, 3.0, 3.0, 7.0]   \n",
       "\n",
       "   p_ijm1   p_ij  p_im1jm1  p_im1j  \n",
       "4     9.0   27.0       3.0     3.0  \n",
       "5    98.0  294.0      21.0    63.0  "
      ]
     },
     "metadata": {},
     "output_type": "display_data"
    },
    {
     "data": {
      "text/html": [
       "<div>\n",
       "<style scoped>\n",
       "    .dataframe tbody tr th:only-of-type {\n",
       "        vertical-align: middle;\n",
       "    }\n",
       "\n",
       "    .dataframe tbody tr th {\n",
       "        vertical-align: top;\n",
       "    }\n",
       "\n",
       "    .dataframe thead th {\n",
       "        text-align: right;\n",
       "    }\n",
       "</style>\n",
       "<table border=\"1\" class=\"dataframe\">\n",
       "  <thead>\n",
       "    <tr style=\"text-align: right;\">\n",
       "      <th></th>\n",
       "    </tr>\n",
       "  </thead>\n",
       "  <tbody>\n",
       "  </tbody>\n",
       "</table>\n",
       "</div>"
      ],
      "text/plain": [
       "Empty DataFrame\n",
       "Columns: []\n",
       "Index: []"
      ]
     },
     "execution_count": 28,
     "metadata": {},
     "output_type": "execute_result"
    }
   ],
   "source": [
    "def weight_fun(x):\n",
    "    v = x.split(\",\")\n",
    "    if \"2\" in v:\n",
    "        return 2#**(len(v)/2)\n",
    "    return 1\n",
    "\n",
    "barcodes_df = complete_analysis_fast(f, weight_fun)\n",
    "barcodes_df.apply(lambda x: x.apply(lambda y: np.round(y, 2) if y is not None else None).apply(lambda y: np.sort(y) if type(y) == np.ndarray else y), axis=1).groupby(\"q\").apply(display, include_groups=False)"
   ]
  },
  {
   "cell_type": "code",
   "execution_count": 6,
   "metadata": {},
   "outputs": [
    {
     "data": {
      "application/vnd.jupyter.widget-view+json": {
       "model_id": "724ef9290ddb49d09636e233c3ea7f95",
       "version_major": 2,
       "version_minor": 0
      },
      "text/plain": [
       "  0%|          | 0/10 [00:00<?, ?it/s]"
      ]
     },
     "metadata": {},
     "output_type": "display_data"
    },
    {
     "data": {
      "application/vnd.jupyter.widget-view+json": {
       "model_id": "ea4e63999a6b4393b14d793cb72f3619",
       "version_major": 2,
       "version_minor": 0
      },
      "text/plain": [
       "  0%|          | 0/10 [00:00<?, ?it/s]"
      ]
     },
     "metadata": {},
     "output_type": "display_data"
    },
    {
     "data": {
      "text/html": [
       "<div>\n",
       "<style scoped>\n",
       "    .dataframe tbody tr th:only-of-type {\n",
       "        vertical-align: middle;\n",
       "    }\n",
       "\n",
       "    .dataframe tbody tr th {\n",
       "        vertical-align: top;\n",
       "    }\n",
       "\n",
       "    .dataframe thead th {\n",
       "        text-align: right;\n",
       "    }\n",
       "</style>\n",
       "<table border=\"1\" class=\"dataframe\">\n",
       "  <thead>\n",
       "    <tr style=\"text-align: right;\">\n",
       "      <th></th>\n",
       "      <th>birth</th>\n",
       "      <th>death</th>\n",
       "      <th>multiplicity</th>\n",
       "      <th>eigenvalues_ijm1</th>\n",
       "      <th>eigenvalues_ij</th>\n",
       "      <th>eigenvalues_im1jm1</th>\n",
       "      <th>eigenvalues_im1j</th>\n",
       "      <th>p_ijm1</th>\n",
       "      <th>p_ij</th>\n",
       "      <th>p_im1jm1</th>\n",
       "      <th>p_im1j</th>\n",
       "    </tr>\n",
       "  </thead>\n",
       "  <tbody>\n",
       "    <tr>\n",
       "      <th>0</th>\n",
       "      <td>1.0</td>\n",
       "      <td>4.0</td>\n",
       "      <td>1</td>\n",
       "      <td>[0.0, 0.0]</td>\n",
       "      <td>[0.0, 2.0]</td>\n",
       "      <td>[0.0]</td>\n",
       "      <td>[0.0]</td>\n",
       "      <td>1.0</td>\n",
       "      <td>2.0</td>\n",
       "      <td>1.0</td>\n",
       "      <td>1.0</td>\n",
       "    </tr>\n",
       "    <tr>\n",
       "      <th>1</th>\n",
       "      <td>3.0</td>\n",
       "      <td>5.0</td>\n",
       "      <td>1</td>\n",
       "      <td>[0.0, 0.0, 0.0, 2.0]</td>\n",
       "      <td>[-0.0, 0.0, 1.0, 3.0]</td>\n",
       "      <td>[0.0, 0.0, 2.0]</td>\n",
       "      <td>[0.0, 0.0, 2.0]</td>\n",
       "      <td>2.0</td>\n",
       "      <td>3.0</td>\n",
       "      <td>2.0</td>\n",
       "      <td>2.0</td>\n",
       "    </tr>\n",
       "    <tr>\n",
       "      <th>2</th>\n",
       "      <td>2.0</td>\n",
       "      <td>7.0</td>\n",
       "      <td>1</td>\n",
       "      <td>[-0.0, 0.0, 3.0]</td>\n",
       "      <td>[0.0, 1.0, 3.0]</td>\n",
       "      <td>[-0.0, 3.0]</td>\n",
       "      <td>[-0.0, 3.0]</td>\n",
       "      <td>3.0</td>\n",
       "      <td>3.0</td>\n",
       "      <td>3.0</td>\n",
       "      <td>3.0</td>\n",
       "    </tr>\n",
       "    <tr>\n",
       "      <th>3</th>\n",
       "      <td>0.0</td>\n",
       "      <td>inf</td>\n",
       "      <td>1</td>\n",
       "      <td>[0.0]</td>\n",
       "      <td>[0.0]</td>\n",
       "      <td>[]</td>\n",
       "      <td>[]</td>\n",
       "      <td>1.0</td>\n",
       "      <td>1.0</td>\n",
       "      <td>1.0</td>\n",
       "      <td>1.0</td>\n",
       "    </tr>\n",
       "  </tbody>\n",
       "</table>\n",
       "</div>"
      ],
      "text/plain": [
       "   birth  death  multiplicity      eigenvalues_ijm1         eigenvalues_ij  \\\n",
       "0    1.0    4.0             1            [0.0, 0.0]             [0.0, 2.0]   \n",
       "1    3.0    5.0             1  [0.0, 0.0, 0.0, 2.0]  [-0.0, 0.0, 1.0, 3.0]   \n",
       "2    2.0    7.0             1      [-0.0, 0.0, 3.0]        [0.0, 1.0, 3.0]   \n",
       "3    0.0    inf             1                 [0.0]                  [0.0]   \n",
       "\n",
       "  eigenvalues_im1jm1 eigenvalues_im1j  p_ijm1  p_ij  p_im1jm1  p_im1j  \n",
       "0              [0.0]            [0.0]     1.0   2.0       1.0     1.0  \n",
       "1    [0.0, 0.0, 2.0]  [0.0, 0.0, 2.0]     2.0   3.0       2.0     2.0  \n",
       "2        [-0.0, 3.0]      [-0.0, 3.0]     3.0   3.0       3.0     3.0  \n",
       "3                 []               []     1.0   1.0       1.0     1.0  "
      ]
     },
     "metadata": {},
     "output_type": "display_data"
    },
    {
     "data": {
      "text/html": [
       "<div>\n",
       "<style scoped>\n",
       "    .dataframe tbody tr th:only-of-type {\n",
       "        vertical-align: middle;\n",
       "    }\n",
       "\n",
       "    .dataframe tbody tr th {\n",
       "        vertical-align: top;\n",
       "    }\n",
       "\n",
       "    .dataframe thead th {\n",
       "        text-align: right;\n",
       "    }\n",
       "</style>\n",
       "<table border=\"1\" class=\"dataframe\">\n",
       "  <thead>\n",
       "    <tr style=\"text-align: right;\">\n",
       "      <th></th>\n",
       "      <th>birth</th>\n",
       "      <th>death</th>\n",
       "      <th>multiplicity</th>\n",
       "      <th>eigenvalues_ijm1</th>\n",
       "      <th>eigenvalues_ij</th>\n",
       "      <th>eigenvalues_im1jm1</th>\n",
       "      <th>eigenvalues_im1j</th>\n",
       "      <th>p_ijm1</th>\n",
       "      <th>p_ij</th>\n",
       "      <th>p_im1jm1</th>\n",
       "      <th>p_im1j</th>\n",
       "    </tr>\n",
       "  </thead>\n",
       "  <tbody>\n",
       "    <tr>\n",
       "      <th>4</th>\n",
       "      <td>6.0</td>\n",
       "      <td>9.0</td>\n",
       "      <td>1</td>\n",
       "      <td>[-0.0, 3.0, 3.0]</td>\n",
       "      <td>[3.0, 3.0, 3.0]</td>\n",
       "      <td>[1.0, 3.0]</td>\n",
       "      <td>[1.0, 3.0]</td>\n",
       "      <td>9.0</td>\n",
       "      <td>27.0</td>\n",
       "      <td>3.0</td>\n",
       "      <td>3.0</td>\n",
       "    </tr>\n",
       "    <tr>\n",
       "      <th>5</th>\n",
       "      <td>8.0</td>\n",
       "      <td>inf</td>\n",
       "      <td>1</td>\n",
       "      <td>[0.0, -0.0, 2.0, 4.0, 4.0]</td>\n",
       "      <td>[-0.0, 2.0, 3.0, 4.0, 4.0]</td>\n",
       "      <td>[-0.0, 1.0, 3.0, 4.0]</td>\n",
       "      <td>[1.0, 3.0, 3.0, 4.0]</td>\n",
       "      <td>32.0</td>\n",
       "      <td>96.0</td>\n",
       "      <td>12.0</td>\n",
       "      <td>36.0</td>\n",
       "    </tr>\n",
       "  </tbody>\n",
       "</table>\n",
       "</div>"
      ],
      "text/plain": [
       "   birth  death  multiplicity            eigenvalues_ijm1  \\\n",
       "4    6.0    9.0             1            [-0.0, 3.0, 3.0]   \n",
       "5    8.0    inf             1  [0.0, -0.0, 2.0, 4.0, 4.0]   \n",
       "\n",
       "               eigenvalues_ij     eigenvalues_im1jm1      eigenvalues_im1j  \\\n",
       "4             [3.0, 3.0, 3.0]             [1.0, 3.0]            [1.0, 3.0]   \n",
       "5  [-0.0, 2.0, 3.0, 4.0, 4.0]  [-0.0, 1.0, 3.0, 4.0]  [1.0, 3.0, 3.0, 4.0]   \n",
       "\n",
       "   p_ijm1  p_ij  p_im1jm1  p_im1j  \n",
       "4     9.0  27.0       3.0     3.0  \n",
       "5    32.0  96.0      12.0    36.0  "
      ]
     },
     "metadata": {},
     "output_type": "display_data"
    },
    {
     "data": {
      "text/html": [
       "<div>\n",
       "<style scoped>\n",
       "    .dataframe tbody tr th:only-of-type {\n",
       "        vertical-align: middle;\n",
       "    }\n",
       "\n",
       "    .dataframe tbody tr th {\n",
       "        vertical-align: top;\n",
       "    }\n",
       "\n",
       "    .dataframe thead th {\n",
       "        text-align: right;\n",
       "    }\n",
       "</style>\n",
       "<table border=\"1\" class=\"dataframe\">\n",
       "  <thead>\n",
       "    <tr style=\"text-align: right;\">\n",
       "      <th></th>\n",
       "    </tr>\n",
       "  </thead>\n",
       "  <tbody>\n",
       "  </tbody>\n",
       "</table>\n",
       "</div>"
      ],
      "text/plain": [
       "Empty DataFrame\n",
       "Columns: []\n",
       "Index: []"
      ]
     },
     "execution_count": 6,
     "metadata": {},
     "output_type": "execute_result"
    }
   ],
   "source": [
    "def weight_fun(x):\n",
    "    return 1\n",
    "\n",
    "barcodes_df = complete_analysis_fast(f, weight_fun)\n",
    "barcodes_df.apply(lambda x: x.apply(lambda y: np.round(y, 2) if y is not None else None).apply(lambda y: np.sort(y) if type(y) == np.ndarray else y), axis=1).groupby(\"q\").apply(display, include_groups=False)"
   ]
  },
  {
   "cell_type": "code",
   "execution_count": 7,
   "metadata": {},
   "outputs": [
    {
     "data": {
      "application/vnd.jupyter.widget-view+json": {
       "model_id": "d56610b0616a410caa3be6992ada7a76",
       "version_major": 2,
       "version_minor": 0
      },
      "text/plain": [
       "  0%|          | 0/4 [00:00<?, ?it/s]"
      ]
     },
     "metadata": {},
     "output_type": "display_data"
    },
    {
     "data": {
      "application/vnd.jupyter.widget-view+json": {
       "model_id": "63b2eaa03f604e46b03ef761db92184a",
       "version_major": 2,
       "version_minor": 0
      },
      "text/plain": [
       "  0%|          | 0/2 [00:00<?, ?it/s]"
      ]
     },
     "metadata": {},
     "output_type": "display_data"
    },
    {
     "data": {
      "application/vnd.jupyter.widget-view+json": {
       "model_id": "ad9e503b25bb48588ef8ba61e8d53f74",
       "version_major": 2,
       "version_minor": 0
      },
      "text/plain": [
       "0it [00:00, ?it/s]"
      ]
     },
     "metadata": {},
     "output_type": "display_data"
    },
    {
     "data": {
      "text/html": [
       "<div>\n",
       "<style scoped>\n",
       "    .dataframe tbody tr th:only-of-type {\n",
       "        vertical-align: middle;\n",
       "    }\n",
       "\n",
       "    .dataframe tbody tr th {\n",
       "        vertical-align: top;\n",
       "    }\n",
       "\n",
       "    .dataframe thead th {\n",
       "        text-align: right;\n",
       "    }\n",
       "</style>\n",
       "<table border=\"1\" class=\"dataframe\">\n",
       "  <thead>\n",
       "    <tr style=\"text-align: right;\">\n",
       "      <th></th>\n",
       "      <th>q</th>\n",
       "      <th>birth</th>\n",
       "      <th>death</th>\n",
       "      <th>multiplicity</th>\n",
       "      <th>torsion_ijm1</th>\n",
       "      <th>torsion_ij</th>\n",
       "      <th>torsion_im1jm1</th>\n",
       "      <th>torsion_im1j</th>\n",
       "      <th>Weight</th>\n",
       "    </tr>\n",
       "  </thead>\n",
       "  <tbody>\n",
       "    <tr>\n",
       "      <th>0</th>\n",
       "      <td>0</td>\n",
       "      <td>0.0</td>\n",
       "      <td>inf</td>\n",
       "      <td>1</td>\n",
       "      <td>None</td>\n",
       "      <td>[]</td>\n",
       "      <td>None</td>\n",
       "      <td>[]</td>\n",
       "      <td>[]</td>\n",
       "    </tr>\n",
       "    <tr>\n",
       "      <th>1</th>\n",
       "      <td>0</td>\n",
       "      <td>1.0</td>\n",
       "      <td>4.0</td>\n",
       "      <td>1</td>\n",
       "      <td>[]</td>\n",
       "      <td>[]</td>\n",
       "      <td>[]</td>\n",
       "      <td>[]</td>\n",
       "      <td>[]</td>\n",
       "    </tr>\n",
       "    <tr>\n",
       "      <th>2</th>\n",
       "      <td>0</td>\n",
       "      <td>2.0</td>\n",
       "      <td>7.0</td>\n",
       "      <td>1</td>\n",
       "      <td>[]</td>\n",
       "      <td>[]</td>\n",
       "      <td>[]</td>\n",
       "      <td>[]</td>\n",
       "      <td>[]</td>\n",
       "    </tr>\n",
       "    <tr>\n",
       "      <th>3</th>\n",
       "      <td>0</td>\n",
       "      <td>3.0</td>\n",
       "      <td>5.0</td>\n",
       "      <td>1</td>\n",
       "      <td>[]</td>\n",
       "      <td>[]</td>\n",
       "      <td>[]</td>\n",
       "      <td>[]</td>\n",
       "      <td>[]</td>\n",
       "    </tr>\n",
       "    <tr>\n",
       "      <th>4</th>\n",
       "      <td>1</td>\n",
       "      <td>6.0</td>\n",
       "      <td>9.0</td>\n",
       "      <td>1</td>\n",
       "      <td>[]</td>\n",
       "      <td>[]</td>\n",
       "      <td>[]</td>\n",
       "      <td>[]</td>\n",
       "      <td>[]</td>\n",
       "    </tr>\n",
       "    <tr>\n",
       "      <th>5</th>\n",
       "      <td>1</td>\n",
       "      <td>8.0</td>\n",
       "      <td>inf</td>\n",
       "      <td>1</td>\n",
       "      <td>None</td>\n",
       "      <td>[]</td>\n",
       "      <td>None</td>\n",
       "      <td>[]</td>\n",
       "      <td>[]</td>\n",
       "    </tr>\n",
       "  </tbody>\n",
       "</table>\n",
       "</div>"
      ],
      "text/plain": [
       "   q  birth  death  multiplicity torsion_ijm1 torsion_ij torsion_im1jm1  \\\n",
       "0  0    0.0    inf             1         None         []           None   \n",
       "1  0    1.0    4.0             1           []         []             []   \n",
       "2  0    2.0    7.0             1           []         []             []   \n",
       "3  0    3.0    5.0             1           []         []             []   \n",
       "4  1    6.0    9.0             1           []         []             []   \n",
       "5  1    8.0    inf             1         None         []           None   \n",
       "\n",
       "  torsion_im1j Weight  \n",
       "0           []     []  \n",
       "1           []     []  \n",
       "2           []     []  \n",
       "3           []     []  \n",
       "4           []     []  \n",
       "5           []     []  "
      ]
     },
     "execution_count": 7,
     "metadata": {},
     "output_type": "execute_result"
    }
   ],
   "source": [
    "def weight_fun(x):\n",
    "    # v = x.split(',')\n",
    "    # if v != \"2\" and \"2\" in v: #and len(v) >= 2:\n",
    "    #     return 2 ** len(v)\n",
    "    if \"2\" in x:\n",
    "        return 2\n",
    "    # if x in [\"0,1,3\"]:\n",
    "    #     return 3\n",
    "    return 1\n",
    "\n",
    "ren_df = complete_analysis_Ren_fast(f, weight_fun)\n",
    "ren_df"
   ]
  },
  {
   "cell_type": "code",
   "execution_count": null,
   "metadata": {},
   "outputs": [],
   "source": [
    "f.sort()\n",
    "p = d.cohomology_persistence(f, 47, True)\n",
    "dgms = d.init_diagrams(p, f)\n",
    "for q in range(len(dgms)):\n",
    "    for point in dgms[q]:\n",
    "        \n"
   ]
  },
  {
   "cell_type": "code",
   "execution_count": 5,
   "metadata": {},
   "outputs": [
    {
     "data": {
      "text/plain": [
       "0    [2.0]\n",
       "1       []\n",
       "2       []\n",
       "3       []\n",
       "4       []\n",
       "5       []\n",
       "dtype: object"
      ]
     },
     "execution_count": 5,
     "metadata": {},
     "output_type": "execute_result"
    }
   ],
   "source": [
    "def list_minus(x, y):\n",
    "    counter_x = Counter(x)\n",
    "    counter_y = Counter(y)\n",
    "\n",
    "    c_xmy = counter_x - counter_y\n",
    "    return list(c_xmy.elements())\n",
    "\n",
    "ren_df.apply(lambda x: help_f(help_f(x[\"torsion_ij\"], x[\"torsion_ijm1\"]), help_f(x[\"torsion_im1j\"], x[\"torsion_im1jm1\"])), axis=1)"
   ]
  },
  {
   "cell_type": "code",
   "execution_count": 37,
   "metadata": {},
   "outputs": [
    {
     "data": {
      "application/vnd.jupyter.widget-view+json": {
       "model_id": "405970c656f14777991416b180d4e5c1",
       "version_major": 2,
       "version_minor": 0
      },
      "text/plain": [
       "  0%|          | 0/11 [00:00<?, ?it/s]"
      ]
     },
     "metadata": {},
     "output_type": "display_data"
    },
    {
     "data": {
      "application/vnd.jupyter.widget-view+json": {
       "model_id": "9f8e37e1d7c74f3e9b164648a4f39c7e",
       "version_major": 2,
       "version_minor": 0
      },
      "text/plain": [
       "  0%|          | 0/11 [00:00<?, ?it/s]"
      ]
     },
     "metadata": {},
     "output_type": "display_data"
    },
    {
     "data": {
      "text/html": [
       "<div>\n",
       "<style scoped>\n",
       "    .dataframe tbody tr th:only-of-type {\n",
       "        vertical-align: middle;\n",
       "    }\n",
       "\n",
       "    .dataframe tbody tr th {\n",
       "        vertical-align: top;\n",
       "    }\n",
       "\n",
       "    .dataframe thead th {\n",
       "        text-align: right;\n",
       "    }\n",
       "</style>\n",
       "<table border=\"1\" class=\"dataframe\">\n",
       "  <thead>\n",
       "    <tr style=\"text-align: right;\">\n",
       "      <th></th>\n",
       "      <th>birth</th>\n",
       "      <th>death</th>\n",
       "      <th>multiplicity</th>\n",
       "      <th>eigenvalues_ijm1</th>\n",
       "      <th>eigenvalues_ij</th>\n",
       "      <th>eigenvalues_im1jm1</th>\n",
       "      <th>eigenvalues_im1j</th>\n",
       "      <th>p_ijm1</th>\n",
       "      <th>p_ij</th>\n",
       "      <th>p_im1jm1</th>\n",
       "      <th>p_im1j</th>\n",
       "    </tr>\n",
       "  </thead>\n",
       "  <tbody>\n",
       "    <tr>\n",
       "      <th>0</th>\n",
       "      <td>1.0</td>\n",
       "      <td>4.0</td>\n",
       "      <td>1</td>\n",
       "      <td>[0.0, 0.0]</td>\n",
       "      <td>[0.0, 2.0]</td>\n",
       "      <td>[0.0]</td>\n",
       "      <td>[0.0]</td>\n",
       "      <td>1.0</td>\n",
       "      <td>2.0</td>\n",
       "      <td>1.0</td>\n",
       "      <td>1.0</td>\n",
       "    </tr>\n",
       "    <tr>\n",
       "      <th>1</th>\n",
       "      <td>3.0</td>\n",
       "      <td>5.0</td>\n",
       "      <td>1</td>\n",
       "      <td>[0.0, 0.0, 0.0, 2.0]</td>\n",
       "      <td>[-0.0, 0.0, 1.0, 3.0]</td>\n",
       "      <td>[0.0, 0.0, 2.0]</td>\n",
       "      <td>[0.0, 0.0, 2.0]</td>\n",
       "      <td>2.0</td>\n",
       "      <td>3.0</td>\n",
       "      <td>2.0</td>\n",
       "      <td>2.0</td>\n",
       "    </tr>\n",
       "    <tr>\n",
       "      <th>2</th>\n",
       "      <td>2.0</td>\n",
       "      <td>7.0</td>\n",
       "      <td>1</td>\n",
       "      <td>[-0.0, 0.0, 3.0]</td>\n",
       "      <td>[0.0, 1.0, 3.0]</td>\n",
       "      <td>[-0.0, 3.0]</td>\n",
       "      <td>[-0.0, 3.0]</td>\n",
       "      <td>3.0</td>\n",
       "      <td>3.0</td>\n",
       "      <td>3.0</td>\n",
       "      <td>3.0</td>\n",
       "    </tr>\n",
       "    <tr>\n",
       "      <th>3</th>\n",
       "      <td>0.0</td>\n",
       "      <td>inf</td>\n",
       "      <td>1</td>\n",
       "      <td>[0.0]</td>\n",
       "      <td>[0.0]</td>\n",
       "      <td>[]</td>\n",
       "      <td>[]</td>\n",
       "      <td>1.0</td>\n",
       "      <td>1.0</td>\n",
       "      <td>1.0</td>\n",
       "      <td>1.0</td>\n",
       "    </tr>\n",
       "  </tbody>\n",
       "</table>\n",
       "</div>"
      ],
      "text/plain": [
       "   birth  death  multiplicity      eigenvalues_ijm1         eigenvalues_ij  \\\n",
       "0    1.0    4.0             1            [0.0, 0.0]             [0.0, 2.0]   \n",
       "1    3.0    5.0             1  [0.0, 0.0, 0.0, 2.0]  [-0.0, 0.0, 1.0, 3.0]   \n",
       "2    2.0    7.0             1      [-0.0, 0.0, 3.0]        [0.0, 1.0, 3.0]   \n",
       "3    0.0    inf             1                 [0.0]                  [0.0]   \n",
       "\n",
       "  eigenvalues_im1jm1 eigenvalues_im1j  p_ijm1  p_ij  p_im1jm1  p_im1j  \n",
       "0              [0.0]            [0.0]     1.0   2.0       1.0     1.0  \n",
       "1    [0.0, 0.0, 2.0]  [0.0, 0.0, 2.0]     2.0   3.0       2.0     2.0  \n",
       "2        [-0.0, 3.0]      [-0.0, 3.0]     3.0   3.0       3.0     3.0  \n",
       "3                 []               []     1.0   1.0       1.0     1.0  "
      ]
     },
     "metadata": {},
     "output_type": "display_data"
    },
    {
     "data": {
      "text/html": [
       "<div>\n",
       "<style scoped>\n",
       "    .dataframe tbody tr th:only-of-type {\n",
       "        vertical-align: middle;\n",
       "    }\n",
       "\n",
       "    .dataframe tbody tr th {\n",
       "        vertical-align: top;\n",
       "    }\n",
       "\n",
       "    .dataframe thead th {\n",
       "        text-align: right;\n",
       "    }\n",
       "</style>\n",
       "<table border=\"1\" class=\"dataframe\">\n",
       "  <thead>\n",
       "    <tr style=\"text-align: right;\">\n",
       "      <th></th>\n",
       "      <th>birth</th>\n",
       "      <th>death</th>\n",
       "      <th>multiplicity</th>\n",
       "      <th>eigenvalues_ijm1</th>\n",
       "      <th>eigenvalues_ij</th>\n",
       "      <th>eigenvalues_im1jm1</th>\n",
       "      <th>eigenvalues_im1j</th>\n",
       "      <th>p_ijm1</th>\n",
       "      <th>p_ij</th>\n",
       "      <th>p_im1jm1</th>\n",
       "      <th>p_im1j</th>\n",
       "    </tr>\n",
       "  </thead>\n",
       "  <tbody>\n",
       "    <tr>\n",
       "      <th>4</th>\n",
       "      <td>6.0</td>\n",
       "      <td>9.0</td>\n",
       "      <td>1</td>\n",
       "      <td>[-0.0, 3.0, 3.0]</td>\n",
       "      <td>[3.0, 3.0, 3.0]</td>\n",
       "      <td>[1.0, 3.0]</td>\n",
       "      <td>[1.0, 3.0]</td>\n",
       "      <td>9.0</td>\n",
       "      <td>27.0</td>\n",
       "      <td>3.0</td>\n",
       "      <td>3.0</td>\n",
       "    </tr>\n",
       "    <tr>\n",
       "      <th>5</th>\n",
       "      <td>8.0</td>\n",
       "      <td>10.0</td>\n",
       "      <td>1</td>\n",
       "      <td>[-0.0, 2.0, 3.0, 4.0, 4.0]</td>\n",
       "      <td>[2.0, 2.0, 4.0, 4.0, 4.0]</td>\n",
       "      <td>[1.0, 3.0, 3.0, 4.0]</td>\n",
       "      <td>[1.0, 3.0, 3.0, 4.0]</td>\n",
       "      <td>96.0</td>\n",
       "      <td>256.0</td>\n",
       "      <td>36.0</td>\n",
       "      <td>36.0</td>\n",
       "    </tr>\n",
       "  </tbody>\n",
       "</table>\n",
       "</div>"
      ],
      "text/plain": [
       "   birth  death  multiplicity            eigenvalues_ijm1  \\\n",
       "4    6.0    9.0             1            [-0.0, 3.0, 3.0]   \n",
       "5    8.0   10.0             1  [-0.0, 2.0, 3.0, 4.0, 4.0]   \n",
       "\n",
       "              eigenvalues_ij    eigenvalues_im1jm1      eigenvalues_im1j  \\\n",
       "4            [3.0, 3.0, 3.0]            [1.0, 3.0]            [1.0, 3.0]   \n",
       "5  [2.0, 2.0, 4.0, 4.0, 4.0]  [1.0, 3.0, 3.0, 4.0]  [1.0, 3.0, 3.0, 4.0]   \n",
       "\n",
       "   p_ijm1   p_ij  p_im1jm1  p_im1j  \n",
       "4     9.0   27.0       3.0     3.0  \n",
       "5    96.0  256.0      36.0    36.0  "
      ]
     },
     "metadata": {},
     "output_type": "display_data"
    },
    {
     "data": {
      "text/html": [
       "<div>\n",
       "<style scoped>\n",
       "    .dataframe tbody tr th:only-of-type {\n",
       "        vertical-align: middle;\n",
       "    }\n",
       "\n",
       "    .dataframe tbody tr th {\n",
       "        vertical-align: top;\n",
       "    }\n",
       "\n",
       "    .dataframe thead th {\n",
       "        text-align: right;\n",
       "    }\n",
       "</style>\n",
       "<table border=\"1\" class=\"dataframe\">\n",
       "  <thead>\n",
       "    <tr style=\"text-align: right;\">\n",
       "      <th></th>\n",
       "    </tr>\n",
       "  </thead>\n",
       "  <tbody>\n",
       "  </tbody>\n",
       "</table>\n",
       "</div>"
      ],
      "text/plain": [
       "Empty DataFrame\n",
       "Columns: []\n",
       "Index: []"
      ]
     },
     "execution_count": 37,
     "metadata": {},
     "output_type": "execute_result"
    }
   ],
   "source": [
    "\n",
    "\n",
    "def weight_fun(x):\n",
    "    return 1\n",
    "\n",
    "\n",
    "barcodes_df = complete_analysis_fast(f, weight_fun)\n",
    "barcodes_df.apply(lambda x: x.apply(lambda y: np.round(y, 2) if y is not None else None).apply(lambda y: np.sort(y) if type(y) == np.ndarray else y), axis=1).groupby(\"q\").apply(display, include_groups=False)\n",
    "\n",
    "\n",
    "# barcodes_p_df.apply(lambda x: x.apply(lambda y: np.round(y, 2) if y is not None else None), axis=1).groupby(\"q\").apply(display)"
   ]
  },
  {
   "cell_type": "code",
   "execution_count": 39,
   "metadata": {},
   "outputs": [
    {
     "data": {
      "application/vnd.jupyter.widget-view+json": {
       "model_id": "1bc64e6485b44658907c6fdac7695e20",
       "version_major": 2,
       "version_minor": 0
      },
      "text/plain": [
       "  0%|          | 0/4 [00:00<?, ?it/s]"
      ]
     },
     "metadata": {},
     "output_type": "display_data"
    },
    {
     "data": {
      "application/vnd.jupyter.widget-view+json": {
       "model_id": "44a936355c6948a3af507323424155ff",
       "version_major": 2,
       "version_minor": 0
      },
      "text/plain": [
       "  0%|          | 0/4 [00:00<?, ?it/s]"
      ]
     },
     "metadata": {},
     "output_type": "display_data"
    },
    {
     "data": {
      "application/vnd.jupyter.widget-view+json": {
       "model_id": "d16f5cfdb2954b05b44599d5d6f80d8b",
       "version_major": 2,
       "version_minor": 0
      },
      "text/plain": [
       "  0%|          | 0/4 [00:00<?, ?it/s]"
      ]
     },
     "metadata": {},
     "output_type": "display_data"
    },
    {
     "data": {
      "text/html": [
       "<div>\n",
       "<style scoped>\n",
       "    .dataframe tbody tr th:only-of-type {\n",
       "        vertical-align: middle;\n",
       "    }\n",
       "\n",
       "    .dataframe tbody tr th {\n",
       "        vertical-align: top;\n",
       "    }\n",
       "\n",
       "    .dataframe thead th {\n",
       "        text-align: right;\n",
       "    }\n",
       "</style>\n",
       "<table border=\"1\" class=\"dataframe\">\n",
       "  <thead>\n",
       "    <tr style=\"text-align: right;\">\n",
       "      <th></th>\n",
       "      <th>birth</th>\n",
       "      <th>death</th>\n",
       "      <th>multiplicity</th>\n",
       "      <th>eigenvalues_ijm1</th>\n",
       "      <th>eigenvalues_ij</th>\n",
       "      <th>eigenvalues_im1jm1</th>\n",
       "      <th>eigenvalues_im1j</th>\n",
       "      <th>p_ijm1</th>\n",
       "      <th>p_ij</th>\n",
       "      <th>p_im1jm1</th>\n",
       "      <th>p_im1j</th>\n",
       "    </tr>\n",
       "  </thead>\n",
       "  <tbody>\n",
       "    <tr>\n",
       "      <th>0</th>\n",
       "      <td>0.0</td>\n",
       "      <td>1.0</td>\n",
       "      <td>2</td>\n",
       "      <td>[0.0, 0.0, 0.0, 0.0]</td>\n",
       "      <td>[-0.0, 0.0, 3.0, 3.0]</td>\n",
       "      <td>[]</td>\n",
       "      <td>[]</td>\n",
       "      <td>1.0</td>\n",
       "      <td>9.0</td>\n",
       "      <td>1</td>\n",
       "      <td>1</td>\n",
       "    </tr>\n",
       "    <tr>\n",
       "      <th>1</th>\n",
       "      <td>0.0</td>\n",
       "      <td>2.0</td>\n",
       "      <td>1</td>\n",
       "      <td>[-0.0, 0.0, 3.0, 3.0]</td>\n",
       "      <td>[0.0, 1.0, 3.0, 4.0]</td>\n",
       "      <td>[]</td>\n",
       "      <td>[]</td>\n",
       "      <td>9.0</td>\n",
       "      <td>12.0</td>\n",
       "      <td>1</td>\n",
       "      <td>1</td>\n",
       "    </tr>\n",
       "    <tr>\n",
       "      <th>2</th>\n",
       "      <td>0.0</td>\n",
       "      <td>inf</td>\n",
       "      <td>1</td>\n",
       "      <td>[0.0, 1.0, 3.0, 4.0]</td>\n",
       "      <td>[0.0, 1.0, 3.0, 4.0]</td>\n",
       "      <td>[]</td>\n",
       "      <td>[]</td>\n",
       "      <td>12.0</td>\n",
       "      <td>12.0</td>\n",
       "      <td>1</td>\n",
       "      <td>1</td>\n",
       "    </tr>\n",
       "  </tbody>\n",
       "</table>\n",
       "</div>"
      ],
      "text/plain": [
       "   birth  death  multiplicity       eigenvalues_ijm1         eigenvalues_ij  \\\n",
       "0    0.0    1.0             2   [0.0, 0.0, 0.0, 0.0]  [-0.0, 0.0, 3.0, 3.0]   \n",
       "1    0.0    2.0             1  [-0.0, 0.0, 3.0, 3.0]   [0.0, 1.0, 3.0, 4.0]   \n",
       "2    0.0    inf             1   [0.0, 1.0, 3.0, 4.0]   [0.0, 1.0, 3.0, 4.0]   \n",
       "\n",
       "  eigenvalues_im1jm1 eigenvalues_im1j  p_ijm1  p_ij  p_im1jm1  p_im1j  \n",
       "0                 []               []     1.0   9.0         1       1  \n",
       "1                 []               []     9.0  12.0         1       1  \n",
       "2                 []               []    12.0  12.0         1       1  "
      ]
     },
     "metadata": {},
     "output_type": "display_data"
    },
    {
     "data": {
      "text/html": [
       "<div>\n",
       "<style scoped>\n",
       "    .dataframe tbody tr th:only-of-type {\n",
       "        vertical-align: middle;\n",
       "    }\n",
       "\n",
       "    .dataframe tbody tr th {\n",
       "        vertical-align: top;\n",
       "    }\n",
       "\n",
       "    .dataframe thead th {\n",
       "        text-align: right;\n",
       "    }\n",
       "</style>\n",
       "<table border=\"1\" class=\"dataframe\">\n",
       "  <thead>\n",
       "    <tr style=\"text-align: right;\">\n",
       "      <th></th>\n",
       "      <th>birth</th>\n",
       "      <th>death</th>\n",
       "      <th>multiplicity</th>\n",
       "      <th>eigenvalues_ijm1</th>\n",
       "      <th>eigenvalues_ij</th>\n",
       "      <th>eigenvalues_im1jm1</th>\n",
       "      <th>eigenvalues_im1j</th>\n",
       "      <th>p_ijm1</th>\n",
       "      <th>p_ij</th>\n",
       "      <th>p_im1jm1</th>\n",
       "      <th>p_im1j</th>\n",
       "    </tr>\n",
       "  </thead>\n",
       "  <tbody>\n",
       "    <tr>\n",
       "      <th>3</th>\n",
       "      <td>1.0</td>\n",
       "      <td>3.0</td>\n",
       "      <td>1</td>\n",
       "      <td>[-0.0, 3.0, 3.0]</td>\n",
       "      <td>[3.0, 3.0, 27.0]</td>\n",
       "      <td>[]</td>\n",
       "      <td>[]</td>\n",
       "      <td>9.0</td>\n",
       "      <td>243.0</td>\n",
       "      <td>1</td>\n",
       "      <td>1</td>\n",
       "    </tr>\n",
       "  </tbody>\n",
       "</table>\n",
       "</div>"
      ],
      "text/plain": [
       "   birth  death  multiplicity  eigenvalues_ijm1    eigenvalues_ij  \\\n",
       "3    1.0    3.0             1  [-0.0, 3.0, 3.0]  [3.0, 3.0, 27.0]   \n",
       "\n",
       "  eigenvalues_im1jm1 eigenvalues_im1j  p_ijm1   p_ij  p_im1jm1  p_im1j  \n",
       "3                 []               []     9.0  243.0         1       1  "
      ]
     },
     "metadata": {},
     "output_type": "display_data"
    },
    {
     "data": {
      "text/html": [
       "<div>\n",
       "<style scoped>\n",
       "    .dataframe tbody tr th:only-of-type {\n",
       "        vertical-align: middle;\n",
       "    }\n",
       "\n",
       "    .dataframe tbody tr th {\n",
       "        vertical-align: top;\n",
       "    }\n",
       "\n",
       "    .dataframe thead th {\n",
       "        text-align: right;\n",
       "    }\n",
       "</style>\n",
       "<table border=\"1\" class=\"dataframe\">\n",
       "  <thead>\n",
       "    <tr style=\"text-align: right;\">\n",
       "      <th></th>\n",
       "    </tr>\n",
       "  </thead>\n",
       "  <tbody>\n",
       "  </tbody>\n",
       "</table>\n",
       "</div>"
      ],
      "text/plain": [
       "Empty DataFrame\n",
       "Columns: []\n",
       "Index: []"
      ]
     },
     "execution_count": 39,
     "metadata": {},
     "output_type": "execute_result"
    }
   ],
   "source": [
    "def weight_fun(x):\n",
    "    # v = x.split(',')\n",
    "    # if v != \"2\" and \"2\" in v and len(v) >= 2:\n",
    "    #     return 2\n",
    "    if x in [\"0,2,3\"]:\n",
    "        return 3\n",
    "    # if x in [\"0,2,3\"]:\n",
    "    #     return 2\n",
    "    return 1\n",
    "\n",
    "barcodes_df = complete_analysis_fast(f, weight_fun, max_dim=2)\n",
    "barcodes_df.apply(lambda x: x.apply(lambda y: np.round(y, 3) if y is not None else None).apply(lambda y: np.sort(y) if type(y) == np.ndarray else y), axis=1).groupby(\"q\").apply(display, include_groups=False)"
   ]
  },
  {
   "cell_type": "code",
   "execution_count": 41,
   "metadata": {},
   "outputs": [
    {
     "data": {
      "application/vnd.jupyter.widget-view+json": {
       "model_id": "c018fe087e2c4c908922af35138d2c39",
       "version_major": 2,
       "version_minor": 0
      },
      "text/plain": [
       "  0%|          | 0/3 [00:00<?, ?it/s]"
      ]
     },
     "metadata": {},
     "output_type": "display_data"
    },
    {
     "data": {
      "application/vnd.jupyter.widget-view+json": {
       "model_id": "4dd5825458f34697be0465016ca9a88f",
       "version_major": 2,
       "version_minor": 0
      },
      "text/plain": [
       "  0%|          | 0/3 [00:00<?, ?it/s]"
      ]
     },
     "metadata": {},
     "output_type": "display_data"
    },
    {
     "data": {
      "application/vnd.jupyter.widget-view+json": {
       "model_id": "d568e1be9a2c4176adf8dc4ff250a1da",
       "version_major": 2,
       "version_minor": 0
      },
      "text/plain": [
       "  0%|          | 0/3 [00:00<?, ?it/s]"
      ]
     },
     "metadata": {},
     "output_type": "display_data"
    },
    {
     "data": {
      "application/vnd.jupyter.widget-view+json": {
       "model_id": "bc82839ffffa49a898ee246c583ffcf3",
       "version_major": 2,
       "version_minor": 0
      },
      "text/plain": [
       "  0%|          | 0/3 [00:00<?, ?it/s]"
      ]
     },
     "metadata": {},
     "output_type": "display_data"
    },
    {
     "data": {
      "text/html": [
       "<div>\n",
       "<style scoped>\n",
       "    .dataframe tbody tr th:only-of-type {\n",
       "        vertical-align: middle;\n",
       "    }\n",
       "\n",
       "    .dataframe tbody tr th {\n",
       "        vertical-align: top;\n",
       "    }\n",
       "\n",
       "    .dataframe thead th {\n",
       "        text-align: right;\n",
       "    }\n",
       "</style>\n",
       "<table border=\"1\" class=\"dataframe\">\n",
       "  <thead>\n",
       "    <tr style=\"text-align: right;\">\n",
       "      <th></th>\n",
       "      <th>birth</th>\n",
       "      <th>death</th>\n",
       "      <th>multiplicity</th>\n",
       "      <th>value</th>\n",
       "      <th>weight</th>\n",
       "    </tr>\n",
       "  </thead>\n",
       "  <tbody>\n",
       "    <tr>\n",
       "      <th>0</th>\n",
       "      <td>0.0</td>\n",
       "      <td>1.0</td>\n",
       "      <td>2.0</td>\n",
       "      <td>9.0</td>\n",
       "      <td>1.0</td>\n",
       "    </tr>\n",
       "    <tr>\n",
       "      <th>1</th>\n",
       "      <td>0.0</td>\n",
       "      <td>2.0</td>\n",
       "      <td>1.0</td>\n",
       "      <td>12.0</td>\n",
       "      <td>1.0</td>\n",
       "    </tr>\n",
       "    <tr>\n",
       "      <th>2</th>\n",
       "      <td>0.0</td>\n",
       "      <td>inf</td>\n",
       "      <td>1.0</td>\n",
       "      <td>12.0</td>\n",
       "      <td>1.0</td>\n",
       "    </tr>\n",
       "  </tbody>\n",
       "</table>\n",
       "</div>"
      ],
      "text/plain": [
       "   birth  death  multiplicity  value  weight\n",
       "0    0.0    1.0           2.0    9.0     1.0\n",
       "1    0.0    2.0           1.0   12.0     1.0\n",
       "2    0.0    inf           1.0   12.0     1.0"
      ]
     },
     "metadata": {},
     "output_type": "display_data"
    },
    {
     "data": {
      "text/html": [
       "<div>\n",
       "<style scoped>\n",
       "    .dataframe tbody tr th:only-of-type {\n",
       "        vertical-align: middle;\n",
       "    }\n",
       "\n",
       "    .dataframe tbody tr th {\n",
       "        vertical-align: top;\n",
       "    }\n",
       "\n",
       "    .dataframe thead th {\n",
       "        text-align: right;\n",
       "    }\n",
       "</style>\n",
       "<table border=\"1\" class=\"dataframe\">\n",
       "  <thead>\n",
       "    <tr style=\"text-align: right;\">\n",
       "      <th></th>\n",
       "      <th>birth</th>\n",
       "      <th>death</th>\n",
       "      <th>multiplicity</th>\n",
       "      <th>value</th>\n",
       "      <th>weight</th>\n",
       "    </tr>\n",
       "  </thead>\n",
       "  <tbody>\n",
       "    <tr>\n",
       "      <th>3</th>\n",
       "      <td>1.0</td>\n",
       "      <td>3.0</td>\n",
       "      <td>1.0</td>\n",
       "      <td>27.0</td>\n",
       "      <td>2.0</td>\n",
       "    </tr>\n",
       "  </tbody>\n",
       "</table>\n",
       "</div>"
      ],
      "text/plain": [
       "   birth  death  multiplicity  value  weight\n",
       "3    1.0    3.0           1.0   27.0     2.0"
      ]
     },
     "metadata": {},
     "output_type": "display_data"
    },
    {
     "data": {
      "text/html": [
       "<div>\n",
       "<style scoped>\n",
       "    .dataframe tbody tr th:only-of-type {\n",
       "        vertical-align: middle;\n",
       "    }\n",
       "\n",
       "    .dataframe tbody tr th {\n",
       "        vertical-align: top;\n",
       "    }\n",
       "\n",
       "    .dataframe thead th {\n",
       "        text-align: right;\n",
       "    }\n",
       "</style>\n",
       "<table border=\"1\" class=\"dataframe\">\n",
       "  <thead>\n",
       "    <tr style=\"text-align: right;\">\n",
       "      <th></th>\n",
       "    </tr>\n",
       "  </thead>\n",
       "  <tbody>\n",
       "  </tbody>\n",
       "</table>\n",
       "</div>"
      ],
      "text/plain": [
       "Empty DataFrame\n",
       "Columns: []\n",
       "Index: []"
      ]
     },
     "execution_count": 41,
     "metadata": {},
     "output_type": "execute_result"
    }
   ],
   "source": [
    "def id_fun(x):\n",
    "    return 1\n",
    "\n",
    "def weight_fun(x):\n",
    "    # v = x.split(',')\n",
    "    # if v != \"2\" and \"2\" in v and len(v) >= 2:\n",
    "    #     return 2\n",
    "    if x in [\"0,2,3\"]:\n",
    "        return 2\n",
    "    # if x in [\"0,1,3\"]:\n",
    "    #     return 3\n",
    "    return 1\n",
    "\n",
    "# barcodes_df = complete_analysis(f, id_fun)\n",
    "id_barcodes_df = complete_analysis(f, id_fun)\n",
    "# id_barcodes_full_df = barcodes_df.merge(barcodes_p_df, how=\"right\", on=[\"q\", \"birth\", \"death\", \"multiplicity\"])\n",
    "\n",
    "# barcodes_df = complete_analysis(f, weight_fun)\n",
    "weight_barcodes_p_df = complete_analysis(f, weight_fun)\n",
    "# weighted_barcodes_full_df = barcodes_df.merge(barcodes_p_df, how=\"right\", on=[\"q\", \"birth\", \"death\", \"multiplicity\"])\n",
    "\n",
    "weighted_barcodes_df = None\n",
    "weighted_barcodes_df = id_barcodes_df[[\"q\", \"birth\", \"death\", \"multiplicity\"]]\n",
    "weighted_barcodes_df.insert(4, \"value\", id_barcodes_df[\"p_ij\"]/(id_barcodes_df[\"p_im1jm1\"]))\n",
    "weighted_barcodes_df.insert(5, \"weight\", ((weight_barcodes_p_df.loc[:, \"p_ij\"]/(weight_barcodes_p_df.loc[:, \"p_im1jm1\"])) / (weighted_barcodes_df[\"value\"])).pow(0.5))\n",
    "weighted_barcodes_df.apply(lambda x: x.apply(lambda y: np.round(y, 4) if y is not None else None).apply(lambda y: np.sort(y) if type(y) == np.ndarray else y), axis=1).groupby(\"q\").apply(display, include_groups=False)"
   ]
  },
  {
   "cell_type": "code",
   "execution_count": 139,
   "metadata": {},
   "outputs": [
    {
     "name": "stdout",
     "output_type": "stream",
     "text": [
      "[[0 1]\n",
      " [2 3]\n",
      " [4 5]] (3, 2)\n",
      "[[0 1]\n",
      " [2 3]] (2, 2)\n"
     ]
    },
    {
     "data": {
      "text/plain": [
       "array([[ 2,  3],\n",
       "       [ 6, 11],\n",
       "       [10, 19]])"
      ]
     },
     "execution_count": 139,
     "metadata": {},
     "output_type": "execute_result"
    }
   ],
   "source": [
    "A = np.arange(6).reshape((3,2))\n",
    "print(A, A.shape)\n",
    "B = np.arange(4).reshape((2,2))\n",
    "print(B, B.shape)\n",
    "(A@B)"
   ]
  }
 ],
 "metadata": {
  "kernelspec": {
   "display_name": "thesis",
   "language": "python",
   "name": "python3"
  },
  "language_info": {
   "codemirror_mode": {
    "name": "ipython",
    "version": 3
   },
   "file_extension": ".py",
   "mimetype": "text/x-python",
   "name": "python",
   "nbconvert_exporter": "python",
   "pygments_lexer": "ipython3",
   "version": "3.9.21"
  }
 },
 "nbformat": 4,
 "nbformat_minor": 2
}
