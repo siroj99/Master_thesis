{
 "cells": [
  {
   "cell_type": "code",
   "execution_count": 1,
   "metadata": {},
   "outputs": [],
   "source": [
    "import numpy as np\n",
    "from copy import deepcopy\n",
    "import dionysus as d\n",
    "import scipy\n",
    "import pandas as pd\n",
    "import gudhi as gd\n",
    "from collections import Counter\n",
    "import networkx as nx\n",
    "\n",
    "\n",
    "from Laplacian_Functions import *\n",
    "from Ren_Functions import *"
   ]
  },
  {
   "cell_type": "code",
   "execution_count": 2,
   "metadata": {},
   "outputs": [
    {
     "data": {
      "image/png": "[encoded data removed]",
      "text/plain": [
       "<Figure size 640x480 with 1 Axes>"
      ]
     },
     "metadata": {},
     "output_type": "display_data"
    }
   ],
   "source": [
    "def create_cycle(n, start_n = 0):\n",
    "    simplices = []\n",
    "    for v_i in range(n):\n",
    "        simplices.append(([v_i+start_n], 0))\n",
    "        simplices.append(([v_i+start_n, (v_i+1)%n+start_n], 1))\n",
    "    return simplices\n",
    "    \n",
    "\n",
    "# Drawn\n",
    "simplices = [([0], 0), ([1], 1), ([2], 2), ([3], 3), ([1,0], 4), ([0,3], 5), ([1,3], 6), ([2,3], 7), ([0,2], 8), ([0,1,3], 9)]#, ([0,2,3], 10)]\n",
    "\n",
    "# Test\n",
    "# simplices = [([0], 0), ([1], 0), ([2], 0), ([3], 0), ([0,2], 1), ([0,3], 1), ([2,3], 1), ([0,1], 2), ([0,2,3], 3)]\n",
    "\n",
    "# Drawn new\n",
    "# simplices = [([0], 0), ([1], 0), ([2], 0), ([3], 1), ([0,1], 2), ([1,2], 2), ([2,3], 2), ([0,2], 3), ([0,3], 3), ([4], 4), ([2,4], 5), ([3,4], 5), ([0,1,2], 6), ([2,3,4], 7)]#, ([0,2,3], 8)]\n",
    "\n",
    "# Cycles\n",
    "# x = 2\n",
    "# y = 2\n",
    "# overlap = 1\n",
    "# simplices = create_cycle(x) + create_cycle(y, start_n=x-overlap)\n",
    "# simplices.append(([7], 0))\n",
    "# simplices.append(([6,7], 1))\n",
    "# simplices = create_cycle(7)\n",
    "# simplices.append(([10], 2))\n",
    "# simplices.append(([0,2], 2))\n",
    "# simplices.append(([0,1,2], 2))\n",
    "# simplices.append(([0,3], 3))\n",
    "# simplices.append(([0,2,3], 3))\n",
    "# print(simplices)\n",
    "\n",
    "f = d.Filtration()\n",
    "for vertices, time in simplices:\n",
    "    f.append(d.Simplex(vertices, time))\n",
    "\n",
    "# Drawing graph\n",
    "G = nx.Graph()\n",
    "f.sort()\n",
    "for s in f:\n",
    "    if s.dimension() == 0:\n",
    "        G.add_node(s[0])\n",
    "    elif s.dimension() == 1:\n",
    "        G.add_edge(s[0], s[1])\n",
    "nx.draw_planar(G, with_labels=True)"
   ]
  },
  {
   "cell_type": "code",
   "execution_count": 4,
   "metadata": {},
   "outputs": [
    {
     "name": "stdout",
     "output_type": "stream",
     "text": [
      "upL:\n",
      " [[ 2. -4.  2.  0.  0.]\n",
      " [-4.  8. -4.  0.  0.]\n",
      " [ 2. -4.  2.  0.  0.]\n",
      " [ 0.  0.  0.  0.  0.]\n",
      " [ 0.  0.  0.  0.  0.]]\n",
      "eval: 0.0, evec: [-5. -2.  1.  0.  0.]\n",
      "eval: 12.0, evec: [-1.  2. -1.  0.  0.]\n",
      "eval: 0.0, evec: [-5. -2.  1.  0.  0.]\n",
      "eval: 0.0, evec: [0. 0. 0. 1. 0.]\n",
      "eval: 0.0, evec: [0. 0. 0. 0. 1.]\n",
      "Product of eigenvalues: 12.0\n",
      "\n",
      "downL:\n",
      " [[ 6.  2. -2.  0.  2.]\n",
      " [ 2.  2.  2.  1.  1.]\n",
      " [-2.  2.  6.  2.  0.]\n",
      " [ 0.  1.  2.  2. -1.]\n",
      " [ 2.  1.  0. -1.  2.]]\n",
      "eval: 8.7, evec: [-2.85 -0.    2.85  1.   -1.  ]\n",
      "eval: 7.0, evec: [-2. -2. -2. -1. -1.]\n",
      "eval: 0.0, evec: [-1.5  2.  -1.5  1.   1. ]\n",
      "eval: 2.3, evec: [-1.    0.    1.   -2.85  2.85]\n",
      "eval: 0.0, evec: [  -1.   -168.84   -1.    170.84  170.84]\n",
      "Product of eigenvalues: 140.0\n",
      "\n"
     ]
    },
    {
     "data": {
      "text/plain": [
       "array([[ 8.0000000e+00, -2.0000000e+00,  8.8817842e-16,  0.0000000e+00,\n",
       "         2.0000000e+00],\n",
       "       [-2.0000000e+00,  1.0000000e+01, -2.0000000e+00,  1.0000000e+00,\n",
       "         1.0000000e+00],\n",
       "       [ 8.8817842e-16, -2.0000000e+00,  8.0000000e+00,  2.0000000e+00,\n",
       "         0.0000000e+00],\n",
       "       [ 0.0000000e+00,  1.0000000e+00,  2.0000000e+00,  2.0000000e+00,\n",
       "        -1.0000000e+00],\n",
       "       [ 2.0000000e+00,  1.0000000e+00,  0.0000000e+00, -1.0000000e+00,\n",
       "         2.0000000e+00]])"
      ]
     },
     "execution_count": 4,
     "metadata": {},
     "output_type": "execute_result"
    }
   ],
   "source": [
    "def weight_fun(x):\n",
    "    v = x.split(\",\")\n",
    "    p = 1\n",
    "    if \"1\" in v:\n",
    "        p *= 2**(len(v)/2)\n",
    "    # if \"3\" in v:\n",
    "    #     p *= 3**(len(v)/2)\n",
    "    return p\n",
    "\n",
    "\n",
    "compute_Laplacian(f, 1, 9, 9, weight_fun, verb=True)"
   ]
  },
  {
   "cell_type": "code",
   "execution_count": 6,
   "metadata": {},
   "outputs": [
    {
     "data": {
      "text/plain": [
       "array([[ 2., -1.,  0., -1.],\n",
       "       [-1.,  1.,  0.,  0.],\n",
       "       [ 0.,  0.,  0.,  0.],\n",
       "       [-1.,  0.,  0.,  1.]])"
      ]
     },
     "execution_count": 6,
     "metadata": {},
     "output_type": "execute_result"
    }
   ],
   "source": [
    "compute_Laplacian(f, 0, 3, 5, lambda x: 1)"
   ]
  },
  {
   "cell_type": "code",
   "execution_count": 123,
   "metadata": {},
   "outputs": [
    {
     "data": {
      "application/vnd.jupyter.widget-view+json": {
       "model_id": "76f81f47ab9d4334be3bd306a192e5b6",
       "version_major": 2,
       "version_minor": 0
      },
      "text/plain": [
       "  0%|          | 0/2 [00:00<?, ?it/s]"
      ]
     },
     "metadata": {},
     "output_type": "display_data"
    },
    {
     "data": {
      "application/vnd.jupyter.widget-view+json": {
       "model_id": "2e3b718508d7468b830a7e5b68ec5c4a",
       "version_major": 2,
       "version_minor": 0
      },
      "text/plain": [
       "  0%|          | 0/2 [00:00<?, ?it/s]"
      ]
     },
     "metadata": {},
     "output_type": "display_data"
    },
    {
     "data": {
      "text/html": [
       "<div>\n",
       "<style scoped>\n",
       "    .dataframe tbody tr th:only-of-type {\n",
       "        vertical-align: middle;\n",
       "    }\n",
       "\n",
       "    .dataframe tbody tr th {\n",
       "        vertical-align: top;\n",
       "    }\n",
       "\n",
       "    .dataframe thead th {\n",
       "        text-align: right;\n",
       "    }\n",
       "</style>\n",
       "<table border=\"1\" class=\"dataframe\">\n",
       "  <thead>\n",
       "    <tr style=\"text-align: right;\">\n",
       "      <th></th>\n",
       "      <th>birth</th>\n",
       "      <th>death</th>\n",
       "      <th>multiplicity</th>\n",
       "      <th>eigenvalues_ijm1</th>\n",
       "      <th>eigenvalues_ij</th>\n",
       "      <th>eigenvalues_im1jm1</th>\n",
       "      <th>eigenvalues_im1j</th>\n",
       "      <th>p_ijm1</th>\n",
       "      <th>p_ij</th>\n",
       "      <th>p_im1jm1</th>\n",
       "      <th>p_im1j</th>\n",
       "    </tr>\n",
       "  </thead>\n",
       "  <tbody>\n",
       "    <tr>\n",
       "      <th>0</th>\n",
       "      <td>0</td>\n",
       "      <td>1.0</td>\n",
       "      <td>2</td>\n",
       "      <td>[0.0, 0.0, 0.0]</td>\n",
       "      <td>[-0.0, 1.0, 3.0]</td>\n",
       "      <td>[]</td>\n",
       "      <td>[]</td>\n",
       "      <td>1</td>\n",
       "      <td>3.0</td>\n",
       "      <td>1</td>\n",
       "      <td>1</td>\n",
       "    </tr>\n",
       "    <tr>\n",
       "      <th>1</th>\n",
       "      <td>0</td>\n",
       "      <td>inf</td>\n",
       "      <td>1</td>\n",
       "      <td>[0.0, 0.0, 0.0]</td>\n",
       "      <td>[-0.0, 1.0, 3.0]</td>\n",
       "      <td>[]</td>\n",
       "      <td>[]</td>\n",
       "      <td>1</td>\n",
       "      <td>3.0</td>\n",
       "      <td>1</td>\n",
       "      <td>1</td>\n",
       "    </tr>\n",
       "  </tbody>\n",
       "</table>\n",
       "</div>"
      ],
      "text/plain": [
       "   birth  death  multiplicity eigenvalues_ijm1    eigenvalues_ij  \\\n",
       "0      0    1.0             2  [0.0, 0.0, 0.0]  [-0.0, 1.0, 3.0]   \n",
       "1      0    inf             1  [0.0, 0.0, 0.0]  [-0.0, 1.0, 3.0]   \n",
       "\n",
       "  eigenvalues_im1jm1 eigenvalues_im1j  p_ijm1  p_ij  p_im1jm1  p_im1j  \n",
       "0                 []               []       1   3.0         1       1  \n",
       "1                 []               []       1   3.0         1       1  "
      ]
     },
     "metadata": {},
     "output_type": "display_data"
    },
    {
     "data": {
      "text/html": [
       "<div>\n",
       "<style scoped>\n",
       "    .dataframe tbody tr th:only-of-type {\n",
       "        vertical-align: middle;\n",
       "    }\n",
       "\n",
       "    .dataframe tbody tr th {\n",
       "        vertical-align: top;\n",
       "    }\n",
       "\n",
       "    .dataframe thead th {\n",
       "        text-align: right;\n",
       "    }\n",
       "</style>\n",
       "<table border=\"1\" class=\"dataframe\">\n",
       "  <thead>\n",
       "    <tr style=\"text-align: right;\">\n",
       "      <th></th>\n",
       "    </tr>\n",
       "  </thead>\n",
       "  <tbody>\n",
       "  </tbody>\n",
       "</table>\n",
       "</div>"
      ],
      "text/plain": [
       "Empty DataFrame\n",
       "Columns: []\n",
       "Index: []"
      ]
     },
     "execution_count": 123,
     "metadata": {},
     "output_type": "execute_result"
    }
   ],
   "source": [
    "def weight_fun(x):\n",
    "    if \"1\" in x:\n",
    "        return 1\n",
    "    return 1\n",
    "\n",
    "\n",
    "barcodes_df = complete_analysis_fast(f, weight_fun)\n",
    "# print(np.round(barcodes_df.loc[2, \"p_ij\"], 2))\n",
    "barcodes_df.apply(lambda x: x.apply(lambda y: np.round(y, 2) if y is not None else None).apply(lambda y: np.sort(y) if type(y) == np.ndarray else y), axis=1).groupby(\"q\").apply(display, include_groups=False)\n"
   ]
  },
  {
   "cell_type": "code",
   "execution_count": 120,
   "metadata": {},
   "outputs": [
    {
     "data": {
      "application/vnd.jupyter.widget-view+json": {
       "model_id": "b20db39de8fe45348f548b758faa5230",
       "version_major": 2,
       "version_minor": 0
      },
      "text/plain": [
       "  0%|          | 0/2 [00:00<?, ?it/s]"
      ]
     },
     "metadata": {},
     "output_type": "display_data"
    },
    {
     "data": {
      "application/vnd.jupyter.widget-view+json": {
       "model_id": "28473fce24cf479c981c291eb2a82936",
       "version_major": 2,
       "version_minor": 0
      },
      "text/plain": [
       "  0%|          | 0/2 [00:00<?, ?it/s]"
      ]
     },
     "metadata": {},
     "output_type": "display_data"
    },
    {
     "name": "stdout",
     "output_type": "stream",
     "text": [
      "x: 3, y: 3|| 9.0\n"
     ]
    },
    {
     "data": {
      "application/vnd.jupyter.widget-view+json": {
       "model_id": "0e13c357a7ab4e81ac8721ec92bf8cf4",
       "version_major": 2,
       "version_minor": 0
      },
      "text/plain": [
       "  0%|          | 0/2 [00:00<?, ?it/s]"
      ]
     },
     "metadata": {},
     "output_type": "display_data"
    },
    {
     "data": {
      "application/vnd.jupyter.widget-view+json": {
       "model_id": "87f0431227b34595912c7b349319a569",
       "version_major": 2,
       "version_minor": 0
      },
      "text/plain": [
       "  0%|          | 0/2 [00:00<?, ?it/s]"
      ]
     },
     "metadata": {},
     "output_type": "display_data"
    },
    {
     "name": "stdout",
     "output_type": "stream",
     "text": [
      "x: 3, y: 4|| 32.0\n"
     ]
    },
    {
     "data": {
      "application/vnd.jupyter.widget-view+json": {
       "model_id": "a48f329b595944eeb7122f78786b11cc",
       "version_major": 2,
       "version_minor": 0
      },
      "text/plain": [
       "  0%|          | 0/2 [00:00<?, ?it/s]"
      ]
     },
     "metadata": {},
     "output_type": "display_data"
    },
    {
     "data": {
      "application/vnd.jupyter.widget-view+json": {
       "model_id": "4218799314bd4636a65f1d48fae43ba6",
       "version_major": 2,
       "version_minor": 0
      },
      "text/plain": [
       "  0%|          | 0/2 [00:00<?, ?it/s]"
      ]
     },
     "metadata": {},
     "output_type": "display_data"
    },
    {
     "name": "stdout",
     "output_type": "stream",
     "text": [
      "x: 3, y: 5|| (55+0j)\n"
     ]
    },
    {
     "data": {
      "application/vnd.jupyter.widget-view+json": {
       "model_id": "9555ac0c811e4571b78192cd9b88e06e",
       "version_major": 2,
       "version_minor": 0
      },
      "text/plain": [
       "  0%|          | 0/2 [00:00<?, ?it/s]"
      ]
     },
     "metadata": {},
     "output_type": "display_data"
    },
    {
     "data": {
      "application/vnd.jupyter.widget-view+json": {
       "model_id": "b18c38ae0f224daeb17e53cf36448413",
       "version_major": 2,
       "version_minor": 0
      },
      "text/plain": [
       "  0%|          | 0/2 [00:00<?, ?it/s]"
      ]
     },
     "metadata": {},
     "output_type": "display_data"
    },
    {
     "name": "stdout",
     "output_type": "stream",
     "text": [
      "x: 3, y: 6|| 84.0\n"
     ]
    },
    {
     "data": {
      "application/vnd.jupyter.widget-view+json": {
       "model_id": "324170b964604b7d9b16e78816dc5fb6",
       "version_major": 2,
       "version_minor": 0
      },
      "text/plain": [
       "  0%|          | 0/2 [00:00<?, ?it/s]"
      ]
     },
     "metadata": {},
     "output_type": "display_data"
    },
    {
     "data": {
      "application/vnd.jupyter.widget-view+json": {
       "model_id": "a74cf390b8154c62b4a8043bce58412d",
       "version_major": 2,
       "version_minor": 0
      },
      "text/plain": [
       "  0%|          | 0/2 [00:00<?, ?it/s]"
      ]
     },
     "metadata": {},
     "output_type": "display_data"
    },
    {
     "name": "stdout",
     "output_type": "stream",
     "text": [
      "x: 4, y: 3|| 32.0\n"
     ]
    },
    {
     "data": {
      "application/vnd.jupyter.widget-view+json": {
       "model_id": "f1e37526e0d144c387f0792ef31ecf94",
       "version_major": 2,
       "version_minor": 0
      },
      "text/plain": [
       "  0%|          | 0/2 [00:00<?, ?it/s]"
      ]
     },
     "metadata": {},
     "output_type": "display_data"
    },
    {
     "data": {
      "application/vnd.jupyter.widget-view+json": {
       "model_id": "e9442ea350394bdf9701237d19c9a1a6",
       "version_major": 2,
       "version_minor": 0
      },
      "text/plain": [
       "  0%|          | 0/2 [00:00<?, ?it/s]"
      ]
     },
     "metadata": {},
     "output_type": "display_data"
    },
    {
     "name": "stdout",
     "output_type": "stream",
     "text": [
      "x: 4, y: 4|| 60.0\n"
     ]
    },
    {
     "data": {
      "application/vnd.jupyter.widget-view+json": {
       "model_id": "db6272b137d84b96913fe41273bd370c",
       "version_major": 2,
       "version_minor": 0
      },
      "text/plain": [
       "  0%|          | 0/2 [00:00<?, ?it/s]"
      ]
     },
     "metadata": {},
     "output_type": "display_data"
    },
    {
     "data": {
      "application/vnd.jupyter.widget-view+json": {
       "model_id": "10c65af01ffe4a0e975917e01cd6d80c",
       "version_major": 2,
       "version_minor": 0
      },
      "text/plain": [
       "  0%|          | 0/2 [00:00<?, ?it/s]"
      ]
     },
     "metadata": {},
     "output_type": "display_data"
    },
    {
     "name": "stdout",
     "output_type": "stream",
     "text": [
      "x: 4, y: 5|| 96.0\n"
     ]
    },
    {
     "data": {
      "application/vnd.jupyter.widget-view+json": {
       "model_id": "cc2c17a4a5084b76a0ceeea48cc14615",
       "version_major": 2,
       "version_minor": 0
      },
      "text/plain": [
       "  0%|          | 0/2 [00:00<?, ?it/s]"
      ]
     },
     "metadata": {},
     "output_type": "display_data"
    },
    {
     "data": {
      "application/vnd.jupyter.widget-view+json": {
       "model_id": "4ee600e4f7a948bbafd7c3e9ab16d69f",
       "version_major": 2,
       "version_minor": 0
      },
      "text/plain": [
       "  0%|          | 0/2 [00:00<?, ?it/s]"
      ]
     },
     "metadata": {},
     "output_type": "display_data"
    },
    {
     "name": "stdout",
     "output_type": "stream",
     "text": [
      "x: 4, y: 6|| 140.0\n"
     ]
    },
    {
     "data": {
      "application/vnd.jupyter.widget-view+json": {
       "model_id": "37f0d027fee0401e865f4f400292341e",
       "version_major": 2,
       "version_minor": 0
      },
      "text/plain": [
       "  0%|          | 0/2 [00:00<?, ?it/s]"
      ]
     },
     "metadata": {},
     "output_type": "display_data"
    },
    {
     "data": {
      "application/vnd.jupyter.widget-view+json": {
       "model_id": "16b9f0439a2d4586ba9af79b47a63fc1",
       "version_major": 2,
       "version_minor": 0
      },
      "text/plain": [
       "  0%|          | 0/2 [00:00<?, ?it/s]"
      ]
     },
     "metadata": {},
     "output_type": "display_data"
    },
    {
     "name": "stdout",
     "output_type": "stream",
     "text": [
      "x: 5, y: 3|| 55.0\n"
     ]
    },
    {
     "data": {
      "application/vnd.jupyter.widget-view+json": {
       "model_id": "35e0f7cf4bb34aca8aad87a47de6332d",
       "version_major": 2,
       "version_minor": 0
      },
      "text/plain": [
       "  0%|          | 0/2 [00:00<?, ?it/s]"
      ]
     },
     "metadata": {},
     "output_type": "display_data"
    },
    {
     "data": {
      "application/vnd.jupyter.widget-view+json": {
       "model_id": "2d58fb7f97ef488fa47e47a85433e188",
       "version_major": 2,
       "version_minor": 0
      },
      "text/plain": [
       "  0%|          | 0/2 [00:00<?, ?it/s]"
      ]
     },
     "metadata": {},
     "output_type": "display_data"
    },
    {
     "name": "stdout",
     "output_type": "stream",
     "text": [
      "x: 5, y: 4|| 96.0\n"
     ]
    },
    {
     "data": {
      "application/vnd.jupyter.widget-view+json": {
       "model_id": "c39eba49b2014b30974a419103e5c446",
       "version_major": 2,
       "version_minor": 0
      },
      "text/plain": [
       "  0%|          | 0/2 [00:00<?, ?it/s]"
      ]
     },
     "metadata": {},
     "output_type": "display_data"
    },
    {
     "data": {
      "application/vnd.jupyter.widget-view+json": {
       "model_id": "d2a391f821714c12aa63ad90de4f30d6",
       "version_major": 2,
       "version_minor": 0
      },
      "text/plain": [
       "  0%|          | 0/2 [00:00<?, ?it/s]"
      ]
     },
     "metadata": {},
     "output_type": "display_data"
    },
    {
     "name": "stdout",
     "output_type": "stream",
     "text": [
      "x: 5, y: 5|| 147.0\n"
     ]
    },
    {
     "data": {
      "application/vnd.jupyter.widget-view+json": {
       "model_id": "be967351253f48cd95985f3667e4ca14",
       "version_major": 2,
       "version_minor": 0
      },
      "text/plain": [
       "  0%|          | 0/2 [00:00<?, ?it/s]"
      ]
     },
     "metadata": {},
     "output_type": "display_data"
    },
    {
     "data": {
      "application/vnd.jupyter.widget-view+json": {
       "model_id": "261e196ab44345688ca96fe740e2b396",
       "version_major": 2,
       "version_minor": 0
      },
      "text/plain": [
       "  0%|          | 0/2 [00:00<?, ?it/s]"
      ]
     },
     "metadata": {},
     "output_type": "display_data"
    },
    {
     "name": "stdout",
     "output_type": "stream",
     "text": [
      "x: 5, y: 6|| 208.0\n"
     ]
    },
    {
     "data": {
      "application/vnd.jupyter.widget-view+json": {
       "model_id": "6fb7424b30884b5e8c2055c885287b92",
       "version_major": 2,
       "version_minor": 0
      },
      "text/plain": [
       "  0%|          | 0/2 [00:00<?, ?it/s]"
      ]
     },
     "metadata": {},
     "output_type": "display_data"
    },
    {
     "data": {
      "application/vnd.jupyter.widget-view+json": {
       "model_id": "b2afee42a72d4a9cac8ecfca17dd631b",
       "version_major": 2,
       "version_minor": 0
      },
      "text/plain": [
       "  0%|          | 0/2 [00:00<?, ?it/s]"
      ]
     },
     "metadata": {},
     "output_type": "display_data"
    },
    {
     "name": "stdout",
     "output_type": "stream",
     "text": [
      "x: 6, y: 3|| 84.0\n"
     ]
    },
    {
     "data": {
      "application/vnd.jupyter.widget-view+json": {
       "model_id": "3e75dbbe4b9e482a99961f7c984dbfb4",
       "version_major": 2,
       "version_minor": 0
      },
      "text/plain": [
       "  0%|          | 0/2 [00:00<?, ?it/s]"
      ]
     },
     "metadata": {},
     "output_type": "display_data"
    },
    {
     "data": {
      "application/vnd.jupyter.widget-view+json": {
       "model_id": "562ebb3fd19147de915289092d4e0fe7",
       "version_major": 2,
       "version_minor": 0
      },
      "text/plain": [
       "  0%|          | 0/2 [00:00<?, ?it/s]"
      ]
     },
     "metadata": {},
     "output_type": "display_data"
    },
    {
     "name": "stdout",
     "output_type": "stream",
     "text": [
      "x: 6, y: 4|| 140.0\n"
     ]
    },
    {
     "data": {
      "application/vnd.jupyter.widget-view+json": {
       "model_id": "4e34c24d604d448cb77637f9ab79ce07",
       "version_major": 2,
       "version_minor": 0
      },
      "text/plain": [
       "  0%|          | 0/2 [00:00<?, ?it/s]"
      ]
     },
     "metadata": {},
     "output_type": "display_data"
    },
    {
     "data": {
      "application/vnd.jupyter.widget-view+json": {
       "model_id": "6f5ac76e9878430bbe0307839e299f37",
       "version_major": 2,
       "version_minor": 0
      },
      "text/plain": [
       "  0%|          | 0/2 [00:00<?, ?it/s]"
      ]
     },
     "metadata": {},
     "output_type": "display_data"
    },
    {
     "name": "stdout",
     "output_type": "stream",
     "text": [
      "x: 6, y: 5|| 208.0\n"
     ]
    },
    {
     "data": {
      "application/vnd.jupyter.widget-view+json": {
       "model_id": "f1deed1a19f344c3a8a0b8a29b4a6212",
       "version_major": 2,
       "version_minor": 0
      },
      "text/plain": [
       "  0%|          | 0/2 [00:00<?, ?it/s]"
      ]
     },
     "metadata": {},
     "output_type": "display_data"
    },
    {
     "data": {
      "application/vnd.jupyter.widget-view+json": {
       "model_id": "0743d8d3ce914593bc65efb4f0708cd9",
       "version_major": 2,
       "version_minor": 0
      },
      "text/plain": [
       "  0%|          | 0/2 [00:00<?, ?it/s]"
      ]
     },
     "metadata": {},
     "output_type": "display_data"
    },
    {
     "name": "stdout",
     "output_type": "stream",
     "text": [
      "x: 6, y: 6|| 288.0\n"
     ]
    }
   ],
   "source": [
    "for x in range(3, 7):\n",
    "    for y in range(3, 7):\n",
    "        overlap = 3\n",
    "        simplices = create_cycle(x) + create_cycle(y, start_n=x-overlap)\n",
    "\n",
    "        f = d.Filtration()\n",
    "        for vertices, time in simplices:\n",
    "            f.append(d.Simplex(vertices, time))\n",
    "        barcodes_df = complete_analysis_fast(f, weight_fun)\n",
    "        print(f\"x: {x}, y: {y}||\", np.round(barcodes_df.loc[2, \"p_ij\"], 2))"
   ]
  },
  {
   "cell_type": "code",
   "execution_count": 7,
   "metadata": {},
   "outputs": [
    {
     "data": {
      "application/vnd.jupyter.widget-view+json": {
       "model_id": "7885a763f8394b96883f9b5ac5492e68",
       "version_major": 2,
       "version_minor": 0
      },
      "text/plain": [
       "  0%|          | 0/10 [00:00<?, ?it/s]"
      ]
     },
     "metadata": {},
     "output_type": "display_data"
    },
    {
     "data": {
      "application/vnd.jupyter.widget-view+json": {
       "model_id": "15dc6f3cdd814f959d954e386acb8c76",
       "version_major": 2,
       "version_minor": 0
      },
      "text/plain": [
       "  0%|          | 0/10 [00:00<?, ?it/s]"
      ]
     },
     "metadata": {},
     "output_type": "display_data"
    },
    {
     "data": {
      "text/html": [
       "<div>\n",
       "<style scoped>\n",
       "    .dataframe tbody tr th:only-of-type {\n",
       "        vertical-align: middle;\n",
       "    }\n",
       "\n",
       "    .dataframe tbody tr th {\n",
       "        vertical-align: top;\n",
       "    }\n",
       "\n",
       "    .dataframe thead th {\n",
       "        text-align: right;\n",
       "    }\n",
       "</style>\n",
       "<table border=\"1\" class=\"dataframe\">\n",
       "  <thead>\n",
       "    <tr style=\"text-align: right;\">\n",
       "      <th></th>\n",
       "      <th>birth</th>\n",
       "      <th>death</th>\n",
       "      <th>multiplicity</th>\n",
       "      <th>eigenvalues_ijm1</th>\n",
       "      <th>eigenvalues_ij</th>\n",
       "      <th>eigenvalues_im1jm1</th>\n",
       "      <th>eigenvalues_im1j</th>\n",
       "      <th>p_ijm1</th>\n",
       "      <th>p_ij</th>\n",
       "      <th>p_im1jm1</th>\n",
       "      <th>p_im1j</th>\n",
       "    </tr>\n",
       "  </thead>\n",
       "  <tbody>\n",
       "    <tr>\n",
       "      <th>0</th>\n",
       "      <td>1.0</td>\n",
       "      <td>4.0</td>\n",
       "      <td>1</td>\n",
       "      <td>[0.0, 0.0]</td>\n",
       "      <td>[0.0, 2.0]</td>\n",
       "      <td>[0.0]</td>\n",
       "      <td>[0.0]</td>\n",
       "      <td>1.0</td>\n",
       "      <td>2.0</td>\n",
       "      <td>1.0</td>\n",
       "      <td>1.0</td>\n",
       "    </tr>\n",
       "    <tr>\n",
       "      <th>1</th>\n",
       "      <td>3.0</td>\n",
       "      <td>5.0</td>\n",
       "      <td>1</td>\n",
       "      <td>[0.0, 0.0, 0.0, 2.0]</td>\n",
       "      <td>[-0.0, 0.0, 1.0, 3.0]</td>\n",
       "      <td>[0.0, 0.0, 2.0]</td>\n",
       "      <td>[0.0, 0.0, 2.0]</td>\n",
       "      <td>2.0</td>\n",
       "      <td>3.0</td>\n",
       "      <td>2.0</td>\n",
       "      <td>2.0</td>\n",
       "    </tr>\n",
       "    <tr>\n",
       "      <th>2</th>\n",
       "      <td>2.0</td>\n",
       "      <td>7.0</td>\n",
       "      <td>1</td>\n",
       "      <td>[-0.0, 0.0, 3.0]</td>\n",
       "      <td>[-0.0, 1.33, 3.0]</td>\n",
       "      <td>[-0.0, 3.0]</td>\n",
       "      <td>[0.0, 3.0]</td>\n",
       "      <td>3.0</td>\n",
       "      <td>4.0</td>\n",
       "      <td>3.0</td>\n",
       "      <td>3.0</td>\n",
       "    </tr>\n",
       "    <tr>\n",
       "      <th>3</th>\n",
       "      <td>0.0</td>\n",
       "      <td>inf</td>\n",
       "      <td>1</td>\n",
       "      <td>[0.0]</td>\n",
       "      <td>[0.0]</td>\n",
       "      <td>[]</td>\n",
       "      <td>[]</td>\n",
       "      <td>1.0</td>\n",
       "      <td>1.0</td>\n",
       "      <td>1.0</td>\n",
       "      <td>1.0</td>\n",
       "    </tr>\n",
       "  </tbody>\n",
       "</table>\n",
       "</div>"
      ],
      "text/plain": [
       "   birth  death  multiplicity      eigenvalues_ijm1         eigenvalues_ij  \\\n",
       "0    1.0    4.0             1            [0.0, 0.0]             [0.0, 2.0]   \n",
       "1    3.0    5.0             1  [0.0, 0.0, 0.0, 2.0]  [-0.0, 0.0, 1.0, 3.0]   \n",
       "2    2.0    7.0             1      [-0.0, 0.0, 3.0]      [-0.0, 1.33, 3.0]   \n",
       "3    0.0    inf             1                 [0.0]                  [0.0]   \n",
       "\n",
       "  eigenvalues_im1jm1 eigenvalues_im1j  p_ijm1  p_ij  p_im1jm1  p_im1j  \n",
       "0              [0.0]            [0.0]     1.0   2.0       1.0     1.0  \n",
       "1    [0.0, 0.0, 2.0]  [0.0, 0.0, 2.0]     2.0   3.0       2.0     2.0  \n",
       "2        [-0.0, 3.0]       [0.0, 3.0]     3.0   4.0       3.0     3.0  \n",
       "3                 []               []     1.0   1.0       1.0     1.0  "
      ]
     },
     "metadata": {},
     "output_type": "display_data"
    },
    {
     "data": {
      "text/html": [
       "<div>\n",
       "<style scoped>\n",
       "    .dataframe tbody tr th:only-of-type {\n",
       "        vertical-align: middle;\n",
       "    }\n",
       "\n",
       "    .dataframe tbody tr th {\n",
       "        vertical-align: top;\n",
       "    }\n",
       "\n",
       "    .dataframe thead th {\n",
       "        text-align: right;\n",
       "    }\n",
       "</style>\n",
       "<table border=\"1\" class=\"dataframe\">\n",
       "  <thead>\n",
       "    <tr style=\"text-align: right;\">\n",
       "      <th></th>\n",
       "      <th>birth</th>\n",
       "      <th>death</th>\n",
       "      <th>multiplicity</th>\n",
       "      <th>eigenvalues_ijm1</th>\n",
       "      <th>eigenvalues_ij</th>\n",
       "      <th>eigenvalues_im1jm1</th>\n",
       "      <th>eigenvalues_im1j</th>\n",
       "      <th>p_ijm1</th>\n",
       "      <th>p_ij</th>\n",
       "      <th>p_im1jm1</th>\n",
       "      <th>p_im1j</th>\n",
       "    </tr>\n",
       "  </thead>\n",
       "  <tbody>\n",
       "    <tr>\n",
       "      <th>4</th>\n",
       "      <td>6.0</td>\n",
       "      <td>9.0</td>\n",
       "      <td>1</td>\n",
       "      <td>[-0.0, 3.0, 3.0]</td>\n",
       "      <td>[3.0, 3.0, 3.0]</td>\n",
       "      <td>[1.0, 3.0]</td>\n",
       "      <td>[1.0, 3.0]</td>\n",
       "      <td>9.0</td>\n",
       "      <td>27.0</td>\n",
       "      <td>3.0</td>\n",
       "      <td>3.0</td>\n",
       "    </tr>\n",
       "    <tr>\n",
       "      <th>5</th>\n",
       "      <td>8.0</td>\n",
       "      <td>inf</td>\n",
       "      <td>1</td>\n",
       "      <td>[0.0, -0.0, 2.3, 7.0, 8.7]</td>\n",
       "      <td>[0.0, 2.3, 3.0, 7.0, 8.7]</td>\n",
       "      <td>[-0.0, 1.3, 3.0, 7.7]</td>\n",
       "      <td>[1.3, 3.0, 3.0, 7.7]</td>\n",
       "      <td>140.0</td>\n",
       "      <td>420.0</td>\n",
       "      <td>30.0</td>\n",
       "      <td>90.0</td>\n",
       "    </tr>\n",
       "  </tbody>\n",
       "</table>\n",
       "</div>"
      ],
      "text/plain": [
       "   birth  death  multiplicity            eigenvalues_ijm1  \\\n",
       "4    6.0    9.0             1            [-0.0, 3.0, 3.0]   \n",
       "5    8.0    inf             1  [0.0, -0.0, 2.3, 7.0, 8.7]   \n",
       "\n",
       "              eigenvalues_ij     eigenvalues_im1jm1      eigenvalues_im1j  \\\n",
       "4            [3.0, 3.0, 3.0]             [1.0, 3.0]            [1.0, 3.0]   \n",
       "5  [0.0, 2.3, 3.0, 7.0, 8.7]  [-0.0, 1.3, 3.0, 7.7]  [1.3, 3.0, 3.0, 7.7]   \n",
       "\n",
       "   p_ijm1   p_ij  p_im1jm1  p_im1j  \n",
       "4     9.0   27.0       3.0     3.0  \n",
       "5   140.0  420.0      30.0    90.0  "
      ]
     },
     "metadata": {},
     "output_type": "display_data"
    },
    {
     "data": {
      "text/html": [
       "<div>\n",
       "<style scoped>\n",
       "    .dataframe tbody tr th:only-of-type {\n",
       "        vertical-align: middle;\n",
       "    }\n",
       "\n",
       "    .dataframe tbody tr th {\n",
       "        vertical-align: top;\n",
       "    }\n",
       "\n",
       "    .dataframe thead th {\n",
       "        text-align: right;\n",
       "    }\n",
       "</style>\n",
       "<table border=\"1\" class=\"dataframe\">\n",
       "  <thead>\n",
       "    <tr style=\"text-align: right;\">\n",
       "      <th></th>\n",
       "    </tr>\n",
       "  </thead>\n",
       "  <tbody>\n",
       "  </tbody>\n",
       "</table>\n",
       "</div>"
      ],
      "text/plain": [
       "Empty DataFrame\n",
       "Columns: []\n",
       "Index: []"
      ]
     },
     "execution_count": 7,
     "metadata": {},
     "output_type": "execute_result"
    }
   ],
   "source": [
    "def weight_fun(x):\n",
    "    v = x.split(\",\")\n",
    "    if \"2\" in v:\n",
    "        return 2**(len(v)/2)\n",
    "    return 1\n",
    "\n",
    "barcodes_df = complete_analysis_fast(f, weight_fun)\n",
    "barcodes_df.apply(lambda x: x.apply(lambda y: np.round(y, 2) if y is not None else None).apply(lambda y: np.sort(y) if type(y) == np.ndarray else y), axis=1).groupby(\"q\").apply(display, include_groups=False)"
   ]
  },
  {
   "cell_type": "code",
   "execution_count": 6,
   "metadata": {},
   "outputs": [
    {
     "data": {
      "application/vnd.jupyter.widget-view+json": {
       "model_id": "724ef9290ddb49d09636e233c3ea7f95",
       "version_major": 2,
       "version_minor": 0
      },
      "text/plain": [
       "  0%|          | 0/10 [00:00<?, ?it/s]"
      ]
     },
     "metadata": {},
     "output_type": "display_data"
    },
    {
     "data": {
      "application/vnd.jupyter.widget-view+json": {
       "model_id": "ea4e63999a6b4393b14d793cb72f3619",
       "version_major": 2,
       "version_minor": 0
      },
      "text/plain": [
       "  0%|          | 0/10 [00:00<?, ?it/s]"
      ]
     },
     "metadata": {},
     "output_type": "display_data"
    },
    {
     "data": {
      "text/html": [
       "<div>\n",
       "<style scoped>\n",
       "    .dataframe tbody tr th:only-of-type {\n",
       "        vertical-align: middle;\n",
       "    }\n",
       "\n",
       "    .dataframe tbody tr th {\n",
       "        vertical-align: top;\n",
       "    }\n",
       "\n",
       "    .dataframe thead th {\n",
       "        text-align: right;\n",
       "    }\n",
       "</style>\n",
       "<table border=\"1\" class=\"dataframe\">\n",
       "  <thead>\n",
       "    <tr style=\"text-align: right;\">\n",
       "      <th></th>\n",
       "      <th>birth</th>\n",
       "      <th>death</th>\n",
       "      <th>multiplicity</th>\n",
       "      <th>eigenvalues_ijm1</th>\n",
       "      <th>eigenvalues_ij</th>\n",
       "      <th>eigenvalues_im1jm1</th>\n",
       "      <th>eigenvalues_im1j</th>\n",
       "      <th>p_ijm1</th>\n",
       "      <th>p_ij</th>\n",
       "      <th>p_im1jm1</th>\n",
       "      <th>p_im1j</th>\n",
       "    </tr>\n",
       "  </thead>\n",
       "  <tbody>\n",
       "    <tr>\n",
       "      <th>0</th>\n",
       "      <td>1.0</td>\n",
       "      <td>4.0</td>\n",
       "      <td>1</td>\n",
       "      <td>[0.0, 0.0]</td>\n",
       "      <td>[0.0, 2.0]</td>\n",
       "      <td>[0.0]</td>\n",
       "      <td>[0.0]</td>\n",
       "      <td>1.0</td>\n",
       "      <td>2.0</td>\n",
       "      <td>1.0</td>\n",
       "      <td>1.0</td>\n",
       "    </tr>\n",
       "    <tr>\n",
       "      <th>1</th>\n",
       "      <td>3.0</td>\n",
       "      <td>5.0</td>\n",
       "      <td>1</td>\n",
       "      <td>[0.0, 0.0, 0.0, 2.0]</td>\n",
       "      <td>[-0.0, 0.0, 1.0, 3.0]</td>\n",
       "      <td>[0.0, 0.0, 2.0]</td>\n",
       "      <td>[0.0, 0.0, 2.0]</td>\n",
       "      <td>2.0</td>\n",
       "      <td>3.0</td>\n",
       "      <td>2.0</td>\n",
       "      <td>2.0</td>\n",
       "    </tr>\n",
       "    <tr>\n",
       "      <th>2</th>\n",
       "      <td>2.0</td>\n",
       "      <td>7.0</td>\n",
       "      <td>1</td>\n",
       "      <td>[-0.0, 0.0, 3.0]</td>\n",
       "      <td>[0.0, 1.0, 3.0]</td>\n",
       "      <td>[-0.0, 3.0]</td>\n",
       "      <td>[-0.0, 3.0]</td>\n",
       "      <td>3.0</td>\n",
       "      <td>3.0</td>\n",
       "      <td>3.0</td>\n",
       "      <td>3.0</td>\n",
       "    </tr>\n",
       "    <tr>\n",
       "      <th>3</th>\n",
       "      <td>0.0</td>\n",
       "      <td>inf</td>\n",
       "      <td>1</td>\n",
       "      <td>[0.0]</td>\n",
       "      <td>[0.0]</td>\n",
       "      <td>[]</td>\n",
       "      <td>[]</td>\n",
       "      <td>1.0</td>\n",
       "      <td>1.0</td>\n",
       "      <td>1.0</td>\n",
       "      <td>1.0</td>\n",
       "    </tr>\n",
       "  </tbody>\n",
       "</table>\n",
       "</div>"
      ],
      "text/plain": [
       "   birth  death  multiplicity      eigenvalues_ijm1         eigenvalues_ij  \\\n",
       "0    1.0    4.0             1            [0.0, 0.0]             [0.0, 2.0]   \n",
       "1    3.0    5.0             1  [0.0, 0.0, 0.0, 2.0]  [-0.0, 0.0, 1.0, 3.0]   \n",
       "2    2.0    7.0             1      [-0.0, 0.0, 3.0]        [0.0, 1.0, 3.0]   \n",
       "3    0.0    inf             1                 [0.0]                  [0.0]   \n",
       "\n",
       "  eigenvalues_im1jm1 eigenvalues_im1j  p_ijm1  p_ij  p_im1jm1  p_im1j  \n",
       "0              [0.0]            [0.0]     1.0   2.0       1.0     1.0  \n",
       "1    [0.0, 0.0, 2.0]  [0.0, 0.0, 2.0]     2.0   3.0       2.0     2.0  \n",
       "2        [-0.0, 3.0]      [-0.0, 3.0]     3.0   3.0       3.0     3.0  \n",
       "3                 []               []     1.0   1.0       1.0     1.0  "
      ]
     },
     "metadata": {},
     "output_type": "display_data"
    },
    {
     "data": {
      "text/html": [
       "<div>\n",
       "<style scoped>\n",
       "    .dataframe tbody tr th:only-of-type {\n",
       "        vertical-align: middle;\n",
       "    }\n",
       "\n",
       "    .dataframe tbody tr th {\n",
       "        vertical-align: top;\n",
       "    }\n",
       "\n",
       "    .dataframe thead th {\n",
       "        text-align: right;\n",
       "    }\n",
       "</style>\n",
       "<table border=\"1\" class=\"dataframe\">\n",
       "  <thead>\n",
       "    <tr style=\"text-align: right;\">\n",
       "      <th></th>\n",
       "      <th>birth</th>\n",
       "      <th>death</th>\n",
       "      <th>multiplicity</th>\n",
       "      <th>eigenvalues_ijm1</th>\n",
       "      <th>eigenvalues_ij</th>\n",
       "      <th>eigenvalues_im1jm1</th>\n",
       "      <th>eigenvalues_im1j</th>\n",
       "      <th>p_ijm1</th>\n",
       "      <th>p_ij</th>\n",
       "      <th>p_im1jm1</th>\n",
       "      <th>p_im1j</th>\n",
       "    </tr>\n",
       "  </thead>\n",
       "  <tbody>\n",
       "    <tr>\n",
       "      <th>4</th>\n",
       "      <td>6.0</td>\n",
       "      <td>9.0</td>\n",
       "      <td>1</td>\n",
       "      <td>[-0.0, 3.0, 3.0]</td>\n",
       "      <td>[3.0, 3.0, 3.0]</td>\n",
       "      <td>[1.0, 3.0]</td>\n",
       "      <td>[1.0, 3.0]</td>\n",
       "      <td>9.0</td>\n",
       "      <td>27.0</td>\n",
       "      <td>3.0</td>\n",
       "      <td>3.0</td>\n",
       "    </tr>\n",
       "    <tr>\n",
       "      <th>5</th>\n",
       "      <td>8.0</td>\n",
       "      <td>inf</td>\n",
       "      <td>1</td>\n",
       "      <td>[0.0, -0.0, 2.0, 4.0, 4.0]</td>\n",
       "      <td>[-0.0, 2.0, 3.0, 4.0, 4.0]</td>\n",
       "      <td>[-0.0, 1.0, 3.0, 4.0]</td>\n",
       "      <td>[1.0, 3.0, 3.0, 4.0]</td>\n",
       "      <td>32.0</td>\n",
       "      <td>96.0</td>\n",
       "      <td>12.0</td>\n",
       "      <td>36.0</td>\n",
       "    </tr>\n",
       "  </tbody>\n",
       "</table>\n",
       "</div>"
      ],
      "text/plain": [
       "   birth  death  multiplicity            eigenvalues_ijm1  \\\n",
       "4    6.0    9.0             1            [-0.0, 3.0, 3.0]   \n",
       "5    8.0    inf             1  [0.0, -0.0, 2.0, 4.0, 4.0]   \n",
       "\n",
       "               eigenvalues_ij     eigenvalues_im1jm1      eigenvalues_im1j  \\\n",
       "4             [3.0, 3.0, 3.0]             [1.0, 3.0]            [1.0, 3.0]   \n",
       "5  [-0.0, 2.0, 3.0, 4.0, 4.0]  [-0.0, 1.0, 3.0, 4.0]  [1.0, 3.0, 3.0, 4.0]   \n",
       "\n",
       "   p_ijm1  p_ij  p_im1jm1  p_im1j  \n",
       "4     9.0  27.0       3.0     3.0  \n",
       "5    32.0  96.0      12.0    36.0  "
      ]
     },
     "metadata": {},
     "output_type": "display_data"
    },
    {
     "data": {
      "text/html": [
       "<div>\n",
       "<style scoped>\n",
       "    .dataframe tbody tr th:only-of-type {\n",
       "        vertical-align: middle;\n",
       "    }\n",
       "\n",
       "    .dataframe tbody tr th {\n",
       "        vertical-align: top;\n",
       "    }\n",
       "\n",
       "    .dataframe thead th {\n",
       "        text-align: right;\n",
       "    }\n",
       "</style>\n",
       "<table border=\"1\" class=\"dataframe\">\n",
       "  <thead>\n",
       "    <tr style=\"text-align: right;\">\n",
       "      <th></th>\n",
       "    </tr>\n",
       "  </thead>\n",
       "  <tbody>\n",
       "  </tbody>\n",
       "</table>\n",
       "</div>"
      ],
      "text/plain": [
       "Empty DataFrame\n",
       "Columns: []\n",
       "Index: []"
      ]
     },
     "execution_count": 6,
     "metadata": {},
     "output_type": "execute_result"
    }
   ],
   "source": [
    "def weight_fun(x):\n",
    "    return 1\n",
    "\n",
    "barcodes_df = complete_analysis_fast(f, weight_fun)\n",
    "barcodes_df.apply(lambda x: x.apply(lambda y: np.round(y, 2) if y is not None else None).apply(lambda y: np.sort(y) if type(y) == np.ndarray else y), axis=1).groupby(\"q\").apply(display, include_groups=False)"
   ]
  },
  {
   "cell_type": "code",
   "execution_count": 7,
   "metadata": {},
   "outputs": [
    {
     "data": {
      "application/vnd.jupyter.widget-view+json": {
       "model_id": "d56610b0616a410caa3be6992ada7a76",
       "version_major": 2,
       "version_minor": 0
      },
      "text/plain": [
       "  0%|          | 0/4 [00:00<?, ?it/s]"
      ]
     },
     "metadata": {},
     "output_type": "display_data"
    },
    {
     "data": {
      "application/vnd.jupyter.widget-view+json": {
       "model_id": "63b2eaa03f604e46b03ef761db92184a",
       "version_major": 2,
       "version_minor": 0
      },
      "text/plain": [
       "  0%|          | 0/2 [00:00<?, ?it/s]"
      ]
     },
     "metadata": {},
     "output_type": "display_data"
    },
    {
     "data": {
      "application/vnd.jupyter.widget-view+json": {
       "model_id": "ad9e503b25bb48588ef8ba61e8d53f74",
       "version_major": 2,
       "version_minor": 0
      },
      "text/plain": [
       "0it [00:00, ?it/s]"
      ]
     },
     "metadata": {},
     "output_type": "display_data"
    },
    {
     "data": {
      "text/html": [
       "<div>\n",
       "<style scoped>\n",
       "    .dataframe tbody tr th:only-of-type {\n",
       "        vertical-align: middle;\n",
       "    }\n",
       "\n",
       "    .dataframe tbody tr th {\n",
       "        vertical-align: top;\n",
       "    }\n",
       "\n",
       "    .dataframe thead th {\n",
       "        text-align: right;\n",
       "    }\n",
       "</style>\n",
       "<table border=\"1\" class=\"dataframe\">\n",
       "  <thead>\n",
       "    <tr style=\"text-align: right;\">\n",
       "      <th></th>\n",
       "      <th>q</th>\n",
       "      <th>birth</th>\n",
       "      <th>death</th>\n",
       "      <th>multiplicity</th>\n",
       "      <th>torsion_ijm1</th>\n",
       "      <th>torsion_ij</th>\n",
       "      <th>torsion_im1jm1</th>\n",
       "      <th>torsion_im1j</th>\n",
       "      <th>Weight</th>\n",
       "    </tr>\n",
       "  </thead>\n",
       "  <tbody>\n",
       "    <tr>\n",
       "      <th>0</th>\n",
       "      <td>0</td>\n",
       "      <td>0.0</td>\n",
       "      <td>inf</td>\n",
       "      <td>1</td>\n",
       "      <td>None</td>\n",
       "      <td>[]</td>\n",
       "      <td>None</td>\n",
       "      <td>[]</td>\n",
       "      <td>[]</td>\n",
       "    </tr>\n",
       "    <tr>\n",
       "      <th>1</th>\n",
       "      <td>0</td>\n",
       "      <td>1.0</td>\n",
       "      <td>4.0</td>\n",
       "      <td>1</td>\n",
       "      <td>[]</td>\n",
       "      <td>[]</td>\n",
       "      <td>[]</td>\n",
       "      <td>[]</td>\n",
       "      <td>[]</td>\n",
       "    </tr>\n",
       "    <tr>\n",
       "      <th>2</th>\n",
       "      <td>0</td>\n",
       "      <td>2.0</td>\n",
       "      <td>7.0</td>\n",
       "      <td>1</td>\n",
       "      <td>[]</td>\n",
       "      <td>[]</td>\n",
       "      <td>[]</td>\n",
       "      <td>[]</td>\n",
       "      <td>[]</td>\n",
       "    </tr>\n",
       "    <tr>\n",
       "      <th>3</th>\n",
       "      <td>0</td>\n",
       "      <td>3.0</td>\n",
       "      <td>5.0</td>\n",
       "      <td>1</td>\n",
       "      <td>[]</td>\n",
       "      <td>[]</td>\n",
       "      <td>[]</td>\n",
       "      <td>[]</td>\n",
       "      <td>[]</td>\n",
       "    </tr>\n",
       "    <tr>\n",
       "      <th>4</th>\n",
       "      <td>1</td>\n",
       "      <td>6.0</td>\n",
       "      <td>9.0</td>\n",
       "      <td>1</td>\n",
       "      <td>[]</td>\n",
       "      <td>[]</td>\n",
       "      <td>[]</td>\n",
       "      <td>[]</td>\n",
       "      <td>[]</td>\n",
       "    </tr>\n",
       "    <tr>\n",
       "      <th>5</th>\n",
       "      <td>1</td>\n",
       "      <td>8.0</td>\n",
       "      <td>inf</td>\n",
       "      <td>1</td>\n",
       "      <td>None</td>\n",
       "      <td>[]</td>\n",
       "      <td>None</td>\n",
       "      <td>[]</td>\n",
       "      <td>[]</td>\n",
       "    </tr>\n",
       "  </tbody>\n",
       "</table>\n",
       "</div>"
      ],
      "text/plain": [
       "   q  birth  death  multiplicity torsion_ijm1 torsion_ij torsion_im1jm1  \\\n",
       "0  0    0.0    inf             1         None         []           None   \n",
       "1  0    1.0    4.0             1           []         []             []   \n",
       "2  0    2.0    7.0             1           []         []             []   \n",
       "3  0    3.0    5.0             1           []         []             []   \n",
       "4  1    6.0    9.0             1           []         []             []   \n",
       "5  1    8.0    inf             1         None         []           None   \n",
       "\n",
       "  torsion_im1j Weight  \n",
       "0           []     []  \n",
       "1           []     []  \n",
       "2           []     []  \n",
       "3           []     []  \n",
       "4           []     []  \n",
       "5           []     []  "
      ]
     },
     "execution_count": 7,
     "metadata": {},
     "output_type": "execute_result"
    }
   ],
   "source": [
    "def weight_fun(x):\n",
    "    # v = x.split(',')\n",
    "    # if v != \"2\" and \"2\" in v: #and len(v) >= 2:\n",
    "    #     return 2 ** len(v)\n",
    "    if \"2\" in x:\n",
    "        return 2\n",
    "    # if x in [\"0,1,3\"]:\n",
    "    #     return 3\n",
    "    return 1\n",
    "\n",
    "ren_df = complete_analysis_Ren_fast(f, weight_fun)\n",
    "ren_df"
   ]
  },
  {
   "cell_type": "code",
   "execution_count": null,
   "metadata": {},
   "outputs": [],
   "source": [
    "f.sort()\n",
    "p = d.cohomology_persistence(f, 47, True)\n",
    "dgms = d.init_diagrams(p, f)\n",
    "for q in range(len(dgms)):\n",
    "    for point in dgms[q]:\n",
    "        \n"
   ]
  },
  {
   "cell_type": "code",
   "execution_count": 5,
   "metadata": {},
   "outputs": [
    {
     "data": {
      "text/plain": [
       "0    [2.0]\n",
       "1       []\n",
       "2       []\n",
       "3       []\n",
       "4       []\n",
       "5       []\n",
       "dtype: object"
      ]
     },
     "execution_count": 5,
     "metadata": {},
     "output_type": "execute_result"
    }
   ],
   "source": [
    "def list_minus(x, y):\n",
    "    counter_x = Counter(x)\n",
    "    counter_y = Counter(y)\n",
    "\n",
    "    c_xmy = counter_x - counter_y\n",
    "    return list(c_xmy.elements())\n",
    "\n",
    "ren_df.apply(lambda x: help_f(help_f(x[\"torsion_ij\"], x[\"torsion_ijm1\"]), help_f(x[\"torsion_im1j\"], x[\"torsion_im1jm1\"])), axis=1)"
   ]
  },
  {
   "cell_type": "code",
   "execution_count": 37,
   "metadata": {},
   "outputs": [
    {
     "data": {
      "application/vnd.jupyter.widget-view+json": {
       "model_id": "405970c656f14777991416b180d4e5c1",
       "version_major": 2,
       "version_minor": 0
      },
      "text/plain": [
       "  0%|          | 0/11 [00:00<?, ?it/s]"
      ]
     },
     "metadata": {},
     "output_type": "display_data"
    },
    {
     "data": {
      "application/vnd.jupyter.widget-view+json": {
       "model_id": "9f8e37e1d7c74f3e9b164648a4f39c7e",
       "version_major": 2,
       "version_minor": 0
      },
      "text/plain": [
       "  0%|          | 0/11 [00:00<?, ?it/s]"
      ]
     },
     "metadata": {},
     "output_type": "display_data"
    },
    {
     "data": {
      "text/html": [
       "<div>\n",
       "<style scoped>\n",
       "    .dataframe tbody tr th:only-of-type {\n",
       "        vertical-align: middle;\n",
       "    }\n",
       "\n",
       "    .dataframe tbody tr th {\n",
       "        vertical-align: top;\n",
       "    }\n",
       "\n",
       "    .dataframe thead th {\n",
       "        text-align: right;\n",
       "    }\n",
       "</style>\n",
       "<table border=\"1\" class=\"dataframe\">\n",
       "  <thead>\n",
       "    <tr style=\"text-align: right;\">\n",
       "      <th></th>\n",
       "      <th>birth</th>\n",
       "      <th>death</th>\n",
       "      <th>multiplicity</th>\n",
       "      <th>eigenvalues_ijm1</th>\n",
       "      <th>eigenvalues_ij</th>\n",
       "      <th>eigenvalues_im1jm1</th>\n",
       "      <th>eigenvalues_im1j</th>\n",
       "      <th>p_ijm1</th>\n",
       "      <th>p_ij</th>\n",
       "      <th>p_im1jm1</th>\n",
       "      <th>p_im1j</th>\n",
       "    </tr>\n",
       "  </thead>\n",
       "  <tbody>\n",
       "    <tr>\n",
       "      <th>0</th>\n",
       "      <td>1.0</td>\n",
       "      <td>4.0</td>\n",
       "      <td>1</td>\n",
       "      <td>[0.0, 0.0]</td>\n",
       "      <td>[0.0, 2.0]</td>\n",
       "      <td>[0.0]</td>\n",
       "      <td>[0.0]</td>\n",
       "      <td>1.0</td>\n",
       "      <td>2.0</td>\n",
       "      <td>1.0</td>\n",
       "      <td>1.0</td>\n",
       "    </tr>\n",
       "    <tr>\n",
       "      <th>1</th>\n",
       "      <td>3.0</td>\n",
       "      <td>5.0</td>\n",
       "      <td>1</td>\n",
       "      <td>[0.0, 0.0, 0.0, 2.0]</td>\n",
       "      <td>[-0.0, 0.0, 1.0, 3.0]</td>\n",
       "      <td>[0.0, 0.0, 2.0]</td>\n",
       "      <td>[0.0, 0.0, 2.0]</td>\n",
       "      <td>2.0</td>\n",
       "      <td>3.0</td>\n",
       "      <td>2.0</td>\n",
       "      <td>2.0</td>\n",
       "    </tr>\n",
       "    <tr>\n",
       "      <th>2</th>\n",
       "      <td>2.0</td>\n",
       "      <td>7.0</td>\n",
       "      <td>1</td>\n",
       "      <td>[-0.0, 0.0, 3.0]</td>\n",
       "      <td>[0.0, 1.0, 3.0]</td>\n",
       "      <td>[-0.0, 3.0]</td>\n",
       "      <td>[-0.0, 3.0]</td>\n",
       "      <td>3.0</td>\n",
       "      <td>3.0</td>\n",
       "      <td>3.0</td>\n",
       "      <td>3.0</td>\n",
       "    </tr>\n",
       "    <tr>\n",
       "      <th>3</th>\n",
       "      <td>0.0</td>\n",
       "      <td>inf</td>\n",
       "      <td>1</td>\n",
       "      <td>[0.0]</td>\n",
       "      <td>[0.0]</td>\n",
       "      <td>[]</td>\n",
       "      <td>[]</td>\n",
       "      <td>1.0</td>\n",
       "      <td>1.0</td>\n",
       "      <td>1.0</td>\n",
       "      <td>1.0</td>\n",
       "    </tr>\n",
       "  </tbody>\n",
       "</table>\n",
       "</div>"
      ],
      "text/plain": [
       "   birth  death  multiplicity      eigenvalues_ijm1         eigenvalues_ij  \\\n",
       "0    1.0    4.0             1            [0.0, 0.0]             [0.0, 2.0]   \n",
       "1    3.0    5.0             1  [0.0, 0.0, 0.0, 2.0]  [-0.0, 0.0, 1.0, 3.0]   \n",
       "2    2.0    7.0             1      [-0.0, 0.0, 3.0]        [0.0, 1.0, 3.0]   \n",
       "3    0.0    inf             1                 [0.0]                  [0.0]   \n",
       "\n",
       "  eigenvalues_im1jm1 eigenvalues_im1j  p_ijm1  p_ij  p_im1jm1  p_im1j  \n",
       "0              [0.0]            [0.0]     1.0   2.0       1.0     1.0  \n",
       "1    [0.0, 0.0, 2.0]  [0.0, 0.0, 2.0]     2.0   3.0       2.0     2.0  \n",
       "2        [-0.0, 3.0]      [-0.0, 3.0]     3.0   3.0       3.0     3.0  \n",
       "3                 []               []     1.0   1.0       1.0     1.0  "
      ]
     },
     "metadata": {},
     "output_type": "display_data"
    },
    {
     "data": {
      "text/html": [
       "<div>\n",
       "<style scoped>\n",
       "    .dataframe tbody tr th:only-of-type {\n",
       "        vertical-align: middle;\n",
       "    }\n",
       "\n",
       "    .dataframe tbody tr th {\n",
       "        vertical-align: top;\n",
       "    }\n",
       "\n",
       "    .dataframe thead th {\n",
       "        text-align: right;\n",
       "    }\n",
       "</style>\n",
       "<table border=\"1\" class=\"dataframe\">\n",
       "  <thead>\n",
       "    <tr style=\"text-align: right;\">\n",
       "      <th></th>\n",
       "      <th>birth</th>\n",
       "      <th>death</th>\n",
       "      <th>multiplicity</th>\n",
       "      <th>eigenvalues_ijm1</th>\n",
       "      <th>eigenvalues_ij</th>\n",
       "      <th>eigenvalues_im1jm1</th>\n",
       "      <th>eigenvalues_im1j</th>\n",
       "      <th>p_ijm1</th>\n",
       "      <th>p_ij</th>\n",
       "      <th>p_im1jm1</th>\n",
       "      <th>p_im1j</th>\n",
       "    </tr>\n",
       "  </thead>\n",
       "  <tbody>\n",
       "    <tr>\n",
       "      <th>4</th>\n",
       "      <td>6.0</td>\n",
       "      <td>9.0</td>\n",
       "      <td>1</td>\n",
       "      <td>[-0.0, 3.0, 3.0]</td>\n",
       "      <td>[3.0, 3.0, 3.0]</td>\n",
       "      <td>[1.0, 3.0]</td>\n",
       "      <td>[1.0, 3.0]</td>\n",
       "      <td>9.0</td>\n",
       "      <td>27.0</td>\n",
       "      <td>3.0</td>\n",
       "      <td>3.0</td>\n",
       "    </tr>\n",
       "    <tr>\n",
       "      <th>5</th>\n",
       "      <td>8.0</td>\n",
       "      <td>10.0</td>\n",
       "      <td>1</td>\n",
       "      <td>[-0.0, 2.0, 3.0, 4.0, 4.0]</td>\n",
       "      <td>[2.0, 2.0, 4.0, 4.0, 4.0]</td>\n",
       "      <td>[1.0, 3.0, 3.0, 4.0]</td>\n",
       "      <td>[1.0, 3.0, 3.0, 4.0]</td>\n",
       "      <td>96.0</td>\n",
       "      <td>256.0</td>\n",
       "      <td>36.0</td>\n",
       "      <td>36.0</td>\n",
       "    </tr>\n",
       "  </tbody>\n",
       "</table>\n",
       "</div>"
      ],
      "text/plain": [
       "   birth  death  multiplicity            eigenvalues_ijm1  \\\n",
       "4    6.0    9.0             1            [-0.0, 3.0, 3.0]   \n",
       "5    8.0   10.0             1  [-0.0, 2.0, 3.0, 4.0, 4.0]   \n",
       "\n",
       "              eigenvalues_ij    eigenvalues_im1jm1      eigenvalues_im1j  \\\n",
       "4            [3.0, 3.0, 3.0]            [1.0, 3.0]            [1.0, 3.0]   \n",
       "5  [2.0, 2.0, 4.0, 4.0, 4.0]  [1.0, 3.0, 3.0, 4.0]  [1.0, 3.0, 3.0, 4.0]   \n",
       "\n",
       "   p_ijm1   p_ij  p_im1jm1  p_im1j  \n",
       "4     9.0   27.0       3.0     3.0  \n",
       "5    96.0  256.0      36.0    36.0  "
      ]
     },
     "metadata": {},
     "output_type": "display_data"
    },
    {
     "data": {
      "text/html": [
       "<div>\n",
       "<style scoped>\n",
       "    .dataframe tbody tr th:only-of-type {\n",
       "        vertical-align: middle;\n",
       "    }\n",
       "\n",
       "    .dataframe tbody tr th {\n",
       "        vertical-align: top;\n",
       "    }\n",
       "\n",
       "    .dataframe thead th {\n",
       "        text-align: right;\n",
       "    }\n",
       "</style>\n",
       "<table border=\"1\" class=\"dataframe\">\n",
       "  <thead>\n",
       "    <tr style=\"text-align: right;\">\n",
       "      <th></th>\n",
       "    </tr>\n",
       "  </thead>\n",
       "  <tbody>\n",
       "  </tbody>\n",
       "</table>\n",
       "</div>"
      ],
      "text/plain": [
       "Empty DataFrame\n",
       "Columns: []\n",
       "Index: []"
      ]
     },
     "execution_count": 37,
     "metadata": {},
     "output_type": "execute_result"
    }
   ],
   "source": [
    "\n",
    "\n",
    "def weight_fun(x):\n",
    "    return 1\n",
    "\n",
    "\n",
    "barcodes_df = complete_analysis_fast(f, weight_fun)\n",
    "barcodes_df.apply(lambda x: x.apply(lambda y: np.round(y, 2) if y is not None else None).apply(lambda y: np.sort(y) if type(y) == np.ndarray else y), axis=1).groupby(\"q\").apply(display, include_groups=False)\n",
    "\n",
    "\n",
    "# barcodes_p_df.apply(lambda x: x.apply(lambda y: np.round(y, 2) if y is not None else None), axis=1).groupby(\"q\").apply(display)"
   ]
  },
  {
   "cell_type": "code",
   "execution_count": 39,
   "metadata": {},
   "outputs": [
    {
     "data": {
      "application/vnd.jupyter.widget-view+json": {
       "model_id": "1bc64e6485b44658907c6fdac7695e20",
       "version_major": 2,
       "version_minor": 0
      },
      "text/plain": [
       "  0%|          | 0/4 [00:00<?, ?it/s]"
      ]
     },
     "metadata": {},
     "output_type": "display_data"
    },
    {
     "data": {
      "application/vnd.jupyter.widget-view+json": {
       "model_id": "44a936355c6948a3af507323424155ff",
       "version_major": 2,
       "version_minor": 0
      },
      "text/plain": [
       "  0%|          | 0/4 [00:00<?, ?it/s]"
      ]
     },
     "metadata": {},
     "output_type": "display_data"
    },
    {
     "data": {
      "application/vnd.jupyter.widget-view+json": {
       "model_id": "d16f5cfdb2954b05b44599d5d6f80d8b",
       "version_major": 2,
       "version_minor": 0
      },
      "text/plain": [
       "  0%|          | 0/4 [00:00<?, ?it/s]"
      ]
     },
     "metadata": {},
     "output_type": "display_data"
    },
    {
     "data": {
      "text/html": [
       "<div>\n",
       "<style scoped>\n",
       "    .dataframe tbody tr th:only-of-type {\n",
       "        vertical-align: middle;\n",
       "    }\n",
       "\n",
       "    .dataframe tbody tr th {\n",
       "        vertical-align: top;\n",
       "    }\n",
       "\n",
       "    .dataframe thead th {\n",
       "        text-align: right;\n",
       "    }\n",
       "</style>\n",
       "<table border=\"1\" class=\"dataframe\">\n",
       "  <thead>\n",
       "    <tr style=\"text-align: right;\">\n",
       "      <th></th>\n",
       "      <th>birth</th>\n",
       "      <th>death</th>\n",
       "      <th>multiplicity</th>\n",
       "      <th>eigenvalues_ijm1</th>\n",
       "      <th>eigenvalues_ij</th>\n",
       "      <th>eigenvalues_im1jm1</th>\n",
       "      <th>eigenvalues_im1j</th>\n",
       "      <th>p_ijm1</th>\n",
       "      <th>p_ij</th>\n",
       "      <th>p_im1jm1</th>\n",
       "      <th>p_im1j</th>\n",
       "    </tr>\n",
       "  </thead>\n",
       "  <tbody>\n",
       "    <tr>\n",
       "      <th>0</th>\n",
       "      <td>0.0</td>\n",
       "      <td>1.0</td>\n",
       "      <td>2</td>\n",
       "      <td>[0.0, 0.0, 0.0, 0.0]</td>\n",
       "      <td>[-0.0, 0.0, 3.0, 3.0]</td>\n",
       "      <td>[]</td>\n",
       "      <td>[]</td>\n",
       "      <td>1.0</td>\n",
       "      <td>9.0</td>\n",
       "      <td>1</td>\n",
       "      <td>1</td>\n",
       "    </tr>\n",
       "    <tr>\n",
       "      <th>1</th>\n",
       "      <td>0.0</td>\n",
       "      <td>2.0</td>\n",
       "      <td>1</td>\n",
       "      <td>[-0.0, 0.0, 3.0, 3.0]</td>\n",
       "      <td>[0.0, 1.0, 3.0, 4.0]</td>\n",
       "      <td>[]</td>\n",
       "      <td>[]</td>\n",
       "      <td>9.0</td>\n",
       "      <td>12.0</td>\n",
       "      <td>1</td>\n",
       "      <td>1</td>\n",
       "    </tr>\n",
       "    <tr>\n",
       "      <th>2</th>\n",
       "      <td>0.0</td>\n",
       "      <td>inf</td>\n",
       "      <td>1</td>\n",
       "      <td>[0.0, 1.0, 3.0, 4.0]</td>\n",
       "      <td>[0.0, 1.0, 3.0, 4.0]</td>\n",
       "      <td>[]</td>\n",
       "      <td>[]</td>\n",
       "      <td>12.0</td>\n",
       "      <td>12.0</td>\n",
       "      <td>1</td>\n",
       "      <td>1</td>\n",
       "    </tr>\n",
       "  </tbody>\n",
       "</table>\n",
       "</div>"
      ],
      "text/plain": [
       "   birth  death  multiplicity       eigenvalues_ijm1         eigenvalues_ij  \\\n",
       "0    0.0    1.0             2   [0.0, 0.0, 0.0, 0.0]  [-0.0, 0.0, 3.0, 3.0]   \n",
       "1    0.0    2.0             1  [-0.0, 0.0, 3.0, 3.0]   [0.0, 1.0, 3.0, 4.0]   \n",
       "2    0.0    inf             1   [0.0, 1.0, 3.0, 4.0]   [0.0, 1.0, 3.0, 4.0]   \n",
       "\n",
       "  eigenvalues_im1jm1 eigenvalues_im1j  p_ijm1  p_ij  p_im1jm1  p_im1j  \n",
       "0                 []               []     1.0   9.0         1       1  \n",
       "1                 []               []     9.0  12.0         1       1  \n",
       "2                 []               []    12.0  12.0         1       1  "
      ]
     },
     "metadata": {},
     "output_type": "display_data"
    },
    {
     "data": {
      "text/html": [
       "<div>\n",
       "<style scoped>\n",
       "    .dataframe tbody tr th:only-of-type {\n",
       "        vertical-align: middle;\n",
       "    }\n",
       "\n",
       "    .dataframe tbody tr th {\n",
       "        vertical-align: top;\n",
       "    }\n",
       "\n",
       "    .dataframe thead th {\n",
       "        text-align: right;\n",
       "    }\n",
       "</style>\n",
       "<table border=\"1\" class=\"dataframe\">\n",
       "  <thead>\n",
       "    <tr style=\"text-align: right;\">\n",
       "      <th></th>\n",
       "      <th>birth</th>\n",
       "      <th>death</th>\n",
       "      <th>multiplicity</th>\n",
       "      <th>eigenvalues_ijm1</th>\n",
       "      <th>eigenvalues_ij</th>\n",
       "      <th>eigenvalues_im1jm1</th>\n",
       "      <th>eigenvalues_im1j</th>\n",
       "      <th>p_ijm1</th>\n",
       "      <th>p_ij</th>\n",
       "      <th>p_im1jm1</th>\n",
       "      <th>p_im1j</th>\n",
       "    </tr>\n",
       "  </thead>\n",
       "  <tbody>\n",
       "    <tr>\n",
       "      <th>3</th>\n",
       "      <td>1.0</td>\n",
       "      <td>3.0</td>\n",
       "      <td>1</td>\n",
       "      <td>[-0.0, 3.0, 3.0]</td>\n",
       "      <td>[3.0, 3.0, 27.0]</td>\n",
       "      <td>[]</td>\n",
       "      <td>[]</td>\n",
       "      <td>9.0</td>\n",
       "      <td>243.0</td>\n",
       "      <td>1</td>\n",
       "      <td>1</td>\n",
       "    </tr>\n",
       "  </tbody>\n",
       "</table>\n",
       "</div>"
      ],
      "text/plain": [
       "   birth  death  multiplicity  eigenvalues_ijm1    eigenvalues_ij  \\\n",
       "3    1.0    3.0             1  [-0.0, 3.0, 3.0]  [3.0, 3.0, 27.0]   \n",
       "\n",
       "  eigenvalues_im1jm1 eigenvalues_im1j  p_ijm1   p_ij  p_im1jm1  p_im1j  \n",
       "3                 []               []     9.0  243.0         1       1  "
      ]
     },
     "metadata": {},
     "output_type": "display_data"
    },
    {
     "data": {
      "text/html": [
       "<div>\n",
       "<style scoped>\n",
       "    .dataframe tbody tr th:only-of-type {\n",
       "        vertical-align: middle;\n",
       "    }\n",
       "\n",
       "    .dataframe tbody tr th {\n",
       "        vertical-align: top;\n",
       "    }\n",
       "\n",
       "    .dataframe thead th {\n",
       "        text-align: right;\n",
       "    }\n",
       "</style>\n",
       "<table border=\"1\" class=\"dataframe\">\n",
       "  <thead>\n",
       "    <tr style=\"text-align: right;\">\n",
       "      <th></th>\n",
       "    </tr>\n",
       "  </thead>\n",
       "  <tbody>\n",
       "  </tbody>\n",
       "</table>\n",
       "</div>"
      ],
      "text/plain": [
       "Empty DataFrame\n",
       "Columns: []\n",
       "Index: []"
      ]
     },
     "execution_count": 39,
     "metadata": {},
     "output_type": "execute_result"
    }
   ],
   "source": [
    "def weight_fun(x):\n",
    "    # v = x.split(',')\n",
    "    # if v != \"2\" and \"2\" in v and len(v) >= 2:\n",
    "    #     return 2\n",
    "    if x in [\"0,2,3\"]:\n",
    "        return 3\n",
    "    # if x in [\"0,2,3\"]:\n",
    "    #     return 2\n",
    "    return 1\n",
    "\n",
    "barcodes_df = complete_analysis_fast(f, weight_fun, max_dim=2)\n",
    "barcodes_df.apply(lambda x: x.apply(lambda y: np.round(y, 3) if y is not None else None).apply(lambda y: np.sort(y) if type(y) == np.ndarray else y), axis=1).groupby(\"q\").apply(display, include_groups=False)"
   ]
  },
  {
   "cell_type": "code",
   "execution_count": 41,
   "metadata": {},
   "outputs": [
    {
     "data": {
      "application/vnd.jupyter.widget-view+json": {
       "model_id": "c018fe087e2c4c908922af35138d2c39",
       "version_major": 2,
       "version_minor": 0
      },
      "text/plain": [
       "  0%|          | 0/3 [00:00<?, ?it/s]"
      ]
     },
     "metadata": {},
     "output_type": "display_data"
    },
    {
     "data": {
      "application/vnd.jupyter.widget-view+json": {
       "model_id": "4dd5825458f34697be0465016ca9a88f",
       "version_major": 2,
       "version_minor": 0
      },
      "text/plain": [
       "  0%|          | 0/3 [00:00<?, ?it/s]"
      ]
     },
     "metadata": {},
     "output_type": "display_data"
    },
    {
     "data": {
      "application/vnd.jupyter.widget-view+json": {
       "model_id": "d568e1be9a2c4176adf8dc4ff250a1da",
       "version_major": 2,
       "version_minor": 0
      },
      "text/plain": [
       "  0%|          | 0/3 [00:00<?, ?it/s]"
      ]
     },
     "metadata": {},
     "output_type": "display_data"
    },
    {
     "data": {
      "application/vnd.jupyter.widget-view+json": {
       "model_id": "bc82839ffffa49a898ee246c583ffcf3",
       "version_major": 2,
       "version_minor": 0
      },
      "text/plain": [
       "  0%|          | 0/3 [00:00<?, ?it/s]"
      ]
     },
     "metadata": {},
     "output_type": "display_data"
    },
    {
     "data": {
      "text/html": [
       "<div>\n",
       "<style scoped>\n",
       "    .dataframe tbody tr th:only-of-type {\n",
       "        vertical-align: middle;\n",
       "    }\n",
       "\n",
       "    .dataframe tbody tr th {\n",
       "        vertical-align: top;\n",
       "    }\n",
       "\n",
       "    .dataframe thead th {\n",
       "        text-align: right;\n",
       "    }\n",
       "</style>\n",
       "<table border=\"1\" class=\"dataframe\">\n",
       "  <thead>\n",
       "    <tr style=\"text-align: right;\">\n",
       "      <th></th>\n",
       "      <th>birth</th>\n",
       "      <th>death</th>\n",
       "      <th>multiplicity</th>\n",
       "      <th>value</th>\n",
       "      <th>weight</th>\n",
       "    </tr>\n",
       "  </thead>\n",
       "  <tbody>\n",
       "    <tr>\n",
       "      <th>0</th>\n",
       "      <td>0.0</td>\n",
       "      <td>1.0</td>\n",
       "      <td>2.0</td>\n",
       "      <td>9.0</td>\n",
       "      <td>1.0</td>\n",
       "    </tr>\n",
       "    <tr>\n",
       "      <th>1</th>\n",
       "      <td>0.0</td>\n",
       "      <td>2.0</td>\n",
       "      <td>1.0</td>\n",
       "      <td>12.0</td>\n",
       "      <td>1.0</td>\n",
       "    </tr>\n",
       "    <tr>\n",
       "      <th>2</th>\n",
       "      <td>0.0</td>\n",
       "      <td>inf</td>\n",
       "      <td>1.0</td>\n",
       "      <td>12.0</td>\n",
       "      <td>1.0</td>\n",
       "    </tr>\n",
       "  </tbody>\n",
       "</table>\n",
       "</div>"
      ],
      "text/plain": [
       "   birth  death  multiplicity  value  weight\n",
       "0    0.0    1.0           2.0    9.0     1.0\n",
       "1    0.0    2.0           1.0   12.0     1.0\n",
       "2    0.0    inf           1.0   12.0     1.0"
      ]
     },
     "metadata": {},
     "output_type": "display_data"
    },
    {
     "data": {
      "text/html": [
       "<div>\n",
       "<style scoped>\n",
       "    .dataframe tbody tr th:only-of-type {\n",
       "        vertical-align: middle;\n",
       "    }\n",
       "\n",
       "    .dataframe tbody tr th {\n",
       "        vertical-align: top;\n",
       "    }\n",
       "\n",
       "    .dataframe thead th {\n",
       "        text-align: right;\n",
       "    }\n",
       "</style>\n",
       "<table border=\"1\" class=\"dataframe\">\n",
       "  <thead>\n",
       "    <tr style=\"text-align: right;\">\n",
       "      <th></th>\n",
       "      <th>birth</th>\n",
       "      <th>death</th>\n",
       "      <th>multiplicity</th>\n",
       "      <th>value</th>\n",
       "      <th>weight</th>\n",
       "    </tr>\n",
       "  </thead>\n",
       "  <tbody>\n",
       "    <tr>\n",
       "      <th>3</th>\n",
       "      <td>1.0</td>\n",
       "      <td>3.0</td>\n",
       "      <td>1.0</td>\n",
       "      <td>27.0</td>\n",
       "      <td>2.0</td>\n",
       "    </tr>\n",
       "  </tbody>\n",
       "</table>\n",
       "</div>"
      ],
      "text/plain": [
       "   birth  death  multiplicity  value  weight\n",
       "3    1.0    3.0           1.0   27.0     2.0"
      ]
     },
     "metadata": {},
     "output_type": "display_data"
    },
    {
     "data": {
      "text/html": [
       "<div>\n",
       "<style scoped>\n",
       "    .dataframe tbody tr th:only-of-type {\n",
       "        vertical-align: middle;\n",
       "    }\n",
       "\n",
       "    .dataframe tbody tr th {\n",
       "        vertical-align: top;\n",
       "    }\n",
       "\n",
       "    .dataframe thead th {\n",
       "        text-align: right;\n",
       "    }\n",
       "</style>\n",
       "<table border=\"1\" class=\"dataframe\">\n",
       "  <thead>\n",
       "    <tr style=\"text-align: right;\">\n",
       "      <th></th>\n",
       "    </tr>\n",
       "  </thead>\n",
       "  <tbody>\n",
       "  </tbody>\n",
       "</table>\n",
       "</div>"
      ],
      "text/plain": [
       "Empty DataFrame\n",
       "Columns: []\n",
       "Index: []"
      ]
     },
     "execution_count": 41,
     "metadata": {},
     "output_type": "execute_result"
    }
   ],
   "source": [
    "def id_fun(x):\n",
    "    return 1\n",
    "\n",
    "def weight_fun(x):\n",
    "    # v = x.split(',')\n",
    "    # if v != \"2\" and \"2\" in v and len(v) >= 2:\n",
    "    #     return 2\n",
    "    if x in [\"0,2,3\"]:\n",
    "        return 2\n",
    "    # if x in [\"0,1,3\"]:\n",
    "    #     return 3\n",
    "    return 1\n",
    "\n",
    "# barcodes_df = complete_analysis(f, id_fun)\n",
    "id_barcodes_df = complete_analysis(f, id_fun)\n",
    "# id_barcodes_full_df = barcodes_df.merge(barcodes_p_df, how=\"right\", on=[\"q\", \"birth\", \"death\", \"multiplicity\"])\n",
    "\n",
    "# barcodes_df = complete_analysis(f, weight_fun)\n",
    "weight_barcodes_p_df = complete_analysis(f, weight_fun)\n",
    "# weighted_barcodes_full_df = barcodes_df.merge(barcodes_p_df, how=\"right\", on=[\"q\", \"birth\", \"death\", \"multiplicity\"])\n",
    "\n",
    "weighted_barcodes_df = None\n",
    "weighted_barcodes_df = id_barcodes_df[[\"q\", \"birth\", \"death\", \"multiplicity\"]]\n",
    "weighted_barcodes_df.insert(4, \"value\", id_barcodes_df[\"p_ij\"]/(id_barcodes_df[\"p_im1jm1\"]))\n",
    "weighted_barcodes_df.insert(5, \"weight\", ((weight_barcodes_p_df.loc[:, \"p_ij\"]/(weight_barcodes_p_df.loc[:, \"p_im1jm1\"])) / (weighted_barcodes_df[\"value\"])).pow(0.5))\n",
    "weighted_barcodes_df.apply(lambda x: x.apply(lambda y: np.round(y, 4) if y is not None else None).apply(lambda y: np.sort(y) if type(y) == np.ndarray else y), axis=1).groupby(\"q\").apply(display, include_groups=False)"
   ]
  },
  {
   "cell_type": "code",
   "execution_count": 139,
   "metadata": {},
   "outputs": [
    {
     "name": "stdout",
     "output_type": "stream",
     "text": [
      "[[0 1]\n",
      " [2 3]\n",
      " [4 5]] (3, 2)\n",
      "[[0 1]\n",
      " [2 3]] (2, 2)\n"
     ]
    },
    {
     "data": {
      "text/plain": [
       "array([[ 2,  3],\n",
       "       [ 6, 11],\n",
       "       [10, 19]])"
      ]
     },
     "execution_count": 139,
     "metadata": {},
     "output_type": "execute_result"
    }
   ],
   "source": [
    "A = np.arange(6).reshape((3,2))\n",
    "print(A, A.shape)\n",
    "B = np.arange(4).reshape((2,2))\n",
    "print(B, B.shape)\n",
    "(A@B)"
   ]
  }
 ],
 "metadata": {
  "kernelspec": {
   "display_name": "thesis",
   "language": "python",
   "name": "python3"
  },
  "language_info": {
   "codemirror_mode": {
    "name": "ipython",
    "version": 3
   },
   "file_extension": ".py",
   "mimetype": "text/x-python",
   "name": "python",
   "nbconvert_exporter": "python",
   "pygments_lexer": "ipython3",
   "version": "3.9.21"
  }
 },
 "nbformat": 4,
 "nbformat_minor": 2
}
