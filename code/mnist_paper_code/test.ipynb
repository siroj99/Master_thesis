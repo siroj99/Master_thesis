{
 "cells": [
  {
   "cell_type": "code",
   "execution_count": 43,
   "metadata": {},
   "outputs": [],
   "source": [
    "import numpy as np\n",
    "import pandas as pd\n",
    "\n",
    "import random\n",
    "from datetime import datetime\n",
    "\n",
    "from sklearn.datasets import fetch_openml\n",
    "from gtda.images import Binarizer, RadialFiltration, HeightFiltration\n",
    "from gtda.homology import CubicalPersistence\n",
    "\n",
    "import warnings\n",
    "\n",
    "import warnings\n",
    "from itertools import combinations\n",
    "from ismember import ismember\n",
    "\n",
    "\n",
    "from src.utils import cubical_complex\n",
    "# from src.perslap import compute_pers_lap_pair"
   ]
  },
  {
   "cell_type": "code",
   "execution_count": 6,
   "metadata": {},
   "outputs": [
    {
     "name": "stderr",
     "output_type": "stream",
     "text": [
      "/home/siroj/miniconda3/envs/thesis/lib/python3.9/site-packages/sklearn/datasets/_openml.py:1022: FutureWarning: The default value of `parser` will change from `'liac-arff'` to `'auto'` in 1.4. You can set `parser='auto'` to silence this warning. Therefore, an `ImportError` will be raised from 1.4 if the dataset is dense and pandas is not installed. Note that the pandas parser may return different data types. See the Notes Section in fetch_openml's API doc for details.\n",
      "  warn(\n"
     ]
    }
   ],
   "source": [
    "def load_data():\n",
    "    # Full dataset is 60,000 train, 10,000 test\n",
    "    X, y = fetch_openml(\"mnist_784\", version=1, return_X_y=True, as_frame=False)\n",
    "    # train_size, test_size = 6000, 1000\n",
    "\n",
    "    # Reshape to (n_samples, n_pixels_x, n_pixels_y)\n",
    "    X = X.reshape((-1, 28, 28))\n",
    "    random.seed(42)\n",
    "    idx = random.sample(range(len(X)), 7000)\n",
    "    X = X[idx]\n",
    "    y = y[idx]\n",
    "\n",
    "    return X, y\n",
    "\n",
    "X, y = load_data()"
   ]
  },
  {
   "cell_type": "code",
   "execution_count": 33,
   "metadata": {},
   "outputs": [],
   "source": [
    "def boundary(SC, k, sort=False, complex_type='simplicial'):\n",
    "    # Boundary - compute the boundary of a simplicial complex sc at dim k>=0\n",
    "    if complex_type == 'cubical':\n",
    "        assert (k < 3), 'Requested Laplacian of dim >2, can only compute up to 2.'\n",
    "\n",
    "    # init boundary matrix\n",
    "    n_k = len(SC[k])\n",
    "\n",
    "    if k == 0:\n",
    "        return np.zeros((n_k, n_k))\n",
    "    if n_k == 0:\n",
    "        n_km1 = len(SC[k-1])\n",
    "        return np.zeros((n_km1, n_km1))\n",
    "\n",
    "    Sk = SC[k]      # k-simplices\n",
    "    Skm1 = SC[k-1]  # (k-1)-simplices\n",
    "\n",
    "    if sort:\n",
    "        Sk = np.sort(Sk, axis=1)\n",
    "        Skm1 = np.sort(Skm1, axis=1)\n",
    "\n",
    "    n_km1 = len(SC[k - 1])\n",
    "    B = np.zeros((n_km1, n_k))\n",
    "\n",
    "    # compute boundary matrix\n",
    "    # for each column in Sk\n",
    "\n",
    "    if complex_type == 'cubical':\n",
    "\n",
    "        num_nodes = [1, 2, 4, 8]\n",
    "        num_remove = [0, 1, 2, 4]\n",
    "        correct_error_count = [0, 0, 2]\n",
    "\n",
    "    elif complex_type == 'simplicial':\n",
    "        num_nodes = [1, 2, 3, 4]\n",
    "        num_remove = [0, 1, 1, 1]\n",
    "        correct_error_count = [0, 0, 0, 0]\n",
    "\n",
    "    else:\n",
    "        raise ValueError('Unknown complex type specified')\n",
    "\n",
    "    error_count = np.zeros(n_k)\n",
    "    sign_count = np.zeros(n_k)\n",
    "\n",
    "    for comb in combinations(range(num_nodes[k]), num_remove[k]):\n",
    "        comb = list(comb)\n",
    "\n",
    "        # remove ith column from Sk\n",
    "        remove_col_ind = list(range(num_nodes[k]))\n",
    "        for c in comb:\n",
    "            remove_col_ind.remove(c)\n",
    "\n",
    "        B_aux = Sk[:, remove_col_ind]\n",
    "\n",
    "        # find rows of B_aux in S_(k-1)\n",
    "        truth_array, ind = ismember(B_aux, Skm1, 'rows')\n",
    "\n",
    "        for j in range(n_k):\n",
    "            if truth_array[j]:\n",
    "                if len(ind) != len(truth_array):\n",
    "                    print(Sk)\n",
    "                    print(B_aux, Skm1)\n",
    "                    raise ValueError('Incorrectly specified simplicial complex')\n",
    "\n",
    "                B[ind[j], j] = (-1)**(sign_count[j]-1)\n",
    "                sign_count[j] += 1\n",
    "                # B[ind[j], j] += (-1)**(sign_count[j]-1)  # for delta complexes\n",
    "            else:\n",
    "                error_count[j] += 1\n",
    "\n",
    "    for err in error_count:\n",
    "        if err != correct_error_count[k]:\n",
    "            raise ValueError('Incorrectly specified' + complex_type + 'complex')\n",
    "\n",
    "    return B"
   ]
  },
  {
   "cell_type": "code",
   "execution_count": 27,
   "metadata": {},
   "outputs": [],
   "source": [
    "direction_list = [[1, 0], [1, 1], [0, 1], [-1, 1], [-1, 0], [-1, -1], [0, -1], [1, -1]]\n",
    "\n",
    "center_or_dir = direction_list[0]\n",
    "filtration_fitter = HeightFiltration(direction=np.array(center_or_dir))\n",
    "\n",
    "resolution = 5\n",
    "\n",
    "binarizer = Binarizer(threshold=0.4)\n",
    "for id, (image, label) in enumerate(zip(X, y)):\n",
    "\n",
    "    image_binarised = binarizer.fit_transform(image[None, :, :])\n",
    "    filtration = filtration_fitter.fit_transform(image_binarised)\n",
    "\n",
    "    # filtrations.append(filtration)\n",
    "    # df = df.append({'id': id, 'label': label}, ignore_index=True)\n",
    "    max_val = np.max(filtration)\n",
    "    min_val = np.min(filtration)\n",
    "    increment = (max_val - min_val) / resolution\n",
    "\n",
    "    vals = [min_val + i * increment for i in range(resolution)]\n",
    "    vals[-1] = max_val\n",
    "    break"
   ]
  },
  {
   "cell_type": "code",
   "execution_count": 48,
   "metadata": {},
   "outputs": [
    {
     "data": {
      "text/plain": [
       "array([[ 0.,  1.,  0., ...,  0.,  0.,  0.],\n",
       "       [ 1., -1.,  0., ...,  0.,  0.,  0.],\n",
       "       [ 0.,  0.,  1., ...,  0.,  0.,  0.],\n",
       "       ...,\n",
       "       [ 0.,  0.,  0., ...,  0.,  0.,  0.],\n",
       "       [ 0.,  0.,  0., ...,  0.,  0.,  1.],\n",
       "       [ 0.,  0.,  0., ...,  0., -1., -1.]])"
      ]
     },
     "execution_count": 48,
     "metadata": {},
     "output_type": "execute_result"
    }
   ],
   "source": [
    "q=1\n",
    "k = vals[2]\n",
    "K = cubical_complex(filtration, k)\n",
    "\n",
    "complex_type = 'cubical'  # or 'simplicial'\n",
    "B_K_q = boundary(K, q, complex_type=complex_type)\n",
    "B_K_q"
   ]
  },
  {
   "cell_type": "code",
   "execution_count": 49,
   "metadata": {},
   "outputs": [
    {
     "data": {
      "text/plain": [
       "<matplotlib.image.AxesImage at 0x7a738894ccd0>"
      ]
     },
     "execution_count": 49,
     "metadata": {},
     "output_type": "execute_result"
    },
    {
     "data": {
      "image/png": "[encoded data removed]",
      "text/plain": [
       "<Figure size 640x480 with 1 Axes>"
      ]
     },
     "metadata": {},
     "output_type": "display_data"
    }
   ],
   "source": [
    "plt.imshow(B_K_q)"
   ]
  },
  {
   "cell_type": "code",
   "execution_count": 22,
   "metadata": {},
   "outputs": [
    {
     "data": {
      "text/plain": [
       "<matplotlib.image.AxesImage at 0x7a732dcff700>"
      ]
     },
     "execution_count": 22,
     "metadata": {},
     "output_type": "execute_result"
    },
    {
     "data": {
      "image/png": "[encoded data removed]",
      "text/plain": [
       "<Figure size 640x480 with 1 Axes>"
      ]
     },
     "metadata": {},
     "output_type": "display_data"
    }
   ],
   "source": [
    "import matplotlib.pyplot as plt\n",
    "plt.imshow(filtration[0])"
   ]
  },
  {
   "cell_type": "code",
   "execution_count": 23,
   "metadata": {},
   "outputs": [],
   "source": [
    "cubical_persistence = CubicalPersistence(n_jobs=8)\n",
    "diagrams = cubical_persistence.fit_transform(filtration)"
   ]
  },
  {
   "cell_type": "code",
   "execution_count": 25,
   "metadata": {},
   "outputs": [
    {
     "data": {
      "text/plain": [
       "array([[[16., 17.,  0.],\n",
       "        [18., 28.,  1.]]])"
      ]
     },
     "execution_count": 25,
     "metadata": {},
     "output_type": "execute_result"
    }
   ],
   "source": [
    "diagrams"
   ]
  }
 ],
 "metadata": {
  "kernelspec": {
   "display_name": "thesis",
   "language": "python",
   "name": "python3"
  },
  "language_info": {
   "codemirror_mode": {
    "name": "ipython",
    "version": 3
   },
   "file_extension": ".py",
   "mimetype": "text/x-python",
   "name": "python",
   "nbconvert_exporter": "python",
   "pygments_lexer": "ipython3",
   "version": "3.9.21"
  }
 },
 "nbformat": 4,
 "nbformat_minor": 2
}
