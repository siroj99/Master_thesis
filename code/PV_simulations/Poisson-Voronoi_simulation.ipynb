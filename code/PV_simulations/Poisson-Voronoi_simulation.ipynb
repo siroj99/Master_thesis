{
 "cells": [
  {
   "cell_type": "code",
   "execution_count": null,
   "metadata": {},
   "outputs": [],
   "source": [
    "import numpy as np\n",
    "import vorostereology as vs\n",
    "from matplotlib import pyplot as plt\n",
    "import mpl_toolkits.mplot3d as m3\n",
    "from mpl_toolkits.mplot3d import Axes3D\n",
    "from matplotlib.collections import PolyCollection\n",
    "from scipy.spatial import Voronoi, voronoi_plot_2d\n",
    "import voroplusplus as vpp\n",
    "import pyvoro\n",
    "from scipy import ndimage\n",
    "import pandas as pd\n",
    "import csv"
   ]
  },
  {
   "cell_type": "code",
   "execution_count": null,
   "metadata": {},
   "outputs": [],
   "source": [
    "# ######################################## Define/ initialize points##############################################\n",
    "s = np.random.default_rng().uniform(0,10,size=(100,3))\n"
   ]
  },
  {
   "cell_type": "code",
   "execution_count": null,
   "metadata": {},
   "outputs": [],
   "source": [
    "s10=s/10"
   ]
  },
  {
   "cell_type": "code",
   "execution_count": null,
   "metadata": {},
   "outputs": [],
   "source": [
    "s.shape"
   ]
  },
  {
   "cell_type": "code",
   "execution_count": null,
   "metadata": {},
   "outputs": [],
   "source": [
    "#######Generate 3D Voronoi###########\n",
    "pycells=pyvoro.compute_voronoi(\n",
    "s, # point positions\n",
    "[[0.0, 10.0], [0.0, 10.0], [0.0, 10.0]], # limits\n",
    "10.0, # block size\n",
    "# particle radii -- optional, and keyword-compatible arg.\n",
    ")"
   ]
  },
  {
   "cell_type": "code",
   "execution_count": null,
   "metadata": {},
   "outputs": [],
   "source": [
    "pycells10=pyvoro.compute_voronoi(\n",
    "s10, # point positions\n",
    "[[0.0, 1.0], [0.0, 1.0], [0.0, 1.0]], # limits\n",
    "1.0, # block size\n",
    "# particle radii -- optional, and keyword-compatible arg.\n",
    ")"
   ]
  },
  {
   "cell_type": "code",
   "execution_count": null,
   "metadata": {},
   "outputs": [],
   "source": [
    "######Taking 9 cross-sections#####\n",
    "coeffs =  np.array([5.0, 0.0, 0.0])\n",
    "r1=np.arange(3.0, 7.0, 0.5).tolist()\n",
    "cross_section_tot=[vs.compute_cross_section(pycells, coeffs, np.array([2.5, 5.0, 10.0]))]\n",
    "for x in range(0,8):\n",
    " cross_section_tot+= [vs.compute_cross_section(pycells, coeffs, np.array([r1[x], 5.0, 10.0]))]\n",
    " "
   ]
  },
  {
   "cell_type": "code",
   "execution_count": null,
   "metadata": {},
   "outputs": [],
   "source": [
    "r1=np.arange(1.0, 7.0, 1.0).tolist()\n",
    "r1"
   ]
  },
  {
   "cell_type": "code",
   "execution_count": null,
   "metadata": {},
   "outputs": [],
   "source": [
    "coeffs10 = np.array([0.5, 0.0, 0.0])\n",
    "r1=np.arange(0.3, 0.7, 0.05).tolist()\n",
    "cross_section_tot10=[vs.compute_cross_section(pycells10, coeffs10, np.array([0.25, 0.5, 1.0]))]\n",
    "for x in range(0,8):\n",
    " cross_section_tot10+= [vs.compute_cross_section(pycells10, coeffs10, np.array([r1[x], 0.5, 1.0]))]\n",
    " "
   ]
  },
  {
   "cell_type": "code",
   "execution_count": null,
   "metadata": {},
   "outputs": [],
   "source": [
    "r1"
   ]
  },
  {
   "cell_type": "code",
   "execution_count": null,
   "metadata": {},
   "outputs": [],
   "source": [
    "#####Taking the centroid of the visible grains in the cross-sections and create data-set#####\n",
    "x = [p[0] for p in cross_section_tot[0]['2d'][0]]\n",
    "y = [p[1] for p in cross_section_tot[0]['2d'][0]]\n",
    "centroid0=[(sum(x) / len(cross_section_tot[0]['2d'][0]), sum(y) / len(cross_section_tot[0]['2d'][0]))]\n",
    "for i in range(1,len(cross_section_tot[0]['2d'])):\n",
    "     x = [p[0] for p in cross_section_tot[0]['2d'][i]]\n",
    "     y = [p[1] for p in cross_section_tot[0]['2d'][i]]\n",
    "     centroid0.append((sum(x) / len(cross_section_tot[0]['2d'][i]), sum(y) / len(cross_section_tot[0]['2d'][i])))\n",
    "id_sec=pd.DataFrame([0.1]*len(cross_section_tot[0]['2d']),columns=['id_sec'])\n",
    "id_grains=pd.DataFrame(cross_section_tot[0]['original_indices'],columns=['id_grain'])\n",
    "grain_area=pd.DataFrame(cross_section_tot[0]['areas'],columns=['g_area'])\n",
    "df0=pd.DataFrame(centroid0,columns=['x','y'])\n",
    "df0=pd.concat([df0.reset_index(drop=True), id_sec, id_grains,grain_area], axis=1)\n",
    "for j in range(1,8):\n",
    "    x = [p[0] for p in cross_section_tot[j]['2d'][0]]\n",
    "    y = [p[1] for p in cross_section_tot[j]['2d'][0]]\n",
    "    centroidj=[(sum(x) / len(cross_section_tot[j]['2d'][0]), sum(y) / len(cross_section_tot[j]['2d'][0]))]\n",
    "    for i in range(1,len(cross_section_tot[j]['2d'])):\n",
    "        x = [p[0] for p in cross_section_tot[j]['2d'][i]]\n",
    "        y = [p[1] for p in cross_section_tot[j]['2d'][i]]   \n",
    "        centroidj.append((sum(x) / len(cross_section_tot[j]['2d'][i]), sum(y) / len(cross_section_tot[j]['2d'][i])))\n",
    "    id_sec=pd.DataFrame([(j+1)*0.1]*len(cross_section_tot[j]['2d']),columns=['id_sec'])\n",
    "    id_grains=pd.DataFrame(cross_section_tot[j]['original_indices'],columns=['id_grain'])\n",
    "    grain_area=pd.DataFrame(cross_section_tot[j]['areas'],columns=['g_area'])\n",
    "    dfj=pd.DataFrame(centroidj,columns=['x','y'])\n",
    "    dfj=pd.concat([dfj.reset_index(drop=True), id_sec, id_grains,grain_area], axis=1)\n",
    "    dfj_tot=pd.concat([df0,dfj])\n",
    "    df0=dfj_tot   \n",
    "\n"
   ]
  },
  {
   "cell_type": "code",
   "execution_count": null,
   "metadata": {},
   "outputs": [],
   "source": [
    "df0.to_csv('dfprova1.csv')"
   ]
  },
  {
   "cell_type": "code",
   "execution_count": null,
   "metadata": {},
   "outputs": [],
   "source": [
    "x10 = [p[0] for p in cross_section_tot10[0]['2d'][0]]\n",
    "y10 = [p[1] for p in cross_section_tot10[0]['2d'][0]]\n",
    "centroid010=[(sum(x10) / len(cross_section_tot10[0]['2d'][0]), sum(y10) / len(cross_section_tot10[0]['2d'][0]))]\n",
    "for i in range(1,len(cross_section_tot[0]['2d'])):\n",
    "     x10 = [p[0] for p in cross_section_tot10[0]['2d'][i]]\n",
    "     y10 = [p[1] for p in cross_section_tot10[0]['2d'][i]]\n",
    "     centroid010.append((sum(x10) / len(cross_section_tot10[0]['2d'][i]), sum(y10) / len(cross_section_tot10[0]['2d'][i])))\n",
    "id_sec10=pd.DataFrame([0.1]*len(cross_section_tot10[0]['2d']),columns=['id_sec'])\n",
    "id_grains10=pd.DataFrame(cross_section_tot10[0]['original_indices'],columns=['id_grain'])\n",
    "grain_area10=pd.DataFrame(cross_section_tot10[0]['areas'],columns=['g_area'])\n",
    "df010=pd.DataFrame(centroid010,columns=['x','y'])\n",
    "df010=pd.concat([df010.reset_index(drop=True), id_sec10, id_grains10,grain_area10], axis=1)\n",
    "for j in range(1,8):\n",
    "    x10 = [p[0] for p in cross_section_tot10[j]['2d'][0]]\n",
    "    y10 = [p[1] for p in cross_section_tot10[j]['2d'][0]]\n",
    "    centroidj10=[(sum(x10) / len(cross_section_tot10[j]['2d'][0]), sum(y10) / len(cross_section_tot10[j]['2d'][0]))]\n",
    "    for i in range(1,len(cross_section_tot10[j]['2d'])):\n",
    "        x10 = [p[0] for p in cross_section_tot10[j]['2d'][i]]\n",
    "        y10 = [p[1] for p in cross_section_tot10[j]['2d'][i]]   \n",
    "        centroidj10.append((sum(x10) / len(cross_section_tot10[j]['2d'][i]), sum(y10) / len(cross_section_tot10[j]['2d'][i])))\n",
    "    id_sec10=pd.DataFrame([(j+1)*0.1]*len(cross_section_tot10[j]['2d']),columns=['id_sec'])\n",
    "    id_grains10=pd.DataFrame(cross_section_tot10[j]['original_indices'],columns=['id_grain'])\n",
    "    grain_area10=pd.DataFrame(cross_section_tot10[j]['areas'],columns=['g_area'])\n",
    "    dfj10=pd.DataFrame(centroidj10,columns=['x','y'])\n",
    "    dfj10=pd.concat([dfj10.reset_index(drop=True), id_sec10, id_grains10,grain_area10], axis=1)\n",
    "    dfj_tot10=pd.concat([df010,dfj10])\n",
    "    df010=dfj_tot10   \n",
    "\n"
   ]
  },
  {
   "cell_type": "code",
   "execution_count": null,
   "metadata": {},
   "outputs": [],
   "source": [
    "df010.to_csv('dfprova10.csv')"
   ]
  },
  {
   "cell_type": "code",
   "execution_count": null,
   "metadata": {},
   "outputs": [],
   "source": [
    "domain = [[0.0, 10.0], [0.0, 10.0], [0.0, 10.0]] \n",
    "fig = plt.figure()\n",
    "ax = Axes3D(fig)\n",
    "\n",
    "for cell_idx, cell in enumerate(pycells):\n",
    "    for facet_idx, facet in enumerate(cell['faces']):\n",
    "        idx = np.array(facet['vertices'])\n",
    "        polygon = m3.art3d.Poly3DCollection([np.array(cell['vertices'])[idx]])\n",
    "        polygon.set_edgecolor('k')\n",
    "        polygon.set_alpha(0.1)\n",
    "        ax.add_collection3d(polygon)\n",
    "\n",
    "for x in range(0, 9, 1):\n",
    "    for cell in cross_section_tot[x]['3d']:\n",
    "        polygon = m3.art3d.Poly3DCollection([cell])\n",
    "        polygon.set_color(\"red\")\n",
    "        polygon.set_edgecolor('k')\n",
    "        ax.add_collection3d(polygon)\n",
    "\n",
    "    \n",
    "ax.set_xlim3d(domain[0])\n",
    "ax.set_ylim3d(domain[1])\n",
    "ax.set_zlim3d(domain[2])\n",
    "ax.set_box_aspect((1, 1, 1))\n",
    "ax.set_axis_off()\n",
    "plt.show(block=False)\n",
    "\n"
   ]
  },
  {
   "cell_type": "code",
   "execution_count": null,
   "metadata": {},
   "outputs": [],
   "source": [
    "fig2 = plt.figure()\n",
    "ax2 = fig2.add_subplot(111)\n",
    "\n",
    "coll = PolyCollection(cross_section_tot[0]['2d'], facecolors=\"red\", edgecolors='k')\n",
    "ax2.add_collection(coll)\n",
    "ax2.axis(\"equal\")\n",
    "ax2.set_axis_off()\n",
    "fig2.tight_layout()\n",
    "plt.show()\n",
    "\n",
    "\n"
   ]
  },
  {
   "cell_type": "code",
   "execution_count": null,
   "metadata": {},
   "outputs": [],
   "source": [
    "domain = [[0.0, 1.0], [0.0, 1.0], [0.0, 1.0]] \n",
    "fig = plt.figure()\n",
    "ax = Axes3D(fig)\n",
    "\n",
    "for cell_idx, cell in enumerate(pycells10):\n",
    "    for facet_idx, facet in enumerate(cell['faces']):\n",
    "        idx = np.array(facet['vertices'])\n",
    "        polygon = m3.art3d.Poly3DCollection([np.array(cell['vertices'])[idx]])\n",
    "        polygon.set_edgecolor('k')\n",
    "        polygon.set_alpha(0.1)\n",
    "        ax.add_collection3d(polygon)\n",
    "\n",
    "\n",
    "for x in range(0, 9, 1):\n",
    "    for cell in cross_section_tot10[x]['3d']:\n",
    "        polygon = m3.art3d.Poly3DCollection([cell])\n",
    "        polygon.set_color(\"red\")\n",
    "        polygon.set_edgecolor('k')\n",
    "        ax.add_collection3d(polygon)\n",
    "    \n",
    "ax.set_xlim3d(domain[0])\n",
    "ax.set_ylim3d(domain[1])\n",
    "ax.set_zlim3d(domain[2])\n",
    "ax.set_box_aspect((1, 1, 1))\n",
    "ax.set_axis_off()\n",
    "plt.show(block=False)\n",
    "\n",
    "\n"
   ]
  },
  {
   "cell_type": "code",
   "execution_count": null,
   "metadata": {},
   "outputs": [],
   "source": [
    "fig2 = plt.figure()\n",
    "ax2 = fig2.add_subplot(111)\n",
    "\n",
    "coll = PolyCollection(cross_section_tot10[0]['2d'], facecolors=\"red\", edgecolors='k')\n",
    "ax2.add_collection(coll)\n",
    "ax2.axis(\"equal\")\n",
    "ax2.set_axis_off()\n",
    "fig2.tight_layout()\n",
    "plt.show()"
   ]
  },
  {
   "cell_type": "code",
   "execution_count": null,
   "metadata": {},
   "outputs": [],
   "source": [
    "#####Taking the center of mass of the visible grains in the cross-sections and create data-set#####\n",
    "center_mass0=[ndimage.measurements.center_of_mass(cross_section_tot[0]['2d'][0])]\n",
    "for i in range(1,len(cross_section_tot[0]['2d'])):\n",
    " center_mass0.append(ndimage.measurements.center_of_mass(cross_section_tot[0]['2d'][i]))\n",
    "\n",
    "id_sec=pd.DataFrame([0.1]*len(cross_section_tot[0]['2d']),columns=['id_sec'])\n",
    "id_grains=pd.DataFrame(cross_section_tot[0]['original_indices'],columns=['id_grain'])\n",
    "df0=pd.DataFrame(center_mass0,columns=['x','y'])\n",
    "df0=pd.concat([df0.reset_index(drop=True), id_sec, id_grains], axis=1)\n",
    "for x in range(1,8):\n",
    "    center_massx=[ndimage.measurements.center_of_mass(cross_section_tot[x]['2d'][0])]\n",
    "    for i in range(1,len(cross_section_tot[x]['2d'])):\n",
    "     center_massx.append(ndimage.measurements.center_of_mass(cross_section_tot[x]['2d'][i]))\n",
    "    id_sec=pd.DataFrame([(x+1)*0.1]*len(cross_section_tot[x]['2d']),columns=['id_sec'])\n",
    "    id_grains=pd.DataFrame(cross_section_tot[x]['original_indices'],columns=['id_grain'])\n",
    "    dfx=pd.DataFrame(center_massx,columns=['x','y'])\n",
    "    dfx=pd.concat([dfx.reset_index(drop=True), id_sec, id_grains], axis=1)\n",
    "    dfx_tot=pd.concat([df0,dfx])\n",
    "    df0=dfx_tot   "
   ]
  },
  {
   "cell_type": "code",
   "execution_count": null,
   "metadata": {},
   "outputs": [],
   "source": [
    "center_mass010=[ndimage.measurements.center_of_mass(cross_section_tot[0]['2d'][0])]\n",
    "for i in range(1,len(cross_section_tot[0]['2d'])):\n",
    " center_mass0.append(ndimage.measurements.center_of_mass(cross_section_tot[0]['2d'][i]))\n",
    "\n",
    "id_sec=pd.DataFrame([0.1]*len(cross_section_tot[0]['2d']),columns=['id_sec'])\n",
    "id_grains=pd.DataFrame(cross_section_tot[0]['original_indices'],columns=['id_grain'])\n",
    "df0=pd.DataFrame(center_mass0,columns=['x','y'])\n",
    "df0=pd.concat([df0.reset_index(drop=True), id_sec, id_grains], axis=1)\n",
    "for x in range(1,8):\n",
    "    center_massx=[ndimage.measurements.center_of_mass(cross_section_tot[x]['2d'][0])]\n",
    "    for i in range(1,len(cross_section_tot[x]['2d'])):\n",
    "     center_massx.append(ndimage.measurements.center_of_mass(cross_section_tot[x]['2d'][i]))\n",
    "    id_sec=pd.DataFrame([(x+1)*0.1]*len(cross_section_tot[x]['2d']),columns=['id_sec'])\n",
    "    id_grains=pd.DataFrame(cross_section_tot[x]['original_indices'],columns=['id_grain'])\n",
    "    dfx=pd.DataFrame(center_massx,columns=['x','y'])\n",
    "    dfx=pd.concat([dfx.reset_index(drop=True), id_sec, id_grains], axis=1)\n",
    "    dfx_tot=pd.concat([df0,dfx])\n",
    "    df0=dfx_tot   "
   ]
  },
  {
   "cell_type": "code",
   "execution_count": null,
   "metadata": {},
   "outputs": [],
   "source": []
  },
  {
   "cell_type": "code",
   "execution_count": null,
   "metadata": {},
   "outputs": [],
   "source": [
    "####Finalize dataset and export data####\n",
    "id_vor=pd.DataFrame([1]*dfx_tot.shape[0],columns=['id_vor'])\n",
    "dfx_tot=pd.concat([dfx_tot.reset_index(drop=True), id_vor], axis=1)"
   ]
  },
  {
   "cell_type": "code",
   "execution_count": null,
   "metadata": {},
   "outputs": [],
   "source": [
    "dfx_tot.to_csv('dftotvor1.csv')"
   ]
  },
  {
   "cell_type": "code",
   "execution_count": null,
   "metadata": {},
   "outputs": [],
   "source": [
    "#########Generazione multipla######\n",
    "dfj_tot_tot=pd.DataFrame(columns=['x','y','id_sec','id_grain','g_area','id_vor'])\n",
    "for k in range(1,1000):\n",
    "    s = np.random.default_rng().uniform(0,10,size=(100,3))\n",
    "    pycells=pyvoro.compute_voronoi(\n",
    "    s, [[0.0, 10.0], [0.0, 10.0], [0.0, 10.0]], 10.0,)\n",
    "    coeffs = np.array([5.0, 0.0, 0.0])\n",
    "    r1=np.arange(0.2, 1, 0.1).tolist()\n",
    "    cross_section_tot=[vs.compute_cross_section(pycells, coeffs, np.array([0.1+5.0, 5.0, 10.0]))]\n",
    "    for x in range(0,8):\n",
    "     cross_section_tot+= [vs.compute_cross_section(pycells, coeffs, np.array([r1[x]+5.0, 5.0, 10.0]))]\n",
    "    x = [p[0] for p in cross_section_tot[0]['2d'][0]]\n",
    "    y = [p[1] for p in cross_section_tot[0]['2d'][0]]\n",
    "    centroid0=[(sum(x) / len(cross_section_tot[0]['2d'][0]), sum(y) / len(cross_section_tot[0]['2d'][0]))]\n",
    "    for i in range(1,len(cross_section_tot[0]['2d'])):\n",
    "         x = [p[0] for p in cross_section_tot[0]['2d'][i]]\n",
    "         y = [p[1] for p in cross_section_tot[0]['2d'][i]]\n",
    "         centroid0.append((sum(x) / len(cross_section_tot[0]['2d'][i]), sum(y) / len(cross_section_tot[0]['2d'][i])))\n",
    "    id_sec=pd.DataFrame([0.1]*len(cross_section_tot[0]['2d']),columns=['id_sec'])\n",
    "    id_grains=pd.DataFrame(cross_section_tot[0]['original_indices'],columns=['id_grain'])\n",
    "    grain_area=pd.DataFrame(cross_section_tot[0]['areas'],columns=['g_area'])\n",
    "    df0=pd.DataFrame(centroid0,columns=['x','y'])\n",
    "    df0=pd.concat([df0.reset_index(drop=True), id_sec, id_grains,grain_area], axis=1)\n",
    "    for j in range(1,8):\n",
    "        x = [p[0] for p in cross_section_tot[j]['2d'][0]]\n",
    "        y = [p[1] for p in cross_section_tot[j]['2d'][0]]\n",
    "        centroidj=[(sum(x) / len(cross_section_tot[j]['2d'][0]), sum(y) / len(cross_section_tot[j]['2d'][0]))]\n",
    "        for i in range(1,len(cross_section_tot[j]['2d'])):\n",
    "            x = [p[0] for p in cross_section_tot[j]['2d'][i]]\n",
    "            y = [p[1] for p in cross_section_tot[j]['2d'][i]]   \n",
    "            centroidj.append((sum(x) / len(cross_section_tot[j]['2d'][i]), sum(y) / len(cross_section_tot[j]['2d'][i])))\n",
    "        id_sec=pd.DataFrame([(j+1)*0.1]*len(cross_section_tot[j]['2d']),columns=['id_sec'])\n",
    "        id_grains=pd.DataFrame(cross_section_tot[j]['original_indices'],columns=['id_grain'])\n",
    "        grain_area=pd.DataFrame(cross_section_tot[j]['areas'],columns=['g_area'])\n",
    "        dfj=pd.DataFrame(centroidj,columns=['x','y'])\n",
    "        dfj=pd.concat([dfj.reset_index(drop=True), id_sec, id_grains,grain_area], axis=1)\n",
    "        dfj_tot=pd.concat([df0,dfj])\n",
    "        df0=dfj_tot   \n",
    "    id_vor=pd.DataFrame([k]*dfj_tot.shape[0],columns=['id_vor'])\n",
    "    dfj_tot=pd.concat([dfj_tot.reset_index(drop=True), id_vor], axis=1)   \n",
    "    dfj_tot=pd.concat([dfj_tot ,dfj_tot_tot])\n",
    "    dfj_tot_tot=dfj_tot \n",
    "    \n"
   ]
  },
  {
   "cell_type": "code",
   "execution_count": null,
   "metadata": {},
   "outputs": [],
   "source": [
    "np.arange(0.3, 0.7, 0.05).tolist()"
   ]
  },
  {
   "cell_type": "code",
   "execution_count": null,
   "metadata": {},
   "outputs": [],
   "source": []
  },
  {
   "cell_type": "code",
   "execution_count": null,
   "metadata": {},
   "outputs": [],
   "source": [
    "r1"
   ]
  },
  {
   "cell_type": "code",
   "execution_count": null,
   "metadata": {},
   "outputs": [],
   "source": [
    "dfj_tot_tot.to_csv('dfpvcomp100100slicesclose.csv')\n"
   ]
  },
  {
   "cell_type": "code",
   "execution_count": null,
   "metadata": {},
   "outputs": [],
   "source": [
    "range(2, 10, 1)"
   ]
  },
  {
   "cell_type": "code",
   "execution_count": null,
   "metadata": {},
   "outputs": [],
   "source": [
    "np.arange(0.2, 1, 0.1).tolist()"
   ]
  },
  {
   "cell_type": "code",
   "execution_count": 9,
   "metadata": {},
   "outputs": [
    {
     "ename": "KeyboardInterrupt",
     "evalue": "",
     "output_type": "error",
     "traceback": [
      "\u001b[0;31m---------------------------------------------------------------------------\u001b[0m",
      "\u001b[0;31mKeyboardInterrupt\u001b[0m                         Traceback (most recent call last)",
      "\u001b[0;32m<ipython-input-9-fd386c186884>\u001b[0m in \u001b[0;36m<module>\u001b[0;34m\u001b[0m\n\u001b[1;32m      9\u001b[0m     \u001b[0mcross_section_tot10\u001b[0m\u001b[0;34m=\u001b[0m\u001b[0;34m[\u001b[0m\u001b[0mvs\u001b[0m\u001b[0;34m.\u001b[0m\u001b[0mcompute_cross_section\u001b[0m\u001b[0;34m(\u001b[0m\u001b[0mpycells10\u001b[0m\u001b[0;34m,\u001b[0m \u001b[0mcoeffs10\u001b[0m\u001b[0;34m,\u001b[0m \u001b[0mnp\u001b[0m\u001b[0;34m.\u001b[0m\u001b[0marray\u001b[0m\u001b[0;34m(\u001b[0m\u001b[0;34m[\u001b[0m\u001b[0;36m0.25\u001b[0m\u001b[0;34m,\u001b[0m \u001b[0;36m0.5\u001b[0m\u001b[0;34m,\u001b[0m \u001b[0;36m1.0\u001b[0m\u001b[0;34m]\u001b[0m\u001b[0;34m)\u001b[0m\u001b[0;34m)\u001b[0m\u001b[0;34m]\u001b[0m\u001b[0;34m\u001b[0m\u001b[0;34m\u001b[0m\u001b[0m\n\u001b[1;32m     10\u001b[0m     \u001b[0;32mfor\u001b[0m \u001b[0mx\u001b[0m \u001b[0;32min\u001b[0m \u001b[0mrange\u001b[0m\u001b[0;34m(\u001b[0m\u001b[0;36m0\u001b[0m\u001b[0;34m,\u001b[0m\u001b[0;36m8\u001b[0m\u001b[0;34m)\u001b[0m\u001b[0;34m:\u001b[0m\u001b[0;34m\u001b[0m\u001b[0;34m\u001b[0m\u001b[0m\n\u001b[0;32m---> 11\u001b[0;31m      \u001b[0mcross_section_tot10\u001b[0m\u001b[0;34m+=\u001b[0m \u001b[0;34m[\u001b[0m\u001b[0mvs\u001b[0m\u001b[0;34m.\u001b[0m\u001b[0mcompute_cross_section\u001b[0m\u001b[0;34m(\u001b[0m\u001b[0mpycells10\u001b[0m\u001b[0;34m,\u001b[0m \u001b[0mcoeffs10\u001b[0m\u001b[0;34m,\u001b[0m \u001b[0mnp\u001b[0m\u001b[0;34m.\u001b[0m\u001b[0marray\u001b[0m\u001b[0;34m(\u001b[0m\u001b[0;34m[\u001b[0m\u001b[0mr110\u001b[0m\u001b[0;34m[\u001b[0m\u001b[0mx\u001b[0m\u001b[0;34m]\u001b[0m\u001b[0;34m,\u001b[0m \u001b[0;36m0.5\u001b[0m\u001b[0;34m,\u001b[0m \u001b[0;36m1.0\u001b[0m\u001b[0;34m]\u001b[0m\u001b[0;34m)\u001b[0m\u001b[0;34m)\u001b[0m\u001b[0;34m]\u001b[0m\u001b[0;34m\u001b[0m\u001b[0;34m\u001b[0m\u001b[0m\n\u001b[0m\u001b[1;32m     12\u001b[0m     \u001b[0mx10\u001b[0m \u001b[0;34m=\u001b[0m \u001b[0;34m[\u001b[0m\u001b[0mp\u001b[0m\u001b[0;34m[\u001b[0m\u001b[0;36m0\u001b[0m\u001b[0;34m]\u001b[0m \u001b[0;32mfor\u001b[0m \u001b[0mp\u001b[0m \u001b[0;32min\u001b[0m \u001b[0mcross_section_tot10\u001b[0m\u001b[0;34m[\u001b[0m\u001b[0;36m0\u001b[0m\u001b[0;34m]\u001b[0m\u001b[0;34m[\u001b[0m\u001b[0;34m'2d'\u001b[0m\u001b[0;34m]\u001b[0m\u001b[0;34m[\u001b[0m\u001b[0;36m0\u001b[0m\u001b[0;34m]\u001b[0m\u001b[0;34m]\u001b[0m\u001b[0;34m\u001b[0m\u001b[0;34m\u001b[0m\u001b[0m\n\u001b[1;32m     13\u001b[0m     \u001b[0my10\u001b[0m \u001b[0;34m=\u001b[0m \u001b[0;34m[\u001b[0m\u001b[0mp\u001b[0m\u001b[0;34m[\u001b[0m\u001b[0;36m1\u001b[0m\u001b[0;34m]\u001b[0m \u001b[0;32mfor\u001b[0m \u001b[0mp\u001b[0m \u001b[0;32min\u001b[0m \u001b[0mcross_section_tot10\u001b[0m\u001b[0;34m[\u001b[0m\u001b[0;36m0\u001b[0m\u001b[0;34m]\u001b[0m\u001b[0;34m[\u001b[0m\u001b[0;34m'2d'\u001b[0m\u001b[0;34m]\u001b[0m\u001b[0;34m[\u001b[0m\u001b[0;36m0\u001b[0m\u001b[0;34m]\u001b[0m\u001b[0;34m]\u001b[0m\u001b[0;34m\u001b[0m\u001b[0;34m\u001b[0m\u001b[0m\n",
      "\u001b[0;32m/opt/anaconda3/lib/python3.8/site-packages/vorostereology/__init__.py\u001b[0m in \u001b[0;36mcompute_cross_section\u001b[0;34m(cells, coeffs, offset)\u001b[0m\n\u001b[1;32m    284\u001b[0m         \u001b[0mAt\u001b[0m \u001b[0mindex\u001b[0m \u001b[0mj\u001b[0m \u001b[0mof\u001b[0m \u001b[0;34m\"areas\"\u001b[0m \u001b[0mwe\u001b[0m \u001b[0mfind\u001b[0m \u001b[0mthe\u001b[0m \u001b[0marea\u001b[0m \u001b[0mof\u001b[0m \u001b[0mthe\u001b[0m \u001b[0mj\u001b[0m\u001b[0;34m-\u001b[0m\u001b[0mth\u001b[0m \u001b[0mcell\u001b[0m \u001b[0;32min\u001b[0m \u001b[0mthe\u001b[0m \u001b[0mcross\u001b[0m \u001b[0msection\u001b[0m\u001b[0;34m.\u001b[0m\u001b[0;34m\u001b[0m\u001b[0;34m\u001b[0m\u001b[0m\n\u001b[1;32m    285\u001b[0m     \"\"\"\n\u001b[0;32m--> 286\u001b[0;31m     \u001b[0;32mreturn\u001b[0m \u001b[0mfunction_definitions\u001b[0m\u001b[0;34m.\u001b[0m\u001b[0mcompute_cross_section\u001b[0m\u001b[0;34m(\u001b[0m\u001b[0mcells\u001b[0m\u001b[0;34m,\u001b[0m \u001b[0mcoeffs\u001b[0m\u001b[0;34m,\u001b[0m \u001b[0moffset\u001b[0m\u001b[0;34m)\u001b[0m\u001b[0;34m\u001b[0m\u001b[0;34m\u001b[0m\u001b[0m\n\u001b[0m\u001b[1;32m    287\u001b[0m \u001b[0;34m\u001b[0m\u001b[0m\n\u001b[1;32m    288\u001b[0m \u001b[0;34m\u001b[0m\u001b[0m\n",
      "\u001b[0;32m/opt/anaconda3/lib/python3.8/site-packages/vorostereology/function_definitions.py\u001b[0m in \u001b[0;36mcompute_cross_section\u001b[0;34m(cells, coeffs, offset)\u001b[0m\n\u001b[1;32m     79\u001b[0m                 \u001b[0medge\u001b[0m \u001b[0;34m=\u001b[0m \u001b[0mnp\u001b[0m\u001b[0;34m.\u001b[0m\u001b[0marray\u001b[0m\u001b[0;34m(\u001b[0m\u001b[0mcell\u001b[0m\u001b[0;34m[\u001b[0m\u001b[0;34m'vertices'\u001b[0m\u001b[0;34m]\u001b[0m\u001b[0;34m)\u001b[0m\u001b[0;34m[\u001b[0m\u001b[0;34m[\u001b[0m\u001b[0mfacet_vertex_indices\u001b[0m\u001b[0;34m[\u001b[0m\u001b[0mi\u001b[0m\u001b[0;34m]\u001b[0m\u001b[0;34m,\u001b[0m \u001b[0mfacet_vertex_indices\u001b[0m\u001b[0;34m[\u001b[0m\u001b[0mi\u001b[0m \u001b[0;34m+\u001b[0m \u001b[0;36m1\u001b[0m\u001b[0;34m]\u001b[0m\u001b[0;34m]\u001b[0m\u001b[0;34m]\u001b[0m\u001b[0;34m\u001b[0m\u001b[0;34m\u001b[0m\u001b[0m\n\u001b[1;32m     80\u001b[0m                 \u001b[0msgn1\u001b[0m \u001b[0;34m=\u001b[0m \u001b[0msgn\u001b[0m\u001b[0;34m(\u001b[0m\u001b[0mnp\u001b[0m\u001b[0;34m.\u001b[0m\u001b[0mdot\u001b[0m\u001b[0;34m(\u001b[0m\u001b[0mcoeffs\u001b[0m\u001b[0;34m,\u001b[0m \u001b[0medge\u001b[0m\u001b[0;34m[\u001b[0m\u001b[0;36m0\u001b[0m\u001b[0;34m]\u001b[0m \u001b[0;34m-\u001b[0m \u001b[0moffset\u001b[0m\u001b[0;34m)\u001b[0m\u001b[0;34m)\u001b[0m\u001b[0;34m\u001b[0m\u001b[0;34m\u001b[0m\u001b[0m\n\u001b[0;32m---> 81\u001b[0;31m                 \u001b[0msgn2\u001b[0m \u001b[0;34m=\u001b[0m \u001b[0msgn\u001b[0m\u001b[0;34m(\u001b[0m\u001b[0mnp\u001b[0m\u001b[0;34m.\u001b[0m\u001b[0mdot\u001b[0m\u001b[0;34m(\u001b[0m\u001b[0mcoeffs\u001b[0m\u001b[0;34m,\u001b[0m \u001b[0medge\u001b[0m\u001b[0;34m[\u001b[0m\u001b[0;36m1\u001b[0m\u001b[0;34m]\u001b[0m \u001b[0;34m-\u001b[0m \u001b[0moffset\u001b[0m\u001b[0;34m)\u001b[0m\u001b[0;34m)\u001b[0m\u001b[0;34m\u001b[0m\u001b[0;34m\u001b[0m\u001b[0m\n\u001b[0m\u001b[1;32m     82\u001b[0m                 \u001b[0;32mif\u001b[0m \u001b[0msgn1\u001b[0m\u001b[0;34m*\u001b[0m\u001b[0msgn2\u001b[0m \u001b[0;34m==\u001b[0m \u001b[0;34m-\u001b[0m\u001b[0;36m1\u001b[0m \u001b[0;32mand\u001b[0m \u001b[0;34m(\u001b[0m\u001b[0medge_indices\u001b[0m \u001b[0;32mnot\u001b[0m \u001b[0;32min\u001b[0m \u001b[0mvertices_indices\u001b[0m\u001b[0;34m)\u001b[0m\u001b[0;34m:\u001b[0m\u001b[0;34m\u001b[0m\u001b[0;34m\u001b[0m\u001b[0m\n\u001b[1;32m     83\u001b[0m                     \u001b[0mt\u001b[0m \u001b[0;34m=\u001b[0m \u001b[0mnp\u001b[0m\u001b[0;34m.\u001b[0m\u001b[0mdot\u001b[0m\u001b[0;34m(\u001b[0m\u001b[0mcoeffs\u001b[0m\u001b[0;34m,\u001b[0m \u001b[0moffset\u001b[0m \u001b[0;34m-\u001b[0m \u001b[0medge\u001b[0m\u001b[0;34m[\u001b[0m\u001b[0;36m0\u001b[0m\u001b[0;34m]\u001b[0m\u001b[0;34m)\u001b[0m \u001b[0;34m/\u001b[0m \u001b[0mnp\u001b[0m\u001b[0;34m.\u001b[0m\u001b[0mdot\u001b[0m\u001b[0;34m(\u001b[0m\u001b[0mcoeffs\u001b[0m\u001b[0;34m,\u001b[0m \u001b[0medge\u001b[0m\u001b[0;34m[\u001b[0m\u001b[0;36m1\u001b[0m\u001b[0;34m]\u001b[0m \u001b[0;34m-\u001b[0m \u001b[0medge\u001b[0m\u001b[0;34m[\u001b[0m\u001b[0;36m0\u001b[0m\u001b[0;34m]\u001b[0m\u001b[0;34m)\u001b[0m\u001b[0;34m\u001b[0m\u001b[0;34m\u001b[0m\u001b[0m\n",
      "\u001b[0;32m/opt/anaconda3/lib/python3.8/site-packages/vorostereology/function_definitions.py\u001b[0m in \u001b[0;36msgn\u001b[0;34m(x)\u001b[0m\n\u001b[1;32m     34\u001b[0m \u001b[0;34m\u001b[0m\u001b[0m\n\u001b[1;32m     35\u001b[0m \u001b[0;32mdef\u001b[0m \u001b[0msgn\u001b[0m\u001b[0;34m(\u001b[0m\u001b[0mx\u001b[0m\u001b[0;34m)\u001b[0m\u001b[0;34m:\u001b[0m\u001b[0;34m\u001b[0m\u001b[0;34m\u001b[0m\u001b[0m\n\u001b[0;32m---> 36\u001b[0;31m     \u001b[0;32mif\u001b[0m \u001b[0mnp\u001b[0m\u001b[0;34m.\u001b[0m\u001b[0mabs\u001b[0m\u001b[0;34m(\u001b[0m\u001b[0mx\u001b[0m\u001b[0;34m)\u001b[0m \u001b[0;34m<\u001b[0m \u001b[0;36m1e-15\u001b[0m\u001b[0;34m:\u001b[0m\u001b[0;34m\u001b[0m\u001b[0;34m\u001b[0m\u001b[0m\n\u001b[0m\u001b[1;32m     37\u001b[0m         \u001b[0;32mreturn\u001b[0m \u001b[0;36m0\u001b[0m\u001b[0;34m\u001b[0m\u001b[0;34m\u001b[0m\u001b[0m\n\u001b[1;32m     38\u001b[0m     \u001b[0;32melse\u001b[0m\u001b[0;34m:\u001b[0m\u001b[0;34m\u001b[0m\u001b[0;34m\u001b[0m\u001b[0m\n",
      "\u001b[0;31mKeyboardInterrupt\u001b[0m: "
     ]
    }
   ],
   "source": [
    "#########Generazione multipla######\n",
    "dfj_tot_tot10=pd.DataFrame(columns=['x','y','id_sec','id_grain','g_area','id_vor'])\n",
    "for k in range(1,3001):\n",
    "    s = np.random.default_rng().uniform(0,1,size=(1000,3))\n",
    "    pycells10=pyvoro.compute_voronoi(\n",
    "    s, [[0.0, 1.0], [0.0, 1.0], [0.0, 1.0]], 1.0,)\n",
    "    coeffs10 = np.array([0.5, 0.0, 0.0])\n",
    "    r110=np.arange(0.3, 0.7, 0.05).tolist()\n",
    "    cross_section_tot10=[vs.compute_cross_section(pycells10, coeffs10, np.array([0.25, 0.5, 1.0]))]\n",
    "    for x in range(0,8):\n",
    "     cross_section_tot10+= [vs.compute_cross_section(pycells10, coeffs10, np.array([r110[x], 0.5, 1.0]))]\n",
    "    x10 = [p[0] for p in cross_section_tot10[0]['2d'][0]]\n",
    "    y10 = [p[1] for p in cross_section_tot10[0]['2d'][0]]\n",
    "    centroid010=[(sum(x10) / len(cross_section_tot10[0]['2d'][0]), sum(y10) / len(cross_section_tot10[0]['2d'][0]))]\n",
    "    for i in range(1,len(cross_section_tot10[0]['2d'])):\n",
    "         x10 = [p[0] for p in cross_section_tot10[0]['2d'][i]]\n",
    "         y10 = [p[1] for p in cross_section_tot10[0]['2d'][i]]\n",
    "         centroid010.append((sum(x10) / len(cross_section_tot10[0]['2d'][i]), sum(y10) / len(cross_section_tot10[0]['2d'][i])))\n",
    "    id_sec10=pd.DataFrame([0.1]*len(cross_section_tot10[0]['2d']),columns=['id_sec'])\n",
    "    id_grains10=pd.DataFrame(cross_section_tot10[0]['original_indices'],columns=['id_grain'])\n",
    "    grain_area10=pd.DataFrame(cross_section_tot10[0]['areas'],columns=['g_area'])\n",
    "    df010=pd.DataFrame(centroid010,columns=['x','y'])\n",
    "    df010=pd.concat([df010.reset_index(drop=True), id_sec10, id_grains10,grain_area10], axis=1)\n",
    "    for j in range(1,8):\n",
    "        x10 = [p[0] for p in cross_section_tot10[j]['2d'][0]]\n",
    "        y10 = [p[1] for p in cross_section_tot10[j]['2d'][0]]\n",
    "        centroid10j=[(sum(x10) / len(cross_section_tot10[j]['2d'][0]), sum(y10) / len(cross_section_tot10[j]['2d'][0]))]\n",
    "        for i in range(1,len(cross_section_tot10[j]['2d'])):\n",
    "            x10 = [p[0] for p in cross_section_tot10[j]['2d'][i]]\n",
    "            y10 = [p[1] for p in cross_section_tot10[j]['2d'][i]]   \n",
    "            centroid10j.append((sum(x10) / len(cross_section_tot10[j]['2d'][i]), sum(y10) / len(cross_section_tot10[j]['2d'][i])))\n",
    "        id_sec10=pd.DataFrame([(j+1)*0.1]*len(cross_section_tot10[j]['2d']),columns=['id_sec'])\n",
    "        id_grains10=pd.DataFrame(cross_section_tot10[j]['original_indices'],columns=['id_grain'])\n",
    "        grain_area10=pd.DataFrame(cross_section_tot10[j]['areas'],columns=['g_area'])\n",
    "        dfj10=pd.DataFrame(centroid10j,columns=['x','y'])\n",
    "        dfj10=pd.concat([dfj10.reset_index(drop=True), id_sec10, id_grains10,grain_area10], axis=1)\n",
    "        dfj_tot10=pd.concat([df010,dfj10])\n",
    "        df010=dfj_tot10   \n",
    "    id_vor10=pd.DataFrame([k]*dfj_tot10.shape[0],columns=['id_vor'])\n",
    "    dfj_tot10=pd.concat([dfj_tot10.reset_index(drop=True), id_vor10], axis=1)   \n",
    "    dfj_tot10=pd.concat([dfj_tot10 ,dfj_tot_tot10])\n",
    "    dfj_tot_tot10=dfj_tot10 "
   ]
  },
  {
   "cell_type": "code",
   "execution_count": 11,
   "metadata": {},
   "outputs": [],
   "source": [
    "dfj_tot_tot10.to_csv('dfpvcomp1000sim3.csv')"
   ]
  },
  {
   "cell_type": "code",
   "execution_count": 10,
   "metadata": {},
   "outputs": [
    {
     "data": {
      "text/html": [
       "<div>\n",
       "<style scoped>\n",
       "    .dataframe tbody tr th:only-of-type {\n",
       "        vertical-align: middle;\n",
       "    }\n",
       "\n",
       "    .dataframe tbody tr th {\n",
       "        vertical-align: top;\n",
       "    }\n",
       "\n",
       "    .dataframe thead th {\n",
       "        text-align: right;\n",
       "    }\n",
       "</style>\n",
       "<table border=\"1\" class=\"dataframe\">\n",
       "  <thead>\n",
       "    <tr style=\"text-align: right;\">\n",
       "      <th></th>\n",
       "      <th>x</th>\n",
       "      <th>y</th>\n",
       "      <th>id_sec</th>\n",
       "      <th>id_grain</th>\n",
       "      <th>g_area</th>\n",
       "      <th>id_vor</th>\n",
       "    </tr>\n",
       "  </thead>\n",
       "  <tbody>\n",
       "    <tr>\n",
       "      <th>0</th>\n",
       "      <td>0.851817</td>\n",
       "      <td>0.054227</td>\n",
       "      <td>0.1</td>\n",
       "      <td>13</td>\n",
       "      <td>0.013651</td>\n",
       "      <td>1180</td>\n",
       "    </tr>\n",
       "    <tr>\n",
       "      <th>1</th>\n",
       "      <td>0.698472</td>\n",
       "      <td>0.454576</td>\n",
       "      <td>0.1</td>\n",
       "      <td>14</td>\n",
       "      <td>0.009744</td>\n",
       "      <td>1180</td>\n",
       "    </tr>\n",
       "    <tr>\n",
       "      <th>2</th>\n",
       "      <td>0.204713</td>\n",
       "      <td>-0.259036</td>\n",
       "      <td>0.1</td>\n",
       "      <td>15</td>\n",
       "      <td>0.005936</td>\n",
       "      <td>1180</td>\n",
       "    </tr>\n",
       "    <tr>\n",
       "      <th>3</th>\n",
       "      <td>0.295177</td>\n",
       "      <td>-0.099961</td>\n",
       "      <td>0.1</td>\n",
       "      <td>16</td>\n",
       "      <td>0.015383</td>\n",
       "      <td>1180</td>\n",
       "    </tr>\n",
       "    <tr>\n",
       "      <th>4</th>\n",
       "      <td>0.922976</td>\n",
       "      <td>0.352859</td>\n",
       "      <td>0.1</td>\n",
       "      <td>23</td>\n",
       "      <td>0.008619</td>\n",
       "      <td>1180</td>\n",
       "    </tr>\n",
       "  </tbody>\n",
       "</table>\n",
       "</div>"
      ],
      "text/plain": [
       "          x         y  id_sec id_grain    g_area id_vor\n",
       "0  0.851817  0.054227     0.1       13  0.013651   1180\n",
       "1  0.698472  0.454576     0.1       14  0.009744   1180\n",
       "2  0.204713 -0.259036     0.1       15  0.005936   1180\n",
       "3  0.295177 -0.099961     0.1       16  0.015383   1180\n",
       "4  0.922976  0.352859     0.1       23  0.008619   1180"
      ]
     },
     "execution_count": 10,
     "metadata": {},
     "output_type": "execute_result"
    }
   ],
   "source": [
    "dfj_tot_tot10.head()"
   ]
  },
  {
   "cell_type": "code",
   "execution_count": null,
   "metadata": {},
   "outputs": [],
   "source": [
    "dfj_tot_tot10.to_csv('dfpvcomp04scaling.csv')"
   ]
  },
  {
   "cell_type": "code",
   "execution_count": null,
   "metadata": {},
   "outputs": [],
   "source": [
    "k"
   ]
  },
  {
   "cell_type": "code",
   "execution_count": null,
   "metadata": {},
   "outputs": [],
   "source": []
  },
  {
   "cell_type": "code",
   "execution_count": null,
   "metadata": {},
   "outputs": [],
   "source": []
  },
  {
   "cell_type": "code",
   "execution_count": null,
   "metadata": {},
   "outputs": [],
   "source": []
  }
 ],
 "metadata": {
  "kernelspec": {
   "display_name": "Python 3",
   "language": "python",
   "name": "python3"
  },
  "language_info": {
   "codemirror_mode": {
    "name": "ipython",
    "version": 3
   },
   "file_extension": ".py",
   "mimetype": "text/x-python",
   "name": "python",
   "nbconvert_exporter": "python",
   "pygments_lexer": "ipython3",
   "version": "3.8.8"
  }
 },
 "nbformat": 4,
 "nbformat_minor": 4
}
