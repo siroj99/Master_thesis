{
 "cells": [
  {
   "cell_type": "code",
   "execution_count": 1,
   "id": "84f1ef72",
   "metadata": {},
   "outputs": [],
   "source": [
    "from landscapes import *\n",
    "import os\n",
    "import os.path as osp\n",
    "import pickle\n",
    "from sklearn.model_selection import train_test_split\n",
    "from sklearn.linear_model import LogisticRegression"
   ]
  },
  {
   "cell_type": "code",
   "execution_count": 2,
   "id": "214ef987",
   "metadata": {},
   "outputs": [],
   "source": [
    "def Laplacian_fun(B22_st, B22_stm1, B22_sm1t, B22_sm1tm1, eye):\n",
    "    # return B22_stm1@B22_sm1t@(eye-B22_st)@B22_sm1t\n",
    "    # return B22_sm1t@(eye-B22_st)@B22_sm1t@B22_stm1\n",
    "    # return B22_sm1t@B22_stm1@(eye-B22_st)@B22_stm1\n",
    "    # return B22_stm1@(eye-B22_st)@B22_stm1@B22_sm1t\n",
    "    # return B22_sm1tm1-B22_sm1t-B22_stm1+B22_st\n",
    "\n",
    "    \n",
    "    # return B22_stm1@B22_sm1t+B22_sm1t@B22_stm1-2*B22_st\n",
    "    # return eye-B22_st\n",
    "\n",
    "    # return B22_stm1@(eye-B22_st)@(eye - B22_sm1tm1 + B22_sm1t)\n",
    "\n",
    "    # Best\n",
    "    # return B22_sm1t@B22_stm1-B22_st\n",
    "\n",
    "    # Normal\n",
    "    return B22_stm1 - B22_st - B22_sm1tm1 + B22_sm1t"
   ]
  },
  {
   "cell_type": "markdown",
   "id": "7cddb22f",
   "metadata": {},
   "source": [
    "LANDSCAPES\n",
    "----------------"
   ]
  },
  {
   "cell_type": "code",
   "execution_count": 3,
   "id": "67406e75",
   "metadata": {},
   "outputs": [],
   "source": [
    "class LandscapeLoader():\n",
    "    def __init__(self, path_to_landscapes, path_to_landscapes_mtilde, epsilons, min_image_i = 0, max_image_i=np.inf):\n",
    "        self.path_to_landscapes = path_to_landscapes\n",
    "        self.path_to_landscapes_mtilde = path_to_landscapes_mtilde\n",
    "        self.epsilons = epsilons\n",
    "        \n",
    "\n",
    "        self.location_dict = {}\n",
    "        self.location_pointers = {}\n",
    "        for eps in epsilons:\n",
    "            path_to_landscapes = osp.join(self.path_to_landscapes, f\"eps_{eps}\")\n",
    "            path_to_landscapes_mtilde = osp.join(self.path_to_landscapes_mtilde, f\"eps_{eps}\")\n",
    "            self.location_dict[eps] = {}\n",
    "            self.location_pointers[eps] = {}\n",
    "            for color in sorted(os.listdir(path_to_landscapes)):\n",
    "                self.location_dict[eps][color] = {}\n",
    "                self.location_pointers[eps][color] = {}\n",
    "                for method in sorted(os.listdir(osp.join(path_to_landscapes, color))):\n",
    "                    self.location_dict[eps][color][method] = {\"laplacian\": [], \"normal\": [], \"mtilde\": []}\n",
    "                    self.location_pointers[eps][color][method] = {\"laplacian\": 0, \"normal\": 0, \"mtilde\": 0}\n",
    "                    for land_file in tqdm(sorted(os.listdir(osp.join(path_to_landscapes, color, method))), leave=False, desc=f\"Processing eps {eps}, {color} {method} landscapes\"):\n",
    "                        if not land_file.endswith(\".pkl\"):\n",
    "                            continue\n",
    "                        image_i = int(land_file[:-4].split(\"_\")[-1])\n",
    "                        if image_i < min_image_i or image_i >= max_image_i:\n",
    "                            continue\n",
    "                        self.location_dict[eps][color][method][land_file.split(\"_\")[0]].append(osp.join(path_to_landscapes, color, method, land_file))\n",
    "                        # with open(osp.join(path_to_landscapes, color, digit, land_file), \"rb\") as f:\n",
    "                        #     land = pickle.load(f)\n",
    "                        # if land_file.split(\"_\")[0] == \"pers\":\n",
    "                        #     land_dict[eps][color][digit][land_file.split(\"_\")[0]].append(land.__mult__(1))\n",
    "                        # else:\n",
    "                        #     land_dict[eps][color][digit][land_file.split(\"_\")[0]].append(land.__mult__(1))\n",
    "                    for land_file in tqdm(sorted(os.listdir(osp.join(path_to_landscapes_mtilde, color, method))), leave=False, desc=f\"Processing eps {eps}, {color} {method} mtilde landscapes\"):\n",
    "                        if not land_file.endswith(\".pkl\") or land_file.split(\"_\")[0] == \"normal\":\n",
    "                            continue\n",
    "                        image_i = int(land_file[:-4].split(\"_\")[-1])\n",
    "                        if image_i < min_image_i or image_i >= max_image_i:\n",
    "                            continue\n",
    "                        self.location_dict[eps][color][method][\"mtilde\"].append(osp.join(path_to_landscapes_mtilde, color, method, land_file))\n",
    "    def reset_pointer(self, eps_list=None, color_list=None, method_list=None, type_list=None):\n",
    "        if eps_list is None:\n",
    "            epss = self.location_pointers.keys()\n",
    "        else:\n",
    "            epss = eps_list\n",
    "        for eps in epss:\n",
    "            if color_list is None:\n",
    "                colors = self.location_pointers[eps].keys()\n",
    "            else:\n",
    "                colors = color_list\n",
    "            for color in colors:\n",
    "                if method_list is None:\n",
    "                    methods = self.location_pointers[eps][color].keys()\n",
    "                else:\n",
    "                    methods = method_list\n",
    "                for method in methods:\n",
    "                    if type_list is None:\n",
    "                        types = [\"laplacian\", \"normal\", \"mtilde\"]\n",
    "                    else:\n",
    "                        types = type_list\n",
    "                    for type_ in types:\n",
    "                        if type_ in self.location_pointers[eps][color][method]:\n",
    "                            self.location_pointers[eps][color][method][type_] = 0\n",
    "                        else:\n",
    "                            print(f\"Warning: Type {type_} not found in {eps}, {color}, {method}. Skipping reset for this type.\")\n",
    "                        # self.location_pointers[eps][color][digit][\"pers\"] = 0\n",
    "\n",
    "    def load(self, eps, color, method, type_):\n",
    "        if self.location_pointers[eps][color][method][type_] >= len(self.location_dict[eps][color][method][type_]):\n",
    "            return None\n",
    "        path = self.location_dict[eps][color][method][type_][self.location_pointers[eps][color][method][type_]]\n",
    "        self.location_pointers[eps][color][method][type_] += 1\n",
    "        with open(path, \"rb\") as f:\n",
    "            land = pickle.load(f)\n",
    "        return land#.__mult__(1) if type_ == \"pers\" else land\n",
    "        "
   ]
  },
  {
   "cell_type": "markdown",
   "id": "86f83311",
   "metadata": {},
   "source": [
    "ALPHA FILTRATION\n",
    "---------------------"
   ]
  },
  {
   "cell_type": "code",
   "execution_count": 26,
   "id": "76908af9",
   "metadata": {},
   "outputs": [
    {
     "data": {
      "application/vnd.jupyter.widget-view+json": {
       "model_id": "15e5154fb428463896ca85974cb52162",
       "version_major": 2,
       "version_minor": 0
      },
      "text/plain": [
       "Processing eps 15, alpha HC landscapes:   0%|          | 0/194 [00:00<?, ?it/s]"
      ]
     },
     "metadata": {},
     "output_type": "display_data"
    },
    {
     "data": {
      "application/vnd.jupyter.widget-view+json": {
       "model_id": "6e6c195b72e744db928b3e468a2c5ffe",
       "version_major": 2,
       "version_minor": 0
      },
      "text/plain": [
       "Processing eps 15, alpha HC mtilde landscapes:   0%|          | 0/194 [00:00<?, ?it/s]"
      ]
     },
     "metadata": {},
     "output_type": "display_data"
    },
    {
     "data": {
      "application/vnd.jupyter.widget-view+json": {
       "model_id": "cc4a5ff398d34cacbcdcfa0121600451",
       "version_major": 2,
       "version_minor": 0
      },
      "text/plain": [
       "Processing eps 15, alpha PV landscapes:   0%|          | 0/200 [00:00<?, ?it/s]"
      ]
     },
     "metadata": {},
     "output_type": "display_data"
    },
    {
     "data": {
      "application/vnd.jupyter.widget-view+json": {
       "model_id": "ba7f2edde7f14fcfbbd10493caa36d72",
       "version_major": 2,
       "version_minor": 0
      },
      "text/plain": [
       "Processing eps 15, alpha PV mtilde landscapes:   0%|          | 0/200 [00:00<?, ?it/s]"
      ]
     },
     "metadata": {},
     "output_type": "display_data"
    },
    {
     "data": {
      "application/vnd.jupyter.widget-view+json": {
       "model_id": "df7e512dddde489e9bd4fda50c60b040",
       "version_major": 2,
       "version_minor": 0
      },
      "text/plain": [
       "Processing eps 15, alpha cluster landscapes:   0%|          | 0/200 [00:00<?, ?it/s]"
      ]
     },
     "metadata": {},
     "output_type": "display_data"
    },
    {
     "data": {
      "application/vnd.jupyter.widget-view+json": {
       "model_id": "2c01c9ed281a4c4d904ecddcd0413bf3",
       "version_major": 2,
       "version_minor": 0
      },
      "text/plain": [
       "Processing eps 15, alpha cluster mtilde landscapes:   0%|          | 0/200 [00:00<?, ?it/s]"
      ]
     },
     "metadata": {},
     "output_type": "display_data"
    },
    {
     "data": {
      "application/vnd.jupyter.widget-view+json": {
       "model_id": "b046b306186745919717f0d049a99c74",
       "version_major": 2,
       "version_minor": 0
      },
      "text/plain": [
       "Processing eps 15, alpha HC landscapes:   0%|          | 0/194 [00:00<?, ?it/s]"
      ]
     },
     "metadata": {},
     "output_type": "display_data"
    },
    {
     "data": {
      "application/vnd.jupyter.widget-view+json": {
       "model_id": "d80e1036830946ac90f64c18d43da29f",
       "version_major": 2,
       "version_minor": 0
      },
      "text/plain": [
       "Processing eps 15, alpha HC mtilde landscapes:   0%|          | 0/194 [00:00<?, ?it/s]"
      ]
     },
     "metadata": {},
     "output_type": "display_data"
    },
    {
     "data": {
      "application/vnd.jupyter.widget-view+json": {
       "model_id": "2df50950ac2a4830bf35e4a7d3bd9f88",
       "version_major": 2,
       "version_minor": 0
      },
      "text/plain": [
       "Processing eps 15, alpha PV landscapes:   0%|          | 0/200 [00:00<?, ?it/s]"
      ]
     },
     "metadata": {},
     "output_type": "display_data"
    },
    {
     "data": {
      "application/vnd.jupyter.widget-view+json": {
       "model_id": "9b913bdc4acd498186b0e2fb0c57caa4",
       "version_major": 2,
       "version_minor": 0
      },
      "text/plain": [
       "Processing eps 15, alpha PV mtilde landscapes:   0%|          | 0/200 [00:00<?, ?it/s]"
      ]
     },
     "metadata": {},
     "output_type": "display_data"
    },
    {
     "data": {
      "application/vnd.jupyter.widget-view+json": {
       "model_id": "09ecfd76238c4333941babd0f8fe60fd",
       "version_major": 2,
       "version_minor": 0
      },
      "text/plain": [
       "Processing eps 15, alpha cluster landscapes:   0%|          | 0/200 [00:00<?, ?it/s]"
      ]
     },
     "metadata": {},
     "output_type": "display_data"
    },
    {
     "data": {
      "application/vnd.jupyter.widget-view+json": {
       "model_id": "7bde2c8be0fa4c0d8073ba50f5ca8f11",
       "version_major": 2,
       "version_minor": 0
      },
      "text/plain": [
       "Processing eps 15, alpha cluster mtilde landscapes:   0%|          | 0/200 [00:00<?, ?it/s]"
      ]
     },
     "metadata": {},
     "output_type": "display_data"
    }
   ],
   "source": [
    "LL_train_alpha = LandscapeLoader(\"../alpha_landscapes_normal_function/\", \"../alpha_landscapes/\", [15], max_image_i=80)\n",
    "LL_test_alpha = LandscapeLoader(\"../alpha_landscapes_normal_function/\", \"../alpha_landscapes/\", [15], min_image_i=80)\n",
    "\n",
    "# LL_train_Mtilde_alpha = LandscapeLoader(\"../alpha_landscapes/\", [15], max_image_i=80)\n",
    "# LL_test_Mtilde_alpha = LandscapeLoader(\"../alpha_landscapes/\", [15], min_image_i=80)"
   ]
  },
  {
   "cell_type": "code",
   "execution_count": null,
   "id": "4d69a9cb",
   "metadata": {},
   "outputs": [
    {
     "data": {
      "application/vnd.jupyter.widget-view+json": {
       "model_id": "57783f72be0947978b482cc2a9e54663",
       "version_major": 2,
       "version_minor": 0
      },
      "text/plain": [
       "  0%|          | 0/3 [00:00<?, ?it/s]"
      ]
     },
     "metadata": {},
     "output_type": "display_data"
    },
    {
     "name": "stderr",
     "output_type": "stream",
     "text": [
      "Exception ignored in: <bound method IPythonKernel._clean_thread_parent_frames of <ipykernel.ipkernel.IPythonKernel object at 0x790f7c8c9130>>\n",
      "Traceback (most recent call last):\n",
      "  File \"/home/siroj/miniconda3/envs/thesis/lib/python3.9/site-packages/ipykernel/ipkernel.py\", line 775, in _clean_thread_parent_frames\n",
      "    def _clean_thread_parent_frames(\n",
      "KeyboardInterrupt: \n"
     ]
    }
   ],
   "source": [
    "mean_landscapes_alpha = {}\n",
    "color = \"alpha\"\n",
    "LL_train_alpha.reset_pointer()\n",
    "\n",
    "for eps in LL_train_alpha.location_dict.keys():\n",
    "    mean_landscapes_alpha[eps] = {}\n",
    "    method_bar = tqdm(LL_train_alpha.location_dict[eps][\"alpha\"].keys(), leave=False)\n",
    "    for method in method_bar:\n",
    "        mean_landscapes_alpha[eps][method] = {}\n",
    "        for type_ in [\"laplacian\", \"normal\", \"mtilde\"]:\n",
    "            cur_lands = []\n",
    "            i = 0\n",
    "            while True:\n",
    "                method_bar.set_description(f\"Processing landscapes for eps {eps}, color {color}, method {method}, type {type_}, i {i}\")\n",
    "                land = LL_train_alpha.load(eps, color, method, type_)\n",
    "                if land is None:\n",
    "                    break\n",
    "                cur_lands.append(land)\n",
    "                i += 1\n",
    "            mean_landscapes_alpha[eps][method][type_] = np.mean(cur_lands)\n",
    "                "
   ]
  },
  {
   "cell_type": "code",
   "execution_count": null,
   "id": "f31ef6c9",
   "metadata": {},
   "outputs": [
    {
     "data": {
      "image/png": "[encoded data removed]",
      "text/plain": [
       "<Figure size 1000x500 with 2 Axes>"
      ]
     },
     "metadata": {},
     "output_type": "display_data"
    }
   ],
   "source": [
    "method = \"cluster\"\n",
    "mean_landscapes_alpha[15][method][\"normal\"].plot(limits=[0,0.05,0,0.01])\n",
    "plt.tight_layout()\n",
    "plt.savefig(f'../figures/cross_section_report/mean_landscape_alpha_{method}.png', dpi=300, bbox_inches='tight')"
   ]
  },
  {
   "cell_type": "code",
   "execution_count": null,
   "id": "15aa2d85",
   "metadata": {},
   "outputs": [
    {
     "ename": "TypeError",
     "evalue": "'list' object is not callable",
     "output_type": "error",
     "traceback": [
      "\u001b[0;31m---------------------------------------------------------------------------\u001b[0m",
      "\u001b[0;31mTypeError\u001b[0m                                 Traceback (most recent call last)",
      "Cell \u001b[0;32mIn[98], line 4\u001b[0m\n\u001b[1;32m      2\u001b[0m mean_landscapes_alpha[\u001b[38;5;241m15\u001b[39m][method][\u001b[38;5;124m\"\u001b[39m\u001b[38;5;124mlaplacian\u001b[39m\u001b[38;5;124m\"\u001b[39m]\u001b[38;5;241m.\u001b[39mplot(limits\u001b[38;5;241m=\u001b[39m[\u001b[38;5;241m0\u001b[39m,\u001b[38;5;241m1\u001b[39m, \u001b[38;5;241m0\u001b[39m, \u001b[38;5;241m0.5\u001b[39m])\n\u001b[1;32m      3\u001b[0m plt\u001b[38;5;241m.\u001b[39mxlim(\u001b[38;5;241m0\u001b[39m, \u001b[38;5;241m0.05\u001b[39m)\n\u001b[0;32m----> 4\u001b[0m \u001b[43mplt\u001b[49m\u001b[38;5;241;43m.\u001b[39;49m\u001b[43mylim\u001b[49m\u001b[43m(\u001b[49m\u001b[38;5;241;43m0\u001b[39;49m\u001b[43m,\u001b[49m\u001b[43m \u001b[49m\u001b[38;5;241;43m0.003\u001b[39;49m\u001b[43m)\u001b[49m\n\u001b[1;32m      5\u001b[0m plt\u001b[38;5;241m.\u001b[39mtight_layout()\n\u001b[1;32m      6\u001b[0m \u001b[38;5;66;03m# plt.savefig(f'../figures/cross_section_report/mean_lapland_alpha_{method}.png', dpi=300, bbox_inches='tight')\u001b[39;00m\n",
      "\u001b[0;31mTypeError\u001b[0m: 'list' object is not callable"
     ]
    },
    {
     "data": {
      "image/png": "[encoded data removed]",
      "text/plain": [
       "<Figure size 1000x500 with 2 Axes>"
      ]
     },
     "metadata": {},
     "output_type": "display_data"
    }
   ],
   "source": [
    "method = \"HC\"\n",
    "mean_landscapes_alpha[15][method][\"laplacian\"].plot(limits=[0,1, 0, 0.5])\n",
    "plt.xlim(0, 0.05)\n",
    "plt.ylim(0, 0.003)\n",
    "plt.tight_layout()\n",
    "# plt.savefig(f'../figures/cross_section_report/mean_lapland_alpha_{method}.png', dpi=300, bbox_inches='tight')"
   ]
  },
  {
   "cell_type": "code",
   "execution_count": null,
   "id": "8759702e",
   "metadata": {},
   "outputs": [
    {
     "data": {
      "image/png": "[encoded data removed]",
      "text/plain": [
       "<Figure size 1000x500 with 2 Axes>"
      ]
     },
     "metadata": {},
     "output_type": "display_data"
    }
   ],
   "source": [
    "method = \"HC\"\n",
    "(mean_landscapes_alpha[15][method][\"mtilde\"]-mean_landscapes_alpha[15][method][\"laplacian\"]).plot(limits=[0,1, 0, 0.5])\n",
    "plt.xlim(0, 0.05)\n",
    "plt.ylim(0, 0.003)\n",
    "plt.tight_layout()\n",
    "# plt.savefig(f'../figures/cross_section_report/mean_lapland_alpha_Mdiff_{method}.png', dpi=300, bbox_inches='tight')"
   ]
  },
  {
   "cell_type": "code",
   "execution_count": null,
   "id": "6f968f02",
   "metadata": {},
   "outputs": [
    {
     "data": {
      "application/vnd.jupyter.widget-view+json": {
       "model_id": "ae0d7406c9b84fa5b8e2852bfcd1dda8",
       "version_major": 2,
       "version_minor": 0
      },
      "text/plain": [
       "  0%|          | 0/3 [00:00<?, ?it/s]"
      ]
     },
     "metadata": {},
     "output_type": "display_data"
    }
   ],
   "source": [
    "classifications_dict_alpha = {}\n",
    "\n",
    "methods = [\"PV\", \"cluster\", \"HC\"]\n",
    "LL_test_alpha.reset_pointer()\n",
    "\n",
    "for eps in LL_test_alpha.location_dict.keys():\n",
    "    classifications_dict_alpha[eps] = {}\n",
    "    method_bar = tqdm(LL_test_alpha.location_dict[eps][\"alpha\"].keys(), leave=False)\n",
    "    for method in method_bar:\n",
    "        classifications_dict_alpha[eps][method] = {}\n",
    "        for type_ in [\"laplacian\", \"normal\", \"mtilde\"]:\n",
    "            classifications_dict_alpha[eps][method][type_] = []\n",
    "            method_bar.set_description(f\"Processing landscapes for eps {eps}, method {method}, type {type_}\")\n",
    "            while True:\n",
    "                cur_land = LL_test_alpha.load(eps, \"alpha\", method, type_)\n",
    "                if cur_land is None:\n",
    "                    break\n",
    "                dists = []\n",
    "                for other_method in methods:\n",
    "                    mean_land = mean_landscapes_alpha[eps][other_method][type_]\n",
    "                    dists.append((cur_land - mean_land).norm())\n",
    "                classifications_dict_alpha[eps][method][type_].append(np.argmin(dists))"
   ]
  },
  {
   "cell_type": "code",
   "execution_count": null,
   "id": "0aceef7f",
   "metadata": {},
   "outputs": [
    {
     "name": "stdout",
     "output_type": "stream",
     "text": [
      "Confusion matrix for type laplacian:\n",
      "[[0.3  0.5  0.2 ]\n",
      " [0.15 0.6  0.25]\n",
      " [0.25 0.4  0.35]]\n",
      "Confusion matrix for type normal:\n",
      "[[0.7 0.  0.3]\n",
      " [0.  1.  0. ]\n",
      " [0.5 0.  0.5]]\n",
      "Confusion matrix for type mtilde:\n",
      "[[0.3  0.5  0.2 ]\n",
      " [0.15 0.6  0.25]\n",
      " [0.25 0.4  0.35]]\n"
     ]
    }
   ],
   "source": [
    "from sklearn.metrics import confusion_matrix\n",
    "\n",
    "for type_ in [\"laplacian\", \"normal\", \"mtilde\"]:\n",
    "    results = []\n",
    "    y_true = []\n",
    "    for method in methods:\n",
    "        results += classifications_dict_alpha[15][method][type_]\n",
    "        y_true += [methods.index(method)] * len(classifications_dict_alpha[15][method][type_])\n",
    "    print(f\"Confusion matrix for type {type_}:\")\n",
    "    cm = confusion_matrix(y_true, results, labels=list(range(len(methods))), normalize='true')\n",
    "    print(cm)"
   ]
  },
  {
   "cell_type": "code",
   "execution_count": null,
   "id": "9cbc0755",
   "metadata": {},
   "outputs": [
    {
     "data": {
      "application/vnd.jupyter.widget-view+json": {
       "model_id": "8c08fd73688342cf88bd565491ce57ea",
       "version_major": 2,
       "version_minor": 0
      },
      "text/plain": [
       "Processing eps 15, alpha HC landscapes:   0%|          | 0/194 [00:00<?, ?it/s]"
      ]
     },
     "metadata": {},
     "output_type": "display_data"
    },
    {
     "data": {
      "application/vnd.jupyter.widget-view+json": {
       "model_id": "dff1c650534141278d1b18f69f164455",
       "version_major": 2,
       "version_minor": 0
      },
      "text/plain": [
       "Processing eps 15, alpha HC mtilde landscapes:   0%|          | 0/194 [00:00<?, ?it/s]"
      ]
     },
     "metadata": {},
     "output_type": "display_data"
    },
    {
     "data": {
      "application/vnd.jupyter.widget-view+json": {
       "model_id": "1594c5ffae214496801137019f561e84",
       "version_major": 2,
       "version_minor": 0
      },
      "text/plain": [
       "Processing eps 15, alpha PV landscapes:   0%|          | 0/200 [00:00<?, ?it/s]"
      ]
     },
     "metadata": {},
     "output_type": "display_data"
    },
    {
     "data": {
      "application/vnd.jupyter.widget-view+json": {
       "model_id": "b12de96af4a54929b2149d178c9864b9",
       "version_major": 2,
       "version_minor": 0
      },
      "text/plain": [
       "Processing eps 15, alpha PV mtilde landscapes:   0%|          | 0/200 [00:00<?, ?it/s]"
      ]
     },
     "metadata": {},
     "output_type": "display_data"
    },
    {
     "data": {
      "application/vnd.jupyter.widget-view+json": {
       "model_id": "569d7c85d9584722b7c64c1703127805",
       "version_major": 2,
       "version_minor": 0
      },
      "text/plain": [
       "Processing eps 15, alpha cluster landscapes:   0%|          | 0/200 [00:00<?, ?it/s]"
      ]
     },
     "metadata": {},
     "output_type": "display_data"
    },
    {
     "data": {
      "application/vnd.jupyter.widget-view+json": {
       "model_id": "5a415744a364452c807bc98a88c2adf0",
       "version_major": 2,
       "version_minor": 0
      },
      "text/plain": [
       "Processing eps 15, alpha cluster mtilde landscapes:   0%|          | 0/200 [00:00<?, ?it/s]"
      ]
     },
     "metadata": {},
     "output_type": "display_data"
    },
    {
     "data": {
      "application/vnd.jupyter.widget-view+json": {
       "model_id": "8b6cb5979fe74464b207e8f2ff706cc3",
       "version_major": 2,
       "version_minor": 0
      },
      "text/plain": [
       "Processing eps 15, alpha feature vectors:   0%|          | 0/3 [00:00<?, ?it/s]"
      ]
     },
     "metadata": {},
     "output_type": "display_data"
    },
    {
     "data": {
      "application/vnd.jupyter.widget-view+json": {
       "model_id": "b37b5a964d45434abc587f55f686d3b6",
       "version_major": 2,
       "version_minor": 0
      },
      "text/plain": [
       "Processing eps 15, alpha feature vectors:   0%|          | 0/3 [00:00<?, ?it/s]"
      ]
     },
     "metadata": {},
     "output_type": "display_data"
    },
    {
     "data": {
      "application/vnd.jupyter.widget-view+json": {
       "model_id": "89255243d25f4b879307a5850fd9a9f5",
       "version_major": 2,
       "version_minor": 0
      },
      "text/plain": [
       "Processing eps 15, alpha feature vectors:   0%|          | 0/3 [00:00<?, ?it/s]"
      ]
     },
     "metadata": {},
     "output_type": "display_data"
    }
   ],
   "source": [
    "LL_all_alpha = LandscapeLoader(\"../alpha_landscapes_normal_function/\", \"../alpha_landscapes/\", [15])\n",
    "feature_vector_dict_alpha = {}\n",
    "\n",
    "y_target = [0]*100+[1]*100+[2]*97\n",
    "\n",
    "LL_all_alpha.reset_pointer()\n",
    "color = \"alpha\"\n",
    "\n",
    "feature_vector_dict_alpha = {}\n",
    "for type_ in [\"laplacian\", \"normal\", \"mtilde\"]:\n",
    "    feature_vector_dict_alpha[type_] = []\n",
    "    for method in tqdm(methods, desc=f\"Processing eps {eps}, {color} feature vectors\", leave=False):\n",
    "        while True:\n",
    "            cur_land = LL_all_alpha.load(eps, color, method, type_)\n",
    "            if cur_land is None:\n",
    "                break\n",
    "            feature_vec = []\n",
    "            for q in range(2):\n",
    "                try:\n",
    "                    evals = cur_land.sum_k().evaluations[q][0]\n",
    "                except:\n",
    "                    print(f\"Error in loading landscape for eps {eps}, color {color}, method {method}, type {type_}\")\n",
    "                    # cur_land.plot()\n",
    "                    # continue\n",
    "                    raise ValueError\n",
    "                feature_vec.append(evals[0:len(evals)-1:2])\n",
    "            # print(np.hstack(feature_vec).shape)\n",
    "            feature_vector_dict_alpha[type_].append(np.hstack(feature_vec))\n",
    "    feature_vector_dict_alpha[type_] = np.vstack(feature_vector_dict_alpha[type_])"
   ]
  },
  {
   "cell_type": "code",
   "execution_count": null,
   "id": "2f88234a",
   "metadata": {},
   "outputs": [
    {
     "name": "stdout",
     "output_type": "stream",
     "text": [
      "type\t\tAccuracy on test set\n",
      "laplacian & 68.3%\n",
      "[[0.65 0.   0.35]\n",
      " [0.   0.95 0.05]\n",
      " [0.55 0.   0.45]]\n",
      "normal & 65.0%\n",
      "[[1.   0.   0.  ]\n",
      " [0.05 0.95 0.  ]\n",
      " [1.   0.   0.  ]]\n",
      "mtilde & 68.3%\n",
      "[[0.65 0.   0.35]\n",
      " [0.   0.95 0.05]\n",
      " [0.55 0.   0.45]]\n"
     ]
    }
   ],
   "source": [
    "print(\"type\\t\\tAccuracy on test set\")\n",
    "for type_ in [\"laplacian\", \"normal\", \"mtilde\"]:\n",
    "    # print(f\"{eps}\\t{color[-1]}\\t{type_}\", end=\"\\t\\t\")\n",
    "    print(f\"{type_}\", end=\" & \")\n",
    "    X = feature_vector_dict_alpha[type_]\n",
    "    y = np.array(y_target)\n",
    "    X_train, X_test, y_train, y_test = train_test_split(X, y, test_size=0.2, random_state=42, stratify=y)\n",
    "    LR_model = LogisticRegression(max_iter=5000, random_state=42)\n",
    "    LR_model.fit(X_train, y_train)\n",
    "    print(f\"{LR_model.score(X_test, y_test)*100:.1f}%\")\n",
    "    cm = confusion_matrix(y_test, LR_model.predict(X_test), labels=list(range(len(methods))), normalize='true')\n",
    "    print(cm)"
   ]
  },
  {
   "cell_type": "markdown",
   "id": "4a1e5b25",
   "metadata": {},
   "source": [
    "BALL MAPPER\n",
    "----------------"
   ]
  },
  {
   "cell_type": "code",
   "execution_count": 4,
   "id": "6f535c86",
   "metadata": {},
   "outputs": [
    {
     "data": {
      "application/vnd.jupyter.widget-view+json": {
       "model_id": "033cb54fdc9042568fd1b73e435ccda7",
       "version_major": 2,
       "version_minor": 0
      },
      "text/plain": [
       "Processing eps 15, alpha HC landscapes:   0%|          | 0/384 [00:00<?, ?it/s]"
      ]
     },
     "metadata": {},
     "output_type": "display_data"
    },
    {
     "data": {
      "application/vnd.jupyter.widget-view+json": {
       "model_id": "9ff2f93c234d4b1c9e5b471506d942b6",
       "version_major": 2,
       "version_minor": 0
      },
      "text/plain": [
       "Processing eps 15, alpha HC mtilde landscapes:   0%|          | 0/384 [00:00<?, ?it/s]"
      ]
     },
     "metadata": {},
     "output_type": "display_data"
    },
    {
     "data": {
      "application/vnd.jupyter.widget-view+json": {
       "model_id": "be0791c0b5404493a6110a5df3ec5ef7",
       "version_major": 2,
       "version_minor": 0
      },
      "text/plain": [
       "Processing eps 15, alpha PV landscapes:   0%|          | 0/400 [00:00<?, ?it/s]"
      ]
     },
     "metadata": {},
     "output_type": "display_data"
    },
    {
     "data": {
      "application/vnd.jupyter.widget-view+json": {
       "model_id": "1694c00601fd45128387924aec1dcbf7",
       "version_major": 2,
       "version_minor": 0
      },
      "text/plain": [
       "Processing eps 15, alpha PV mtilde landscapes:   0%|          | 0/400 [00:00<?, ?it/s]"
      ]
     },
     "metadata": {},
     "output_type": "display_data"
    },
    {
     "data": {
      "application/vnd.jupyter.widget-view+json": {
       "model_id": "2f45d4063e2e472ebd5c8417eed90f12",
       "version_major": 2,
       "version_minor": 0
      },
      "text/plain": [
       "Processing eps 15, alpha cluster landscapes:   0%|          | 0/400 [00:00<?, ?it/s]"
      ]
     },
     "metadata": {},
     "output_type": "display_data"
    },
    {
     "data": {
      "application/vnd.jupyter.widget-view+json": {
       "model_id": "467bad5ca9ff4753a41bf3d87fc18769",
       "version_major": 2,
       "version_minor": 0
      },
      "text/plain": [
       "Processing eps 15, alpha cluster mtilde landscapes:   0%|          | 0/400 [00:00<?, ?it/s]"
      ]
     },
     "metadata": {},
     "output_type": "display_data"
    },
    {
     "data": {
      "application/vnd.jupyter.widget-view+json": {
       "model_id": "665086ad63544e20aa10fc22e2052ef8",
       "version_major": 2,
       "version_minor": 0
      },
      "text/plain": [
       "Processing eps 15, gradient HC landscapes:   0%|          | 0/194 [00:00<?, ?it/s]"
      ]
     },
     "metadata": {},
     "output_type": "display_data"
    },
    {
     "data": {
      "application/vnd.jupyter.widget-view+json": {
       "model_id": "96409c7052f14b93b8c8541e9677103c",
       "version_major": 2,
       "version_minor": 0
      },
      "text/plain": [
       "Processing eps 15, gradient HC mtilde landscapes:   0%|          | 0/194 [00:00<?, ?it/s]"
      ]
     },
     "metadata": {},
     "output_type": "display_data"
    },
    {
     "data": {
      "application/vnd.jupyter.widget-view+json": {
       "model_id": "88e05b5591e84d96bd8de37461efa484",
       "version_major": 2,
       "version_minor": 0
      },
      "text/plain": [
       "Processing eps 15, gradient PV landscapes:   0%|          | 0/200 [00:00<?, ?it/s]"
      ]
     },
     "metadata": {},
     "output_type": "display_data"
    },
    {
     "data": {
      "application/vnd.jupyter.widget-view+json": {
       "model_id": "27a6874e2e3542bf8558abed7ee0e8f7",
       "version_major": 2,
       "version_minor": 0
      },
      "text/plain": [
       "Processing eps 15, gradient PV mtilde landscapes:   0%|          | 0/200 [00:00<?, ?it/s]"
      ]
     },
     "metadata": {},
     "output_type": "display_data"
    },
    {
     "data": {
      "application/vnd.jupyter.widget-view+json": {
       "model_id": "90a2bcbe9e094727830a5eb52de94b5d",
       "version_major": 2,
       "version_minor": 0
      },
      "text/plain": [
       "Processing eps 15, gradient cluster landscapes:   0%|          | 0/200 [00:00<?, ?it/s]"
      ]
     },
     "metadata": {},
     "output_type": "display_data"
    },
    {
     "data": {
      "application/vnd.jupyter.widget-view+json": {
       "model_id": "09c8cd85a4af4b4d9724447da841b324",
       "version_major": 2,
       "version_minor": 0
      },
      "text/plain": [
       "Processing eps 15, gradient cluster mtilde landscapes:   0%|          | 0/200 [00:00<?, ?it/s]"
      ]
     },
     "metadata": {},
     "output_type": "display_data"
    },
    {
     "data": {
      "application/vnd.jupyter.widget-view+json": {
       "model_id": "96e3b01ecbd44e6a86dc193455612c03",
       "version_major": 2,
       "version_minor": 0
      },
      "text/plain": [
       "Processing eps 15, random_124 HC landscapes:   0%|          | 0/194 [00:00<?, ?it/s]"
      ]
     },
     "metadata": {},
     "output_type": "display_data"
    },
    {
     "data": {
      "application/vnd.jupyter.widget-view+json": {
       "model_id": "e984e22a1c45447cbd9203aba38d24f6",
       "version_major": 2,
       "version_minor": 0
      },
      "text/plain": [
       "Processing eps 15, random_124 HC mtilde landscapes:   0%|          | 0/194 [00:00<?, ?it/s]"
      ]
     },
     "metadata": {},
     "output_type": "display_data"
    },
    {
     "data": {
      "application/vnd.jupyter.widget-view+json": {
       "model_id": "bb209d98e06544068d8cccf26971ef28",
       "version_major": 2,
       "version_minor": 0
      },
      "text/plain": [
       "Processing eps 15, random_124 PV landscapes:   0%|          | 0/200 [00:00<?, ?it/s]"
      ]
     },
     "metadata": {},
     "output_type": "display_data"
    },
    {
     "data": {
      "application/vnd.jupyter.widget-view+json": {
       "model_id": "a8f22fc69665423a8f06c2d4bf0cd8c2",
       "version_major": 2,
       "version_minor": 0
      },
      "text/plain": [
       "Processing eps 15, random_124 PV mtilde landscapes:   0%|          | 0/200 [00:00<?, ?it/s]"
      ]
     },
     "metadata": {},
     "output_type": "display_data"
    },
    {
     "data": {
      "application/vnd.jupyter.widget-view+json": {
       "model_id": "c5543488da7d478dbf25c40c9ba6d65b",
       "version_major": 2,
       "version_minor": 0
      },
      "text/plain": [
       "Processing eps 15, random_124 cluster landscapes:   0%|          | 0/200 [00:00<?, ?it/s]"
      ]
     },
     "metadata": {},
     "output_type": "display_data"
    },
    {
     "data": {
      "application/vnd.jupyter.widget-view+json": {
       "model_id": "59f1a94d44ba4e4f9b701cdeb8675805",
       "version_major": 2,
       "version_minor": 0
      },
      "text/plain": [
       "Processing eps 15, random_124 cluster mtilde landscapes:   0%|          | 0/200 [00:00<?, ?it/s]"
      ]
     },
     "metadata": {},
     "output_type": "display_data"
    },
    {
     "data": {
      "application/vnd.jupyter.widget-view+json": {
       "model_id": "f8c55b66b8014975b9a6e7a42f503195",
       "version_major": 2,
       "version_minor": 0
      },
      "text/plain": [
       "Processing eps 20, gradient HC landscapes:   0%|          | 0/194 [00:00<?, ?it/s]"
      ]
     },
     "metadata": {},
     "output_type": "display_data"
    },
    {
     "data": {
      "application/vnd.jupyter.widget-view+json": {
       "model_id": "af863fcd9c224ebc98d25d6cbad52d2e",
       "version_major": 2,
       "version_minor": 0
      },
      "text/plain": [
       "Processing eps 20, gradient HC mtilde landscapes:   0%|          | 0/194 [00:00<?, ?it/s]"
      ]
     },
     "metadata": {},
     "output_type": "display_data"
    },
    {
     "data": {
      "application/vnd.jupyter.widget-view+json": {
       "model_id": "626e971852634551aa8789be502f7539",
       "version_major": 2,
       "version_minor": 0
      },
      "text/plain": [
       "Processing eps 20, gradient PV landscapes:   0%|          | 0/200 [00:00<?, ?it/s]"
      ]
     },
     "metadata": {},
     "output_type": "display_data"
    },
    {
     "data": {
      "application/vnd.jupyter.widget-view+json": {
       "model_id": "e7766189fb9d46c3ac18f2cfe09892c7",
       "version_major": 2,
       "version_minor": 0
      },
      "text/plain": [
       "Processing eps 20, gradient PV mtilde landscapes:   0%|          | 0/200 [00:00<?, ?it/s]"
      ]
     },
     "metadata": {},
     "output_type": "display_data"
    },
    {
     "data": {
      "application/vnd.jupyter.widget-view+json": {
       "model_id": "f8b78385b2ce4830bc8a247bca331063",
       "version_major": 2,
       "version_minor": 0
      },
      "text/plain": [
       "Processing eps 20, gradient cluster landscapes:   0%|          | 0/200 [00:00<?, ?it/s]"
      ]
     },
     "metadata": {},
     "output_type": "display_data"
    },
    {
     "data": {
      "application/vnd.jupyter.widget-view+json": {
       "model_id": "9cd6287c601d4d6f8ccffff09e911460",
       "version_major": 2,
       "version_minor": 0
      },
      "text/plain": [
       "Processing eps 20, gradient cluster mtilde landscapes:   0%|          | 0/200 [00:00<?, ?it/s]"
      ]
     },
     "metadata": {},
     "output_type": "display_data"
    },
    {
     "data": {
      "application/vnd.jupyter.widget-view+json": {
       "model_id": "71352a4b9f304912841e73a042958777",
       "version_major": 2,
       "version_minor": 0
      },
      "text/plain": [
       "Processing eps 20, random_124 HC landscapes:   0%|          | 0/194 [00:00<?, ?it/s]"
      ]
     },
     "metadata": {},
     "output_type": "display_data"
    },
    {
     "data": {
      "application/vnd.jupyter.widget-view+json": {
       "model_id": "cc3eaf86384943879ab947272e774075",
       "version_major": 2,
       "version_minor": 0
      },
      "text/plain": [
       "Processing eps 20, random_124 HC mtilde landscapes:   0%|          | 0/194 [00:00<?, ?it/s]"
      ]
     },
     "metadata": {},
     "output_type": "display_data"
    },
    {
     "data": {
      "application/vnd.jupyter.widget-view+json": {
       "model_id": "5ade74390b924c6aa22d151f61371707",
       "version_major": 2,
       "version_minor": 0
      },
      "text/plain": [
       "Processing eps 20, random_124 PV landscapes:   0%|          | 0/200 [00:00<?, ?it/s]"
      ]
     },
     "metadata": {},
     "output_type": "display_data"
    },
    {
     "data": {
      "application/vnd.jupyter.widget-view+json": {
       "model_id": "5ba7562fc33441c4be58237c97a0fdb7",
       "version_major": 2,
       "version_minor": 0
      },
      "text/plain": [
       "Processing eps 20, random_124 PV mtilde landscapes:   0%|          | 0/200 [00:00<?, ?it/s]"
      ]
     },
     "metadata": {},
     "output_type": "display_data"
    },
    {
     "data": {
      "application/vnd.jupyter.widget-view+json": {
       "model_id": "f5a154cf60ba49cbbb213ddaf206dd08",
       "version_major": 2,
       "version_minor": 0
      },
      "text/plain": [
       "Processing eps 20, random_124 cluster landscapes:   0%|          | 0/200 [00:00<?, ?it/s]"
      ]
     },
     "metadata": {},
     "output_type": "display_data"
    },
    {
     "data": {
      "application/vnd.jupyter.widget-view+json": {
       "model_id": "e9da54b9f9184fd8ae062500d2750e2a",
       "version_major": 2,
       "version_minor": 0
      },
      "text/plain": [
       "Processing eps 20, random_124 cluster mtilde landscapes:   0%|          | 0/200 [00:00<?, ?it/s]"
      ]
     },
     "metadata": {},
     "output_type": "display_data"
    },
    {
     "data": {
      "application/vnd.jupyter.widget-view+json": {
       "model_id": "4c635b957efb462381467aa6d27b1a8f",
       "version_major": 2,
       "version_minor": 0
      },
      "text/plain": [
       "Processing eps 25, gradient HC landscapes:   0%|          | 0/194 [00:00<?, ?it/s]"
      ]
     },
     "metadata": {},
     "output_type": "display_data"
    },
    {
     "data": {
      "application/vnd.jupyter.widget-view+json": {
       "model_id": "50a3f655d2e94be69509a9baa7fdef13",
       "version_major": 2,
       "version_minor": 0
      },
      "text/plain": [
       "Processing eps 25, gradient HC mtilde landscapes:   0%|          | 0/194 [00:00<?, ?it/s]"
      ]
     },
     "metadata": {},
     "output_type": "display_data"
    },
    {
     "data": {
      "application/vnd.jupyter.widget-view+json": {
       "model_id": "c465fe02a0fe4c318c4b62fe2d206269",
       "version_major": 2,
       "version_minor": 0
      },
      "text/plain": [
       "Processing eps 25, gradient PV landscapes:   0%|          | 0/200 [00:00<?, ?it/s]"
      ]
     },
     "metadata": {},
     "output_type": "display_data"
    },
    {
     "data": {
      "application/vnd.jupyter.widget-view+json": {
       "model_id": "196ee11170664afca737413aac64fe0c",
       "version_major": 2,
       "version_minor": 0
      },
      "text/plain": [
       "Processing eps 25, gradient PV mtilde landscapes:   0%|          | 0/200 [00:00<?, ?it/s]"
      ]
     },
     "metadata": {},
     "output_type": "display_data"
    },
    {
     "data": {
      "application/vnd.jupyter.widget-view+json": {
       "model_id": "3433492ba66f4be4b9893df69ada29f2",
       "version_major": 2,
       "version_minor": 0
      },
      "text/plain": [
       "Processing eps 25, gradient cluster landscapes:   0%|          | 0/200 [00:00<?, ?it/s]"
      ]
     },
     "metadata": {},
     "output_type": "display_data"
    },
    {
     "data": {
      "application/vnd.jupyter.widget-view+json": {
       "model_id": "9cde63f8157647e8b1c8abd2d26d6a55",
       "version_major": 2,
       "version_minor": 0
      },
      "text/plain": [
       "Processing eps 25, gradient cluster mtilde landscapes:   0%|          | 0/200 [00:00<?, ?it/s]"
      ]
     },
     "metadata": {},
     "output_type": "display_data"
    },
    {
     "data": {
      "application/vnd.jupyter.widget-view+json": {
       "model_id": "86cf73f6ee6141d5a2d2b81ef42b9cea",
       "version_major": 2,
       "version_minor": 0
      },
      "text/plain": [
       "Processing eps 25, random_124 HC landscapes:   0%|          | 0/194 [00:00<?, ?it/s]"
      ]
     },
     "metadata": {},
     "output_type": "display_data"
    },
    {
     "data": {
      "application/vnd.jupyter.widget-view+json": {
       "model_id": "6be7406df009401b8451c705cf12b3e2",
       "version_major": 2,
       "version_minor": 0
      },
      "text/plain": [
       "Processing eps 25, random_124 HC mtilde landscapes:   0%|          | 0/194 [00:00<?, ?it/s]"
      ]
     },
     "metadata": {},
     "output_type": "display_data"
    },
    {
     "data": {
      "application/vnd.jupyter.widget-view+json": {
       "model_id": "68f3a8376c1c42d69a6c056363c59fa9",
       "version_major": 2,
       "version_minor": 0
      },
      "text/plain": [
       "Processing eps 25, random_124 PV landscapes:   0%|          | 0/200 [00:00<?, ?it/s]"
      ]
     },
     "metadata": {},
     "output_type": "display_data"
    },
    {
     "data": {
      "application/vnd.jupyter.widget-view+json": {
       "model_id": "c8f687318f2e4a3ba02172abc9585a05",
       "version_major": 2,
       "version_minor": 0
      },
      "text/plain": [
       "Processing eps 25, random_124 PV mtilde landscapes:   0%|          | 0/200 [00:00<?, ?it/s]"
      ]
     },
     "metadata": {},
     "output_type": "display_data"
    },
    {
     "data": {
      "application/vnd.jupyter.widget-view+json": {
       "model_id": "7ca3dda553274ef599228de5cb695e5a",
       "version_major": 2,
       "version_minor": 0
      },
      "text/plain": [
       "Processing eps 25, random_124 cluster landscapes:   0%|          | 0/200 [00:00<?, ?it/s]"
      ]
     },
     "metadata": {},
     "output_type": "display_data"
    },
    {
     "data": {
      "application/vnd.jupyter.widget-view+json": {
       "model_id": "1ea26a4902dc40edb55191efe3b23621",
       "version_major": 2,
       "version_minor": 0
      },
      "text/plain": [
       "Processing eps 25, random_124 cluster mtilde landscapes:   0%|          | 0/200 [00:00<?, ?it/s]"
      ]
     },
     "metadata": {},
     "output_type": "display_data"
    },
    {
     "data": {
      "application/vnd.jupyter.widget-view+json": {
       "model_id": "60330a6d62e54c7fa54fbebed4322fab",
       "version_major": 2,
       "version_minor": 0
      },
      "text/plain": [
       "Processing eps 15, alpha HC landscapes:   0%|          | 0/384 [00:00<?, ?it/s]"
      ]
     },
     "metadata": {},
     "output_type": "display_data"
    },
    {
     "data": {
      "application/vnd.jupyter.widget-view+json": {
       "model_id": "1652fa23817947ce98140e0b969aa871",
       "version_major": 2,
       "version_minor": 0
      },
      "text/plain": [
       "Processing eps 15, alpha HC mtilde landscapes:   0%|          | 0/384 [00:00<?, ?it/s]"
      ]
     },
     "metadata": {},
     "output_type": "display_data"
    },
    {
     "data": {
      "application/vnd.jupyter.widget-view+json": {
       "model_id": "09fd10bf4139430c9382aec441d9d4f4",
       "version_major": 2,
       "version_minor": 0
      },
      "text/plain": [
       "Processing eps 15, alpha PV landscapes:   0%|          | 0/400 [00:00<?, ?it/s]"
      ]
     },
     "metadata": {},
     "output_type": "display_data"
    },
    {
     "data": {
      "application/vnd.jupyter.widget-view+json": {
       "model_id": "a39328abd9cd4ff4b83f504b59416401",
       "version_major": 2,
       "version_minor": 0
      },
      "text/plain": [
       "Processing eps 15, alpha PV mtilde landscapes:   0%|          | 0/400 [00:00<?, ?it/s]"
      ]
     },
     "metadata": {},
     "output_type": "display_data"
    },
    {
     "data": {
      "application/vnd.jupyter.widget-view+json": {
       "model_id": "f39394387a9e4cd89ff7fb47881b69d7",
       "version_major": 2,
       "version_minor": 0
      },
      "text/plain": [
       "Processing eps 15, alpha cluster landscapes:   0%|          | 0/400 [00:00<?, ?it/s]"
      ]
     },
     "metadata": {},
     "output_type": "display_data"
    },
    {
     "data": {
      "application/vnd.jupyter.widget-view+json": {
       "model_id": "3b25083f9e604821bc88dab97d80d4d0",
       "version_major": 2,
       "version_minor": 0
      },
      "text/plain": [
       "Processing eps 15, alpha cluster mtilde landscapes:   0%|          | 0/400 [00:00<?, ?it/s]"
      ]
     },
     "metadata": {},
     "output_type": "display_data"
    },
    {
     "data": {
      "application/vnd.jupyter.widget-view+json": {
       "model_id": "93f00aa291f04f01b44f413a845a2230",
       "version_major": 2,
       "version_minor": 0
      },
      "text/plain": [
       "Processing eps 15, gradient HC landscapes:   0%|          | 0/194 [00:00<?, ?it/s]"
      ]
     },
     "metadata": {},
     "output_type": "display_data"
    },
    {
     "data": {
      "application/vnd.jupyter.widget-view+json": {
       "model_id": "a522d0fd50a44996848d309fdda54fbd",
       "version_major": 2,
       "version_minor": 0
      },
      "text/plain": [
       "Processing eps 15, gradient HC mtilde landscapes:   0%|          | 0/194 [00:00<?, ?it/s]"
      ]
     },
     "metadata": {},
     "output_type": "display_data"
    },
    {
     "data": {
      "application/vnd.jupyter.widget-view+json": {
       "model_id": "71dcf1dc284d4e2abc73051bd4affc0d",
       "version_major": 2,
       "version_minor": 0
      },
      "text/plain": [
       "Processing eps 15, gradient PV landscapes:   0%|          | 0/200 [00:00<?, ?it/s]"
      ]
     },
     "metadata": {},
     "output_type": "display_data"
    },
    {
     "data": {
      "application/vnd.jupyter.widget-view+json": {
       "model_id": "8264e69e2f394d44903f9f7ac81f1624",
       "version_major": 2,
       "version_minor": 0
      },
      "text/plain": [
       "Processing eps 15, gradient PV mtilde landscapes:   0%|          | 0/200 [00:00<?, ?it/s]"
      ]
     },
     "metadata": {},
     "output_type": "display_data"
    },
    {
     "data": {
      "application/vnd.jupyter.widget-view+json": {
       "model_id": "a0bf81f857da48bebb3dad7417b9e97d",
       "version_major": 2,
       "version_minor": 0
      },
      "text/plain": [
       "Processing eps 15, gradient cluster landscapes:   0%|          | 0/200 [00:00<?, ?it/s]"
      ]
     },
     "metadata": {},
     "output_type": "display_data"
    },
    {
     "data": {
      "application/vnd.jupyter.widget-view+json": {
       "model_id": "cfaaf0d45a1d4ec0b0c7ca6fbfaebf9d",
       "version_major": 2,
       "version_minor": 0
      },
      "text/plain": [
       "Processing eps 15, gradient cluster mtilde landscapes:   0%|          | 0/200 [00:00<?, ?it/s]"
      ]
     },
     "metadata": {},
     "output_type": "display_data"
    },
    {
     "data": {
      "application/vnd.jupyter.widget-view+json": {
       "model_id": "f8625d14de4a45559e3024df47b78065",
       "version_major": 2,
       "version_minor": 0
      },
      "text/plain": [
       "Processing eps 15, random_124 HC landscapes:   0%|          | 0/194 [00:00<?, ?it/s]"
      ]
     },
     "metadata": {},
     "output_type": "display_data"
    },
    {
     "data": {
      "application/vnd.jupyter.widget-view+json": {
       "model_id": "eab420d436d246059ae8aee748920789",
       "version_major": 2,
       "version_minor": 0
      },
      "text/plain": [
       "Processing eps 15, random_124 HC mtilde landscapes:   0%|          | 0/194 [00:00<?, ?it/s]"
      ]
     },
     "metadata": {},
     "output_type": "display_data"
    },
    {
     "data": {
      "application/vnd.jupyter.widget-view+json": {
       "model_id": "dd0d3078bde0419381b9d20705cf8fdc",
       "version_major": 2,
       "version_minor": 0
      },
      "text/plain": [
       "Processing eps 15, random_124 PV landscapes:   0%|          | 0/200 [00:00<?, ?it/s]"
      ]
     },
     "metadata": {},
     "output_type": "display_data"
    },
    {
     "data": {
      "application/vnd.jupyter.widget-view+json": {
       "model_id": "3f5884442f51401190dd12083873b326",
       "version_major": 2,
       "version_minor": 0
      },
      "text/plain": [
       "Processing eps 15, random_124 PV mtilde landscapes:   0%|          | 0/200 [00:00<?, ?it/s]"
      ]
     },
     "metadata": {},
     "output_type": "display_data"
    },
    {
     "data": {
      "application/vnd.jupyter.widget-view+json": {
       "model_id": "9a8a117a52c6456da681ee2f474f22bd",
       "version_major": 2,
       "version_minor": 0
      },
      "text/plain": [
       "Processing eps 15, random_124 cluster landscapes:   0%|          | 0/200 [00:00<?, ?it/s]"
      ]
     },
     "metadata": {},
     "output_type": "display_data"
    },
    {
     "data": {
      "application/vnd.jupyter.widget-view+json": {
       "model_id": "cee1c195903c4071a09d1477df042550",
       "version_major": 2,
       "version_minor": 0
      },
      "text/plain": [
       "Processing eps 15, random_124 cluster mtilde landscapes:   0%|          | 0/200 [00:00<?, ?it/s]"
      ]
     },
     "metadata": {},
     "output_type": "display_data"
    },
    {
     "data": {
      "application/vnd.jupyter.widget-view+json": {
       "model_id": "265d942a1b7242088e17139e98738c88",
       "version_major": 2,
       "version_minor": 0
      },
      "text/plain": [
       "Processing eps 20, gradient HC landscapes:   0%|          | 0/194 [00:00<?, ?it/s]"
      ]
     },
     "metadata": {},
     "output_type": "display_data"
    },
    {
     "data": {
      "application/vnd.jupyter.widget-view+json": {
       "model_id": "4286b7e086cc45249af5395feaf59fbc",
       "version_major": 2,
       "version_minor": 0
      },
      "text/plain": [
       "Processing eps 20, gradient HC mtilde landscapes:   0%|          | 0/194 [00:00<?, ?it/s]"
      ]
     },
     "metadata": {},
     "output_type": "display_data"
    },
    {
     "data": {
      "application/vnd.jupyter.widget-view+json": {
       "model_id": "42c134e86a334475a600f705d9ce74f5",
       "version_major": 2,
       "version_minor": 0
      },
      "text/plain": [
       "Processing eps 20, gradient PV landscapes:   0%|          | 0/200 [00:00<?, ?it/s]"
      ]
     },
     "metadata": {},
     "output_type": "display_data"
    },
    {
     "data": {
      "application/vnd.jupyter.widget-view+json": {
       "model_id": "b1249978248f469bb99b172e4abec89d",
       "version_major": 2,
       "version_minor": 0
      },
      "text/plain": [
       "Processing eps 20, gradient PV mtilde landscapes:   0%|          | 0/200 [00:00<?, ?it/s]"
      ]
     },
     "metadata": {},
     "output_type": "display_data"
    },
    {
     "data": {
      "application/vnd.jupyter.widget-view+json": {
       "model_id": "466e33410f4140fc8ab73ac0b7983c8a",
       "version_major": 2,
       "version_minor": 0
      },
      "text/plain": [
       "Processing eps 20, gradient cluster landscapes:   0%|          | 0/200 [00:00<?, ?it/s]"
      ]
     },
     "metadata": {},
     "output_type": "display_data"
    },
    {
     "data": {
      "application/vnd.jupyter.widget-view+json": {
       "model_id": "d1a49114bf9c48a694f11dedb8c13c9c",
       "version_major": 2,
       "version_minor": 0
      },
      "text/plain": [
       "Processing eps 20, gradient cluster mtilde landscapes:   0%|          | 0/200 [00:00<?, ?it/s]"
      ]
     },
     "metadata": {},
     "output_type": "display_data"
    },
    {
     "data": {
      "application/vnd.jupyter.widget-view+json": {
       "model_id": "b9ffa6acafa94fa6af89c043f324f176",
       "version_major": 2,
       "version_minor": 0
      },
      "text/plain": [
       "Processing eps 20, random_124 HC landscapes:   0%|          | 0/194 [00:00<?, ?it/s]"
      ]
     },
     "metadata": {},
     "output_type": "display_data"
    },
    {
     "data": {
      "application/vnd.jupyter.widget-view+json": {
       "model_id": "52ec46660ad64d75aca703ebcffca085",
       "version_major": 2,
       "version_minor": 0
      },
      "text/plain": [
       "Processing eps 20, random_124 HC mtilde landscapes:   0%|          | 0/194 [00:00<?, ?it/s]"
      ]
     },
     "metadata": {},
     "output_type": "display_data"
    },
    {
     "data": {
      "application/vnd.jupyter.widget-view+json": {
       "model_id": "b3f68a5b3a564489bed1d99ca22d1757",
       "version_major": 2,
       "version_minor": 0
      },
      "text/plain": [
       "Processing eps 20, random_124 PV landscapes:   0%|          | 0/200 [00:00<?, ?it/s]"
      ]
     },
     "metadata": {},
     "output_type": "display_data"
    },
    {
     "data": {
      "application/vnd.jupyter.widget-view+json": {
       "model_id": "05e974cd8249402caf814c0ef628dbb9",
       "version_major": 2,
       "version_minor": 0
      },
      "text/plain": [
       "Processing eps 20, random_124 PV mtilde landscapes:   0%|          | 0/200 [00:00<?, ?it/s]"
      ]
     },
     "metadata": {},
     "output_type": "display_data"
    },
    {
     "data": {
      "application/vnd.jupyter.widget-view+json": {
       "model_id": "4db0a4d782844278b33e6a5dbafb0c79",
       "version_major": 2,
       "version_minor": 0
      },
      "text/plain": [
       "Processing eps 20, random_124 cluster landscapes:   0%|          | 0/200 [00:00<?, ?it/s]"
      ]
     },
     "metadata": {},
     "output_type": "display_data"
    },
    {
     "data": {
      "application/vnd.jupyter.widget-view+json": {
       "model_id": "b257496ec82b46c4abaff0f6d322a819",
       "version_major": 2,
       "version_minor": 0
      },
      "text/plain": [
       "Processing eps 20, random_124 cluster mtilde landscapes:   0%|          | 0/200 [00:00<?, ?it/s]"
      ]
     },
     "metadata": {},
     "output_type": "display_data"
    },
    {
     "data": {
      "application/vnd.jupyter.widget-view+json": {
       "model_id": "d1a4e2d774bb4e4abbc391986d4bfe59",
       "version_major": 2,
       "version_minor": 0
      },
      "text/plain": [
       "Processing eps 25, gradient HC landscapes:   0%|          | 0/194 [00:00<?, ?it/s]"
      ]
     },
     "metadata": {},
     "output_type": "display_data"
    },
    {
     "data": {
      "application/vnd.jupyter.widget-view+json": {
       "model_id": "9e7a4c4228824588b9dcd0be9e8e3eea",
       "version_major": 2,
       "version_minor": 0
      },
      "text/plain": [
       "Processing eps 25, gradient HC mtilde landscapes:   0%|          | 0/194 [00:00<?, ?it/s]"
      ]
     },
     "metadata": {},
     "output_type": "display_data"
    },
    {
     "data": {
      "application/vnd.jupyter.widget-view+json": {
       "model_id": "bff08328fbb04e688a963bc6654c059b",
       "version_major": 2,
       "version_minor": 0
      },
      "text/plain": [
       "Processing eps 25, gradient PV landscapes:   0%|          | 0/200 [00:00<?, ?it/s]"
      ]
     },
     "metadata": {},
     "output_type": "display_data"
    },
    {
     "data": {
      "application/vnd.jupyter.widget-view+json": {
       "model_id": "5f807bab7a5146fca7cc44d84bdbbddd",
       "version_major": 2,
       "version_minor": 0
      },
      "text/plain": [
       "Processing eps 25, gradient PV mtilde landscapes:   0%|          | 0/200 [00:00<?, ?it/s]"
      ]
     },
     "metadata": {},
     "output_type": "display_data"
    },
    {
     "data": {
      "application/vnd.jupyter.widget-view+json": {
       "model_id": "71ec78f9fb794e1986d0c8ab90d4224f",
       "version_major": 2,
       "version_minor": 0
      },
      "text/plain": [
       "Processing eps 25, gradient cluster landscapes:   0%|          | 0/200 [00:00<?, ?it/s]"
      ]
     },
     "metadata": {},
     "output_type": "display_data"
    },
    {
     "data": {
      "application/vnd.jupyter.widget-view+json": {
       "model_id": "ed4d612e88244b2a94364f4b2419ed03",
       "version_major": 2,
       "version_minor": 0
      },
      "text/plain": [
       "Processing eps 25, gradient cluster mtilde landscapes:   0%|          | 0/200 [00:00<?, ?it/s]"
      ]
     },
     "metadata": {},
     "output_type": "display_data"
    },
    {
     "data": {
      "application/vnd.jupyter.widget-view+json": {
       "model_id": "002a3bfedf3146cb80f2734bc77f4a8a",
       "version_major": 2,
       "version_minor": 0
      },
      "text/plain": [
       "Processing eps 25, random_124 HC landscapes:   0%|          | 0/194 [00:00<?, ?it/s]"
      ]
     },
     "metadata": {},
     "output_type": "display_data"
    },
    {
     "data": {
      "application/vnd.jupyter.widget-view+json": {
       "model_id": "99bfa1e5bcf642c0a7acaf9fee00ab0f",
       "version_major": 2,
       "version_minor": 0
      },
      "text/plain": [
       "Processing eps 25, random_124 HC mtilde landscapes:   0%|          | 0/194 [00:00<?, ?it/s]"
      ]
     },
     "metadata": {},
     "output_type": "display_data"
    },
    {
     "data": {
      "application/vnd.jupyter.widget-view+json": {
       "model_id": "a4209d628f5d47fcac63a0ec6e90048e",
       "version_major": 2,
       "version_minor": 0
      },
      "text/plain": [
       "Processing eps 25, random_124 PV landscapes:   0%|          | 0/200 [00:00<?, ?it/s]"
      ]
     },
     "metadata": {},
     "output_type": "display_data"
    },
    {
     "data": {
      "application/vnd.jupyter.widget-view+json": {
       "model_id": "65d9f1582b7f4ed594ba8e74057b8023",
       "version_major": 2,
       "version_minor": 0
      },
      "text/plain": [
       "Processing eps 25, random_124 PV mtilde landscapes:   0%|          | 0/200 [00:00<?, ?it/s]"
      ]
     },
     "metadata": {},
     "output_type": "display_data"
    },
    {
     "data": {
      "application/vnd.jupyter.widget-view+json": {
       "model_id": "2a20273f78bd49bc8758f903b6995bde",
       "version_major": 2,
       "version_minor": 0
      },
      "text/plain": [
       "Processing eps 25, random_124 cluster landscapes:   0%|          | 0/200 [00:00<?, ?it/s]"
      ]
     },
     "metadata": {},
     "output_type": "display_data"
    },
    {
     "data": {
      "application/vnd.jupyter.widget-view+json": {
       "model_id": "3729e952b78846668485038e2e588c16",
       "version_major": 2,
       "version_minor": 0
      },
      "text/plain": [
       "Processing eps 25, random_124 cluster mtilde landscapes:   0%|          | 0/200 [00:00<?, ?it/s]"
      ]
     },
     "metadata": {},
     "output_type": "display_data"
    }
   ],
   "source": [
    "LL_train = LandscapeLoader(\"../ballmapper_landscapes_normal_function/\", \"../ballmapper_landscapes/\", [15, 20, 25], max_image_i=80)\n",
    "LL_test = LandscapeLoader(\"../ballmapper_landscapes_normal_function/\", \"../ballmapper_landscapes/\", [15, 20, 25], min_image_i=80)\n",
    "\n",
    "# LL_train_Mtilde = LandscapeLoader(\"../ballmapper_landscapes/\", [15, 20, 25], max_image_i=80)\n",
    "# LL_test_Mtilde = LandscapeLoader(\"../ballmapper_landscapes/\", [15, 20, 25], min_image_i=80)"
   ]
  },
  {
   "cell_type": "code",
   "execution_count": null,
   "id": "c6c308ba",
   "metadata": {},
   "outputs": [
    {
     "data": {
      "application/vnd.jupyter.widget-view+json": {
       "model_id": "eb352fe8f4094e23b61061b8c31f846c",
       "version_major": 2,
       "version_minor": 0
      },
      "text/plain": [
       "  0%|          | 0/3 [00:00<?, ?it/s]"
      ]
     },
     "metadata": {},
     "output_type": "display_data"
    },
    {
     "data": {
      "application/vnd.jupyter.widget-view+json": {
       "model_id": "cf0371ddee2141ac938ed2a0df93ef0f",
       "version_major": 2,
       "version_minor": 0
      },
      "text/plain": [
       "  0%|          | 0/3 [00:00<?, ?it/s]"
      ]
     },
     "metadata": {},
     "output_type": "display_data"
    },
    {
     "data": {
      "application/vnd.jupyter.widget-view+json": {
       "model_id": "fda3ec70236947d1a78ce03180835f81",
       "version_major": 2,
       "version_minor": 0
      },
      "text/plain": [
       "  0%|          | 0/3 [00:00<?, ?it/s]"
      ]
     },
     "metadata": {},
     "output_type": "display_data"
    },
    {
     "data": {
      "application/vnd.jupyter.widget-view+json": {
       "model_id": "309fe23f017f47999f107711fbc505e0",
       "version_major": 2,
       "version_minor": 0
      },
      "text/plain": [
       "  0%|          | 0/3 [00:00<?, ?it/s]"
      ]
     },
     "metadata": {},
     "output_type": "display_data"
    },
    {
     "data": {
      "application/vnd.jupyter.widget-view+json": {
       "model_id": "1c3331a17cda466eb79cd835cc1701ee",
       "version_major": 2,
       "version_minor": 0
      },
      "text/plain": [
       "  0%|          | 0/3 [00:00<?, ?it/s]"
      ]
     },
     "metadata": {},
     "output_type": "display_data"
    },
    {
     "data": {
      "application/vnd.jupyter.widget-view+json": {
       "model_id": "4b27b5192653430ca73203d6714e46a8",
       "version_major": 2,
       "version_minor": 0
      },
      "text/plain": [
       "  0%|          | 0/3 [00:00<?, ?it/s]"
      ]
     },
     "metadata": {},
     "output_type": "display_data"
    }
   ],
   "source": [
    "mean_landscapes = {}\n",
    "LL_train.reset_pointer()\n",
    "\n",
    "for eps in LL_train.location_dict.keys():\n",
    "    mean_landscapes[eps] = {}\n",
    "    for color in LL_train.location_dict[eps].keys():\n",
    "        if color == \"alpha\":\n",
    "            continue\n",
    "        mean_landscapes[eps][color] = {}\n",
    "        method_bar = tqdm(LL_train.location_dict[eps][color].keys(), leave=False)\n",
    "        for method in method_bar:\n",
    "            mean_landscapes[eps][color][method] = {}\n",
    "            for type_ in [\"laplacian\", \"normal\", \"mtilde\"]:\n",
    "                cur_lands = []\n",
    "                i = 0\n",
    "                while True:\n",
    "                    method_bar.set_description(f\"Processing landscapes for eps {eps}, color {color}, method {method}, type {type_}, i {i}\")\n",
    "                    land = LL_train.load(eps, color, method, type_)\n",
    "                    if land is None:\n",
    "                        break\n",
    "                    cur_lands.append(land)\n",
    "                    i += 1\n",
    "                mean_landscapes[eps][color][method][type_] = np.mean(cur_lands)"
   ]
  },
  {
   "cell_type": "code",
   "execution_count": null,
   "id": "1ee1cfa0",
   "metadata": {},
   "outputs": [],
   "source": [
    "# with open(\"../ballmapper_landscapes_normal_function/mean_landscapes.pkl\", \"wb\") as f:\n",
    "#     pickle.dump(mean_landscapes, f)"
   ]
  },
  {
   "cell_type": "code",
   "execution_count": 5,
   "id": "bcb33f53",
   "metadata": {},
   "outputs": [],
   "source": [
    "with open(\"../ballmapper_landscapes_normal_function/mean_landscapes.pkl\", \"rb\") as f:\n",
    "    mean_landscapes = pickle.load(f)\n",
    "\n",
    "# with open(\"../ballmapper_landscapes/mean_landscapes.pkl\", \"rb\") as f:\n",
    "#     mean_landscapes_Mtilde = pickle.load(f)"
   ]
  },
  {
   "cell_type": "code",
   "execution_count": 6,
   "id": "b4c97f86",
   "metadata": {},
   "outputs": [
    {
     "data": {
      "text/plain": [
       "array([<Axes: title={'center': 'Landscape dim 0'}, xlabel='t', ylabel='Landscape'>,\n",
       "       <Axes: title={'center': 'Landscape dim 1'}, xlabel='t', ylabel='Landscape'>],\n",
       "      dtype=object)"
      ]
     },
     "execution_count": 6,
     "metadata": {},
     "output_type": "execute_result"
    },
    {
     "data": {
      "image/png": "[encoded data removed]",
      "text/plain": [
       "<Figure size 1000x500 with 2 Axes>"
      ]
     },
     "metadata": {},
     "output_type": "display_data"
    }
   ],
   "source": [
    "mean_landscapes[15][\"random_124\"][\"HC\"][\"normal\"].plot(limits = [0, 1, 0, 0.1])"
   ]
  },
  {
   "cell_type": "code",
   "execution_count": 21,
   "id": "de88cb49",
   "metadata": {},
   "outputs": [
    {
     "data": {
      "image/png": "[encoded data removed]",
      "text/plain": [
       "<Figure size 1000x500 with 2 Axes>"
      ]
     },
     "metadata": {},
     "output_type": "display_data"
    }
   ],
   "source": [
    "method = \"cluster\"\n",
    "color = \"gradient\"\n",
    "mean_landscapes[15][color][method][\"laplacian\"].plot(limits = [0, 1, 0, 0.03])\n",
    "plt.ylim(0, 0.01)\n",
    "plt.tight_layout()\n",
    "plt.savefig(f'../figures/cross_section_report/mean_lapland_{color}_{method}.png', dpi=300, bbox_inches='tight')\n",
    "\n",
    "# (mean_landscapes[15][\"random_124\"][method][\"mtilde\"]-mean_landscapes[15][\"random_124\"][method][\"laplacian\"]).plot(limits = [0, 1, 0, 0.05])"
   ]
  },
  {
   "cell_type": "code",
   "execution_count": 11,
   "id": "03405add",
   "metadata": {},
   "outputs": [
    {
     "data": {
      "application/vnd.jupyter.widget-view+json": {
       "model_id": "3b1081726e7e45e3845c084c48dc25b4",
       "version_major": 2,
       "version_minor": 0
      },
      "text/plain": [
       "  0%|          | 0/3 [00:00<?, ?it/s]"
      ]
     },
     "metadata": {},
     "output_type": "display_data"
    },
    {
     "data": {
      "application/vnd.jupyter.widget-view+json": {
       "model_id": "4f65f29b086e419993abd381d0e178e1",
       "version_major": 2,
       "version_minor": 0
      },
      "text/plain": [
       "  0%|          | 0/3 [00:00<?, ?it/s]"
      ]
     },
     "metadata": {},
     "output_type": "display_data"
    },
    {
     "data": {
      "application/vnd.jupyter.widget-view+json": {
       "model_id": "409c16257f254140ae1503537d4d6616",
       "version_major": 2,
       "version_minor": 0
      },
      "text/plain": [
       "  0%|          | 0/3 [00:00<?, ?it/s]"
      ]
     },
     "metadata": {},
     "output_type": "display_data"
    },
    {
     "data": {
      "application/vnd.jupyter.widget-view+json": {
       "model_id": "c33a9b1246b64e28a7b8c53ac7a325af",
       "version_major": 2,
       "version_minor": 0
      },
      "text/plain": [
       "  0%|          | 0/3 [00:00<?, ?it/s]"
      ]
     },
     "metadata": {},
     "output_type": "display_data"
    },
    {
     "data": {
      "application/vnd.jupyter.widget-view+json": {
       "model_id": "ba37aac3a9b94d50be75eba9b189b5c3",
       "version_major": 2,
       "version_minor": 0
      },
      "text/plain": [
       "  0%|          | 0/3 [00:00<?, ?it/s]"
      ]
     },
     "metadata": {},
     "output_type": "display_data"
    },
    {
     "data": {
      "application/vnd.jupyter.widget-view+json": {
       "model_id": "c3255f4c74bd426d8025551ebccc10fd",
       "version_major": 2,
       "version_minor": 0
      },
      "text/plain": [
       "  0%|          | 0/3 [00:00<?, ?it/s]"
      ]
     },
     "metadata": {},
     "output_type": "display_data"
    }
   ],
   "source": [
    "classifications_dict = {}\n",
    "\n",
    "methods = [\"PV\", \"cluster\", \"HC\"]\n",
    "\n",
    "LL_test.reset_pointer()\n",
    "\n",
    "for eps in LL_test.location_dict.keys():\n",
    "    classifications_dict[eps] = {}\n",
    "    for color in LL_test.location_dict[eps].keys():\n",
    "        if color == \"alpha\":\n",
    "            continue\n",
    "        # if color == \"gradient\" and eps == 15:\n",
    "        #     continue\n",
    "        classifications_dict[eps][color] = {}\n",
    "        method_bar = tqdm(LL_test.location_dict[eps][color].keys(), leave=False)\n",
    "        for method in method_bar:\n",
    "            classifications_dict[eps][color][method] = {}\n",
    "            for type_ in [\"laplacian\", \"normal\", \"mtilde\"]:\n",
    "                classifications_dict[eps][color][method][type_] = []\n",
    "                method_bar.set_description(f\"Processing landscapes for eps {eps}, color {color}, method {method}, type {type_}\")\n",
    "                while True:\n",
    "                    cur_land = LL_test.load(eps, color, method, type_)\n",
    "                    if cur_land is None:\n",
    "                        break\n",
    "                    dists = []\n",
    "                    for other_method in methods:\n",
    "                        mean_land = mean_landscapes[eps][color][other_method][type_]\n",
    "                        dists.append((cur_land - mean_land).norm())\n",
    "                    classifications_dict[eps][color][method][type_].append(np.argmin(dists))\n",
    "\n",
    "# for eps in LL_train.location_dict.keys():\n",
    "#     classifications_dict[eps] = {}\n",
    "#     for color in LL_train.location_dict[eps].keys():\n",
    "#         if color == \"alpha\":\n",
    "#             continue\n",
    "#         classifications_dict[eps][color] = {}\n",
    "#         method_bar = tqdm(LL_train.location_dict[eps][color].keys(), leave=False)\n",
    "#         for method in method_bar:\n",
    "#             classifications_dict[eps][color][method] = {}\n",
    "#             for type_ in [\"laplacian\", \"normal\", \"both\"]:\n",
    "#                 classifications_dict[eps][color][method][type_] = []\n",
    "#             method_bar.set_description(f\"Processing landscapes for eps {eps}, color {color}, method {method}\")\n",
    "#             while True:\n",
    "#                 cur_land_pers = LL_train.load(eps, color, method, \"normal\")\n",
    "#                 cur_land_lap = LL_train.load(eps, color, method, \"laplacian\")\n",
    "#                 if cur_land_pers is None:\n",
    "#                     break\n",
    "#                 dists_pers = []\n",
    "#                 dists_lap = []\n",
    "#                 for other_method in methods:\n",
    "#                     mean_land_pers = mean_landscapes[eps][color][other_method][\"normal\"]\n",
    "#                     mean_land_lap = mean_landscapes[eps][color][other_method][\"laplacian\"]\n",
    "#                     dists_pers.append((cur_land_pers - mean_land_pers).norm())\n",
    "#                     dists_lap.append((cur_land_lap - mean_land_lap).norm())\n",
    "#                 # print(f\"type: {type_}, min dists: {np.min(dists)}, max dists: {np.max(dists)}, mean dists: {np.mean(dists)}\")\n",
    "#                 classifications_dict[eps][color][method][\"normal\"].append(np.argmin(dists_pers))\n",
    "#                 classifications_dict[eps][color][method][\"laplacian\"].append(np.argmin(dists_lap))\n",
    "#                 dists_both = (np.array(dists_pers)-np.min(dists_pers))/(np.max(dists_pers)-np.min(dists_pers)) + (np.array(dists_lap)-np.min(dists_lap))/(np.max(dists_lap)-np.min(dists_lap))\n",
    "#                 classifications_dict[eps][color][method][\"both\"].append(np.argmin(dists_both))"
   ]
  },
  {
   "cell_type": "code",
   "execution_count": 12,
   "id": "699847e3",
   "metadata": {},
   "outputs": [],
   "source": [
    "with open(\"../ballmapper_landscapes_normal_function/classifications_dict.pkl\", \"wb\") as f:\n",
    "    pickle.dump(classifications_dict, f)"
   ]
  },
  {
   "cell_type": "code",
   "execution_count": 22,
   "id": "16a2baf6",
   "metadata": {},
   "outputs": [
    {
     "name": "stdout",
     "output_type": "stream",
     "text": [
      "eps\tcolor\t\tType\t\t\tAccuracy\tf1-score\tPV acc\t\tcluster acc\tHC acc\n",
      "15\tgradient\tnormal\t\t\t50.0%\t\t0.507\t\t45.0%\t\t45.0%\t\t60.0%\n",
      "15\tgradient\tlaplac\t\t\t46.7%\t\t0.483\t\t35.0%\t\t60.0%\t\t45.0%\n",
      "15\tgradient\tmtilde\t\t\t43.3%\t\t0.440\t\t25.0%\t\t60.0%\t\t45.0%\n",
      "15\trandom_124\tnormal\t\t\t56.7%\t\t0.558\t\t35.0%\t\t80.0%\t\t55.0%\n",
      "15\trandom_124\tlaplac\t\t\t58.3%\t\t0.581\t\t45.0%\t\t55.0%\t\t75.0%\n",
      "15\trandom_124\tmtilde\t\t\t60.0%\t\t0.596\t\t45.0%\t\t55.0%\t\t80.0%\n",
      "20\tgradient\tnormal\t\t\t51.7%\t\t0.521\t\t60.0%\t\t40.0%\t\t55.0%\n",
      "20\tgradient\tlaplac\t\t\t40.0%\t\t0.419\t\t25.0%\t\t55.0%\t\t40.0%\n",
      "20\tgradient\tmtilde\t\t\t43.3%\t\t0.451\t\t30.0%\t\t60.0%\t\t40.0%\n",
      "20\trandom_124\tnormal\t\t\t48.3%\t\t0.481\t\t35.0%\t\t60.0%\t\t50.0%\n",
      "20\trandom_124\tlaplac\t\t\t51.7%\t\t0.529\t\t40.0%\t\t60.0%\t\t55.0%\n",
      "20\trandom_124\tmtilde\t\t\t53.3%\t\t0.546\t\t40.0%\t\t60.0%\t\t60.0%\n",
      "25\tgradient\tnormal\t\t\t50.0%\t\t0.504\t\t65.0%\t\t40.0%\t\t45.0%\n",
      "25\tgradient\tlaplac\t\t\t48.3%\t\t0.487\t\t60.0%\t\t55.0%\t\t30.0%\n",
      "25\tgradient\tmtilde\t\t\t51.7%\t\t0.518\t\t60.0%\t\t65.0%\t\t30.0%\n",
      "25\trandom_124\tnormal\t\t\t43.3%\t\t0.427\t\t25.0%\t\t65.0%\t\t40.0%\n",
      "25\trandom_124\tlaplac\t\t\t43.3%\t\t0.441\t\t20.0%\t\t65.0%\t\t45.0%\n",
      "25\trandom_124\tmtilde\t\t\t45.0%\t\t0.455\t\t20.0%\t\t75.0%\t\t40.0%\n"
     ]
    }
   ],
   "source": [
    "from sklearn.metrics import f1_score\n",
    "\n",
    "print(f\"eps\\tcolor\\t\\tType\\t\\t\\tAccuracy\\tf1-score\\t{methods[0]} acc\\t\\t{methods[1]} acc\\t{methods[2]} acc\")\n",
    "for eps in [15, 20, 25]:\n",
    "    for color in [\"gradient\", \"random_124\"]:\n",
    "        # if eps == 15 and color == \"gradient\":\n",
    "        #     continue\n",
    "        for type_ in [\"normal\", \"laplacian\",  \"mtilde\"]:\n",
    "            results = np.array([])\n",
    "            y = np.array([])\n",
    "            acc_methods = []\n",
    "            for method in methods:\n",
    "                cur_results = np.array(classifications_dict[eps][color][method][type_])\n",
    "                results = np.append(results, cur_results)\n",
    "                y = np.append(y, np.ones_like(cur_results) * methods.index(method))\n",
    "                acc_methods.append(np.mean(cur_results==np.ones_like(cur_results) * methods.index(method)))\n",
    "            # if eps == 15 and color == \"random_124\":\n",
    "            #     print(cur_results)\n",
    "\n",
    "            print(f\"{eps}\\t{color}\\t{type_[:6]}\", end=\"\\t\\t\\t\")\n",
    "            print(f\"{np.mean(results==y)*100:.1f}%\\t\\t{f1_score(y, results, average='weighted'):.3f}\", end=\"\\t\\t\")\n",
    "            print(f\"{acc_methods[0]*100:.1f}%\\t\\t{acc_methods[1]*100:.1f}%\\t\\t{acc_methods[2]*100:.1f}%\")\n",
    "            # np.mean(results==y), np.std(results==y)"
   ]
  },
  {
   "cell_type": "code",
   "execution_count": 29,
   "id": "a594b727",
   "metadata": {},
   "outputs": [
    {
     "data": {
      "application/vnd.jupyter.widget-view+json": {
       "model_id": "b27fb16e46d243078413375032fda5b6",
       "version_major": 2,
       "version_minor": 0
      },
      "text/plain": [
       "Processing eps 15, alpha HC landscapes:   0%|          | 0/384 [00:00<?, ?it/s]"
      ]
     },
     "metadata": {},
     "output_type": "display_data"
    },
    {
     "data": {
      "application/vnd.jupyter.widget-view+json": {
       "model_id": "0d7292d0496e41c08ad483a3730c3e4b",
       "version_major": 2,
       "version_minor": 0
      },
      "text/plain": [
       "Processing eps 15, alpha HC mtilde landscapes:   0%|          | 0/384 [00:00<?, ?it/s]"
      ]
     },
     "metadata": {},
     "output_type": "display_data"
    },
    {
     "data": {
      "application/vnd.jupyter.widget-view+json": {
       "model_id": "8d9aebc73cd841518807b53b5a5368aa",
       "version_major": 2,
       "version_minor": 0
      },
      "text/plain": [
       "Processing eps 15, alpha PV landscapes:   0%|          | 0/400 [00:00<?, ?it/s]"
      ]
     },
     "metadata": {},
     "output_type": "display_data"
    },
    {
     "data": {
      "application/vnd.jupyter.widget-view+json": {
       "model_id": "d12c4fcd82494a1f946a977f7b04fae1",
       "version_major": 2,
       "version_minor": 0
      },
      "text/plain": [
       "Processing eps 15, alpha PV mtilde landscapes:   0%|          | 0/400 [00:00<?, ?it/s]"
      ]
     },
     "metadata": {},
     "output_type": "display_data"
    },
    {
     "data": {
      "application/vnd.jupyter.widget-view+json": {
       "model_id": "389168c1e1cb4713b1e88811c3e15ae9",
       "version_major": 2,
       "version_minor": 0
      },
      "text/plain": [
       "Processing eps 15, alpha cluster landscapes:   0%|          | 0/400 [00:00<?, ?it/s]"
      ]
     },
     "metadata": {},
     "output_type": "display_data"
    },
    {
     "data": {
      "application/vnd.jupyter.widget-view+json": {
       "model_id": "c95ef521c88b48e4be79f31d8797f1c8",
       "version_major": 2,
       "version_minor": 0
      },
      "text/plain": [
       "Processing eps 15, alpha cluster mtilde landscapes:   0%|          | 0/400 [00:00<?, ?it/s]"
      ]
     },
     "metadata": {},
     "output_type": "display_data"
    },
    {
     "data": {
      "application/vnd.jupyter.widget-view+json": {
       "model_id": "7b702d4a03a943cea54921b768972e56",
       "version_major": 2,
       "version_minor": 0
      },
      "text/plain": [
       "Processing eps 15, gradient HC landscapes:   0%|          | 0/194 [00:00<?, ?it/s]"
      ]
     },
     "metadata": {},
     "output_type": "display_data"
    },
    {
     "data": {
      "application/vnd.jupyter.widget-view+json": {
       "model_id": "bcc31e7ce11648ff9526d63be0e21d52",
       "version_major": 2,
       "version_minor": 0
      },
      "text/plain": [
       "Processing eps 15, gradient HC mtilde landscapes:   0%|          | 0/194 [00:00<?, ?it/s]"
      ]
     },
     "metadata": {},
     "output_type": "display_data"
    },
    {
     "data": {
      "application/vnd.jupyter.widget-view+json": {
       "model_id": "63d11504c81a4a96ad69a88dfc80af87",
       "version_major": 2,
       "version_minor": 0
      },
      "text/plain": [
       "Processing eps 15, gradient PV landscapes:   0%|          | 0/200 [00:00<?, ?it/s]"
      ]
     },
     "metadata": {},
     "output_type": "display_data"
    },
    {
     "data": {
      "application/vnd.jupyter.widget-view+json": {
       "model_id": "89f133d052b84bb9814b94c125080a6f",
       "version_major": 2,
       "version_minor": 0
      },
      "text/plain": [
       "Processing eps 15, gradient PV mtilde landscapes:   0%|          | 0/200 [00:00<?, ?it/s]"
      ]
     },
     "metadata": {},
     "output_type": "display_data"
    },
    {
     "data": {
      "application/vnd.jupyter.widget-view+json": {
       "model_id": "e3391078fc8e47b585674c97cbbf1431",
       "version_major": 2,
       "version_minor": 0
      },
      "text/plain": [
       "Processing eps 15, gradient cluster landscapes:   0%|          | 0/200 [00:00<?, ?it/s]"
      ]
     },
     "metadata": {},
     "output_type": "display_data"
    },
    {
     "data": {
      "application/vnd.jupyter.widget-view+json": {
       "model_id": "478e35cc54ee4e78bbf2de128cd8ee02",
       "version_major": 2,
       "version_minor": 0
      },
      "text/plain": [
       "Processing eps 15, gradient cluster mtilde landscapes:   0%|          | 0/200 [00:00<?, ?it/s]"
      ]
     },
     "metadata": {},
     "output_type": "display_data"
    },
    {
     "data": {
      "application/vnd.jupyter.widget-view+json": {
       "model_id": "74d764b848fc4a06959a49a041259ee7",
       "version_major": 2,
       "version_minor": 0
      },
      "text/plain": [
       "Processing eps 15, random_124 HC landscapes:   0%|          | 0/194 [00:00<?, ?it/s]"
      ]
     },
     "metadata": {},
     "output_type": "display_data"
    },
    {
     "data": {
      "application/vnd.jupyter.widget-view+json": {
       "model_id": "9398e8a9dddf4545b35e989b39c88349",
       "version_major": 2,
       "version_minor": 0
      },
      "text/plain": [
       "Processing eps 15, random_124 HC mtilde landscapes:   0%|          | 0/194 [00:00<?, ?it/s]"
      ]
     },
     "metadata": {},
     "output_type": "display_data"
    },
    {
     "data": {
      "application/vnd.jupyter.widget-view+json": {
       "model_id": "c9e7809800d1443696c356eda7278ba4",
       "version_major": 2,
       "version_minor": 0
      },
      "text/plain": [
       "Processing eps 15, random_124 PV landscapes:   0%|          | 0/200 [00:00<?, ?it/s]"
      ]
     },
     "metadata": {},
     "output_type": "display_data"
    },
    {
     "data": {
      "application/vnd.jupyter.widget-view+json": {
       "model_id": "f6be2e4a30a94e59938e2dc9601c5c27",
       "version_major": 2,
       "version_minor": 0
      },
      "text/plain": [
       "Processing eps 15, random_124 PV mtilde landscapes:   0%|          | 0/200 [00:00<?, ?it/s]"
      ]
     },
     "metadata": {},
     "output_type": "display_data"
    },
    {
     "data": {
      "application/vnd.jupyter.widget-view+json": {
       "model_id": "6628cfa60af5498688b5f259f1f7a958",
       "version_major": 2,
       "version_minor": 0
      },
      "text/plain": [
       "Processing eps 15, random_124 cluster landscapes:   0%|          | 0/200 [00:00<?, ?it/s]"
      ]
     },
     "metadata": {},
     "output_type": "display_data"
    },
    {
     "data": {
      "application/vnd.jupyter.widget-view+json": {
       "model_id": "dafc8cc8ad1845c2bd14038fc2a1bfe3",
       "version_major": 2,
       "version_minor": 0
      },
      "text/plain": [
       "Processing eps 15, random_124 cluster mtilde landscapes:   0%|          | 0/200 [00:00<?, ?it/s]"
      ]
     },
     "metadata": {},
     "output_type": "display_data"
    },
    {
     "data": {
      "application/vnd.jupyter.widget-view+json": {
       "model_id": "024346cca178412ba8ec340146c3953c",
       "version_major": 2,
       "version_minor": 0
      },
      "text/plain": [
       "Processing eps 20, gradient HC landscapes:   0%|          | 0/194 [00:00<?, ?it/s]"
      ]
     },
     "metadata": {},
     "output_type": "display_data"
    },
    {
     "data": {
      "application/vnd.jupyter.widget-view+json": {
       "model_id": "a65e289a6f4e4c358de8a848c2fd9980",
       "version_major": 2,
       "version_minor": 0
      },
      "text/plain": [
       "Processing eps 20, gradient HC mtilde landscapes:   0%|          | 0/194 [00:00<?, ?it/s]"
      ]
     },
     "metadata": {},
     "output_type": "display_data"
    },
    {
     "data": {
      "application/vnd.jupyter.widget-view+json": {
       "model_id": "3e5ba439ac4a4141bf682d5864effffa",
       "version_major": 2,
       "version_minor": 0
      },
      "text/plain": [
       "Processing eps 20, gradient PV landscapes:   0%|          | 0/200 [00:00<?, ?it/s]"
      ]
     },
     "metadata": {},
     "output_type": "display_data"
    },
    {
     "data": {
      "application/vnd.jupyter.widget-view+json": {
       "model_id": "5d33790d41b54bcd9419c87bef0abb3e",
       "version_major": 2,
       "version_minor": 0
      },
      "text/plain": [
       "Processing eps 20, gradient PV mtilde landscapes:   0%|          | 0/200 [00:00<?, ?it/s]"
      ]
     },
     "metadata": {},
     "output_type": "display_data"
    },
    {
     "data": {
      "application/vnd.jupyter.widget-view+json": {
       "model_id": "587ee97ea1104cbb9be8550fe29b55b1",
       "version_major": 2,
       "version_minor": 0
      },
      "text/plain": [
       "Processing eps 20, gradient cluster landscapes:   0%|          | 0/200 [00:00<?, ?it/s]"
      ]
     },
     "metadata": {},
     "output_type": "display_data"
    },
    {
     "data": {
      "application/vnd.jupyter.widget-view+json": {
       "model_id": "88414853526f477eb8b5d4e7c65df1bb",
       "version_major": 2,
       "version_minor": 0
      },
      "text/plain": [
       "Processing eps 20, gradient cluster mtilde landscapes:   0%|          | 0/200 [00:00<?, ?it/s]"
      ]
     },
     "metadata": {},
     "output_type": "display_data"
    },
    {
     "data": {
      "application/vnd.jupyter.widget-view+json": {
       "model_id": "0e2227c94e0b4dd9af05429ab7725618",
       "version_major": 2,
       "version_minor": 0
      },
      "text/plain": [
       "Processing eps 20, random_124 HC landscapes:   0%|          | 0/194 [00:00<?, ?it/s]"
      ]
     },
     "metadata": {},
     "output_type": "display_data"
    },
    {
     "data": {
      "application/vnd.jupyter.widget-view+json": {
       "model_id": "dbbc7da9aa9b4a5aa528d1d5a099b314",
       "version_major": 2,
       "version_minor": 0
      },
      "text/plain": [
       "Processing eps 20, random_124 HC mtilde landscapes:   0%|          | 0/194 [00:00<?, ?it/s]"
      ]
     },
     "metadata": {},
     "output_type": "display_data"
    },
    {
     "data": {
      "application/vnd.jupyter.widget-view+json": {
       "model_id": "d5ff59c4906745d582287f849ef322c0",
       "version_major": 2,
       "version_minor": 0
      },
      "text/plain": [
       "Processing eps 20, random_124 PV landscapes:   0%|          | 0/200 [00:00<?, ?it/s]"
      ]
     },
     "metadata": {},
     "output_type": "display_data"
    },
    {
     "data": {
      "application/vnd.jupyter.widget-view+json": {
       "model_id": "397bfcd29d6b4d81addcdacf3c38aaa1",
       "version_major": 2,
       "version_minor": 0
      },
      "text/plain": [
       "Processing eps 20, random_124 PV mtilde landscapes:   0%|          | 0/200 [00:00<?, ?it/s]"
      ]
     },
     "metadata": {},
     "output_type": "display_data"
    },
    {
     "data": {
      "application/vnd.jupyter.widget-view+json": {
       "model_id": "9a44d1f4749041e5a70434115b5ce38d",
       "version_major": 2,
       "version_minor": 0
      },
      "text/plain": [
       "Processing eps 20, random_124 cluster landscapes:   0%|          | 0/200 [00:00<?, ?it/s]"
      ]
     },
     "metadata": {},
     "output_type": "display_data"
    },
    {
     "data": {
      "application/vnd.jupyter.widget-view+json": {
       "model_id": "d7cceb0e2bee45909a11a0004fe28246",
       "version_major": 2,
       "version_minor": 0
      },
      "text/plain": [
       "Processing eps 20, random_124 cluster mtilde landscapes:   0%|          | 0/200 [00:00<?, ?it/s]"
      ]
     },
     "metadata": {},
     "output_type": "display_data"
    },
    {
     "data": {
      "application/vnd.jupyter.widget-view+json": {
       "model_id": "79508bf4d6d447ebb7d2e2cf784efe95",
       "version_major": 2,
       "version_minor": 0
      },
      "text/plain": [
       "Processing eps 25, gradient HC landscapes:   0%|          | 0/194 [00:00<?, ?it/s]"
      ]
     },
     "metadata": {},
     "output_type": "display_data"
    },
    {
     "data": {
      "application/vnd.jupyter.widget-view+json": {
       "model_id": "34b7a74042cf494b8266afcce881c834",
       "version_major": 2,
       "version_minor": 0
      },
      "text/plain": [
       "Processing eps 25, gradient HC mtilde landscapes:   0%|          | 0/194 [00:00<?, ?it/s]"
      ]
     },
     "metadata": {},
     "output_type": "display_data"
    },
    {
     "data": {
      "application/vnd.jupyter.widget-view+json": {
       "model_id": "3182ddb2b4c547bbbeb46acc65fca3a7",
       "version_major": 2,
       "version_minor": 0
      },
      "text/plain": [
       "Processing eps 25, gradient PV landscapes:   0%|          | 0/200 [00:00<?, ?it/s]"
      ]
     },
     "metadata": {},
     "output_type": "display_data"
    },
    {
     "data": {
      "application/vnd.jupyter.widget-view+json": {
       "model_id": "b35f7cfeb7334bee806e259b39d6bd62",
       "version_major": 2,
       "version_minor": 0
      },
      "text/plain": [
       "Processing eps 25, gradient PV mtilde landscapes:   0%|          | 0/200 [00:00<?, ?it/s]"
      ]
     },
     "metadata": {},
     "output_type": "display_data"
    },
    {
     "data": {
      "application/vnd.jupyter.widget-view+json": {
       "model_id": "8aaa87f0cd764f72913ac4666661b656",
       "version_major": 2,
       "version_minor": 0
      },
      "text/plain": [
       "Processing eps 25, gradient cluster landscapes:   0%|          | 0/200 [00:00<?, ?it/s]"
      ]
     },
     "metadata": {},
     "output_type": "display_data"
    },
    {
     "data": {
      "application/vnd.jupyter.widget-view+json": {
       "model_id": "9a4efe5a992c4cce9c8392f165b621bf",
       "version_major": 2,
       "version_minor": 0
      },
      "text/plain": [
       "Processing eps 25, gradient cluster mtilde landscapes:   0%|          | 0/200 [00:00<?, ?it/s]"
      ]
     },
     "metadata": {},
     "output_type": "display_data"
    },
    {
     "data": {
      "application/vnd.jupyter.widget-view+json": {
       "model_id": "fd7b14295eaa478e9380f7350d74b492",
       "version_major": 2,
       "version_minor": 0
      },
      "text/plain": [
       "Processing eps 25, random_124 HC landscapes:   0%|          | 0/194 [00:00<?, ?it/s]"
      ]
     },
     "metadata": {},
     "output_type": "display_data"
    },
    {
     "data": {
      "application/vnd.jupyter.widget-view+json": {
       "model_id": "9a6590968a73493fa21f32fa22878d64",
       "version_major": 2,
       "version_minor": 0
      },
      "text/plain": [
       "Processing eps 25, random_124 HC mtilde landscapes:   0%|          | 0/194 [00:00<?, ?it/s]"
      ]
     },
     "metadata": {},
     "output_type": "display_data"
    },
    {
     "data": {
      "application/vnd.jupyter.widget-view+json": {
       "model_id": "5fa03e1ee7ab43fc8aafcf5568163d71",
       "version_major": 2,
       "version_minor": 0
      },
      "text/plain": [
       "Processing eps 25, random_124 PV landscapes:   0%|          | 0/200 [00:00<?, ?it/s]"
      ]
     },
     "metadata": {},
     "output_type": "display_data"
    },
    {
     "data": {
      "application/vnd.jupyter.widget-view+json": {
       "model_id": "616e05f6c91240c1b938d944be8f133c",
       "version_major": 2,
       "version_minor": 0
      },
      "text/plain": [
       "Processing eps 25, random_124 PV mtilde landscapes:   0%|          | 0/200 [00:00<?, ?it/s]"
      ]
     },
     "metadata": {},
     "output_type": "display_data"
    },
    {
     "data": {
      "application/vnd.jupyter.widget-view+json": {
       "model_id": "ca6f4f5ef4bf4b0697f018be587c84fe",
       "version_major": 2,
       "version_minor": 0
      },
      "text/plain": [
       "Processing eps 25, random_124 cluster landscapes:   0%|          | 0/200 [00:00<?, ?it/s]"
      ]
     },
     "metadata": {},
     "output_type": "display_data"
    },
    {
     "data": {
      "application/vnd.jupyter.widget-view+json": {
       "model_id": "72f0f83af81f449592eaddcd8cb0dc82",
       "version_major": 2,
       "version_minor": 0
      },
      "text/plain": [
       "Processing eps 25, random_124 cluster mtilde landscapes:   0%|          | 0/200 [00:00<?, ?it/s]"
      ]
     },
     "metadata": {},
     "output_type": "display_data"
    },
    {
     "data": {
      "application/vnd.jupyter.widget-view+json": {
       "model_id": "00a76d1e1d374ddb9fdc062f57996ed0",
       "version_major": 2,
       "version_minor": 0
      },
      "text/plain": [
       "Processing eps 15, gradient feature vectors:   0%|          | 0/3 [00:00<?, ?it/s]"
      ]
     },
     "metadata": {},
     "output_type": "display_data"
    },
    {
     "data": {
      "application/vnd.jupyter.widget-view+json": {
       "model_id": "c0b24725d4054ce3a83a8a5b81816759",
       "version_major": 2,
       "version_minor": 0
      },
      "text/plain": [
       "Processing eps 15, gradient feature vectors:   0%|          | 0/3 [00:00<?, ?it/s]"
      ]
     },
     "metadata": {},
     "output_type": "display_data"
    },
    {
     "data": {
      "application/vnd.jupyter.widget-view+json": {
       "model_id": "f036217df0774fbdb58a6117e00c2580",
       "version_major": 2,
       "version_minor": 0
      },
      "text/plain": [
       "Processing eps 15, gradient feature vectors:   0%|          | 0/3 [00:00<?, ?it/s]"
      ]
     },
     "metadata": {},
     "output_type": "display_data"
    },
    {
     "data": {
      "application/vnd.jupyter.widget-view+json": {
       "model_id": "3e7f5f98413f4da2b1b61f55b2c626f0",
       "version_major": 2,
       "version_minor": 0
      },
      "text/plain": [
       "Processing eps 15, random_124 feature vectors:   0%|          | 0/3 [00:00<?, ?it/s]"
      ]
     },
     "metadata": {},
     "output_type": "display_data"
    },
    {
     "data": {
      "application/vnd.jupyter.widget-view+json": {
       "model_id": "2b36f66b9ae243e6a1bb3ae29be05f8f",
       "version_major": 2,
       "version_minor": 0
      },
      "text/plain": [
       "Processing eps 15, random_124 feature vectors:   0%|          | 0/3 [00:00<?, ?it/s]"
      ]
     },
     "metadata": {},
     "output_type": "display_data"
    },
    {
     "data": {
      "application/vnd.jupyter.widget-view+json": {
       "model_id": "263d7679850641fa8bccefd90663bda2",
       "version_major": 2,
       "version_minor": 0
      },
      "text/plain": [
       "Processing eps 15, random_124 feature vectors:   0%|          | 0/3 [00:00<?, ?it/s]"
      ]
     },
     "metadata": {},
     "output_type": "display_data"
    },
    {
     "data": {
      "application/vnd.jupyter.widget-view+json": {
       "model_id": "c26581c9cd9247bbae3c35473945a701",
       "version_major": 2,
       "version_minor": 0
      },
      "text/plain": [
       "Processing eps 20, gradient feature vectors:   0%|          | 0/3 [00:00<?, ?it/s]"
      ]
     },
     "metadata": {},
     "output_type": "display_data"
    },
    {
     "data": {
      "application/vnd.jupyter.widget-view+json": {
       "model_id": "add40b8bfc1249fc89a930823479d290",
       "version_major": 2,
       "version_minor": 0
      },
      "text/plain": [
       "Processing eps 20, gradient feature vectors:   0%|          | 0/3 [00:00<?, ?it/s]"
      ]
     },
     "metadata": {},
     "output_type": "display_data"
    },
    {
     "data": {
      "application/vnd.jupyter.widget-view+json": {
       "model_id": "87f26e9e1d7244a1acf5580c3de0f3a8",
       "version_major": 2,
       "version_minor": 0
      },
      "text/plain": [
       "Processing eps 20, gradient feature vectors:   0%|          | 0/3 [00:00<?, ?it/s]"
      ]
     },
     "metadata": {},
     "output_type": "display_data"
    },
    {
     "data": {
      "application/vnd.jupyter.widget-view+json": {
       "model_id": "3f20c6da7d2249559035bf741b9da41c",
       "version_major": 2,
       "version_minor": 0
      },
      "text/plain": [
       "Processing eps 20, random_124 feature vectors:   0%|          | 0/3 [00:00<?, ?it/s]"
      ]
     },
     "metadata": {},
     "output_type": "display_data"
    },
    {
     "data": {
      "application/vnd.jupyter.widget-view+json": {
       "model_id": "716af92ee5ae4f0088c62d6d3c06858f",
       "version_major": 2,
       "version_minor": 0
      },
      "text/plain": [
       "Processing eps 20, random_124 feature vectors:   0%|          | 0/3 [00:00<?, ?it/s]"
      ]
     },
     "metadata": {},
     "output_type": "display_data"
    },
    {
     "data": {
      "application/vnd.jupyter.widget-view+json": {
       "model_id": "16e9cac74d0847a68421b9f5df3203dc",
       "version_major": 2,
       "version_minor": 0
      },
      "text/plain": [
       "Processing eps 20, random_124 feature vectors:   0%|          | 0/3 [00:00<?, ?it/s]"
      ]
     },
     "metadata": {},
     "output_type": "display_data"
    },
    {
     "data": {
      "application/vnd.jupyter.widget-view+json": {
       "model_id": "51d0931d324d4209be6f57337a813c28",
       "version_major": 2,
       "version_minor": 0
      },
      "text/plain": [
       "Processing eps 25, gradient feature vectors:   0%|          | 0/3 [00:00<?, ?it/s]"
      ]
     },
     "metadata": {},
     "output_type": "display_data"
    },
    {
     "data": {
      "application/vnd.jupyter.widget-view+json": {
       "model_id": "11fcff96631e4bf9b97373c6a0e4d9de",
       "version_major": 2,
       "version_minor": 0
      },
      "text/plain": [
       "Processing eps 25, gradient feature vectors:   0%|          | 0/3 [00:00<?, ?it/s]"
      ]
     },
     "metadata": {},
     "output_type": "display_data"
    },
    {
     "data": {
      "application/vnd.jupyter.widget-view+json": {
       "model_id": "5024d11a6fc0490b82b81bed64628b38",
       "version_major": 2,
       "version_minor": 0
      },
      "text/plain": [
       "Processing eps 25, gradient feature vectors:   0%|          | 0/3 [00:00<?, ?it/s]"
      ]
     },
     "metadata": {},
     "output_type": "display_data"
    },
    {
     "data": {
      "application/vnd.jupyter.widget-view+json": {
       "model_id": "fd28b18765f947289573694b85068ef6",
       "version_major": 2,
       "version_minor": 0
      },
      "text/plain": [
       "Processing eps 25, random_124 feature vectors:   0%|          | 0/3 [00:00<?, ?it/s]"
      ]
     },
     "metadata": {},
     "output_type": "display_data"
    },
    {
     "data": {
      "application/vnd.jupyter.widget-view+json": {
       "model_id": "f57554729c59435584b30ed440260872",
       "version_major": 2,
       "version_minor": 0
      },
      "text/plain": [
       "Processing eps 25, random_124 feature vectors:   0%|          | 0/3 [00:00<?, ?it/s]"
      ]
     },
     "metadata": {},
     "output_type": "display_data"
    },
    {
     "data": {
      "application/vnd.jupyter.widget-view+json": {
       "model_id": "8d6ffc60be2348e187a0b0a79155e330",
       "version_major": 2,
       "version_minor": 0
      },
      "text/plain": [
       "Processing eps 25, random_124 feature vectors:   0%|          | 0/3 [00:00<?, ?it/s]"
      ]
     },
     "metadata": {},
     "output_type": "display_data"
    }
   ],
   "source": [
    "LL_all = LandscapeLoader(\"../ballmapper_landscapes_normal_function/\", \"../ballmapper_landscapes/\", [15, 20, 25])\n",
    "feature_vector_dict = {}\n",
    "\n",
    "y_target = [0]*100+[1]*100+[2]*97\n",
    "\n",
    "LL_all.reset_pointer()\n",
    "\n",
    "for eps in [15, 20, 25]:\n",
    "    feature_vector_dict[eps] = {}\n",
    "    for color in [\"gradient\", \"random_124\"]:\n",
    "        feature_vector_dict[eps][color] = {}\n",
    "        for type_ in [\"laplacian\", \"normal\", \"mtilde\"]:\n",
    "            feature_vector_dict[eps][color][type_] = []\n",
    "            for method in tqdm(methods, desc=f\"Processing eps {eps}, {color} feature vectors\", leave=False):\n",
    "                while True:\n",
    "                    cur_land = LL_all.load(eps, color, method, type_)\n",
    "                    if cur_land is None:\n",
    "                        break\n",
    "                    feature_vec = []\n",
    "                    for q in range(2):\n",
    "                        try:\n",
    "                            evals = cur_land.sum_k().evaluations[q][0]\n",
    "                        except:\n",
    "                            print(f\"Error in loading landscape for eps {eps}, color {color}, method {method}, type {type_}\")\n",
    "                            # cur_land.plot()\n",
    "                            # continue\n",
    "                            raise ValueError\n",
    "                        feature_vec.append(evals[0:len(evals)-1:2])\n",
    "                    # print(np.hstack(feature_vec).shape)\n",
    "                    feature_vector_dict[eps][color][type_].append(np.hstack(feature_vec))\n",
    "            feature_vector_dict[eps][color][type_] = np.vstack(feature_vector_dict[eps][color][type_])"
   ]
  },
  {
   "cell_type": "code",
   "execution_count": 30,
   "id": "dd393481",
   "metadata": {},
   "outputs": [],
   "source": [
    "with open(\"../ballmapper_landscapes_normal_function/feature_vector_dict.pkl\", \"wb\") as f:\n",
    "    pickle.dump(feature_vector_dict, f)"
   ]
  },
  {
   "cell_type": "code",
   "execution_count": 35,
   "id": "6c29e230",
   "metadata": {},
   "outputs": [
    {
     "name": "stdout",
     "output_type": "stream",
     "text": [
      "type\t\tAccuracy on test set\n",
      "15\tgradient\tnorma\t\t50.0%\t60.0%\t75.0%\t15.0%\n",
      "15\tgradient\tlapla\t\t33.3%\t35.0%\t45.0%\t20.0%\n",
      "15\tgradient\tmtild\t\t40.0%\t30.0%\t55.0%\t35.0%\n",
      "15\trandom_124\tnorma\t\t56.7%\t35.0%\t90.0%\t45.0%\n",
      "15\trandom_124\tlapla\t\t63.3%\t50.0%\t80.0%\t60.0%\n",
      "15\trandom_124\tmtild\t\t55.0%\t25.0%\t80.0%\t60.0%\n",
      "20\tgradient\tnorma\t\t51.7%\t75.0%\t80.0%\t0.0%\n",
      "20\tgradient\tlapla\t\t40.0%\t45.0%\t50.0%\t25.0%\n",
      "20\tgradient\tmtild\t\t40.0%\t30.0%\t60.0%\t30.0%\n",
      "20\trandom_124\tnorma\t\t56.7%\t40.0%\t90.0%\t40.0%\n",
      "20\trandom_124\tlapla\t\t61.7%\t55.0%\t85.0%\t45.0%\n",
      "20\trandom_124\tmtild\t\t61.7%\t55.0%\t85.0%\t45.0%\n",
      "25\tgradient\tnorma\t\t51.7%\t70.0%\t80.0%\t5.0%\n",
      "25\tgradient\tlapla\t\t50.0%\t70.0%\t45.0%\t35.0%\n",
      "25\tgradient\tmtild\t\t50.0%\t60.0%\t60.0%\t30.0%\n",
      "25\trandom_124\tnorma\t\t60.0%\t55.0%\t90.0%\t35.0%\n",
      "25\trandom_124\tlapla\t\t53.3%\t35.0%\t90.0%\t35.0%\n",
      "25\trandom_124\tmtild\t\t51.7%\t35.0%\t85.0%\t35.0%\n"
     ]
    }
   ],
   "source": [
    "from sklearn.metrics import confusion_matrix\n",
    "\n",
    "print(\"type\\t\\tAccuracy on test set\")\n",
    "for eps in [15, 20, 25]:\n",
    "    for color in [\"gradient\", \"random_124\"]:\n",
    "        for type_ in [\"normal\",\"laplacian\", \"mtilde\"]:\n",
    "            # print(f\"{eps}\\t{color[-1]}\\t{type_}\", end=\"\\t\\t\")\n",
    "            print(f\"{eps}\\t{color}\\t{type_[:5]}\", end=\"\\t\\t\")\n",
    "            X = feature_vector_dict[eps][color][type_]\n",
    "            y = np.array(y_target)\n",
    "            X_train, X_test, y_train, y_test = train_test_split(X, y, test_size=0.2, random_state=42, stratify=y)\n",
    "            LR_model = LogisticRegression(max_iter=5000, random_state=42)\n",
    "            LR_model.fit(X_train, y_train)\n",
    "            print(f\"{LR_model.score(X_test, y_test)*100:.1f}%\", end=\"\\t\")\n",
    "            cm = confusion_matrix(y_test, LR_model.predict(X_test), labels=list(range(len(methods))), normalize='true')\n",
    "            print(f\"{cm[0,0]*100:.1f}%\\t{cm[1,1]*100:.1f}%\\t{cm[2,2]*100:.1f}%\")"
   ]
  }
 ],
 "metadata": {
  "kernelspec": {
   "display_name": "thesis",
   "language": "python",
   "name": "python3"
  },
  "language_info": {
   "codemirror_mode": {
    "name": "ipython",
    "version": 3
   },
   "file_extension": ".py",
   "mimetype": "text/x-python",
   "name": "python",
   "nbconvert_exporter": "python",
   "pygments_lexer": "ipython3",
   "version": "3.9.21"
  }
 },
 "nbformat": 4,
 "nbformat_minor": 5
}
