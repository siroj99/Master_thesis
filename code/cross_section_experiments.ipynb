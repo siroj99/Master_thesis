{
 "cells": [
  {
   "cell_type": "code",
   "execution_count": 1,
   "id": "84f1ef72",
   "metadata": {},
   "outputs": [],
   "source": [
    "from landscapes import *\n",
    "import os\n",
    "import os.path as osp\n",
    "import pickle\n",
    "from sklearn.model_selection import train_test_split\n",
    "from sklearn.linear_model import LogisticRegression\n",
    "import seaborn as sns"
   ]
  },
  {
   "cell_type": "code",
   "execution_count": 19,
   "id": "7997cd24",
   "metadata": {},
   "outputs": [
    {
     "data": {
      "text/plain": [
       "inf"
      ]
     },
     "execution_count": 19,
     "metadata": {},
     "output_type": "execute_result"
    }
   ],
   "source": [
    "import gudhi\n",
    "# import gudhi.bottleneck\n",
    "\n",
    "gudhi.bottleneck_distance(np.array([[1,2], [2,np.inf], [1.5, np.inf]]), np.array([[1,2], [1,np.inf]]))"
   ]
  },
  {
   "cell_type": "code",
   "execution_count": 7,
   "id": "214ef987",
   "metadata": {},
   "outputs": [],
   "source": [
    "def Laplacian_fun(B22_st, B22_stm1, B22_sm1t, B22_sm1tm1, eye):\n",
    "    # return B22_stm1@B22_sm1t@(eye-B22_st)@B22_sm1t\n",
    "    # return B22_sm1t@(eye-B22_st)@B22_sm1t@B22_stm1\n",
    "    # return B22_sm1t@B22_stm1@(eye-B22_st)@B22_stm1\n",
    "    # return B22_stm1@(eye-B22_st)@B22_stm1@B22_sm1t\n",
    "    # return B22_sm1tm1-B22_sm1t-B22_stm1+B22_st\n",
    "\n",
    "    \n",
    "    # return B22_stm1@B22_sm1t+B22_sm1t@B22_stm1-2*B22_st\n",
    "    # return eye-B22_st\n",
    "\n",
    "    # return B22_stm1@(eye-B22_st)@(eye - B22_sm1tm1 + B22_sm1t)\n",
    "\n",
    "    # Best\n",
    "    # return B22_sm1t@B22_stm1-B22_st\n",
    "\n",
    "    # Normal\n",
    "    return B22_stm1 - B22_st - B22_sm1tm1 + B22_sm1t"
   ]
  },
  {
   "cell_type": "markdown",
   "id": "7cddb22f",
   "metadata": {},
   "source": [
    "LANDSCAPES\n",
    "----------------"
   ]
  },
  {
   "cell_type": "code",
   "execution_count": 3,
   "id": "67406e75",
   "metadata": {},
   "outputs": [],
   "source": [
    "class LandscapeLoader():\n",
    "    def __init__(self, path_to_landscapes, path_to_landscapes_mtilde, epsilons, min_image_i = 0, max_image_i=np.inf):\n",
    "        self.path_to_landscapes = path_to_landscapes\n",
    "        self.path_to_landscapes_mtilde = path_to_landscapes_mtilde\n",
    "        self.epsilons = epsilons\n",
    "        \n",
    "\n",
    "        self.location_dict = {}\n",
    "        self.location_pointers = {}\n",
    "        for eps in epsilons:\n",
    "            path_to_landscapes = osp.join(self.path_to_landscapes, f\"eps_{eps}\")\n",
    "            path_to_landscapes_mtilde = osp.join(self.path_to_landscapes_mtilde, f\"eps_{eps}\")\n",
    "            self.location_dict[eps] = {}\n",
    "            self.location_pointers[eps] = {}\n",
    "            for color in sorted(os.listdir(path_to_landscapes)):\n",
    "                self.location_dict[eps][color] = {}\n",
    "                self.location_pointers[eps][color] = {}\n",
    "                for method in sorted(os.listdir(osp.join(path_to_landscapes, color))):\n",
    "                    self.location_dict[eps][color][method] = {\"laplacian\": [], \"normal\": [], \"mtilde\": []}\n",
    "                    self.location_pointers[eps][color][method] = {\"laplacian\": 0, \"normal\": 0, \"mtilde\": 0}\n",
    "                    for land_file in tqdm(sorted(os.listdir(osp.join(path_to_landscapes, color, method))), leave=False, desc=f\"Processing eps {eps}, {color} {method} landscapes\"):\n",
    "                        if not land_file.endswith(\".pkl\"):\n",
    "                            continue\n",
    "                        image_i = int(land_file[:-4].split(\"_\")[-1])\n",
    "                        if image_i < min_image_i or image_i >= max_image_i:\n",
    "                            continue\n",
    "                        self.location_dict[eps][color][method][land_file.split(\"_\")[0]].append(osp.join(path_to_landscapes, color, method, land_file))\n",
    "                        # with open(osp.join(path_to_landscapes, color, digit, land_file), \"rb\") as f:\n",
    "                        #     land = pickle.load(f)\n",
    "                        # if land_file.split(\"_\")[0] == \"pers\":\n",
    "                        #     land_dict[eps][color][digit][land_file.split(\"_\")[0]].append(land.__mult__(1))\n",
    "                        # else:\n",
    "                        #     land_dict[eps][color][digit][land_file.split(\"_\")[0]].append(land.__mult__(1))\n",
    "                    for land_file in tqdm(sorted(os.listdir(osp.join(path_to_landscapes_mtilde, color, method))), leave=False, desc=f\"Processing eps {eps}, {color} {method} mtilde landscapes\"):\n",
    "                        if not land_file.endswith(\".pkl\") or land_file.split(\"_\")[0] == \"normal\":\n",
    "                            continue\n",
    "                        image_i = int(land_file[:-4].split(\"_\")[-1])\n",
    "                        if image_i < min_image_i or image_i >= max_image_i:\n",
    "                            continue\n",
    "                        self.location_dict[eps][color][method][\"mtilde\"].append(osp.join(path_to_landscapes_mtilde, color, method, land_file))\n",
    "    def reset_pointer(self, eps_list=None, color_list=None, method_list=None, type_list=None):\n",
    "        if eps_list is None:\n",
    "            epss = self.location_pointers.keys()\n",
    "        else:\n",
    "            epss = eps_list\n",
    "        for eps in epss:\n",
    "            if color_list is None:\n",
    "                colors = self.location_pointers[eps].keys()\n",
    "            else:\n",
    "                colors = color_list\n",
    "            for color in colors:\n",
    "                if method_list is None:\n",
    "                    methods = self.location_pointers[eps][color].keys()\n",
    "                else:\n",
    "                    methods = method_list\n",
    "                for method in methods:\n",
    "                    if type_list is None:\n",
    "                        types = [\"laplacian\", \"normal\", \"mtilde\"]\n",
    "                    else:\n",
    "                        types = type_list\n",
    "                    for type_ in types:\n",
    "                        if type_ in self.location_pointers[eps][color][method]:\n",
    "                            self.location_pointers[eps][color][method][type_] = 0\n",
    "                        else:\n",
    "                            print(f\"Warning: Type {type_} not found in {eps}, {color}, {method}. Skipping reset for this type.\")\n",
    "                        # self.location_pointers[eps][color][digit][\"pers\"] = 0\n",
    "\n",
    "    def load(self, eps, color, method, type_):\n",
    "        if self.location_pointers[eps][color][method][type_] >= len(self.location_dict[eps][color][method][type_]):\n",
    "            return None\n",
    "        path = self.location_dict[eps][color][method][type_][self.location_pointers[eps][color][method][type_]]\n",
    "        self.location_pointers[eps][color][method][type_] += 1\n",
    "        with open(path, \"rb\") as f:\n",
    "            land = pickle.load(f)\n",
    "        return land#.__mult__(1) if type_ == \"pers\" else land\n",
    "\n",
    "def plot_mean_landscape(LL, eps, color, method, type_, max_k = 3, limits = None, n_eval=1000, errorbar=\"sd\"):\n",
    "    LL.reset_pointer([eps], [color], [method], [type_])\n",
    "\n",
    "    all_evaluations = {0: {k: np.array([]) for k in range(max_k)}, 1: {k: np.array([]) for k in range(max_k)}}\n",
    "    count = 0\n",
    "\n",
    "    print(f\"Loading landscapes for eps={eps}, color={color}, method={method}, type={type_}\")\n",
    "    while True:\n",
    "        print(f\"Loading landscape {count}\", end=\"\\r\")\n",
    "        land = LL.load(eps, color, method, type_)\n",
    "        if land is None:\n",
    "            break\n",
    "        max_t = land.max_t\n",
    "        count += 1\n",
    "        for q in range(2):\n",
    "            for k in range(max_k):\n",
    "                if k not in land.evaluations[q].keys():\n",
    "                    all_evaluations[q][k] = np.append(all_evaluations[q][k], np.zeros(n_eval))\n",
    "                else:\n",
    "                    all_evaluations[q][k] = np.append(all_evaluations[q][k], land.evaluations[q][k])\n",
    "\n",
    "    print()\n",
    "    x_axis = np.array(list(np.linspace(0, max_t, n_eval))*count)\n",
    "\n",
    "    fig, ax = plt.subplots(1, 2, figsize=(5*2, 5))\n",
    "        \n",
    "    for dim in range(0, 2):\n",
    "        cur_ax = ax[dim]\n",
    "\n",
    "        for k in range(max_k):\n",
    "            # max_non_zero = len(self.evaluations[dim])\n",
    "            # for i in range(len(self.evaluations[dim])-1, -1, -1):\n",
    "            #     if self.evaluations[dim][k][i] != 0:\n",
    "            #         max_non_zero = i+1\n",
    "            #         break\n",
    "            # ax[dim].plot(np.linspace(0, self.max_t, len(self.evaluations[dim][k]))[:max_non_zero], self.evaluations[dim][k][:max_non_zero], c={0: \"b\", 1: \"r\", 2: \"g\", 3: \"y\"}[dim])\n",
    "            print(\"Plotting k =\", k, \"dim =\", dim, end=\"\\r\")\n",
    "            sns.lineplot(x=x_axis, y=all_evaluations[dim][k], ax=cur_ax, label=f\"k={k}\", errorbar=errorbar)\n",
    "        \n",
    "        if limits is not None:\n",
    "            if isinstance(limits[0], list):\n",
    "                if len(limits) > dim:\n",
    "                    cur_ax.set_xlim(limits[dim][0], limits[dim][1])\n",
    "                    cur_ax.set_ylim(limits[dim][2], limits[dim][3])\n",
    "            else:\n",
    "                cur_ax.set_xlim(limits[0], limits[1])\n",
    "                cur_ax.set_ylim(limits[2], limits[3])\n",
    "        cur_ax.legend()\n",
    "        cur_ax.set_xlabel(\"t\")\n",
    "        cur_ax.set_ylabel(\"Landscape\")\n",
    "        if type_ != \"normal\":\n",
    "            cur_ax.set_title(f\"Lap Landscape dim {dim}\")\n",
    "        else:\n",
    "            cur_ax.set_title(f\"Landscape dim {dim}\")\n",
    "        # cur_ax.set_title(f\"Lap Landscape dim {dim}\")\n",
    "    fig.tight_layout()\n",
    "    return ax\n",
    "\n",
    "\n",
    "def plot_difference_landscape(LL, eps, color, method, max_k = 3, limits = None, n_eval=1000, errorbar=\"sd\"):\n",
    "    LL.reset_pointer([eps], [color], [method], [\"laplacian\", \"mtilde\"])\n",
    "\n",
    "    all_evaluations_laplacian = {0: {k: np.array([]) for k in range(max_k)}, 1: {k: np.array([]) for k in range(max_k)}}\n",
    "    count = 0\n",
    "\n",
    "    print(f\"Loading landscapes for eps={eps}, color={color}, method={method}, type=laplacian\")\n",
    "    while True:\n",
    "        print(f\"Loading landscape {count}\", end=\"\\r\")\n",
    "        land = LL.load(eps, color, method, \"laplacian\")\n",
    "        if land is None:\n",
    "            break\n",
    "        max_t = land.max_t\n",
    "        count += 1\n",
    "        for q in range(2):\n",
    "            for k in range(max_k):\n",
    "                if k not in land.evaluations[q].keys():\n",
    "                    all_evaluations_laplacian[q][k] = np.append(all_evaluations_laplacian[q][k], np.zeros(n_eval))\n",
    "                else:\n",
    "                    all_evaluations_laplacian[q][k] = np.append(all_evaluations_laplacian[q][k], land.evaluations[q][k])\n",
    "\n",
    "    print()\n",
    "\n",
    "    all_evaluations_mtilde = {0: {k: np.array([]) for k in range(max_k)}, 1: {k: np.array([]) for k in range(max_k)}}\n",
    "    count = 0\n",
    "\n",
    "    print(f\"Loading landscapes for eps={eps}, color={color}, method={method}, type=mtilde\")\n",
    "    while True:\n",
    "        print(f\"Loading landscape {count}\", end=\"\\r\")\n",
    "        land = LL.load(eps, color, method, \"mtilde\")\n",
    "        if land is None:\n",
    "            break\n",
    "        count += 1\n",
    "        max_t = land.max_t\n",
    "        for q in range(2):\n",
    "            for k in range(max_k):\n",
    "                if k not in land.evaluations[q].keys():\n",
    "                    all_evaluations_mtilde[q][k] = np.append(all_evaluations_mtilde[q][k], np.zeros(n_eval))\n",
    "                else:\n",
    "                    all_evaluations_mtilde[q][k] = np.append(all_evaluations_mtilde[q][k], land.evaluations[q][k])\n",
    "\n",
    "    print()\n",
    "\n",
    "    x_axis = np.array(list(np.linspace(0, max_t, n_eval))*count)\n",
    "\n",
    "    fig, ax = plt.subplots(1, 2, figsize=(5*2, 5))\n",
    "        \n",
    "    for dim in range(0, 2):\n",
    "        cur_ax = ax[dim]\n",
    "\n",
    "        for k in range(max_k):\n",
    "            # max_non_zero = len(self.evaluations[dim])\n",
    "            # for i in range(len(self.evaluations[dim])-1, -1, -1):\n",
    "            #     if self.evaluations[dim][k][i] != 0:\n",
    "            #         max_non_zero = i+1\n",
    "            #         break\n",
    "            # ax[dim].plot(np.linspace(0, self.max_t, len(self.evaluations[dim][k]))[:max_non_zero], self.evaluations[dim][k][:max_non_zero], c={0: \"b\", 1: \"r\", 2: \"g\", 3: \"y\"}[dim])\n",
    "            print(\"Plotting k =\", k, \"dim =\", dim, end=\"\\r\")\n",
    "            sns.lineplot(x=x_axis, y=(all_evaluations_mtilde[dim][k]-all_evaluations_laplacian[dim][k]), ax=cur_ax, label=f\"k={k}\", errorbar=errorbar)\n",
    "        \n",
    "        if limits is not None:\n",
    "            if isinstance(limits[0], list):\n",
    "                if len(limits) > dim:\n",
    "                    cur_ax.set_xlim(limits[dim][0], limits[dim][1])\n",
    "                    cur_ax.set_ylim(limits[dim][2], limits[dim][3])\n",
    "            else:\n",
    "                cur_ax.set_xlim(limits[0], limits[1])\n",
    "                cur_ax.set_ylim(limits[2], limits[3])\n",
    "        cur_ax.legend()\n",
    "        cur_ax.set_xlabel(\"t\")\n",
    "        cur_ax.set_ylabel(\"Landscape\")\n",
    "        if type_ != \"normal\":\n",
    "            cur_ax.set_title(f\"Lap Landscape dim {dim}\")\n",
    "        else:\n",
    "            cur_ax.set_title(f\"Landscape dim {dim}\")\n",
    "        # cur_ax.set_title(f\"Lap Landscape dim {dim}\")\n",
    "    fig.tight_layout()\n",
    "    return ax\n"
   ]
  },
  {
   "cell_type": "markdown",
   "id": "86f83311",
   "metadata": {},
   "source": [
    "ALPHA FILTRATION\n",
    "---------------------"
   ]
  },
  {
   "cell_type": "code",
   "execution_count": 28,
   "id": "76908af9",
   "metadata": {},
   "outputs": [
    {
     "data": {
      "application/vnd.jupyter.widget-view+json": {
       "model_id": "e9a27e3b26b849e29ca36c59995274ee",
       "version_major": 2,
       "version_minor": 0
      },
      "text/plain": [
       "Processing eps 15, alpha HC landscapes:   0%|          | 0/194 [00:00<?, ?it/s]"
      ]
     },
     "metadata": {},
     "output_type": "display_data"
    },
    {
     "data": {
      "application/vnd.jupyter.widget-view+json": {
       "model_id": "37e512c26c8e46db9c966c8880036bf0",
       "version_major": 2,
       "version_minor": 0
      },
      "text/plain": [
       "Processing eps 15, alpha HC mtilde landscapes:   0%|          | 0/194 [00:00<?, ?it/s]"
      ]
     },
     "metadata": {},
     "output_type": "display_data"
    },
    {
     "data": {
      "application/vnd.jupyter.widget-view+json": {
       "model_id": "5fa213322d974b92b5b67c94b0475f0c",
       "version_major": 2,
       "version_minor": 0
      },
      "text/plain": [
       "Processing eps 15, alpha PV landscapes:   0%|          | 0/200 [00:00<?, ?it/s]"
      ]
     },
     "metadata": {},
     "output_type": "display_data"
    },
    {
     "data": {
      "application/vnd.jupyter.widget-view+json": {
       "model_id": "8ff9a52064e5400d998c127890e4b095",
       "version_major": 2,
       "version_minor": 0
      },
      "text/plain": [
       "Processing eps 15, alpha PV mtilde landscapes:   0%|          | 0/200 [00:00<?, ?it/s]"
      ]
     },
     "metadata": {},
     "output_type": "display_data"
    },
    {
     "data": {
      "application/vnd.jupyter.widget-view+json": {
       "model_id": "160bf3f9e7ba4b0c8e823f4ec7179ebf",
       "version_major": 2,
       "version_minor": 0
      },
      "text/plain": [
       "Processing eps 15, alpha cluster landscapes:   0%|          | 0/200 [00:00<?, ?it/s]"
      ]
     },
     "metadata": {},
     "output_type": "display_data"
    },
    {
     "data": {
      "application/vnd.jupyter.widget-view+json": {
       "model_id": "0f8962287eba4e6ca9c8e68519f0fd0a",
       "version_major": 2,
       "version_minor": 0
      },
      "text/plain": [
       "Processing eps 15, alpha cluster mtilde landscapes:   0%|          | 0/200 [00:00<?, ?it/s]"
      ]
     },
     "metadata": {},
     "output_type": "display_data"
    },
    {
     "data": {
      "application/vnd.jupyter.widget-view+json": {
       "model_id": "84640d277de94f8b99be0752716efe98",
       "version_major": 2,
       "version_minor": 0
      },
      "text/plain": [
       "Processing eps 15, alpha HC landscapes:   0%|          | 0/194 [00:00<?, ?it/s]"
      ]
     },
     "metadata": {},
     "output_type": "display_data"
    },
    {
     "data": {
      "application/vnd.jupyter.widget-view+json": {
       "model_id": "e969450f6b474d74a23913b1d7e180de",
       "version_major": 2,
       "version_minor": 0
      },
      "text/plain": [
       "Processing eps 15, alpha HC mtilde landscapes:   0%|          | 0/194 [00:00<?, ?it/s]"
      ]
     },
     "metadata": {},
     "output_type": "display_data"
    },
    {
     "data": {
      "application/vnd.jupyter.widget-view+json": {
       "model_id": "83b7c0476b7f493797c3c3d7de7f3523",
       "version_major": 2,
       "version_minor": 0
      },
      "text/plain": [
       "Processing eps 15, alpha PV landscapes:   0%|          | 0/200 [00:00<?, ?it/s]"
      ]
     },
     "metadata": {},
     "output_type": "display_data"
    },
    {
     "data": {
      "application/vnd.jupyter.widget-view+json": {
       "model_id": "21810da2984847839f059d1762d0b502",
       "version_major": 2,
       "version_minor": 0
      },
      "text/plain": [
       "Processing eps 15, alpha PV mtilde landscapes:   0%|          | 0/200 [00:00<?, ?it/s]"
      ]
     },
     "metadata": {},
     "output_type": "display_data"
    },
    {
     "data": {
      "application/vnd.jupyter.widget-view+json": {
       "model_id": "848362175b8c41fe877a17e3dde54769",
       "version_major": 2,
       "version_minor": 0
      },
      "text/plain": [
       "Processing eps 15, alpha cluster landscapes:   0%|          | 0/200 [00:00<?, ?it/s]"
      ]
     },
     "metadata": {},
     "output_type": "display_data"
    },
    {
     "data": {
      "application/vnd.jupyter.widget-view+json": {
       "model_id": "2dbc967d0b834743b3cbff4c5df71418",
       "version_major": 2,
       "version_minor": 0
      },
      "text/plain": [
       "Processing eps 15, alpha cluster mtilde landscapes:   0%|          | 0/200 [00:00<?, ?it/s]"
      ]
     },
     "metadata": {},
     "output_type": "display_data"
    },
    {
     "data": {
      "application/vnd.jupyter.widget-view+json": {
       "model_id": "1843b2d20054471bad2f642b7062abd5",
       "version_major": 2,
       "version_minor": 0
      },
      "text/plain": [
       "Processing eps 15, alpha HC landscapes:   0%|          | 0/194 [00:00<?, ?it/s]"
      ]
     },
     "metadata": {},
     "output_type": "display_data"
    },
    {
     "data": {
      "application/vnd.jupyter.widget-view+json": {
       "model_id": "54d6d825a3164ca3a2253ae02c746c06",
       "version_major": 2,
       "version_minor": 0
      },
      "text/plain": [
       "Processing eps 15, alpha HC mtilde landscapes:   0%|          | 0/194 [00:00<?, ?it/s]"
      ]
     },
     "metadata": {},
     "output_type": "display_data"
    },
    {
     "data": {
      "application/vnd.jupyter.widget-view+json": {
       "model_id": "5d0cd00b411145be806ca2cb90075d04",
       "version_major": 2,
       "version_minor": 0
      },
      "text/plain": [
       "Processing eps 15, alpha PV landscapes:   0%|          | 0/200 [00:00<?, ?it/s]"
      ]
     },
     "metadata": {},
     "output_type": "display_data"
    },
    {
     "data": {
      "application/vnd.jupyter.widget-view+json": {
       "model_id": "eb1d57e6808748fe86fffd1fb3487345",
       "version_major": 2,
       "version_minor": 0
      },
      "text/plain": [
       "Processing eps 15, alpha PV mtilde landscapes:   0%|          | 0/200 [00:00<?, ?it/s]"
      ]
     },
     "metadata": {},
     "output_type": "display_data"
    },
    {
     "data": {
      "application/vnd.jupyter.widget-view+json": {
       "model_id": "dac849862d6d4197a20e1eacd79c5896",
       "version_major": 2,
       "version_minor": 0
      },
      "text/plain": [
       "Processing eps 15, alpha cluster landscapes:   0%|          | 0/200 [00:00<?, ?it/s]"
      ]
     },
     "metadata": {},
     "output_type": "display_data"
    },
    {
     "data": {
      "application/vnd.jupyter.widget-view+json": {
       "model_id": "91be8979f03946bc96f58615b81d7ab7",
       "version_major": 2,
       "version_minor": 0
      },
      "text/plain": [
       "Processing eps 15, alpha cluster mtilde landscapes:   0%|          | 0/200 [00:00<?, ?it/s]"
      ]
     },
     "metadata": {},
     "output_type": "display_data"
    }
   ],
   "source": [
    "LL_train_alpha = LandscapeLoader(\"../alpha_landscapes_normal_function/\", \"../alpha_landscapes/\", [15], max_image_i=80)\n",
    "LL_test_alpha = LandscapeLoader(\"../alpha_landscapes_normal_function/\", \"../alpha_landscapes/\", [15], min_image_i=80)\n",
    "LL_all_alpha = LandscapeLoader(\"../alpha_landscapes_normal_function/\", \"../alpha_landscapes/\", [15], min_image_i=0, max_image_i=np.inf)\n",
    "\n",
    "# LL_train_Mtilde_alpha = LandscapeLoader(\"../alpha_landscapes/\", [15], max_image_i=80)\n",
    "# LL_test_Mtilde_alpha = LandscapeLoader(\"../alpha_landscapes/\", [15], min_image_i=80)"
   ]
  },
  {
   "cell_type": "code",
   "execution_count": 52,
   "id": "52d0bb7f",
   "metadata": {},
   "outputs": [
    {
     "name": "stdout",
     "output_type": "stream",
     "text": [
      "Loading landscapes for eps=15, color=alpha, method=HC, type=laplacian\n",
      "Loading landscape 97\n",
      "Plotting k = 2 dim = 1\r"
     ]
    },
    {
     "data": {
      "text/plain": [
       "array([<Axes: title={'center': 'Lap Landscape dim 0'}, xlabel='t', ylabel='Landscape'>,\n",
       "       <Axes: title={'center': 'Lap Landscape dim 1'}, xlabel='t', ylabel='Landscape'>],\n",
       "      dtype=object)"
      ]
     },
     "execution_count": 52,
     "metadata": {},
     "output_type": "execute_result"
    },
    {
     "data": {
      "image/png": "[encoded data removed]",
      "text/plain": [
       "<Figure size 1000x500 with 2 Axes>"
      ]
     },
     "metadata": {},
     "output_type": "display_data"
    }
   ],
   "source": [
    "plot_mean_landscape(LL_all_alpha, 15, \"alpha\", \"HC\", \"laplacian\", limits = [[0,1,0,0.5], [0,0.05,0,0.005]])"
   ]
  },
  {
   "cell_type": "code",
   "execution_count": null,
   "id": "f3874bff",
   "metadata": {},
   "outputs": [],
   "source": [
    "method_list = [\"PV\", \"cluster\", \"HC\"]\n",
    "# out_dict_alpha = {\"alpha\": {}}\n",
    "\n",
    "for type_ in [\"mtilde\", \"normal\", \"laplacian\"]:\n",
    "    # out_dict_alpha[\"alpha\"][type_] = {}\n",
    "    for method in method_list:\n",
    "        # out_dict_alpha[\"alpha\"][type_][method] = {}\n",
    "\n",
    "        print(f\"Gathering statistics for {type_} landscapes with method {method}\\n\"+\"-\"*20)\n",
    "\n",
    "        LL_all_alpha.reset_pointer()\n",
    "\n",
    "        sum_land = LL_all_alpha.load(15, \"alpha\", method, type_)\n",
    "        counter = 1\n",
    "\n",
    "        while True:\n",
    "            land = LL_all_alpha.load(15, \"alpha\", method, type_)\n",
    "            if land is None:\n",
    "                break\n",
    "            counter += 1\n",
    "            print(f\"Loaded landscape {counter} for sum\", end=\"\\r\")\n",
    "            sum_land += land\n",
    "\n",
    "        loaded_landscapes = counter\n",
    "\n",
    "        for dim in [0]:#[None, 1]:\n",
    "            out_dict_alpha[\"alpha\"][type_][method][dim] = {}\n",
    "            LL_all_alpha.reset_pointer()\n",
    "            load_bar = tqdm(total= loaded_landscapes, desc = f\"Dim {dim}, gathering statistics\", leave = False)\n",
    "            dists = []\n",
    "\n",
    "            while True:\n",
    "                land = LL_all_alpha.load(15, \"alpha\", method, type_)\n",
    "                if land is None:\n",
    "                    break\n",
    "                load_bar.update(1)\n",
    "                mean_land = (sum_land-land).__mult__(1/(loaded_landscapes-1))\n",
    "                dists.append((land - mean_land).norm(dim=dim))\n",
    "\n",
    "            load_bar.close()\n",
    "            out_dict_alpha[\"alpha\"][type_][method][dim][method] = np.array(dists)\n",
    "\n",
    "            mean_land = sum_land.__mult__(1/loaded_landscapes)\n",
    "\n",
    "            for other_method in method_list:\n",
    "                if other_method == method:\n",
    "                    continue\n",
    "                dists = []\n",
    "                load_bar = tqdm(total= loaded_landscapes, desc = f\"Dim {dim}, comparison with {other_method[:2]}\", leave = False)\n",
    "\n",
    "                while True:\n",
    "                    land = LL_all_alpha.load(15, \"alpha\", other_method, type_)\n",
    "                    if land is None:\n",
    "                        break\n",
    "                    load_bar.update(1)\n",
    "                    dists.append((land - mean_land).norm(dim=dim))\n",
    "                load_bar.close()\n",
    "                out_dict_alpha[\"alpha\"][type_][method][dim][other_method] = np.array(dists)\n",
    "\n",
    "# axs = plot_mean_landscape(LL_train_alpha, 15, \"alpha\", method, type_, limits = [[0, 1, 0, 0.5], [0,0.05,0,0.005]], max_k=3)\n",
    "\n",
    "# LL_train_alpha.reset_pointer()\n",
    "# new_land = LL_train_alpha.load(15, \"alpha\", method, type_)\n",
    "# axs[0].plot(np.linspace(0, new_land.max_t, 1000), new_land.evaluations[0][0], label=\"Test Landscape\", color=\"blue\", linestyle=\"--\")\n",
    "# axs[0].plot(np.linspace(0, new_land.max_t, 1000), new_land.evaluations[0][1], label=\"Test Landscape\", color=\"orange\", linestyle=\"--\")\n",
    "# axs[0].plot(np.linspace(0, new_land.max_t, 1000), new_land.evaluations[0][2], label=\"Test Landscape\", color=\"green\", linestyle=\"--\")\n",
    "\n",
    "# axs[1].plot(np.linspace(0, new_land.max_t, 1000), new_land.evaluations[1][0], label=\"Test Landscape\", color=\"blue\", linestyle=\"--\")\n",
    "# axs[1].plot(np.linspace(0, new_land.max_t, 1000), new_land.evaluations[1][1], label=\"Test Landscape\", color=\"orange\", linestyle=\"--\")\n",
    "# axs[1].plot(np.linspace(0, new_land.max_t, 1000), new_land.evaluations[1][2], label=\"Test Landscape\", color=\"green\", linestyle=\"--\")\n",
    "# # plt.savefig(f\"../figures/cross_section_report/mean_landscape_conf_alpha_{method}_{type_}.png\", bbox_inches='tight', dpi=300)"
   ]
  },
  {
   "cell_type": "code",
   "execution_count": null,
   "id": "c1dd4bcd",
   "metadata": {},
   "outputs": [],
   "source": [
    "# with open(\"cross_section_experiments_results_alpha.pkl\", \"wb\") as f:\n",
    "#     pickle.dump(out_dict, f)"
   ]
  },
  {
   "cell_type": "code",
   "execution_count": 53,
   "id": "edb4ce4e",
   "metadata": {},
   "outputs": [],
   "source": [
    "with open(\"cross_section_experiments_results_alpha.pkl\", \"rb\") as f:\n",
    "    out_dict_alpha = pickle.load(f)"
   ]
  },
  {
   "cell_type": "code",
   "execution_count": 69,
   "id": "e0aad247",
   "metadata": {},
   "outputs": [
    {
     "name": "stdout",
     "output_type": "stream",
     "text": [
      "type\tmethod\tdim\tpv.95\tcl.95\thc.95\n",
      "norma\tPV\t0\tN/A\t1.0\t0.04\t\n",
      "lapla\tPV\t0\tN/A\t0.02\t0.05\t\n",
      "mtild\tPV\t0\tN/A\t0.02\t0.05\t\n",
      "norma\tPV\t1\tN/A\t0.96\t0.07\t\n",
      "lapla\tPV\t1\tN/A\t0.97\t0.05\t\n",
      "mtild\tPV\t1\tN/A\t0.97\t0.06\t\n",
      "norma\tcluster\t0\t0.6\tN/A\t0.76\t\n",
      "lapla\tcluster\t0\t0.07\tN/A\t0.05\t\n",
      "mtild\tcluster\t0\t0.07\tN/A\t0.05\t\n",
      "norma\tcluster\t1\t0.14\tN/A\t0.16\t\n",
      "lapla\tcluster\t1\t0.09\tN/A\t0.07\t\n",
      "mtild\tcluster\t1\t0.14\tN/A\t0.16\t\n",
      "norma\tHC\t0\t0.13\t1.0\tN/A\t\n",
      "lapla\tHC\t0\t0.05\t0.02\tN/A\t\n",
      "mtild\tHC\t0\t0.05\t0.02\tN/A\t\n",
      "norma\tHC\t1\t0.06\t0.94\tN/A\t\n",
      "lapla\tHC\t1\t0.1\t1.0\tN/A\t\n",
      "mtild\tHC\t1\t0.06\t0.96\tN/A\t\n"
     ]
    }
   ],
   "source": [
    "print(\"type\\tmethod\\tdim\\tpv.95\\tcl.95\\thc.95\")\n",
    "for method in method_list:\n",
    "    for dim in [0, 1]:#[None, 1]:\n",
    "        for type_ in [\"normal\", \"laplacian\", \"mtilde\"]:\n",
    "            print(f\"{type_[:5]}\\t{method}\\t{dim}\", end=\"\\t\")\n",
    "            for alpha in [0.95]:\n",
    "                for other_method in method_list:\n",
    "                    if other_method == method:\n",
    "                        print(\"N/A\", end=\"\\t\")\n",
    "                    else:\n",
    "                        print(np.round((out_dict_alpha[\"alpha\"][type_][method][dim][other_method] > np.quantile(out_dict_alpha[\"alpha\"][type_][method][dim][method], alpha)).mean(), 2), end=\"\\t\")\n",
    "            print()"
   ]
  },
  {
   "cell_type": "code",
   "execution_count": null,
   "id": "4d69a9cb",
   "metadata": {},
   "outputs": [
    {
     "data": {
      "application/vnd.jupyter.widget-view+json": {
       "model_id": "57783f72be0947978b482cc2a9e54663",
       "version_major": 2,
       "version_minor": 0
      },
      "text/plain": [
       "  0%|          | 0/3 [00:00<?, ?it/s]"
      ]
     },
     "metadata": {},
     "output_type": "display_data"
    },
    {
     "name": "stderr",
     "output_type": "stream",
     "text": [
      "Exception ignored in: <bound method IPythonKernel._clean_thread_parent_frames of <ipykernel.ipkernel.IPythonKernel object at 0x790f7c8c9130>>\n",
      "Traceback (most recent call last):\n",
      "  File \"/home/siroj/miniconda3/envs/thesis/lib/python3.9/site-packages/ipykernel/ipkernel.py\", line 775, in _clean_thread_parent_frames\n",
      "    def _clean_thread_parent_frames(\n",
      "KeyboardInterrupt: \n"
     ]
    }
   ],
   "source": [
    "mean_landscapes_alpha = {}\n",
    "color = \"alpha\"\n",
    "LL_train_alpha.reset_pointer()\n",
    "\n",
    "for eps in LL_train_alpha.location_dict.keys():\n",
    "    mean_landscapes_alpha[eps] = {}\n",
    "    method_bar = tqdm(LL_train_alpha.location_dict[eps][\"alpha\"].keys(), leave=False)\n",
    "    for method in method_bar:\n",
    "        mean_landscapes_alpha[eps][method] = {}\n",
    "        for type_ in [\"laplacian\", \"normal\", \"mtilde\"]:\n",
    "            cur_lands = []\n",
    "            i = 0\n",
    "            while True:\n",
    "                method_bar.set_description(f\"Processing landscapes for eps {eps}, color {color}, method {method}, type {type_}, i {i}\")\n",
    "                land = LL_train_alpha.load(eps, color, method, type_)\n",
    "                if land is None:\n",
    "                    break\n",
    "                cur_lands.append(land)\n",
    "                i += 1\n",
    "            mean_landscapes_alpha[eps][method][type_] = np.mean(cur_lands)\n",
    "                "
   ]
  },
  {
   "cell_type": "code",
   "execution_count": null,
   "id": "f31ef6c9",
   "metadata": {},
   "outputs": [
    {
     "data": {
      "image/png": "[encoded data removed]",
      "text/plain": [
       "<Figure size 1000x500 with 2 Axes>"
      ]
     },
     "metadata": {},
     "output_type": "display_data"
    }
   ],
   "source": [
    "method = \"cluster\"\n",
    "mean_landscapes_alpha[15][method][\"normal\"].plot(limits=[0,0.05,0,0.01])\n",
    "plt.tight_layout()\n",
    "plt.savefig(f'../figures/cross_section_report/mean_landscape_alpha_{method}.png', dpi=300, bbox_inches='tight')"
   ]
  },
  {
   "cell_type": "code",
   "execution_count": null,
   "id": "15aa2d85",
   "metadata": {},
   "outputs": [
    {
     "ename": "TypeError",
     "evalue": "'list' object is not callable",
     "output_type": "error",
     "traceback": [
      "\u001b[0;31m---------------------------------------------------------------------------\u001b[0m",
      "\u001b[0;31mTypeError\u001b[0m                                 Traceback (most recent call last)",
      "Cell \u001b[0;32mIn[98], line 4\u001b[0m\n\u001b[1;32m      2\u001b[0m mean_landscapes_alpha[\u001b[38;5;241m15\u001b[39m][method][\u001b[38;5;124m\"\u001b[39m\u001b[38;5;124mlaplacian\u001b[39m\u001b[38;5;124m\"\u001b[39m]\u001b[38;5;241m.\u001b[39mplot(limits\u001b[38;5;241m=\u001b[39m[\u001b[38;5;241m0\u001b[39m,\u001b[38;5;241m1\u001b[39m, \u001b[38;5;241m0\u001b[39m, \u001b[38;5;241m0.5\u001b[39m])\n\u001b[1;32m      3\u001b[0m plt\u001b[38;5;241m.\u001b[39mxlim(\u001b[38;5;241m0\u001b[39m, \u001b[38;5;241m0.05\u001b[39m)\n\u001b[0;32m----> 4\u001b[0m \u001b[43mplt\u001b[49m\u001b[38;5;241;43m.\u001b[39;49m\u001b[43mylim\u001b[49m\u001b[43m(\u001b[49m\u001b[38;5;241;43m0\u001b[39;49m\u001b[43m,\u001b[49m\u001b[43m \u001b[49m\u001b[38;5;241;43m0.003\u001b[39;49m\u001b[43m)\u001b[49m\n\u001b[1;32m      5\u001b[0m plt\u001b[38;5;241m.\u001b[39mtight_layout()\n\u001b[1;32m      6\u001b[0m \u001b[38;5;66;03m# plt.savefig(f'../figures/cross_section_report/mean_lapland_alpha_{method}.png', dpi=300, bbox_inches='tight')\u001b[39;00m\n",
      "\u001b[0;31mTypeError\u001b[0m: 'list' object is not callable"
     ]
    },
    {
     "data": {
      "image/png": "[encoded data removed]",
      "text/plain": [
       "<Figure size 1000x500 with 2 Axes>"
      ]
     },
     "metadata": {},
     "output_type": "display_data"
    }
   ],
   "source": [
    "method = \"HC\"\n",
    "mean_landscapes_alpha[15][method][\"laplacian\"].plot(limits=[0,1, 0, 0.5])\n",
    "plt.xlim(0, 0.05)\n",
    "plt.ylim(0, 0.003)\n",
    "plt.tight_layout()\n",
    "# plt.savefig(f'../figures/cross_section_report/mean_lapland_alpha_{method}.png', dpi=300, bbox_inches='tight')"
   ]
  },
  {
   "cell_type": "code",
   "execution_count": null,
   "id": "8759702e",
   "metadata": {},
   "outputs": [
    {
     "data": {
      "image/png": "[encoded data removed]",
      "text/plain": [
       "<Figure size 1000x500 with 2 Axes>"
      ]
     },
     "metadata": {},
     "output_type": "display_data"
    }
   ],
   "source": [
    "method = \"HC\"\n",
    "(mean_landscapes_alpha[15][method][\"mtilde\"]-mean_landscapes_alpha[15][method][\"laplacian\"]).plot(limits=[0,1, 0, 0.5])\n",
    "plt.xlim(0, 0.05)\n",
    "plt.ylim(0, 0.003)\n",
    "plt.tight_layout()\n",
    "# plt.savefig(f'../figures/cross_section_report/mean_lapland_alpha_Mdiff_{method}.png', dpi=300, bbox_inches='tight')"
   ]
  },
  {
   "cell_type": "code",
   "execution_count": null,
   "id": "6f968f02",
   "metadata": {},
   "outputs": [
    {
     "data": {
      "application/vnd.jupyter.widget-view+json": {
       "model_id": "ae0d7406c9b84fa5b8e2852bfcd1dda8",
       "version_major": 2,
       "version_minor": 0
      },
      "text/plain": [
       "  0%|          | 0/3 [00:00<?, ?it/s]"
      ]
     },
     "metadata": {},
     "output_type": "display_data"
    }
   ],
   "source": [
    "classifications_dict_alpha = {}\n",
    "\n",
    "methods = [\"PV\", \"cluster\", \"HC\"]\n",
    "LL_test_alpha.reset_pointer()\n",
    "\n",
    "for eps in LL_test_alpha.location_dict.keys():\n",
    "    classifications_dict_alpha[eps] = {}\n",
    "    method_bar = tqdm(LL_test_alpha.location_dict[eps][\"alpha\"].keys(), leave=False)\n",
    "    for method in method_bar:\n",
    "        classifications_dict_alpha[eps][method] = {}\n",
    "        for type_ in [\"laplacian\", \"normal\", \"mtilde\"]:\n",
    "            classifications_dict_alpha[eps][method][type_] = []\n",
    "            method_bar.set_description(f\"Processing landscapes for eps {eps}, method {method}, type {type_}\")\n",
    "            while True:\n",
    "                cur_land = LL_test_alpha.load(eps, \"alpha\", method, type_)\n",
    "                if cur_land is None:\n",
    "                    break\n",
    "                dists = []\n",
    "                for other_method in methods:\n",
    "                    mean_land = mean_landscapes_alpha[eps][other_method][type_]\n",
    "                    dists.append((cur_land - mean_land).norm())\n",
    "                classifications_dict_alpha[eps][method][type_].append(np.argmin(dists))"
   ]
  },
  {
   "cell_type": "code",
   "execution_count": null,
   "id": "0aceef7f",
   "metadata": {},
   "outputs": [
    {
     "name": "stdout",
     "output_type": "stream",
     "text": [
      "Confusion matrix for type laplacian:\n",
      "[[0.3  0.5  0.2 ]\n",
      " [0.15 0.6  0.25]\n",
      " [0.25 0.4  0.35]]\n",
      "Confusion matrix for type normal:\n",
      "[[0.7 0.  0.3]\n",
      " [0.  1.  0. ]\n",
      " [0.5 0.  0.5]]\n",
      "Confusion matrix for type mtilde:\n",
      "[[0.3  0.5  0.2 ]\n",
      " [0.15 0.6  0.25]\n",
      " [0.25 0.4  0.35]]\n"
     ]
    }
   ],
   "source": [
    "from sklearn.metrics import confusion_matrix\n",
    "\n",
    "for type_ in [\"laplacian\", \"normal\", \"mtilde\"]:\n",
    "    results = []\n",
    "    y_true = []\n",
    "    for method in methods:\n",
    "        results += classifications_dict_alpha[15][method][type_]\n",
    "        y_true += [methods.index(method)] * len(classifications_dict_alpha[15][method][type_])\n",
    "    print(f\"Confusion matrix for type {type_}:\")\n",
    "    cm = confusion_matrix(y_true, results, labels=list(range(len(methods))), normalize='true')\n",
    "    print(cm)"
   ]
  },
  {
   "cell_type": "code",
   "execution_count": null,
   "id": "9cbc0755",
   "metadata": {},
   "outputs": [
    {
     "data": {
      "application/vnd.jupyter.widget-view+json": {
       "model_id": "8c08fd73688342cf88bd565491ce57ea",
       "version_major": 2,
       "version_minor": 0
      },
      "text/plain": [
       "Processing eps 15, alpha HC landscapes:   0%|          | 0/194 [00:00<?, ?it/s]"
      ]
     },
     "metadata": {},
     "output_type": "display_data"
    },
    {
     "data": {
      "application/vnd.jupyter.widget-view+json": {
       "model_id": "dff1c650534141278d1b18f69f164455",
       "version_major": 2,
       "version_minor": 0
      },
      "text/plain": [
       "Processing eps 15, alpha HC mtilde landscapes:   0%|          | 0/194 [00:00<?, ?it/s]"
      ]
     },
     "metadata": {},
     "output_type": "display_data"
    },
    {
     "data": {
      "application/vnd.jupyter.widget-view+json": {
       "model_id": "1594c5ffae214496801137019f561e84",
       "version_major": 2,
       "version_minor": 0
      },
      "text/plain": [
       "Processing eps 15, alpha PV landscapes:   0%|          | 0/200 [00:00<?, ?it/s]"
      ]
     },
     "metadata": {},
     "output_type": "display_data"
    },
    {
     "data": {
      "application/vnd.jupyter.widget-view+json": {
       "model_id": "b12de96af4a54929b2149d178c9864b9",
       "version_major": 2,
       "version_minor": 0
      },
      "text/plain": [
       "Processing eps 15, alpha PV mtilde landscapes:   0%|          | 0/200 [00:00<?, ?it/s]"
      ]
     },
     "metadata": {},
     "output_type": "display_data"
    },
    {
     "data": {
      "application/vnd.jupyter.widget-view+json": {
       "model_id": "569d7c85d9584722b7c64c1703127805",
       "version_major": 2,
       "version_minor": 0
      },
      "text/plain": [
       "Processing eps 15, alpha cluster landscapes:   0%|          | 0/200 [00:00<?, ?it/s]"
      ]
     },
     "metadata": {},
     "output_type": "display_data"
    },
    {
     "data": {
      "application/vnd.jupyter.widget-view+json": {
       "model_id": "5a415744a364452c807bc98a88c2adf0",
       "version_major": 2,
       "version_minor": 0
      },
      "text/plain": [
       "Processing eps 15, alpha cluster mtilde landscapes:   0%|          | 0/200 [00:00<?, ?it/s]"
      ]
     },
     "metadata": {},
     "output_type": "display_data"
    },
    {
     "data": {
      "application/vnd.jupyter.widget-view+json": {
       "model_id": "8b6cb5979fe74464b207e8f2ff706cc3",
       "version_major": 2,
       "version_minor": 0
      },
      "text/plain": [
       "Processing eps 15, alpha feature vectors:   0%|          | 0/3 [00:00<?, ?it/s]"
      ]
     },
     "metadata": {},
     "output_type": "display_data"
    },
    {
     "data": {
      "application/vnd.jupyter.widget-view+json": {
       "model_id": "b37b5a964d45434abc587f55f686d3b6",
       "version_major": 2,
       "version_minor": 0
      },
      "text/plain": [
       "Processing eps 15, alpha feature vectors:   0%|          | 0/3 [00:00<?, ?it/s]"
      ]
     },
     "metadata": {},
     "output_type": "display_data"
    },
    {
     "data": {
      "application/vnd.jupyter.widget-view+json": {
       "model_id": "89255243d25f4b879307a5850fd9a9f5",
       "version_major": 2,
       "version_minor": 0
      },
      "text/plain": [
       "Processing eps 15, alpha feature vectors:   0%|          | 0/3 [00:00<?, ?it/s]"
      ]
     },
     "metadata": {},
     "output_type": "display_data"
    }
   ],
   "source": [
    "LL_all_alpha = LandscapeLoader(\"../alpha_landscapes_normal_function/\", \"../alpha_landscapes/\", [15])\n",
    "feature_vector_dict_alpha = {}\n",
    "\n",
    "y_target = [0]*100+[1]*100+[2]*97\n",
    "\n",
    "LL_all_alpha.reset_pointer()\n",
    "color = \"alpha\"\n",
    "\n",
    "feature_vector_dict_alpha = {}\n",
    "for type_ in [\"laplacian\", \"normal\", \"mtilde\"]:\n",
    "    feature_vector_dict_alpha[type_] = []\n",
    "    for method in tqdm(methods, desc=f\"Processing eps {eps}, {color} feature vectors\", leave=False):\n",
    "        while True:\n",
    "            cur_land = LL_all_alpha.load(eps, color, method, type_)\n",
    "            if cur_land is None:\n",
    "                break\n",
    "            feature_vec = []\n",
    "            for q in range(2):\n",
    "                try:\n",
    "                    evals = cur_land.sum_k().evaluations[q][0]\n",
    "                except:\n",
    "                    print(f\"Error in loading landscape for eps {eps}, color {color}, method {method}, type {type_}\")\n",
    "                    # cur_land.plot()\n",
    "                    # continue\n",
    "                    raise ValueError\n",
    "                feature_vec.append(evals[0:len(evals)-1:2])\n",
    "            # print(np.hstack(feature_vec).shape)\n",
    "            feature_vector_dict_alpha[type_].append(np.hstack(feature_vec))\n",
    "    feature_vector_dict_alpha[type_] = np.vstack(feature_vector_dict_alpha[type_])"
   ]
  },
  {
   "cell_type": "code",
   "execution_count": null,
   "id": "2f88234a",
   "metadata": {},
   "outputs": [
    {
     "name": "stdout",
     "output_type": "stream",
     "text": [
      "type\t\tAccuracy on test set\n",
      "laplacian & 68.3%\n",
      "[[0.65 0.   0.35]\n",
      " [0.   0.95 0.05]\n",
      " [0.55 0.   0.45]]\n",
      "normal & 65.0%\n",
      "[[1.   0.   0.  ]\n",
      " [0.05 0.95 0.  ]\n",
      " [1.   0.   0.  ]]\n",
      "mtilde & 68.3%\n",
      "[[0.65 0.   0.35]\n",
      " [0.   0.95 0.05]\n",
      " [0.55 0.   0.45]]\n"
     ]
    }
   ],
   "source": [
    "print(\"type\\t\\tAccuracy on test set\")\n",
    "for type_ in [\"laplacian\", \"normal\", \"mtilde\"]:\n",
    "    # print(f\"{eps}\\t{color[-1]}\\t{type_}\", end=\"\\t\\t\")\n",
    "    print(f\"{type_}\", end=\" & \")\n",
    "    X = feature_vector_dict_alpha[type_]\n",
    "    y = np.array(y_target)\n",
    "    X_train, X_test, y_train, y_test = train_test_split(X, y, test_size=0.2, random_state=42, stratify=y)\n",
    "    LR_model = LogisticRegression(max_iter=5000, random_state=42)\n",
    "    LR_model.fit(X_train, y_train)\n",
    "    print(f\"{LR_model.score(X_test, y_test)*100:.1f}%\")\n",
    "    cm = confusion_matrix(y_test, LR_model.predict(X_test), labels=list(range(len(methods))), normalize='true')\n",
    "    print(cm)"
   ]
  },
  {
   "cell_type": "markdown",
   "id": "4a1e5b25",
   "metadata": {},
   "source": [
    "BALL MAPPER\n",
    "----------------"
   ]
  },
  {
   "cell_type": "code",
   "execution_count": 4,
   "id": "6f535c86",
   "metadata": {},
   "outputs": [
    {
     "data": {
      "application/vnd.jupyter.widget-view+json": {
       "model_id": "1098bdd374ed4cec8c882393d886a2a2",
       "version_major": 2,
       "version_minor": 0
      },
      "text/plain": [
       "Processing eps 15, alpha HC landscapes:   0%|          | 0/384 [00:00<?, ?it/s]"
      ]
     },
     "metadata": {},
     "output_type": "display_data"
    },
    {
     "data": {
      "application/vnd.jupyter.widget-view+json": {
       "model_id": "57752220ee7c45bbb349423ab12bfe3b",
       "version_major": 2,
       "version_minor": 0
      },
      "text/plain": [
       "Processing eps 15, alpha HC mtilde landscapes:   0%|          | 0/384 [00:00<?, ?it/s]"
      ]
     },
     "metadata": {},
     "output_type": "display_data"
    },
    {
     "data": {
      "application/vnd.jupyter.widget-view+json": {
       "model_id": "96a1edd4f7384fa580c80cc494cc5c66",
       "version_major": 2,
       "version_minor": 0
      },
      "text/plain": [
       "Processing eps 15, alpha PV landscapes:   0%|          | 0/400 [00:00<?, ?it/s]"
      ]
     },
     "metadata": {},
     "output_type": "display_data"
    },
    {
     "data": {
      "application/vnd.jupyter.widget-view+json": {
       "model_id": "d48f6ec00d084d99b766cfe69d8d56fe",
       "version_major": 2,
       "version_minor": 0
      },
      "text/plain": [
       "Processing eps 15, alpha PV mtilde landscapes:   0%|          | 0/400 [00:00<?, ?it/s]"
      ]
     },
     "metadata": {},
     "output_type": "display_data"
    },
    {
     "data": {
      "application/vnd.jupyter.widget-view+json": {
       "model_id": "66647a8300e148c0b04bdbafdec78670",
       "version_major": 2,
       "version_minor": 0
      },
      "text/plain": [
       "Processing eps 15, alpha cluster landscapes:   0%|          | 0/400 [00:00<?, ?it/s]"
      ]
     },
     "metadata": {},
     "output_type": "display_data"
    },
    {
     "data": {
      "application/vnd.jupyter.widget-view+json": {
       "model_id": "f6aeb7068f5a4e07b929216dfb719b85",
       "version_major": 2,
       "version_minor": 0
      },
      "text/plain": [
       "Processing eps 15, alpha cluster mtilde landscapes:   0%|          | 0/400 [00:00<?, ?it/s]"
      ]
     },
     "metadata": {},
     "output_type": "display_data"
    },
    {
     "data": {
      "application/vnd.jupyter.widget-view+json": {
       "model_id": "d00060c190e24b368c83b5d4a2149e42",
       "version_major": 2,
       "version_minor": 0
      },
      "text/plain": [
       "Processing eps 15, gradient HC landscapes:   0%|          | 0/194 [00:00<?, ?it/s]"
      ]
     },
     "metadata": {},
     "output_type": "display_data"
    },
    {
     "data": {
      "application/vnd.jupyter.widget-view+json": {
       "model_id": "e6f020fad9c443eb9a408cced890e8b6",
       "version_major": 2,
       "version_minor": 0
      },
      "text/plain": [
       "Processing eps 15, gradient HC mtilde landscapes:   0%|          | 0/194 [00:00<?, ?it/s]"
      ]
     },
     "metadata": {},
     "output_type": "display_data"
    },
    {
     "data": {
      "application/vnd.jupyter.widget-view+json": {
       "model_id": "cefb57ebf17947e58751320b6ce5a045",
       "version_major": 2,
       "version_minor": 0
      },
      "text/plain": [
       "Processing eps 15, gradient PV landscapes:   0%|          | 0/200 [00:00<?, ?it/s]"
      ]
     },
     "metadata": {},
     "output_type": "display_data"
    },
    {
     "data": {
      "application/vnd.jupyter.widget-view+json": {
       "model_id": "f4b5595b60454384a77b90fdeca5bd37",
       "version_major": 2,
       "version_minor": 0
      },
      "text/plain": [
       "Processing eps 15, gradient PV mtilde landscapes:   0%|          | 0/200 [00:00<?, ?it/s]"
      ]
     },
     "metadata": {},
     "output_type": "display_data"
    },
    {
     "data": {
      "application/vnd.jupyter.widget-view+json": {
       "model_id": "564063ed01864ddeaf0435259d1ced9c",
       "version_major": 2,
       "version_minor": 0
      },
      "text/plain": [
       "Processing eps 15, gradient cluster landscapes:   0%|          | 0/200 [00:00<?, ?it/s]"
      ]
     },
     "metadata": {},
     "output_type": "display_data"
    },
    {
     "data": {
      "application/vnd.jupyter.widget-view+json": {
       "model_id": "f63e813d88d24ef49a5cda944fced33e",
       "version_major": 2,
       "version_minor": 0
      },
      "text/plain": [
       "Processing eps 15, gradient cluster mtilde landscapes:   0%|          | 0/200 [00:00<?, ?it/s]"
      ]
     },
     "metadata": {},
     "output_type": "display_data"
    },
    {
     "data": {
      "application/vnd.jupyter.widget-view+json": {
       "model_id": "722f635d55a54e9181e418bda973da52",
       "version_major": 2,
       "version_minor": 0
      },
      "text/plain": [
       "Processing eps 15, random_124 HC landscapes:   0%|          | 0/194 [00:00<?, ?it/s]"
      ]
     },
     "metadata": {},
     "output_type": "display_data"
    },
    {
     "data": {
      "application/vnd.jupyter.widget-view+json": {
       "model_id": "0e64fcd7fe8a449996760b4fa0d5dc18",
       "version_major": 2,
       "version_minor": 0
      },
      "text/plain": [
       "Processing eps 15, random_124 HC mtilde landscapes:   0%|          | 0/194 [00:00<?, ?it/s]"
      ]
     },
     "metadata": {},
     "output_type": "display_data"
    },
    {
     "data": {
      "application/vnd.jupyter.widget-view+json": {
       "model_id": "b33edddb94d24740872f32b200d99de6",
       "version_major": 2,
       "version_minor": 0
      },
      "text/plain": [
       "Processing eps 15, random_124 PV landscapes:   0%|          | 0/200 [00:00<?, ?it/s]"
      ]
     },
     "metadata": {},
     "output_type": "display_data"
    },
    {
     "data": {
      "application/vnd.jupyter.widget-view+json": {
       "model_id": "68bd3ca06ddb44baac0972f6d16a396a",
       "version_major": 2,
       "version_minor": 0
      },
      "text/plain": [
       "Processing eps 15, random_124 PV mtilde landscapes:   0%|          | 0/200 [00:00<?, ?it/s]"
      ]
     },
     "metadata": {},
     "output_type": "display_data"
    },
    {
     "data": {
      "application/vnd.jupyter.widget-view+json": {
       "model_id": "c7f5735e6bd74b1e8147b1dc1b07db64",
       "version_major": 2,
       "version_minor": 0
      },
      "text/plain": [
       "Processing eps 15, random_124 cluster landscapes:   0%|          | 0/200 [00:00<?, ?it/s]"
      ]
     },
     "metadata": {},
     "output_type": "display_data"
    },
    {
     "data": {
      "application/vnd.jupyter.widget-view+json": {
       "model_id": "90efba1e797345ebafefde31f47b4a03",
       "version_major": 2,
       "version_minor": 0
      },
      "text/plain": [
       "Processing eps 15, random_124 cluster mtilde landscapes:   0%|          | 0/200 [00:00<?, ?it/s]"
      ]
     },
     "metadata": {},
     "output_type": "display_data"
    },
    {
     "data": {
      "application/vnd.jupyter.widget-view+json": {
       "model_id": "bea503f931834314900ddf59ef8aa648",
       "version_major": 2,
       "version_minor": 0
      },
      "text/plain": [
       "Processing eps 20, gradient HC landscapes:   0%|          | 0/194 [00:00<?, ?it/s]"
      ]
     },
     "metadata": {},
     "output_type": "display_data"
    },
    {
     "data": {
      "application/vnd.jupyter.widget-view+json": {
       "model_id": "75ba34c5dfab4aecbe04ea1485ad2f36",
       "version_major": 2,
       "version_minor": 0
      },
      "text/plain": [
       "Processing eps 20, gradient HC mtilde landscapes:   0%|          | 0/194 [00:00<?, ?it/s]"
      ]
     },
     "metadata": {},
     "output_type": "display_data"
    },
    {
     "data": {
      "application/vnd.jupyter.widget-view+json": {
       "model_id": "132cb77d9efb4fb9a2d3b15cd41930d5",
       "version_major": 2,
       "version_minor": 0
      },
      "text/plain": [
       "Processing eps 20, gradient PV landscapes:   0%|          | 0/200 [00:00<?, ?it/s]"
      ]
     },
     "metadata": {},
     "output_type": "display_data"
    },
    {
     "data": {
      "application/vnd.jupyter.widget-view+json": {
       "model_id": "b6c36911c1614f159097b6d624bee874",
       "version_major": 2,
       "version_minor": 0
      },
      "text/plain": [
       "Processing eps 20, gradient PV mtilde landscapes:   0%|          | 0/200 [00:00<?, ?it/s]"
      ]
     },
     "metadata": {},
     "output_type": "display_data"
    },
    {
     "data": {
      "application/vnd.jupyter.widget-view+json": {
       "model_id": "50d8909e03a145b596efa1dcc14ef2dc",
       "version_major": 2,
       "version_minor": 0
      },
      "text/plain": [
       "Processing eps 20, gradient cluster landscapes:   0%|          | 0/200 [00:00<?, ?it/s]"
      ]
     },
     "metadata": {},
     "output_type": "display_data"
    },
    {
     "data": {
      "application/vnd.jupyter.widget-view+json": {
       "model_id": "c21a9b31d512449aa3be06735efea203",
       "version_major": 2,
       "version_minor": 0
      },
      "text/plain": [
       "Processing eps 20, gradient cluster mtilde landscapes:   0%|          | 0/200 [00:00<?, ?it/s]"
      ]
     },
     "metadata": {},
     "output_type": "display_data"
    },
    {
     "data": {
      "application/vnd.jupyter.widget-view+json": {
       "model_id": "3ec74a5f3c784fbeb1c87b1030a15fe7",
       "version_major": 2,
       "version_minor": 0
      },
      "text/plain": [
       "Processing eps 20, random_124 HC landscapes:   0%|          | 0/194 [00:00<?, ?it/s]"
      ]
     },
     "metadata": {},
     "output_type": "display_data"
    },
    {
     "data": {
      "application/vnd.jupyter.widget-view+json": {
       "model_id": "1aaafc67acc241078a8e006dc239c8d1",
       "version_major": 2,
       "version_minor": 0
      },
      "text/plain": [
       "Processing eps 20, random_124 HC mtilde landscapes:   0%|          | 0/194 [00:00<?, ?it/s]"
      ]
     },
     "metadata": {},
     "output_type": "display_data"
    },
    {
     "data": {
      "application/vnd.jupyter.widget-view+json": {
       "model_id": "91573cb95ed0460a92ec1cc2af21eddf",
       "version_major": 2,
       "version_minor": 0
      },
      "text/plain": [
       "Processing eps 20, random_124 PV landscapes:   0%|          | 0/200 [00:00<?, ?it/s]"
      ]
     },
     "metadata": {},
     "output_type": "display_data"
    },
    {
     "data": {
      "application/vnd.jupyter.widget-view+json": {
       "model_id": "6295dd5fa93241bea8eea39962f6f9a3",
       "version_major": 2,
       "version_minor": 0
      },
      "text/plain": [
       "Processing eps 20, random_124 PV mtilde landscapes:   0%|          | 0/200 [00:00<?, ?it/s]"
      ]
     },
     "metadata": {},
     "output_type": "display_data"
    },
    {
     "data": {
      "application/vnd.jupyter.widget-view+json": {
       "model_id": "201ea1db8bf64ed686a5ba9a78a2cea5",
       "version_major": 2,
       "version_minor": 0
      },
      "text/plain": [
       "Processing eps 20, random_124 cluster landscapes:   0%|          | 0/200 [00:00<?, ?it/s]"
      ]
     },
     "metadata": {},
     "output_type": "display_data"
    },
    {
     "data": {
      "application/vnd.jupyter.widget-view+json": {
       "model_id": "026767932c554a468693788e3aaec977",
       "version_major": 2,
       "version_minor": 0
      },
      "text/plain": [
       "Processing eps 20, random_124 cluster mtilde landscapes:   0%|          | 0/200 [00:00<?, ?it/s]"
      ]
     },
     "metadata": {},
     "output_type": "display_data"
    },
    {
     "data": {
      "application/vnd.jupyter.widget-view+json": {
       "model_id": "6ec7b2c4ee64477ba6962b18152accc6",
       "version_major": 2,
       "version_minor": 0
      },
      "text/plain": [
       "Processing eps 25, gradient HC landscapes:   0%|          | 0/194 [00:00<?, ?it/s]"
      ]
     },
     "metadata": {},
     "output_type": "display_data"
    },
    {
     "data": {
      "application/vnd.jupyter.widget-view+json": {
       "model_id": "192daf1b6c454149b5038d48486cc72a",
       "version_major": 2,
       "version_minor": 0
      },
      "text/plain": [
       "Processing eps 25, gradient HC mtilde landscapes:   0%|          | 0/194 [00:00<?, ?it/s]"
      ]
     },
     "metadata": {},
     "output_type": "display_data"
    },
    {
     "data": {
      "application/vnd.jupyter.widget-view+json": {
       "model_id": "bacaae76b6cd4942973e4c649cb8e680",
       "version_major": 2,
       "version_minor": 0
      },
      "text/plain": [
       "Processing eps 25, gradient PV landscapes:   0%|          | 0/200 [00:00<?, ?it/s]"
      ]
     },
     "metadata": {},
     "output_type": "display_data"
    },
    {
     "data": {
      "application/vnd.jupyter.widget-view+json": {
       "model_id": "149b2f689f054ee4aeb48037abad53f8",
       "version_major": 2,
       "version_minor": 0
      },
      "text/plain": [
       "Processing eps 25, gradient PV mtilde landscapes:   0%|          | 0/200 [00:00<?, ?it/s]"
      ]
     },
     "metadata": {},
     "output_type": "display_data"
    },
    {
     "data": {
      "application/vnd.jupyter.widget-view+json": {
       "model_id": "81b11246447d4f718255f746a78026b2",
       "version_major": 2,
       "version_minor": 0
      },
      "text/plain": [
       "Processing eps 25, gradient cluster landscapes:   0%|          | 0/200 [00:00<?, ?it/s]"
      ]
     },
     "metadata": {},
     "output_type": "display_data"
    },
    {
     "data": {
      "application/vnd.jupyter.widget-view+json": {
       "model_id": "4954fbf30973423488ffb2cb297f591b",
       "version_major": 2,
       "version_minor": 0
      },
      "text/plain": [
       "Processing eps 25, gradient cluster mtilde landscapes:   0%|          | 0/200 [00:00<?, ?it/s]"
      ]
     },
     "metadata": {},
     "output_type": "display_data"
    },
    {
     "data": {
      "application/vnd.jupyter.widget-view+json": {
       "model_id": "4e4a0bff3f5a4c77a691daa24e7eda12",
       "version_major": 2,
       "version_minor": 0
      },
      "text/plain": [
       "Processing eps 25, random_124 HC landscapes:   0%|          | 0/194 [00:00<?, ?it/s]"
      ]
     },
     "metadata": {},
     "output_type": "display_data"
    },
    {
     "data": {
      "application/vnd.jupyter.widget-view+json": {
       "model_id": "5eea115574cd4155a27f3604d943281a",
       "version_major": 2,
       "version_minor": 0
      },
      "text/plain": [
       "Processing eps 25, random_124 HC mtilde landscapes:   0%|          | 0/194 [00:00<?, ?it/s]"
      ]
     },
     "metadata": {},
     "output_type": "display_data"
    },
    {
     "data": {
      "application/vnd.jupyter.widget-view+json": {
       "model_id": "c0ea2b85870f428d8f9bc79cf0870e30",
       "version_major": 2,
       "version_minor": 0
      },
      "text/plain": [
       "Processing eps 25, random_124 PV landscapes:   0%|          | 0/200 [00:00<?, ?it/s]"
      ]
     },
     "metadata": {},
     "output_type": "display_data"
    },
    {
     "data": {
      "application/vnd.jupyter.widget-view+json": {
       "model_id": "5ea818e04d554d1b8f370fec7eea85de",
       "version_major": 2,
       "version_minor": 0
      },
      "text/plain": [
       "Processing eps 25, random_124 PV mtilde landscapes:   0%|          | 0/200 [00:00<?, ?it/s]"
      ]
     },
     "metadata": {},
     "output_type": "display_data"
    },
    {
     "data": {
      "application/vnd.jupyter.widget-view+json": {
       "model_id": "95dc5cfaa9ea4651ae48923595e6ef69",
       "version_major": 2,
       "version_minor": 0
      },
      "text/plain": [
       "Processing eps 25, random_124 cluster landscapes:   0%|          | 0/200 [00:00<?, ?it/s]"
      ]
     },
     "metadata": {},
     "output_type": "display_data"
    },
    {
     "data": {
      "application/vnd.jupyter.widget-view+json": {
       "model_id": "8dc623e47bd3418cbf87622dcad7d1f4",
       "version_major": 2,
       "version_minor": 0
      },
      "text/plain": [
       "Processing eps 25, random_124 cluster mtilde landscapes:   0%|          | 0/200 [00:00<?, ?it/s]"
      ]
     },
     "metadata": {},
     "output_type": "display_data"
    },
    {
     "data": {
      "application/vnd.jupyter.widget-view+json": {
       "model_id": "5bf8e969bf464ddd92beec05005d3215",
       "version_major": 2,
       "version_minor": 0
      },
      "text/plain": [
       "Processing eps 15, alpha HC landscapes:   0%|          | 0/384 [00:00<?, ?it/s]"
      ]
     },
     "metadata": {},
     "output_type": "display_data"
    },
    {
     "data": {
      "application/vnd.jupyter.widget-view+json": {
       "model_id": "c9009b801ac54aa89aa324c6a1c696b8",
       "version_major": 2,
       "version_minor": 0
      },
      "text/plain": [
       "Processing eps 15, alpha HC mtilde landscapes:   0%|          | 0/384 [00:00<?, ?it/s]"
      ]
     },
     "metadata": {},
     "output_type": "display_data"
    },
    {
     "data": {
      "application/vnd.jupyter.widget-view+json": {
       "model_id": "29addc5176084c42bf8d2c90f41aa01a",
       "version_major": 2,
       "version_minor": 0
      },
      "text/plain": [
       "Processing eps 15, alpha PV landscapes:   0%|          | 0/400 [00:00<?, ?it/s]"
      ]
     },
     "metadata": {},
     "output_type": "display_data"
    },
    {
     "data": {
      "application/vnd.jupyter.widget-view+json": {
       "model_id": "98c4aa31916647438f3cd4586c230bc7",
       "version_major": 2,
       "version_minor": 0
      },
      "text/plain": [
       "Processing eps 15, alpha PV mtilde landscapes:   0%|          | 0/400 [00:00<?, ?it/s]"
      ]
     },
     "metadata": {},
     "output_type": "display_data"
    },
    {
     "data": {
      "application/vnd.jupyter.widget-view+json": {
       "model_id": "3a3f19aa5cc5449f956dd8be7c1adfc4",
       "version_major": 2,
       "version_minor": 0
      },
      "text/plain": [
       "Processing eps 15, alpha cluster landscapes:   0%|          | 0/400 [00:00<?, ?it/s]"
      ]
     },
     "metadata": {},
     "output_type": "display_data"
    },
    {
     "data": {
      "application/vnd.jupyter.widget-view+json": {
       "model_id": "b43dce2a2ac14434b52cc567ba19e0c9",
       "version_major": 2,
       "version_minor": 0
      },
      "text/plain": [
       "Processing eps 15, alpha cluster mtilde landscapes:   0%|          | 0/400 [00:00<?, ?it/s]"
      ]
     },
     "metadata": {},
     "output_type": "display_data"
    },
    {
     "data": {
      "application/vnd.jupyter.widget-view+json": {
       "model_id": "cc5ae35ea5994af6bcb22b035a50cf47",
       "version_major": 2,
       "version_minor": 0
      },
      "text/plain": [
       "Processing eps 15, gradient HC landscapes:   0%|          | 0/194 [00:00<?, ?it/s]"
      ]
     },
     "metadata": {},
     "output_type": "display_data"
    },
    {
     "data": {
      "application/vnd.jupyter.widget-view+json": {
       "model_id": "d3570aaa654f4b20842cb7bfe13f3e55",
       "version_major": 2,
       "version_minor": 0
      },
      "text/plain": [
       "Processing eps 15, gradient HC mtilde landscapes:   0%|          | 0/194 [00:00<?, ?it/s]"
      ]
     },
     "metadata": {},
     "output_type": "display_data"
    },
    {
     "data": {
      "application/vnd.jupyter.widget-view+json": {
       "model_id": "ac536b13d0044a849172c44e85f85832",
       "version_major": 2,
       "version_minor": 0
      },
      "text/plain": [
       "Processing eps 15, gradient PV landscapes:   0%|          | 0/200 [00:00<?, ?it/s]"
      ]
     },
     "metadata": {},
     "output_type": "display_data"
    },
    {
     "data": {
      "application/vnd.jupyter.widget-view+json": {
       "model_id": "40aeb20857724d13a6392a3f7e780b4c",
       "version_major": 2,
       "version_minor": 0
      },
      "text/plain": [
       "Processing eps 15, gradient PV mtilde landscapes:   0%|          | 0/200 [00:00<?, ?it/s]"
      ]
     },
     "metadata": {},
     "output_type": "display_data"
    },
    {
     "data": {
      "application/vnd.jupyter.widget-view+json": {
       "model_id": "0510c88ba66c4b788faba00875af50f4",
       "version_major": 2,
       "version_minor": 0
      },
      "text/plain": [
       "Processing eps 15, gradient cluster landscapes:   0%|          | 0/200 [00:00<?, ?it/s]"
      ]
     },
     "metadata": {},
     "output_type": "display_data"
    },
    {
     "data": {
      "application/vnd.jupyter.widget-view+json": {
       "model_id": "d5ce987774c942b499260821f7ec0087",
       "version_major": 2,
       "version_minor": 0
      },
      "text/plain": [
       "Processing eps 15, gradient cluster mtilde landscapes:   0%|          | 0/200 [00:00<?, ?it/s]"
      ]
     },
     "metadata": {},
     "output_type": "display_data"
    },
    {
     "data": {
      "application/vnd.jupyter.widget-view+json": {
       "model_id": "965668de7b014d169b94db35e4bac421",
       "version_major": 2,
       "version_minor": 0
      },
      "text/plain": [
       "Processing eps 15, random_124 HC landscapes:   0%|          | 0/194 [00:00<?, ?it/s]"
      ]
     },
     "metadata": {},
     "output_type": "display_data"
    },
    {
     "data": {
      "application/vnd.jupyter.widget-view+json": {
       "model_id": "0e2e67ef187c42f98ff12d8f10d9aaef",
       "version_major": 2,
       "version_minor": 0
      },
      "text/plain": [
       "Processing eps 15, random_124 HC mtilde landscapes:   0%|          | 0/194 [00:00<?, ?it/s]"
      ]
     },
     "metadata": {},
     "output_type": "display_data"
    },
    {
     "data": {
      "application/vnd.jupyter.widget-view+json": {
       "model_id": "8a74d8fda3f64f149a621f0acd97f5fd",
       "version_major": 2,
       "version_minor": 0
      },
      "text/plain": [
       "Processing eps 15, random_124 PV landscapes:   0%|          | 0/200 [00:00<?, ?it/s]"
      ]
     },
     "metadata": {},
     "output_type": "display_data"
    },
    {
     "data": {
      "application/vnd.jupyter.widget-view+json": {
       "model_id": "ba341a427e9b4306a428b38666691331",
       "version_major": 2,
       "version_minor": 0
      },
      "text/plain": [
       "Processing eps 15, random_124 PV mtilde landscapes:   0%|          | 0/200 [00:00<?, ?it/s]"
      ]
     },
     "metadata": {},
     "output_type": "display_data"
    },
    {
     "data": {
      "application/vnd.jupyter.widget-view+json": {
       "model_id": "89de4e659bc84932b78ec2d94dab04ac",
       "version_major": 2,
       "version_minor": 0
      },
      "text/plain": [
       "Processing eps 15, random_124 cluster landscapes:   0%|          | 0/200 [00:00<?, ?it/s]"
      ]
     },
     "metadata": {},
     "output_type": "display_data"
    },
    {
     "data": {
      "application/vnd.jupyter.widget-view+json": {
       "model_id": "c44b61d790f04e74ae52126837c47d8c",
       "version_major": 2,
       "version_minor": 0
      },
      "text/plain": [
       "Processing eps 15, random_124 cluster mtilde landscapes:   0%|          | 0/200 [00:00<?, ?it/s]"
      ]
     },
     "metadata": {},
     "output_type": "display_data"
    },
    {
     "data": {
      "application/vnd.jupyter.widget-view+json": {
       "model_id": "66137afde03b40beb23d9c188ea96ed0",
       "version_major": 2,
       "version_minor": 0
      },
      "text/plain": [
       "Processing eps 20, gradient HC landscapes:   0%|          | 0/194 [00:00<?, ?it/s]"
      ]
     },
     "metadata": {},
     "output_type": "display_data"
    },
    {
     "data": {
      "application/vnd.jupyter.widget-view+json": {
       "model_id": "c628c2ff118e429888bd26fb3237b770",
       "version_major": 2,
       "version_minor": 0
      },
      "text/plain": [
       "Processing eps 20, gradient HC mtilde landscapes:   0%|          | 0/194 [00:00<?, ?it/s]"
      ]
     },
     "metadata": {},
     "output_type": "display_data"
    },
    {
     "data": {
      "application/vnd.jupyter.widget-view+json": {
       "model_id": "2ce5b9ecdc2e486db45b8fcadaa267c4",
       "version_major": 2,
       "version_minor": 0
      },
      "text/plain": [
       "Processing eps 20, gradient PV landscapes:   0%|          | 0/200 [00:00<?, ?it/s]"
      ]
     },
     "metadata": {},
     "output_type": "display_data"
    },
    {
     "data": {
      "application/vnd.jupyter.widget-view+json": {
       "model_id": "96da910596814a7d9e7e355f13d6af8d",
       "version_major": 2,
       "version_minor": 0
      },
      "text/plain": [
       "Processing eps 20, gradient PV mtilde landscapes:   0%|          | 0/200 [00:00<?, ?it/s]"
      ]
     },
     "metadata": {},
     "output_type": "display_data"
    },
    {
     "data": {
      "application/vnd.jupyter.widget-view+json": {
       "model_id": "e78632f2940248359bd3168a1083be00",
       "version_major": 2,
       "version_minor": 0
      },
      "text/plain": [
       "Processing eps 20, gradient cluster landscapes:   0%|          | 0/200 [00:00<?, ?it/s]"
      ]
     },
     "metadata": {},
     "output_type": "display_data"
    },
    {
     "data": {
      "application/vnd.jupyter.widget-view+json": {
       "model_id": "272b2da364964398854f5a406159f801",
       "version_major": 2,
       "version_minor": 0
      },
      "text/plain": [
       "Processing eps 20, gradient cluster mtilde landscapes:   0%|          | 0/200 [00:00<?, ?it/s]"
      ]
     },
     "metadata": {},
     "output_type": "display_data"
    },
    {
     "data": {
      "application/vnd.jupyter.widget-view+json": {
       "model_id": "b52e62178544460980e563dfceaf91fd",
       "version_major": 2,
       "version_minor": 0
      },
      "text/plain": [
       "Processing eps 20, random_124 HC landscapes:   0%|          | 0/194 [00:00<?, ?it/s]"
      ]
     },
     "metadata": {},
     "output_type": "display_data"
    },
    {
     "data": {
      "application/vnd.jupyter.widget-view+json": {
       "model_id": "85c186c5f4cb4b079dc3584dc272c0b1",
       "version_major": 2,
       "version_minor": 0
      },
      "text/plain": [
       "Processing eps 20, random_124 HC mtilde landscapes:   0%|          | 0/194 [00:00<?, ?it/s]"
      ]
     },
     "metadata": {},
     "output_type": "display_data"
    },
    {
     "data": {
      "application/vnd.jupyter.widget-view+json": {
       "model_id": "59dcd8d5d75741d8a0def199ad4f0e09",
       "version_major": 2,
       "version_minor": 0
      },
      "text/plain": [
       "Processing eps 20, random_124 PV landscapes:   0%|          | 0/200 [00:00<?, ?it/s]"
      ]
     },
     "metadata": {},
     "output_type": "display_data"
    },
    {
     "data": {
      "application/vnd.jupyter.widget-view+json": {
       "model_id": "3175dc1015f04b80a478f7c9a59d1b0c",
       "version_major": 2,
       "version_minor": 0
      },
      "text/plain": [
       "Processing eps 20, random_124 PV mtilde landscapes:   0%|          | 0/200 [00:00<?, ?it/s]"
      ]
     },
     "metadata": {},
     "output_type": "display_data"
    },
    {
     "data": {
      "application/vnd.jupyter.widget-view+json": {
       "model_id": "08d6e06026aa4f67af85edefe85f54b3",
       "version_major": 2,
       "version_minor": 0
      },
      "text/plain": [
       "Processing eps 20, random_124 cluster landscapes:   0%|          | 0/200 [00:00<?, ?it/s]"
      ]
     },
     "metadata": {},
     "output_type": "display_data"
    },
    {
     "data": {
      "application/vnd.jupyter.widget-view+json": {
       "model_id": "7952a0b287574dde9866eb885c840c86",
       "version_major": 2,
       "version_minor": 0
      },
      "text/plain": [
       "Processing eps 20, random_124 cluster mtilde landscapes:   0%|          | 0/200 [00:00<?, ?it/s]"
      ]
     },
     "metadata": {},
     "output_type": "display_data"
    },
    {
     "data": {
      "application/vnd.jupyter.widget-view+json": {
       "model_id": "b2066bd098d5436086b44e9e3e8e596b",
       "version_major": 2,
       "version_minor": 0
      },
      "text/plain": [
       "Processing eps 25, gradient HC landscapes:   0%|          | 0/194 [00:00<?, ?it/s]"
      ]
     },
     "metadata": {},
     "output_type": "display_data"
    },
    {
     "data": {
      "application/vnd.jupyter.widget-view+json": {
       "model_id": "693560dd44cc4655833f0c61098bde47",
       "version_major": 2,
       "version_minor": 0
      },
      "text/plain": [
       "Processing eps 25, gradient HC mtilde landscapes:   0%|          | 0/194 [00:00<?, ?it/s]"
      ]
     },
     "metadata": {},
     "output_type": "display_data"
    },
    {
     "data": {
      "application/vnd.jupyter.widget-view+json": {
       "model_id": "b11f7b855d3840cf887150bd76432154",
       "version_major": 2,
       "version_minor": 0
      },
      "text/plain": [
       "Processing eps 25, gradient PV landscapes:   0%|          | 0/200 [00:00<?, ?it/s]"
      ]
     },
     "metadata": {},
     "output_type": "display_data"
    },
    {
     "data": {
      "application/vnd.jupyter.widget-view+json": {
       "model_id": "e74fc85f0d4241a884d393b973e313d5",
       "version_major": 2,
       "version_minor": 0
      },
      "text/plain": [
       "Processing eps 25, gradient PV mtilde landscapes:   0%|          | 0/200 [00:00<?, ?it/s]"
      ]
     },
     "metadata": {},
     "output_type": "display_data"
    },
    {
     "data": {
      "application/vnd.jupyter.widget-view+json": {
       "model_id": "afd24e40b2484824aea37b1b68a89f96",
       "version_major": 2,
       "version_minor": 0
      },
      "text/plain": [
       "Processing eps 25, gradient cluster landscapes:   0%|          | 0/200 [00:00<?, ?it/s]"
      ]
     },
     "metadata": {},
     "output_type": "display_data"
    },
    {
     "data": {
      "application/vnd.jupyter.widget-view+json": {
       "model_id": "d470088cab924a4985b6e647b3bf3e72",
       "version_major": 2,
       "version_minor": 0
      },
      "text/plain": [
       "Processing eps 25, gradient cluster mtilde landscapes:   0%|          | 0/200 [00:00<?, ?it/s]"
      ]
     },
     "metadata": {},
     "output_type": "display_data"
    },
    {
     "data": {
      "application/vnd.jupyter.widget-view+json": {
       "model_id": "d4ef67a5202f445c81645ba1a3402b8d",
       "version_major": 2,
       "version_minor": 0
      },
      "text/plain": [
       "Processing eps 25, random_124 HC landscapes:   0%|          | 0/194 [00:00<?, ?it/s]"
      ]
     },
     "metadata": {},
     "output_type": "display_data"
    },
    {
     "data": {
      "application/vnd.jupyter.widget-view+json": {
       "model_id": "f0f422b8dcb1400f8b2ab48af580e46f",
       "version_major": 2,
       "version_minor": 0
      },
      "text/plain": [
       "Processing eps 25, random_124 HC mtilde landscapes:   0%|          | 0/194 [00:00<?, ?it/s]"
      ]
     },
     "metadata": {},
     "output_type": "display_data"
    },
    {
     "data": {
      "application/vnd.jupyter.widget-view+json": {
       "model_id": "02e14af3a91f40b18283432559eec196",
       "version_major": 2,
       "version_minor": 0
      },
      "text/plain": [
       "Processing eps 25, random_124 PV landscapes:   0%|          | 0/200 [00:00<?, ?it/s]"
      ]
     },
     "metadata": {},
     "output_type": "display_data"
    },
    {
     "data": {
      "application/vnd.jupyter.widget-view+json": {
       "model_id": "f16b97f96fd54ab8a17b8c8670743d04",
       "version_major": 2,
       "version_minor": 0
      },
      "text/plain": [
       "Processing eps 25, random_124 PV mtilde landscapes:   0%|          | 0/200 [00:00<?, ?it/s]"
      ]
     },
     "metadata": {},
     "output_type": "display_data"
    },
    {
     "data": {
      "application/vnd.jupyter.widget-view+json": {
       "model_id": "222f5667db8c4e57af8705833bebc1a2",
       "version_major": 2,
       "version_minor": 0
      },
      "text/plain": [
       "Processing eps 25, random_124 cluster landscapes:   0%|          | 0/200 [00:00<?, ?it/s]"
      ]
     },
     "metadata": {},
     "output_type": "display_data"
    },
    {
     "data": {
      "application/vnd.jupyter.widget-view+json": {
       "model_id": "ad29dcb0ec4947c7a789450b962cecbc",
       "version_major": 2,
       "version_minor": 0
      },
      "text/plain": [
       "Processing eps 25, random_124 cluster mtilde landscapes:   0%|          | 0/200 [00:00<?, ?it/s]"
      ]
     },
     "metadata": {},
     "output_type": "display_data"
    },
    {
     "data": {
      "application/vnd.jupyter.widget-view+json": {
       "model_id": "6bd383cd05234c32a11705e48ba74913",
       "version_major": 2,
       "version_minor": 0
      },
      "text/plain": [
       "Processing eps 15, alpha HC landscapes:   0%|          | 0/384 [00:00<?, ?it/s]"
      ]
     },
     "metadata": {},
     "output_type": "display_data"
    },
    {
     "data": {
      "application/vnd.jupyter.widget-view+json": {
       "model_id": "4373b1324d724a72bb2b2844755029d8",
       "version_major": 2,
       "version_minor": 0
      },
      "text/plain": [
       "Processing eps 15, alpha HC mtilde landscapes:   0%|          | 0/384 [00:00<?, ?it/s]"
      ]
     },
     "metadata": {},
     "output_type": "display_data"
    },
    {
     "data": {
      "application/vnd.jupyter.widget-view+json": {
       "model_id": "65ee8316f2754d97b34c74744024cade",
       "version_major": 2,
       "version_minor": 0
      },
      "text/plain": [
       "Processing eps 15, alpha PV landscapes:   0%|          | 0/400 [00:00<?, ?it/s]"
      ]
     },
     "metadata": {},
     "output_type": "display_data"
    },
    {
     "data": {
      "application/vnd.jupyter.widget-view+json": {
       "model_id": "d4eea4156b7b45e9997d857694f6cb59",
       "version_major": 2,
       "version_minor": 0
      },
      "text/plain": [
       "Processing eps 15, alpha PV mtilde landscapes:   0%|          | 0/400 [00:00<?, ?it/s]"
      ]
     },
     "metadata": {},
     "output_type": "display_data"
    },
    {
     "data": {
      "application/vnd.jupyter.widget-view+json": {
       "model_id": "e429a87f40f54d70b9a0b90f2c4db860",
       "version_major": 2,
       "version_minor": 0
      },
      "text/plain": [
       "Processing eps 15, alpha cluster landscapes:   0%|          | 0/400 [00:00<?, ?it/s]"
      ]
     },
     "metadata": {},
     "output_type": "display_data"
    },
    {
     "data": {
      "application/vnd.jupyter.widget-view+json": {
       "model_id": "0a52f361ab4547f8855a6b6b55cc5544",
       "version_major": 2,
       "version_minor": 0
      },
      "text/plain": [
       "Processing eps 15, alpha cluster mtilde landscapes:   0%|          | 0/400 [00:00<?, ?it/s]"
      ]
     },
     "metadata": {},
     "output_type": "display_data"
    },
    {
     "data": {
      "application/vnd.jupyter.widget-view+json": {
       "model_id": "752d20c7c12c49629f26d339af717679",
       "version_major": 2,
       "version_minor": 0
      },
      "text/plain": [
       "Processing eps 15, gradient HC landscapes:   0%|          | 0/194 [00:00<?, ?it/s]"
      ]
     },
     "metadata": {},
     "output_type": "display_data"
    },
    {
     "data": {
      "application/vnd.jupyter.widget-view+json": {
       "model_id": "23909b391f7445c6b405b93b3b63cd88",
       "version_major": 2,
       "version_minor": 0
      },
      "text/plain": [
       "Processing eps 15, gradient HC mtilde landscapes:   0%|          | 0/194 [00:00<?, ?it/s]"
      ]
     },
     "metadata": {},
     "output_type": "display_data"
    },
    {
     "data": {
      "application/vnd.jupyter.widget-view+json": {
       "model_id": "c5e76058fce349c79dc7a5963c6d855e",
       "version_major": 2,
       "version_minor": 0
      },
      "text/plain": [
       "Processing eps 15, gradient PV landscapes:   0%|          | 0/200 [00:00<?, ?it/s]"
      ]
     },
     "metadata": {},
     "output_type": "display_data"
    },
    {
     "data": {
      "application/vnd.jupyter.widget-view+json": {
       "model_id": "768b6942d34b42bc833721ea030d910b",
       "version_major": 2,
       "version_minor": 0
      },
      "text/plain": [
       "Processing eps 15, gradient PV mtilde landscapes:   0%|          | 0/200 [00:00<?, ?it/s]"
      ]
     },
     "metadata": {},
     "output_type": "display_data"
    },
    {
     "data": {
      "application/vnd.jupyter.widget-view+json": {
       "model_id": "47285acb6e904b1da6c1b4c16cb25e56",
       "version_major": 2,
       "version_minor": 0
      },
      "text/plain": [
       "Processing eps 15, gradient cluster landscapes:   0%|          | 0/200 [00:00<?, ?it/s]"
      ]
     },
     "metadata": {},
     "output_type": "display_data"
    },
    {
     "data": {
      "application/vnd.jupyter.widget-view+json": {
       "model_id": "a53d3a66becd44e482b204efe9fe0bb6",
       "version_major": 2,
       "version_minor": 0
      },
      "text/plain": [
       "Processing eps 15, gradient cluster mtilde landscapes:   0%|          | 0/200 [00:00<?, ?it/s]"
      ]
     },
     "metadata": {},
     "output_type": "display_data"
    },
    {
     "data": {
      "application/vnd.jupyter.widget-view+json": {
       "model_id": "fb2edcff1f25497bb865c25e910bc7ac",
       "version_major": 2,
       "version_minor": 0
      },
      "text/plain": [
       "Processing eps 15, random_124 HC landscapes:   0%|          | 0/194 [00:00<?, ?it/s]"
      ]
     },
     "metadata": {},
     "output_type": "display_data"
    },
    {
     "data": {
      "application/vnd.jupyter.widget-view+json": {
       "model_id": "60046f6db8df43fdab9ca33ad8495d83",
       "version_major": 2,
       "version_minor": 0
      },
      "text/plain": [
       "Processing eps 15, random_124 HC mtilde landscapes:   0%|          | 0/194 [00:00<?, ?it/s]"
      ]
     },
     "metadata": {},
     "output_type": "display_data"
    },
    {
     "data": {
      "application/vnd.jupyter.widget-view+json": {
       "model_id": "fe735c908eef462688466a50d985af69",
       "version_major": 2,
       "version_minor": 0
      },
      "text/plain": [
       "Processing eps 15, random_124 PV landscapes:   0%|          | 0/200 [00:00<?, ?it/s]"
      ]
     },
     "metadata": {},
     "output_type": "display_data"
    },
    {
     "data": {
      "application/vnd.jupyter.widget-view+json": {
       "model_id": "adbb97885b094ae7988c258d5eb1538b",
       "version_major": 2,
       "version_minor": 0
      },
      "text/plain": [
       "Processing eps 15, random_124 PV mtilde landscapes:   0%|          | 0/200 [00:00<?, ?it/s]"
      ]
     },
     "metadata": {},
     "output_type": "display_data"
    },
    {
     "data": {
      "application/vnd.jupyter.widget-view+json": {
       "model_id": "1536678b0dd541c19df580e4c2cf689d",
       "version_major": 2,
       "version_minor": 0
      },
      "text/plain": [
       "Processing eps 15, random_124 cluster landscapes:   0%|          | 0/200 [00:00<?, ?it/s]"
      ]
     },
     "metadata": {},
     "output_type": "display_data"
    },
    {
     "data": {
      "application/vnd.jupyter.widget-view+json": {
       "model_id": "f77e13573bec458290b5b54159145f0a",
       "version_major": 2,
       "version_minor": 0
      },
      "text/plain": [
       "Processing eps 15, random_124 cluster mtilde landscapes:   0%|          | 0/200 [00:00<?, ?it/s]"
      ]
     },
     "metadata": {},
     "output_type": "display_data"
    },
    {
     "data": {
      "application/vnd.jupyter.widget-view+json": {
       "model_id": "e40c4b1105b6459290d8d0d376bc8961",
       "version_major": 2,
       "version_minor": 0
      },
      "text/plain": [
       "Processing eps 20, gradient HC landscapes:   0%|          | 0/194 [00:00<?, ?it/s]"
      ]
     },
     "metadata": {},
     "output_type": "display_data"
    },
    {
     "data": {
      "application/vnd.jupyter.widget-view+json": {
       "model_id": "6c2d44ce40bc418db274d2fcd4ecb74f",
       "version_major": 2,
       "version_minor": 0
      },
      "text/plain": [
       "Processing eps 20, gradient HC mtilde landscapes:   0%|          | 0/194 [00:00<?, ?it/s]"
      ]
     },
     "metadata": {},
     "output_type": "display_data"
    },
    {
     "data": {
      "application/vnd.jupyter.widget-view+json": {
       "model_id": "bf2055fbd4d943aca7c3edc37f340a8b",
       "version_major": 2,
       "version_minor": 0
      },
      "text/plain": [
       "Processing eps 20, gradient PV landscapes:   0%|          | 0/200 [00:00<?, ?it/s]"
      ]
     },
     "metadata": {},
     "output_type": "display_data"
    },
    {
     "data": {
      "application/vnd.jupyter.widget-view+json": {
       "model_id": "6bb061826b2848109f14afe89a539b88",
       "version_major": 2,
       "version_minor": 0
      },
      "text/plain": [
       "Processing eps 20, gradient PV mtilde landscapes:   0%|          | 0/200 [00:00<?, ?it/s]"
      ]
     },
     "metadata": {},
     "output_type": "display_data"
    },
    {
     "data": {
      "application/vnd.jupyter.widget-view+json": {
       "model_id": "aa4c52c27fd649b880f71ed28aa920ad",
       "version_major": 2,
       "version_minor": 0
      },
      "text/plain": [
       "Processing eps 20, gradient cluster landscapes:   0%|          | 0/200 [00:00<?, ?it/s]"
      ]
     },
     "metadata": {},
     "output_type": "display_data"
    },
    {
     "data": {
      "application/vnd.jupyter.widget-view+json": {
       "model_id": "8ff20a6818fa41878f3edd449e198da7",
       "version_major": 2,
       "version_minor": 0
      },
      "text/plain": [
       "Processing eps 20, gradient cluster mtilde landscapes:   0%|          | 0/200 [00:00<?, ?it/s]"
      ]
     },
     "metadata": {},
     "output_type": "display_data"
    },
    {
     "data": {
      "application/vnd.jupyter.widget-view+json": {
       "model_id": "135b8149f43846b288b8cbab0bef86da",
       "version_major": 2,
       "version_minor": 0
      },
      "text/plain": [
       "Processing eps 20, random_124 HC landscapes:   0%|          | 0/194 [00:00<?, ?it/s]"
      ]
     },
     "metadata": {},
     "output_type": "display_data"
    },
    {
     "data": {
      "application/vnd.jupyter.widget-view+json": {
       "model_id": "9598cca83abf4980b3e195d2d5caf152",
       "version_major": 2,
       "version_minor": 0
      },
      "text/plain": [
       "Processing eps 20, random_124 HC mtilde landscapes:   0%|          | 0/194 [00:00<?, ?it/s]"
      ]
     },
     "metadata": {},
     "output_type": "display_data"
    },
    {
     "data": {
      "application/vnd.jupyter.widget-view+json": {
       "model_id": "ab2597d1a6e742e082c99233fc9ced0c",
       "version_major": 2,
       "version_minor": 0
      },
      "text/plain": [
       "Processing eps 20, random_124 PV landscapes:   0%|          | 0/200 [00:00<?, ?it/s]"
      ]
     },
     "metadata": {},
     "output_type": "display_data"
    },
    {
     "data": {
      "application/vnd.jupyter.widget-view+json": {
       "model_id": "8974737613f849beaca7370c64f1d72a",
       "version_major": 2,
       "version_minor": 0
      },
      "text/plain": [
       "Processing eps 20, random_124 PV mtilde landscapes:   0%|          | 0/200 [00:00<?, ?it/s]"
      ]
     },
     "metadata": {},
     "output_type": "display_data"
    },
    {
     "data": {
      "application/vnd.jupyter.widget-view+json": {
       "model_id": "48624d90e723492397aeb62cd073e5de",
       "version_major": 2,
       "version_minor": 0
      },
      "text/plain": [
       "Processing eps 20, random_124 cluster landscapes:   0%|          | 0/200 [00:00<?, ?it/s]"
      ]
     },
     "metadata": {},
     "output_type": "display_data"
    },
    {
     "data": {
      "application/vnd.jupyter.widget-view+json": {
       "model_id": "71f01e516f174072b294e531d7f90500",
       "version_major": 2,
       "version_minor": 0
      },
      "text/plain": [
       "Processing eps 20, random_124 cluster mtilde landscapes:   0%|          | 0/200 [00:00<?, ?it/s]"
      ]
     },
     "metadata": {},
     "output_type": "display_data"
    },
    {
     "data": {
      "application/vnd.jupyter.widget-view+json": {
       "model_id": "81cf699521d3435988c01cddecfdd026",
       "version_major": 2,
       "version_minor": 0
      },
      "text/plain": [
       "Processing eps 25, gradient HC landscapes:   0%|          | 0/194 [00:00<?, ?it/s]"
      ]
     },
     "metadata": {},
     "output_type": "display_data"
    },
    {
     "data": {
      "application/vnd.jupyter.widget-view+json": {
       "model_id": "5d1550889f0d44b6954263238f5c8a24",
       "version_major": 2,
       "version_minor": 0
      },
      "text/plain": [
       "Processing eps 25, gradient HC mtilde landscapes:   0%|          | 0/194 [00:00<?, ?it/s]"
      ]
     },
     "metadata": {},
     "output_type": "display_data"
    },
    {
     "data": {
      "application/vnd.jupyter.widget-view+json": {
       "model_id": "7a0a042681fc482fb64d8d3ed93e5ee2",
       "version_major": 2,
       "version_minor": 0
      },
      "text/plain": [
       "Processing eps 25, gradient PV landscapes:   0%|          | 0/200 [00:00<?, ?it/s]"
      ]
     },
     "metadata": {},
     "output_type": "display_data"
    },
    {
     "data": {
      "application/vnd.jupyter.widget-view+json": {
       "model_id": "ceaf00017cba404eaffbd11741a61029",
       "version_major": 2,
       "version_minor": 0
      },
      "text/plain": [
       "Processing eps 25, gradient PV mtilde landscapes:   0%|          | 0/200 [00:00<?, ?it/s]"
      ]
     },
     "metadata": {},
     "output_type": "display_data"
    },
    {
     "data": {
      "application/vnd.jupyter.widget-view+json": {
       "model_id": "442c0362d3fc4f0fa4a67249034bdbc8",
       "version_major": 2,
       "version_minor": 0
      },
      "text/plain": [
       "Processing eps 25, gradient cluster landscapes:   0%|          | 0/200 [00:00<?, ?it/s]"
      ]
     },
     "metadata": {},
     "output_type": "display_data"
    },
    {
     "data": {
      "application/vnd.jupyter.widget-view+json": {
       "model_id": "ae93028972dc437ba9cc40795e44daca",
       "version_major": 2,
       "version_minor": 0
      },
      "text/plain": [
       "Processing eps 25, gradient cluster mtilde landscapes:   0%|          | 0/200 [00:00<?, ?it/s]"
      ]
     },
     "metadata": {},
     "output_type": "display_data"
    },
    {
     "data": {
      "application/vnd.jupyter.widget-view+json": {
       "model_id": "086e73ee159145b0aaabcfe14ce53608",
       "version_major": 2,
       "version_minor": 0
      },
      "text/plain": [
       "Processing eps 25, random_124 HC landscapes:   0%|          | 0/194 [00:00<?, ?it/s]"
      ]
     },
     "metadata": {},
     "output_type": "display_data"
    },
    {
     "data": {
      "application/vnd.jupyter.widget-view+json": {
       "model_id": "8993e9254a8d440398e5383e1cca4a19",
       "version_major": 2,
       "version_minor": 0
      },
      "text/plain": [
       "Processing eps 25, random_124 HC mtilde landscapes:   0%|          | 0/194 [00:00<?, ?it/s]"
      ]
     },
     "metadata": {},
     "output_type": "display_data"
    },
    {
     "data": {
      "application/vnd.jupyter.widget-view+json": {
       "model_id": "a6773d3434db4926ba1960becac0363f",
       "version_major": 2,
       "version_minor": 0
      },
      "text/plain": [
       "Processing eps 25, random_124 PV landscapes:   0%|          | 0/200 [00:00<?, ?it/s]"
      ]
     },
     "metadata": {},
     "output_type": "display_data"
    },
    {
     "data": {
      "application/vnd.jupyter.widget-view+json": {
       "model_id": "5f9a94ad5f334b57b7754d372527c20f",
       "version_major": 2,
       "version_minor": 0
      },
      "text/plain": [
       "Processing eps 25, random_124 PV mtilde landscapes:   0%|          | 0/200 [00:00<?, ?it/s]"
      ]
     },
     "metadata": {},
     "output_type": "display_data"
    },
    {
     "data": {
      "application/vnd.jupyter.widget-view+json": {
       "model_id": "19567b5d4702417fa636edd318856b69",
       "version_major": 2,
       "version_minor": 0
      },
      "text/plain": [
       "Processing eps 25, random_124 cluster landscapes:   0%|          | 0/200 [00:00<?, ?it/s]"
      ]
     },
     "metadata": {},
     "output_type": "display_data"
    },
    {
     "data": {
      "application/vnd.jupyter.widget-view+json": {
       "model_id": "6847f339e5bd4a82b7336b907db83348",
       "version_major": 2,
       "version_minor": 0
      },
      "text/plain": [
       "Processing eps 25, random_124 cluster mtilde landscapes:   0%|          | 0/200 [00:00<?, ?it/s]"
      ]
     },
     "metadata": {},
     "output_type": "display_data"
    }
   ],
   "source": [
    "LL_train = LandscapeLoader(\"../ballmapper_landscapes_normal_function/\", \"../ballmapper_landscapes/\", [15, 20, 25], max_image_i=80)\n",
    "LL_test = LandscapeLoader(\"../ballmapper_landscapes_normal_function/\", \"../ballmapper_landscapes/\", [15, 20, 25], min_image_i=80)\n",
    "LL_all = LandscapeLoader(\"../ballmapper_landscapes_normal_function/\", \"../ballmapper_landscapes/\", [15, 20, 25])\n",
    "\n",
    "# LL_train_Mtilde = LandscapeLoader(\"../ballmapper_landscapes/\", [15, 20, 25], max_image_i=80)\n",
    "# LL_test_Mtilde = LandscapeLoader(\"../ballmapper_landscapes/\", [15, 20, 25], min_image_i=80)"
   ]
  },
  {
   "cell_type": "code",
   "execution_count": 13,
   "id": "c044c599",
   "metadata": {},
   "outputs": [
    {
     "name": "stdout",
     "output_type": "stream",
     "text": [
      "Loading landscapes for eps=15, color=gradient, method=cluster, type=laplacian\n",
      "Loading landscape 100\n",
      "Plotting k = 2 dim = 1\r"
     ]
    },
    {
     "data": {
      "image/png": "[encoded data removed]",
      "text/plain": [
       "<Figure size 1000x500 with 2 Axes>"
      ]
     },
     "metadata": {},
     "output_type": "display_data"
    }
   ],
   "source": [
    "color = \"gradient\"\n",
    "method = \"cluster\"\n",
    "\n",
    "plot_mean_landscape(LL_all, 15, color=color, method=method, type_=\"laplacian\", limits=[[0,1,0,0.035],[0,1,0,0.01]])\n",
    "plt.savefig(f\"../figures/cross_section_report/mean_landscape_conf_{color}_{method}_laplacian.png\", bbox_inches='tight', dpi=300)"
   ]
  },
  {
   "cell_type": "code",
   "execution_count": 14,
   "id": "98534a8d",
   "metadata": {},
   "outputs": [],
   "source": [
    "with open(\"cross_section_experiments_results_others.pkl\", \"rb\") as f:\n",
    "    out_dict = pickle.load(f)"
   ]
  },
  {
   "cell_type": "code",
   "execution_count": null,
   "id": "7cf5f5da",
   "metadata": {},
   "outputs": [],
   "source": [
    "method_list = [\"PV\", \"cluster\", \"HC\"]\n",
    "# out_dict = {}\n",
    "for eps in [15, 20, 25]:\n",
    "    # out_dict[eps] = {}\n",
    "    for color in [\"random_124\", \"gradient\"]:\n",
    "        # out_dict[eps][color] = {}\n",
    "        for type_ in [\"mtilde\", \"normal\", \"laplacian\"]:\n",
    "            # out_dict[eps][color][type_] = {}\n",
    "            for method in method_list:\n",
    "                # out_dict[eps][color][type_][method] = {}\n",
    "\n",
    "                print(f\"Gathering statistics for {type_} landscapes with method {method}, eps {eps} and color {color}\\n\"+\"-\"*20)\n",
    "\n",
    "                LL_all.reset_pointer()\n",
    "\n",
    "                sum_land = LL_all.load(eps, color, method, type_)\n",
    "                counter = 1\n",
    "\n",
    "                while True:\n",
    "                    land = LL_all.load(eps, color, method, type_)\n",
    "                    if land is None:\n",
    "                        break\n",
    "                    counter += 1\n",
    "                    print(f\"Loaded landscape {counter} for sum\", end=\"\\r\")\n",
    "                    sum_land += land\n",
    "\n",
    "                loaded_landscapes = counter\n",
    "\n",
    "                for dim in [0]:#[None, 1]:\n",
    "                    out_dict[eps][color][type_][method][dim] = {}\n",
    "                    LL_all.reset_pointer()\n",
    "                    load_bar = tqdm(total= loaded_landscapes, desc = f\"Dim {dim}, gathering statistics\", leave = False)\n",
    "                    dists = []\n",
    "\n",
    "                    while True:\n",
    "                        land = LL_all.load(eps, color, method, type_)\n",
    "                        if land is None:\n",
    "                            break\n",
    "                        load_bar.update(1)\n",
    "                        mean_land = (sum_land-land).__mult__(1/(loaded_landscapes-1))\n",
    "                        dists.append((land - mean_land).norm(dim=dim))\n",
    "\n",
    "                    load_bar.close()\n",
    "                    out_dict[eps][color][type_][method][dim][method] = np.array(dists)\n",
    "\n",
    "                    mean_land = sum_land.__mult__(1/loaded_landscapes)\n",
    "\n",
    "                    for other_method in method_list:\n",
    "                        if other_method == method:\n",
    "                            continue\n",
    "                        dists = []\n",
    "                        load_bar = tqdm(total= loaded_landscapes, desc = f\"Dim {dim}, comparison with {other_method[:2]}\", leave = False)\n",
    "\n",
    "                        while True:\n",
    "                            land = LL_all.load(eps, color, other_method, type_)\n",
    "                            if land is None:\n",
    "                                break\n",
    "                            load_bar.update(1)\n",
    "                            dists.append((land - mean_land).norm(dim=dim))\n",
    "                        load_bar.close()\n",
    "                        out_dict[eps][color][type_][method][dim][other_method] = np.array(dists)"
   ]
  },
  {
   "cell_type": "code",
   "execution_count": null,
   "id": "d38d2391",
   "metadata": {},
   "outputs": [],
   "source": [
    "# with open(\"cross_section_experiments_results_others.pkl\", \"wb\") as f:\n",
    "#     pickle.dump(out_dict, f)"
   ]
  },
  {
   "cell_type": "code",
   "execution_count": 19,
   "id": "cdad3380",
   "metadata": {},
   "outputs": [
    {
     "name": "stdout",
     "output_type": "stream",
     "text": [
      "eps\tcolor\ttype\tmethod\tdim\tpv.95\tcl.95\thc.95\n",
      "15\trando\tnorma\tPV\t0\tN/A\t0.45\t0.07\t\n",
      "15\trando\tlapla\tPV\t0\tN/A\t0.36\t0.04\t\n",
      "15\trando\tmtild\tPV\t0\tN/A\t0.36\t0.03\t\n",
      "15\trando\tnorma\tPV\t1\tN/A\t0.24\t0.04\t\n",
      "15\trando\tlapla\tPV\t1\tN/A\t0.21\t0.07\t\n",
      "15\trando\tmtild\tPV\t1\tN/A\t0.21\t0.07\t\n",
      "15\tgradi\tnorma\tPV\t0\tN/A\t0.21\t0.02\t\n",
      "15\tgradi\tlapla\tPV\t0\tN/A\t0.33\t0.03\t\n",
      "15\tgradi\tmtild\tPV\t0\tN/A\t0.25\t0.02\t\n",
      "15\tgradi\tnorma\tPV\t1\tN/A\t0.18\t0.06\t\n",
      "15\tgradi\tlapla\tPV\t1\tN/A\t0.4\t0.06\t\n",
      "15\tgradi\tmtild\tPV\t1\tN/A\t0.4\t0.06\t\n",
      "20\trando\tnorma\tPV\t0\tN/A\t0.37\t0.06\t\n",
      "20\trando\tlapla\tPV\t0\tN/A\t0.47\t0.04\t\n",
      "20\trando\tmtild\tPV\t0\tN/A\t0.49\t0.04\t\n",
      "20\trando\tnorma\tPV\t1\tN/A\t0.26\t0.06\t\n",
      "20\trando\tlapla\tPV\t1\tN/A\t0.17\t0.03\t\n",
      "20\trando\tmtild\tPV\t1\tN/A\t0.17\t0.03\t\n",
      "20\tgradi\tnorma\tPV\t0\tN/A\t0.17\t0.01\t\n",
      "20\tgradi\tlapla\tPV\t0\tN/A\t0.44\t0.03\t\n",
      "20\tgradi\tmtild\tPV\t0\tN/A\t0.43\t0.03\t\n",
      "20\tgradi\tnorma\tPV\t1\tN/A\t0.16\t0.01\t\n",
      "20\tgradi\tlapla\tPV\t1\tN/A\t0.38\t0.06\t\n",
      "20\tgradi\tmtild\tPV\t1\tN/A\t0.38\t0.06\t\n",
      "25\trando\tnorma\tPV\t0\tN/A\t0.26\t0.06\t\n",
      "25\trando\tlapla\tPV\t0\tN/A\t0.37\t0.03\t\n",
      "25\trando\tmtild\tPV\t0\tN/A\t0.42\t0.04\t\n",
      "25\trando\tnorma\tPV\t1\tN/A\t0.22\t0.04\t\n",
      "25\trando\tlapla\tPV\t1\tN/A\t0.23\t0.08\t\n",
      "25\trando\tmtild\tPV\t1\tN/A\t0.23\t0.08\t\n",
      "25\tgradi\tnorma\tPV\t0\tN/A\t0.33\t0.09\t\n",
      "25\tgradi\tlapla\tPV\t0\tN/A\t0.57\t0.06\t\n",
      "25\tgradi\tmtild\tPV\t0\tN/A\t0.53\t0.04\t\n",
      "25\tgradi\tnorma\tPV\t1\tN/A\t0.13\t0.06\t\n",
      "25\tgradi\tlapla\tPV\t1\tN/A\t0.5\t0.11\t\n",
      "25\tgradi\tmtild\tPV\t1\tN/A\t0.5\t0.11\t\n",
      "15\trando\tnorma\tcluster\t0\t0.3\tN/A\t0.31\t\n",
      "15\trando\tlapla\tcluster\t0\t0.02\tN/A\t0.01\t\n",
      "15\trando\tmtild\tcluster\t0\t0.01\tN/A\t0.04\t\n",
      "15\trando\tnorma\tcluster\t1\t0.0\tN/A\t0.0\t\n",
      "15\trando\tlapla\tcluster\t1\t0.01\tN/A\t0.01\t\n",
      "15\trando\tmtild\tcluster\t1\t0.01\tN/A\t0.01\t\n",
      "15\tgradi\tnorma\tcluster\t0\t0.01\tN/A\t0.0\t\n",
      "15\tgradi\tlapla\tcluster\t0\t0.01\tN/A\t0.01\t\n",
      "15\tgradi\tmtild\tcluster\t0\t0.04\tN/A\t0.02\t\n",
      "15\tgradi\tnorma\tcluster\t1\t0.01\tN/A\t0.0\t\n",
      "15\tgradi\tlapla\tcluster\t1\t0.01\tN/A\t0.01\t\n",
      "15\tgradi\tmtild\tcluster\t1\t0.01\tN/A\t0.01\t\n",
      "20\trando\tnorma\tcluster\t0\t0.16\tN/A\t0.12\t\n",
      "20\trando\tlapla\tcluster\t0\t0.07\tN/A\t0.05\t\n",
      "20\trando\tmtild\tcluster\t0\t0.11\tN/A\t0.11\t\n",
      "20\trando\tnorma\tcluster\t1\t0.01\tN/A\t0.01\t\n",
      "20\trando\tlapla\tcluster\t1\t0.0\tN/A\t0.0\t\n",
      "20\trando\tmtild\tcluster\t1\t0.0\tN/A\t0.0\t\n",
      "20\tgradi\tnorma\tcluster\t0\t0.01\tN/A\t0.01\t\n",
      "20\tgradi\tlapla\tcluster\t0\t0.01\tN/A\t0.0\t\n",
      "20\tgradi\tmtild\tcluster\t0\t0.03\tN/A\t0.0\t\n",
      "20\tgradi\tnorma\tcluster\t1\t0.01\tN/A\t0.01\t\n",
      "20\tgradi\tlapla\tcluster\t1\t0.0\tN/A\t0.0\t\n",
      "20\tgradi\tmtild\tcluster\t1\t0.0\tN/A\t0.0\t\n",
      "25\trando\tnorma\tcluster\t0\t0.15\tN/A\t0.15\t\n",
      "25\trando\tlapla\tcluster\t0\t0.18\tN/A\t0.15\t\n",
      "25\trando\tmtild\tcluster\t0\t0.24\tN/A\t0.2\t\n",
      "25\trando\tnorma\tcluster\t1\t0.0\tN/A\t0.0\t\n",
      "25\trando\tlapla\tcluster\t1\t0.01\tN/A\t0.01\t\n",
      "25\trando\tmtild\tcluster\t1\t0.01\tN/A\t0.01\t\n",
      "25\tgradi\tnorma\tcluster\t0\t0.0\tN/A\t0.0\t\n",
      "25\tgradi\tlapla\tcluster\t0\t0.0\tN/A\t0.01\t\n",
      "25\tgradi\tmtild\tcluster\t0\t0.0\tN/A\t0.02\t\n",
      "25\tgradi\tnorma\tcluster\t1\t0.01\tN/A\t0.0\t\n",
      "25\tgradi\tlapla\tcluster\t1\t0.0\tN/A\t0.0\t\n",
      "25\tgradi\tmtild\tcluster\t1\t0.0\tN/A\t0.0\t\n",
      "15\trando\tnorma\tHC\t0\t0.04\t0.43\tN/A\t\n",
      "15\trando\tlapla\tHC\t0\t0.08\t0.37\tN/A\t\n",
      "15\trando\tmtild\tHC\t0\t0.07\t0.45\tN/A\t\n",
      "15\trando\tnorma\tHC\t1\t0.02\t0.24\tN/A\t\n",
      "15\trando\tlapla\tHC\t1\t0.02\t0.14\tN/A\t\n",
      "15\trando\tmtild\tHC\t1\t0.02\t0.14\tN/A\t\n",
      "15\tgradi\tnorma\tHC\t0\t0.15\t0.32\tN/A\t\n",
      "15\tgradi\tlapla\tHC\t0\t0.08\t0.4\tN/A\t\n",
      "15\tgradi\tmtild\tHC\t0\t0.11\t0.42\tN/A\t\n",
      "15\tgradi\tnorma\tHC\t1\t0.03\t0.18\tN/A\t\n",
      "15\tgradi\tlapla\tHC\t1\t0.06\t0.4\tN/A\t\n",
      "15\tgradi\tmtild\tHC\t1\t0.04\t0.39\tN/A\t\n",
      "20\trando\tnorma\tHC\t0\t0.04\t0.3\tN/A\t\n",
      "20\trando\tlapla\tHC\t0\t0.06\t0.49\tN/A\t\n",
      "20\trando\tmtild\tHC\t0\t0.09\t0.56\tN/A\t\n",
      "20\trando\tnorma\tHC\t1\t0.04\t0.23\tN/A\t\n",
      "20\trando\tlapla\tHC\t1\t0.11\t0.22\tN/A\t\n",
      "20\trando\tmtild\tHC\t1\t0.11\t0.22\tN/A\t\n",
      "20\tgradi\tnorma\tHC\t0\t0.07\t0.23\tN/A\t\n",
      "20\tgradi\tlapla\tHC\t0\t0.11\t0.6\tN/A\t\n",
      "20\tgradi\tmtild\tHC\t0\t0.15\t0.6\tN/A\t\n",
      "20\tgradi\tnorma\tHC\t1\t0.08\t0.24\tN/A\t\n",
      "20\tgradi\tlapla\tHC\t1\t0.02\t0.36\tN/A\t\n",
      "20\tgradi\tmtild\tHC\t1\t0.02\t0.36\tN/A\t\n",
      "25\trando\tnorma\tHC\t0\t0.05\t0.26\tN/A\t\n",
      "25\trando\tlapla\tHC\t0\t0.16\t0.59\tN/A\t\n",
      "25\trando\tmtild\tHC\t0\t0.12\t0.56\tN/A\t\n",
      "25\trando\tnorma\tHC\t1\t0.07\t0.3\tN/A\t\n",
      "25\trando\tlapla\tHC\t1\t0.03\t0.21\tN/A\t\n",
      "25\trando\tmtild\tHC\t1\t0.04\t0.21\tN/A\t\n",
      "25\tgradi\tnorma\tHC\t0\t0.03\t0.26\tN/A\t\n",
      "25\tgradi\tlapla\tHC\t0\t0.02\t0.51\tN/A\t\n",
      "25\tgradi\tmtild\tHC\t0\t0.07\t0.61\tN/A\t\n",
      "25\tgradi\tnorma\tHC\t1\t0.05\t0.13\tN/A\t\n",
      "25\tgradi\tlapla\tHC\t1\t0.02\t0.42\tN/A\t\n",
      "25\tgradi\tmtild\tHC\t1\t0.02\t0.42\tN/A\t\n"
     ]
    }
   ],
   "source": [
    "method_list = [\"PV\", \"cluster\", \"HC\"]\n",
    "\n",
    "print(\"eps\\tcolor\\ttype\\tmethod\\tdim\\tpv.95\\tcl.95\\thc.95\")\n",
    "for method in method_list:\n",
    "    for eps in [15, 20, 25]:\n",
    "        for color in [\"random_124\", \"gradient\"]:\n",
    "            for dim in [0, 1]:#[None, 1]:\n",
    "                for type_ in [\"normal\", \"laplacian\", \"mtilde\"]:\n",
    "                    print(f\"{eps}\\t{color[:5]}\\t{type_[:5]}\\t{method}\\t{dim}\", end=\"\\t\")\n",
    "                    for alpha in [0.95]:\n",
    "                        for other_method in method_list:\n",
    "                            if other_method == method:\n",
    "                                print(\"N/A\", end=\"\\t\")\n",
    "                            else:\n",
    "                                print(np.round((out_dict[eps][color][type_][method][dim][other_method] > np.quantile(out_dict[eps][color][type_][method][dim][method], alpha)).mean(), 2), end=\"\\t\")\n",
    "                    print()"
   ]
  },
  {
   "cell_type": "code",
   "execution_count": null,
   "id": "c6c308ba",
   "metadata": {},
   "outputs": [
    {
     "data": {
      "application/vnd.jupyter.widget-view+json": {
       "model_id": "eb352fe8f4094e23b61061b8c31f846c",
       "version_major": 2,
       "version_minor": 0
      },
      "text/plain": [
       "  0%|          | 0/3 [00:00<?, ?it/s]"
      ]
     },
     "metadata": {},
     "output_type": "display_data"
    },
    {
     "data": {
      "application/vnd.jupyter.widget-view+json": {
       "model_id": "cf0371ddee2141ac938ed2a0df93ef0f",
       "version_major": 2,
       "version_minor": 0
      },
      "text/plain": [
       "  0%|          | 0/3 [00:00<?, ?it/s]"
      ]
     },
     "metadata": {},
     "output_type": "display_data"
    },
    {
     "data": {
      "application/vnd.jupyter.widget-view+json": {
       "model_id": "fda3ec70236947d1a78ce03180835f81",
       "version_major": 2,
       "version_minor": 0
      },
      "text/plain": [
       "  0%|          | 0/3 [00:00<?, ?it/s]"
      ]
     },
     "metadata": {},
     "output_type": "display_data"
    },
    {
     "data": {
      "application/vnd.jupyter.widget-view+json": {
       "model_id": "309fe23f017f47999f107711fbc505e0",
       "version_major": 2,
       "version_minor": 0
      },
      "text/plain": [
       "  0%|          | 0/3 [00:00<?, ?it/s]"
      ]
     },
     "metadata": {},
     "output_type": "display_data"
    },
    {
     "data": {
      "application/vnd.jupyter.widget-view+json": {
       "model_id": "1c3331a17cda466eb79cd835cc1701ee",
       "version_major": 2,
       "version_minor": 0
      },
      "text/plain": [
       "  0%|          | 0/3 [00:00<?, ?it/s]"
      ]
     },
     "metadata": {},
     "output_type": "display_data"
    },
    {
     "data": {
      "application/vnd.jupyter.widget-view+json": {
       "model_id": "4b27b5192653430ca73203d6714e46a8",
       "version_major": 2,
       "version_minor": 0
      },
      "text/plain": [
       "  0%|          | 0/3 [00:00<?, ?it/s]"
      ]
     },
     "metadata": {},
     "output_type": "display_data"
    }
   ],
   "source": [
    "mean_landscapes = {}\n",
    "LL_train.reset_pointer()\n",
    "\n",
    "for eps in LL_train.location_dict.keys():\n",
    "    mean_landscapes[eps] = {}\n",
    "    for color in LL_train.location_dict[eps].keys():\n",
    "        if color == \"alpha\":\n",
    "            continue\n",
    "        mean_landscapes[eps][color] = {}\n",
    "        method_bar = tqdm(LL_train.location_dict[eps][color].keys(), leave=False)\n",
    "        for method in method_bar:\n",
    "            mean_landscapes[eps][color][method] = {}\n",
    "            for type_ in [\"laplacian\", \"normal\", \"mtilde\"]:\n",
    "                cur_lands = []\n",
    "                i = 0\n",
    "                while True:\n",
    "                    method_bar.set_description(f\"Processing landscapes for eps {eps}, color {color}, method {method}, type {type_}, i {i}\")\n",
    "                    land = LL_train.load(eps, color, method, type_)\n",
    "                    if land is None:\n",
    "                        break\n",
    "                    cur_lands.append(land)\n",
    "                    i += 1\n",
    "                mean_landscapes[eps][color][method][type_] = np.mean(cur_lands)"
   ]
  },
  {
   "cell_type": "code",
   "execution_count": null,
   "id": "1ee1cfa0",
   "metadata": {},
   "outputs": [],
   "source": [
    "# with open(\"../ballmapper_landscapes_normal_function/mean_landscapes.pkl\", \"wb\") as f:\n",
    "#     pickle.dump(mean_landscapes, f)"
   ]
  },
  {
   "cell_type": "code",
   "execution_count": 5,
   "id": "bcb33f53",
   "metadata": {},
   "outputs": [],
   "source": [
    "with open(\"../ballmapper_landscapes_normal_function/mean_landscapes.pkl\", \"rb\") as f:\n",
    "    mean_landscapes = pickle.load(f)\n",
    "\n",
    "# with open(\"../ballmapper_landscapes/mean_landscapes.pkl\", \"rb\") as f:\n",
    "#     mean_landscapes_Mtilde = pickle.load(f)"
   ]
  },
  {
   "cell_type": "code",
   "execution_count": 6,
   "id": "b4c97f86",
   "metadata": {},
   "outputs": [
    {
     "data": {
      "text/plain": [
       "array([<Axes: title={'center': 'Landscape dim 0'}, xlabel='t', ylabel='Landscape'>,\n",
       "       <Axes: title={'center': 'Landscape dim 1'}, xlabel='t', ylabel='Landscape'>],\n",
       "      dtype=object)"
      ]
     },
     "execution_count": 6,
     "metadata": {},
     "output_type": "execute_result"
    },
    {
     "data": {
      "image/png": "[encoded data removed]",
      "text/plain": [
       "<Figure size 1000x500 with 2 Axes>"
      ]
     },
     "metadata": {},
     "output_type": "display_data"
    }
   ],
   "source": [
    "mean_landscapes[15][\"random_124\"][\"HC\"][\"normal\"].plot(limits = [0, 1, 0, 0.1])"
   ]
  },
  {
   "cell_type": "code",
   "execution_count": 21,
   "id": "de88cb49",
   "metadata": {},
   "outputs": [
    {
     "data": {
      "image/png": "[encoded data removed]",
      "text/plain": [
       "<Figure size 1000x500 with 2 Axes>"
      ]
     },
     "metadata": {},
     "output_type": "display_data"
    }
   ],
   "source": [
    "method = \"cluster\"\n",
    "color = \"gradient\"\n",
    "mean_landscapes[15][color][method][\"laplacian\"].plot(limits = [0, 1, 0, 0.03])\n",
    "plt.ylim(0, 0.01)\n",
    "plt.tight_layout()\n",
    "plt.savefig(f'../figures/cross_section_report/mean_lapland_{color}_{method}.png', dpi=300, bbox_inches='tight')\n",
    "\n",
    "# (mean_landscapes[15][\"random_124\"][method][\"mtilde\"]-mean_landscapes[15][\"random_124\"][method][\"laplacian\"]).plot(limits = [0, 1, 0, 0.05])"
   ]
  },
  {
   "cell_type": "code",
   "execution_count": 11,
   "id": "03405add",
   "metadata": {},
   "outputs": [
    {
     "data": {
      "application/vnd.jupyter.widget-view+json": {
       "model_id": "3b1081726e7e45e3845c084c48dc25b4",
       "version_major": 2,
       "version_minor": 0
      },
      "text/plain": [
       "  0%|          | 0/3 [00:00<?, ?it/s]"
      ]
     },
     "metadata": {},
     "output_type": "display_data"
    },
    {
     "data": {
      "application/vnd.jupyter.widget-view+json": {
       "model_id": "4f65f29b086e419993abd381d0e178e1",
       "version_major": 2,
       "version_minor": 0
      },
      "text/plain": [
       "  0%|          | 0/3 [00:00<?, ?it/s]"
      ]
     },
     "metadata": {},
     "output_type": "display_data"
    },
    {
     "data": {
      "application/vnd.jupyter.widget-view+json": {
       "model_id": "409c16257f254140ae1503537d4d6616",
       "version_major": 2,
       "version_minor": 0
      },
      "text/plain": [
       "  0%|          | 0/3 [00:00<?, ?it/s]"
      ]
     },
     "metadata": {},
     "output_type": "display_data"
    },
    {
     "data": {
      "application/vnd.jupyter.widget-view+json": {
       "model_id": "c33a9b1246b64e28a7b8c53ac7a325af",
       "version_major": 2,
       "version_minor": 0
      },
      "text/plain": [
       "  0%|          | 0/3 [00:00<?, ?it/s]"
      ]
     },
     "metadata": {},
     "output_type": "display_data"
    },
    {
     "data": {
      "application/vnd.jupyter.widget-view+json": {
       "model_id": "ba37aac3a9b94d50be75eba9b189b5c3",
       "version_major": 2,
       "version_minor": 0
      },
      "text/plain": [
       "  0%|          | 0/3 [00:00<?, ?it/s]"
      ]
     },
     "metadata": {},
     "output_type": "display_data"
    },
    {
     "data": {
      "application/vnd.jupyter.widget-view+json": {
       "model_id": "c3255f4c74bd426d8025551ebccc10fd",
       "version_major": 2,
       "version_minor": 0
      },
      "text/plain": [
       "  0%|          | 0/3 [00:00<?, ?it/s]"
      ]
     },
     "metadata": {},
     "output_type": "display_data"
    }
   ],
   "source": [
    "classifications_dict = {}\n",
    "\n",
    "methods = [\"PV\", \"cluster\", \"HC\"]\n",
    "\n",
    "LL_test.reset_pointer()\n",
    "\n",
    "for eps in LL_test.location_dict.keys():\n",
    "    classifications_dict[eps] = {}\n",
    "    for color in LL_test.location_dict[eps].keys():\n",
    "        if color == \"alpha\":\n",
    "            continue\n",
    "        # if color == \"gradient\" and eps == 15:\n",
    "        #     continue\n",
    "        classifications_dict[eps][color] = {}\n",
    "        method_bar = tqdm(LL_test.location_dict[eps][color].keys(), leave=False)\n",
    "        for method in method_bar:\n",
    "            classifications_dict[eps][color][method] = {}\n",
    "            for type_ in [\"laplacian\", \"normal\", \"mtilde\"]:\n",
    "                classifications_dict[eps][color][method][type_] = []\n",
    "                method_bar.set_description(f\"Processing landscapes for eps {eps}, color {color}, method {method}, type {type_}\")\n",
    "                while True:\n",
    "                    cur_land = LL_test.load(eps, color, method, type_)\n",
    "                    if cur_land is None:\n",
    "                        break\n",
    "                    dists = []\n",
    "                    for other_method in methods:\n",
    "                        mean_land = mean_landscapes[eps][color][other_method][type_]\n",
    "                        dists.append((cur_land - mean_land).norm())\n",
    "                    classifications_dict[eps][color][method][type_].append(np.argmin(dists))\n",
    "\n",
    "# for eps in LL_train.location_dict.keys():\n",
    "#     classifications_dict[eps] = {}\n",
    "#     for color in LL_train.location_dict[eps].keys():\n",
    "#         if color == \"alpha\":\n",
    "#             continue\n",
    "#         classifications_dict[eps][color] = {}\n",
    "#         method_bar = tqdm(LL_train.location_dict[eps][color].keys(), leave=False)\n",
    "#         for method in method_bar:\n",
    "#             classifications_dict[eps][color][method] = {}\n",
    "#             for type_ in [\"laplacian\", \"normal\", \"both\"]:\n",
    "#                 classifications_dict[eps][color][method][type_] = []\n",
    "#             method_bar.set_description(f\"Processing landscapes for eps {eps}, color {color}, method {method}\")\n",
    "#             while True:\n",
    "#                 cur_land_pers = LL_train.load(eps, color, method, \"normal\")\n",
    "#                 cur_land_lap = LL_train.load(eps, color, method, \"laplacian\")\n",
    "#                 if cur_land_pers is None:\n",
    "#                     break\n",
    "#                 dists_pers = []\n",
    "#                 dists_lap = []\n",
    "#                 for other_method in methods:\n",
    "#                     mean_land_pers = mean_landscapes[eps][color][other_method][\"normal\"]\n",
    "#                     mean_land_lap = mean_landscapes[eps][color][other_method][\"laplacian\"]\n",
    "#                     dists_pers.append((cur_land_pers - mean_land_pers).norm())\n",
    "#                     dists_lap.append((cur_land_lap - mean_land_lap).norm())\n",
    "#                 # print(f\"type: {type_}, min dists: {np.min(dists)}, max dists: {np.max(dists)}, mean dists: {np.mean(dists)}\")\n",
    "#                 classifications_dict[eps][color][method][\"normal\"].append(np.argmin(dists_pers))\n",
    "#                 classifications_dict[eps][color][method][\"laplacian\"].append(np.argmin(dists_lap))\n",
    "#                 dists_both = (np.array(dists_pers)-np.min(dists_pers))/(np.max(dists_pers)-np.min(dists_pers)) + (np.array(dists_lap)-np.min(dists_lap))/(np.max(dists_lap)-np.min(dists_lap))\n",
    "#                 classifications_dict[eps][color][method][\"both\"].append(np.argmin(dists_both))"
   ]
  },
  {
   "cell_type": "code",
   "execution_count": 12,
   "id": "699847e3",
   "metadata": {},
   "outputs": [],
   "source": [
    "with open(\"../ballmapper_landscapes_normal_function/classifications_dict.pkl\", \"wb\") as f:\n",
    "    pickle.dump(classifications_dict, f)"
   ]
  },
  {
   "cell_type": "code",
   "execution_count": 22,
   "id": "16a2baf6",
   "metadata": {},
   "outputs": [
    {
     "name": "stdout",
     "output_type": "stream",
     "text": [
      "eps\tcolor\t\tType\t\t\tAccuracy\tf1-score\tPV acc\t\tcluster acc\tHC acc\n",
      "15\tgradient\tnormal\t\t\t50.0%\t\t0.507\t\t45.0%\t\t45.0%\t\t60.0%\n",
      "15\tgradient\tlaplac\t\t\t46.7%\t\t0.483\t\t35.0%\t\t60.0%\t\t45.0%\n",
      "15\tgradient\tmtilde\t\t\t43.3%\t\t0.440\t\t25.0%\t\t60.0%\t\t45.0%\n",
      "15\trandom_124\tnormal\t\t\t56.7%\t\t0.558\t\t35.0%\t\t80.0%\t\t55.0%\n",
      "15\trandom_124\tlaplac\t\t\t58.3%\t\t0.581\t\t45.0%\t\t55.0%\t\t75.0%\n",
      "15\trandom_124\tmtilde\t\t\t60.0%\t\t0.596\t\t45.0%\t\t55.0%\t\t80.0%\n",
      "20\tgradient\tnormal\t\t\t51.7%\t\t0.521\t\t60.0%\t\t40.0%\t\t55.0%\n",
      "20\tgradient\tlaplac\t\t\t40.0%\t\t0.419\t\t25.0%\t\t55.0%\t\t40.0%\n",
      "20\tgradient\tmtilde\t\t\t43.3%\t\t0.451\t\t30.0%\t\t60.0%\t\t40.0%\n",
      "20\trandom_124\tnormal\t\t\t48.3%\t\t0.481\t\t35.0%\t\t60.0%\t\t50.0%\n",
      "20\trandom_124\tlaplac\t\t\t51.7%\t\t0.529\t\t40.0%\t\t60.0%\t\t55.0%\n",
      "20\trandom_124\tmtilde\t\t\t53.3%\t\t0.546\t\t40.0%\t\t60.0%\t\t60.0%\n",
      "25\tgradient\tnormal\t\t\t50.0%\t\t0.504\t\t65.0%\t\t40.0%\t\t45.0%\n",
      "25\tgradient\tlaplac\t\t\t48.3%\t\t0.487\t\t60.0%\t\t55.0%\t\t30.0%\n",
      "25\tgradient\tmtilde\t\t\t51.7%\t\t0.518\t\t60.0%\t\t65.0%\t\t30.0%\n",
      "25\trandom_124\tnormal\t\t\t43.3%\t\t0.427\t\t25.0%\t\t65.0%\t\t40.0%\n",
      "25\trandom_124\tlaplac\t\t\t43.3%\t\t0.441\t\t20.0%\t\t65.0%\t\t45.0%\n",
      "25\trandom_124\tmtilde\t\t\t45.0%\t\t0.455\t\t20.0%\t\t75.0%\t\t40.0%\n"
     ]
    }
   ],
   "source": [
    "from sklearn.metrics import f1_score\n",
    "\n",
    "print(f\"eps\\tcolor\\t\\tType\\t\\t\\tAccuracy\\tf1-score\\t{methods[0]} acc\\t\\t{methods[1]} acc\\t{methods[2]} acc\")\n",
    "for eps in [15, 20, 25]:\n",
    "    for color in [\"gradient\", \"random_124\"]:\n",
    "        # if eps == 15 and color == \"gradient\":\n",
    "        #     continue\n",
    "        for type_ in [\"normal\", \"laplacian\",  \"mtilde\"]:\n",
    "            results = np.array([])\n",
    "            y = np.array([])\n",
    "            acc_methods = []\n",
    "            for method in methods:\n",
    "                cur_results = np.array(classifications_dict[eps][color][method][type_])\n",
    "                results = np.append(results, cur_results)\n",
    "                y = np.append(y, np.ones_like(cur_results) * methods.index(method))\n",
    "                acc_methods.append(np.mean(cur_results==np.ones_like(cur_results) * methods.index(method)))\n",
    "            # if eps == 15 and color == \"random_124\":\n",
    "            #     print(cur_results)\n",
    "\n",
    "            print(f\"{eps}\\t{color}\\t{type_[:6]}\", end=\"\\t\\t\\t\")\n",
    "            print(f\"{np.mean(results==y)*100:.1f}%\\t\\t{f1_score(y, results, average='weighted'):.3f}\", end=\"\\t\\t\")\n",
    "            print(f\"{acc_methods[0]*100:.1f}%\\t\\t{acc_methods[1]*100:.1f}%\\t\\t{acc_methods[2]*100:.1f}%\")\n",
    "            # np.mean(results==y), np.std(results==y)"
   ]
  },
  {
   "cell_type": "code",
   "execution_count": 29,
   "id": "a594b727",
   "metadata": {},
   "outputs": [
    {
     "data": {
      "application/vnd.jupyter.widget-view+json": {
       "model_id": "b27fb16e46d243078413375032fda5b6",
       "version_major": 2,
       "version_minor": 0
      },
      "text/plain": [
       "Processing eps 15, alpha HC landscapes:   0%|          | 0/384 [00:00<?, ?it/s]"
      ]
     },
     "metadata": {},
     "output_type": "display_data"
    },
    {
     "data": {
      "application/vnd.jupyter.widget-view+json": {
       "model_id": "0d7292d0496e41c08ad483a3730c3e4b",
       "version_major": 2,
       "version_minor": 0
      },
      "text/plain": [
       "Processing eps 15, alpha HC mtilde landscapes:   0%|          | 0/384 [00:00<?, ?it/s]"
      ]
     },
     "metadata": {},
     "output_type": "display_data"
    },
    {
     "data": {
      "application/vnd.jupyter.widget-view+json": {
       "model_id": "8d9aebc73cd841518807b53b5a5368aa",
       "version_major": 2,
       "version_minor": 0
      },
      "text/plain": [
       "Processing eps 15, alpha PV landscapes:   0%|          | 0/400 [00:00<?, ?it/s]"
      ]
     },
     "metadata": {},
     "output_type": "display_data"
    },
    {
     "data": {
      "application/vnd.jupyter.widget-view+json": {
       "model_id": "d12c4fcd82494a1f946a977f7b04fae1",
       "version_major": 2,
       "version_minor": 0
      },
      "text/plain": [
       "Processing eps 15, alpha PV mtilde landscapes:   0%|          | 0/400 [00:00<?, ?it/s]"
      ]
     },
     "metadata": {},
     "output_type": "display_data"
    },
    {
     "data": {
      "application/vnd.jupyter.widget-view+json": {
       "model_id": "389168c1e1cb4713b1e88811c3e15ae9",
       "version_major": 2,
       "version_minor": 0
      },
      "text/plain": [
       "Processing eps 15, alpha cluster landscapes:   0%|          | 0/400 [00:00<?, ?it/s]"
      ]
     },
     "metadata": {},
     "output_type": "display_data"
    },
    {
     "data": {
      "application/vnd.jupyter.widget-view+json": {
       "model_id": "c95ef521c88b48e4be79f31d8797f1c8",
       "version_major": 2,
       "version_minor": 0
      },
      "text/plain": [
       "Processing eps 15, alpha cluster mtilde landscapes:   0%|          | 0/400 [00:00<?, ?it/s]"
      ]
     },
     "metadata": {},
     "output_type": "display_data"
    },
    {
     "data": {
      "application/vnd.jupyter.widget-view+json": {
       "model_id": "7b702d4a03a943cea54921b768972e56",
       "version_major": 2,
       "version_minor": 0
      },
      "text/plain": [
       "Processing eps 15, gradient HC landscapes:   0%|          | 0/194 [00:00<?, ?it/s]"
      ]
     },
     "metadata": {},
     "output_type": "display_data"
    },
    {
     "data": {
      "application/vnd.jupyter.widget-view+json": {
       "model_id": "bcc31e7ce11648ff9526d63be0e21d52",
       "version_major": 2,
       "version_minor": 0
      },
      "text/plain": [
       "Processing eps 15, gradient HC mtilde landscapes:   0%|          | 0/194 [00:00<?, ?it/s]"
      ]
     },
     "metadata": {},
     "output_type": "display_data"
    },
    {
     "data": {
      "application/vnd.jupyter.widget-view+json": {
       "model_id": "63d11504c81a4a96ad69a88dfc80af87",
       "version_major": 2,
       "version_minor": 0
      },
      "text/plain": [
       "Processing eps 15, gradient PV landscapes:   0%|          | 0/200 [00:00<?, ?it/s]"
      ]
     },
     "metadata": {},
     "output_type": "display_data"
    },
    {
     "data": {
      "application/vnd.jupyter.widget-view+json": {
       "model_id": "89f133d052b84bb9814b94c125080a6f",
       "version_major": 2,
       "version_minor": 0
      },
      "text/plain": [
       "Processing eps 15, gradient PV mtilde landscapes:   0%|          | 0/200 [00:00<?, ?it/s]"
      ]
     },
     "metadata": {},
     "output_type": "display_data"
    },
    {
     "data": {
      "application/vnd.jupyter.widget-view+json": {
       "model_id": "e3391078fc8e47b585674c97cbbf1431",
       "version_major": 2,
       "version_minor": 0
      },
      "text/plain": [
       "Processing eps 15, gradient cluster landscapes:   0%|          | 0/200 [00:00<?, ?it/s]"
      ]
     },
     "metadata": {},
     "output_type": "display_data"
    },
    {
     "data": {
      "application/vnd.jupyter.widget-view+json": {
       "model_id": "478e35cc54ee4e78bbf2de128cd8ee02",
       "version_major": 2,
       "version_minor": 0
      },
      "text/plain": [
       "Processing eps 15, gradient cluster mtilde landscapes:   0%|          | 0/200 [00:00<?, ?it/s]"
      ]
     },
     "metadata": {},
     "output_type": "display_data"
    },
    {
     "data": {
      "application/vnd.jupyter.widget-view+json": {
       "model_id": "74d764b848fc4a06959a49a041259ee7",
       "version_major": 2,
       "version_minor": 0
      },
      "text/plain": [
       "Processing eps 15, random_124 HC landscapes:   0%|          | 0/194 [00:00<?, ?it/s]"
      ]
     },
     "metadata": {},
     "output_type": "display_data"
    },
    {
     "data": {
      "application/vnd.jupyter.widget-view+json": {
       "model_id": "9398e8a9dddf4545b35e989b39c88349",
       "version_major": 2,
       "version_minor": 0
      },
      "text/plain": [
       "Processing eps 15, random_124 HC mtilde landscapes:   0%|          | 0/194 [00:00<?, ?it/s]"
      ]
     },
     "metadata": {},
     "output_type": "display_data"
    },
    {
     "data": {
      "application/vnd.jupyter.widget-view+json": {
       "model_id": "c9e7809800d1443696c356eda7278ba4",
       "version_major": 2,
       "version_minor": 0
      },
      "text/plain": [
       "Processing eps 15, random_124 PV landscapes:   0%|          | 0/200 [00:00<?, ?it/s]"
      ]
     },
     "metadata": {},
     "output_type": "display_data"
    },
    {
     "data": {
      "application/vnd.jupyter.widget-view+json": {
       "model_id": "f6be2e4a30a94e59938e2dc9601c5c27",
       "version_major": 2,
       "version_minor": 0
      },
      "text/plain": [
       "Processing eps 15, random_124 PV mtilde landscapes:   0%|          | 0/200 [00:00<?, ?it/s]"
      ]
     },
     "metadata": {},
     "output_type": "display_data"
    },
    {
     "data": {
      "application/vnd.jupyter.widget-view+json": {
       "model_id": "6628cfa60af5498688b5f259f1f7a958",
       "version_major": 2,
       "version_minor": 0
      },
      "text/plain": [
       "Processing eps 15, random_124 cluster landscapes:   0%|          | 0/200 [00:00<?, ?it/s]"
      ]
     },
     "metadata": {},
     "output_type": "display_data"
    },
    {
     "data": {
      "application/vnd.jupyter.widget-view+json": {
       "model_id": "dafc8cc8ad1845c2bd14038fc2a1bfe3",
       "version_major": 2,
       "version_minor": 0
      },
      "text/plain": [
       "Processing eps 15, random_124 cluster mtilde landscapes:   0%|          | 0/200 [00:00<?, ?it/s]"
      ]
     },
     "metadata": {},
     "output_type": "display_data"
    },
    {
     "data": {
      "application/vnd.jupyter.widget-view+json": {
       "model_id": "024346cca178412ba8ec340146c3953c",
       "version_major": 2,
       "version_minor": 0
      },
      "text/plain": [
       "Processing eps 20, gradient HC landscapes:   0%|          | 0/194 [00:00<?, ?it/s]"
      ]
     },
     "metadata": {},
     "output_type": "display_data"
    },
    {
     "data": {
      "application/vnd.jupyter.widget-view+json": {
       "model_id": "a65e289a6f4e4c358de8a848c2fd9980",
       "version_major": 2,
       "version_minor": 0
      },
      "text/plain": [
       "Processing eps 20, gradient HC mtilde landscapes:   0%|          | 0/194 [00:00<?, ?it/s]"
      ]
     },
     "metadata": {},
     "output_type": "display_data"
    },
    {
     "data": {
      "application/vnd.jupyter.widget-view+json": {
       "model_id": "3e5ba439ac4a4141bf682d5864effffa",
       "version_major": 2,
       "version_minor": 0
      },
      "text/plain": [
       "Processing eps 20, gradient PV landscapes:   0%|          | 0/200 [00:00<?, ?it/s]"
      ]
     },
     "metadata": {},
     "output_type": "display_data"
    },
    {
     "data": {
      "application/vnd.jupyter.widget-view+json": {
       "model_id": "5d33790d41b54bcd9419c87bef0abb3e",
       "version_major": 2,
       "version_minor": 0
      },
      "text/plain": [
       "Processing eps 20, gradient PV mtilde landscapes:   0%|          | 0/200 [00:00<?, ?it/s]"
      ]
     },
     "metadata": {},
     "output_type": "display_data"
    },
    {
     "data": {
      "application/vnd.jupyter.widget-view+json": {
       "model_id": "587ee97ea1104cbb9be8550fe29b55b1",
       "version_major": 2,
       "version_minor": 0
      },
      "text/plain": [
       "Processing eps 20, gradient cluster landscapes:   0%|          | 0/200 [00:00<?, ?it/s]"
      ]
     },
     "metadata": {},
     "output_type": "display_data"
    },
    {
     "data": {
      "application/vnd.jupyter.widget-view+json": {
       "model_id": "88414853526f477eb8b5d4e7c65df1bb",
       "version_major": 2,
       "version_minor": 0
      },
      "text/plain": [
       "Processing eps 20, gradient cluster mtilde landscapes:   0%|          | 0/200 [00:00<?, ?it/s]"
      ]
     },
     "metadata": {},
     "output_type": "display_data"
    },
    {
     "data": {
      "application/vnd.jupyter.widget-view+json": {
       "model_id": "0e2227c94e0b4dd9af05429ab7725618",
       "version_major": 2,
       "version_minor": 0
      },
      "text/plain": [
       "Processing eps 20, random_124 HC landscapes:   0%|          | 0/194 [00:00<?, ?it/s]"
      ]
     },
     "metadata": {},
     "output_type": "display_data"
    },
    {
     "data": {
      "application/vnd.jupyter.widget-view+json": {
       "model_id": "dbbc7da9aa9b4a5aa528d1d5a099b314",
       "version_major": 2,
       "version_minor": 0
      },
      "text/plain": [
       "Processing eps 20, random_124 HC mtilde landscapes:   0%|          | 0/194 [00:00<?, ?it/s]"
      ]
     },
     "metadata": {},
     "output_type": "display_data"
    },
    {
     "data": {
      "application/vnd.jupyter.widget-view+json": {
       "model_id": "d5ff59c4906745d582287f849ef322c0",
       "version_major": 2,
       "version_minor": 0
      },
      "text/plain": [
       "Processing eps 20, random_124 PV landscapes:   0%|          | 0/200 [00:00<?, ?it/s]"
      ]
     },
     "metadata": {},
     "output_type": "display_data"
    },
    {
     "data": {
      "application/vnd.jupyter.widget-view+json": {
       "model_id": "397bfcd29d6b4d81addcdacf3c38aaa1",
       "version_major": 2,
       "version_minor": 0
      },
      "text/plain": [
       "Processing eps 20, random_124 PV mtilde landscapes:   0%|          | 0/200 [00:00<?, ?it/s]"
      ]
     },
     "metadata": {},
     "output_type": "display_data"
    },
    {
     "data": {
      "application/vnd.jupyter.widget-view+json": {
       "model_id": "9a44d1f4749041e5a70434115b5ce38d",
       "version_major": 2,
       "version_minor": 0
      },
      "text/plain": [
       "Processing eps 20, random_124 cluster landscapes:   0%|          | 0/200 [00:00<?, ?it/s]"
      ]
     },
     "metadata": {},
     "output_type": "display_data"
    },
    {
     "data": {
      "application/vnd.jupyter.widget-view+json": {
       "model_id": "d7cceb0e2bee45909a11a0004fe28246",
       "version_major": 2,
       "version_minor": 0
      },
      "text/plain": [
       "Processing eps 20, random_124 cluster mtilde landscapes:   0%|          | 0/200 [00:00<?, ?it/s]"
      ]
     },
     "metadata": {},
     "output_type": "display_data"
    },
    {
     "data": {
      "application/vnd.jupyter.widget-view+json": {
       "model_id": "79508bf4d6d447ebb7d2e2cf784efe95",
       "version_major": 2,
       "version_minor": 0
      },
      "text/plain": [
       "Processing eps 25, gradient HC landscapes:   0%|          | 0/194 [00:00<?, ?it/s]"
      ]
     },
     "metadata": {},
     "output_type": "display_data"
    },
    {
     "data": {
      "application/vnd.jupyter.widget-view+json": {
       "model_id": "34b7a74042cf494b8266afcce881c834",
       "version_major": 2,
       "version_minor": 0
      },
      "text/plain": [
       "Processing eps 25, gradient HC mtilde landscapes:   0%|          | 0/194 [00:00<?, ?it/s]"
      ]
     },
     "metadata": {},
     "output_type": "display_data"
    },
    {
     "data": {
      "application/vnd.jupyter.widget-view+json": {
       "model_id": "3182ddb2b4c547bbbeb46acc65fca3a7",
       "version_major": 2,
       "version_minor": 0
      },
      "text/plain": [
       "Processing eps 25, gradient PV landscapes:   0%|          | 0/200 [00:00<?, ?it/s]"
      ]
     },
     "metadata": {},
     "output_type": "display_data"
    },
    {
     "data": {
      "application/vnd.jupyter.widget-view+json": {
       "model_id": "b35f7cfeb7334bee806e259b39d6bd62",
       "version_major": 2,
       "version_minor": 0
      },
      "text/plain": [
       "Processing eps 25, gradient PV mtilde landscapes:   0%|          | 0/200 [00:00<?, ?it/s]"
      ]
     },
     "metadata": {},
     "output_type": "display_data"
    },
    {
     "data": {
      "application/vnd.jupyter.widget-view+json": {
       "model_id": "8aaa87f0cd764f72913ac4666661b656",
       "version_major": 2,
       "version_minor": 0
      },
      "text/plain": [
       "Processing eps 25, gradient cluster landscapes:   0%|          | 0/200 [00:00<?, ?it/s]"
      ]
     },
     "metadata": {},
     "output_type": "display_data"
    },
    {
     "data": {
      "application/vnd.jupyter.widget-view+json": {
       "model_id": "9a4efe5a992c4cce9c8392f165b621bf",
       "version_major": 2,
       "version_minor": 0
      },
      "text/plain": [
       "Processing eps 25, gradient cluster mtilde landscapes:   0%|          | 0/200 [00:00<?, ?it/s]"
      ]
     },
     "metadata": {},
     "output_type": "display_data"
    },
    {
     "data": {
      "application/vnd.jupyter.widget-view+json": {
       "model_id": "fd7b14295eaa478e9380f7350d74b492",
       "version_major": 2,
       "version_minor": 0
      },
      "text/plain": [
       "Processing eps 25, random_124 HC landscapes:   0%|          | 0/194 [00:00<?, ?it/s]"
      ]
     },
     "metadata": {},
     "output_type": "display_data"
    },
    {
     "data": {
      "application/vnd.jupyter.widget-view+json": {
       "model_id": "9a6590968a73493fa21f32fa22878d64",
       "version_major": 2,
       "version_minor": 0
      },
      "text/plain": [
       "Processing eps 25, random_124 HC mtilde landscapes:   0%|          | 0/194 [00:00<?, ?it/s]"
      ]
     },
     "metadata": {},
     "output_type": "display_data"
    },
    {
     "data": {
      "application/vnd.jupyter.widget-view+json": {
       "model_id": "5fa03e1ee7ab43fc8aafcf5568163d71",
       "version_major": 2,
       "version_minor": 0
      },
      "text/plain": [
       "Processing eps 25, random_124 PV landscapes:   0%|          | 0/200 [00:00<?, ?it/s]"
      ]
     },
     "metadata": {},
     "output_type": "display_data"
    },
    {
     "data": {
      "application/vnd.jupyter.widget-view+json": {
       "model_id": "616e05f6c91240c1b938d944be8f133c",
       "version_major": 2,
       "version_minor": 0
      },
      "text/plain": [
       "Processing eps 25, random_124 PV mtilde landscapes:   0%|          | 0/200 [00:00<?, ?it/s]"
      ]
     },
     "metadata": {},
     "output_type": "display_data"
    },
    {
     "data": {
      "application/vnd.jupyter.widget-view+json": {
       "model_id": "ca6f4f5ef4bf4b0697f018be587c84fe",
       "version_major": 2,
       "version_minor": 0
      },
      "text/plain": [
       "Processing eps 25, random_124 cluster landscapes:   0%|          | 0/200 [00:00<?, ?it/s]"
      ]
     },
     "metadata": {},
     "output_type": "display_data"
    },
    {
     "data": {
      "application/vnd.jupyter.widget-view+json": {
       "model_id": "72f0f83af81f449592eaddcd8cb0dc82",
       "version_major": 2,
       "version_minor": 0
      },
      "text/plain": [
       "Processing eps 25, random_124 cluster mtilde landscapes:   0%|          | 0/200 [00:00<?, ?it/s]"
      ]
     },
     "metadata": {},
     "output_type": "display_data"
    },
    {
     "data": {
      "application/vnd.jupyter.widget-view+json": {
       "model_id": "00a76d1e1d374ddb9fdc062f57996ed0",
       "version_major": 2,
       "version_minor": 0
      },
      "text/plain": [
       "Processing eps 15, gradient feature vectors:   0%|          | 0/3 [00:00<?, ?it/s]"
      ]
     },
     "metadata": {},
     "output_type": "display_data"
    },
    {
     "data": {
      "application/vnd.jupyter.widget-view+json": {
       "model_id": "c0b24725d4054ce3a83a8a5b81816759",
       "version_major": 2,
       "version_minor": 0
      },
      "text/plain": [
       "Processing eps 15, gradient feature vectors:   0%|          | 0/3 [00:00<?, ?it/s]"
      ]
     },
     "metadata": {},
     "output_type": "display_data"
    },
    {
     "data": {
      "application/vnd.jupyter.widget-view+json": {
       "model_id": "f036217df0774fbdb58a6117e00c2580",
       "version_major": 2,
       "version_minor": 0
      },
      "text/plain": [
       "Processing eps 15, gradient feature vectors:   0%|          | 0/3 [00:00<?, ?it/s]"
      ]
     },
     "metadata": {},
     "output_type": "display_data"
    },
    {
     "data": {
      "application/vnd.jupyter.widget-view+json": {
       "model_id": "3e7f5f98413f4da2b1b61f55b2c626f0",
       "version_major": 2,
       "version_minor": 0
      },
      "text/plain": [
       "Processing eps 15, random_124 feature vectors:   0%|          | 0/3 [00:00<?, ?it/s]"
      ]
     },
     "metadata": {},
     "output_type": "display_data"
    },
    {
     "data": {
      "application/vnd.jupyter.widget-view+json": {
       "model_id": "2b36f66b9ae243e6a1bb3ae29be05f8f",
       "version_major": 2,
       "version_minor": 0
      },
      "text/plain": [
       "Processing eps 15, random_124 feature vectors:   0%|          | 0/3 [00:00<?, ?it/s]"
      ]
     },
     "metadata": {},
     "output_type": "display_data"
    },
    {
     "data": {
      "application/vnd.jupyter.widget-view+json": {
       "model_id": "263d7679850641fa8bccefd90663bda2",
       "version_major": 2,
       "version_minor": 0
      },
      "text/plain": [
       "Processing eps 15, random_124 feature vectors:   0%|          | 0/3 [00:00<?, ?it/s]"
      ]
     },
     "metadata": {},
     "output_type": "display_data"
    },
    {
     "data": {
      "application/vnd.jupyter.widget-view+json": {
       "model_id": "c26581c9cd9247bbae3c35473945a701",
       "version_major": 2,
       "version_minor": 0
      },
      "text/plain": [
       "Processing eps 20, gradient feature vectors:   0%|          | 0/3 [00:00<?, ?it/s]"
      ]
     },
     "metadata": {},
     "output_type": "display_data"
    },
    {
     "data": {
      "application/vnd.jupyter.widget-view+json": {
       "model_id": "add40b8bfc1249fc89a930823479d290",
       "version_major": 2,
       "version_minor": 0
      },
      "text/plain": [
       "Processing eps 20, gradient feature vectors:   0%|          | 0/3 [00:00<?, ?it/s]"
      ]
     },
     "metadata": {},
     "output_type": "display_data"
    },
    {
     "data": {
      "application/vnd.jupyter.widget-view+json": {
       "model_id": "87f26e9e1d7244a1acf5580c3de0f3a8",
       "version_major": 2,
       "version_minor": 0
      },
      "text/plain": [
       "Processing eps 20, gradient feature vectors:   0%|          | 0/3 [00:00<?, ?it/s]"
      ]
     },
     "metadata": {},
     "output_type": "display_data"
    },
    {
     "data": {
      "application/vnd.jupyter.widget-view+json": {
       "model_id": "3f20c6da7d2249559035bf741b9da41c",
       "version_major": 2,
       "version_minor": 0
      },
      "text/plain": [
       "Processing eps 20, random_124 feature vectors:   0%|          | 0/3 [00:00<?, ?it/s]"
      ]
     },
     "metadata": {},
     "output_type": "display_data"
    },
    {
     "data": {
      "application/vnd.jupyter.widget-view+json": {
       "model_id": "716af92ee5ae4f0088c62d6d3c06858f",
       "version_major": 2,
       "version_minor": 0
      },
      "text/plain": [
       "Processing eps 20, random_124 feature vectors:   0%|          | 0/3 [00:00<?, ?it/s]"
      ]
     },
     "metadata": {},
     "output_type": "display_data"
    },
    {
     "data": {
      "application/vnd.jupyter.widget-view+json": {
       "model_id": "16e9cac74d0847a68421b9f5df3203dc",
       "version_major": 2,
       "version_minor": 0
      },
      "text/plain": [
       "Processing eps 20, random_124 feature vectors:   0%|          | 0/3 [00:00<?, ?it/s]"
      ]
     },
     "metadata": {},
     "output_type": "display_data"
    },
    {
     "data": {
      "application/vnd.jupyter.widget-view+json": {
       "model_id": "51d0931d324d4209be6f57337a813c28",
       "version_major": 2,
       "version_minor": 0
      },
      "text/plain": [
       "Processing eps 25, gradient feature vectors:   0%|          | 0/3 [00:00<?, ?it/s]"
      ]
     },
     "metadata": {},
     "output_type": "display_data"
    },
    {
     "data": {
      "application/vnd.jupyter.widget-view+json": {
       "model_id": "11fcff96631e4bf9b97373c6a0e4d9de",
       "version_major": 2,
       "version_minor": 0
      },
      "text/plain": [
       "Processing eps 25, gradient feature vectors:   0%|          | 0/3 [00:00<?, ?it/s]"
      ]
     },
     "metadata": {},
     "output_type": "display_data"
    },
    {
     "data": {
      "application/vnd.jupyter.widget-view+json": {
       "model_id": "5024d11a6fc0490b82b81bed64628b38",
       "version_major": 2,
       "version_minor": 0
      },
      "text/plain": [
       "Processing eps 25, gradient feature vectors:   0%|          | 0/3 [00:00<?, ?it/s]"
      ]
     },
     "metadata": {},
     "output_type": "display_data"
    },
    {
     "data": {
      "application/vnd.jupyter.widget-view+json": {
       "model_id": "fd28b18765f947289573694b85068ef6",
       "version_major": 2,
       "version_minor": 0
      },
      "text/plain": [
       "Processing eps 25, random_124 feature vectors:   0%|          | 0/3 [00:00<?, ?it/s]"
      ]
     },
     "metadata": {},
     "output_type": "display_data"
    },
    {
     "data": {
      "application/vnd.jupyter.widget-view+json": {
       "model_id": "f57554729c59435584b30ed440260872",
       "version_major": 2,
       "version_minor": 0
      },
      "text/plain": [
       "Processing eps 25, random_124 feature vectors:   0%|          | 0/3 [00:00<?, ?it/s]"
      ]
     },
     "metadata": {},
     "output_type": "display_data"
    },
    {
     "data": {
      "application/vnd.jupyter.widget-view+json": {
       "model_id": "8d6ffc60be2348e187a0b0a79155e330",
       "version_major": 2,
       "version_minor": 0
      },
      "text/plain": [
       "Processing eps 25, random_124 feature vectors:   0%|          | 0/3 [00:00<?, ?it/s]"
      ]
     },
     "metadata": {},
     "output_type": "display_data"
    }
   ],
   "source": [
    "LL_all = LandscapeLoader(\"../ballmapper_landscapes_normal_function/\", \"../ballmapper_landscapes/\", [15, 20, 25])\n",
    "feature_vector_dict = {}\n",
    "\n",
    "y_target = [0]*100+[1]*100+[2]*97\n",
    "\n",
    "LL_all.reset_pointer()\n",
    "\n",
    "for eps in [15, 20, 25]:\n",
    "    feature_vector_dict[eps] = {}\n",
    "    for color in [\"gradient\", \"random_124\"]:\n",
    "        feature_vector_dict[eps][color] = {}\n",
    "        for type_ in [\"laplacian\", \"normal\", \"mtilde\"]:\n",
    "            feature_vector_dict[eps][color][type_] = []\n",
    "            for method in tqdm(methods, desc=f\"Processing eps {eps}, {color} feature vectors\", leave=False):\n",
    "                while True:\n",
    "                    cur_land = LL_all.load(eps, color, method, type_)\n",
    "                    if cur_land is None:\n",
    "                        break\n",
    "                    feature_vec = []\n",
    "                    for q in range(2):\n",
    "                        try:\n",
    "                            evals = cur_land.sum_k().evaluations[q][0]\n",
    "                        except:\n",
    "                            print(f\"Error in loading landscape for eps {eps}, color {color}, method {method}, type {type_}\")\n",
    "                            # cur_land.plot()\n",
    "                            # continue\n",
    "                            raise ValueError\n",
    "                        feature_vec.append(evals[0:len(evals)-1:2])\n",
    "                    # print(np.hstack(feature_vec).shape)\n",
    "                    feature_vector_dict[eps][color][type_].append(np.hstack(feature_vec))\n",
    "            feature_vector_dict[eps][color][type_] = np.vstack(feature_vector_dict[eps][color][type_])"
   ]
  },
  {
   "cell_type": "code",
   "execution_count": 30,
   "id": "dd393481",
   "metadata": {},
   "outputs": [],
   "source": [
    "with open(\"../ballmapper_landscapes_normal_function/feature_vector_dict.pkl\", \"wb\") as f:\n",
    "    pickle.dump(feature_vector_dict, f)"
   ]
  },
  {
   "cell_type": "code",
   "execution_count": 35,
   "id": "6c29e230",
   "metadata": {},
   "outputs": [
    {
     "name": "stdout",
     "output_type": "stream",
     "text": [
      "type\t\tAccuracy on test set\n",
      "15\tgradient\tnorma\t\t50.0%\t60.0%\t75.0%\t15.0%\n",
      "15\tgradient\tlapla\t\t33.3%\t35.0%\t45.0%\t20.0%\n",
      "15\tgradient\tmtild\t\t40.0%\t30.0%\t55.0%\t35.0%\n",
      "15\trandom_124\tnorma\t\t56.7%\t35.0%\t90.0%\t45.0%\n",
      "15\trandom_124\tlapla\t\t63.3%\t50.0%\t80.0%\t60.0%\n",
      "15\trandom_124\tmtild\t\t55.0%\t25.0%\t80.0%\t60.0%\n",
      "20\tgradient\tnorma\t\t51.7%\t75.0%\t80.0%\t0.0%\n",
      "20\tgradient\tlapla\t\t40.0%\t45.0%\t50.0%\t25.0%\n",
      "20\tgradient\tmtild\t\t40.0%\t30.0%\t60.0%\t30.0%\n",
      "20\trandom_124\tnorma\t\t56.7%\t40.0%\t90.0%\t40.0%\n",
      "20\trandom_124\tlapla\t\t61.7%\t55.0%\t85.0%\t45.0%\n",
      "20\trandom_124\tmtild\t\t61.7%\t55.0%\t85.0%\t45.0%\n",
      "25\tgradient\tnorma\t\t51.7%\t70.0%\t80.0%\t5.0%\n",
      "25\tgradient\tlapla\t\t50.0%\t70.0%\t45.0%\t35.0%\n",
      "25\tgradient\tmtild\t\t50.0%\t60.0%\t60.0%\t30.0%\n",
      "25\trandom_124\tnorma\t\t60.0%\t55.0%\t90.0%\t35.0%\n",
      "25\trandom_124\tlapla\t\t53.3%\t35.0%\t90.0%\t35.0%\n",
      "25\trandom_124\tmtild\t\t51.7%\t35.0%\t85.0%\t35.0%\n"
     ]
    }
   ],
   "source": [
    "from sklearn.metrics import confusion_matrix\n",
    "\n",
    "print(\"type\\t\\tAccuracy on test set\")\n",
    "for eps in [15, 20, 25]:\n",
    "    for color in [\"gradient\", \"random_124\"]:\n",
    "        for type_ in [\"normal\",\"laplacian\", \"mtilde\"]:\n",
    "            # print(f\"{eps}\\t{color[-1]}\\t{type_}\", end=\"\\t\\t\")\n",
    "            print(f\"{eps}\\t{color}\\t{type_[:5]}\", end=\"\\t\\t\")\n",
    "            X = feature_vector_dict[eps][color][type_]\n",
    "            y = np.array(y_target)\n",
    "            X_train, X_test, y_train, y_test = train_test_split(X, y, test_size=0.2, random_state=42, stratify=y)\n",
    "            LR_model = LogisticRegression(max_iter=5000, random_state=42)\n",
    "            LR_model.fit(X_train, y_train)\n",
    "            print(f\"{LR_model.score(X_test, y_test)*100:.1f}%\", end=\"\\t\")\n",
    "            cm = confusion_matrix(y_test, LR_model.predict(X_test), labels=list(range(len(methods))), normalize='true')\n",
    "            print(f\"{cm[0,0]*100:.1f}%\\t{cm[1,1]*100:.1f}%\\t{cm[2,2]*100:.1f}%\")"
   ]
  }
 ],
 "metadata": {
  "kernelspec": {
   "display_name": "thesis",
   "language": "python",
   "name": "python3"
  },
  "language_info": {
   "codemirror_mode": {
    "name": "ipython",
    "version": 3
   },
   "file_extension": ".py",
   "mimetype": "text/x-python",
   "name": "python",
   "nbconvert_exporter": "python",
   "pygments_lexer": "ipython3",
   "version": "3.9.21"
  }
 },
 "nbformat": 4,
 "nbformat_minor": 5
}
