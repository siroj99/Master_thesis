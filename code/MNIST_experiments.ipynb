{
 "cells": [
  {
   "cell_type": "code",
   "execution_count": 1,
   "metadata": {},
   "outputs": [],
   "source": [
    "from landscapes import *\n",
    "import os\n",
    "import os.path as osp\n",
    "import pickle"
   ]
  },
  {
   "cell_type": "code",
   "execution_count": 2,
   "metadata": {},
   "outputs": [],
   "source": [
    "def Laplacian_fun(B22_st, B22_stm1, B22_sm1t, B22_sm1tm1, eye):\n",
    "    # return B22_stm1@B22_sm1t@(eye-B22_st)@B22_sm1t\n",
    "    # return B22_sm1t@(eye-B22_st)@B22_sm1t@B22_stm1\n",
    "    # return B22_sm1t@B22_stm1@(eye-B22_st)@B22_stm1\n",
    "    # return B22_stm1@(eye-B22_st)@B22_stm1@B22_sm1t\n",
    "    # return B22_sm1tm1-B22_sm1t-B22_stm1+B22_st\n",
    "\n",
    "    \n",
    "    # return B22_stm1@B22_sm1t+B22_sm1t@B22_stm1-2*B22_st\n",
    "    # return eye-B22_st\n",
    "\n",
    "    # return B22_stm1@(eye-B22_st)@(eye - B22_sm1tm1 + B22_sm1t)\n",
    "\n",
    "    # Best\n",
    "    # return B22_sm1t@B22_stm1-B22_st\n",
    "\n",
    "    # Normal\n",
    "    return B22_stm1 - B22_st - B22_sm1tm1 + B22_sm1t"
   ]
  },
  {
   "cell_type": "code",
   "execution_count": 3,
   "metadata": {},
   "outputs": [],
   "source": [
    "class LandscapeLoader():\n",
    "    def __init__(self, path_to_landscapes, epsilons, min_image_i = 0, max_image_i=7000):\n",
    "        self.path_to_landscapes = path_to_landscapes\n",
    "        self.epsilons = epsilons\n",
    "        \n",
    "\n",
    "        self.location_dict = {}\n",
    "        self.location_pointers = {}\n",
    "        for eps in epsilons:\n",
    "            path_to_landscapes = f\"../mnist_ballmapper/sample_size_7000/eps_{eps}\"\n",
    "            self.location_dict[eps] = {}\n",
    "            self.location_pointers[eps] = {}\n",
    "            for color in sorted(os.listdir(path_to_landscapes)):\n",
    "                self.location_dict[eps][color] = {}\n",
    "                self.location_pointers[eps][color] = {}\n",
    "                for digit in sorted(os.listdir(osp.join(path_to_landscapes, color))):\n",
    "                    self.location_dict[eps][color][digit] = {\"lap\": [], \"pers\": []}\n",
    "                    self.location_pointers[eps][color][digit] = {\"lap\": 0, \"pers\": 0}\n",
    "                    for land_file in tqdm(sorted(os.listdir(osp.join(path_to_landscapes, color, digit))), leave=False, desc=f\"Processing eps {eps}, {color} {digit} landscapes\"):\n",
    "                        if not land_file.endswith(\".pkl\"):\n",
    "                            continue\n",
    "                        image_i = int(land_file[:-4].split(\"_\")[2])\n",
    "                        if image_i < min_image_i or image_i > max_image_i:\n",
    "                            continue\n",
    "                        self.location_dict[eps][color][digit][land_file.split(\"_\")[0]].append(osp.join(path_to_landscapes, color, digit, land_file))\n",
    "                        # with open(osp.join(path_to_landscapes, color, digit, land_file), \"rb\") as f:\n",
    "                        #     land = pickle.load(f)\n",
    "                        # if land_file.split(\"_\")[0] == \"pers\":\n",
    "                        #     land_dict[eps][color][digit][land_file.split(\"_\")[0]].append(land.__mult__(1))\n",
    "                        # else:\n",
    "                        #     land_dict[eps][color][digit][land_file.split(\"_\")[0]].append(land.__mult__(1))\n",
    "\n",
    "    def reset_pointer(self, eps_list=None, color_list=None, digit_list=None, type_list=None):\n",
    "        if eps_list is None:\n",
    "            eps_list = self.location_pointers.keys()\n",
    "        for eps in eps_list:\n",
    "            if color_list is None:\n",
    "                color_list = self.location_pointers[eps].keys()\n",
    "            for color in color_list:\n",
    "                if digit_list is None:\n",
    "                    digit_list = self.location_pointers[eps][color].keys()\n",
    "                for digit in digit_list:\n",
    "                    if type_list is None:\n",
    "                        type_list = [\"lap\", \"pers\"]\n",
    "                    for type_ in type_list:\n",
    "                        self.location_pointers[eps][color][digit][type_] = 0\n",
    "                        # self.location_pointers[eps][color][digit][\"pers\"] = 0\n",
    "\n",
    "    def load(self, eps, color, digit, type_):\n",
    "        if self.location_pointers[eps][color][digit][type_] >= len(self.location_dict[eps][color][digit][type_]):\n",
    "            return None\n",
    "        path = self.location_dict[eps][color][digit][type_][self.location_pointers[eps][color][digit][type_]]\n",
    "        self.location_pointers[eps][color][digit][type_] += 1\n",
    "        with open(path, \"rb\") as f:\n",
    "            land = pickle.load(f)\n",
    "        return land#.__mult__(1) if type_ == \"pers\" else land\n",
    "        "
   ]
  },
  {
   "cell_type": "code",
   "execution_count": 52,
   "metadata": {},
   "outputs": [
    {
     "data": {
      "application/vnd.jupyter.widget-view+json": {
       "model_id": "5947fd76a8fa42249bad92ae2db4e591",
       "version_major": 2,
       "version_minor": 0
      },
      "text/plain": [
       "Processing eps 1.5, color_x 0 landscapes:   0%|          | 0/1338 [00:00<?, ?it/s]"
      ]
     },
     "metadata": {},
     "output_type": "display_data"
    },
    {
     "data": {
      "application/vnd.jupyter.widget-view+json": {
       "model_id": "a509d753380249edbcfdfc4943cb146c",
       "version_major": 2,
       "version_minor": 0
      },
      "text/plain": [
       "Processing eps 1.5, color_x 1 landscapes:   0%|          | 0/1658 [00:00<?, ?it/s]"
      ]
     },
     "metadata": {},
     "output_type": "display_data"
    },
    {
     "data": {
      "application/vnd.jupyter.widget-view+json": {
       "model_id": "501b24d87b354801af105b522eb08a0a",
       "version_major": 2,
       "version_minor": 0
      },
      "text/plain": [
       "Processing eps 1.5, color_x 2 landscapes:   0%|          | 0/1376 [00:00<?, ?it/s]"
      ]
     },
     "metadata": {},
     "output_type": "display_data"
    },
    {
     "data": {
      "application/vnd.jupyter.widget-view+json": {
       "model_id": "3519c3add1324735b1255dd1c978d86f",
       "version_major": 2,
       "version_minor": 0
      },
      "text/plain": [
       "Processing eps 1.5, color_x 3 landscapes:   0%|          | 0/1384 [00:00<?, ?it/s]"
      ]
     },
     "metadata": {},
     "output_type": "display_data"
    },
    {
     "data": {
      "application/vnd.jupyter.widget-view+json": {
       "model_id": "dd9577f35d2e433096eaedd317d8fa56",
       "version_major": 2,
       "version_minor": 0
      },
      "text/plain": [
       "Processing eps 1.5, color_x 4 landscapes:   0%|          | 0/1314 [00:00<?, ?it/s]"
      ]
     },
     "metadata": {},
     "output_type": "display_data"
    },
    {
     "data": {
      "application/vnd.jupyter.widget-view+json": {
       "model_id": "d9006eb1d9ca42ea8f268e23738a4e72",
       "version_major": 2,
       "version_minor": 0
      },
      "text/plain": [
       "Processing eps 1.5, color_x 5 landscapes:   0%|          | 0/1250 [00:00<?, ?it/s]"
      ]
     },
     "metadata": {},
     "output_type": "display_data"
    },
    {
     "data": {
      "application/vnd.jupyter.widget-view+json": {
       "model_id": "5df23446537847f0b6b49033cce233fd",
       "version_major": 2,
       "version_minor": 0
      },
      "text/plain": [
       "Processing eps 1.5, color_x 6 landscapes:   0%|          | 0/1434 [00:00<?, ?it/s]"
      ]
     },
     "metadata": {},
     "output_type": "display_data"
    },
    {
     "data": {
      "application/vnd.jupyter.widget-view+json": {
       "model_id": "4200e989b7c6436d84eaa6550bef7c4c",
       "version_major": 2,
       "version_minor": 0
      },
      "text/plain": [
       "Processing eps 1.5, color_x 7 landscapes:   0%|          | 0/1498 [00:00<?, ?it/s]"
      ]
     },
     "metadata": {},
     "output_type": "display_data"
    },
    {
     "data": {
      "application/vnd.jupyter.widget-view+json": {
       "model_id": "ca02caab1335405784b4504e8a927cf5",
       "version_major": 2,
       "version_minor": 0
      },
      "text/plain": [
       "Processing eps 1.5, color_x 8 landscapes:   0%|          | 0/1386 [00:00<?, ?it/s]"
      ]
     },
     "metadata": {},
     "output_type": "display_data"
    },
    {
     "data": {
      "application/vnd.jupyter.widget-view+json": {
       "model_id": "c1e38c57ae5b41758f1d3a51c279d66c",
       "version_major": 2,
       "version_minor": 0
      },
      "text/plain": [
       "Processing eps 1.5, color_x 9 landscapes:   0%|          | 0/1362 [00:00<?, ?it/s]"
      ]
     },
     "metadata": {},
     "output_type": "display_data"
    },
    {
     "data": {
      "application/vnd.jupyter.widget-view+json": {
       "model_id": "e7b5dc313979471390695e19bc76d596",
       "version_major": 2,
       "version_minor": 0
      },
      "text/plain": [
       "Processing eps 1.5, color_y 0 landscapes:   0%|          | 0/1338 [00:00<?, ?it/s]"
      ]
     },
     "metadata": {},
     "output_type": "display_data"
    },
    {
     "data": {
      "application/vnd.jupyter.widget-view+json": {
       "model_id": "11aecc604ee74c258c0e96fcd00c5077",
       "version_major": 2,
       "version_minor": 0
      },
      "text/plain": [
       "Processing eps 1.5, color_y 1 landscapes:   0%|          | 0/1658 [00:00<?, ?it/s]"
      ]
     },
     "metadata": {},
     "output_type": "display_data"
    },
    {
     "data": {
      "application/vnd.jupyter.widget-view+json": {
       "model_id": "207ff097eaa043ba911c4600ac7527d1",
       "version_major": 2,
       "version_minor": 0
      },
      "text/plain": [
       "Processing eps 1.5, color_y 2 landscapes:   0%|          | 0/1376 [00:00<?, ?it/s]"
      ]
     },
     "metadata": {},
     "output_type": "display_data"
    },
    {
     "data": {
      "application/vnd.jupyter.widget-view+json": {
       "model_id": "6e5b606e74c7469cac52afa5054fddcb",
       "version_major": 2,
       "version_minor": 0
      },
      "text/plain": [
       "Processing eps 1.5, color_y 3 landscapes:   0%|          | 0/1384 [00:00<?, ?it/s]"
      ]
     },
     "metadata": {},
     "output_type": "display_data"
    },
    {
     "data": {
      "application/vnd.jupyter.widget-view+json": {
       "model_id": "bbd501a13b40404aa6ee82527dd3bb7c",
       "version_major": 2,
       "version_minor": 0
      },
      "text/plain": [
       "Processing eps 1.5, color_y 4 landscapes:   0%|          | 0/1314 [00:00<?, ?it/s]"
      ]
     },
     "metadata": {},
     "output_type": "display_data"
    },
    {
     "data": {
      "application/vnd.jupyter.widget-view+json": {
       "model_id": "62001fdee1ac4513a91f9ea895902c23",
       "version_major": 2,
       "version_minor": 0
      },
      "text/plain": [
       "Processing eps 1.5, color_y 5 landscapes:   0%|          | 0/1250 [00:00<?, ?it/s]"
      ]
     },
     "metadata": {},
     "output_type": "display_data"
    },
    {
     "data": {
      "application/vnd.jupyter.widget-view+json": {
       "model_id": "c90e43e8128147c08740240eb0503f91",
       "version_major": 2,
       "version_minor": 0
      },
      "text/plain": [
       "Processing eps 1.5, color_y 6 landscapes:   0%|          | 0/1434 [00:00<?, ?it/s]"
      ]
     },
     "metadata": {},
     "output_type": "display_data"
    },
    {
     "data": {
      "application/vnd.jupyter.widget-view+json": {
       "model_id": "061cd11ae7a440c39c20801ba2920f1d",
       "version_major": 2,
       "version_minor": 0
      },
      "text/plain": [
       "Processing eps 1.5, color_y 7 landscapes:   0%|          | 0/1498 [00:00<?, ?it/s]"
      ]
     },
     "metadata": {},
     "output_type": "display_data"
    },
    {
     "data": {
      "application/vnd.jupyter.widget-view+json": {
       "model_id": "953eda53a8ab4f68878fac26bf14ca58",
       "version_major": 2,
       "version_minor": 0
      },
      "text/plain": [
       "Processing eps 1.5, color_y 8 landscapes:   0%|          | 0/1386 [00:00<?, ?it/s]"
      ]
     },
     "metadata": {},
     "output_type": "display_data"
    },
    {
     "data": {
      "application/vnd.jupyter.widget-view+json": {
       "model_id": "6f4635ce167442a7979d7db6facf932b",
       "version_major": 2,
       "version_minor": 0
      },
      "text/plain": [
       "Processing eps 1.5, color_y 9 landscapes:   0%|          | 0/1362 [00:00<?, ?it/s]"
      ]
     },
     "metadata": {},
     "output_type": "display_data"
    },
    {
     "data": {
      "application/vnd.jupyter.widget-view+json": {
       "model_id": "cbe3d11955be4c7ea72bf6f2c4f4c6d8",
       "version_major": 2,
       "version_minor": 0
      },
      "text/plain": [
       "Processing eps 2, color_x 0 landscapes:   0%|          | 0/1338 [00:00<?, ?it/s]"
      ]
     },
     "metadata": {},
     "output_type": "display_data"
    },
    {
     "data": {
      "application/vnd.jupyter.widget-view+json": {
       "model_id": "d7d73b35de7d48308e3ff73646e93c35",
       "version_major": 2,
       "version_minor": 0
      },
      "text/plain": [
       "Processing eps 2, color_x 1 landscapes:   0%|          | 0/1658 [00:00<?, ?it/s]"
      ]
     },
     "metadata": {},
     "output_type": "display_data"
    },
    {
     "data": {
      "application/vnd.jupyter.widget-view+json": {
       "model_id": "39d0ebb538bf43cd8a408352f9b9e35a",
       "version_major": 2,
       "version_minor": 0
      },
      "text/plain": [
       "Processing eps 2, color_x 2 landscapes:   0%|          | 0/1376 [00:00<?, ?it/s]"
      ]
     },
     "metadata": {},
     "output_type": "display_data"
    },
    {
     "data": {
      "application/vnd.jupyter.widget-view+json": {
       "model_id": "04899f83e65048128ce6f24d7e1bb6b7",
       "version_major": 2,
       "version_minor": 0
      },
      "text/plain": [
       "Processing eps 2, color_x 3 landscapes:   0%|          | 0/1384 [00:00<?, ?it/s]"
      ]
     },
     "metadata": {},
     "output_type": "display_data"
    },
    {
     "data": {
      "application/vnd.jupyter.widget-view+json": {
       "model_id": "3876333b49f24d2dbcfdee2dcce4df0a",
       "version_major": 2,
       "version_minor": 0
      },
      "text/plain": [
       "Processing eps 2, color_x 4 landscapes:   0%|          | 0/1314 [00:00<?, ?it/s]"
      ]
     },
     "metadata": {},
     "output_type": "display_data"
    },
    {
     "data": {
      "application/vnd.jupyter.widget-view+json": {
       "model_id": "47d326425a00472297f2df76e786794e",
       "version_major": 2,
       "version_minor": 0
      },
      "text/plain": [
       "Processing eps 2, color_x 5 landscapes:   0%|          | 0/1250 [00:00<?, ?it/s]"
      ]
     },
     "metadata": {},
     "output_type": "display_data"
    },
    {
     "data": {
      "application/vnd.jupyter.widget-view+json": {
       "model_id": "b07a9a2dc47b4e4fa5a801c5d3350795",
       "version_major": 2,
       "version_minor": 0
      },
      "text/plain": [
       "Processing eps 2, color_x 6 landscapes:   0%|          | 0/1434 [00:00<?, ?it/s]"
      ]
     },
     "metadata": {},
     "output_type": "display_data"
    },
    {
     "data": {
      "application/vnd.jupyter.widget-view+json": {
       "model_id": "ec4499a673a94337ba8785efe333cc1c",
       "version_major": 2,
       "version_minor": 0
      },
      "text/plain": [
       "Processing eps 2, color_x 7 landscapes:   0%|          | 0/1498 [00:00<?, ?it/s]"
      ]
     },
     "metadata": {},
     "output_type": "display_data"
    },
    {
     "data": {
      "application/vnd.jupyter.widget-view+json": {
       "model_id": "d08971e10bef46efb72faa9453947ac0",
       "version_major": 2,
       "version_minor": 0
      },
      "text/plain": [
       "Processing eps 2, color_x 8 landscapes:   0%|          | 0/1386 [00:00<?, ?it/s]"
      ]
     },
     "metadata": {},
     "output_type": "display_data"
    },
    {
     "data": {
      "application/vnd.jupyter.widget-view+json": {
       "model_id": "10182ae7d57c45dbac32f97482dd77ac",
       "version_major": 2,
       "version_minor": 0
      },
      "text/plain": [
       "Processing eps 2, color_x 9 landscapes:   0%|          | 0/1362 [00:00<?, ?it/s]"
      ]
     },
     "metadata": {},
     "output_type": "display_data"
    },
    {
     "data": {
      "application/vnd.jupyter.widget-view+json": {
       "model_id": "6cab462fcf6648338dd174938976c4bd",
       "version_major": 2,
       "version_minor": 0
      },
      "text/plain": [
       "Processing eps 2, color_y 0 landscapes:   0%|          | 0/1338 [00:00<?, ?it/s]"
      ]
     },
     "metadata": {},
     "output_type": "display_data"
    },
    {
     "data": {
      "application/vnd.jupyter.widget-view+json": {
       "model_id": "f79202ae1701415e92887d2f0924fc69",
       "version_major": 2,
       "version_minor": 0
      },
      "text/plain": [
       "Processing eps 2, color_y 1 landscapes:   0%|          | 0/1658 [00:00<?, ?it/s]"
      ]
     },
     "metadata": {},
     "output_type": "display_data"
    },
    {
     "data": {
      "application/vnd.jupyter.widget-view+json": {
       "model_id": "cb8a0a642eed40398108e65430018aec",
       "version_major": 2,
       "version_minor": 0
      },
      "text/plain": [
       "Processing eps 2, color_y 2 landscapes:   0%|          | 0/1376 [00:00<?, ?it/s]"
      ]
     },
     "metadata": {},
     "output_type": "display_data"
    },
    {
     "data": {
      "application/vnd.jupyter.widget-view+json": {
       "model_id": "aed76144ec8b40b19e2baea9856d1218",
       "version_major": 2,
       "version_minor": 0
      },
      "text/plain": [
       "Processing eps 2, color_y 3 landscapes:   0%|          | 0/1384 [00:00<?, ?it/s]"
      ]
     },
     "metadata": {},
     "output_type": "display_data"
    },
    {
     "data": {
      "application/vnd.jupyter.widget-view+json": {
       "model_id": "f5bb2310143445b19e728398c16d6265",
       "version_major": 2,
       "version_minor": 0
      },
      "text/plain": [
       "Processing eps 2, color_y 4 landscapes:   0%|          | 0/1314 [00:00<?, ?it/s]"
      ]
     },
     "metadata": {},
     "output_type": "display_data"
    },
    {
     "data": {
      "application/vnd.jupyter.widget-view+json": {
       "model_id": "641a63f0b94740deb96ca9d907b04bb2",
       "version_major": 2,
       "version_minor": 0
      },
      "text/plain": [
       "Processing eps 2, color_y 5 landscapes:   0%|          | 0/1250 [00:00<?, ?it/s]"
      ]
     },
     "metadata": {},
     "output_type": "display_data"
    },
    {
     "data": {
      "application/vnd.jupyter.widget-view+json": {
       "model_id": "b528de3d78a24b01a6e356a5b50ba190",
       "version_major": 2,
       "version_minor": 0
      },
      "text/plain": [
       "Processing eps 2, color_y 6 landscapes:   0%|          | 0/1434 [00:00<?, ?it/s]"
      ]
     },
     "metadata": {},
     "output_type": "display_data"
    },
    {
     "data": {
      "application/vnd.jupyter.widget-view+json": {
       "model_id": "ef9842da0e7b40baaf16b79ba9422448",
       "version_major": 2,
       "version_minor": 0
      },
      "text/plain": [
       "Processing eps 2, color_y 7 landscapes:   0%|          | 0/1498 [00:00<?, ?it/s]"
      ]
     },
     "metadata": {},
     "output_type": "display_data"
    },
    {
     "data": {
      "application/vnd.jupyter.widget-view+json": {
       "model_id": "39059f2f44234ad0b0ec0614888b3e2d",
       "version_major": 2,
       "version_minor": 0
      },
      "text/plain": [
       "Processing eps 2, color_y 8 landscapes:   0%|          | 0/1386 [00:00<?, ?it/s]"
      ]
     },
     "metadata": {},
     "output_type": "display_data"
    },
    {
     "data": {
      "application/vnd.jupyter.widget-view+json": {
       "model_id": "ba670f3a91444b22a672a4866e5c3828",
       "version_major": 2,
       "version_minor": 0
      },
      "text/plain": [
       "Processing eps 2, color_y 9 landscapes:   0%|          | 0/1362 [00:00<?, ?it/s]"
      ]
     },
     "metadata": {},
     "output_type": "display_data"
    },
    {
     "data": {
      "application/vnd.jupyter.widget-view+json": {
       "model_id": "2d2c24a75aa54bc890b02660ec134562",
       "version_major": 2,
       "version_minor": 0
      },
      "text/plain": [
       "Processing eps 2.5, color_x 0 landscapes:   0%|          | 0/1338 [00:00<?, ?it/s]"
      ]
     },
     "metadata": {},
     "output_type": "display_data"
    },
    {
     "data": {
      "application/vnd.jupyter.widget-view+json": {
       "model_id": "1f247d940978418b89aee94ec5045bc4",
       "version_major": 2,
       "version_minor": 0
      },
      "text/plain": [
       "Processing eps 2.5, color_x 1 landscapes:   0%|          | 0/1658 [00:00<?, ?it/s]"
      ]
     },
     "metadata": {},
     "output_type": "display_data"
    },
    {
     "data": {
      "application/vnd.jupyter.widget-view+json": {
       "model_id": "e482c0f4236247c2b181985c9328757c",
       "version_major": 2,
       "version_minor": 0
      },
      "text/plain": [
       "Processing eps 2.5, color_x 2 landscapes:   0%|          | 0/1376 [00:00<?, ?it/s]"
      ]
     },
     "metadata": {},
     "output_type": "display_data"
    },
    {
     "data": {
      "application/vnd.jupyter.widget-view+json": {
       "model_id": "10b6846fa5454133bd7c6652c9871caa",
       "version_major": 2,
       "version_minor": 0
      },
      "text/plain": [
       "Processing eps 2.5, color_x 3 landscapes:   0%|          | 0/1384 [00:00<?, ?it/s]"
      ]
     },
     "metadata": {},
     "output_type": "display_data"
    },
    {
     "data": {
      "application/vnd.jupyter.widget-view+json": {
       "model_id": "cdefa7cd84d44526b8f2a1de5c5cd781",
       "version_major": 2,
       "version_minor": 0
      },
      "text/plain": [
       "Processing eps 2.5, color_x 4 landscapes:   0%|          | 0/1314 [00:00<?, ?it/s]"
      ]
     },
     "metadata": {},
     "output_type": "display_data"
    },
    {
     "data": {
      "application/vnd.jupyter.widget-view+json": {
       "model_id": "15a07264540943e2994fe825a96ea867",
       "version_major": 2,
       "version_minor": 0
      },
      "text/plain": [
       "Processing eps 2.5, color_x 5 landscapes:   0%|          | 0/1250 [00:00<?, ?it/s]"
      ]
     },
     "metadata": {},
     "output_type": "display_data"
    },
    {
     "data": {
      "application/vnd.jupyter.widget-view+json": {
       "model_id": "86d2a5cb032846beae0b1f16b751acb6",
       "version_major": 2,
       "version_minor": 0
      },
      "text/plain": [
       "Processing eps 2.5, color_x 6 landscapes:   0%|          | 0/1434 [00:00<?, ?it/s]"
      ]
     },
     "metadata": {},
     "output_type": "display_data"
    },
    {
     "data": {
      "application/vnd.jupyter.widget-view+json": {
       "model_id": "85947d034c0a447fa771aad7458512bb",
       "version_major": 2,
       "version_minor": 0
      },
      "text/plain": [
       "Processing eps 2.5, color_x 7 landscapes:   0%|          | 0/1498 [00:00<?, ?it/s]"
      ]
     },
     "metadata": {},
     "output_type": "display_data"
    },
    {
     "data": {
      "application/vnd.jupyter.widget-view+json": {
       "model_id": "2a21e955f108434a868541060e34075d",
       "version_major": 2,
       "version_minor": 0
      },
      "text/plain": [
       "Processing eps 2.5, color_x 8 landscapes:   0%|          | 0/1386 [00:00<?, ?it/s]"
      ]
     },
     "metadata": {},
     "output_type": "display_data"
    },
    {
     "data": {
      "application/vnd.jupyter.widget-view+json": {
       "model_id": "dc45196d367c458bab8f94e599bae348",
       "version_major": 2,
       "version_minor": 0
      },
      "text/plain": [
       "Processing eps 2.5, color_x 9 landscapes:   0%|          | 0/1362 [00:00<?, ?it/s]"
      ]
     },
     "metadata": {},
     "output_type": "display_data"
    },
    {
     "data": {
      "application/vnd.jupyter.widget-view+json": {
       "model_id": "738c151195894690813eacc7d314fadc",
       "version_major": 2,
       "version_minor": 0
      },
      "text/plain": [
       "Processing eps 2.5, color_y 0 landscapes:   0%|          | 0/1338 [00:00<?, ?it/s]"
      ]
     },
     "metadata": {},
     "output_type": "display_data"
    },
    {
     "data": {
      "application/vnd.jupyter.widget-view+json": {
       "model_id": "b73236bd3fc64fd4b1887fac252ea27b",
       "version_major": 2,
       "version_minor": 0
      },
      "text/plain": [
       "Processing eps 2.5, color_y 1 landscapes:   0%|          | 0/1658 [00:00<?, ?it/s]"
      ]
     },
     "metadata": {},
     "output_type": "display_data"
    },
    {
     "data": {
      "application/vnd.jupyter.widget-view+json": {
       "model_id": "a86a2552965742da8dd92fa410dd7559",
       "version_major": 2,
       "version_minor": 0
      },
      "text/plain": [
       "Processing eps 2.5, color_y 2 landscapes:   0%|          | 0/1376 [00:00<?, ?it/s]"
      ]
     },
     "metadata": {},
     "output_type": "display_data"
    },
    {
     "data": {
      "application/vnd.jupyter.widget-view+json": {
       "model_id": "bf6de687f1bb404981771fa73bbb4d40",
       "version_major": 2,
       "version_minor": 0
      },
      "text/plain": [
       "Processing eps 2.5, color_y 3 landscapes:   0%|          | 0/1384 [00:00<?, ?it/s]"
      ]
     },
     "metadata": {},
     "output_type": "display_data"
    },
    {
     "data": {
      "application/vnd.jupyter.widget-view+json": {
       "model_id": "9a18af83ace3431495620b2964fe103c",
       "version_major": 2,
       "version_minor": 0
      },
      "text/plain": [
       "Processing eps 2.5, color_y 4 landscapes:   0%|          | 0/1314 [00:00<?, ?it/s]"
      ]
     },
     "metadata": {},
     "output_type": "display_data"
    },
    {
     "data": {
      "application/vnd.jupyter.widget-view+json": {
       "model_id": "1cdd09933db7470c98bd5abb9d6e52ea",
       "version_major": 2,
       "version_minor": 0
      },
      "text/plain": [
       "Processing eps 2.5, color_y 5 landscapes:   0%|          | 0/1250 [00:00<?, ?it/s]"
      ]
     },
     "metadata": {},
     "output_type": "display_data"
    },
    {
     "data": {
      "application/vnd.jupyter.widget-view+json": {
       "model_id": "bad971bffbc34fe29df6268c2eaf4a2f",
       "version_major": 2,
       "version_minor": 0
      },
      "text/plain": [
       "Processing eps 2.5, color_y 6 landscapes:   0%|          | 0/1434 [00:00<?, ?it/s]"
      ]
     },
     "metadata": {},
     "output_type": "display_data"
    },
    {
     "data": {
      "application/vnd.jupyter.widget-view+json": {
       "model_id": "f8f8ac89d11d45f1931d7773d888cc38",
       "version_major": 2,
       "version_minor": 0
      },
      "text/plain": [
       "Processing eps 2.5, color_y 7 landscapes:   0%|          | 0/1498 [00:00<?, ?it/s]"
      ]
     },
     "metadata": {},
     "output_type": "display_data"
    },
    {
     "data": {
      "application/vnd.jupyter.widget-view+json": {
       "model_id": "139b9ddbcd7348c687b8f0980d70350d",
       "version_major": 2,
       "version_minor": 0
      },
      "text/plain": [
       "Processing eps 2.5, color_y 8 landscapes:   0%|          | 0/1386 [00:00<?, ?it/s]"
      ]
     },
     "metadata": {},
     "output_type": "display_data"
    },
    {
     "data": {
      "application/vnd.jupyter.widget-view+json": {
       "model_id": "ebab74cf13e744f9aa92de7d5018d69f",
       "version_major": 2,
       "version_minor": 0
      },
      "text/plain": [
       "Processing eps 2.5, color_y 9 landscapes:   0%|          | 0/1362 [00:00<?, ?it/s]"
      ]
     },
     "metadata": {},
     "output_type": "display_data"
    },
    {
     "data": {
      "application/vnd.jupyter.widget-view+json": {
       "model_id": "bd7777409fd04f4d9c0f089dfc44915b",
       "version_major": 2,
       "version_minor": 0
      },
      "text/plain": [
       "Processing eps 3, color_x 0 landscapes:   0%|          | 0/1338 [00:00<?, ?it/s]"
      ]
     },
     "metadata": {},
     "output_type": "display_data"
    },
    {
     "data": {
      "application/vnd.jupyter.widget-view+json": {
       "model_id": "cb4dbafd1b8840afa6692dc74a729c11",
       "version_major": 2,
       "version_minor": 0
      },
      "text/plain": [
       "Processing eps 3, color_x 1 landscapes:   0%|          | 0/1658 [00:00<?, ?it/s]"
      ]
     },
     "metadata": {},
     "output_type": "display_data"
    },
    {
     "data": {
      "application/vnd.jupyter.widget-view+json": {
       "model_id": "bc2883d1eb164639b0ab0e1355a3b7bb",
       "version_major": 2,
       "version_minor": 0
      },
      "text/plain": [
       "Processing eps 3, color_x 2 landscapes:   0%|          | 0/1376 [00:00<?, ?it/s]"
      ]
     },
     "metadata": {},
     "output_type": "display_data"
    },
    {
     "data": {
      "application/vnd.jupyter.widget-view+json": {
       "model_id": "35ffa981530049cd8b819b6e8cbd22bb",
       "version_major": 2,
       "version_minor": 0
      },
      "text/plain": [
       "Processing eps 3, color_x 3 landscapes:   0%|          | 0/1384 [00:00<?, ?it/s]"
      ]
     },
     "metadata": {},
     "output_type": "display_data"
    },
    {
     "data": {
      "application/vnd.jupyter.widget-view+json": {
       "model_id": "177d55368d474076947280c507d8a840",
       "version_major": 2,
       "version_minor": 0
      },
      "text/plain": [
       "Processing eps 3, color_x 4 landscapes:   0%|          | 0/1314 [00:00<?, ?it/s]"
      ]
     },
     "metadata": {},
     "output_type": "display_data"
    },
    {
     "data": {
      "application/vnd.jupyter.widget-view+json": {
       "model_id": "30bab319ed8548779925544d7402b37d",
       "version_major": 2,
       "version_minor": 0
      },
      "text/plain": [
       "Processing eps 3, color_x 5 landscapes:   0%|          | 0/1250 [00:00<?, ?it/s]"
      ]
     },
     "metadata": {},
     "output_type": "display_data"
    },
    {
     "data": {
      "application/vnd.jupyter.widget-view+json": {
       "model_id": "fd9c15e69e4e4c32af88ddb181b66e98",
       "version_major": 2,
       "version_minor": 0
      },
      "text/plain": [
       "Processing eps 3, color_x 6 landscapes:   0%|          | 0/1434 [00:00<?, ?it/s]"
      ]
     },
     "metadata": {},
     "output_type": "display_data"
    },
    {
     "data": {
      "application/vnd.jupyter.widget-view+json": {
       "model_id": "f35959510e6f4b0ba8dbf53e6dd61b13",
       "version_major": 2,
       "version_minor": 0
      },
      "text/plain": [
       "Processing eps 3, color_x 7 landscapes:   0%|          | 0/1498 [00:00<?, ?it/s]"
      ]
     },
     "metadata": {},
     "output_type": "display_data"
    },
    {
     "data": {
      "application/vnd.jupyter.widget-view+json": {
       "model_id": "b953797b255e4ce69f571b648d84c314",
       "version_major": 2,
       "version_minor": 0
      },
      "text/plain": [
       "Processing eps 3, color_x 8 landscapes:   0%|          | 0/1386 [00:00<?, ?it/s]"
      ]
     },
     "metadata": {},
     "output_type": "display_data"
    },
    {
     "data": {
      "application/vnd.jupyter.widget-view+json": {
       "model_id": "8ffc1de0d43d41fe87013f9e9edf1332",
       "version_major": 2,
       "version_minor": 0
      },
      "text/plain": [
       "Processing eps 3, color_x 9 landscapes:   0%|          | 0/1362 [00:00<?, ?it/s]"
      ]
     },
     "metadata": {},
     "output_type": "display_data"
    },
    {
     "data": {
      "application/vnd.jupyter.widget-view+json": {
       "model_id": "c64f7a562f714513b73777ea53be9da4",
       "version_major": 2,
       "version_minor": 0
      },
      "text/plain": [
       "Processing eps 3, color_y 0 landscapes:   0%|          | 0/1338 [00:00<?, ?it/s]"
      ]
     },
     "metadata": {},
     "output_type": "display_data"
    },
    {
     "data": {
      "application/vnd.jupyter.widget-view+json": {
       "model_id": "50e28e80ecd14c068d440f0f2021ab79",
       "version_major": 2,
       "version_minor": 0
      },
      "text/plain": [
       "Processing eps 3, color_y 1 landscapes:   0%|          | 0/1658 [00:00<?, ?it/s]"
      ]
     },
     "metadata": {},
     "output_type": "display_data"
    },
    {
     "data": {
      "application/vnd.jupyter.widget-view+json": {
       "model_id": "ea256a8579f04a008d11d19899b41286",
       "version_major": 2,
       "version_minor": 0
      },
      "text/plain": [
       "Processing eps 3, color_y 2 landscapes:   0%|          | 0/1376 [00:00<?, ?it/s]"
      ]
     },
     "metadata": {},
     "output_type": "display_data"
    },
    {
     "data": {
      "application/vnd.jupyter.widget-view+json": {
       "model_id": "9c3935037990420eb5cb12493399f189",
       "version_major": 2,
       "version_minor": 0
      },
      "text/plain": [
       "Processing eps 3, color_y 3 landscapes:   0%|          | 0/1384 [00:00<?, ?it/s]"
      ]
     },
     "metadata": {},
     "output_type": "display_data"
    },
    {
     "data": {
      "application/vnd.jupyter.widget-view+json": {
       "model_id": "348a3bb4e206468090537017d5101f7f",
       "version_major": 2,
       "version_minor": 0
      },
      "text/plain": [
       "Processing eps 3, color_y 4 landscapes:   0%|          | 0/1314 [00:00<?, ?it/s]"
      ]
     },
     "metadata": {},
     "output_type": "display_data"
    },
    {
     "data": {
      "application/vnd.jupyter.widget-view+json": {
       "model_id": "7c7804d1cb9740f9b3123448417171bf",
       "version_major": 2,
       "version_minor": 0
      },
      "text/plain": [
       "Processing eps 3, color_y 5 landscapes:   0%|          | 0/1250 [00:00<?, ?it/s]"
      ]
     },
     "metadata": {},
     "output_type": "display_data"
    },
    {
     "data": {
      "application/vnd.jupyter.widget-view+json": {
       "model_id": "f3fa3066efdf4a95bd689eb313cd5e74",
       "version_major": 2,
       "version_minor": 0
      },
      "text/plain": [
       "Processing eps 3, color_y 6 landscapes:   0%|          | 0/1434 [00:00<?, ?it/s]"
      ]
     },
     "metadata": {},
     "output_type": "display_data"
    },
    {
     "data": {
      "application/vnd.jupyter.widget-view+json": {
       "model_id": "4f5d0983440740bfbc180c4807ff8108",
       "version_major": 2,
       "version_minor": 0
      },
      "text/plain": [
       "Processing eps 3, color_y 7 landscapes:   0%|          | 0/1498 [00:00<?, ?it/s]"
      ]
     },
     "metadata": {},
     "output_type": "display_data"
    },
    {
     "data": {
      "application/vnd.jupyter.widget-view+json": {
       "model_id": "db9e35aba8d7470fb88b28be69760730",
       "version_major": 2,
       "version_minor": 0
      },
      "text/plain": [
       "Processing eps 3, color_y 8 landscapes:   0%|          | 0/1386 [00:00<?, ?it/s]"
      ]
     },
     "metadata": {},
     "output_type": "display_data"
    },
    {
     "data": {
      "application/vnd.jupyter.widget-view+json": {
       "model_id": "051dd71031af48f0b551a64d3bc26152",
       "version_major": 2,
       "version_minor": 0
      },
      "text/plain": [
       "Processing eps 3, color_y 9 landscapes:   0%|          | 0/1362 [00:00<?, ?it/s]"
      ]
     },
     "metadata": {},
     "output_type": "display_data"
    },
    {
     "data": {
      "application/vnd.jupyter.widget-view+json": {
       "model_id": "997112f1605245788a2ead6a02612abf",
       "version_major": 2,
       "version_minor": 0
      },
      "text/plain": [
       "Processing eps 1.5, color_x 0 landscapes:   0%|          | 0/1338 [00:00<?, ?it/s]"
      ]
     },
     "metadata": {},
     "output_type": "display_data"
    },
    {
     "data": {
      "application/vnd.jupyter.widget-view+json": {
       "model_id": "e7ff34177a6942e8ac2fdbc308fd6fe8",
       "version_major": 2,
       "version_minor": 0
      },
      "text/plain": [
       "Processing eps 1.5, color_x 1 landscapes:   0%|          | 0/1658 [00:00<?, ?it/s]"
      ]
     },
     "metadata": {},
     "output_type": "display_data"
    },
    {
     "data": {
      "application/vnd.jupyter.widget-view+json": {
       "model_id": "eccddf8afaa34807a407b57268431852",
       "version_major": 2,
       "version_minor": 0
      },
      "text/plain": [
       "Processing eps 1.5, color_x 2 landscapes:   0%|          | 0/1376 [00:00<?, ?it/s]"
      ]
     },
     "metadata": {},
     "output_type": "display_data"
    },
    {
     "data": {
      "application/vnd.jupyter.widget-view+json": {
       "model_id": "66fcce9cbd384d3699d133290c2236e2",
       "version_major": 2,
       "version_minor": 0
      },
      "text/plain": [
       "Processing eps 1.5, color_x 3 landscapes:   0%|          | 0/1384 [00:00<?, ?it/s]"
      ]
     },
     "metadata": {},
     "output_type": "display_data"
    },
    {
     "data": {
      "application/vnd.jupyter.widget-view+json": {
       "model_id": "3f6036d8f9fb4cb2b8e40c97db3f6ebb",
       "version_major": 2,
       "version_minor": 0
      },
      "text/plain": [
       "Processing eps 1.5, color_x 4 landscapes:   0%|          | 0/1314 [00:00<?, ?it/s]"
      ]
     },
     "metadata": {},
     "output_type": "display_data"
    },
    {
     "data": {
      "application/vnd.jupyter.widget-view+json": {
       "model_id": "86a843d6e9c1445d834d4c02ce92335f",
       "version_major": 2,
       "version_minor": 0
      },
      "text/plain": [
       "Processing eps 1.5, color_x 5 landscapes:   0%|          | 0/1250 [00:00<?, ?it/s]"
      ]
     },
     "metadata": {},
     "output_type": "display_data"
    },
    {
     "data": {
      "application/vnd.jupyter.widget-view+json": {
       "model_id": "0772bd31ee0641e9b53941587fc27c9a",
       "version_major": 2,
       "version_minor": 0
      },
      "text/plain": [
       "Processing eps 1.5, color_x 6 landscapes:   0%|          | 0/1434 [00:00<?, ?it/s]"
      ]
     },
     "metadata": {},
     "output_type": "display_data"
    },
    {
     "data": {
      "application/vnd.jupyter.widget-view+json": {
       "model_id": "28551fc7f0354a7e8bedbd9b3b033cfc",
       "version_major": 2,
       "version_minor": 0
      },
      "text/plain": [
       "Processing eps 1.5, color_x 7 landscapes:   0%|          | 0/1498 [00:00<?, ?it/s]"
      ]
     },
     "metadata": {},
     "output_type": "display_data"
    },
    {
     "data": {
      "application/vnd.jupyter.widget-view+json": {
       "model_id": "61aaea7fcadc4137a42c6034127f7c9e",
       "version_major": 2,
       "version_minor": 0
      },
      "text/plain": [
       "Processing eps 1.5, color_x 8 landscapes:   0%|          | 0/1386 [00:00<?, ?it/s]"
      ]
     },
     "metadata": {},
     "output_type": "display_data"
    },
    {
     "data": {
      "application/vnd.jupyter.widget-view+json": {
       "model_id": "77d3a907e3dc428a8e53e7f762207f15",
       "version_major": 2,
       "version_minor": 0
      },
      "text/plain": [
       "Processing eps 1.5, color_x 9 landscapes:   0%|          | 0/1362 [00:00<?, ?it/s]"
      ]
     },
     "metadata": {},
     "output_type": "display_data"
    },
    {
     "data": {
      "application/vnd.jupyter.widget-view+json": {
       "model_id": "9c8ea3a060b3484488d7b4af143a7236",
       "version_major": 2,
       "version_minor": 0
      },
      "text/plain": [
       "Processing eps 1.5, color_y 0 landscapes:   0%|          | 0/1338 [00:00<?, ?it/s]"
      ]
     },
     "metadata": {},
     "output_type": "display_data"
    },
    {
     "data": {
      "application/vnd.jupyter.widget-view+json": {
       "model_id": "cdeb41f16fa1474dbb9a56d078e0d229",
       "version_major": 2,
       "version_minor": 0
      },
      "text/plain": [
       "Processing eps 1.5, color_y 1 landscapes:   0%|          | 0/1658 [00:00<?, ?it/s]"
      ]
     },
     "metadata": {},
     "output_type": "display_data"
    },
    {
     "data": {
      "application/vnd.jupyter.widget-view+json": {
       "model_id": "ed6eda5c91344a24b53b9a79578588aa",
       "version_major": 2,
       "version_minor": 0
      },
      "text/plain": [
       "Processing eps 1.5, color_y 2 landscapes:   0%|          | 0/1376 [00:00<?, ?it/s]"
      ]
     },
     "metadata": {},
     "output_type": "display_data"
    },
    {
     "data": {
      "application/vnd.jupyter.widget-view+json": {
       "model_id": "46f506dc6e184a9f96fff6aa170527c4",
       "version_major": 2,
       "version_minor": 0
      },
      "text/plain": [
       "Processing eps 1.5, color_y 3 landscapes:   0%|          | 0/1384 [00:00<?, ?it/s]"
      ]
     },
     "metadata": {},
     "output_type": "display_data"
    },
    {
     "data": {
      "application/vnd.jupyter.widget-view+json": {
       "model_id": "8ae763ccd07741749d9c986222ddbc6a",
       "version_major": 2,
       "version_minor": 0
      },
      "text/plain": [
       "Processing eps 1.5, color_y 4 landscapes:   0%|          | 0/1314 [00:00<?, ?it/s]"
      ]
     },
     "metadata": {},
     "output_type": "display_data"
    },
    {
     "data": {
      "application/vnd.jupyter.widget-view+json": {
       "model_id": "f6accba785b64082b5c3a12c49c26965",
       "version_major": 2,
       "version_minor": 0
      },
      "text/plain": [
       "Processing eps 1.5, color_y 5 landscapes:   0%|          | 0/1250 [00:00<?, ?it/s]"
      ]
     },
     "metadata": {},
     "output_type": "display_data"
    },
    {
     "data": {
      "application/vnd.jupyter.widget-view+json": {
       "model_id": "d8b1e5fc8fe849b08c0cf040d197b726",
       "version_major": 2,
       "version_minor": 0
      },
      "text/plain": [
       "Processing eps 1.5, color_y 6 landscapes:   0%|          | 0/1434 [00:00<?, ?it/s]"
      ]
     },
     "metadata": {},
     "output_type": "display_data"
    },
    {
     "data": {
      "application/vnd.jupyter.widget-view+json": {
       "model_id": "437721bcfb024cdbbf7f5d985966fcfe",
       "version_major": 2,
       "version_minor": 0
      },
      "text/plain": [
       "Processing eps 1.5, color_y 7 landscapes:   0%|          | 0/1498 [00:00<?, ?it/s]"
      ]
     },
     "metadata": {},
     "output_type": "display_data"
    },
    {
     "data": {
      "application/vnd.jupyter.widget-view+json": {
       "model_id": "ab31e542b1f5440ca1715e1b1db4b3b9",
       "version_major": 2,
       "version_minor": 0
      },
      "text/plain": [
       "Processing eps 1.5, color_y 8 landscapes:   0%|          | 0/1386 [00:00<?, ?it/s]"
      ]
     },
     "metadata": {},
     "output_type": "display_data"
    },
    {
     "data": {
      "application/vnd.jupyter.widget-view+json": {
       "model_id": "a3851e18b68b4a26905282780166013d",
       "version_major": 2,
       "version_minor": 0
      },
      "text/plain": [
       "Processing eps 1.5, color_y 9 landscapes:   0%|          | 0/1362 [00:00<?, ?it/s]"
      ]
     },
     "metadata": {},
     "output_type": "display_data"
    },
    {
     "data": {
      "application/vnd.jupyter.widget-view+json": {
       "model_id": "25e03e3df11a4035b0c3358a899fd98a",
       "version_major": 2,
       "version_minor": 0
      },
      "text/plain": [
       "Processing eps 2, color_x 0 landscapes:   0%|          | 0/1338 [00:00<?, ?it/s]"
      ]
     },
     "metadata": {},
     "output_type": "display_data"
    },
    {
     "data": {
      "application/vnd.jupyter.widget-view+json": {
       "model_id": "351539bb60d64f3884b5bf5dbda80177",
       "version_major": 2,
       "version_minor": 0
      },
      "text/plain": [
       "Processing eps 2, color_x 1 landscapes:   0%|          | 0/1658 [00:00<?, ?it/s]"
      ]
     },
     "metadata": {},
     "output_type": "display_data"
    },
    {
     "data": {
      "application/vnd.jupyter.widget-view+json": {
       "model_id": "1e0fc9f58a824bffb827a7638875c96a",
       "version_major": 2,
       "version_minor": 0
      },
      "text/plain": [
       "Processing eps 2, color_x 2 landscapes:   0%|          | 0/1376 [00:00<?, ?it/s]"
      ]
     },
     "metadata": {},
     "output_type": "display_data"
    },
    {
     "data": {
      "application/vnd.jupyter.widget-view+json": {
       "model_id": "bc8dc349919f4e4f8d20215c34c75adc",
       "version_major": 2,
       "version_minor": 0
      },
      "text/plain": [
       "Processing eps 2, color_x 3 landscapes:   0%|          | 0/1384 [00:00<?, ?it/s]"
      ]
     },
     "metadata": {},
     "output_type": "display_data"
    },
    {
     "data": {
      "application/vnd.jupyter.widget-view+json": {
       "model_id": "dee0b533d8004a419cf930ef603ea217",
       "version_major": 2,
       "version_minor": 0
      },
      "text/plain": [
       "Processing eps 2, color_x 4 landscapes:   0%|          | 0/1314 [00:00<?, ?it/s]"
      ]
     },
     "metadata": {},
     "output_type": "display_data"
    },
    {
     "data": {
      "application/vnd.jupyter.widget-view+json": {
       "model_id": "2848578e3d804bf3a3904ce704292696",
       "version_major": 2,
       "version_minor": 0
      },
      "text/plain": [
       "Processing eps 2, color_x 5 landscapes:   0%|          | 0/1250 [00:00<?, ?it/s]"
      ]
     },
     "metadata": {},
     "output_type": "display_data"
    },
    {
     "data": {
      "application/vnd.jupyter.widget-view+json": {
       "model_id": "1524ff4529304758b60b57816f02f5d3",
       "version_major": 2,
       "version_minor": 0
      },
      "text/plain": [
       "Processing eps 2, color_x 6 landscapes:   0%|          | 0/1434 [00:00<?, ?it/s]"
      ]
     },
     "metadata": {},
     "output_type": "display_data"
    },
    {
     "data": {
      "application/vnd.jupyter.widget-view+json": {
       "model_id": "09eb6f6974784f35ad567ac906913c55",
       "version_major": 2,
       "version_minor": 0
      },
      "text/plain": [
       "Processing eps 2, color_x 7 landscapes:   0%|          | 0/1498 [00:00<?, ?it/s]"
      ]
     },
     "metadata": {},
     "output_type": "display_data"
    },
    {
     "data": {
      "application/vnd.jupyter.widget-view+json": {
       "model_id": "e155119ce38d4cbfa68c46edddeaf53d",
       "version_major": 2,
       "version_minor": 0
      },
      "text/plain": [
       "Processing eps 2, color_x 8 landscapes:   0%|          | 0/1386 [00:00<?, ?it/s]"
      ]
     },
     "metadata": {},
     "output_type": "display_data"
    },
    {
     "data": {
      "application/vnd.jupyter.widget-view+json": {
       "model_id": "7d04b5009cff460b96e8a2f1fcb25353",
       "version_major": 2,
       "version_minor": 0
      },
      "text/plain": [
       "Processing eps 2, color_x 9 landscapes:   0%|          | 0/1362 [00:00<?, ?it/s]"
      ]
     },
     "metadata": {},
     "output_type": "display_data"
    },
    {
     "data": {
      "application/vnd.jupyter.widget-view+json": {
       "model_id": "207d2a63035b4981b19bf2efa8ca5cee",
       "version_major": 2,
       "version_minor": 0
      },
      "text/plain": [
       "Processing eps 2, color_y 0 landscapes:   0%|          | 0/1338 [00:00<?, ?it/s]"
      ]
     },
     "metadata": {},
     "output_type": "display_data"
    },
    {
     "data": {
      "application/vnd.jupyter.widget-view+json": {
       "model_id": "c3ba1cc4d3454551b1d0105f9514262d",
       "version_major": 2,
       "version_minor": 0
      },
      "text/plain": [
       "Processing eps 2, color_y 1 landscapes:   0%|          | 0/1658 [00:00<?, ?it/s]"
      ]
     },
     "metadata": {},
     "output_type": "display_data"
    },
    {
     "data": {
      "application/vnd.jupyter.widget-view+json": {
       "model_id": "e8fce15ff8c54fae82efae18a3ea4c16",
       "version_major": 2,
       "version_minor": 0
      },
      "text/plain": [
       "Processing eps 2, color_y 2 landscapes:   0%|          | 0/1376 [00:00<?, ?it/s]"
      ]
     },
     "metadata": {},
     "output_type": "display_data"
    },
    {
     "data": {
      "application/vnd.jupyter.widget-view+json": {
       "model_id": "6f266a43790543108b30e412b4d5962b",
       "version_major": 2,
       "version_minor": 0
      },
      "text/plain": [
       "Processing eps 2, color_y 3 landscapes:   0%|          | 0/1384 [00:00<?, ?it/s]"
      ]
     },
     "metadata": {},
     "output_type": "display_data"
    },
    {
     "data": {
      "application/vnd.jupyter.widget-view+json": {
       "model_id": "5402965c06854b6887de5411b62ca53d",
       "version_major": 2,
       "version_minor": 0
      },
      "text/plain": [
       "Processing eps 2, color_y 4 landscapes:   0%|          | 0/1314 [00:00<?, ?it/s]"
      ]
     },
     "metadata": {},
     "output_type": "display_data"
    },
    {
     "data": {
      "application/vnd.jupyter.widget-view+json": {
       "model_id": "bb7c771ea4e24d55b5a23d22a7aa07a6",
       "version_major": 2,
       "version_minor": 0
      },
      "text/plain": [
       "Processing eps 2, color_y 5 landscapes:   0%|          | 0/1250 [00:00<?, ?it/s]"
      ]
     },
     "metadata": {},
     "output_type": "display_data"
    },
    {
     "data": {
      "application/vnd.jupyter.widget-view+json": {
       "model_id": "fda1babd85e840ecb3ffc24d4bf6c8a0",
       "version_major": 2,
       "version_minor": 0
      },
      "text/plain": [
       "Processing eps 2, color_y 6 landscapes:   0%|          | 0/1434 [00:00<?, ?it/s]"
      ]
     },
     "metadata": {},
     "output_type": "display_data"
    },
    {
     "data": {
      "application/vnd.jupyter.widget-view+json": {
       "model_id": "9b21a7dd0ffc4bc88efc812fc03c612c",
       "version_major": 2,
       "version_minor": 0
      },
      "text/plain": [
       "Processing eps 2, color_y 7 landscapes:   0%|          | 0/1498 [00:00<?, ?it/s]"
      ]
     },
     "metadata": {},
     "output_type": "display_data"
    },
    {
     "data": {
      "application/vnd.jupyter.widget-view+json": {
       "model_id": "eba127ed8aa3498f8b98c3227cea9698",
       "version_major": 2,
       "version_minor": 0
      },
      "text/plain": [
       "Processing eps 2, color_y 8 landscapes:   0%|          | 0/1386 [00:00<?, ?it/s]"
      ]
     },
     "metadata": {},
     "output_type": "display_data"
    },
    {
     "data": {
      "application/vnd.jupyter.widget-view+json": {
       "model_id": "c0d3e1284c544543b694b6575a913d1b",
       "version_major": 2,
       "version_minor": 0
      },
      "text/plain": [
       "Processing eps 2, color_y 9 landscapes:   0%|          | 0/1362 [00:00<?, ?it/s]"
      ]
     },
     "metadata": {},
     "output_type": "display_data"
    },
    {
     "data": {
      "application/vnd.jupyter.widget-view+json": {
       "model_id": "d6046c116d054f5b95a6a49823b1cd60",
       "version_major": 2,
       "version_minor": 0
      },
      "text/plain": [
       "Processing eps 2.5, color_x 0 landscapes:   0%|          | 0/1338 [00:00<?, ?it/s]"
      ]
     },
     "metadata": {},
     "output_type": "display_data"
    },
    {
     "data": {
      "application/vnd.jupyter.widget-view+json": {
       "model_id": "b68fcfa8e14b4bc7bdb4d5c17273f6dd",
       "version_major": 2,
       "version_minor": 0
      },
      "text/plain": [
       "Processing eps 2.5, color_x 1 landscapes:   0%|          | 0/1658 [00:00<?, ?it/s]"
      ]
     },
     "metadata": {},
     "output_type": "display_data"
    },
    {
     "data": {
      "application/vnd.jupyter.widget-view+json": {
       "model_id": "a9879b4811e442b29c2c31bb09e81e80",
       "version_major": 2,
       "version_minor": 0
      },
      "text/plain": [
       "Processing eps 2.5, color_x 2 landscapes:   0%|          | 0/1376 [00:00<?, ?it/s]"
      ]
     },
     "metadata": {},
     "output_type": "display_data"
    },
    {
     "data": {
      "application/vnd.jupyter.widget-view+json": {
       "model_id": "8a8a63a3d1614cef89736c3e3e237e7f",
       "version_major": 2,
       "version_minor": 0
      },
      "text/plain": [
       "Processing eps 2.5, color_x 3 landscapes:   0%|          | 0/1384 [00:00<?, ?it/s]"
      ]
     },
     "metadata": {},
     "output_type": "display_data"
    },
    {
     "data": {
      "application/vnd.jupyter.widget-view+json": {
       "model_id": "3c4c0df93fa548ca8fe43f6118d5b0ab",
       "version_major": 2,
       "version_minor": 0
      },
      "text/plain": [
       "Processing eps 2.5, color_x 4 landscapes:   0%|          | 0/1314 [00:00<?, ?it/s]"
      ]
     },
     "metadata": {},
     "output_type": "display_data"
    },
    {
     "data": {
      "application/vnd.jupyter.widget-view+json": {
       "model_id": "4d4ae0ca4c5845af9133e8e53861ceb9",
       "version_major": 2,
       "version_minor": 0
      },
      "text/plain": [
       "Processing eps 2.5, color_x 5 landscapes:   0%|          | 0/1250 [00:00<?, ?it/s]"
      ]
     },
     "metadata": {},
     "output_type": "display_data"
    },
    {
     "data": {
      "application/vnd.jupyter.widget-view+json": {
       "model_id": "362a2c4c84354c70a740cec1ac98b562",
       "version_major": 2,
       "version_minor": 0
      },
      "text/plain": [
       "Processing eps 2.5, color_x 6 landscapes:   0%|          | 0/1434 [00:00<?, ?it/s]"
      ]
     },
     "metadata": {},
     "output_type": "display_data"
    },
    {
     "data": {
      "application/vnd.jupyter.widget-view+json": {
       "model_id": "8f1d6e6c19a6402b8bc668da7f2964d2",
       "version_major": 2,
       "version_minor": 0
      },
      "text/plain": [
       "Processing eps 2.5, color_x 7 landscapes:   0%|          | 0/1498 [00:00<?, ?it/s]"
      ]
     },
     "metadata": {},
     "output_type": "display_data"
    },
    {
     "data": {
      "application/vnd.jupyter.widget-view+json": {
       "model_id": "8d1d812b1cd44a259c095a2e0d149e46",
       "version_major": 2,
       "version_minor": 0
      },
      "text/plain": [
       "Processing eps 2.5, color_x 8 landscapes:   0%|          | 0/1386 [00:00<?, ?it/s]"
      ]
     },
     "metadata": {},
     "output_type": "display_data"
    },
    {
     "data": {
      "application/vnd.jupyter.widget-view+json": {
       "model_id": "270794c215aa4c89ac2061e23a988608",
       "version_major": 2,
       "version_minor": 0
      },
      "text/plain": [
       "Processing eps 2.5, color_x 9 landscapes:   0%|          | 0/1362 [00:00<?, ?it/s]"
      ]
     },
     "metadata": {},
     "output_type": "display_data"
    },
    {
     "data": {
      "application/vnd.jupyter.widget-view+json": {
       "model_id": "aecd112172c54f1980ba36ba761b7926",
       "version_major": 2,
       "version_minor": 0
      },
      "text/plain": [
       "Processing eps 2.5, color_y 0 landscapes:   0%|          | 0/1338 [00:00<?, ?it/s]"
      ]
     },
     "metadata": {},
     "output_type": "display_data"
    },
    {
     "data": {
      "application/vnd.jupyter.widget-view+json": {
       "model_id": "b2072d4c82ac42bbaea5f6fef7ff8e98",
       "version_major": 2,
       "version_minor": 0
      },
      "text/plain": [
       "Processing eps 2.5, color_y 1 landscapes:   0%|          | 0/1658 [00:00<?, ?it/s]"
      ]
     },
     "metadata": {},
     "output_type": "display_data"
    },
    {
     "data": {
      "application/vnd.jupyter.widget-view+json": {
       "model_id": "93526dd2e99046599d5416ec884611e6",
       "version_major": 2,
       "version_minor": 0
      },
      "text/plain": [
       "Processing eps 2.5, color_y 2 landscapes:   0%|          | 0/1376 [00:00<?, ?it/s]"
      ]
     },
     "metadata": {},
     "output_type": "display_data"
    },
    {
     "data": {
      "application/vnd.jupyter.widget-view+json": {
       "model_id": "521ace58c3bb46bb84f76ea6ef8779e7",
       "version_major": 2,
       "version_minor": 0
      },
      "text/plain": [
       "Processing eps 2.5, color_y 3 landscapes:   0%|          | 0/1384 [00:00<?, ?it/s]"
      ]
     },
     "metadata": {},
     "output_type": "display_data"
    },
    {
     "data": {
      "application/vnd.jupyter.widget-view+json": {
       "model_id": "1f52a7f4e41348c79d945bcff7069678",
       "version_major": 2,
       "version_minor": 0
      },
      "text/plain": [
       "Processing eps 2.5, color_y 4 landscapes:   0%|          | 0/1314 [00:00<?, ?it/s]"
      ]
     },
     "metadata": {},
     "output_type": "display_data"
    },
    {
     "data": {
      "application/vnd.jupyter.widget-view+json": {
       "model_id": "d5603c110593410c9d0b4363a3e91a23",
       "version_major": 2,
       "version_minor": 0
      },
      "text/plain": [
       "Processing eps 2.5, color_y 5 landscapes:   0%|          | 0/1250 [00:00<?, ?it/s]"
      ]
     },
     "metadata": {},
     "output_type": "display_data"
    },
    {
     "data": {
      "application/vnd.jupyter.widget-view+json": {
       "model_id": "964e4f2218754622a52c32dd8d1191fd",
       "version_major": 2,
       "version_minor": 0
      },
      "text/plain": [
       "Processing eps 2.5, color_y 6 landscapes:   0%|          | 0/1434 [00:00<?, ?it/s]"
      ]
     },
     "metadata": {},
     "output_type": "display_data"
    },
    {
     "data": {
      "application/vnd.jupyter.widget-view+json": {
       "model_id": "a3b446991ee2415fa5041cfb9dbb4f42",
       "version_major": 2,
       "version_minor": 0
      },
      "text/plain": [
       "Processing eps 2.5, color_y 7 landscapes:   0%|          | 0/1498 [00:00<?, ?it/s]"
      ]
     },
     "metadata": {},
     "output_type": "display_data"
    },
    {
     "data": {
      "application/vnd.jupyter.widget-view+json": {
       "model_id": "a34ee5368ee3469ab714c0826414cc0e",
       "version_major": 2,
       "version_minor": 0
      },
      "text/plain": [
       "Processing eps 2.5, color_y 8 landscapes:   0%|          | 0/1386 [00:00<?, ?it/s]"
      ]
     },
     "metadata": {},
     "output_type": "display_data"
    },
    {
     "data": {
      "application/vnd.jupyter.widget-view+json": {
       "model_id": "bc9c28b33b464e65899b6b74a6865ee7",
       "version_major": 2,
       "version_minor": 0
      },
      "text/plain": [
       "Processing eps 2.5, color_y 9 landscapes:   0%|          | 0/1362 [00:00<?, ?it/s]"
      ]
     },
     "metadata": {},
     "output_type": "display_data"
    },
    {
     "data": {
      "application/vnd.jupyter.widget-view+json": {
       "model_id": "4c50a41d47f34abfb03576e7508646aa",
       "version_major": 2,
       "version_minor": 0
      },
      "text/plain": [
       "Processing eps 3, color_x 0 landscapes:   0%|          | 0/1338 [00:00<?, ?it/s]"
      ]
     },
     "metadata": {},
     "output_type": "display_data"
    },
    {
     "data": {
      "application/vnd.jupyter.widget-view+json": {
       "model_id": "858d72b929634227bb3ec38e6ba7731a",
       "version_major": 2,
       "version_minor": 0
      },
      "text/plain": [
       "Processing eps 3, color_x 1 landscapes:   0%|          | 0/1658 [00:00<?, ?it/s]"
      ]
     },
     "metadata": {},
     "output_type": "display_data"
    },
    {
     "data": {
      "application/vnd.jupyter.widget-view+json": {
       "model_id": "1c3d23cefb244bef93afccac92dd00f2",
       "version_major": 2,
       "version_minor": 0
      },
      "text/plain": [
       "Processing eps 3, color_x 2 landscapes:   0%|          | 0/1376 [00:00<?, ?it/s]"
      ]
     },
     "metadata": {},
     "output_type": "display_data"
    },
    {
     "data": {
      "application/vnd.jupyter.widget-view+json": {
       "model_id": "953e88692eff4f0895a6f804cd897a9f",
       "version_major": 2,
       "version_minor": 0
      },
      "text/plain": [
       "Processing eps 3, color_x 3 landscapes:   0%|          | 0/1384 [00:00<?, ?it/s]"
      ]
     },
     "metadata": {},
     "output_type": "display_data"
    },
    {
     "data": {
      "application/vnd.jupyter.widget-view+json": {
       "model_id": "0740c5df843c408bb86e74be9c7e0ae6",
       "version_major": 2,
       "version_minor": 0
      },
      "text/plain": [
       "Processing eps 3, color_x 4 landscapes:   0%|          | 0/1314 [00:00<?, ?it/s]"
      ]
     },
     "metadata": {},
     "output_type": "display_data"
    },
    {
     "data": {
      "application/vnd.jupyter.widget-view+json": {
       "model_id": "60d23d4757214442b3210c2f1cc5c765",
       "version_major": 2,
       "version_minor": 0
      },
      "text/plain": [
       "Processing eps 3, color_x 5 landscapes:   0%|          | 0/1250 [00:00<?, ?it/s]"
      ]
     },
     "metadata": {},
     "output_type": "display_data"
    },
    {
     "data": {
      "application/vnd.jupyter.widget-view+json": {
       "model_id": "c6a4740760e94de4884657d7b2da9d71",
       "version_major": 2,
       "version_minor": 0
      },
      "text/plain": [
       "Processing eps 3, color_x 6 landscapes:   0%|          | 0/1434 [00:00<?, ?it/s]"
      ]
     },
     "metadata": {},
     "output_type": "display_data"
    },
    {
     "data": {
      "application/vnd.jupyter.widget-view+json": {
       "model_id": "15422ef3a72b42e59eea299386bc63c4",
       "version_major": 2,
       "version_minor": 0
      },
      "text/plain": [
       "Processing eps 3, color_x 7 landscapes:   0%|          | 0/1498 [00:00<?, ?it/s]"
      ]
     },
     "metadata": {},
     "output_type": "display_data"
    },
    {
     "data": {
      "application/vnd.jupyter.widget-view+json": {
       "model_id": "3793533ade834f40ae6372e96f833cb9",
       "version_major": 2,
       "version_minor": 0
      },
      "text/plain": [
       "Processing eps 3, color_x 8 landscapes:   0%|          | 0/1386 [00:00<?, ?it/s]"
      ]
     },
     "metadata": {},
     "output_type": "display_data"
    },
    {
     "data": {
      "application/vnd.jupyter.widget-view+json": {
       "model_id": "82559e50a25a4b04bd0a32db28c91add",
       "version_major": 2,
       "version_minor": 0
      },
      "text/plain": [
       "Processing eps 3, color_x 9 landscapes:   0%|          | 0/1362 [00:00<?, ?it/s]"
      ]
     },
     "metadata": {},
     "output_type": "display_data"
    },
    {
     "data": {
      "application/vnd.jupyter.widget-view+json": {
       "model_id": "37c22d1bdcf34c22a1a3737942addd68",
       "version_major": 2,
       "version_minor": 0
      },
      "text/plain": [
       "Processing eps 3, color_y 0 landscapes:   0%|          | 0/1338 [00:00<?, ?it/s]"
      ]
     },
     "metadata": {},
     "output_type": "display_data"
    },
    {
     "data": {
      "application/vnd.jupyter.widget-view+json": {
       "model_id": "f3b38cab05004e2ea628c5c918bb4a84",
       "version_major": 2,
       "version_minor": 0
      },
      "text/plain": [
       "Processing eps 3, color_y 1 landscapes:   0%|          | 0/1658 [00:00<?, ?it/s]"
      ]
     },
     "metadata": {},
     "output_type": "display_data"
    },
    {
     "data": {
      "application/vnd.jupyter.widget-view+json": {
       "model_id": "04ab9e587de4450aad071df60d74c542",
       "version_major": 2,
       "version_minor": 0
      },
      "text/plain": [
       "Processing eps 3, color_y 2 landscapes:   0%|          | 0/1376 [00:00<?, ?it/s]"
      ]
     },
     "metadata": {},
     "output_type": "display_data"
    },
    {
     "data": {
      "application/vnd.jupyter.widget-view+json": {
       "model_id": "5c9bbaa3c759476e8e2766ba2bf4acd1",
       "version_major": 2,
       "version_minor": 0
      },
      "text/plain": [
       "Processing eps 3, color_y 3 landscapes:   0%|          | 0/1384 [00:00<?, ?it/s]"
      ]
     },
     "metadata": {},
     "output_type": "display_data"
    },
    {
     "data": {
      "application/vnd.jupyter.widget-view+json": {
       "model_id": "0abeb47c444340e8b3ab820a14418d44",
       "version_major": 2,
       "version_minor": 0
      },
      "text/plain": [
       "Processing eps 3, color_y 4 landscapes:   0%|          | 0/1314 [00:00<?, ?it/s]"
      ]
     },
     "metadata": {},
     "output_type": "display_data"
    },
    {
     "data": {
      "application/vnd.jupyter.widget-view+json": {
       "model_id": "563832e0ba6a45108c713a842c48fb66",
       "version_major": 2,
       "version_minor": 0
      },
      "text/plain": [
       "Processing eps 3, color_y 5 landscapes:   0%|          | 0/1250 [00:00<?, ?it/s]"
      ]
     },
     "metadata": {},
     "output_type": "display_data"
    },
    {
     "data": {
      "application/vnd.jupyter.widget-view+json": {
       "model_id": "a7451def677b4ced8dc905b8fa699f9a",
       "version_major": 2,
       "version_minor": 0
      },
      "text/plain": [
       "Processing eps 3, color_y 6 landscapes:   0%|          | 0/1434 [00:00<?, ?it/s]"
      ]
     },
     "metadata": {},
     "output_type": "display_data"
    },
    {
     "data": {
      "application/vnd.jupyter.widget-view+json": {
       "model_id": "720e3415e1bd44ca9e045565afaf2880",
       "version_major": 2,
       "version_minor": 0
      },
      "text/plain": [
       "Processing eps 3, color_y 7 landscapes:   0%|          | 0/1498 [00:00<?, ?it/s]"
      ]
     },
     "metadata": {},
     "output_type": "display_data"
    },
    {
     "data": {
      "application/vnd.jupyter.widget-view+json": {
       "model_id": "c64b4b5bd5444fa2893fe91d8390452f",
       "version_major": 2,
       "version_minor": 0
      },
      "text/plain": [
       "Processing eps 3, color_y 8 landscapes:   0%|          | 0/1386 [00:00<?, ?it/s]"
      ]
     },
     "metadata": {},
     "output_type": "display_data"
    },
    {
     "data": {
      "application/vnd.jupyter.widget-view+json": {
       "model_id": "57f10e5b487c436987f75ce4b12f4fa6",
       "version_major": 2,
       "version_minor": 0
      },
      "text/plain": [
       "Processing eps 3, color_y 9 landscapes:   0%|          | 0/1362 [00:00<?, ?it/s]"
      ]
     },
     "metadata": {},
     "output_type": "display_data"
    }
   ],
   "source": [
    "LL_train = LandscapeLoader(\"../mnist_ballmapper_new_filtration/sample_size_7000\", [1.5, 2, 2.5, 3], max_image_i=5600)\n",
    "LL_test = LandscapeLoader(\"../mnist_ballmapper_new_filtration/sample_size_7000\", [1.5, 2, 2.5, 3], min_image_i=5600)"
   ]
  },
  {
   "cell_type": "code",
   "execution_count": 53,
   "metadata": {},
   "outputs": [
    {
     "data": {
      "application/vnd.jupyter.widget-view+json": {
       "model_id": "1f8625e65b3540a69a81b9869b7cb5bf",
       "version_major": 2,
       "version_minor": 0
      },
      "text/plain": [
       "  0%|          | 0/10 [00:00<?, ?it/s]"
      ]
     },
     "metadata": {},
     "output_type": "display_data"
    },
    {
     "data": {
      "application/vnd.jupyter.widget-view+json": {
       "model_id": "2e50cf9714bc47e591e449b36078ee4b",
       "version_major": 2,
       "version_minor": 0
      },
      "text/plain": [
       "  0%|          | 0/10 [00:00<?, ?it/s]"
      ]
     },
     "metadata": {},
     "output_type": "display_data"
    },
    {
     "data": {
      "application/vnd.jupyter.widget-view+json": {
       "model_id": "b3dcbfa7a6f94dffaf037ad1373808c1",
       "version_major": 2,
       "version_minor": 0
      },
      "text/plain": [
       "  0%|          | 0/10 [00:00<?, ?it/s]"
      ]
     },
     "metadata": {},
     "output_type": "display_data"
    },
    {
     "data": {
      "application/vnd.jupyter.widget-view+json": {
       "model_id": "ae27d1f351224cd192e8b5fc95b4a55b",
       "version_major": 2,
       "version_minor": 0
      },
      "text/plain": [
       "  0%|          | 0/10 [00:00<?, ?it/s]"
      ]
     },
     "metadata": {},
     "output_type": "display_data"
    },
    {
     "data": {
      "application/vnd.jupyter.widget-view+json": {
       "model_id": "980b964ff63c40179ce77a3ce446bb32",
       "version_major": 2,
       "version_minor": 0
      },
      "text/plain": [
       "  0%|          | 0/10 [00:00<?, ?it/s]"
      ]
     },
     "metadata": {},
     "output_type": "display_data"
    },
    {
     "data": {
      "application/vnd.jupyter.widget-view+json": {
       "model_id": "c3a70abd823a4786b26f66219a5a640a",
       "version_major": 2,
       "version_minor": 0
      },
      "text/plain": [
       "  0%|          | 0/10 [00:00<?, ?it/s]"
      ]
     },
     "metadata": {},
     "output_type": "display_data"
    },
    {
     "data": {
      "application/vnd.jupyter.widget-view+json": {
       "model_id": "5614a84b77e34a2dbd9ea96355d79ea5",
       "version_major": 2,
       "version_minor": 0
      },
      "text/plain": [
       "  0%|          | 0/10 [00:00<?, ?it/s]"
      ]
     },
     "metadata": {},
     "output_type": "display_data"
    },
    {
     "data": {
      "application/vnd.jupyter.widget-view+json": {
       "model_id": "0f0dfaa13c5b447e862b1194941fa451",
       "version_major": 2,
       "version_minor": 0
      },
      "text/plain": [
       "  0%|          | 0/10 [00:00<?, ?it/s]"
      ]
     },
     "metadata": {},
     "output_type": "display_data"
    }
   ],
   "source": [
    "mean_landscapes = {}\n",
    "\n",
    "for eps in LL_train.location_dict.keys():\n",
    "    mean_landscapes[eps] = {}\n",
    "    for color in LL_train.location_dict[eps].keys():\n",
    "        mean_landscapes[eps][color] = {}\n",
    "        digit_bar = tqdm(LL_train.location_dict[eps][color].keys(), leave=False)\n",
    "        for digit in digit_bar:\n",
    "            mean_landscapes[eps][color][digit] = {}\n",
    "            for type_ in [\"pers\", \"lap\"]:\n",
    "                digit_bar.set_description(f\"Processing landscapes for eps {eps}, color {color}, digit {digit}, type {type_}\")\n",
    "                cur_lands = []\n",
    "                while True:\n",
    "                    land = LL_train.load(eps, color, digit, type_)\n",
    "                    if land is None:\n",
    "                        break\n",
    "                    cur_lands.append(land)\n",
    "                mean_landscapes[eps][color][digit][type_] = np.mean(cur_lands)\n",
    "                "
   ]
  },
  {
   "cell_type": "code",
   "execution_count": 54,
   "metadata": {},
   "outputs": [],
   "source": [
    "with open(\"../mnist_ballmapper_new_filtration/sample_size_7000/mean_landscapes_5600.pkl\", \"wb\") as f:\n",
    "    pickle.dump(mean_landscapes, f)\n",
    "# mean_landscapes"
   ]
  },
  {
   "cell_type": "code",
   "execution_count": null,
   "metadata": {},
   "outputs": [],
   "source": [
    "with open(\"../mnist_ballmapper_new_filtration/sample_size_7000/mean_landscapes_5600.pkl\", \"rb\") as f:\n",
    "    mean_landscapes = pickle.load(f)"
   ]
  },
  {
   "cell_type": "code",
   "execution_count": null,
   "metadata": {},
   "outputs": [
    {
     "data": {
      "application/vnd.jupyter.widget-view+json": {
       "model_id": "2b104f6564d2400ca865f1733df10dbc",
       "version_major": 2,
       "version_minor": 0
      },
      "text/plain": [
       "  0%|          | 0/10 [00:00<?, ?it/s]"
      ]
     },
     "metadata": {},
     "output_type": "display_data"
    }
   ],
   "source": [
    "classifications_dict = {}\n",
    "\n",
    "digits = [\"0\", \"1\", \"2\", \"3\", \"4\", \"5\", \"6\", \"7\", \"8\", \"9\"]\n",
    "\n",
    "for eps in LL_test.location_dict.keys():\n",
    "    classifications_dict[eps] = {}\n",
    "    for color in LL_test.location_dict[eps].keys():\n",
    "        classifications_dict[eps][color] = {}\n",
    "        digit_bar = tqdm(LL_test.location_dict[eps][color].keys(), leave=False)\n",
    "        for digit in digit_bar:\n",
    "            classifications_dict[eps][color][digit] = {}\n",
    "            for type_ in [\"pers\", \"lap\"]:\n",
    "                classifications_dict[eps][color][digit][type_] = []\n",
    "                digit_bar.set_description(f\"Processing landscapes for eps {eps}, color {color}, digit {digit}, type {type_}\")\n",
    "                while True:\n",
    "                    cur_land = LL_test.load(eps, color, digit, type_)\n",
    "                    if cur_land is None:\n",
    "                        break\n",
    "                    dists = []\n",
    "                    for other_digit in digits:\n",
    "                        mean_land = mean_landscapes[eps][color][other_digit][type_]\n",
    "                        dists.append((cur_land - mean_land).norm())\n",
    "                    classifications_dict[eps][color][digit][type_].append(np.argmin(dists))"
   ]
  },
  {
   "cell_type": "code",
   "execution_count": 21,
   "metadata": {},
   "outputs": [],
   "source": [
    "with open(\"../mnist_ballmapper/sample_size_7000/classifications_dict_5600.pkl\", \"wb\") as f:\n",
    "    pickle.dump(classifications_dict, f)"
   ]
  },
  {
   "cell_type": "code",
   "execution_count": 29,
   "metadata": {},
   "outputs": [
    {
     "name": "stdout",
     "output_type": "stream",
     "text": [
      "Digit 0 classification accuracy:\n",
      "0.6267605633802817\n",
      "\n",
      "Digit 1 classification accuracy:\n",
      "0.43023255813953487\n",
      "\n",
      "Digit 2 classification accuracy:\n",
      "0.5303030303030303\n",
      "\n",
      "Digit 3 classification accuracy:\n",
      "0.26811594202898553\n",
      "\n",
      "Digit 4 classification accuracy:\n",
      "0.6357142857142857\n",
      "\n",
      "Digit 5 classification accuracy:\n",
      "0.5037037037037037\n",
      "\n",
      "Digit 6 classification accuracy:\n",
      "0.6901408450704225\n",
      "\n",
      "Digit 7 classification accuracy:\n",
      "0.6122448979591837\n",
      "\n",
      "Digit 8 classification accuracy:\n",
      "0.4918032786885246\n",
      "\n",
      "Digit 9 classification accuracy:\n",
      "0.5384615384615384\n",
      "\n"
     ]
    }
   ],
   "source": [
    "for digit in [\"0\", \"1\", \"2\", \"3\", \"4\", \"5\", \"6\", \"7\", \"8\", \"9\"]:\n",
    "    print(f\"Digit {digit} classification accuracy:\")\n",
    "    print(np.mean(np.array(classifications_dict[1.5][\"color_y\"][digit][\"lap\"]) == int(digit)))\n",
    "    print()"
   ]
  },
  {
   "cell_type": "code",
   "execution_count": 51,
   "metadata": {},
   "outputs": [
    {
     "data": {
      "text/plain": [
       "(0.36428571428571427, 0.48122929322004204)"
      ]
     },
     "execution_count": 51,
     "metadata": {},
     "output_type": "execute_result"
    }
   ],
   "source": [
    "results = np.array([])\n",
    "y = np.array([])\n",
    "\n",
    "for digit in [\"0\", \"1\", \"2\", \"3\", \"4\", \"5\", \"6\", \"7\", \"8\", \"9\"]:\n",
    "    cur_results = np.array(classifications_dict[2.5][\"color_x\"][digit][\"lap\"])\n",
    "    results = np.append(results, cur_results)\n",
    "    y = np.append(y, np.ones_like(cur_results) * int(digit))\n",
    "\n",
    "np.mean(results==y), np.std(results==y)"
   ]
  }
 ],
 "metadata": {
  "kernelspec": {
   "display_name": "thesis",
   "language": "python",
   "name": "python3"
  },
  "language_info": {
   "codemirror_mode": {
    "name": "ipython",
    "version": 3
   },
   "file_extension": ".py",
   "mimetype": "text/x-python",
   "name": "python",
   "nbconvert_exporter": "python",
   "pygments_lexer": "ipython3",
   "version": "3.9.21"
  }
 },
 "nbformat": 4,
 "nbformat_minor": 2
}
