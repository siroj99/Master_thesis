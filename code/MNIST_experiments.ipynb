{
 "cells": [
  {
   "cell_type": "code",
   "execution_count": 1,
   "metadata": {},
   "outputs": [],
   "source": [
    "from landscapes import *\n",
    "import os\n",
    "import os.path as osp\n",
    "import pickle\n",
    "from sklearn.model_selection import train_test_split\n",
    "from sklearn.linear_model import LogisticRegression\n",
    "import seaborn as sns\n"
   ]
  },
  {
   "cell_type": "code",
   "execution_count": 2,
   "metadata": {},
   "outputs": [],
   "source": [
    "def Laplacian_fun(B22_st, B22_stm1, B22_sm1t, B22_sm1tm1, eye):\n",
    "    # return B22_stm1@B22_sm1t@(eye-B22_st)@B22_sm1t\n",
    "    # return B22_sm1t@(eye-B22_st)@B22_sm1t@B22_stm1\n",
    "    # return B22_sm1t@B22_stm1@(eye-B22_st)@B22_stm1\n",
    "    # return B22_stm1@(eye-B22_st)@B22_stm1@B22_sm1t\n",
    "    # return B22_sm1tm1-B22_sm1t-B22_stm1+B22_st\n",
    "\n",
    "    \n",
    "    # return B22_stm1@B22_sm1t+B22_sm1t@B22_stm1-2*B22_st\n",
    "    # return eye-B22_st\n",
    "\n",
    "    # return B22_stm1@(eye-B22_st)@(eye - B22_sm1tm1 + B22_sm1t)\n",
    "\n",
    "    # Best\n",
    "    # return B22_sm1t@B22_stm1-B22_st\n",
    "\n",
    "    # Normal\n",
    "    return B22_stm1 - B22_st - B22_sm1tm1 + B22_sm1t"
   ]
  },
  {
   "cell_type": "markdown",
   "metadata": {},
   "source": [
    "LANDSCAPES\n",
    "---------------------"
   ]
  },
  {
   "cell_type": "code",
   "execution_count": 8,
   "metadata": {},
   "outputs": [],
   "source": [
    "class LandscapeLoader():\n",
    "    def __init__(self, path_to_landscapes, epsilons, min_image_i = 0, max_image_i=7000):\n",
    "        self.path_to_landscapes = path_to_landscapes\n",
    "        self.epsilons = epsilons\n",
    "        \n",
    "\n",
    "        self.location_dict = {}\n",
    "        self.location_pointers = {}\n",
    "        for eps in epsilons:\n",
    "            path_to_landscapes = osp.join(self.path_to_landscapes, f\"eps_{eps}\")\n",
    "            self.location_dict[eps] = {}\n",
    "            self.location_pointers[eps] = {}\n",
    "            for color in sorted(os.listdir(path_to_landscapes)):\n",
    "                self.location_dict[eps][color] = {}\n",
    "                self.location_pointers[eps][color] = {}\n",
    "                for digit in sorted(os.listdir(osp.join(path_to_landscapes, color))):\n",
    "                    self.location_dict[eps][color][digit] = {\"lap\": [], \"pers\": []}\n",
    "                    self.location_pointers[eps][color][digit] = {\"lap\": 0, \"pers\": 0}\n",
    "                    for land_file in tqdm(sorted(os.listdir(osp.join(path_to_landscapes, color, digit))), leave=False, desc=f\"Processing eps {eps}, {color} {digit} landscapes\"):\n",
    "                        if not land_file.endswith(\".pkl\") or len(land_file.split(\"_\")) < 4:\n",
    "                            continue\n",
    "                        image_i = int(land_file[:-4].split(\"_\")[2])\n",
    "                        if image_i < min_image_i or image_i > max_image_i:\n",
    "                            continue\n",
    "                        self.location_dict[eps][color][digit][land_file.split(\"_\")[0]].append(osp.join(path_to_landscapes, color, digit, land_file))\n",
    "                        # with open(osp.join(path_to_landscapes, color, digit, land_file), \"rb\") as f:\n",
    "                        #     land = pickle.load(f)\n",
    "                        # if land_file.split(\"_\")[0] == \"pers\":\n",
    "                        #     land_dict[eps][color][digit][land_file.split(\"_\")[0]].append(land.__mult__(1))\n",
    "                        # else:\n",
    "                        #     land_dict[eps][color][digit][land_file.split(\"_\")[0]].append(land.__mult__(1))\n",
    "\n",
    "    def reset_pointer(self, eps_list=None, color_list=None, digit_list=None, type_list=None):\n",
    "        if eps_list is None:\n",
    "            eps_list = self.location_pointers.keys()\n",
    "        for eps in eps_list:\n",
    "            if color_list is None:\n",
    "                color_list = self.location_pointers[eps].keys()\n",
    "            for color in color_list:\n",
    "                if digit_list is None:\n",
    "                    digit_list = self.location_pointers[eps][color].keys()\n",
    "                for digit in digit_list:\n",
    "                    if type_list is None:\n",
    "                        type_list = [\"lap\", \"pers\"]\n",
    "                    for type_ in type_list:\n",
    "                        self.location_pointers[eps][color][digit][type_] = 0\n",
    "                        # self.location_pointers[eps][color][digit][\"pers\"] = 0\n",
    "\n",
    "    def load(self, eps, color, digit, type_):\n",
    "        if self.location_pointers[eps][color][digit][type_] >= len(self.location_dict[eps][color][digit][type_]):\n",
    "            return None\n",
    "        path = self.location_dict[eps][color][digit][type_][self.location_pointers[eps][color][digit][type_]]\n",
    "        self.location_pointers[eps][color][digit][type_] += 1\n",
    "        with open(path, \"rb\") as f:\n",
    "            land = pickle.load(f)\n",
    "        return land#.__mult__(1) if type_ == \"pers\" else land\n",
    "        "
   ]
  },
  {
   "cell_type": "code",
   "execution_count": 9,
   "metadata": {},
   "outputs": [
    {
     "data": {
      "application/vnd.jupyter.widget-view+json": {
       "model_id": "7e369b26abe7426292f965ff53f58a4d",
       "version_major": 2,
       "version_minor": 0
      },
      "text/plain": [
       "Processing eps 1.5, color_x 0 landscapes:   0%|          | 0/1338 [00:00<?, ?it/s]"
      ]
     },
     "metadata": {},
     "output_type": "display_data"
    },
    {
     "data": {
      "application/vnd.jupyter.widget-view+json": {
       "model_id": "7bad8102b8af4d3cbb1533fb36460cf3",
       "version_major": 2,
       "version_minor": 0
      },
      "text/plain": [
       "Processing eps 1.5, color_x 1 landscapes:   0%|          | 0/1658 [00:00<?, ?it/s]"
      ]
     },
     "metadata": {},
     "output_type": "display_data"
    },
    {
     "data": {
      "application/vnd.jupyter.widget-view+json": {
       "model_id": "4e34957b79a141b486b6af51a10f6413",
       "version_major": 2,
       "version_minor": 0
      },
      "text/plain": [
       "Processing eps 1.5, color_x 2 landscapes:   0%|          | 0/1376 [00:00<?, ?it/s]"
      ]
     },
     "metadata": {},
     "output_type": "display_data"
    },
    {
     "data": {
      "application/vnd.jupyter.widget-view+json": {
       "model_id": "d5567829509a471ea9d23d0389e864a9",
       "version_major": 2,
       "version_minor": 0
      },
      "text/plain": [
       "Processing eps 1.5, color_x 3 landscapes:   0%|          | 0/1384 [00:00<?, ?it/s]"
      ]
     },
     "metadata": {},
     "output_type": "display_data"
    },
    {
     "data": {
      "application/vnd.jupyter.widget-view+json": {
       "model_id": "5ff38cf293ec4423836433756ce01076",
       "version_major": 2,
       "version_minor": 0
      },
      "text/plain": [
       "Processing eps 1.5, color_x 4 landscapes:   0%|          | 0/1314 [00:00<?, ?it/s]"
      ]
     },
     "metadata": {},
     "output_type": "display_data"
    },
    {
     "data": {
      "application/vnd.jupyter.widget-view+json": {
       "model_id": "fe188cfe789942cfa227bfa561f0475f",
       "version_major": 2,
       "version_minor": 0
      },
      "text/plain": [
       "Processing eps 1.5, color_x 5 landscapes:   0%|          | 0/1250 [00:00<?, ?it/s]"
      ]
     },
     "metadata": {},
     "output_type": "display_data"
    },
    {
     "data": {
      "application/vnd.jupyter.widget-view+json": {
       "model_id": "2c1d56cda58a4753a4379d49532678e3",
       "version_major": 2,
       "version_minor": 0
      },
      "text/plain": [
       "Processing eps 1.5, color_x 6 landscapes:   0%|          | 0/1434 [00:00<?, ?it/s]"
      ]
     },
     "metadata": {},
     "output_type": "display_data"
    },
    {
     "data": {
      "application/vnd.jupyter.widget-view+json": {
       "model_id": "a70608cddc5040f787d2865031989676",
       "version_major": 2,
       "version_minor": 0
      },
      "text/plain": [
       "Processing eps 1.5, color_x 7 landscapes:   0%|          | 0/1498 [00:00<?, ?it/s]"
      ]
     },
     "metadata": {},
     "output_type": "display_data"
    },
    {
     "data": {
      "application/vnd.jupyter.widget-view+json": {
       "model_id": "38a715e990aa47a2aea18d7489034ac6",
       "version_major": 2,
       "version_minor": 0
      },
      "text/plain": [
       "Processing eps 1.5, color_x 8 landscapes:   0%|          | 0/1386 [00:00<?, ?it/s]"
      ]
     },
     "metadata": {},
     "output_type": "display_data"
    },
    {
     "data": {
      "application/vnd.jupyter.widget-view+json": {
       "model_id": "eaa279449ec64940b035a56b71ef8ca6",
       "version_major": 2,
       "version_minor": 0
      },
      "text/plain": [
       "Processing eps 1.5, color_x 9 landscapes:   0%|          | 0/1362 [00:00<?, ?it/s]"
      ]
     },
     "metadata": {},
     "output_type": "display_data"
    },
    {
     "data": {
      "application/vnd.jupyter.widget-view+json": {
       "model_id": "f43a8da1ef4743828c3644cc40b8110e",
       "version_major": 2,
       "version_minor": 0
      },
      "text/plain": [
       "Processing eps 1.5, color_y 0 landscapes:   0%|          | 0/1338 [00:00<?, ?it/s]"
      ]
     },
     "metadata": {},
     "output_type": "display_data"
    },
    {
     "data": {
      "application/vnd.jupyter.widget-view+json": {
       "model_id": "63d2b74030464cf38d320bfb93425f9f",
       "version_major": 2,
       "version_minor": 0
      },
      "text/plain": [
       "Processing eps 1.5, color_y 1 landscapes:   0%|          | 0/1658 [00:00<?, ?it/s]"
      ]
     },
     "metadata": {},
     "output_type": "display_data"
    },
    {
     "data": {
      "application/vnd.jupyter.widget-view+json": {
       "model_id": "da9a4872a15c45c68dac10e799684dfc",
       "version_major": 2,
       "version_minor": 0
      },
      "text/plain": [
       "Processing eps 1.5, color_y 2 landscapes:   0%|          | 0/1376 [00:00<?, ?it/s]"
      ]
     },
     "metadata": {},
     "output_type": "display_data"
    },
    {
     "data": {
      "application/vnd.jupyter.widget-view+json": {
       "model_id": "851b9d336e0c47b0bc67819e9ac7ee32",
       "version_major": 2,
       "version_minor": 0
      },
      "text/plain": [
       "Processing eps 1.5, color_y 3 landscapes:   0%|          | 0/1384 [00:00<?, ?it/s]"
      ]
     },
     "metadata": {},
     "output_type": "display_data"
    },
    {
     "data": {
      "application/vnd.jupyter.widget-view+json": {
       "model_id": "7a7520d445f04f1880fb5de5fa1e7906",
       "version_major": 2,
       "version_minor": 0
      },
      "text/plain": [
       "Processing eps 1.5, color_y 4 landscapes:   0%|          | 0/1314 [00:00<?, ?it/s]"
      ]
     },
     "metadata": {},
     "output_type": "display_data"
    },
    {
     "data": {
      "application/vnd.jupyter.widget-view+json": {
       "model_id": "076a73da8e274bc39dba660f60106887",
       "version_major": 2,
       "version_minor": 0
      },
      "text/plain": [
       "Processing eps 1.5, color_y 5 landscapes:   0%|          | 0/1250 [00:00<?, ?it/s]"
      ]
     },
     "metadata": {},
     "output_type": "display_data"
    },
    {
     "data": {
      "application/vnd.jupyter.widget-view+json": {
       "model_id": "e083d4949422497987ad5080475af82b",
       "version_major": 2,
       "version_minor": 0
      },
      "text/plain": [
       "Processing eps 1.5, color_y 6 landscapes:   0%|          | 0/1434 [00:00<?, ?it/s]"
      ]
     },
     "metadata": {},
     "output_type": "display_data"
    },
    {
     "data": {
      "application/vnd.jupyter.widget-view+json": {
       "model_id": "e4e9fb53fca14fb1b05d20ea1d237964",
       "version_major": 2,
       "version_minor": 0
      },
      "text/plain": [
       "Processing eps 1.5, color_y 7 landscapes:   0%|          | 0/1498 [00:00<?, ?it/s]"
      ]
     },
     "metadata": {},
     "output_type": "display_data"
    },
    {
     "data": {
      "application/vnd.jupyter.widget-view+json": {
       "model_id": "739f6a38401240d9bc53763d01ec44e2",
       "version_major": 2,
       "version_minor": 0
      },
      "text/plain": [
       "Processing eps 1.5, color_y 8 landscapes:   0%|          | 0/1386 [00:00<?, ?it/s]"
      ]
     },
     "metadata": {},
     "output_type": "display_data"
    },
    {
     "data": {
      "application/vnd.jupyter.widget-view+json": {
       "model_id": "3d7fe89ce0224d759b32cd7f355159ae",
       "version_major": 2,
       "version_minor": 0
      },
      "text/plain": [
       "Processing eps 1.5, color_y 9 landscapes:   0%|          | 0/1362 [00:00<?, ?it/s]"
      ]
     },
     "metadata": {},
     "output_type": "display_data"
    },
    {
     "data": {
      "application/vnd.jupyter.widget-view+json": {
       "model_id": "d604f5672f4c46fd8e1af7b18bc99303",
       "version_major": 2,
       "version_minor": 0
      },
      "text/plain": [
       "Processing eps 2, color_x 0 landscapes:   0%|          | 0/1338 [00:00<?, ?it/s]"
      ]
     },
     "metadata": {},
     "output_type": "display_data"
    },
    {
     "data": {
      "application/vnd.jupyter.widget-view+json": {
       "model_id": "ee87af418a3e42d28ac395fa43bfe19b",
       "version_major": 2,
       "version_minor": 0
      },
      "text/plain": [
       "Processing eps 2, color_x 1 landscapes:   0%|          | 0/1658 [00:00<?, ?it/s]"
      ]
     },
     "metadata": {},
     "output_type": "display_data"
    },
    {
     "data": {
      "application/vnd.jupyter.widget-view+json": {
       "model_id": "662302c46fdb43a3b68023dfd71519da",
       "version_major": 2,
       "version_minor": 0
      },
      "text/plain": [
       "Processing eps 2, color_x 2 landscapes:   0%|          | 0/1376 [00:00<?, ?it/s]"
      ]
     },
     "metadata": {},
     "output_type": "display_data"
    },
    {
     "data": {
      "application/vnd.jupyter.widget-view+json": {
       "model_id": "165a16f83ad54e8f9eedc631f8bb160c",
       "version_major": 2,
       "version_minor": 0
      },
      "text/plain": [
       "Processing eps 2, color_x 3 landscapes:   0%|          | 0/1384 [00:00<?, ?it/s]"
      ]
     },
     "metadata": {},
     "output_type": "display_data"
    },
    {
     "data": {
      "application/vnd.jupyter.widget-view+json": {
       "model_id": "0db5239b2eaa4573ba6e6c85a45802bb",
       "version_major": 2,
       "version_minor": 0
      },
      "text/plain": [
       "Processing eps 2, color_x 4 landscapes:   0%|          | 0/1314 [00:00<?, ?it/s]"
      ]
     },
     "metadata": {},
     "output_type": "display_data"
    },
    {
     "data": {
      "application/vnd.jupyter.widget-view+json": {
       "model_id": "06709659dd3c4751a99a82da76c2419a",
       "version_major": 2,
       "version_minor": 0
      },
      "text/plain": [
       "Processing eps 2, color_x 5 landscapes:   0%|          | 0/1250 [00:00<?, ?it/s]"
      ]
     },
     "metadata": {},
     "output_type": "display_data"
    },
    {
     "data": {
      "application/vnd.jupyter.widget-view+json": {
       "model_id": "c93ba42013c84b05b5bc47ae0caf6a2b",
       "version_major": 2,
       "version_minor": 0
      },
      "text/plain": [
       "Processing eps 2, color_x 6 landscapes:   0%|          | 0/1434 [00:00<?, ?it/s]"
      ]
     },
     "metadata": {},
     "output_type": "display_data"
    },
    {
     "data": {
      "application/vnd.jupyter.widget-view+json": {
       "model_id": "89c71d099165464198e31ce3e6706258",
       "version_major": 2,
       "version_minor": 0
      },
      "text/plain": [
       "Processing eps 2, color_x 7 landscapes:   0%|          | 0/1498 [00:00<?, ?it/s]"
      ]
     },
     "metadata": {},
     "output_type": "display_data"
    },
    {
     "data": {
      "application/vnd.jupyter.widget-view+json": {
       "model_id": "aa6260bc074241b2a381e601aa578597",
       "version_major": 2,
       "version_minor": 0
      },
      "text/plain": [
       "Processing eps 2, color_x 8 landscapes:   0%|          | 0/1386 [00:00<?, ?it/s]"
      ]
     },
     "metadata": {},
     "output_type": "display_data"
    },
    {
     "data": {
      "application/vnd.jupyter.widget-view+json": {
       "model_id": "e48239f5379347e58d7dd6e90c038373",
       "version_major": 2,
       "version_minor": 0
      },
      "text/plain": [
       "Processing eps 2, color_x 9 landscapes:   0%|          | 0/1362 [00:00<?, ?it/s]"
      ]
     },
     "metadata": {},
     "output_type": "display_data"
    },
    {
     "data": {
      "application/vnd.jupyter.widget-view+json": {
       "model_id": "171d0f2534cb4dbf8526a9f1dd0230d0",
       "version_major": 2,
       "version_minor": 0
      },
      "text/plain": [
       "Processing eps 2, color_y 0 landscapes:   0%|          | 0/1338 [00:00<?, ?it/s]"
      ]
     },
     "metadata": {},
     "output_type": "display_data"
    },
    {
     "data": {
      "application/vnd.jupyter.widget-view+json": {
       "model_id": "f140e06242a7479cb558e18488476d25",
       "version_major": 2,
       "version_minor": 0
      },
      "text/plain": [
       "Processing eps 2, color_y 1 landscapes:   0%|          | 0/1658 [00:00<?, ?it/s]"
      ]
     },
     "metadata": {},
     "output_type": "display_data"
    },
    {
     "data": {
      "application/vnd.jupyter.widget-view+json": {
       "model_id": "907646949e654f4eb9f6d7377ff87957",
       "version_major": 2,
       "version_minor": 0
      },
      "text/plain": [
       "Processing eps 2, color_y 2 landscapes:   0%|          | 0/1376 [00:00<?, ?it/s]"
      ]
     },
     "metadata": {},
     "output_type": "display_data"
    },
    {
     "data": {
      "application/vnd.jupyter.widget-view+json": {
       "model_id": "16faf6b7389343eebea75075d6e87ddf",
       "version_major": 2,
       "version_minor": 0
      },
      "text/plain": [
       "Processing eps 2, color_y 3 landscapes:   0%|          | 0/1384 [00:00<?, ?it/s]"
      ]
     },
     "metadata": {},
     "output_type": "display_data"
    },
    {
     "data": {
      "application/vnd.jupyter.widget-view+json": {
       "model_id": "532f121a98c4471ea15ad85c8f1d2295",
       "version_major": 2,
       "version_minor": 0
      },
      "text/plain": [
       "Processing eps 2, color_y 4 landscapes:   0%|          | 0/1314 [00:00<?, ?it/s]"
      ]
     },
     "metadata": {},
     "output_type": "display_data"
    },
    {
     "data": {
      "application/vnd.jupyter.widget-view+json": {
       "model_id": "55fabcac5d6d48d18344185bc565991d",
       "version_major": 2,
       "version_minor": 0
      },
      "text/plain": [
       "Processing eps 2, color_y 5 landscapes:   0%|          | 0/1250 [00:00<?, ?it/s]"
      ]
     },
     "metadata": {},
     "output_type": "display_data"
    },
    {
     "data": {
      "application/vnd.jupyter.widget-view+json": {
       "model_id": "d57c81c003424fd1b2777b7315e5cf3d",
       "version_major": 2,
       "version_minor": 0
      },
      "text/plain": [
       "Processing eps 2, color_y 6 landscapes:   0%|          | 0/1434 [00:00<?, ?it/s]"
      ]
     },
     "metadata": {},
     "output_type": "display_data"
    },
    {
     "data": {
      "application/vnd.jupyter.widget-view+json": {
       "model_id": "ae22fafc6acf483884184bf6f5880d17",
       "version_major": 2,
       "version_minor": 0
      },
      "text/plain": [
       "Processing eps 2, color_y 7 landscapes:   0%|          | 0/1498 [00:00<?, ?it/s]"
      ]
     },
     "metadata": {},
     "output_type": "display_data"
    },
    {
     "data": {
      "application/vnd.jupyter.widget-view+json": {
       "model_id": "a60f28f73f30420eb787f9bac6b60334",
       "version_major": 2,
       "version_minor": 0
      },
      "text/plain": [
       "Processing eps 2, color_y 8 landscapes:   0%|          | 0/1386 [00:00<?, ?it/s]"
      ]
     },
     "metadata": {},
     "output_type": "display_data"
    },
    {
     "data": {
      "application/vnd.jupyter.widget-view+json": {
       "model_id": "6bbf4b3e92d7444c935f8ee395aa1a5f",
       "version_major": 2,
       "version_minor": 0
      },
      "text/plain": [
       "Processing eps 2, color_y 9 landscapes:   0%|          | 0/1362 [00:00<?, ?it/s]"
      ]
     },
     "metadata": {},
     "output_type": "display_data"
    },
    {
     "data": {
      "application/vnd.jupyter.widget-view+json": {
       "model_id": "832ada00c160488eab557880b8140dd3",
       "version_major": 2,
       "version_minor": 0
      },
      "text/plain": [
       "Processing eps 2.5, color_x 0 landscapes:   0%|          | 0/1338 [00:00<?, ?it/s]"
      ]
     },
     "metadata": {},
     "output_type": "display_data"
    },
    {
     "data": {
      "application/vnd.jupyter.widget-view+json": {
       "model_id": "bf0fafa4870241b7a86a6ede111fe75e",
       "version_major": 2,
       "version_minor": 0
      },
      "text/plain": [
       "Processing eps 2.5, color_x 1 landscapes:   0%|          | 0/1658 [00:00<?, ?it/s]"
      ]
     },
     "metadata": {},
     "output_type": "display_data"
    },
    {
     "data": {
      "application/vnd.jupyter.widget-view+json": {
       "model_id": "ba14f494899e49159f92a79df434c916",
       "version_major": 2,
       "version_minor": 0
      },
      "text/plain": [
       "Processing eps 2.5, color_x 2 landscapes:   0%|          | 0/1376 [00:00<?, ?it/s]"
      ]
     },
     "metadata": {},
     "output_type": "display_data"
    },
    {
     "data": {
      "application/vnd.jupyter.widget-view+json": {
       "model_id": "671c19c89dcc4e82be86459ca3b858f1",
       "version_major": 2,
       "version_minor": 0
      },
      "text/plain": [
       "Processing eps 2.5, color_x 3 landscapes:   0%|          | 0/1384 [00:00<?, ?it/s]"
      ]
     },
     "metadata": {},
     "output_type": "display_data"
    },
    {
     "data": {
      "application/vnd.jupyter.widget-view+json": {
       "model_id": "0fced1203c9841ac84961f56cf49e6b5",
       "version_major": 2,
       "version_minor": 0
      },
      "text/plain": [
       "Processing eps 2.5, color_x 4 landscapes:   0%|          | 0/1314 [00:00<?, ?it/s]"
      ]
     },
     "metadata": {},
     "output_type": "display_data"
    },
    {
     "data": {
      "application/vnd.jupyter.widget-view+json": {
       "model_id": "08219e8b94394a55ab93d5173b3ce034",
       "version_major": 2,
       "version_minor": 0
      },
      "text/plain": [
       "Processing eps 2.5, color_x 5 landscapes:   0%|          | 0/1250 [00:00<?, ?it/s]"
      ]
     },
     "metadata": {},
     "output_type": "display_data"
    },
    {
     "data": {
      "application/vnd.jupyter.widget-view+json": {
       "model_id": "3782f507fa6d437fa195c0aaececdc02",
       "version_major": 2,
       "version_minor": 0
      },
      "text/plain": [
       "Processing eps 2.5, color_x 6 landscapes:   0%|          | 0/1434 [00:00<?, ?it/s]"
      ]
     },
     "metadata": {},
     "output_type": "display_data"
    },
    {
     "data": {
      "application/vnd.jupyter.widget-view+json": {
       "model_id": "ab02f21337234d51b12d65737a3a6f72",
       "version_major": 2,
       "version_minor": 0
      },
      "text/plain": [
       "Processing eps 2.5, color_x 7 landscapes:   0%|          | 0/1498 [00:00<?, ?it/s]"
      ]
     },
     "metadata": {},
     "output_type": "display_data"
    },
    {
     "data": {
      "application/vnd.jupyter.widget-view+json": {
       "model_id": "d244d69e62ac4e0c85da04fd154b0dd2",
       "version_major": 2,
       "version_minor": 0
      },
      "text/plain": [
       "Processing eps 2.5, color_x 8 landscapes:   0%|          | 0/1386 [00:00<?, ?it/s]"
      ]
     },
     "metadata": {},
     "output_type": "display_data"
    },
    {
     "data": {
      "application/vnd.jupyter.widget-view+json": {
       "model_id": "cdd83112adbd48369cc2de8cb360e231",
       "version_major": 2,
       "version_minor": 0
      },
      "text/plain": [
       "Processing eps 2.5, color_x 9 landscapes:   0%|          | 0/1362 [00:00<?, ?it/s]"
      ]
     },
     "metadata": {},
     "output_type": "display_data"
    },
    {
     "data": {
      "application/vnd.jupyter.widget-view+json": {
       "model_id": "0ccc050537c84cce89172a11c606237c",
       "version_major": 2,
       "version_minor": 0
      },
      "text/plain": [
       "Processing eps 2.5, color_y 0 landscapes:   0%|          | 0/1338 [00:00<?, ?it/s]"
      ]
     },
     "metadata": {},
     "output_type": "display_data"
    },
    {
     "data": {
      "application/vnd.jupyter.widget-view+json": {
       "model_id": "be32189a14ae4d618f0fc236d7849576",
       "version_major": 2,
       "version_minor": 0
      },
      "text/plain": [
       "Processing eps 2.5, color_y 1 landscapes:   0%|          | 0/1658 [00:00<?, ?it/s]"
      ]
     },
     "metadata": {},
     "output_type": "display_data"
    },
    {
     "data": {
      "application/vnd.jupyter.widget-view+json": {
       "model_id": "183a23b6242b4ad6bf247fae8a14b2b3",
       "version_major": 2,
       "version_minor": 0
      },
      "text/plain": [
       "Processing eps 2.5, color_y 2 landscapes:   0%|          | 0/1376 [00:00<?, ?it/s]"
      ]
     },
     "metadata": {},
     "output_type": "display_data"
    },
    {
     "data": {
      "application/vnd.jupyter.widget-view+json": {
       "model_id": "443abec47002449799bee6c95a866fd4",
       "version_major": 2,
       "version_minor": 0
      },
      "text/plain": [
       "Processing eps 2.5, color_y 3 landscapes:   0%|          | 0/1384 [00:00<?, ?it/s]"
      ]
     },
     "metadata": {},
     "output_type": "display_data"
    },
    {
     "data": {
      "application/vnd.jupyter.widget-view+json": {
       "model_id": "55967ccde59548dca4c4276f6e121891",
       "version_major": 2,
       "version_minor": 0
      },
      "text/plain": [
       "Processing eps 2.5, color_y 4 landscapes:   0%|          | 0/1314 [00:00<?, ?it/s]"
      ]
     },
     "metadata": {},
     "output_type": "display_data"
    },
    {
     "data": {
      "application/vnd.jupyter.widget-view+json": {
       "model_id": "5057152f05f34951a3969318ea5e7ed0",
       "version_major": 2,
       "version_minor": 0
      },
      "text/plain": [
       "Processing eps 2.5, color_y 5 landscapes:   0%|          | 0/1250 [00:00<?, ?it/s]"
      ]
     },
     "metadata": {},
     "output_type": "display_data"
    },
    {
     "data": {
      "application/vnd.jupyter.widget-view+json": {
       "model_id": "eebc52e8cf904c9ba8664fe2a2aea54e",
       "version_major": 2,
       "version_minor": 0
      },
      "text/plain": [
       "Processing eps 2.5, color_y 6 landscapes:   0%|          | 0/1434 [00:00<?, ?it/s]"
      ]
     },
     "metadata": {},
     "output_type": "display_data"
    },
    {
     "data": {
      "application/vnd.jupyter.widget-view+json": {
       "model_id": "27ccadf3e4374506bdd4c7f3730c71ca",
       "version_major": 2,
       "version_minor": 0
      },
      "text/plain": [
       "Processing eps 2.5, color_y 7 landscapes:   0%|          | 0/1498 [00:00<?, ?it/s]"
      ]
     },
     "metadata": {},
     "output_type": "display_data"
    },
    {
     "data": {
      "application/vnd.jupyter.widget-view+json": {
       "model_id": "64d9f3475faf468e8be76e9d420f0413",
       "version_major": 2,
       "version_minor": 0
      },
      "text/plain": [
       "Processing eps 2.5, color_y 8 landscapes:   0%|          | 0/1386 [00:00<?, ?it/s]"
      ]
     },
     "metadata": {},
     "output_type": "display_data"
    },
    {
     "data": {
      "application/vnd.jupyter.widget-view+json": {
       "model_id": "dc0cfbe9694d4d9bbedd68bb8b3b3842",
       "version_major": 2,
       "version_minor": 0
      },
      "text/plain": [
       "Processing eps 2.5, color_y 9 landscapes:   0%|          | 0/1362 [00:00<?, ?it/s]"
      ]
     },
     "metadata": {},
     "output_type": "display_data"
    },
    {
     "data": {
      "application/vnd.jupyter.widget-view+json": {
       "model_id": "57c8a195bd9d45698537f272ecc76fe6",
       "version_major": 2,
       "version_minor": 0
      },
      "text/plain": [
       "Processing eps 3, color_x 0 landscapes:   0%|          | 0/1338 [00:00<?, ?it/s]"
      ]
     },
     "metadata": {},
     "output_type": "display_data"
    },
    {
     "data": {
      "application/vnd.jupyter.widget-view+json": {
       "model_id": "442729f92089467ca5e31205aca99421",
       "version_major": 2,
       "version_minor": 0
      },
      "text/plain": [
       "Processing eps 3, color_x 1 landscapes:   0%|          | 0/1658 [00:00<?, ?it/s]"
      ]
     },
     "metadata": {},
     "output_type": "display_data"
    },
    {
     "data": {
      "application/vnd.jupyter.widget-view+json": {
       "model_id": "ee2c6bcc8fab4628b011061034244347",
       "version_major": 2,
       "version_minor": 0
      },
      "text/plain": [
       "Processing eps 3, color_x 2 landscapes:   0%|          | 0/1376 [00:00<?, ?it/s]"
      ]
     },
     "metadata": {},
     "output_type": "display_data"
    },
    {
     "data": {
      "application/vnd.jupyter.widget-view+json": {
       "model_id": "45e52a7bf8f34ac49fb5a9310c2c616e",
       "version_major": 2,
       "version_minor": 0
      },
      "text/plain": [
       "Processing eps 3, color_x 3 landscapes:   0%|          | 0/1384 [00:00<?, ?it/s]"
      ]
     },
     "metadata": {},
     "output_type": "display_data"
    },
    {
     "data": {
      "application/vnd.jupyter.widget-view+json": {
       "model_id": "103cebd78bb7428092e0998c7c74102a",
       "version_major": 2,
       "version_minor": 0
      },
      "text/plain": [
       "Processing eps 3, color_x 4 landscapes:   0%|          | 0/1314 [00:00<?, ?it/s]"
      ]
     },
     "metadata": {},
     "output_type": "display_data"
    },
    {
     "data": {
      "application/vnd.jupyter.widget-view+json": {
       "model_id": "b252f70134b94288b5cfeba97f176409",
       "version_major": 2,
       "version_minor": 0
      },
      "text/plain": [
       "Processing eps 3, color_x 5 landscapes:   0%|          | 0/1250 [00:00<?, ?it/s]"
      ]
     },
     "metadata": {},
     "output_type": "display_data"
    },
    {
     "data": {
      "application/vnd.jupyter.widget-view+json": {
       "model_id": "fc775b096e4744d38157c167a06c5495",
       "version_major": 2,
       "version_minor": 0
      },
      "text/plain": [
       "Processing eps 3, color_x 6 landscapes:   0%|          | 0/1434 [00:00<?, ?it/s]"
      ]
     },
     "metadata": {},
     "output_type": "display_data"
    },
    {
     "data": {
      "application/vnd.jupyter.widget-view+json": {
       "model_id": "cfdc3e6e8a0d493aa033131fa02d5a0f",
       "version_major": 2,
       "version_minor": 0
      },
      "text/plain": [
       "Processing eps 3, color_x 7 landscapes:   0%|          | 0/1498 [00:00<?, ?it/s]"
      ]
     },
     "metadata": {},
     "output_type": "display_data"
    },
    {
     "data": {
      "application/vnd.jupyter.widget-view+json": {
       "model_id": "cd309882e8a248729461f58275a8c5fe",
       "version_major": 2,
       "version_minor": 0
      },
      "text/plain": [
       "Processing eps 3, color_x 8 landscapes:   0%|          | 0/1386 [00:00<?, ?it/s]"
      ]
     },
     "metadata": {},
     "output_type": "display_data"
    },
    {
     "data": {
      "application/vnd.jupyter.widget-view+json": {
       "model_id": "08461babb54c4b5f98872a5893af980f",
       "version_major": 2,
       "version_minor": 0
      },
      "text/plain": [
       "Processing eps 3, color_x 9 landscapes:   0%|          | 0/1362 [00:00<?, ?it/s]"
      ]
     },
     "metadata": {},
     "output_type": "display_data"
    },
    {
     "data": {
      "application/vnd.jupyter.widget-view+json": {
       "model_id": "ea6fcade152d4ab8a3e328d9e2261558",
       "version_major": 2,
       "version_minor": 0
      },
      "text/plain": [
       "Processing eps 3, color_y 0 landscapes:   0%|          | 0/1338 [00:00<?, ?it/s]"
      ]
     },
     "metadata": {},
     "output_type": "display_data"
    },
    {
     "data": {
      "application/vnd.jupyter.widget-view+json": {
       "model_id": "03f1c36a064d4d8e9ab52c9d9d490ba4",
       "version_major": 2,
       "version_minor": 0
      },
      "text/plain": [
       "Processing eps 3, color_y 1 landscapes:   0%|          | 0/1658 [00:00<?, ?it/s]"
      ]
     },
     "metadata": {},
     "output_type": "display_data"
    },
    {
     "data": {
      "application/vnd.jupyter.widget-view+json": {
       "model_id": "44d0e02824904b4d97385e42df6f5869",
       "version_major": 2,
       "version_minor": 0
      },
      "text/plain": [
       "Processing eps 3, color_y 2 landscapes:   0%|          | 0/1376 [00:00<?, ?it/s]"
      ]
     },
     "metadata": {},
     "output_type": "display_data"
    },
    {
     "data": {
      "application/vnd.jupyter.widget-view+json": {
       "model_id": "635f1c9d39ce48f9afc3a709554a4f87",
       "version_major": 2,
       "version_minor": 0
      },
      "text/plain": [
       "Processing eps 3, color_y 3 landscapes:   0%|          | 0/1384 [00:00<?, ?it/s]"
      ]
     },
     "metadata": {},
     "output_type": "display_data"
    },
    {
     "data": {
      "application/vnd.jupyter.widget-view+json": {
       "model_id": "cf98d0efbfb94066a48e38cd0427dc81",
       "version_major": 2,
       "version_minor": 0
      },
      "text/plain": [
       "Processing eps 3, color_y 4 landscapes:   0%|          | 0/1314 [00:00<?, ?it/s]"
      ]
     },
     "metadata": {},
     "output_type": "display_data"
    },
    {
     "data": {
      "application/vnd.jupyter.widget-view+json": {
       "model_id": "ee3f2992e6874baf85b0ed50d3df1901",
       "version_major": 2,
       "version_minor": 0
      },
      "text/plain": [
       "Processing eps 3, color_y 5 landscapes:   0%|          | 0/1250 [00:00<?, ?it/s]"
      ]
     },
     "metadata": {},
     "output_type": "display_data"
    },
    {
     "data": {
      "application/vnd.jupyter.widget-view+json": {
       "model_id": "adcb621d9a2348d2a3d474eef07298e5",
       "version_major": 2,
       "version_minor": 0
      },
      "text/plain": [
       "Processing eps 3, color_y 6 landscapes:   0%|          | 0/1434 [00:00<?, ?it/s]"
      ]
     },
     "metadata": {},
     "output_type": "display_data"
    },
    {
     "data": {
      "application/vnd.jupyter.widget-view+json": {
       "model_id": "13eb3bf4c94a457ca5a641060abf8df1",
       "version_major": 2,
       "version_minor": 0
      },
      "text/plain": [
       "Processing eps 3, color_y 7 landscapes:   0%|          | 0/1498 [00:00<?, ?it/s]"
      ]
     },
     "metadata": {},
     "output_type": "display_data"
    },
    {
     "data": {
      "application/vnd.jupyter.widget-view+json": {
       "model_id": "2eeb86d025244b51a88c32c07b8fd8cc",
       "version_major": 2,
       "version_minor": 0
      },
      "text/plain": [
       "Processing eps 3, color_y 8 landscapes:   0%|          | 0/1386 [00:00<?, ?it/s]"
      ]
     },
     "metadata": {},
     "output_type": "display_data"
    },
    {
     "data": {
      "application/vnd.jupyter.widget-view+json": {
       "model_id": "052cea7e36c74a9a865d09b004acb4fb",
       "version_major": 2,
       "version_minor": 0
      },
      "text/plain": [
       "Processing eps 3, color_y 9 landscapes:   0%|          | 0/1362 [00:00<?, ?it/s]"
      ]
     },
     "metadata": {},
     "output_type": "display_data"
    },
    {
     "data": {
      "application/vnd.jupyter.widget-view+json": {
       "model_id": "2fe49ef6e9404d3aa176747a546da4b4",
       "version_major": 2,
       "version_minor": 0
      },
      "text/plain": [
       "Processing eps 1.5, color_x 0 landscapes:   0%|          | 0/1338 [00:00<?, ?it/s]"
      ]
     },
     "metadata": {},
     "output_type": "display_data"
    },
    {
     "data": {
      "application/vnd.jupyter.widget-view+json": {
       "model_id": "a9d7628128934452aa9ee0e3fc6e7b04",
       "version_major": 2,
       "version_minor": 0
      },
      "text/plain": [
       "Processing eps 1.5, color_x 1 landscapes:   0%|          | 0/1658 [00:00<?, ?it/s]"
      ]
     },
     "metadata": {},
     "output_type": "display_data"
    },
    {
     "data": {
      "application/vnd.jupyter.widget-view+json": {
       "model_id": "94fb2bcf81934acf8d350084c42daa81",
       "version_major": 2,
       "version_minor": 0
      },
      "text/plain": [
       "Processing eps 1.5, color_x 2 landscapes:   0%|          | 0/1376 [00:00<?, ?it/s]"
      ]
     },
     "metadata": {},
     "output_type": "display_data"
    },
    {
     "data": {
      "application/vnd.jupyter.widget-view+json": {
       "model_id": "11a014e556564b7dbb9cb44028a73e73",
       "version_major": 2,
       "version_minor": 0
      },
      "text/plain": [
       "Processing eps 1.5, color_x 3 landscapes:   0%|          | 0/1384 [00:00<?, ?it/s]"
      ]
     },
     "metadata": {},
     "output_type": "display_data"
    },
    {
     "data": {
      "application/vnd.jupyter.widget-view+json": {
       "model_id": "dcaaf87a01ca4fda9bcf1e0ceb9d519b",
       "version_major": 2,
       "version_minor": 0
      },
      "text/plain": [
       "Processing eps 1.5, color_x 4 landscapes:   0%|          | 0/1314 [00:00<?, ?it/s]"
      ]
     },
     "metadata": {},
     "output_type": "display_data"
    },
    {
     "data": {
      "application/vnd.jupyter.widget-view+json": {
       "model_id": "e0f0addf7914453d9ff80097e7ca17b2",
       "version_major": 2,
       "version_minor": 0
      },
      "text/plain": [
       "Processing eps 1.5, color_x 5 landscapes:   0%|          | 0/1250 [00:00<?, ?it/s]"
      ]
     },
     "metadata": {},
     "output_type": "display_data"
    },
    {
     "data": {
      "application/vnd.jupyter.widget-view+json": {
       "model_id": "a92bf4d31687497a84a690e4084b7e09",
       "version_major": 2,
       "version_minor": 0
      },
      "text/plain": [
       "Processing eps 1.5, color_x 6 landscapes:   0%|          | 0/1434 [00:00<?, ?it/s]"
      ]
     },
     "metadata": {},
     "output_type": "display_data"
    },
    {
     "data": {
      "application/vnd.jupyter.widget-view+json": {
       "model_id": "310c3eb7db764ad8a8bfb84fdf133343",
       "version_major": 2,
       "version_minor": 0
      },
      "text/plain": [
       "Processing eps 1.5, color_x 7 landscapes:   0%|          | 0/1498 [00:00<?, ?it/s]"
      ]
     },
     "metadata": {},
     "output_type": "display_data"
    },
    {
     "data": {
      "application/vnd.jupyter.widget-view+json": {
       "model_id": "4648241af9e44248be869f85df3304c5",
       "version_major": 2,
       "version_minor": 0
      },
      "text/plain": [
       "Processing eps 1.5, color_x 8 landscapes:   0%|          | 0/1386 [00:00<?, ?it/s]"
      ]
     },
     "metadata": {},
     "output_type": "display_data"
    },
    {
     "data": {
      "application/vnd.jupyter.widget-view+json": {
       "model_id": "f79d2f0a7fb74d9092f106e5cd8ec0b8",
       "version_major": 2,
       "version_minor": 0
      },
      "text/plain": [
       "Processing eps 1.5, color_x 9 landscapes:   0%|          | 0/1362 [00:00<?, ?it/s]"
      ]
     },
     "metadata": {},
     "output_type": "display_data"
    },
    {
     "data": {
      "application/vnd.jupyter.widget-view+json": {
       "model_id": "b997aeac7f9b46679e77dfad2b3cf6bd",
       "version_major": 2,
       "version_minor": 0
      },
      "text/plain": [
       "Processing eps 1.5, color_y 0 landscapes:   0%|          | 0/1338 [00:00<?, ?it/s]"
      ]
     },
     "metadata": {},
     "output_type": "display_data"
    },
    {
     "data": {
      "application/vnd.jupyter.widget-view+json": {
       "model_id": "32933615f3e54935b40622d334f44996",
       "version_major": 2,
       "version_minor": 0
      },
      "text/plain": [
       "Processing eps 1.5, color_y 1 landscapes:   0%|          | 0/1658 [00:00<?, ?it/s]"
      ]
     },
     "metadata": {},
     "output_type": "display_data"
    },
    {
     "data": {
      "application/vnd.jupyter.widget-view+json": {
       "model_id": "7006946d456c4a5190217eccfd6aaa05",
       "version_major": 2,
       "version_minor": 0
      },
      "text/plain": [
       "Processing eps 1.5, color_y 2 landscapes:   0%|          | 0/1376 [00:00<?, ?it/s]"
      ]
     },
     "metadata": {},
     "output_type": "display_data"
    },
    {
     "data": {
      "application/vnd.jupyter.widget-view+json": {
       "model_id": "d3ecd0b43685464ca92cf068793fb9da",
       "version_major": 2,
       "version_minor": 0
      },
      "text/plain": [
       "Processing eps 1.5, color_y 3 landscapes:   0%|          | 0/1384 [00:00<?, ?it/s]"
      ]
     },
     "metadata": {},
     "output_type": "display_data"
    },
    {
     "data": {
      "application/vnd.jupyter.widget-view+json": {
       "model_id": "43dacf5d8e064bd6b356efc3b4c2513f",
       "version_major": 2,
       "version_minor": 0
      },
      "text/plain": [
       "Processing eps 1.5, color_y 4 landscapes:   0%|          | 0/1314 [00:00<?, ?it/s]"
      ]
     },
     "metadata": {},
     "output_type": "display_data"
    },
    {
     "data": {
      "application/vnd.jupyter.widget-view+json": {
       "model_id": "c6d45e78a74642e3aac9ed09c1a0097a",
       "version_major": 2,
       "version_minor": 0
      },
      "text/plain": [
       "Processing eps 1.5, color_y 5 landscapes:   0%|          | 0/1250 [00:00<?, ?it/s]"
      ]
     },
     "metadata": {},
     "output_type": "display_data"
    },
    {
     "data": {
      "application/vnd.jupyter.widget-view+json": {
       "model_id": "94d52e551c6b4d8bafbd6b9224bb3a5c",
       "version_major": 2,
       "version_minor": 0
      },
      "text/plain": [
       "Processing eps 1.5, color_y 6 landscapes:   0%|          | 0/1434 [00:00<?, ?it/s]"
      ]
     },
     "metadata": {},
     "output_type": "display_data"
    },
    {
     "data": {
      "application/vnd.jupyter.widget-view+json": {
       "model_id": "adc92fecdc9f4a30b20f126d93422ac8",
       "version_major": 2,
       "version_minor": 0
      },
      "text/plain": [
       "Processing eps 1.5, color_y 7 landscapes:   0%|          | 0/1498 [00:00<?, ?it/s]"
      ]
     },
     "metadata": {},
     "output_type": "display_data"
    },
    {
     "data": {
      "application/vnd.jupyter.widget-view+json": {
       "model_id": "2bb1316c829748939a2aea702a6ef061",
       "version_major": 2,
       "version_minor": 0
      },
      "text/plain": [
       "Processing eps 1.5, color_y 8 landscapes:   0%|          | 0/1386 [00:00<?, ?it/s]"
      ]
     },
     "metadata": {},
     "output_type": "display_data"
    },
    {
     "data": {
      "application/vnd.jupyter.widget-view+json": {
       "model_id": "71737a47c86f43d58e9294870066e19f",
       "version_major": 2,
       "version_minor": 0
      },
      "text/plain": [
       "Processing eps 1.5, color_y 9 landscapes:   0%|          | 0/1362 [00:00<?, ?it/s]"
      ]
     },
     "metadata": {},
     "output_type": "display_data"
    },
    {
     "data": {
      "application/vnd.jupyter.widget-view+json": {
       "model_id": "b7e19fb3979e40d38691f6ebb1ed7e9a",
       "version_major": 2,
       "version_minor": 0
      },
      "text/plain": [
       "Processing eps 2, color_x 0 landscapes:   0%|          | 0/1338 [00:00<?, ?it/s]"
      ]
     },
     "metadata": {},
     "output_type": "display_data"
    },
    {
     "data": {
      "application/vnd.jupyter.widget-view+json": {
       "model_id": "09195369bbd94cd6b00cb3cd591fde9d",
       "version_major": 2,
       "version_minor": 0
      },
      "text/plain": [
       "Processing eps 2, color_x 1 landscapes:   0%|          | 0/1658 [00:00<?, ?it/s]"
      ]
     },
     "metadata": {},
     "output_type": "display_data"
    },
    {
     "data": {
      "application/vnd.jupyter.widget-view+json": {
       "model_id": "50bddd470add4bec95b474b8859dc749",
       "version_major": 2,
       "version_minor": 0
      },
      "text/plain": [
       "Processing eps 2, color_x 2 landscapes:   0%|          | 0/1376 [00:00<?, ?it/s]"
      ]
     },
     "metadata": {},
     "output_type": "display_data"
    },
    {
     "data": {
      "application/vnd.jupyter.widget-view+json": {
       "model_id": "ee25673bd53444ba9b98913da5efc872",
       "version_major": 2,
       "version_minor": 0
      },
      "text/plain": [
       "Processing eps 2, color_x 3 landscapes:   0%|          | 0/1384 [00:00<?, ?it/s]"
      ]
     },
     "metadata": {},
     "output_type": "display_data"
    },
    {
     "data": {
      "application/vnd.jupyter.widget-view+json": {
       "model_id": "88fe8a3667b94daca5e916f7c1c44336",
       "version_major": 2,
       "version_minor": 0
      },
      "text/plain": [
       "Processing eps 2, color_x 4 landscapes:   0%|          | 0/1314 [00:00<?, ?it/s]"
      ]
     },
     "metadata": {},
     "output_type": "display_data"
    },
    {
     "data": {
      "application/vnd.jupyter.widget-view+json": {
       "model_id": "de37d88bf2484dd795f70ee846e573c7",
       "version_major": 2,
       "version_minor": 0
      },
      "text/plain": [
       "Processing eps 2, color_x 5 landscapes:   0%|          | 0/1250 [00:00<?, ?it/s]"
      ]
     },
     "metadata": {},
     "output_type": "display_data"
    },
    {
     "data": {
      "application/vnd.jupyter.widget-view+json": {
       "model_id": "4969f2bb09384ffd83a3bfdbf4054f03",
       "version_major": 2,
       "version_minor": 0
      },
      "text/plain": [
       "Processing eps 2, color_x 6 landscapes:   0%|          | 0/1434 [00:00<?, ?it/s]"
      ]
     },
     "metadata": {},
     "output_type": "display_data"
    },
    {
     "data": {
      "application/vnd.jupyter.widget-view+json": {
       "model_id": "449b66ec0c6a48e1965662bd60b4ee51",
       "version_major": 2,
       "version_minor": 0
      },
      "text/plain": [
       "Processing eps 2, color_x 7 landscapes:   0%|          | 0/1498 [00:00<?, ?it/s]"
      ]
     },
     "metadata": {},
     "output_type": "display_data"
    },
    {
     "data": {
      "application/vnd.jupyter.widget-view+json": {
       "model_id": "5f4d564c54b348bfbc50fd9be57add97",
       "version_major": 2,
       "version_minor": 0
      },
      "text/plain": [
       "Processing eps 2, color_x 8 landscapes:   0%|          | 0/1386 [00:00<?, ?it/s]"
      ]
     },
     "metadata": {},
     "output_type": "display_data"
    },
    {
     "data": {
      "application/vnd.jupyter.widget-view+json": {
       "model_id": "c463cae593f64ab1ac68e6099eb40023",
       "version_major": 2,
       "version_minor": 0
      },
      "text/plain": [
       "Processing eps 2, color_x 9 landscapes:   0%|          | 0/1362 [00:00<?, ?it/s]"
      ]
     },
     "metadata": {},
     "output_type": "display_data"
    },
    {
     "data": {
      "application/vnd.jupyter.widget-view+json": {
       "model_id": "5d520a655d984a119b7dd072a990d19a",
       "version_major": 2,
       "version_minor": 0
      },
      "text/plain": [
       "Processing eps 2, color_y 0 landscapes:   0%|          | 0/1338 [00:00<?, ?it/s]"
      ]
     },
     "metadata": {},
     "output_type": "display_data"
    },
    {
     "data": {
      "application/vnd.jupyter.widget-view+json": {
       "model_id": "504c9f52ec144848aaf3c441ab21f53e",
       "version_major": 2,
       "version_minor": 0
      },
      "text/plain": [
       "Processing eps 2, color_y 1 landscapes:   0%|          | 0/1658 [00:00<?, ?it/s]"
      ]
     },
     "metadata": {},
     "output_type": "display_data"
    },
    {
     "data": {
      "application/vnd.jupyter.widget-view+json": {
       "model_id": "479e4b646d774b2c8328e49324057db2",
       "version_major": 2,
       "version_minor": 0
      },
      "text/plain": [
       "Processing eps 2, color_y 2 landscapes:   0%|          | 0/1376 [00:00<?, ?it/s]"
      ]
     },
     "metadata": {},
     "output_type": "display_data"
    },
    {
     "data": {
      "application/vnd.jupyter.widget-view+json": {
       "model_id": "a109605c21644ca08de699c1b9f7730e",
       "version_major": 2,
       "version_minor": 0
      },
      "text/plain": [
       "Processing eps 2, color_y 3 landscapes:   0%|          | 0/1384 [00:00<?, ?it/s]"
      ]
     },
     "metadata": {},
     "output_type": "display_data"
    },
    {
     "data": {
      "application/vnd.jupyter.widget-view+json": {
       "model_id": "3c7fa677900046189b9f0424749aea86",
       "version_major": 2,
       "version_minor": 0
      },
      "text/plain": [
       "Processing eps 2, color_y 4 landscapes:   0%|          | 0/1314 [00:00<?, ?it/s]"
      ]
     },
     "metadata": {},
     "output_type": "display_data"
    },
    {
     "data": {
      "application/vnd.jupyter.widget-view+json": {
       "model_id": "c4d92de302744eff861f59f4b5873c1f",
       "version_major": 2,
       "version_minor": 0
      },
      "text/plain": [
       "Processing eps 2, color_y 5 landscapes:   0%|          | 0/1250 [00:00<?, ?it/s]"
      ]
     },
     "metadata": {},
     "output_type": "display_data"
    },
    {
     "data": {
      "application/vnd.jupyter.widget-view+json": {
       "model_id": "a68c3a637bfc48e7b2395330a910f787",
       "version_major": 2,
       "version_minor": 0
      },
      "text/plain": [
       "Processing eps 2, color_y 6 landscapes:   0%|          | 0/1434 [00:00<?, ?it/s]"
      ]
     },
     "metadata": {},
     "output_type": "display_data"
    },
    {
     "data": {
      "application/vnd.jupyter.widget-view+json": {
       "model_id": "cafce07e6d9d4492ba8256ea4c18cfa4",
       "version_major": 2,
       "version_minor": 0
      },
      "text/plain": [
       "Processing eps 2, color_y 7 landscapes:   0%|          | 0/1498 [00:00<?, ?it/s]"
      ]
     },
     "metadata": {},
     "output_type": "display_data"
    },
    {
     "data": {
      "application/vnd.jupyter.widget-view+json": {
       "model_id": "ed8530d75e8f425b8ffc3ba5e7a39466",
       "version_major": 2,
       "version_minor": 0
      },
      "text/plain": [
       "Processing eps 2, color_y 8 landscapes:   0%|          | 0/1386 [00:00<?, ?it/s]"
      ]
     },
     "metadata": {},
     "output_type": "display_data"
    },
    {
     "data": {
      "application/vnd.jupyter.widget-view+json": {
       "model_id": "b14044dc572246b5bf4b8e65bc54e153",
       "version_major": 2,
       "version_minor": 0
      },
      "text/plain": [
       "Processing eps 2, color_y 9 landscapes:   0%|          | 0/1362 [00:00<?, ?it/s]"
      ]
     },
     "metadata": {},
     "output_type": "display_data"
    },
    {
     "data": {
      "application/vnd.jupyter.widget-view+json": {
       "model_id": "d6ce66cb8838416184798fe117ba7292",
       "version_major": 2,
       "version_minor": 0
      },
      "text/plain": [
       "Processing eps 2.5, color_x 0 landscapes:   0%|          | 0/1338 [00:00<?, ?it/s]"
      ]
     },
     "metadata": {},
     "output_type": "display_data"
    },
    {
     "data": {
      "application/vnd.jupyter.widget-view+json": {
       "model_id": "7248cb38734a460f8ed346b79b454506",
       "version_major": 2,
       "version_minor": 0
      },
      "text/plain": [
       "Processing eps 2.5, color_x 1 landscapes:   0%|          | 0/1658 [00:00<?, ?it/s]"
      ]
     },
     "metadata": {},
     "output_type": "display_data"
    },
    {
     "data": {
      "application/vnd.jupyter.widget-view+json": {
       "model_id": "6f6473f747a547cf9c6421368f08f05a",
       "version_major": 2,
       "version_minor": 0
      },
      "text/plain": [
       "Processing eps 2.5, color_x 2 landscapes:   0%|          | 0/1376 [00:00<?, ?it/s]"
      ]
     },
     "metadata": {},
     "output_type": "display_data"
    },
    {
     "data": {
      "application/vnd.jupyter.widget-view+json": {
       "model_id": "05749e8bacb84ca2aec58a72605ae1f1",
       "version_major": 2,
       "version_minor": 0
      },
      "text/plain": [
       "Processing eps 2.5, color_x 3 landscapes:   0%|          | 0/1384 [00:00<?, ?it/s]"
      ]
     },
     "metadata": {},
     "output_type": "display_data"
    },
    {
     "data": {
      "application/vnd.jupyter.widget-view+json": {
       "model_id": "3989e8fdddcc4f9fa7e7942ec69e16a1",
       "version_major": 2,
       "version_minor": 0
      },
      "text/plain": [
       "Processing eps 2.5, color_x 4 landscapes:   0%|          | 0/1314 [00:00<?, ?it/s]"
      ]
     },
     "metadata": {},
     "output_type": "display_data"
    },
    {
     "data": {
      "application/vnd.jupyter.widget-view+json": {
       "model_id": "1d0521aff3854afabfa55f3ddc3aa340",
       "version_major": 2,
       "version_minor": 0
      },
      "text/plain": [
       "Processing eps 2.5, color_x 5 landscapes:   0%|          | 0/1250 [00:00<?, ?it/s]"
      ]
     },
     "metadata": {},
     "output_type": "display_data"
    },
    {
     "data": {
      "application/vnd.jupyter.widget-view+json": {
       "model_id": "9687d5d64d6d41a1a79f195517b15b1f",
       "version_major": 2,
       "version_minor": 0
      },
      "text/plain": [
       "Processing eps 2.5, color_x 6 landscapes:   0%|          | 0/1434 [00:00<?, ?it/s]"
      ]
     },
     "metadata": {},
     "output_type": "display_data"
    },
    {
     "data": {
      "application/vnd.jupyter.widget-view+json": {
       "model_id": "56f38b55be3246db8c2e581522b3313f",
       "version_major": 2,
       "version_minor": 0
      },
      "text/plain": [
       "Processing eps 2.5, color_x 7 landscapes:   0%|          | 0/1498 [00:00<?, ?it/s]"
      ]
     },
     "metadata": {},
     "output_type": "display_data"
    },
    {
     "data": {
      "application/vnd.jupyter.widget-view+json": {
       "model_id": "7bf72d929e0343b78c9398bb13b29953",
       "version_major": 2,
       "version_minor": 0
      },
      "text/plain": [
       "Processing eps 2.5, color_x 8 landscapes:   0%|          | 0/1386 [00:00<?, ?it/s]"
      ]
     },
     "metadata": {},
     "output_type": "display_data"
    },
    {
     "data": {
      "application/vnd.jupyter.widget-view+json": {
       "model_id": "4e6bcd84fd7347dfbb4d125b431db728",
       "version_major": 2,
       "version_minor": 0
      },
      "text/plain": [
       "Processing eps 2.5, color_x 9 landscapes:   0%|          | 0/1362 [00:00<?, ?it/s]"
      ]
     },
     "metadata": {},
     "output_type": "display_data"
    },
    {
     "data": {
      "application/vnd.jupyter.widget-view+json": {
       "model_id": "39310968e4a446d2bd75c33df868ec7b",
       "version_major": 2,
       "version_minor": 0
      },
      "text/plain": [
       "Processing eps 2.5, color_y 0 landscapes:   0%|          | 0/1338 [00:00<?, ?it/s]"
      ]
     },
     "metadata": {},
     "output_type": "display_data"
    },
    {
     "data": {
      "application/vnd.jupyter.widget-view+json": {
       "model_id": "60c7f1ebae6d41f5a2ea0e3bf556463b",
       "version_major": 2,
       "version_minor": 0
      },
      "text/plain": [
       "Processing eps 2.5, color_y 1 landscapes:   0%|          | 0/1658 [00:00<?, ?it/s]"
      ]
     },
     "metadata": {},
     "output_type": "display_data"
    },
    {
     "data": {
      "application/vnd.jupyter.widget-view+json": {
       "model_id": "c55d31894fd84f68baec1bb4eec93a66",
       "version_major": 2,
       "version_minor": 0
      },
      "text/plain": [
       "Processing eps 2.5, color_y 2 landscapes:   0%|          | 0/1376 [00:00<?, ?it/s]"
      ]
     },
     "metadata": {},
     "output_type": "display_data"
    },
    {
     "data": {
      "application/vnd.jupyter.widget-view+json": {
       "model_id": "0c6017422c8b479584d3750c33c9efef",
       "version_major": 2,
       "version_minor": 0
      },
      "text/plain": [
       "Processing eps 2.5, color_y 3 landscapes:   0%|          | 0/1384 [00:00<?, ?it/s]"
      ]
     },
     "metadata": {},
     "output_type": "display_data"
    },
    {
     "data": {
      "application/vnd.jupyter.widget-view+json": {
       "model_id": "fc6bf6c2812a49a0baa9291b28d89c6b",
       "version_major": 2,
       "version_minor": 0
      },
      "text/plain": [
       "Processing eps 2.5, color_y 4 landscapes:   0%|          | 0/1314 [00:00<?, ?it/s]"
      ]
     },
     "metadata": {},
     "output_type": "display_data"
    },
    {
     "data": {
      "application/vnd.jupyter.widget-view+json": {
       "model_id": "8f26b47276f445fda68e78ec66418a98",
       "version_major": 2,
       "version_minor": 0
      },
      "text/plain": [
       "Processing eps 2.5, color_y 5 landscapes:   0%|          | 0/1250 [00:00<?, ?it/s]"
      ]
     },
     "metadata": {},
     "output_type": "display_data"
    },
    {
     "data": {
      "application/vnd.jupyter.widget-view+json": {
       "model_id": "6eb1ff9177284eafbd1742df11c2a394",
       "version_major": 2,
       "version_minor": 0
      },
      "text/plain": [
       "Processing eps 2.5, color_y 6 landscapes:   0%|          | 0/1434 [00:00<?, ?it/s]"
      ]
     },
     "metadata": {},
     "output_type": "display_data"
    },
    {
     "data": {
      "application/vnd.jupyter.widget-view+json": {
       "model_id": "42caf1569b0b4ea9b7b1e08b7d60a252",
       "version_major": 2,
       "version_minor": 0
      },
      "text/plain": [
       "Processing eps 2.5, color_y 7 landscapes:   0%|          | 0/1498 [00:00<?, ?it/s]"
      ]
     },
     "metadata": {},
     "output_type": "display_data"
    },
    {
     "data": {
      "application/vnd.jupyter.widget-view+json": {
       "model_id": "d53950f5d53e402caaa89e188824d395",
       "version_major": 2,
       "version_minor": 0
      },
      "text/plain": [
       "Processing eps 2.5, color_y 8 landscapes:   0%|          | 0/1386 [00:00<?, ?it/s]"
      ]
     },
     "metadata": {},
     "output_type": "display_data"
    },
    {
     "data": {
      "application/vnd.jupyter.widget-view+json": {
       "model_id": "8cf101341ae4497984e2275aaf78bc5f",
       "version_major": 2,
       "version_minor": 0
      },
      "text/plain": [
       "Processing eps 2.5, color_y 9 landscapes:   0%|          | 0/1362 [00:00<?, ?it/s]"
      ]
     },
     "metadata": {},
     "output_type": "display_data"
    },
    {
     "data": {
      "application/vnd.jupyter.widget-view+json": {
       "model_id": "0f53840ba0274f29b25741de378051ac",
       "version_major": 2,
       "version_minor": 0
      },
      "text/plain": [
       "Processing eps 3, color_x 0 landscapes:   0%|          | 0/1338 [00:00<?, ?it/s]"
      ]
     },
     "metadata": {},
     "output_type": "display_data"
    },
    {
     "data": {
      "application/vnd.jupyter.widget-view+json": {
       "model_id": "8a4a818cb6244a03837741ff49af132f",
       "version_major": 2,
       "version_minor": 0
      },
      "text/plain": [
       "Processing eps 3, color_x 1 landscapes:   0%|          | 0/1658 [00:00<?, ?it/s]"
      ]
     },
     "metadata": {},
     "output_type": "display_data"
    },
    {
     "data": {
      "application/vnd.jupyter.widget-view+json": {
       "model_id": "505f9352b9a94d55904ece0e1b5b8c9f",
       "version_major": 2,
       "version_minor": 0
      },
      "text/plain": [
       "Processing eps 3, color_x 2 landscapes:   0%|          | 0/1376 [00:00<?, ?it/s]"
      ]
     },
     "metadata": {},
     "output_type": "display_data"
    },
    {
     "data": {
      "application/vnd.jupyter.widget-view+json": {
       "model_id": "315645725e06484292898d34273b2bde",
       "version_major": 2,
       "version_minor": 0
      },
      "text/plain": [
       "Processing eps 3, color_x 3 landscapes:   0%|          | 0/1384 [00:00<?, ?it/s]"
      ]
     },
     "metadata": {},
     "output_type": "display_data"
    },
    {
     "data": {
      "application/vnd.jupyter.widget-view+json": {
       "model_id": "45b6014cb9fb49cfa4eaaed89cd0652e",
       "version_major": 2,
       "version_minor": 0
      },
      "text/plain": [
       "Processing eps 3, color_x 4 landscapes:   0%|          | 0/1314 [00:00<?, ?it/s]"
      ]
     },
     "metadata": {},
     "output_type": "display_data"
    },
    {
     "data": {
      "application/vnd.jupyter.widget-view+json": {
       "model_id": "1197af1bdf7847f3b5e434cf2e8044a6",
       "version_major": 2,
       "version_minor": 0
      },
      "text/plain": [
       "Processing eps 3, color_x 5 landscapes:   0%|          | 0/1250 [00:00<?, ?it/s]"
      ]
     },
     "metadata": {},
     "output_type": "display_data"
    },
    {
     "data": {
      "application/vnd.jupyter.widget-view+json": {
       "model_id": "9aa1d7cccc004927a55329e26a4f2a28",
       "version_major": 2,
       "version_minor": 0
      },
      "text/plain": [
       "Processing eps 3, color_x 6 landscapes:   0%|          | 0/1434 [00:00<?, ?it/s]"
      ]
     },
     "metadata": {},
     "output_type": "display_data"
    },
    {
     "data": {
      "application/vnd.jupyter.widget-view+json": {
       "model_id": "f7ce6843345345e9a121117fccd04e64",
       "version_major": 2,
       "version_minor": 0
      },
      "text/plain": [
       "Processing eps 3, color_x 7 landscapes:   0%|          | 0/1498 [00:00<?, ?it/s]"
      ]
     },
     "metadata": {},
     "output_type": "display_data"
    },
    {
     "data": {
      "application/vnd.jupyter.widget-view+json": {
       "model_id": "298e13a750aa461ea93a1b6fcd4ba2a6",
       "version_major": 2,
       "version_minor": 0
      },
      "text/plain": [
       "Processing eps 3, color_x 8 landscapes:   0%|          | 0/1386 [00:00<?, ?it/s]"
      ]
     },
     "metadata": {},
     "output_type": "display_data"
    },
    {
     "data": {
      "application/vnd.jupyter.widget-view+json": {
       "model_id": "a4a37addef194b3396ed90c01431a79f",
       "version_major": 2,
       "version_minor": 0
      },
      "text/plain": [
       "Processing eps 3, color_x 9 landscapes:   0%|          | 0/1362 [00:00<?, ?it/s]"
      ]
     },
     "metadata": {},
     "output_type": "display_data"
    },
    {
     "data": {
      "application/vnd.jupyter.widget-view+json": {
       "model_id": "6756c3093bcc442db9c27739a8d1fd83",
       "version_major": 2,
       "version_minor": 0
      },
      "text/plain": [
       "Processing eps 3, color_y 0 landscapes:   0%|          | 0/1338 [00:00<?, ?it/s]"
      ]
     },
     "metadata": {},
     "output_type": "display_data"
    },
    {
     "data": {
      "application/vnd.jupyter.widget-view+json": {
       "model_id": "ffc6a782f80e49539de3f85f38fc2999",
       "version_major": 2,
       "version_minor": 0
      },
      "text/plain": [
       "Processing eps 3, color_y 1 landscapes:   0%|          | 0/1658 [00:00<?, ?it/s]"
      ]
     },
     "metadata": {},
     "output_type": "display_data"
    },
    {
     "data": {
      "application/vnd.jupyter.widget-view+json": {
       "model_id": "68362e72399a4ae48e8d2a56760aeddf",
       "version_major": 2,
       "version_minor": 0
      },
      "text/plain": [
       "Processing eps 3, color_y 2 landscapes:   0%|          | 0/1376 [00:00<?, ?it/s]"
      ]
     },
     "metadata": {},
     "output_type": "display_data"
    },
    {
     "data": {
      "application/vnd.jupyter.widget-view+json": {
       "model_id": "bd02f155628e4b108dff9efbe327d70a",
       "version_major": 2,
       "version_minor": 0
      },
      "text/plain": [
       "Processing eps 3, color_y 3 landscapes:   0%|          | 0/1384 [00:00<?, ?it/s]"
      ]
     },
     "metadata": {},
     "output_type": "display_data"
    },
    {
     "data": {
      "application/vnd.jupyter.widget-view+json": {
       "model_id": "e425d702b92d41d69883e11c01c24f32",
       "version_major": 2,
       "version_minor": 0
      },
      "text/plain": [
       "Processing eps 3, color_y 4 landscapes:   0%|          | 0/1314 [00:00<?, ?it/s]"
      ]
     },
     "metadata": {},
     "output_type": "display_data"
    },
    {
     "data": {
      "application/vnd.jupyter.widget-view+json": {
       "model_id": "440cb30fec6446ef83e365dea8d324a6",
       "version_major": 2,
       "version_minor": 0
      },
      "text/plain": [
       "Processing eps 3, color_y 5 landscapes:   0%|          | 0/1250 [00:00<?, ?it/s]"
      ]
     },
     "metadata": {},
     "output_type": "display_data"
    },
    {
     "data": {
      "application/vnd.jupyter.widget-view+json": {
       "model_id": "4408f61a13cd444191415bc68d9ec96d",
       "version_major": 2,
       "version_minor": 0
      },
      "text/plain": [
       "Processing eps 3, color_y 6 landscapes:   0%|          | 0/1434 [00:00<?, ?it/s]"
      ]
     },
     "metadata": {},
     "output_type": "display_data"
    },
    {
     "data": {
      "application/vnd.jupyter.widget-view+json": {
       "model_id": "b0dd408c5371490381b763414516ecde",
       "version_major": 2,
       "version_minor": 0
      },
      "text/plain": [
       "Processing eps 3, color_y 7 landscapes:   0%|          | 0/1498 [00:00<?, ?it/s]"
      ]
     },
     "metadata": {},
     "output_type": "display_data"
    },
    {
     "data": {
      "application/vnd.jupyter.widget-view+json": {
       "model_id": "855a0b2c768d438d9bdee4b7b57db6db",
       "version_major": 2,
       "version_minor": 0
      },
      "text/plain": [
       "Processing eps 3, color_y 8 landscapes:   0%|          | 0/1386 [00:00<?, ?it/s]"
      ]
     },
     "metadata": {},
     "output_type": "display_data"
    },
    {
     "data": {
      "application/vnd.jupyter.widget-view+json": {
       "model_id": "3ff48a1299974b16bf827969d640189d",
       "version_major": 2,
       "version_minor": 0
      },
      "text/plain": [
       "Processing eps 3, color_y 9 landscapes:   0%|          | 0/1362 [00:00<?, ?it/s]"
      ]
     },
     "metadata": {},
     "output_type": "display_data"
    },
    {
     "data": {
      "application/vnd.jupyter.widget-view+json": {
       "model_id": "df3cb95eccfa46e6913a76c135287646",
       "version_major": 2,
       "version_minor": 0
      },
      "text/plain": [
       "Processing eps 1.5, color_x 0 landscapes:   0%|          | 0/1338 [00:00<?, ?it/s]"
      ]
     },
     "metadata": {},
     "output_type": "display_data"
    },
    {
     "data": {
      "application/vnd.jupyter.widget-view+json": {
       "model_id": "a0e6c830941c4a8bbc1b147b7d3a8e5e",
       "version_major": 2,
       "version_minor": 0
      },
      "text/plain": [
       "Processing eps 1.5, color_x 1 landscapes:   0%|          | 0/1658 [00:00<?, ?it/s]"
      ]
     },
     "metadata": {},
     "output_type": "display_data"
    },
    {
     "data": {
      "application/vnd.jupyter.widget-view+json": {
       "model_id": "0454d8825e96489da429785257b7a4e2",
       "version_major": 2,
       "version_minor": 0
      },
      "text/plain": [
       "Processing eps 1.5, color_x 2 landscapes:   0%|          | 0/1376 [00:00<?, ?it/s]"
      ]
     },
     "metadata": {},
     "output_type": "display_data"
    },
    {
     "data": {
      "application/vnd.jupyter.widget-view+json": {
       "model_id": "3f62ad562ba5451fac0150a591382517",
       "version_major": 2,
       "version_minor": 0
      },
      "text/plain": [
       "Processing eps 1.5, color_x 3 landscapes:   0%|          | 0/1384 [00:00<?, ?it/s]"
      ]
     },
     "metadata": {},
     "output_type": "display_data"
    },
    {
     "data": {
      "application/vnd.jupyter.widget-view+json": {
       "model_id": "ac25c1c5880041d89c94e818f9d482fc",
       "version_major": 2,
       "version_minor": 0
      },
      "text/plain": [
       "Processing eps 1.5, color_x 4 landscapes:   0%|          | 0/1314 [00:00<?, ?it/s]"
      ]
     },
     "metadata": {},
     "output_type": "display_data"
    },
    {
     "data": {
      "application/vnd.jupyter.widget-view+json": {
       "model_id": "a62db22f252a4e7f947b8776021f9659",
       "version_major": 2,
       "version_minor": 0
      },
      "text/plain": [
       "Processing eps 1.5, color_x 5 landscapes:   0%|          | 0/1250 [00:00<?, ?it/s]"
      ]
     },
     "metadata": {},
     "output_type": "display_data"
    },
    {
     "data": {
      "application/vnd.jupyter.widget-view+json": {
       "model_id": "f97c04487f4f433a83b7d747930fac6b",
       "version_major": 2,
       "version_minor": 0
      },
      "text/plain": [
       "Processing eps 1.5, color_x 6 landscapes:   0%|          | 0/1434 [00:00<?, ?it/s]"
      ]
     },
     "metadata": {},
     "output_type": "display_data"
    },
    {
     "data": {
      "application/vnd.jupyter.widget-view+json": {
       "model_id": "b4866db9f3fd4965a1b18404af4a3dd3",
       "version_major": 2,
       "version_minor": 0
      },
      "text/plain": [
       "Processing eps 1.5, color_x 7 landscapes:   0%|          | 0/1498 [00:00<?, ?it/s]"
      ]
     },
     "metadata": {},
     "output_type": "display_data"
    },
    {
     "data": {
      "application/vnd.jupyter.widget-view+json": {
       "model_id": "00872ceecb60474f81385836c3d64bf5",
       "version_major": 2,
       "version_minor": 0
      },
      "text/plain": [
       "Processing eps 1.5, color_x 8 landscapes:   0%|          | 0/1386 [00:00<?, ?it/s]"
      ]
     },
     "metadata": {},
     "output_type": "display_data"
    },
    {
     "data": {
      "application/vnd.jupyter.widget-view+json": {
       "model_id": "f4b0113850b040aa9fdabf849c3ae6bc",
       "version_major": 2,
       "version_minor": 0
      },
      "text/plain": [
       "Processing eps 1.5, color_x 9 landscapes:   0%|          | 0/1362 [00:00<?, ?it/s]"
      ]
     },
     "metadata": {},
     "output_type": "display_data"
    },
    {
     "data": {
      "application/vnd.jupyter.widget-view+json": {
       "model_id": "0b4bf907195f48a684df7c538bce5adf",
       "version_major": 2,
       "version_minor": 0
      },
      "text/plain": [
       "Processing eps 1.5, color_y 0 landscapes:   0%|          | 0/1363 [00:00<?, ?it/s]"
      ]
     },
     "metadata": {},
     "output_type": "display_data"
    },
    {
     "data": {
      "application/vnd.jupyter.widget-view+json": {
       "model_id": "44c1c97019f64f088b3453f9b05f329e",
       "version_major": 2,
       "version_minor": 0
      },
      "text/plain": [
       "Processing eps 1.5, color_y 1 landscapes:   0%|          | 0/1693 [00:00<?, ?it/s]"
      ]
     },
     "metadata": {},
     "output_type": "display_data"
    },
    {
     "data": {
      "application/vnd.jupyter.widget-view+json": {
       "model_id": "9109353532974ea2a928d0b84860ee86",
       "version_major": 2,
       "version_minor": 0
      },
      "text/plain": [
       "Processing eps 1.5, color_y 2 landscapes:   0%|          | 0/1402 [00:00<?, ?it/s]"
      ]
     },
     "metadata": {},
     "output_type": "display_data"
    },
    {
     "data": {
      "application/vnd.jupyter.widget-view+json": {
       "model_id": "6e1bd46e79674b68b30ed9ad0e6b9cb9",
       "version_major": 2,
       "version_minor": 0
      },
      "text/plain": [
       "Processing eps 1.5, color_y 3 landscapes:   0%|          | 0/1404 [00:00<?, ?it/s]"
      ]
     },
     "metadata": {},
     "output_type": "display_data"
    },
    {
     "data": {
      "application/vnd.jupyter.widget-view+json": {
       "model_id": "d58fdd5bbb96417998d7e696f256d8eb",
       "version_major": 2,
       "version_minor": 0
      },
      "text/plain": [
       "Processing eps 1.5, color_y 4 landscapes:   0%|          | 0/1341 [00:00<?, ?it/s]"
      ]
     },
     "metadata": {},
     "output_type": "display_data"
    },
    {
     "data": {
      "application/vnd.jupyter.widget-view+json": {
       "model_id": "f503df2d65a94059a060b12457e1012d",
       "version_major": 2,
       "version_minor": 0
      },
      "text/plain": [
       "Processing eps 1.5, color_y 5 landscapes:   0%|          | 0/1270 [00:00<?, ?it/s]"
      ]
     },
     "metadata": {},
     "output_type": "display_data"
    },
    {
     "data": {
      "application/vnd.jupyter.widget-view+json": {
       "model_id": "f0726137c2724f11870de7dd1f449d8f",
       "version_major": 2,
       "version_minor": 0
      },
      "text/plain": [
       "Processing eps 1.5, color_y 6 landscapes:   0%|          | 0/1462 [00:00<?, ?it/s]"
      ]
     },
     "metadata": {},
     "output_type": "display_data"
    },
    {
     "data": {
      "application/vnd.jupyter.widget-view+json": {
       "model_id": "603a3dd84fb14b22a2d2adc278eaa620",
       "version_major": 2,
       "version_minor": 0
      },
      "text/plain": [
       "Processing eps 1.5, color_y 7 landscapes:   0%|          | 0/1518 [00:00<?, ?it/s]"
      ]
     },
     "metadata": {},
     "output_type": "display_data"
    },
    {
     "data": {
      "application/vnd.jupyter.widget-view+json": {
       "model_id": "26f59b4b23c0408a9eedad4c6c4ff8a7",
       "version_major": 2,
       "version_minor": 0
      },
      "text/plain": [
       "Processing eps 1.5, color_y 8 landscapes:   0%|          | 0/1406 [00:00<?, ?it/s]"
      ]
     },
     "metadata": {},
     "output_type": "display_data"
    },
    {
     "data": {
      "application/vnd.jupyter.widget-view+json": {
       "model_id": "f7c660398d9240d586561ef447a23beb",
       "version_major": 2,
       "version_minor": 0
      },
      "text/plain": [
       "Processing eps 1.5, color_y 9 landscapes:   0%|          | 0/1389 [00:00<?, ?it/s]"
      ]
     },
     "metadata": {},
     "output_type": "display_data"
    },
    {
     "data": {
      "application/vnd.jupyter.widget-view+json": {
       "model_id": "c799cd9b36c840d982e0ef89efa4023c",
       "version_major": 2,
       "version_minor": 0
      },
      "text/plain": [
       "Processing eps 2, color_x 0 landscapes:   0%|          | 0/1338 [00:00<?, ?it/s]"
      ]
     },
     "metadata": {},
     "output_type": "display_data"
    },
    {
     "data": {
      "application/vnd.jupyter.widget-view+json": {
       "model_id": "eecf011946e64732b30a2f3bea458fc5",
       "version_major": 2,
       "version_minor": 0
      },
      "text/plain": [
       "Processing eps 2, color_x 1 landscapes:   0%|          | 0/1658 [00:00<?, ?it/s]"
      ]
     },
     "metadata": {},
     "output_type": "display_data"
    },
    {
     "data": {
      "application/vnd.jupyter.widget-view+json": {
       "model_id": "c87363dfe679405c9a20a8136801437d",
       "version_major": 2,
       "version_minor": 0
      },
      "text/plain": [
       "Processing eps 2, color_x 2 landscapes:   0%|          | 0/1376 [00:00<?, ?it/s]"
      ]
     },
     "metadata": {},
     "output_type": "display_data"
    },
    {
     "data": {
      "application/vnd.jupyter.widget-view+json": {
       "model_id": "0d8e514f449043228309492ec4e6f4bb",
       "version_major": 2,
       "version_minor": 0
      },
      "text/plain": [
       "Processing eps 2, color_x 3 landscapes:   0%|          | 0/1384 [00:00<?, ?it/s]"
      ]
     },
     "metadata": {},
     "output_type": "display_data"
    },
    {
     "data": {
      "application/vnd.jupyter.widget-view+json": {
       "model_id": "2a3adeaf580c42ff987f9441652a0c82",
       "version_major": 2,
       "version_minor": 0
      },
      "text/plain": [
       "Processing eps 2, color_x 4 landscapes:   0%|          | 0/1314 [00:00<?, ?it/s]"
      ]
     },
     "metadata": {},
     "output_type": "display_data"
    },
    {
     "data": {
      "application/vnd.jupyter.widget-view+json": {
       "model_id": "6fce89115ec7431399c874e34f7d0a09",
       "version_major": 2,
       "version_minor": 0
      },
      "text/plain": [
       "Processing eps 2, color_x 5 landscapes:   0%|          | 0/1250 [00:00<?, ?it/s]"
      ]
     },
     "metadata": {},
     "output_type": "display_data"
    },
    {
     "data": {
      "application/vnd.jupyter.widget-view+json": {
       "model_id": "1bb92ca363c24bffbfdb1113953ecb8c",
       "version_major": 2,
       "version_minor": 0
      },
      "text/plain": [
       "Processing eps 2, color_x 6 landscapes:   0%|          | 0/1434 [00:00<?, ?it/s]"
      ]
     },
     "metadata": {},
     "output_type": "display_data"
    },
    {
     "data": {
      "application/vnd.jupyter.widget-view+json": {
       "model_id": "691ef1ede0454d81b54158df3a9001dd",
       "version_major": 2,
       "version_minor": 0
      },
      "text/plain": [
       "Processing eps 2, color_x 7 landscapes:   0%|          | 0/1498 [00:00<?, ?it/s]"
      ]
     },
     "metadata": {},
     "output_type": "display_data"
    },
    {
     "data": {
      "application/vnd.jupyter.widget-view+json": {
       "model_id": "534aca3e7f1944938e9045da66b1d7f7",
       "version_major": 2,
       "version_minor": 0
      },
      "text/plain": [
       "Processing eps 2, color_x 8 landscapes:   0%|          | 0/1386 [00:00<?, ?it/s]"
      ]
     },
     "metadata": {},
     "output_type": "display_data"
    },
    {
     "data": {
      "application/vnd.jupyter.widget-view+json": {
       "model_id": "41f7feeac76b441fb283374fc10daf0f",
       "version_major": 2,
       "version_minor": 0
      },
      "text/plain": [
       "Processing eps 2, color_x 9 landscapes:   0%|          | 0/1362 [00:00<?, ?it/s]"
      ]
     },
     "metadata": {},
     "output_type": "display_data"
    },
    {
     "data": {
      "application/vnd.jupyter.widget-view+json": {
       "model_id": "6ad6c8be8c314defa19ebad7892dbad2",
       "version_major": 2,
       "version_minor": 0
      },
      "text/plain": [
       "Processing eps 2, color_y 0 landscapes:   0%|          | 0/2007 [00:00<?, ?it/s]"
      ]
     },
     "metadata": {},
     "output_type": "display_data"
    },
    {
     "data": {
      "application/vnd.jupyter.widget-view+json": {
       "model_id": "4144608e38e3494f9e82f7e1fec1e990",
       "version_major": 2,
       "version_minor": 0
      },
      "text/plain": [
       "Processing eps 2, color_y 1 landscapes:   0%|          | 0/2487 [00:00<?, ?it/s]"
      ]
     },
     "metadata": {},
     "output_type": "display_data"
    },
    {
     "data": {
      "application/vnd.jupyter.widget-view+json": {
       "model_id": "ce822fc64dbd4344bf37784adafb0e5a",
       "version_major": 2,
       "version_minor": 0
      },
      "text/plain": [
       "Processing eps 2, color_y 2 landscapes:   0%|          | 0/2064 [00:00<?, ?it/s]"
      ]
     },
     "metadata": {},
     "output_type": "display_data"
    },
    {
     "data": {
      "application/vnd.jupyter.widget-view+json": {
       "model_id": "be42808e83e74ed6b5e4cb14e81beeb7",
       "version_major": 2,
       "version_minor": 0
      },
      "text/plain": [
       "Processing eps 2, color_y 3 landscapes:   0%|          | 0/2076 [00:00<?, ?it/s]"
      ]
     },
     "metadata": {},
     "output_type": "display_data"
    },
    {
     "data": {
      "application/vnd.jupyter.widget-view+json": {
       "model_id": "9200c657932648c7bb66ef294bf05624",
       "version_major": 2,
       "version_minor": 0
      },
      "text/plain": [
       "Processing eps 2, color_y 4 landscapes:   0%|          | 0/1971 [00:00<?, ?it/s]"
      ]
     },
     "metadata": {},
     "output_type": "display_data"
    },
    {
     "data": {
      "application/vnd.jupyter.widget-view+json": {
       "model_id": "c7649323f6c04fae99b4664d1f36e6db",
       "version_major": 2,
       "version_minor": 0
      },
      "text/plain": [
       "Processing eps 2, color_y 5 landscapes:   0%|          | 0/1875 [00:00<?, ?it/s]"
      ]
     },
     "metadata": {},
     "output_type": "display_data"
    },
    {
     "data": {
      "application/vnd.jupyter.widget-view+json": {
       "model_id": "f7d0b1167491436da761bb0f15f1472b",
       "version_major": 2,
       "version_minor": 0
      },
      "text/plain": [
       "Processing eps 2, color_y 6 landscapes:   0%|          | 0/2151 [00:00<?, ?it/s]"
      ]
     },
     "metadata": {},
     "output_type": "display_data"
    },
    {
     "data": {
      "application/vnd.jupyter.widget-view+json": {
       "model_id": "69f1c04e1ebf42af997bbe2c75fc9936",
       "version_major": 2,
       "version_minor": 0
      },
      "text/plain": [
       "Processing eps 2, color_y 7 landscapes:   0%|          | 0/2247 [00:00<?, ?it/s]"
      ]
     },
     "metadata": {},
     "output_type": "display_data"
    },
    {
     "data": {
      "application/vnd.jupyter.widget-view+json": {
       "model_id": "7a32b42e35074ac9b7fb1adeb7295690",
       "version_major": 2,
       "version_minor": 0
      },
      "text/plain": [
       "Processing eps 2, color_y 8 landscapes:   0%|          | 0/2079 [00:00<?, ?it/s]"
      ]
     },
     "metadata": {},
     "output_type": "display_data"
    },
    {
     "data": {
      "application/vnd.jupyter.widget-view+json": {
       "model_id": "816c1ffc4e1f4fea8aa35d43d5717b95",
       "version_major": 2,
       "version_minor": 0
      },
      "text/plain": [
       "Processing eps 2, color_y 9 landscapes:   0%|          | 0/2043 [00:00<?, ?it/s]"
      ]
     },
     "metadata": {},
     "output_type": "display_data"
    },
    {
     "data": {
      "application/vnd.jupyter.widget-view+json": {
       "model_id": "83304859afdf4650b634d48f6960eccb",
       "version_major": 2,
       "version_minor": 0
      },
      "text/plain": [
       "Processing eps 2.5, color_x 0 landscapes:   0%|          | 0/1338 [00:00<?, ?it/s]"
      ]
     },
     "metadata": {},
     "output_type": "display_data"
    },
    {
     "data": {
      "application/vnd.jupyter.widget-view+json": {
       "model_id": "79e83e360c53442698dab5805702ef98",
       "version_major": 2,
       "version_minor": 0
      },
      "text/plain": [
       "Processing eps 2.5, color_x 1 landscapes:   0%|          | 0/1658 [00:00<?, ?it/s]"
      ]
     },
     "metadata": {},
     "output_type": "display_data"
    },
    {
     "data": {
      "application/vnd.jupyter.widget-view+json": {
       "model_id": "25cd67046c30408cb33f6d1bbb83d845",
       "version_major": 2,
       "version_minor": 0
      },
      "text/plain": [
       "Processing eps 2.5, color_x 2 landscapes:   0%|          | 0/1376 [00:00<?, ?it/s]"
      ]
     },
     "metadata": {},
     "output_type": "display_data"
    },
    {
     "data": {
      "application/vnd.jupyter.widget-view+json": {
       "model_id": "dc6abed6febf49f48fdc7ef2458de0ef",
       "version_major": 2,
       "version_minor": 0
      },
      "text/plain": [
       "Processing eps 2.5, color_x 3 landscapes:   0%|          | 0/1384 [00:00<?, ?it/s]"
      ]
     },
     "metadata": {},
     "output_type": "display_data"
    },
    {
     "data": {
      "application/vnd.jupyter.widget-view+json": {
       "model_id": "eb3cc64fbcf142c2845a6f73951778f5",
       "version_major": 2,
       "version_minor": 0
      },
      "text/plain": [
       "Processing eps 2.5, color_x 4 landscapes:   0%|          | 0/1314 [00:00<?, ?it/s]"
      ]
     },
     "metadata": {},
     "output_type": "display_data"
    },
    {
     "data": {
      "application/vnd.jupyter.widget-view+json": {
       "model_id": "c70696ee83b24e849ec676ce21db3df9",
       "version_major": 2,
       "version_minor": 0
      },
      "text/plain": [
       "Processing eps 2.5, color_x 5 landscapes:   0%|          | 0/1250 [00:00<?, ?it/s]"
      ]
     },
     "metadata": {},
     "output_type": "display_data"
    },
    {
     "data": {
      "application/vnd.jupyter.widget-view+json": {
       "model_id": "6b66de48482b4014a8258e82313605bd",
       "version_major": 2,
       "version_minor": 0
      },
      "text/plain": [
       "Processing eps 2.5, color_x 6 landscapes:   0%|          | 0/1434 [00:00<?, ?it/s]"
      ]
     },
     "metadata": {},
     "output_type": "display_data"
    },
    {
     "data": {
      "application/vnd.jupyter.widget-view+json": {
       "model_id": "5b5aac8f1ede41988fadf579b1612e75",
       "version_major": 2,
       "version_minor": 0
      },
      "text/plain": [
       "Processing eps 2.5, color_x 7 landscapes:   0%|          | 0/1498 [00:00<?, ?it/s]"
      ]
     },
     "metadata": {},
     "output_type": "display_data"
    },
    {
     "data": {
      "application/vnd.jupyter.widget-view+json": {
       "model_id": "5dbb4445c38f412ea9a046b176e090fd",
       "version_major": 2,
       "version_minor": 0
      },
      "text/plain": [
       "Processing eps 2.5, color_x 8 landscapes:   0%|          | 0/1386 [00:00<?, ?it/s]"
      ]
     },
     "metadata": {},
     "output_type": "display_data"
    },
    {
     "data": {
      "application/vnd.jupyter.widget-view+json": {
       "model_id": "6ef0606870d04b16868289c52efaa148",
       "version_major": 2,
       "version_minor": 0
      },
      "text/plain": [
       "Processing eps 2.5, color_x 9 landscapes:   0%|          | 0/1362 [00:00<?, ?it/s]"
      ]
     },
     "metadata": {},
     "output_type": "display_data"
    },
    {
     "data": {
      "application/vnd.jupyter.widget-view+json": {
       "model_id": "551a52cfea184f8bb8e24cdc2fc4a17d",
       "version_major": 2,
       "version_minor": 0
      },
      "text/plain": [
       "Processing eps 2.5, color_y 0 landscapes:   0%|          | 0/1338 [00:00<?, ?it/s]"
      ]
     },
     "metadata": {},
     "output_type": "display_data"
    },
    {
     "data": {
      "application/vnd.jupyter.widget-view+json": {
       "model_id": "80e02b20c39c451a82adb1142647b0e3",
       "version_major": 2,
       "version_minor": 0
      },
      "text/plain": [
       "Processing eps 2.5, color_y 1 landscapes:   0%|          | 0/1658 [00:00<?, ?it/s]"
      ]
     },
     "metadata": {},
     "output_type": "display_data"
    },
    {
     "data": {
      "application/vnd.jupyter.widget-view+json": {
       "model_id": "a4237394e1f04f6291071cc12a1280af",
       "version_major": 2,
       "version_minor": 0
      },
      "text/plain": [
       "Processing eps 2.5, color_y 2 landscapes:   0%|          | 0/1376 [00:00<?, ?it/s]"
      ]
     },
     "metadata": {},
     "output_type": "display_data"
    },
    {
     "data": {
      "application/vnd.jupyter.widget-view+json": {
       "model_id": "a6557ab21a1643d6869647c80432d4e5",
       "version_major": 2,
       "version_minor": 0
      },
      "text/plain": [
       "Processing eps 2.5, color_y 3 landscapes:   0%|          | 0/1384 [00:00<?, ?it/s]"
      ]
     },
     "metadata": {},
     "output_type": "display_data"
    },
    {
     "data": {
      "application/vnd.jupyter.widget-view+json": {
       "model_id": "551b3f01c99044149676dc78e0b0b66e",
       "version_major": 2,
       "version_minor": 0
      },
      "text/plain": [
       "Processing eps 2.5, color_y 4 landscapes:   0%|          | 0/1314 [00:00<?, ?it/s]"
      ]
     },
     "metadata": {},
     "output_type": "display_data"
    },
    {
     "data": {
      "application/vnd.jupyter.widget-view+json": {
       "model_id": "8c51b11486a74fc2b99aa04ee25c4677",
       "version_major": 2,
       "version_minor": 0
      },
      "text/plain": [
       "Processing eps 2.5, color_y 5 landscapes:   0%|          | 0/1250 [00:00<?, ?it/s]"
      ]
     },
     "metadata": {},
     "output_type": "display_data"
    },
    {
     "data": {
      "application/vnd.jupyter.widget-view+json": {
       "model_id": "990d889de59545bb94ca2d25bffb489f",
       "version_major": 2,
       "version_minor": 0
      },
      "text/plain": [
       "Processing eps 2.5, color_y 6 landscapes:   0%|          | 0/1434 [00:00<?, ?it/s]"
      ]
     },
     "metadata": {},
     "output_type": "display_data"
    },
    {
     "data": {
      "application/vnd.jupyter.widget-view+json": {
       "model_id": "4ee8f24fdf874f16b63d89a30e3a314a",
       "version_major": 2,
       "version_minor": 0
      },
      "text/plain": [
       "Processing eps 2.5, color_y 7 landscapes:   0%|          | 0/1498 [00:00<?, ?it/s]"
      ]
     },
     "metadata": {},
     "output_type": "display_data"
    },
    {
     "data": {
      "application/vnd.jupyter.widget-view+json": {
       "model_id": "799be3d24e51428f9d4183a47014c7d5",
       "version_major": 2,
       "version_minor": 0
      },
      "text/plain": [
       "Processing eps 2.5, color_y 8 landscapes:   0%|          | 0/1386 [00:00<?, ?it/s]"
      ]
     },
     "metadata": {},
     "output_type": "display_data"
    },
    {
     "data": {
      "application/vnd.jupyter.widget-view+json": {
       "model_id": "632ec5ad62ac44ed8da978b4d192a0e4",
       "version_major": 2,
       "version_minor": 0
      },
      "text/plain": [
       "Processing eps 2.5, color_y 9 landscapes:   0%|          | 0/1362 [00:00<?, ?it/s]"
      ]
     },
     "metadata": {},
     "output_type": "display_data"
    },
    {
     "data": {
      "application/vnd.jupyter.widget-view+json": {
       "model_id": "07dcf3ccd7ba450fa42e06033d4e31ee",
       "version_major": 2,
       "version_minor": 0
      },
      "text/plain": [
       "Processing eps 3, color_x 0 landscapes:   0%|          | 0/1338 [00:00<?, ?it/s]"
      ]
     },
     "metadata": {},
     "output_type": "display_data"
    },
    {
     "data": {
      "application/vnd.jupyter.widget-view+json": {
       "model_id": "8c5e0665b71f443aadc1520590292c4c",
       "version_major": 2,
       "version_minor": 0
      },
      "text/plain": [
       "Processing eps 3, color_x 1 landscapes:   0%|          | 0/1658 [00:00<?, ?it/s]"
      ]
     },
     "metadata": {},
     "output_type": "display_data"
    },
    {
     "data": {
      "application/vnd.jupyter.widget-view+json": {
       "model_id": "2d7c5d0dfa734911964be3afe6be31f5",
       "version_major": 2,
       "version_minor": 0
      },
      "text/plain": [
       "Processing eps 3, color_x 2 landscapes:   0%|          | 0/1376 [00:00<?, ?it/s]"
      ]
     },
     "metadata": {},
     "output_type": "display_data"
    },
    {
     "data": {
      "application/vnd.jupyter.widget-view+json": {
       "model_id": "d726fb7f0dfb4d99b6614a4814c44d59",
       "version_major": 2,
       "version_minor": 0
      },
      "text/plain": [
       "Processing eps 3, color_x 3 landscapes:   0%|          | 0/1384 [00:00<?, ?it/s]"
      ]
     },
     "metadata": {},
     "output_type": "display_data"
    },
    {
     "data": {
      "application/vnd.jupyter.widget-view+json": {
       "model_id": "8a51d9c832d6430eab452f58498f6345",
       "version_major": 2,
       "version_minor": 0
      },
      "text/plain": [
       "Processing eps 3, color_x 4 landscapes:   0%|          | 0/1314 [00:00<?, ?it/s]"
      ]
     },
     "metadata": {},
     "output_type": "display_data"
    },
    {
     "data": {
      "application/vnd.jupyter.widget-view+json": {
       "model_id": "2385bee289fd40dea4c8e4795f5bcc21",
       "version_major": 2,
       "version_minor": 0
      },
      "text/plain": [
       "Processing eps 3, color_x 5 landscapes:   0%|          | 0/1250 [00:00<?, ?it/s]"
      ]
     },
     "metadata": {},
     "output_type": "display_data"
    },
    {
     "data": {
      "application/vnd.jupyter.widget-view+json": {
       "model_id": "9b874c12a6c340509a36b879e2c9baf4",
       "version_major": 2,
       "version_minor": 0
      },
      "text/plain": [
       "Processing eps 3, color_x 6 landscapes:   0%|          | 0/1434 [00:00<?, ?it/s]"
      ]
     },
     "metadata": {},
     "output_type": "display_data"
    },
    {
     "data": {
      "application/vnd.jupyter.widget-view+json": {
       "model_id": "5cfaf5c79e08405a80b0d2277b5e32e7",
       "version_major": 2,
       "version_minor": 0
      },
      "text/plain": [
       "Processing eps 3, color_x 7 landscapes:   0%|          | 0/1498 [00:00<?, ?it/s]"
      ]
     },
     "metadata": {},
     "output_type": "display_data"
    },
    {
     "data": {
      "application/vnd.jupyter.widget-view+json": {
       "model_id": "e72af69b415149b883e2f259dbdc38a3",
       "version_major": 2,
       "version_minor": 0
      },
      "text/plain": [
       "Processing eps 3, color_x 8 landscapes:   0%|          | 0/1386 [00:00<?, ?it/s]"
      ]
     },
     "metadata": {},
     "output_type": "display_data"
    },
    {
     "data": {
      "application/vnd.jupyter.widget-view+json": {
       "model_id": "0080b567a6794490ac995a5de57fe5e6",
       "version_major": 2,
       "version_minor": 0
      },
      "text/plain": [
       "Processing eps 3, color_x 9 landscapes:   0%|          | 0/1362 [00:00<?, ?it/s]"
      ]
     },
     "metadata": {},
     "output_type": "display_data"
    },
    {
     "data": {
      "application/vnd.jupyter.widget-view+json": {
       "model_id": "c68127a6a5d446449df6442d81d0d20e",
       "version_major": 2,
       "version_minor": 0
      },
      "text/plain": [
       "Processing eps 3, color_y 0 landscapes:   0%|          | 0/1338 [00:00<?, ?it/s]"
      ]
     },
     "metadata": {},
     "output_type": "display_data"
    },
    {
     "data": {
      "application/vnd.jupyter.widget-view+json": {
       "model_id": "95f656e793894de2ba97efe98f23d650",
       "version_major": 2,
       "version_minor": 0
      },
      "text/plain": [
       "Processing eps 3, color_y 1 landscapes:   0%|          | 0/1658 [00:00<?, ?it/s]"
      ]
     },
     "metadata": {},
     "output_type": "display_data"
    },
    {
     "data": {
      "application/vnd.jupyter.widget-view+json": {
       "model_id": "65b7bcdd43df4a6da3d1ba31e6f4c690",
       "version_major": 2,
       "version_minor": 0
      },
      "text/plain": [
       "Processing eps 3, color_y 2 landscapes:   0%|          | 0/1376 [00:00<?, ?it/s]"
      ]
     },
     "metadata": {},
     "output_type": "display_data"
    },
    {
     "data": {
      "application/vnd.jupyter.widget-view+json": {
       "model_id": "82047f4552a04f7b93db8b18e31a288c",
       "version_major": 2,
       "version_minor": 0
      },
      "text/plain": [
       "Processing eps 3, color_y 3 landscapes:   0%|          | 0/1384 [00:00<?, ?it/s]"
      ]
     },
     "metadata": {},
     "output_type": "display_data"
    },
    {
     "data": {
      "application/vnd.jupyter.widget-view+json": {
       "model_id": "76474bcbd76543419d9daea91bee4061",
       "version_major": 2,
       "version_minor": 0
      },
      "text/plain": [
       "Processing eps 3, color_y 4 landscapes:   0%|          | 0/1314 [00:00<?, ?it/s]"
      ]
     },
     "metadata": {},
     "output_type": "display_data"
    },
    {
     "data": {
      "application/vnd.jupyter.widget-view+json": {
       "model_id": "3f22fafcf87c411ab4359bc1dc474f0a",
       "version_major": 2,
       "version_minor": 0
      },
      "text/plain": [
       "Processing eps 3, color_y 5 landscapes:   0%|          | 0/1250 [00:00<?, ?it/s]"
      ]
     },
     "metadata": {},
     "output_type": "display_data"
    },
    {
     "data": {
      "application/vnd.jupyter.widget-view+json": {
       "model_id": "ee73442f584e4fcda1e6d527c2302502",
       "version_major": 2,
       "version_minor": 0
      },
      "text/plain": [
       "Processing eps 3, color_y 6 landscapes:   0%|          | 0/1434 [00:00<?, ?it/s]"
      ]
     },
     "metadata": {},
     "output_type": "display_data"
    },
    {
     "data": {
      "application/vnd.jupyter.widget-view+json": {
       "model_id": "450ff200dded4261baa6bfb300c3c281",
       "version_major": 2,
       "version_minor": 0
      },
      "text/plain": [
       "Processing eps 3, color_y 7 landscapes:   0%|          | 0/1498 [00:00<?, ?it/s]"
      ]
     },
     "metadata": {},
     "output_type": "display_data"
    },
    {
     "data": {
      "application/vnd.jupyter.widget-view+json": {
       "model_id": "b47524c0a51640a08dde94d8fcc76a8b",
       "version_major": 2,
       "version_minor": 0
      },
      "text/plain": [
       "Processing eps 3, color_y 8 landscapes:   0%|          | 0/1386 [00:00<?, ?it/s]"
      ]
     },
     "metadata": {},
     "output_type": "display_data"
    },
    {
     "data": {
      "application/vnd.jupyter.widget-view+json": {
       "model_id": "90b4f67fc06446108b49a1769df56aa5",
       "version_major": 2,
       "version_minor": 0
      },
      "text/plain": [
       "Processing eps 3, color_y 9 landscapes:   0%|          | 0/1362 [00:00<?, ?it/s]"
      ]
     },
     "metadata": {},
     "output_type": "display_data"
    },
    {
     "data": {
      "application/vnd.jupyter.widget-view+json": {
       "model_id": "de47b07918224b69b41d18cd0262445e",
       "version_major": 2,
       "version_minor": 0
      },
      "text/plain": [
       "Processing eps 1.5, color_x 0 landscapes:   0%|          | 0/1338 [00:00<?, ?it/s]"
      ]
     },
     "metadata": {},
     "output_type": "display_data"
    },
    {
     "data": {
      "application/vnd.jupyter.widget-view+json": {
       "model_id": "49b41aaa34ea414685fe1403406099d0",
       "version_major": 2,
       "version_minor": 0
      },
      "text/plain": [
       "Processing eps 1.5, color_x 1 landscapes:   0%|          | 0/1658 [00:00<?, ?it/s]"
      ]
     },
     "metadata": {},
     "output_type": "display_data"
    },
    {
     "data": {
      "application/vnd.jupyter.widget-view+json": {
       "model_id": "b132258f2d0747ac969ac8ef3a370ac9",
       "version_major": 2,
       "version_minor": 0
      },
      "text/plain": [
       "Processing eps 1.5, color_x 2 landscapes:   0%|          | 0/1376 [00:00<?, ?it/s]"
      ]
     },
     "metadata": {},
     "output_type": "display_data"
    },
    {
     "data": {
      "application/vnd.jupyter.widget-view+json": {
       "model_id": "f584ba9aa8a14f979ea78f954d000121",
       "version_major": 2,
       "version_minor": 0
      },
      "text/plain": [
       "Processing eps 1.5, color_x 3 landscapes:   0%|          | 0/1384 [00:00<?, ?it/s]"
      ]
     },
     "metadata": {},
     "output_type": "display_data"
    },
    {
     "data": {
      "application/vnd.jupyter.widget-view+json": {
       "model_id": "8dab9f1012294467a5613b40a501348c",
       "version_major": 2,
       "version_minor": 0
      },
      "text/plain": [
       "Processing eps 1.5, color_x 4 landscapes:   0%|          | 0/1314 [00:00<?, ?it/s]"
      ]
     },
     "metadata": {},
     "output_type": "display_data"
    },
    {
     "data": {
      "application/vnd.jupyter.widget-view+json": {
       "model_id": "22a0c4a85f7540b2932527d3254cce16",
       "version_major": 2,
       "version_minor": 0
      },
      "text/plain": [
       "Processing eps 1.5, color_x 5 landscapes:   0%|          | 0/1250 [00:00<?, ?it/s]"
      ]
     },
     "metadata": {},
     "output_type": "display_data"
    },
    {
     "data": {
      "application/vnd.jupyter.widget-view+json": {
       "model_id": "29c41c37aa6147be957a172b6eb411c4",
       "version_major": 2,
       "version_minor": 0
      },
      "text/plain": [
       "Processing eps 1.5, color_x 6 landscapes:   0%|          | 0/1434 [00:00<?, ?it/s]"
      ]
     },
     "metadata": {},
     "output_type": "display_data"
    },
    {
     "data": {
      "application/vnd.jupyter.widget-view+json": {
       "model_id": "185075c370a34a98808906ee2e7a0674",
       "version_major": 2,
       "version_minor": 0
      },
      "text/plain": [
       "Processing eps 1.5, color_x 7 landscapes:   0%|          | 0/1498 [00:00<?, ?it/s]"
      ]
     },
     "metadata": {},
     "output_type": "display_data"
    },
    {
     "data": {
      "application/vnd.jupyter.widget-view+json": {
       "model_id": "0bee298781334c8ebcc56514c023ed74",
       "version_major": 2,
       "version_minor": 0
      },
      "text/plain": [
       "Processing eps 1.5, color_x 8 landscapes:   0%|          | 0/1386 [00:00<?, ?it/s]"
      ]
     },
     "metadata": {},
     "output_type": "display_data"
    },
    {
     "data": {
      "application/vnd.jupyter.widget-view+json": {
       "model_id": "11c704a501be42c99d3ce816f3252b9f",
       "version_major": 2,
       "version_minor": 0
      },
      "text/plain": [
       "Processing eps 1.5, color_x 9 landscapes:   0%|          | 0/1362 [00:00<?, ?it/s]"
      ]
     },
     "metadata": {},
     "output_type": "display_data"
    },
    {
     "data": {
      "application/vnd.jupyter.widget-view+json": {
       "model_id": "d9f41eeebd8b4f109aeaea144d10e320",
       "version_major": 2,
       "version_minor": 0
      },
      "text/plain": [
       "Processing eps 1.5, color_y 0 landscapes:   0%|          | 0/1363 [00:00<?, ?it/s]"
      ]
     },
     "metadata": {},
     "output_type": "display_data"
    },
    {
     "data": {
      "application/vnd.jupyter.widget-view+json": {
       "model_id": "ed8082aff82e4d5ea2f3b7aeea4fb5fc",
       "version_major": 2,
       "version_minor": 0
      },
      "text/plain": [
       "Processing eps 1.5, color_y 1 landscapes:   0%|          | 0/1693 [00:00<?, ?it/s]"
      ]
     },
     "metadata": {},
     "output_type": "display_data"
    },
    {
     "data": {
      "application/vnd.jupyter.widget-view+json": {
       "model_id": "83675826e89b43c1ab96689af59f3b7a",
       "version_major": 2,
       "version_minor": 0
      },
      "text/plain": [
       "Processing eps 1.5, color_y 2 landscapes:   0%|          | 0/1402 [00:00<?, ?it/s]"
      ]
     },
     "metadata": {},
     "output_type": "display_data"
    },
    {
     "data": {
      "application/vnd.jupyter.widget-view+json": {
       "model_id": "4ba313b6f00d44cc88748905b66775b3",
       "version_major": 2,
       "version_minor": 0
      },
      "text/plain": [
       "Processing eps 1.5, color_y 3 landscapes:   0%|          | 0/1404 [00:00<?, ?it/s]"
      ]
     },
     "metadata": {},
     "output_type": "display_data"
    },
    {
     "data": {
      "application/vnd.jupyter.widget-view+json": {
       "model_id": "3fa331ec091b4a57bea0cd8d491b319d",
       "version_major": 2,
       "version_minor": 0
      },
      "text/plain": [
       "Processing eps 1.5, color_y 4 landscapes:   0%|          | 0/1341 [00:00<?, ?it/s]"
      ]
     },
     "metadata": {},
     "output_type": "display_data"
    },
    {
     "data": {
      "application/vnd.jupyter.widget-view+json": {
       "model_id": "fb240f12e77f4ea3a290ff821429567b",
       "version_major": 2,
       "version_minor": 0
      },
      "text/plain": [
       "Processing eps 1.5, color_y 5 landscapes:   0%|          | 0/1270 [00:00<?, ?it/s]"
      ]
     },
     "metadata": {},
     "output_type": "display_data"
    },
    {
     "data": {
      "application/vnd.jupyter.widget-view+json": {
       "model_id": "0bcbb9fb46924ee48c3e8faa05fdd2fa",
       "version_major": 2,
       "version_minor": 0
      },
      "text/plain": [
       "Processing eps 1.5, color_y 6 landscapes:   0%|          | 0/1462 [00:00<?, ?it/s]"
      ]
     },
     "metadata": {},
     "output_type": "display_data"
    },
    {
     "data": {
      "application/vnd.jupyter.widget-view+json": {
       "model_id": "ba96ee77476e46848ee6ab0d14d674cd",
       "version_major": 2,
       "version_minor": 0
      },
      "text/plain": [
       "Processing eps 1.5, color_y 7 landscapes:   0%|          | 0/1518 [00:00<?, ?it/s]"
      ]
     },
     "metadata": {},
     "output_type": "display_data"
    },
    {
     "data": {
      "application/vnd.jupyter.widget-view+json": {
       "model_id": "7ff9d8876e0643d39f6f4799ce7150c2",
       "version_major": 2,
       "version_minor": 0
      },
      "text/plain": [
       "Processing eps 1.5, color_y 8 landscapes:   0%|          | 0/1406 [00:00<?, ?it/s]"
      ]
     },
     "metadata": {},
     "output_type": "display_data"
    },
    {
     "data": {
      "application/vnd.jupyter.widget-view+json": {
       "model_id": "23bd9baae2f74b8c9c28400c01fcfa0d",
       "version_major": 2,
       "version_minor": 0
      },
      "text/plain": [
       "Processing eps 1.5, color_y 9 landscapes:   0%|          | 0/1389 [00:00<?, ?it/s]"
      ]
     },
     "metadata": {},
     "output_type": "display_data"
    },
    {
     "data": {
      "application/vnd.jupyter.widget-view+json": {
       "model_id": "482574bb93c5441c97491265290e97e9",
       "version_major": 2,
       "version_minor": 0
      },
      "text/plain": [
       "Processing eps 2, color_x 0 landscapes:   0%|          | 0/1338 [00:00<?, ?it/s]"
      ]
     },
     "metadata": {},
     "output_type": "display_data"
    },
    {
     "data": {
      "application/vnd.jupyter.widget-view+json": {
       "model_id": "34e5bb5b74064a38a46b2776055b8da1",
       "version_major": 2,
       "version_minor": 0
      },
      "text/plain": [
       "Processing eps 2, color_x 1 landscapes:   0%|          | 0/1658 [00:00<?, ?it/s]"
      ]
     },
     "metadata": {},
     "output_type": "display_data"
    },
    {
     "data": {
      "application/vnd.jupyter.widget-view+json": {
       "model_id": "762623bfaa7c4a44816d4ecce47257b9",
       "version_major": 2,
       "version_minor": 0
      },
      "text/plain": [
       "Processing eps 2, color_x 2 landscapes:   0%|          | 0/1376 [00:00<?, ?it/s]"
      ]
     },
     "metadata": {},
     "output_type": "display_data"
    },
    {
     "data": {
      "application/vnd.jupyter.widget-view+json": {
       "model_id": "b15f5449ff8e402ebec14089676fc12d",
       "version_major": 2,
       "version_minor": 0
      },
      "text/plain": [
       "Processing eps 2, color_x 3 landscapes:   0%|          | 0/1384 [00:00<?, ?it/s]"
      ]
     },
     "metadata": {},
     "output_type": "display_data"
    },
    {
     "data": {
      "application/vnd.jupyter.widget-view+json": {
       "model_id": "8f665c8d21654e05a40fe7388a80f0b9",
       "version_major": 2,
       "version_minor": 0
      },
      "text/plain": [
       "Processing eps 2, color_x 4 landscapes:   0%|          | 0/1314 [00:00<?, ?it/s]"
      ]
     },
     "metadata": {},
     "output_type": "display_data"
    },
    {
     "data": {
      "application/vnd.jupyter.widget-view+json": {
       "model_id": "25ed31ad565b4ef7b18efe6163567f6b",
       "version_major": 2,
       "version_minor": 0
      },
      "text/plain": [
       "Processing eps 2, color_x 5 landscapes:   0%|          | 0/1250 [00:00<?, ?it/s]"
      ]
     },
     "metadata": {},
     "output_type": "display_data"
    },
    {
     "data": {
      "application/vnd.jupyter.widget-view+json": {
       "model_id": "2d00af34c37f469b9ba5af1d2eb91861",
       "version_major": 2,
       "version_minor": 0
      },
      "text/plain": [
       "Processing eps 2, color_x 6 landscapes:   0%|          | 0/1434 [00:00<?, ?it/s]"
      ]
     },
     "metadata": {},
     "output_type": "display_data"
    },
    {
     "data": {
      "application/vnd.jupyter.widget-view+json": {
       "model_id": "59ba54fc64364b318a955ad82f824322",
       "version_major": 2,
       "version_minor": 0
      },
      "text/plain": [
       "Processing eps 2, color_x 7 landscapes:   0%|          | 0/1498 [00:00<?, ?it/s]"
      ]
     },
     "metadata": {},
     "output_type": "display_data"
    },
    {
     "data": {
      "application/vnd.jupyter.widget-view+json": {
       "model_id": "ba249f427f6c49ebb4c6fed2f656c394",
       "version_major": 2,
       "version_minor": 0
      },
      "text/plain": [
       "Processing eps 2, color_x 8 landscapes:   0%|          | 0/1386 [00:00<?, ?it/s]"
      ]
     },
     "metadata": {},
     "output_type": "display_data"
    },
    {
     "data": {
      "application/vnd.jupyter.widget-view+json": {
       "model_id": "26bc203340f64c9cb5be77038b30852c",
       "version_major": 2,
       "version_minor": 0
      },
      "text/plain": [
       "Processing eps 2, color_x 9 landscapes:   0%|          | 0/1362 [00:00<?, ?it/s]"
      ]
     },
     "metadata": {},
     "output_type": "display_data"
    },
    {
     "data": {
      "application/vnd.jupyter.widget-view+json": {
       "model_id": "8f22632438c44a8b810e5fadb29e7407",
       "version_major": 2,
       "version_minor": 0
      },
      "text/plain": [
       "Processing eps 2, color_y 0 landscapes:   0%|          | 0/2007 [00:00<?, ?it/s]"
      ]
     },
     "metadata": {},
     "output_type": "display_data"
    },
    {
     "data": {
      "application/vnd.jupyter.widget-view+json": {
       "model_id": "5efbe3f32ae14cb999d3585bebaa109d",
       "version_major": 2,
       "version_minor": 0
      },
      "text/plain": [
       "Processing eps 2, color_y 1 landscapes:   0%|          | 0/2487 [00:00<?, ?it/s]"
      ]
     },
     "metadata": {},
     "output_type": "display_data"
    },
    {
     "data": {
      "application/vnd.jupyter.widget-view+json": {
       "model_id": "1cfae0dae510484d8f03a3912524aad4",
       "version_major": 2,
       "version_minor": 0
      },
      "text/plain": [
       "Processing eps 2, color_y 2 landscapes:   0%|          | 0/2064 [00:00<?, ?it/s]"
      ]
     },
     "metadata": {},
     "output_type": "display_data"
    },
    {
     "data": {
      "application/vnd.jupyter.widget-view+json": {
       "model_id": "ba07d6e640f04d088270e4e5bf8ca9fd",
       "version_major": 2,
       "version_minor": 0
      },
      "text/plain": [
       "Processing eps 2, color_y 3 landscapes:   0%|          | 0/2076 [00:00<?, ?it/s]"
      ]
     },
     "metadata": {},
     "output_type": "display_data"
    },
    {
     "data": {
      "application/vnd.jupyter.widget-view+json": {
       "model_id": "c7a20d6571dc45a494cc395515b283bf",
       "version_major": 2,
       "version_minor": 0
      },
      "text/plain": [
       "Processing eps 2, color_y 4 landscapes:   0%|          | 0/1971 [00:00<?, ?it/s]"
      ]
     },
     "metadata": {},
     "output_type": "display_data"
    },
    {
     "data": {
      "application/vnd.jupyter.widget-view+json": {
       "model_id": "b17562b063894377829018fffbdfa93f",
       "version_major": 2,
       "version_minor": 0
      },
      "text/plain": [
       "Processing eps 2, color_y 5 landscapes:   0%|          | 0/1875 [00:00<?, ?it/s]"
      ]
     },
     "metadata": {},
     "output_type": "display_data"
    },
    {
     "data": {
      "application/vnd.jupyter.widget-view+json": {
       "model_id": "09bffe641b3b4b8f99fb31be51591165",
       "version_major": 2,
       "version_minor": 0
      },
      "text/plain": [
       "Processing eps 2, color_y 6 landscapes:   0%|          | 0/2151 [00:00<?, ?it/s]"
      ]
     },
     "metadata": {},
     "output_type": "display_data"
    },
    {
     "data": {
      "application/vnd.jupyter.widget-view+json": {
       "model_id": "7cfa6fa76822454ab23ce1160b4af7cf",
       "version_major": 2,
       "version_minor": 0
      },
      "text/plain": [
       "Processing eps 2, color_y 7 landscapes:   0%|          | 0/2247 [00:00<?, ?it/s]"
      ]
     },
     "metadata": {},
     "output_type": "display_data"
    },
    {
     "data": {
      "application/vnd.jupyter.widget-view+json": {
       "model_id": "0f289989dd80497396bce6c6a7a1632b",
       "version_major": 2,
       "version_minor": 0
      },
      "text/plain": [
       "Processing eps 2, color_y 8 landscapes:   0%|          | 0/2079 [00:00<?, ?it/s]"
      ]
     },
     "metadata": {},
     "output_type": "display_data"
    },
    {
     "data": {
      "application/vnd.jupyter.widget-view+json": {
       "model_id": "1e995fbb580e456784b9bd7f47268f3d",
       "version_major": 2,
       "version_minor": 0
      },
      "text/plain": [
       "Processing eps 2, color_y 9 landscapes:   0%|          | 0/2043 [00:00<?, ?it/s]"
      ]
     },
     "metadata": {},
     "output_type": "display_data"
    },
    {
     "data": {
      "application/vnd.jupyter.widget-view+json": {
       "model_id": "6ad9a404c8364e6a826d9867917037ce",
       "version_major": 2,
       "version_minor": 0
      },
      "text/plain": [
       "Processing eps 2.5, color_x 0 landscapes:   0%|          | 0/1338 [00:00<?, ?it/s]"
      ]
     },
     "metadata": {},
     "output_type": "display_data"
    },
    {
     "data": {
      "application/vnd.jupyter.widget-view+json": {
       "model_id": "1eddaa0d7a4f4f818f805c464c5806a6",
       "version_major": 2,
       "version_minor": 0
      },
      "text/plain": [
       "Processing eps 2.5, color_x 1 landscapes:   0%|          | 0/1658 [00:00<?, ?it/s]"
      ]
     },
     "metadata": {},
     "output_type": "display_data"
    },
    {
     "data": {
      "application/vnd.jupyter.widget-view+json": {
       "model_id": "4e40817fa31449bd9d7b62183dd3a902",
       "version_major": 2,
       "version_minor": 0
      },
      "text/plain": [
       "Processing eps 2.5, color_x 2 landscapes:   0%|          | 0/1376 [00:00<?, ?it/s]"
      ]
     },
     "metadata": {},
     "output_type": "display_data"
    },
    {
     "data": {
      "application/vnd.jupyter.widget-view+json": {
       "model_id": "4f717ac2919d4ae2b7c434f5ab97f764",
       "version_major": 2,
       "version_minor": 0
      },
      "text/plain": [
       "Processing eps 2.5, color_x 3 landscapes:   0%|          | 0/1384 [00:00<?, ?it/s]"
      ]
     },
     "metadata": {},
     "output_type": "display_data"
    },
    {
     "data": {
      "application/vnd.jupyter.widget-view+json": {
       "model_id": "ce5b7e60881648aab7307fcf9cd4fd33",
       "version_major": 2,
       "version_minor": 0
      },
      "text/plain": [
       "Processing eps 2.5, color_x 4 landscapes:   0%|          | 0/1314 [00:00<?, ?it/s]"
      ]
     },
     "metadata": {},
     "output_type": "display_data"
    },
    {
     "data": {
      "application/vnd.jupyter.widget-view+json": {
       "model_id": "e60dd80e88674e32a835ccaec0fe153a",
       "version_major": 2,
       "version_minor": 0
      },
      "text/plain": [
       "Processing eps 2.5, color_x 5 landscapes:   0%|          | 0/1250 [00:00<?, ?it/s]"
      ]
     },
     "metadata": {},
     "output_type": "display_data"
    },
    {
     "data": {
      "application/vnd.jupyter.widget-view+json": {
       "model_id": "00e26bed1a634755b3436f83a9df15fc",
       "version_major": 2,
       "version_minor": 0
      },
      "text/plain": [
       "Processing eps 2.5, color_x 6 landscapes:   0%|          | 0/1434 [00:00<?, ?it/s]"
      ]
     },
     "metadata": {},
     "output_type": "display_data"
    },
    {
     "data": {
      "application/vnd.jupyter.widget-view+json": {
       "model_id": "1587e9ec95c0493f885efacfd8e64400",
       "version_major": 2,
       "version_minor": 0
      },
      "text/plain": [
       "Processing eps 2.5, color_x 7 landscapes:   0%|          | 0/1498 [00:00<?, ?it/s]"
      ]
     },
     "metadata": {},
     "output_type": "display_data"
    },
    {
     "data": {
      "application/vnd.jupyter.widget-view+json": {
       "model_id": "f07f76e2d671403b8b2721edfc27d489",
       "version_major": 2,
       "version_minor": 0
      },
      "text/plain": [
       "Processing eps 2.5, color_x 8 landscapes:   0%|          | 0/1386 [00:00<?, ?it/s]"
      ]
     },
     "metadata": {},
     "output_type": "display_data"
    },
    {
     "data": {
      "application/vnd.jupyter.widget-view+json": {
       "model_id": "7ebcbe96ab8145e6af5edb39fcab753f",
       "version_major": 2,
       "version_minor": 0
      },
      "text/plain": [
       "Processing eps 2.5, color_x 9 landscapes:   0%|          | 0/1362 [00:00<?, ?it/s]"
      ]
     },
     "metadata": {},
     "output_type": "display_data"
    },
    {
     "data": {
      "application/vnd.jupyter.widget-view+json": {
       "model_id": "60b246c08d4447d890755e5cfc6b6f59",
       "version_major": 2,
       "version_minor": 0
      },
      "text/plain": [
       "Processing eps 2.5, color_y 0 landscapes:   0%|          | 0/1338 [00:00<?, ?it/s]"
      ]
     },
     "metadata": {},
     "output_type": "display_data"
    },
    {
     "data": {
      "application/vnd.jupyter.widget-view+json": {
       "model_id": "170521f92033493fb63f9269d0293a84",
       "version_major": 2,
       "version_minor": 0
      },
      "text/plain": [
       "Processing eps 2.5, color_y 1 landscapes:   0%|          | 0/1658 [00:00<?, ?it/s]"
      ]
     },
     "metadata": {},
     "output_type": "display_data"
    },
    {
     "data": {
      "application/vnd.jupyter.widget-view+json": {
       "model_id": "968da2e5f70f4381981736e2bfa4ff18",
       "version_major": 2,
       "version_minor": 0
      },
      "text/plain": [
       "Processing eps 2.5, color_y 2 landscapes:   0%|          | 0/1376 [00:00<?, ?it/s]"
      ]
     },
     "metadata": {},
     "output_type": "display_data"
    },
    {
     "data": {
      "application/vnd.jupyter.widget-view+json": {
       "model_id": "e146cad1c90f412e8f967cfe02a0e0db",
       "version_major": 2,
       "version_minor": 0
      },
      "text/plain": [
       "Processing eps 2.5, color_y 3 landscapes:   0%|          | 0/1384 [00:00<?, ?it/s]"
      ]
     },
     "metadata": {},
     "output_type": "display_data"
    },
    {
     "data": {
      "application/vnd.jupyter.widget-view+json": {
       "model_id": "d7515e9b42c747db8f7e18160afa256c",
       "version_major": 2,
       "version_minor": 0
      },
      "text/plain": [
       "Processing eps 2.5, color_y 4 landscapes:   0%|          | 0/1314 [00:00<?, ?it/s]"
      ]
     },
     "metadata": {},
     "output_type": "display_data"
    },
    {
     "data": {
      "application/vnd.jupyter.widget-view+json": {
       "model_id": "402d2d24229e409f9b463e4aea20acc8",
       "version_major": 2,
       "version_minor": 0
      },
      "text/plain": [
       "Processing eps 2.5, color_y 5 landscapes:   0%|          | 0/1250 [00:00<?, ?it/s]"
      ]
     },
     "metadata": {},
     "output_type": "display_data"
    },
    {
     "data": {
      "application/vnd.jupyter.widget-view+json": {
       "model_id": "eca1fd1030c24c7691d1a63a80116584",
       "version_major": 2,
       "version_minor": 0
      },
      "text/plain": [
       "Processing eps 2.5, color_y 6 landscapes:   0%|          | 0/1434 [00:00<?, ?it/s]"
      ]
     },
     "metadata": {},
     "output_type": "display_data"
    },
    {
     "data": {
      "application/vnd.jupyter.widget-view+json": {
       "model_id": "0c3f65638d2344b8ab709fef0fe6ac17",
       "version_major": 2,
       "version_minor": 0
      },
      "text/plain": [
       "Processing eps 2.5, color_y 7 landscapes:   0%|          | 0/1498 [00:00<?, ?it/s]"
      ]
     },
     "metadata": {},
     "output_type": "display_data"
    },
    {
     "data": {
      "application/vnd.jupyter.widget-view+json": {
       "model_id": "44dc296b83934556aaf9708fd647570a",
       "version_major": 2,
       "version_minor": 0
      },
      "text/plain": [
       "Processing eps 2.5, color_y 8 landscapes:   0%|          | 0/1386 [00:00<?, ?it/s]"
      ]
     },
     "metadata": {},
     "output_type": "display_data"
    },
    {
     "data": {
      "application/vnd.jupyter.widget-view+json": {
       "model_id": "a37197e81c01484da804f89a07b20171",
       "version_major": 2,
       "version_minor": 0
      },
      "text/plain": [
       "Processing eps 2.5, color_y 9 landscapes:   0%|          | 0/1362 [00:00<?, ?it/s]"
      ]
     },
     "metadata": {},
     "output_type": "display_data"
    },
    {
     "data": {
      "application/vnd.jupyter.widget-view+json": {
       "model_id": "f669325e43734eae80cffe202775fc9a",
       "version_major": 2,
       "version_minor": 0
      },
      "text/plain": [
       "Processing eps 3, color_x 0 landscapes:   0%|          | 0/1338 [00:00<?, ?it/s]"
      ]
     },
     "metadata": {},
     "output_type": "display_data"
    },
    {
     "data": {
      "application/vnd.jupyter.widget-view+json": {
       "model_id": "c2ee280043ad4773a35b4248d184fbe1",
       "version_major": 2,
       "version_minor": 0
      },
      "text/plain": [
       "Processing eps 3, color_x 1 landscapes:   0%|          | 0/1658 [00:00<?, ?it/s]"
      ]
     },
     "metadata": {},
     "output_type": "display_data"
    },
    {
     "data": {
      "application/vnd.jupyter.widget-view+json": {
       "model_id": "3be1fa67c61e451d9456a0244afca3da",
       "version_major": 2,
       "version_minor": 0
      },
      "text/plain": [
       "Processing eps 3, color_x 2 landscapes:   0%|          | 0/1376 [00:00<?, ?it/s]"
      ]
     },
     "metadata": {},
     "output_type": "display_data"
    },
    {
     "data": {
      "application/vnd.jupyter.widget-view+json": {
       "model_id": "a775253a65b5439799402eed604aee0d",
       "version_major": 2,
       "version_minor": 0
      },
      "text/plain": [
       "Processing eps 3, color_x 3 landscapes:   0%|          | 0/1384 [00:00<?, ?it/s]"
      ]
     },
     "metadata": {},
     "output_type": "display_data"
    },
    {
     "data": {
      "application/vnd.jupyter.widget-view+json": {
       "model_id": "b647c8b4586043a299c646214bc5e8bd",
       "version_major": 2,
       "version_minor": 0
      },
      "text/plain": [
       "Processing eps 3, color_x 4 landscapes:   0%|          | 0/1314 [00:00<?, ?it/s]"
      ]
     },
     "metadata": {},
     "output_type": "display_data"
    },
    {
     "data": {
      "application/vnd.jupyter.widget-view+json": {
       "model_id": "42cb815865ee4425ad8fca3312ebe763",
       "version_major": 2,
       "version_minor": 0
      },
      "text/plain": [
       "Processing eps 3, color_x 5 landscapes:   0%|          | 0/1250 [00:00<?, ?it/s]"
      ]
     },
     "metadata": {},
     "output_type": "display_data"
    },
    {
     "data": {
      "application/vnd.jupyter.widget-view+json": {
       "model_id": "7d80b432329741caa07dc03e147f6321",
       "version_major": 2,
       "version_minor": 0
      },
      "text/plain": [
       "Processing eps 3, color_x 6 landscapes:   0%|          | 0/1434 [00:00<?, ?it/s]"
      ]
     },
     "metadata": {},
     "output_type": "display_data"
    },
    {
     "data": {
      "application/vnd.jupyter.widget-view+json": {
       "model_id": "8ef10efa6fc649eb90a88ce9429202ad",
       "version_major": 2,
       "version_minor": 0
      },
      "text/plain": [
       "Processing eps 3, color_x 7 landscapes:   0%|          | 0/1498 [00:00<?, ?it/s]"
      ]
     },
     "metadata": {},
     "output_type": "display_data"
    },
    {
     "data": {
      "application/vnd.jupyter.widget-view+json": {
       "model_id": "fe950c52a8b44fa8846f381886a790d1",
       "version_major": 2,
       "version_minor": 0
      },
      "text/plain": [
       "Processing eps 3, color_x 8 landscapes:   0%|          | 0/1386 [00:00<?, ?it/s]"
      ]
     },
     "metadata": {},
     "output_type": "display_data"
    },
    {
     "data": {
      "application/vnd.jupyter.widget-view+json": {
       "model_id": "337c3979797d478186b01ba5d7548ebb",
       "version_major": 2,
       "version_minor": 0
      },
      "text/plain": [
       "Processing eps 3, color_x 9 landscapes:   0%|          | 0/1362 [00:00<?, ?it/s]"
      ]
     },
     "metadata": {},
     "output_type": "display_data"
    },
    {
     "data": {
      "application/vnd.jupyter.widget-view+json": {
       "model_id": "b43fb55f61374a0f845be501a3809013",
       "version_major": 2,
       "version_minor": 0
      },
      "text/plain": [
       "Processing eps 3, color_y 0 landscapes:   0%|          | 0/1338 [00:00<?, ?it/s]"
      ]
     },
     "metadata": {},
     "output_type": "display_data"
    },
    {
     "data": {
      "application/vnd.jupyter.widget-view+json": {
       "model_id": "bd6fc048189645c38b4d3ff6d55b4421",
       "version_major": 2,
       "version_minor": 0
      },
      "text/plain": [
       "Processing eps 3, color_y 1 landscapes:   0%|          | 0/1658 [00:00<?, ?it/s]"
      ]
     },
     "metadata": {},
     "output_type": "display_data"
    },
    {
     "data": {
      "application/vnd.jupyter.widget-view+json": {
       "model_id": "d0d373acde3c4d3baa97653477f87380",
       "version_major": 2,
       "version_minor": 0
      },
      "text/plain": [
       "Processing eps 3, color_y 2 landscapes:   0%|          | 0/1376 [00:00<?, ?it/s]"
      ]
     },
     "metadata": {},
     "output_type": "display_data"
    },
    {
     "data": {
      "application/vnd.jupyter.widget-view+json": {
       "model_id": "81786345ba6b4f6a9491accf442867e5",
       "version_major": 2,
       "version_minor": 0
      },
      "text/plain": [
       "Processing eps 3, color_y 3 landscapes:   0%|          | 0/1384 [00:00<?, ?it/s]"
      ]
     },
     "metadata": {},
     "output_type": "display_data"
    },
    {
     "data": {
      "application/vnd.jupyter.widget-view+json": {
       "model_id": "8aeb61b7ec0243c681fa0465cddc6b87",
       "version_major": 2,
       "version_minor": 0
      },
      "text/plain": [
       "Processing eps 3, color_y 4 landscapes:   0%|          | 0/1314 [00:00<?, ?it/s]"
      ]
     },
     "metadata": {},
     "output_type": "display_data"
    },
    {
     "data": {
      "application/vnd.jupyter.widget-view+json": {
       "model_id": "de203b34165b43a9b7b23aeabcf98d74",
       "version_major": 2,
       "version_minor": 0
      },
      "text/plain": [
       "Processing eps 3, color_y 5 landscapes:   0%|          | 0/1250 [00:00<?, ?it/s]"
      ]
     },
     "metadata": {},
     "output_type": "display_data"
    },
    {
     "data": {
      "application/vnd.jupyter.widget-view+json": {
       "model_id": "937bcfe2567142f1bccbf2190ff7d453",
       "version_major": 2,
       "version_minor": 0
      },
      "text/plain": [
       "Processing eps 3, color_y 6 landscapes:   0%|          | 0/1434 [00:00<?, ?it/s]"
      ]
     },
     "metadata": {},
     "output_type": "display_data"
    },
    {
     "data": {
      "application/vnd.jupyter.widget-view+json": {
       "model_id": "ff9f5a4db32c4ae3bb91bde9bc7fcb0a",
       "version_major": 2,
       "version_minor": 0
      },
      "text/plain": [
       "Processing eps 3, color_y 7 landscapes:   0%|          | 0/1498 [00:00<?, ?it/s]"
      ]
     },
     "metadata": {},
     "output_type": "display_data"
    },
    {
     "data": {
      "application/vnd.jupyter.widget-view+json": {
       "model_id": "2563cb5c2ea84dd98b83856f8074de5f",
       "version_major": 2,
       "version_minor": 0
      },
      "text/plain": [
       "Processing eps 3, color_y 8 landscapes:   0%|          | 0/1386 [00:00<?, ?it/s]"
      ]
     },
     "metadata": {},
     "output_type": "display_data"
    },
    {
     "data": {
      "application/vnd.jupyter.widget-view+json": {
       "model_id": "0100abef157a481aad9b2c0dabd8353e",
       "version_major": 2,
       "version_minor": 0
      },
      "text/plain": [
       "Processing eps 3, color_y 9 landscapes:   0%|          | 0/1362 [00:00<?, ?it/s]"
      ]
     },
     "metadata": {},
     "output_type": "display_data"
    }
   ],
   "source": [
    "LL_train_new_filtration = LandscapeLoader(\"../mnist_ballmapper_new_filtration/sample_size_7000\", [1.5, 2, 2.5, 3], max_image_i=5600)\n",
    "LL_test_new_filtration = LandscapeLoader(\"../mnist_ballmapper_new_filtration/sample_size_7000\", [1.5, 2, 2.5, 3], min_image_i=5600)\n",
    "\n",
    "LL_train_old_filtration = LandscapeLoader(\"../mnist_ballmapper/sample_size_7000\", [1.5, 2, 2.5, 3], max_image_i=5600)\n",
    "LL_test_old_filtration = LandscapeLoader(\"../mnist_ballmapper/sample_size_7000\", [1.5, 2, 2.5, 3], min_image_i=5600)"
   ]
  },
  {
   "cell_type": "markdown",
   "metadata": {},
   "source": [
    "Mean landscapes\n",
    "---------------"
   ]
  },
  {
   "cell_type": "code",
   "execution_count": 5,
   "metadata": {},
   "outputs": [],
   "source": [
    "LL_train = LL_train_old_filtration"
   ]
  },
  {
   "cell_type": "code",
   "execution_count": 10,
   "metadata": {},
   "outputs": [],
   "source": [
    "def plot_mean_landscape(LL, eps, color, digit, type_, max_k = 3, limits = None, n_eval=1000, errorbar=\"sd\"):\n",
    "    LL.reset_pointer([eps], [color], [digit], [type_])\n",
    "\n",
    "    all_evaluations = {0: {k: np.array([]) for k in range(max_k)}, 1: {k: np.array([]) for k in range(max_k)}}\n",
    "    count = 0\n",
    "\n",
    "    print(f\"Loading landscapes for eps={eps}, color={color}, digit={digit}, type={type_}\")\n",
    "    while True:\n",
    "        print(f\"Loading landscape {count}\", end=\"\\r\")\n",
    "        land = LL.load(eps, color, digit, type_)\n",
    "        if land is None:\n",
    "            break\n",
    "        max_t = land.max_t\n",
    "        count += 1\n",
    "        for q in range(2):\n",
    "            for k in range(max_k):\n",
    "                if k not in land.evaluations[q].keys():\n",
    "                    all_evaluations[q][k] = np.append(all_evaluations[q][k], np.zeros(n_eval))\n",
    "                else:\n",
    "                    all_evaluations[q][k] = np.append(all_evaluations[q][k], land.evaluations[q][k])\n",
    "\n",
    "    print()\n",
    "    x_axis = np.array(list(np.linspace(0, max_t, n_eval))*count)\n",
    "\n",
    "    fig, ax = plt.subplots(1, 2, figsize=(5*2, 5))\n",
    "        \n",
    "    for dim in range(0, 2):\n",
    "        cur_ax = ax[dim]\n",
    "\n",
    "        for k in range(max_k):\n",
    "            # max_non_zero = len(self.evaluations[dim])\n",
    "            # for i in range(len(self.evaluations[dim])-1, -1, -1):\n",
    "            #     if self.evaluations[dim][k][i] != 0:\n",
    "            #         max_non_zero = i+1\n",
    "            #         break\n",
    "            # ax[dim].plot(np.linspace(0, self.max_t, len(self.evaluations[dim][k]))[:max_non_zero], self.evaluations[dim][k][:max_non_zero], c={0: \"b\", 1: \"r\", 2: \"g\", 3: \"y\"}[dim])\n",
    "            print(\"Plotting k =\", k, \"dim =\", dim, end=\"\\r\")\n",
    "            sns.lineplot(x=x_axis, y=all_evaluations[dim][k], ax=cur_ax, label=f\"k={k}\", errorbar=errorbar)\n",
    "        \n",
    "        if limits is not None:\n",
    "            if isinstance(limits[0], list):\n",
    "                if len(limits) > dim:\n",
    "                    cur_ax.set_xlim(limits[dim][0], limits[dim][1])\n",
    "                    cur_ax.set_ylim(limits[dim][2], limits[dim][3])\n",
    "            else:\n",
    "                cur_ax.set_xlim(limits[0], limits[1])\n",
    "                cur_ax.set_ylim(limits[2], limits[3])\n",
    "        cur_ax.legend()\n",
    "        cur_ax.set_xlabel(\"t\")\n",
    "        cur_ax.set_ylabel(\"Landscape\")\n",
    "        if type_ == \"lap\":\n",
    "            cur_ax.set_title(f\"Lap Landscape dim {dim}\")\n",
    "        else:\n",
    "            cur_ax.set_title(f\"Landscape dim {dim}\")\n",
    "        # cur_ax.set_title(f\"Lap Landscape dim {dim}\")\n",
    "    fig.tight_layout()\n",
    "    return ax\n",
    "\n",
    "# LL_train.reset_pointer()\n",
    "\n",
    "# all_evaluations = {0: {}, 1: {}}\n",
    "# max_k = [-1, -1]\n",
    "# count = 0\n",
    "\n",
    "# while True:\n",
    "#     land = LL_train.load(2, \"color_x\", \"0\", \"lap\")\n",
    "#     if land is None:\n",
    "#         break\n",
    "#     count += 1\n",
    "#     for q in range(2):\n",
    "#         for k in land.evaluations[q].keys():\n",
    "#             if k > max_k[q]:\n",
    "#                 max_k[q] = k\n",
    "#                 all_evaluations[q][k] = np.array([])\n",
    "#             all_evaluations[q][k] = np.append(all_evaluations[q][k], land.evaluations[q][k])\n"
   ]
  },
  {
   "cell_type": "markdown",
   "metadata": {},
   "source": [
    "Extended landscapes\n",
    "--------------------"
   ]
  },
  {
   "cell_type": "code",
   "execution_count": null,
   "metadata": {},
   "outputs": [
    {
     "data": {
      "application/vnd.jupyter.widget-view+json": {
       "model_id": "baab85502c764a77bacf324289ff41f9",
       "version_major": 2,
       "version_minor": 0
      },
      "text/plain": [
       "Processing eps 2, color_y 0 landscapes:   0%|          | 0/669 [00:00<?, ?it/s]"
      ]
     },
     "metadata": {},
     "output_type": "display_data"
    },
    {
     "data": {
      "application/vnd.jupyter.widget-view+json": {
       "model_id": "0bd0ea43185246efa8bc1c24a245e2b6",
       "version_major": 2,
       "version_minor": 0
      },
      "text/plain": [
       "Processing eps 2, color_y 1 landscapes:   0%|          | 0/829 [00:00<?, ?it/s]"
      ]
     },
     "metadata": {},
     "output_type": "display_data"
    },
    {
     "data": {
      "application/vnd.jupyter.widget-view+json": {
       "model_id": "b0cf71e6d48448d3921e49f198f5646b",
       "version_major": 2,
       "version_minor": 0
      },
      "text/plain": [
       "Processing eps 2, color_y 2 landscapes:   0%|          | 0/688 [00:00<?, ?it/s]"
      ]
     },
     "metadata": {},
     "output_type": "display_data"
    },
    {
     "data": {
      "application/vnd.jupyter.widget-view+json": {
       "model_id": "670afced5c27456ebfeaaefe113deba0",
       "version_major": 2,
       "version_minor": 0
      },
      "text/plain": [
       "Processing eps 2, color_y 3 landscapes:   0%|          | 0/692 [00:00<?, ?it/s]"
      ]
     },
     "metadata": {},
     "output_type": "display_data"
    },
    {
     "data": {
      "application/vnd.jupyter.widget-view+json": {
       "model_id": "967b5d6b42fe48ce8befd3d3953e7530",
       "version_major": 2,
       "version_minor": 0
      },
      "text/plain": [
       "Processing eps 2, color_y 4 landscapes:   0%|          | 0/657 [00:00<?, ?it/s]"
      ]
     },
     "metadata": {},
     "output_type": "display_data"
    },
    {
     "data": {
      "application/vnd.jupyter.widget-view+json": {
       "model_id": "7552b0a95372437b99f3334a8ffb5af6",
       "version_major": 2,
       "version_minor": 0
      },
      "text/plain": [
       "Processing eps 2, color_y 5 landscapes:   0%|          | 0/625 [00:00<?, ?it/s]"
      ]
     },
     "metadata": {},
     "output_type": "display_data"
    },
    {
     "data": {
      "application/vnd.jupyter.widget-view+json": {
       "model_id": "41493486072443a5b186068b6c6c93d7",
       "version_major": 2,
       "version_minor": 0
      },
      "text/plain": [
       "Processing eps 2, color_y 6 landscapes:   0%|          | 0/717 [00:00<?, ?it/s]"
      ]
     },
     "metadata": {},
     "output_type": "display_data"
    },
    {
     "data": {
      "application/vnd.jupyter.widget-view+json": {
       "model_id": "ee98657ec50b4bfd9aba88efdcc57c01",
       "version_major": 2,
       "version_minor": 0
      },
      "text/plain": [
       "Processing eps 2, color_y 7 landscapes:   0%|          | 0/749 [00:00<?, ?it/s]"
      ]
     },
     "metadata": {},
     "output_type": "display_data"
    },
    {
     "data": {
      "application/vnd.jupyter.widget-view+json": {
       "model_id": "ad81d4836d1c4035b47cc1b0df05ff65",
       "version_major": 2,
       "version_minor": 0
      },
      "text/plain": [
       "Processing eps 2, color_y 8 landscapes:   0%|          | 0/693 [00:00<?, ?it/s]"
      ]
     },
     "metadata": {},
     "output_type": "display_data"
    },
    {
     "data": {
      "application/vnd.jupyter.widget-view+json": {
       "model_id": "d0709363816f4652a8c3f5a82d21a8ed",
       "version_major": 2,
       "version_minor": 0
      },
      "text/plain": [
       "Processing eps 2, color_y 9 landscapes:   0%|          | 0/681 [00:00<?, ?it/s]"
      ]
     },
     "metadata": {},
     "output_type": "display_data"
    },
    {
     "data": {
      "application/vnd.jupyter.widget-view+json": {
       "model_id": "a096bef10d384f79a92f669562927c53",
       "version_major": 2,
       "version_minor": 0
      },
      "text/plain": [
       "Processing eps 2, color_y 0 landscapes:   0%|          | 0/669 [00:00<?, ?it/s]"
      ]
     },
     "metadata": {},
     "output_type": "display_data"
    },
    {
     "data": {
      "application/vnd.jupyter.widget-view+json": {
       "model_id": "07ebf5b327f848d4939524909ab5cf24",
       "version_major": 2,
       "version_minor": 0
      },
      "text/plain": [
       "Processing eps 2, color_y 1 landscapes:   0%|          | 0/829 [00:00<?, ?it/s]"
      ]
     },
     "metadata": {},
     "output_type": "display_data"
    },
    {
     "data": {
      "application/vnd.jupyter.widget-view+json": {
       "model_id": "5f016e94458446efa44e3e8d00c477cd",
       "version_major": 2,
       "version_minor": 0
      },
      "text/plain": [
       "Processing eps 2, color_y 2 landscapes:   0%|          | 0/688 [00:00<?, ?it/s]"
      ]
     },
     "metadata": {},
     "output_type": "display_data"
    },
    {
     "data": {
      "application/vnd.jupyter.widget-view+json": {
       "model_id": "855a2c022fdb4810ad8a539221ae3353",
       "version_major": 2,
       "version_minor": 0
      },
      "text/plain": [
       "Processing eps 2, color_y 3 landscapes:   0%|          | 0/692 [00:00<?, ?it/s]"
      ]
     },
     "metadata": {},
     "output_type": "display_data"
    },
    {
     "data": {
      "application/vnd.jupyter.widget-view+json": {
       "model_id": "cb9700b16dde42b2965aa2ba219b7be6",
       "version_major": 2,
       "version_minor": 0
      },
      "text/plain": [
       "Processing eps 2, color_y 4 landscapes:   0%|          | 0/657 [00:00<?, ?it/s]"
      ]
     },
     "metadata": {},
     "output_type": "display_data"
    },
    {
     "data": {
      "application/vnd.jupyter.widget-view+json": {
       "model_id": "500c668d2375475c99f822f4215c040a",
       "version_major": 2,
       "version_minor": 0
      },
      "text/plain": [
       "Processing eps 2, color_y 5 landscapes:   0%|          | 0/625 [00:00<?, ?it/s]"
      ]
     },
     "metadata": {},
     "output_type": "display_data"
    },
    {
     "data": {
      "application/vnd.jupyter.widget-view+json": {
       "model_id": "3f26e58d057d4a74a2728112b51a76a5",
       "version_major": 2,
       "version_minor": 0
      },
      "text/plain": [
       "Processing eps 2, color_y 6 landscapes:   0%|          | 0/717 [00:00<?, ?it/s]"
      ]
     },
     "metadata": {},
     "output_type": "display_data"
    },
    {
     "data": {
      "application/vnd.jupyter.widget-view+json": {
       "model_id": "65129b0d34cf447b9b4b6b511e1f6c2d",
       "version_major": 2,
       "version_minor": 0
      },
      "text/plain": [
       "Processing eps 2, color_y 7 landscapes:   0%|          | 0/749 [00:00<?, ?it/s]"
      ]
     },
     "metadata": {},
     "output_type": "display_data"
    },
    {
     "data": {
      "application/vnd.jupyter.widget-view+json": {
       "model_id": "84e5f842203247d5b0dda28340a2dbff",
       "version_major": 2,
       "version_minor": 0
      },
      "text/plain": [
       "Processing eps 2, color_y 8 landscapes:   0%|          | 0/693 [00:00<?, ?it/s]"
      ]
     },
     "metadata": {},
     "output_type": "display_data"
    },
    {
     "data": {
      "application/vnd.jupyter.widget-view+json": {
       "model_id": "9bbba11e89214dae8c6e926d39f42445",
       "version_major": 2,
       "version_minor": 0
      },
      "text/plain": [
       "Processing eps 2, color_y 9 landscapes:   0%|          | 0/681 [00:00<?, ?it/s]"
      ]
     },
     "metadata": {},
     "output_type": "display_data"
    }
   ],
   "source": [
    "LL_inf_train = LandscapeLoader(\"../mnist_ballmapper_inf/sample_size_7000\", [2], max_image_i=5600)\n",
    "LL_inf_test = LandscapeLoader(\"../mnist_ballmapper_inf/sample_size_7000\", [2], min_image_i=5600)"
   ]
  },
  {
   "cell_type": "code",
   "execution_count": 15,
   "metadata": {},
   "outputs": [
    {
     "name": "stdout",
     "output_type": "stream",
     "text": [
      "Loading landscapes for eps=2, color=color_y, digit=4, type=pers\n",
      "Loading landscape 518\n",
      "Plotting k = 2 dim = 1\r"
     ]
    },
    {
     "data": {
      "text/plain": [
       "array([<Axes: title={'center': 'Landscape dim 0'}, xlabel='t', ylabel='Landscape'>,\n",
       "       <Axes: title={'center': 'Landscape dim 1'}, xlabel='t', ylabel='Landscape'>],\n",
       "      dtype=object)"
      ]
     },
     "execution_count": 15,
     "metadata": {},
     "output_type": "execute_result"
    },
    {
     "data": {
      "image/png": "[encoded data removed]",
      "text/plain": [
       "<Figure size 1000x500 with 2 Axes>"
      ]
     },
     "metadata": {},
     "output_type": "display_data"
    }
   ],
   "source": [
    "plot_mean_landscape(LL_inf_train, 2, \"color_y\", \"4\", \"pers\")"
   ]
  },
  {
   "cell_type": "code",
   "execution_count": 19,
   "metadata": {},
   "outputs": [
    {
     "data": {
      "application/vnd.jupyter.widget-view+json": {
       "model_id": "4208ee9c796047ddb8d2eb55ba6841ba",
       "version_major": 2,
       "version_minor": 0
      },
      "text/plain": [
       "  0%|          | 0/10 [00:00<?, ?it/s]"
      ]
     },
     "metadata": {},
     "output_type": "display_data"
    }
   ],
   "source": [
    "LL_inf_train.reset_pointer()\n",
    "mean_landscapes = {}\n",
    "type_ = \"pers\"\n",
    "eps = 2\n",
    "color = \"color_y\"\n",
    "\n",
    "digit_bar = tqdm([\"0\", \"1\", \"2\", \"3\", \"4\", \"5\", \"6\", \"7\", \"8\", \"9\"], leave=False)\n",
    "for digit in digit_bar:\n",
    "    mean_landscapes[digit] = {}\n",
    "    digit_bar.set_description(f\"Processing landscapes for eps {eps}, color {color}, digit {digit}, type {type_}\")\n",
    "    cur_lands = []\n",
    "    while True:\n",
    "        land = LL_inf_train.load(eps, color, digit, type_)\n",
    "        if land is None:\n",
    "            break\n",
    "        cur_lands.append(land)\n",
    "    mean_landscapes[digit] = np.mean(cur_lands)\n",
    "                "
   ]
  },
  {
   "cell_type": "code",
   "execution_count": 20,
   "metadata": {},
   "outputs": [
    {
     "data": {
      "application/vnd.jupyter.widget-view+json": {
       "model_id": "045f11e6cf04464595d32a02d54a8f35",
       "version_major": 2,
       "version_minor": 0
      },
      "text/plain": [
       "  0%|          | 0/10 [00:00<?, ?it/s]"
      ]
     },
     "metadata": {},
     "output_type": "display_data"
    }
   ],
   "source": [
    "classifications_dict = {}\n",
    "\n",
    "digits = [\"0\", \"1\", \"2\", \"3\", \"4\", \"5\", \"6\", \"7\", \"8\", \"9\"]\n",
    "\n",
    "\n",
    "\n",
    "\n",
    "digit_bar = tqdm(digits, leave=False)\n",
    "for dim in [0, 1, None]:\n",
    "    LL_inf_test.reset_pointer()\n",
    "    classifications_dict[dim] = {}\n",
    "    for digit in digit_bar:\n",
    "        classifications_dict[dim][digit] = []\n",
    "        digit_bar.set_description(f\"Processing landscapes for dim {dim}, color {color}, digit {digit}\")\n",
    "        while True:\n",
    "            cur_land_pers = LL_inf_test.load(eps, color, digit, \"pers\")\n",
    "            if cur_land_pers is None:\n",
    "                break\n",
    "            dists_pers = []\n",
    "            for other_digit in digits:\n",
    "                mean_land_pers = mean_landscapes[other_digit]\n",
    "                dists_pers.append((cur_land_pers - mean_land_pers).norm(dim=dim))\n",
    "            # print(f\"type: {type_}, min dists: {np.min(dists)}, max dists: {np.max(dists)}, mean dists: {np.mean(dists)}\")\n",
    "            classifications_dict[dim][digit].append(np.argmin(dists_pers))"
   ]
  },
  {
   "cell_type": "code",
   "execution_count": 21,
   "metadata": {},
   "outputs": [
    {
     "name": "stdout",
     "output_type": "stream",
     "text": [
      "Type\\Digit\t0\t1\t2\t3\t4\t5\t6\t7\t8\t9\n",
      "0\t\t0.0%\t0.6%\t50.0%\t2.9%\t67.1%\t3.7%\t93.7%\t71.4%\t59.8%\t60.0%\t\n",
      "1\t\t2.8%\t0.0%\t4.5%\t0.0%\t0.0%\t77.8%\t12.0%\t1.4%\t66.4%\t36.9%\t\n",
      "None\t\t8.5%\t0.6%\t9.1%\t0.0%\t7.1%\t63.0%\t47.2%\t55.8%\t69.7%\t44.6%\t\n"
     ]
    }
   ],
   "source": [
    "print(\"Type\\Digit\\t\" + \"\\t\".join([\"0\", \"1\", \"2\", \"3\", \"4\", \"5\", \"6\", \"7\", \"8\", \"9\"]))\n",
    "for dim in [0, 1, None]:\n",
    "    print(dim, end=\"\\t\\t\")\n",
    "    for digit in [\"0\", \"1\", \"2\", \"3\", \"4\", \"5\", \"6\", \"7\", \"8\", \"9\"]:\n",
    "        # print(f\"{digit}\\t{type_}\", end=\"\\t\")\n",
    "        # print(f\"Digit {digit} classification accuracy:\")\n",
    "        print(np.round(np.mean(np.array(classifications_dict[dim][digit]) == int(digit))*100, 1), end=\"%\\t\")\n",
    "    print()\n",
    "        # print()"
   ]
  },
  {
   "cell_type": "markdown",
   "metadata": {},
   "source": [
    "Normal landscapes\n",
    "------------------"
   ]
  },
  {
   "cell_type": "code",
   "execution_count": 15,
   "metadata": {},
   "outputs": [
    {
     "name": "stdout",
     "output_type": "stream",
     "text": [
      "Loading landscapes for eps=2, color=color_y, digit=9, type=pers\n",
      "Loading landscape 551\n",
      "Plotting k = 2 dim = 1\r"
     ]
    },
    {
     "data": {
      "image/png": "[encoded data removed]",
      "text/plain": [
       "<Figure size 1000x500 with 2 Axes>"
      ]
     },
     "metadata": {},
     "output_type": "display_data"
    }
   ],
   "source": [
    "digit = \"9\"\n",
    "type_ = \"pers\"\n",
    "\n",
    "plot_mean_landscape(LL_train_old_filtration, 2, \"color_y\", digit, type_, max_k=3, limits=[[0, 28, 0, 4.5], [0, 28, 0, 0.01]])\n",
    "# plot_mean_landscape(LL_train, 2, \"color_y\", digit, type_, max_k=3, limits=[[0, 28, 0, 0.8], [0, 28, 0, 0.15]], errorbar=\"sd\")\n",
    "plt.savefig(f\"../figures/mnist_report/mean_landscape_{type_}_{digit}_conf.png\", bbox_inches='tight', dpi=300)\n",
    "plt.show()"
   ]
  },
  {
   "cell_type": "code",
   "execution_count": null,
   "metadata": {},
   "outputs": [
    {
     "data": {
      "text/plain": [
       "<Figure size 640x480 with 0 Axes>"
      ]
     },
     "metadata": {},
     "output_type": "display_data"
    }
   ],
   "source": []
  },
  {
   "cell_type": "code",
   "execution_count": null,
   "metadata": {},
   "outputs": [
    {
     "data": {
      "text/plain": [
       "<Axes: >"
      ]
     },
     "execution_count": 36,
     "metadata": {},
     "output_type": "execute_result"
    },
    {
     "data": {
      "image/png": "[encoded data removed]",
      "text/plain": [
       "<Figure size 640x480 with 1 Axes>"
      ]
     },
     "metadata": {},
     "output_type": "display_data"
    }
   ],
   "source": [
    "x_axis = np.array(list(np.linspace(0, land.max_t, 1000))*count)\n",
    "sns.lineplot(x=x_axis, y=all_evaluations[0][0])\n",
    "sns.lineplot(x=x_axis, y=all_evaluations[0][1])\n",
    "sns.lineplot(x=x_axis, y=all_evaluations[0][2])"
   ]
  },
  {
   "cell_type": "code",
   "execution_count": 65,
   "metadata": {},
   "outputs": [
    {
     "data": {
      "application/vnd.jupyter.widget-view+json": {
       "model_id": "c69040a5b9734a7585aceda020478ced",
       "version_major": 2,
       "version_minor": 0
      },
      "text/plain": [
       "  0%|          | 0/10 [00:00<?, ?it/s]"
      ]
     },
     "metadata": {},
     "output_type": "display_data"
    },
    {
     "data": {
      "application/vnd.jupyter.widget-view+json": {
       "model_id": "aec775ab47464bb69e2a474b0235d1bd",
       "version_major": 2,
       "version_minor": 0
      },
      "text/plain": [
       "  0%|          | 0/10 [00:00<?, ?it/s]"
      ]
     },
     "metadata": {},
     "output_type": "display_data"
    },
    {
     "data": {
      "application/vnd.jupyter.widget-view+json": {
       "model_id": "e821b7371b4f4198aab693e83fe25eb0",
       "version_major": 2,
       "version_minor": 0
      },
      "text/plain": [
       "  0%|          | 0/10 [00:00<?, ?it/s]"
      ]
     },
     "metadata": {},
     "output_type": "display_data"
    },
    {
     "data": {
      "application/vnd.jupyter.widget-view+json": {
       "model_id": "0b40bee14bd241199e29877a369addb2",
       "version_major": 2,
       "version_minor": 0
      },
      "text/plain": [
       "  0%|          | 0/10 [00:00<?, ?it/s]"
      ]
     },
     "metadata": {},
     "output_type": "display_data"
    },
    {
     "data": {
      "application/vnd.jupyter.widget-view+json": {
       "model_id": "2d84166282aa46e8840fcdedab31dfd8",
       "version_major": 2,
       "version_minor": 0
      },
      "text/plain": [
       "  0%|          | 0/10 [00:00<?, ?it/s]"
      ]
     },
     "metadata": {},
     "output_type": "display_data"
    },
    {
     "data": {
      "application/vnd.jupyter.widget-view+json": {
       "model_id": "8b9da3b2f5b645399c6023ab3ae9da6f",
       "version_major": 2,
       "version_minor": 0
      },
      "text/plain": [
       "  0%|          | 0/10 [00:00<?, ?it/s]"
      ]
     },
     "metadata": {},
     "output_type": "display_data"
    },
    {
     "data": {
      "application/vnd.jupyter.widget-view+json": {
       "model_id": "c80d2a0ea49e41de983075b2db066e9f",
       "version_major": 2,
       "version_minor": 0
      },
      "text/plain": [
       "  0%|          | 0/10 [00:00<?, ?it/s]"
      ]
     },
     "metadata": {},
     "output_type": "display_data"
    },
    {
     "data": {
      "application/vnd.jupyter.widget-view+json": {
       "model_id": "e923446427734a8b99506497029aa156",
       "version_major": 2,
       "version_minor": 0
      },
      "text/plain": [
       "  0%|          | 0/10 [00:00<?, ?it/s]"
      ]
     },
     "metadata": {},
     "output_type": "display_data"
    }
   ],
   "source": [
    "mean_landscapes = {}\n",
    "\n",
    "for eps in LL_train.location_dict.keys():\n",
    "    mean_landscapes[eps] = {}\n",
    "    for color in LL_train.location_dict[eps].keys():\n",
    "        mean_landscapes[eps][color] = {}\n",
    "        digit_bar = tqdm(LL_train.location_dict[eps][color].keys(), leave=False)\n",
    "        for digit in digit_bar:\n",
    "            mean_landscapes[eps][color][digit] = {}\n",
    "            for type_ in [\"pers\", \"lap\"]:\n",
    "                digit_bar.set_description(f\"Processing landscapes for eps {eps}, color {color}, digit {digit}, type {type_}\")\n",
    "                cur_lands = []\n",
    "                while True:\n",
    "                    land = LL_train.load(eps, color, digit, type_)\n",
    "                    if land is None:\n",
    "                        break\n",
    "                    cur_lands.append(land)\n",
    "                mean_landscapes[eps][color][digit][type_] = np.mean(cur_lands)\n",
    "                "
   ]
  },
  {
   "cell_type": "code",
   "execution_count": null,
   "metadata": {},
   "outputs": [],
   "source": [
    "# with open(\"../mnist_ballmapper_new_filtration/sample_size_7000/mean_landscapes_5600.pkl\", \"wb\") as f:\n",
    "#     pickle.dump(mean_landscapes, f)\n",
    "# mean_landscapes"
   ]
  },
  {
   "cell_type": "code",
   "execution_count": 4,
   "metadata": {},
   "outputs": [],
   "source": [
    "with open(\"../mnist_ballmapper/sample_size_7000/mean_landscapes_5600.pkl\", \"rb\") as f:\n",
    "    mean_landscapes_old_filtration = pickle.load(f)\n",
    "\n",
    "with open(\"../mnist_ballmapper_new_filtration/sample_size_7000/mean_landscapes_5600.pkl\", \"rb\") as f:\n",
    "    mean_landscapes_new_filtration = pickle.load(f)"
   ]
  },
  {
   "cell_type": "code",
   "execution_count": 21,
   "metadata": {},
   "outputs": [
    {
     "data": {
      "image/png": "[encoded data removed]",
      "text/plain": [
       "<Figure size 1000x500 with 2 Axes>"
      ]
     },
     "metadata": {},
     "output_type": "display_data"
    }
   ],
   "source": [
    "mean_landscapes_old_filtration[2][\"color_y\"][\"3\"][\"lap\"].plot(limits = [0, 28, 0, 0.6])\n",
    "# plt.savefig(\"../figures/mnist_report/mean_landscape_lap_0.png\", bbox_inches='tight', dpi=300)"
   ]
  },
  {
   "cell_type": "code",
   "execution_count": null,
   "metadata": {},
   "outputs": [
    {
     "data": {
      "application/vnd.jupyter.widget-view+json": {
       "model_id": "8d0995f762404632b7ad60b310834c48",
       "version_major": 2,
       "version_minor": 0
      },
      "text/plain": [
       "  0%|          | 0/10 [00:00<?, ?it/s]"
      ]
     },
     "metadata": {},
     "output_type": "display_data"
    },
    {
     "data": {
      "application/vnd.jupyter.widget-view+json": {
       "model_id": "8d20f22039c047e08f68731f4fd2e47b",
       "version_major": 2,
       "version_minor": 0
      },
      "text/plain": [
       "  0%|          | 0/10 [00:00<?, ?it/s]"
      ]
     },
     "metadata": {},
     "output_type": "display_data"
    },
    {
     "data": {
      "application/vnd.jupyter.widget-view+json": {
       "model_id": "750c033d2e4c46219be1750388c72b78",
       "version_major": 2,
       "version_minor": 0
      },
      "text/plain": [
       "  0%|          | 0/10 [00:00<?, ?it/s]"
      ]
     },
     "metadata": {},
     "output_type": "display_data"
    },
    {
     "data": {
      "application/vnd.jupyter.widget-view+json": {
       "model_id": "8a18e76889dd421ba213e86fa7844ecb",
       "version_major": 2,
       "version_minor": 0
      },
      "text/plain": [
       "  0%|          | 0/10 [00:00<?, ?it/s]"
      ]
     },
     "metadata": {},
     "output_type": "display_data"
    },
    {
     "data": {
      "application/vnd.jupyter.widget-view+json": {
       "model_id": "06b30b3cad994155a917b0a372d93d7f",
       "version_major": 2,
       "version_minor": 0
      },
      "text/plain": [
       "  0%|          | 0/10 [00:00<?, ?it/s]"
      ]
     },
     "metadata": {},
     "output_type": "display_data"
    },
    {
     "data": {
      "application/vnd.jupyter.widget-view+json": {
       "model_id": "bf66c1e027e64871a446c228e549b77a",
       "version_major": 2,
       "version_minor": 0
      },
      "text/plain": [
       "  0%|          | 0/10 [00:00<?, ?it/s]"
      ]
     },
     "metadata": {},
     "output_type": "display_data"
    },
    {
     "data": {
      "application/vnd.jupyter.widget-view+json": {
       "model_id": "b988e0cca3694756b9ec47db28e285ab",
       "version_major": 2,
       "version_minor": 0
      },
      "text/plain": [
       "  0%|          | 0/10 [00:00<?, ?it/s]"
      ]
     },
     "metadata": {},
     "output_type": "display_data"
    },
    {
     "data": {
      "application/vnd.jupyter.widget-view+json": {
       "model_id": "bfd4ed00cc8847a1b6615c83b42e0c10",
       "version_major": 2,
       "version_minor": 0
      },
      "text/plain": [
       "  0%|          | 0/10 [00:00<?, ?it/s]"
      ]
     },
     "metadata": {},
     "output_type": "display_data"
    }
   ],
   "source": [
    "classifications_dict = {}\n",
    "\n",
    "digits = [\"0\", \"1\", \"2\", \"3\", \"4\", \"5\", \"6\", \"7\", \"8\", \"9\"]\n",
    "\n",
    "for eps in LL_test.location_dict.keys():\n",
    "    classifications_dict[eps] = {}\n",
    "    for color in LL_test.location_dict[eps].keys():\n",
    "        classifications_dict[eps][color] = {}\n",
    "        digit_bar = tqdm(LL_test.location_dict[eps][color].keys(), leave=False)\n",
    "        for digit in digit_bar:\n",
    "            classifications_dict[eps][color][digit] = {}\n",
    "            for type_ in [\"pers\", \"lap\"]:\n",
    "                classifications_dict[eps][color][digit][type_] = []\n",
    "                digit_bar.set_description(f\"Processing landscapes for eps {eps}, color {color}, digit {digit}, type {type_}\")\n",
    "                while True:\n",
    "                    cur_land = LL_test.load(eps, color, digit, type_)\n",
    "                    if cur_land is None:\n",
    "                        break\n",
    "                    dists = []\n",
    "                    for other_digit in digits:\n",
    "                        mean_land = mean_landscapes[eps][color][other_digit][type_]\n",
    "                        dists.append((cur_land - mean_land).norm())\n",
    "                    classifications_dict[eps][color][digit][type_].append(np.argmin(dists))"
   ]
  },
  {
   "cell_type": "code",
   "execution_count": 23,
   "metadata": {},
   "outputs": [
    {
     "data": {
      "application/vnd.jupyter.widget-view+json": {
       "model_id": "b922407eb4754129b37dee97b34b1a30",
       "version_major": 2,
       "version_minor": 0
      },
      "text/plain": [
       "  0%|          | 0/10 [00:00<?, ?it/s]"
      ]
     },
     "metadata": {},
     "output_type": "display_data"
    },
    {
     "data": {
      "application/vnd.jupyter.widget-view+json": {
       "model_id": "1b2c5a82e9c443e695730eba5196850c",
       "version_major": 2,
       "version_minor": 0
      },
      "text/plain": [
       "  0%|          | 0/10 [00:00<?, ?it/s]"
      ]
     },
     "metadata": {},
     "output_type": "display_data"
    },
    {
     "data": {
      "application/vnd.jupyter.widget-view+json": {
       "model_id": "d66659031b814c81818f86653240254e",
       "version_major": 2,
       "version_minor": 0
      },
      "text/plain": [
       "  0%|          | 0/10 [00:00<?, ?it/s]"
      ]
     },
     "metadata": {},
     "output_type": "display_data"
    },
    {
     "data": {
      "application/vnd.jupyter.widget-view+json": {
       "model_id": "5af6a9ec2f2a4ac7849886ae6e93fa78",
       "version_major": 2,
       "version_minor": 0
      },
      "text/plain": [
       "  0%|          | 0/10 [00:00<?, ?it/s]"
      ]
     },
     "metadata": {},
     "output_type": "display_data"
    },
    {
     "data": {
      "application/vnd.jupyter.widget-view+json": {
       "model_id": "265d74e4f24847969674bb04d7257f1b",
       "version_major": 2,
       "version_minor": 0
      },
      "text/plain": [
       "  0%|          | 0/10 [00:00<?, ?it/s]"
      ]
     },
     "metadata": {},
     "output_type": "display_data"
    },
    {
     "data": {
      "application/vnd.jupyter.widget-view+json": {
       "model_id": "da6c7149b9ba4a4182fbe979b6df4303",
       "version_major": 2,
       "version_minor": 0
      },
      "text/plain": [
       "  0%|          | 0/10 [00:00<?, ?it/s]"
      ]
     },
     "metadata": {},
     "output_type": "display_data"
    },
    {
     "data": {
      "application/vnd.jupyter.widget-view+json": {
       "model_id": "30934514a38c4d86a81fc47f4fd3d83c",
       "version_major": 2,
       "version_minor": 0
      },
      "text/plain": [
       "  0%|          | 0/10 [00:00<?, ?it/s]"
      ]
     },
     "metadata": {},
     "output_type": "display_data"
    },
    {
     "data": {
      "application/vnd.jupyter.widget-view+json": {
       "model_id": "f6c87030daa3478aa702891046e9ad9a",
       "version_major": 2,
       "version_minor": 0
      },
      "text/plain": [
       "  0%|          | 0/10 [00:00<?, ?it/s]"
      ]
     },
     "metadata": {},
     "output_type": "display_data"
    }
   ],
   "source": [
    "classifications_dict = {}\n",
    "\n",
    "digits = [\"0\", \"1\", \"2\", \"3\", \"4\", \"5\", \"6\", \"7\", \"8\", \"9\"]\n",
    "\n",
    "LL_test_old_filtration.reset_pointer()\n",
    "\n",
    "\n",
    "for eps in LL_test_old_filtration.location_dict.keys():\n",
    "    classifications_dict[eps] = {}\n",
    "    for color in LL_test_old_filtration.location_dict[eps].keys():\n",
    "        classifications_dict[eps][color] = {}\n",
    "        digit_bar = tqdm(LL_test_old_filtration.location_dict[eps][color].keys(), leave=False)\n",
    "        for digit in digit_bar:\n",
    "            classifications_dict[eps][color][digit] = {}\n",
    "            for type_ in [\"pers\", \"lap\", \"both\"]:\n",
    "                classifications_dict[eps][color][digit][type_] = []\n",
    "            digit_bar.set_description(f\"Processing landscapes for eps {eps}, color {color}, digit {digit}\")\n",
    "            while True:\n",
    "                cur_land_pers = LL_test_old_filtration.load(eps, color, digit, \"pers\")\n",
    "                cur_land_lap = LL_test_old_filtration.load(eps, color, digit, \"lap\")\n",
    "                if cur_land_pers is None:\n",
    "                    break\n",
    "                dists_pers = []\n",
    "                dists_lap = []\n",
    "                for other_digit in digits:\n",
    "                    mean_land_pers = mean_landscapes_old_filtration[eps][color][other_digit][\"pers\"]\n",
    "                    mean_land_lap = mean_landscapes_old_filtration[eps][color][other_digit][\"lap\"]\n",
    "                    dists_pers.append((cur_land_pers - mean_land_pers).norm())\n",
    "                    dists_lap.append((cur_land_lap - mean_land_lap).norm())\n",
    "                # print(f\"type: {type_}, min dists: {np.min(dists)}, max dists: {np.max(dists)}, mean dists: {np.mean(dists)}\")\n",
    "                classifications_dict[eps][color][digit][\"pers\"].append(np.argmin(dists_pers))\n",
    "                classifications_dict[eps][color][digit][\"lap\"].append(np.argmin(dists_lap))\n",
    "                dists_both = (np.array(dists_pers)-np.min(dists_pers))/(np.max(dists_pers)-np.min(dists_pers)) + (np.array(dists_lap)-np.min(dists_lap))/(np.max(dists_lap)-np.min(dists_lap))\n",
    "                classifications_dict[eps][color][digit][\"both\"].append(np.argmin(dists_both))"
   ]
  },
  {
   "cell_type": "code",
   "execution_count": null,
   "metadata": {},
   "outputs": [],
   "source": [
    "# with open(\"../mnist_ballmapper/sample_size_7000/classifications_dict_with_combi_5600.pkl\", \"wb\") as f:\n",
    "#     pickle.dump(classifications_dict, f)"
   ]
  },
  {
   "cell_type": "code",
   "execution_count": 37,
   "metadata": {},
   "outputs": [
    {
     "name": "stdout",
     "output_type": "stream",
     "text": [
      "Type\\Digit\t0\t1\t2\t3\t4\t5\t6\t7\t8\t9\n",
      "pers\t\t0.0%\t98.8%\t12.1%\t34.1%\t79.3%\t17.0%\t30.3%\t17.0%\t8.2%\t2.3%\t\n",
      "lap\t\t78.2%\t48.8%\t44.7%\t39.1%\t64.3%\t51.9%\t67.6%\t61.2%\t67.2%\t60.8%\t\n",
      "both\t\t73.9%\t53.5%\t47.7%\t41.3%\t80.0%\t52.6%\t63.4%\t62.6%\t70.5%\t68.5%\t\n"
     ]
    }
   ],
   "source": [
    "print(\"Type\\Digit\\t\" + \"\\t\".join([\"0\", \"1\", \"2\", \"3\", \"4\", \"5\", \"6\", \"7\", \"8\", \"9\"]))\n",
    "for type_ in [\"pers\", \"lap\", \"both\"]:\n",
    "    print(type_, end=\"\\t\\t\")\n",
    "    for digit in [\"0\", \"1\", \"2\", \"3\", \"4\", \"5\", \"6\", \"7\", \"8\", \"9\"]:\n",
    "        # print(f\"{digit}\\t{type_}\", end=\"\\t\")\n",
    "        # print(f\"Digit {digit} classification accuracy:\")\n",
    "        print(np.round(np.mean(np.array(classifications_dict[2][\"color_y\"][digit][type_]) == int(digit))*100, 1), end=\"%\\t\")\n",
    "    print()\n",
    "        # print()"
   ]
  },
  {
   "cell_type": "code",
   "execution_count": 43,
   "metadata": {},
   "outputs": [
    {
     "name": "stdout",
     "output_type": "stream",
     "text": [
      "Digit\\Digit\t0\t1\t2\t3\t4\t5\t6\t7\t8\t9\n",
      "0\t\t73.94%\t0.7%\t2.82%\t0.0%\t4.23%\t3.52%\t2.11%\t0.0%\t11.27%\t1.41%\t\n",
      "1\t\t1.16%\t53.49%\t3.49%\t5.23%\t0.0%\t25.0%\t0.0%\t0.58%\t9.88%\t1.16%\t\n",
      "2\t\t3.79%\t6.82%\t47.73%\t16.67%\t0.0%\t14.39%\t6.82%\t0.0%\t3.79%\t0.0%\t\n",
      "3\t\t0.72%\t8.7%\t5.8%\t41.3%\t0.0%\t27.54%\t0.72%\t0.72%\t13.04%\t1.45%\t\n",
      "4\t\t2.86%\t2.14%\t0.0%\t0.0%\t80.0%\t2.14%\t0.71%\t0.71%\t1.43%\t10.0%\t\n",
      "5\t\t0.0%\t5.19%\t3.7%\t16.3%\t0.0%\t52.59%\t1.48%\t10.37%\t5.19%\t5.19%\t\n",
      "6\t\t6.34%\t0.0%\t25.35%\t0.0%\t1.41%\t3.52%\t63.38%\t0.0%\t0.0%\t0.0%\t\n",
      "7\t\t0.0%\t2.04%\t0.68%\t1.36%\t0.0%\t21.09%\t0.0%\t62.59%\t4.08%\t8.16%\t\n",
      "8\t\t7.38%\t2.46%\t0.82%\t4.1%\t1.64%\t2.46%\t0.82%\t0.82%\t70.49%\t9.02%\t\n",
      "9\t\t3.85%\t2.31%\t0.77%\t0.0%\t2.31%\t2.31%\t0.77%\t15.38%\t3.85%\t68.46%\t\n"
     ]
    }
   ],
   "source": [
    "type_ = \"both\"\n",
    "digit_list = [\"0\", \"1\", \"2\", \"3\", \"4\", \"5\", \"6\", \"7\", \"8\", \"9\"]\n",
    "\n",
    "print(\"Digit\\Digit\\t\" + \"\\t\".join(digit_list))\n",
    "for digit1 in digit_list:\n",
    "    print(digit1, end=\"\\t\\t\")\n",
    "    for digit2 in digit_list:\n",
    "        # print(f\"{digit}\\t{type_}\", end=\"\\t\")\n",
    "        # print(f\"Digit {digit} classification accuracy:\")\n",
    "        print(np.round(np.mean(np.array(classifications_dict[2][\"color_y\"][digit1][type_]) == int(digit2))*100, 2), end=\"%\\t\")\n",
    "    print()\n",
    "        # print()"
   ]
  },
  {
   "cell_type": "code",
   "execution_count": 106,
   "metadata": {},
   "outputs": [
    {
     "name": "stdout",
     "output_type": "stream",
     "text": [
      "eps\tcolor\tType\t\t\tAccuracy\tf1-score\n",
      "1.5\tx\tpers\t\t\t29.6%\t\t0.267\n",
      "1.5\tx\tlap\t\t\t38.5%\t\t0.371\n",
      "1.5\tx\tboth\t\t\t45.5%\t\t0.450\n",
      "1.5\ty\tpers\t\t\t33.2%\t\t0.306\n",
      "1.5\ty\tlap\t\t\t53.2%\t\t0.539\n",
      "1.5\ty\tboth\t\t\t56.4%\t\t0.572\n",
      "2\tx\tpers\t\t\t28.2%\t\t0.248\n",
      "2\tx\tlap\t\t\t42.7%\t\t0.409\n",
      "2\tx\tboth\t\t\t46.8%\t\t0.456\n",
      "2\ty\tpers\t\t\t32.0%\t\t0.293\n",
      "2\ty\tlap\t\t\t58.2%\t\t0.589\n",
      "2\ty\tboth\t\t\t61.2%\t\t0.620\n",
      "2.5\tx\tpers\t\t\t27.6%\t\t0.239\n",
      "2.5\tx\tlap\t\t\t36.4%\t\t0.346\n",
      "2.5\tx\tboth\t\t\t43.1%\t\t0.419\n",
      "2.5\ty\tpers\t\t\t30.2%\t\t0.274\n",
      "2.5\ty\tlap\t\t\t50.5%\t\t0.508\n",
      "2.5\ty\tboth\t\t\t55.8%\t\t0.563\n",
      "3\tx\tpers\t\t\t25.4%\t\t0.209\n",
      "3\tx\tlap\t\t\t36.4%\t\t0.346\n",
      "3\tx\tboth\t\t\t41.3%\t\t0.400\n",
      "3\ty\tpers\t\t\t28.1%\t\t0.250\n",
      "3\ty\tlap\t\t\t45.9%\t\t0.455\n",
      "3\ty\tboth\t\t\t50.9%\t\t0.509\n"
     ]
    }
   ],
   "source": [
    "from sklearn.metrics import f1_score\n",
    "\n",
    "print(\"eps\\tcolor\\tType\\t\\t\\tAccuracy\\tf1-score\")\n",
    "for eps in [1.5, 2, 2.5, 3]:\n",
    "    for color in [\"color_x\", \"color_y\"]:\n",
    "        for type_ in [\"pers\", \"lap\", \"both\"]:\n",
    "\n",
    "            results = np.array([])\n",
    "            y = np.array([])\n",
    "            for digit in [\"0\", \"1\", \"2\", \"3\", \"4\", \"5\", \"6\", \"7\", \"8\", \"9\"]:\n",
    "                cur_results = np.array(classifications_dict[eps][color][digit][type_])\n",
    "                results = np.append(results, cur_results)\n",
    "                y = np.append(y, np.ones_like(cur_results) * int(digit))\n",
    "\n",
    "            print(f\"{eps}\\t{color[-1]}\\t{type_}\", end=\"\\t\\t\\t\")\n",
    "            print(f\"{np.mean(results==y)*100:.1f}%\\t\\t{f1_score(y, results, average='weighted'):.3f}\")\n",
    "            # np.mean(results==y), np.std(results==y)"
   ]
  },
  {
   "cell_type": "markdown",
   "metadata": {},
   "source": [
    "Vector from landscapes\n",
    "-------------------"
   ]
  },
  {
   "cell_type": "code",
   "execution_count": null,
   "metadata": {},
   "outputs": [],
   "source": [
    "LL_all_old_filtration = LandscapeLoader(\"../mnist_ballmapper/sample_size_7000\", [1.5, 2, 2.5, 3])\n",
    "feature_vector_dict_land = {}\n",
    "\n",
    "path_to_vecs = \"../mnist_ballmapper/sample_size_7000/\"\n",
    "\n",
    "y_target = []\n",
    "for digit in [\"0\", \"1\", \"2\", \"3\", \"4\", \"5\", \"6\", \"7\", \"8\", \"9\"]:\n",
    "    y_target += [int(digit)]*(len(os.listdir(osp.join(path_to_vecs, \"eps_1.5\", \"color_x\", digit)))//2)\n",
    "\n",
    "# LL_all_old_filtration.reset_pointer()\n",
    "\n",
    "for eps in [1.5, 2, 2.5, 3]:\n",
    "    feature_vector_dict_land[eps] = {}\n",
    "    for color in [\"color_x\", \"color_y\"]:\n",
    "        feature_vector_dict_land[eps][color] = {}\n",
    "        for type_ in [\"pers\", \"lap\"]:\n",
    "            feature_vector_dict_land[eps][color][type_] = []\n",
    "            for digit in tqdm([\"0\", \"1\", \"2\", \"3\", \"4\", \"5\", \"6\", \"7\", \"8\", \"9\"], desc=f\"Processing eps {eps}, {color} feature vectors\", leave=False):\n",
    "                while True:\n",
    "                    cur_land = LL_all_old_filtration.load(eps, color, digit, type_)\n",
    "                    if cur_land is None:\n",
    "                        break\n",
    "                    feature_vec = []\n",
    "                    for q in range(2):\n",
    "                        try:\n",
    "                            evals = cur_land.sum_k().evaluations[q][0]\n",
    "                        except:\n",
    "                            print(f\"Error in loading landscape for eps {eps}, color {color}, digit {digit}, type {type_}\")\n",
    "                            # cur_land.plot()\n",
    "                            # continue\n",
    "                            raise ValueError\n",
    "                        feature_vec.append(evals[0:len(evals)-1:3])\n",
    "                    # print(np.hstack(feature_vec).shape)\n",
    "                    feature_vector_dict_land[eps][color][type_].append(np.hstack(feature_vec))\n",
    "            feature_vector_dict_land[eps][color][type_] = np.vstack(feature_vector_dict_land[eps][color][type_])"
   ]
  },
  {
   "cell_type": "code",
   "execution_count": 32,
   "metadata": {},
   "outputs": [],
   "source": [
    "with open(\"../mnist_ballmapper/sample_size_7000/feature_vector_dict.pkl\", \"wb\") as f:\n",
    "    pickle.dump(feature_vector_dict_land, f)"
   ]
  },
  {
   "cell_type": "code",
   "execution_count": 31,
   "metadata": {},
   "outputs": [
    {
     "name": "stdout",
     "output_type": "stream",
     "text": [
      "eps\tcolor\ttype\t\tAccuracy on test set\n",
      "1.5 & x & lap & 56.8%\n",
      "1.5 & x & lap_combi & 72.4%\n",
      "1.5 & y & lap & 75.9%\n",
      "1.5 & y & lap_combi & 81.9%\n",
      "2 & x & lap & 53.1%\n",
      "2 & x & lap_combi & 67.6%\n",
      "2 & y & lap & 74.3%\n",
      "2 & y & lap_combi & 81.1%\n",
      "2.5 & x & lap & 45.0%\n",
      "2.5 & x & lap_combi & 64.4%\n",
      "2.5 & y & lap & 61.8%\n",
      "2.5 & y & lap_combi & 76.9%\n",
      "3 & x & lap & 42.5%\n",
      "3 & x & lap_combi & 59.1%\n",
      "3 & y & lap & 59.8%\n",
      "3 & y & lap_combi & 75.3%\n"
     ]
    }
   ],
   "source": [
    "print(\"eps\\tcolor\\ttype\\t\\tAccuracy on test set\")\n",
    "for eps in [1.5, 2, 2.5, 3]:\n",
    "    for color in [\"color_x\", \"color_y\"]:\n",
    "        for type_ in [\"lap\", \"lap_combi\"]:\n",
    "            # print(f\"{eps}\\t{color[-1]}\\t{type_}\", end=\"\\t\\t\")\n",
    "            print(f\"{eps} & {color[-1]} & {type_}\", end=\" & \")\n",
    "            X = feature_vector_dict_land[eps][color][type_]\n",
    "            y = np.array(y_target)\n",
    "            X_train, X_test, y_train, y_test = train_test_split(X, y, test_size=0.2, random_state=42, stratify=y)\n",
    "            LR_model = LogisticRegression(max_iter=5000, random_state=42)\n",
    "            LR_model.fit(X_train, y_train)\n",
    "            print(f\"{LR_model.score(X_test, y_test)*100:.1f}%\")\n",
    "            # print(f\"Accuracy on test set: {LR_model.score(X_test, y_test)*100:.2f}%\")\n",
    "            # print(f\"Accuracy on train set: {LR_model.score(X_train, y_train)*100:.2f}%\")\n",
    "            # print(f\"Number of features: {X.shape[1]}\")\n",
    "            # print(f\"Number of samples: {X.shape[0]}\")"
   ]
  },
  {
   "cell_type": "markdown",
   "metadata": {},
   "source": [
    "FEATURE VECTORS\n",
    "---------------------"
   ]
  },
  {
   "cell_type": "code",
   "execution_count": 15,
   "metadata": {},
   "outputs": [
    {
     "data": {
      "application/vnd.jupyter.widget-view+json": {
       "model_id": "2479f7cee6d04f5c8b904099e2096669",
       "version_major": 2,
       "version_minor": 0
      },
      "text/plain": [
       "Processing eps 1.5, color_x feature vectors:   0%|          | 0/10 [00:00<?, ?it/s]"
      ]
     },
     "metadata": {},
     "output_type": "display_data"
    },
    {
     "data": {
      "application/vnd.jupyter.widget-view+json": {
       "model_id": "3030db1910b040d1b2eacce6b79f87f9",
       "version_major": 2,
       "version_minor": 0
      },
      "text/plain": [
       "Processing eps 1.5, color_x feature vectors:   0%|          | 0/10 [00:00<?, ?it/s]"
      ]
     },
     "metadata": {},
     "output_type": "display_data"
    },
    {
     "data": {
      "application/vnd.jupyter.widget-view+json": {
       "model_id": "d953af1a95da4d85ab644505ba599722",
       "version_major": 2,
       "version_minor": 0
      },
      "text/plain": [
       "Processing eps 1.5, color_y feature vectors:   0%|          | 0/10 [00:00<?, ?it/s]"
      ]
     },
     "metadata": {},
     "output_type": "display_data"
    },
    {
     "data": {
      "application/vnd.jupyter.widget-view+json": {
       "model_id": "1967100969a44066ab182ead516f5376",
       "version_major": 2,
       "version_minor": 0
      },
      "text/plain": [
       "Processing eps 1.5, color_y feature vectors:   0%|          | 0/10 [00:00<?, ?it/s]"
      ]
     },
     "metadata": {},
     "output_type": "display_data"
    },
    {
     "data": {
      "application/vnd.jupyter.widget-view+json": {
       "model_id": "eadae42e954543d8b13a6185ab220ece",
       "version_major": 2,
       "version_minor": 0
      },
      "text/plain": [
       "Processing eps 2, color_x feature vectors:   0%|          | 0/10 [00:00<?, ?it/s]"
      ]
     },
     "metadata": {},
     "output_type": "display_data"
    },
    {
     "data": {
      "application/vnd.jupyter.widget-view+json": {
       "model_id": "487a75a19e184d79a02638497f94378e",
       "version_major": 2,
       "version_minor": 0
      },
      "text/plain": [
       "Processing eps 2, color_x feature vectors:   0%|          | 0/10 [00:00<?, ?it/s]"
      ]
     },
     "metadata": {},
     "output_type": "display_data"
    },
    {
     "data": {
      "application/vnd.jupyter.widget-view+json": {
       "model_id": "c5e067ba69b742e9ae65ace59b07ea9f",
       "version_major": 2,
       "version_minor": 0
      },
      "text/plain": [
       "Processing eps 2, color_y feature vectors:   0%|          | 0/10 [00:00<?, ?it/s]"
      ]
     },
     "metadata": {},
     "output_type": "display_data"
    },
    {
     "data": {
      "application/vnd.jupyter.widget-view+json": {
       "model_id": "79ea8037d5db4e28bc2b9ab599d0090c",
       "version_major": 2,
       "version_minor": 0
      },
      "text/plain": [
       "Processing eps 2, color_y feature vectors:   0%|          | 0/10 [00:00<?, ?it/s]"
      ]
     },
     "metadata": {},
     "output_type": "display_data"
    },
    {
     "data": {
      "application/vnd.jupyter.widget-view+json": {
       "model_id": "32d1fa021a544ec48176ec227f27cc06",
       "version_major": 2,
       "version_minor": 0
      },
      "text/plain": [
       "Processing eps 2.5, color_x feature vectors:   0%|          | 0/10 [00:00<?, ?it/s]"
      ]
     },
     "metadata": {},
     "output_type": "display_data"
    },
    {
     "data": {
      "application/vnd.jupyter.widget-view+json": {
       "model_id": "dc6a821f1a8044afa684c192f30d1d57",
       "version_major": 2,
       "version_minor": 0
      },
      "text/plain": [
       "Processing eps 2.5, color_x feature vectors:   0%|          | 0/10 [00:00<?, ?it/s]"
      ]
     },
     "metadata": {},
     "output_type": "display_data"
    },
    {
     "data": {
      "application/vnd.jupyter.widget-view+json": {
       "model_id": "b6d34497831b4173bc2154de4c020798",
       "version_major": 2,
       "version_minor": 0
      },
      "text/plain": [
       "Processing eps 2.5, color_y feature vectors:   0%|          | 0/10 [00:00<?, ?it/s]"
      ]
     },
     "metadata": {},
     "output_type": "display_data"
    },
    {
     "data": {
      "application/vnd.jupyter.widget-view+json": {
       "model_id": "9efb616b5590422fa8dfa865a7f18f8a",
       "version_major": 2,
       "version_minor": 0
      },
      "text/plain": [
       "Processing eps 2.5, color_y feature vectors:   0%|          | 0/10 [00:00<?, ?it/s]"
      ]
     },
     "metadata": {},
     "output_type": "display_data"
    },
    {
     "data": {
      "application/vnd.jupyter.widget-view+json": {
       "model_id": "de73a63a924249d39e097ef99b9501e2",
       "version_major": 2,
       "version_minor": 0
      },
      "text/plain": [
       "Processing eps 3, color_x feature vectors:   0%|          | 0/10 [00:00<?, ?it/s]"
      ]
     },
     "metadata": {},
     "output_type": "display_data"
    },
    {
     "data": {
      "application/vnd.jupyter.widget-view+json": {
       "model_id": "63c16f9bca464c478317927cbfe1fc9c",
       "version_major": 2,
       "version_minor": 0
      },
      "text/plain": [
       "Processing eps 3, color_x feature vectors:   0%|          | 0/10 [00:00<?, ?it/s]"
      ]
     },
     "metadata": {},
     "output_type": "display_data"
    },
    {
     "data": {
      "application/vnd.jupyter.widget-view+json": {
       "model_id": "9dbccf1b65c84c1bbd58132337580196",
       "version_major": 2,
       "version_minor": 0
      },
      "text/plain": [
       "Processing eps 3, color_y feature vectors:   0%|          | 0/10 [00:00<?, ?it/s]"
      ]
     },
     "metadata": {},
     "output_type": "display_data"
    },
    {
     "data": {
      "application/vnd.jupyter.widget-view+json": {
       "model_id": "c1f48fc36d1f47ed838c968f5d460caf",
       "version_major": 2,
       "version_minor": 0
      },
      "text/plain": [
       "Processing eps 3, color_y feature vectors:   0%|          | 0/10 [00:00<?, ?it/s]"
      ]
     },
     "metadata": {},
     "output_type": "display_data"
    }
   ],
   "source": [
    "feature_vector_dict = {}\n",
    "\n",
    "path_to_vecs = \"../mnist_ballmapper_vectors/sample_size_7000/\"\n",
    "\n",
    "y_target = []\n",
    "for digit in [\"0\", \"1\", \"2\", \"3\", \"4\", \"5\", \"6\", \"7\", \"8\", \"9\"]:\n",
    "    y_target += [int(digit)]*(len(os.listdir(osp.join(path_to_vecs, \"eps_1.5\", \"color_x\", digit)))//2)\n",
    "\n",
    "for eps in [1.5, 2, 2.5, 3]:\n",
    "    feature_vector_dict[eps] = {}\n",
    "    for color in [\"color_x\", \"color_y\"]:\n",
    "        feature_vector_dict[eps][color] = {}\n",
    "        for type_ in [\"mult\", \"pers\"]:\n",
    "            feature_vector_dict[eps][color][type_] = []\n",
    "            for digit in tqdm([\"0\", \"1\", \"2\", \"3\", \"4\", \"5\", \"6\", \"7\", \"8\", \"9\"], desc=f\"Processing eps {eps}, {color} feature vectors\", leave=False):\n",
    "                for vector_file in sorted(os.listdir(osp.join(path_to_vecs, f\"eps_{eps}\", color, digit))):\n",
    "                    if vector_file.split(\"_\")[0] != type_:\n",
    "                        continue\n",
    "                    feature_vector_dict[eps][color][type_].append(np.load(osp.join(path_to_vecs, f\"eps_{eps}\", color, digit, vector_file)))\n",
    "            feature_vector_dict[eps][color][type_] = np.vstack(feature_vector_dict[eps][color][type_])"
   ]
  },
  {
   "cell_type": "code",
   "execution_count": 29,
   "metadata": {},
   "outputs": [],
   "source": [
    "non_zero_features_mult = set()\n",
    "for eps in [1.5, 2, 2.5, 3]:\n",
    "    for color in [\"color_x\", \"color_y\"]:\n",
    "        \n",
    "        for i in range(feature_vector_dict[eps][color][\"mult\"].shape[1]):\n",
    "            if np.max(feature_vector_dict[eps][color][\"mult\"][:, i]) > 1e-5:\n",
    "                non_zero_features_mult.add(i)\n",
    "                # print(f\"Removing feature {i} from {eps}, {color} mult feature vector\")\n",
    "                # feature_vector_dict[eps][color][\"mult\"] = np.delete(feature_vector_dict[eps][color][\"mult\"], i, axis=1)\n",
    "\n",
    "        feature_vector_dict[eps][color][\"combi\"] = []\n",
    "        sum_i = 0\n",
    "        for q in range(2):\n",
    "            sum_i = 434*q\n",
    "            for i in range(29, 0, -1):\n",
    "                sum_i += i\n",
    "                # print(f\"Sum of integers from 1 to 29: {sum_i}\")\n",
    "                feature_vector_dict[eps][color][\"mult_combi\"] = deepcopy(feature_vector_dict[eps][color][\"mult\"])\n",
    "                feature_vector_dict[eps][color][\"mult_combi\"][:, sum_i] = feature_vector_dict[eps][color][\"pers\"][:,sum_i]\n",
    "                feature_vector_dict[eps][color][\"combi\"].append(feature_vector_dict[eps][color][\"pers\"][:,sum_i])\n",
    "        feature_vector_dict[eps][color][\"combi\"] = np.vstack(feature_vector_dict[eps][color][\"combi\"]).T\n",
    "        feature_vector_dict_land[eps][color][\"lap_combi\"] = deepcopy(feature_vector_dict_land[eps][color][\"lap\"] )\n",
    "        feature_vector_dict_land[eps][color][\"lap_combi\"] = np.hstack((feature_vector_dict_land[eps][color][\"lap\"], feature_vector_dict[eps][color][\"combi\"]))\n",
    "    # plt.plot(feature_vector_dict[2.5][\"color_x\"][\"mult\"][:, sum_i])\n"
   ]
  },
  {
   "cell_type": "code",
   "execution_count": 30,
   "metadata": {},
   "outputs": [
    {
     "data": {
      "text/plain": [
       "(7000, 724)"
      ]
     },
     "execution_count": 30,
     "metadata": {},
     "output_type": "execute_result"
    }
   ],
   "source": [
    "feature_vector_dict_land[2.5][\"color_x\"][\"lap_combi\"].shape"
   ]
  },
  {
   "cell_type": "code",
   "execution_count": 17,
   "metadata": {},
   "outputs": [],
   "source": [
    "with open(\"../mnist_ballmapper_vectors/sample_size_7000/feature_vector_dict.pkl\", \"wb\") as f:\n",
    "    pickle.dump(feature_vector_dict, f)"
   ]
  },
  {
   "cell_type": "code",
   "execution_count": 98,
   "metadata": {},
   "outputs": [
    {
     "name": "stdout",
     "output_type": "stream",
     "text": [
      "Number of non-zero features in mult: 546\n",
      "Number of non-zero features in mult_combi: 589\n"
     ]
    }
   ],
   "source": [
    "non_zero_features_mult_combi = deepcopy(non_zero_features_mult)\n",
    "for q in range(2):\n",
    "            sum_i = 434*q\n",
    "            for i in range(29, 0, -1):\n",
    "                sum_i += i\n",
    "                non_zero_features_mult_combi.add(sum_i)\n",
    "print(f\"Number of non-zero features in mult: {len(non_zero_features_mult)}\")\n",
    "print(f\"Number of non-zero features in mult_combi: {len(non_zero_features_mult_combi)}\")"
   ]
  },
  {
   "cell_type": "code",
   "execution_count": 62,
   "metadata": {},
   "outputs": [
    {
     "data": {
      "text/plain": [
       "(58, 7000)"
      ]
     },
     "execution_count": 62,
     "metadata": {},
     "output_type": "execute_result"
    }
   ],
   "source": [
    "feature_vector_dict[2.5][\"color_x\"][\"combi\"].shape"
   ]
  },
  {
   "cell_type": "code",
   "execution_count": 26,
   "metadata": {},
   "outputs": [
    {
     "name": "stdout",
     "output_type": "stream",
     "text": [
      "eps\tcolor\ttype\t\tAccuracy on test set\n",
      "1.5\tx\tmult\t\t42.93%\n",
      "1.5\tx\tpers\t\t65.14%\n",
      "1.5\tx\tcombi\t\t52.86%\n",
      "1.5\ty\tmult\t\t66.36%\n",
      "1.5\ty\tpers\t\t77.36%\n",
      "1.5\ty\tcombi\t\t67.50%\n",
      "2\tx\tmult\t\t42.29%\n",
      "2\tx\tpers\t\t64.50%\n",
      "2\tx\tcombi\t\t51.43%\n",
      "2\ty\tmult\t\t60.86%\n",
      "2\ty\tpers\t\t75.21%\n",
      "2\ty\tcombi\t\t68.21%\n",
      "2.5\tx\tmult\t\t36.43%\n",
      "2.5\tx\tpers\t\t62.00%\n",
      "2.5\tx\tcombi\t\t46.50%\n",
      "2.5\ty\tmult\t\t58.00%\n",
      "2.5\ty\tpers\t\t75.43%\n",
      "2.5\ty\tcombi\t\t66.00%\n",
      "3\tx\tmult\t\t40.71%\n",
      "3\tx\tpers\t\t57.79%\n",
      "3\tx\tcombi\t\t43.86%\n",
      "3\ty\tmult\t\t58.00%\n",
      "3\ty\tpers\t\t75.57%\n",
      "3\ty\tcombi\t\t66.07%\n"
     ]
    }
   ],
   "source": [
    "print(\"eps\\tcolor\\ttype\\t\\tAccuracy on test set\")\n",
    "for eps in [1.5, 2, 2.5, 3]:\n",
    "    for color in [\"color_x\", \"color_y\"]:\n",
    "        for type_ in [\"mult\", \"pers\", \"combi\"]:\n",
    "            print(f\"{eps}\\t{color[-1]}\\t{type_}\", end=\"\\t\\t\")\n",
    "            X = feature_vector_dict[eps][color][type_]#[:, np.array(list(non_zero_features_mult))]\n",
    "            y = np.array(y_target)\n",
    "            X_train, X_test, y_train, y_test = train_test_split(X, y, test_size=0.2, random_state=42, stratify=y)\n",
    "            LR_model = LogisticRegression(max_iter=5000, random_state=42)\n",
    "            LR_model.fit(X_train, y_train)\n",
    "            print(f\"{LR_model.score(X_test, y_test)*100:.1f}%\")\n",
    "            # print(f\"Accuracy on test set: {LR_model.score(X_test, y_test)*100:.2f}%\")\n",
    "            # print(f\"Accuracy on train set: {LR_model.score(X_train, y_train)*100:.2f}%\")\n",
    "            # print(f\"Number of features: {X.shape[1]}\")\n",
    "            # print(f\"Number of samples: {X.shape[0]}\")"
   ]
  },
  {
   "cell_type": "code",
   "execution_count": null,
   "metadata": {},
   "outputs": [],
   "source": []
  }
 ],
 "metadata": {
  "kernelspec": {
   "display_name": "thesis",
   "language": "python",
   "name": "python3"
  },
  "language_info": {
   "codemirror_mode": {
    "name": "ipython",
    "version": 3
   },
   "file_extension": ".py",
   "mimetype": "text/x-python",
   "name": "python",
   "nbconvert_exporter": "python",
   "pygments_lexer": "ipython3",
   "version": "3.9.21"
  }
 },
 "nbformat": 4,
 "nbformat_minor": 2
}
