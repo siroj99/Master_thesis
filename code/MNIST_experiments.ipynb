{
 "cells": [
  {
   "cell_type": "code",
   "execution_count": 1,
   "metadata": {},
   "outputs": [],
   "source": [
    "from landscapes import *\n",
    "import os\n",
    "import os.path as osp\n",
    "import pickle\n",
    "from sklearn.model_selection import train_test_split\n",
    "from sklearn.linear_model import LogisticRegression"
   ]
  },
  {
   "cell_type": "code",
   "execution_count": 2,
   "metadata": {},
   "outputs": [],
   "source": [
    "def Laplacian_fun(B22_st, B22_stm1, B22_sm1t, B22_sm1tm1, eye):\n",
    "    # return B22_stm1@B22_sm1t@(eye-B22_st)@B22_sm1t\n",
    "    # return B22_sm1t@(eye-B22_st)@B22_sm1t@B22_stm1\n",
    "    # return B22_sm1t@B22_stm1@(eye-B22_st)@B22_stm1\n",
    "    # return B22_stm1@(eye-B22_st)@B22_stm1@B22_sm1t\n",
    "    # return B22_sm1tm1-B22_sm1t-B22_stm1+B22_st\n",
    "\n",
    "    \n",
    "    # return B22_stm1@B22_sm1t+B22_sm1t@B22_stm1-2*B22_st\n",
    "    # return eye-B22_st\n",
    "\n",
    "    # return B22_stm1@(eye-B22_st)@(eye - B22_sm1tm1 + B22_sm1t)\n",
    "\n",
    "    # Best\n",
    "    # return B22_sm1t@B22_stm1-B22_st\n",
    "\n",
    "    # Normal\n",
    "    return B22_stm1 - B22_st - B22_sm1tm1 + B22_sm1t"
   ]
  },
  {
   "cell_type": "markdown",
   "metadata": {},
   "source": [
    "LANDSCAPES\n",
    "---------------------"
   ]
  },
  {
   "cell_type": "code",
   "execution_count": 3,
   "metadata": {},
   "outputs": [],
   "source": [
    "class LandscapeLoader():\n",
    "    def __init__(self, path_to_landscapes, epsilons, min_image_i = 0, max_image_i=7000):\n",
    "        self.path_to_landscapes = path_to_landscapes\n",
    "        self.epsilons = epsilons\n",
    "        \n",
    "\n",
    "        self.location_dict = {}\n",
    "        self.location_pointers = {}\n",
    "        for eps in epsilons:\n",
    "            path_to_landscapes = osp.join(self.path_to_landscapes, f\"eps_{eps}\")\n",
    "            self.location_dict[eps] = {}\n",
    "            self.location_pointers[eps] = {}\n",
    "            for color in sorted(os.listdir(path_to_landscapes)):\n",
    "                self.location_dict[eps][color] = {}\n",
    "                self.location_pointers[eps][color] = {}\n",
    "                for digit in sorted(os.listdir(osp.join(path_to_landscapes, color))):\n",
    "                    self.location_dict[eps][color][digit] = {\"lap\": [], \"pers\": []}\n",
    "                    self.location_pointers[eps][color][digit] = {\"lap\": 0, \"pers\": 0}\n",
    "                    for land_file in tqdm(sorted(os.listdir(osp.join(path_to_landscapes, color, digit))), leave=False, desc=f\"Processing eps {eps}, {color} {digit} landscapes\"):\n",
    "                        if not land_file.endswith(\".pkl\"):\n",
    "                            continue\n",
    "                        image_i = int(land_file[:-4].split(\"_\")[2])\n",
    "                        if image_i < min_image_i or image_i > max_image_i:\n",
    "                            continue\n",
    "                        self.location_dict[eps][color][digit][land_file.split(\"_\")[0]].append(osp.join(path_to_landscapes, color, digit, land_file))\n",
    "                        # with open(osp.join(path_to_landscapes, color, digit, land_file), \"rb\") as f:\n",
    "                        #     land = pickle.load(f)\n",
    "                        # if land_file.split(\"_\")[0] == \"pers\":\n",
    "                        #     land_dict[eps][color][digit][land_file.split(\"_\")[0]].append(land.__mult__(1))\n",
    "                        # else:\n",
    "                        #     land_dict[eps][color][digit][land_file.split(\"_\")[0]].append(land.__mult__(1))\n",
    "\n",
    "    def reset_pointer(self, eps_list=None, color_list=None, digit_list=None, type_list=None):\n",
    "        if eps_list is None:\n",
    "            eps_list = self.location_pointers.keys()\n",
    "        for eps in eps_list:\n",
    "            if color_list is None:\n",
    "                color_list = self.location_pointers[eps].keys()\n",
    "            for color in color_list:\n",
    "                if digit_list is None:\n",
    "                    digit_list = self.location_pointers[eps][color].keys()\n",
    "                for digit in digit_list:\n",
    "                    if type_list is None:\n",
    "                        type_list = [\"lap\", \"pers\"]\n",
    "                    for type_ in type_list:\n",
    "                        self.location_pointers[eps][color][digit][type_] = 0\n",
    "                        # self.location_pointers[eps][color][digit][\"pers\"] = 0\n",
    "\n",
    "    def load(self, eps, color, digit, type_):\n",
    "        if self.location_pointers[eps][color][digit][type_] >= len(self.location_dict[eps][color][digit][type_]):\n",
    "            return None\n",
    "        path = self.location_dict[eps][color][digit][type_][self.location_pointers[eps][color][digit][type_]]\n",
    "        self.location_pointers[eps][color][digit][type_] += 1\n",
    "        with open(path, \"rb\") as f:\n",
    "            land = pickle.load(f)\n",
    "        return land#.__mult__(1) if type_ == \"pers\" else land\n",
    "        "
   ]
  },
  {
   "cell_type": "code",
   "execution_count": null,
   "metadata": {},
   "outputs": [],
   "source": [
    "LL_train_new_filtration = LandscapeLoader(\"../mnist_ballmapper_new_filtration/sample_size_7000\", [1.5, 2, 2.5, 3], max_image_i=5600)\n",
    "LL_test_new_filtration = LandscapeLoader(\"../mnist_ballmapper_new_filtration/sample_size_7000\", [1.5, 2, 2.5, 3], min_image_i=5600)\n",
    "\n",
    "LL_train_old_filtration = LandscapeLoader(\"../mnist_ballmapper/sample_size_7000\", [1.5, 2, 2.5, 3], max_image_i=5600)\n",
    "LL_test_old_filtration = LandscapeLoader(\"../mnist_ballmapper/sample_size_7000\", [1.5, 2, 2.5, 3], min_image_i=5600)"
   ]
  },
  {
   "cell_type": "markdown",
   "metadata": {},
   "source": [
    "Mean landscapes\n",
    "---------------"
   ]
  },
  {
   "cell_type": "code",
   "execution_count": 65,
   "metadata": {},
   "outputs": [
    {
     "data": {
      "application/vnd.jupyter.widget-view+json": {
       "model_id": "c69040a5b9734a7585aceda020478ced",
       "version_major": 2,
       "version_minor": 0
      },
      "text/plain": [
       "  0%|          | 0/10 [00:00<?, ?it/s]"
      ]
     },
     "metadata": {},
     "output_type": "display_data"
    },
    {
     "data": {
      "application/vnd.jupyter.widget-view+json": {
       "model_id": "aec775ab47464bb69e2a474b0235d1bd",
       "version_major": 2,
       "version_minor": 0
      },
      "text/plain": [
       "  0%|          | 0/10 [00:00<?, ?it/s]"
      ]
     },
     "metadata": {},
     "output_type": "display_data"
    },
    {
     "data": {
      "application/vnd.jupyter.widget-view+json": {
       "model_id": "e821b7371b4f4198aab693e83fe25eb0",
       "version_major": 2,
       "version_minor": 0
      },
      "text/plain": [
       "  0%|          | 0/10 [00:00<?, ?it/s]"
      ]
     },
     "metadata": {},
     "output_type": "display_data"
    },
    {
     "data": {
      "application/vnd.jupyter.widget-view+json": {
       "model_id": "0b40bee14bd241199e29877a369addb2",
       "version_major": 2,
       "version_minor": 0
      },
      "text/plain": [
       "  0%|          | 0/10 [00:00<?, ?it/s]"
      ]
     },
     "metadata": {},
     "output_type": "display_data"
    },
    {
     "data": {
      "application/vnd.jupyter.widget-view+json": {
       "model_id": "2d84166282aa46e8840fcdedab31dfd8",
       "version_major": 2,
       "version_minor": 0
      },
      "text/plain": [
       "  0%|          | 0/10 [00:00<?, ?it/s]"
      ]
     },
     "metadata": {},
     "output_type": "display_data"
    },
    {
     "data": {
      "application/vnd.jupyter.widget-view+json": {
       "model_id": "8b9da3b2f5b645399c6023ab3ae9da6f",
       "version_major": 2,
       "version_minor": 0
      },
      "text/plain": [
       "  0%|          | 0/10 [00:00<?, ?it/s]"
      ]
     },
     "metadata": {},
     "output_type": "display_data"
    },
    {
     "data": {
      "application/vnd.jupyter.widget-view+json": {
       "model_id": "c80d2a0ea49e41de983075b2db066e9f",
       "version_major": 2,
       "version_minor": 0
      },
      "text/plain": [
       "  0%|          | 0/10 [00:00<?, ?it/s]"
      ]
     },
     "metadata": {},
     "output_type": "display_data"
    },
    {
     "data": {
      "application/vnd.jupyter.widget-view+json": {
       "model_id": "e923446427734a8b99506497029aa156",
       "version_major": 2,
       "version_minor": 0
      },
      "text/plain": [
       "  0%|          | 0/10 [00:00<?, ?it/s]"
      ]
     },
     "metadata": {},
     "output_type": "display_data"
    }
   ],
   "source": [
    "mean_landscapes = {}\n",
    "\n",
    "for eps in LL_train.location_dict.keys():\n",
    "    mean_landscapes[eps] = {}\n",
    "    for color in LL_train.location_dict[eps].keys():\n",
    "        mean_landscapes[eps][color] = {}\n",
    "        digit_bar = tqdm(LL_train.location_dict[eps][color].keys(), leave=False)\n",
    "        for digit in digit_bar:\n",
    "            mean_landscapes[eps][color][digit] = {}\n",
    "            for type_ in [\"pers\", \"lap\"]:\n",
    "                digit_bar.set_description(f\"Processing landscapes for eps {eps}, color {color}, digit {digit}, type {type_}\")\n",
    "                cur_lands = []\n",
    "                while True:\n",
    "                    land = LL_train.load(eps, color, digit, type_)\n",
    "                    if land is None:\n",
    "                        break\n",
    "                    cur_lands.append(land)\n",
    "                mean_landscapes[eps][color][digit][type_] = np.mean(cur_lands)\n",
    "                "
   ]
  },
  {
   "cell_type": "code",
   "execution_count": null,
   "metadata": {},
   "outputs": [],
   "source": [
    "# with open(\"../mnist_ballmapper_new_filtration/sample_size_7000/mean_landscapes_5600.pkl\", \"wb\") as f:\n",
    "#     pickle.dump(mean_landscapes, f)\n",
    "# mean_landscapes"
   ]
  },
  {
   "cell_type": "code",
   "execution_count": 4,
   "metadata": {},
   "outputs": [],
   "source": [
    "with open(\"../mnist_ballmapper/sample_size_7000/mean_landscapes_5600.pkl\", \"rb\") as f:\n",
    "    mean_landscapes_old_filtration = pickle.load(f)\n",
    "\n",
    "with open(\"../mnist_ballmapper_new_filtration/sample_size_7000/mean_landscapes_5600.pkl\", \"rb\") as f:\n",
    "    mean_landscapes_new_filtration = pickle.load(f)"
   ]
  },
  {
   "cell_type": "code",
   "execution_count": 21,
   "metadata": {},
   "outputs": [
    {
     "data": {
      "image/png": "[encoded data removed]",
      "text/plain": [
       "<Figure size 1000x500 with 2 Axes>"
      ]
     },
     "metadata": {},
     "output_type": "display_data"
    }
   ],
   "source": [
    "mean_landscapes_old_filtration[2][\"color_y\"][\"3\"][\"lap\"].plot(limits = [0, 28, 0, 0.6])\n",
    "# plt.savefig(\"../figures/mnist_report/mean_landscape_lap_0.png\", bbox_inches='tight', dpi=300)"
   ]
  },
  {
   "cell_type": "code",
   "execution_count": null,
   "metadata": {},
   "outputs": [
    {
     "data": {
      "application/vnd.jupyter.widget-view+json": {
       "model_id": "8d0995f762404632b7ad60b310834c48",
       "version_major": 2,
       "version_minor": 0
      },
      "text/plain": [
       "  0%|          | 0/10 [00:00<?, ?it/s]"
      ]
     },
     "metadata": {},
     "output_type": "display_data"
    },
    {
     "data": {
      "application/vnd.jupyter.widget-view+json": {
       "model_id": "8d20f22039c047e08f68731f4fd2e47b",
       "version_major": 2,
       "version_minor": 0
      },
      "text/plain": [
       "  0%|          | 0/10 [00:00<?, ?it/s]"
      ]
     },
     "metadata": {},
     "output_type": "display_data"
    },
    {
     "data": {
      "application/vnd.jupyter.widget-view+json": {
       "model_id": "750c033d2e4c46219be1750388c72b78",
       "version_major": 2,
       "version_minor": 0
      },
      "text/plain": [
       "  0%|          | 0/10 [00:00<?, ?it/s]"
      ]
     },
     "metadata": {},
     "output_type": "display_data"
    },
    {
     "data": {
      "application/vnd.jupyter.widget-view+json": {
       "model_id": "8a18e76889dd421ba213e86fa7844ecb",
       "version_major": 2,
       "version_minor": 0
      },
      "text/plain": [
       "  0%|          | 0/10 [00:00<?, ?it/s]"
      ]
     },
     "metadata": {},
     "output_type": "display_data"
    },
    {
     "data": {
      "application/vnd.jupyter.widget-view+json": {
       "model_id": "06b30b3cad994155a917b0a372d93d7f",
       "version_major": 2,
       "version_minor": 0
      },
      "text/plain": [
       "  0%|          | 0/10 [00:00<?, ?it/s]"
      ]
     },
     "metadata": {},
     "output_type": "display_data"
    },
    {
     "data": {
      "application/vnd.jupyter.widget-view+json": {
       "model_id": "bf66c1e027e64871a446c228e549b77a",
       "version_major": 2,
       "version_minor": 0
      },
      "text/plain": [
       "  0%|          | 0/10 [00:00<?, ?it/s]"
      ]
     },
     "metadata": {},
     "output_type": "display_data"
    },
    {
     "data": {
      "application/vnd.jupyter.widget-view+json": {
       "model_id": "b988e0cca3694756b9ec47db28e285ab",
       "version_major": 2,
       "version_minor": 0
      },
      "text/plain": [
       "  0%|          | 0/10 [00:00<?, ?it/s]"
      ]
     },
     "metadata": {},
     "output_type": "display_data"
    },
    {
     "data": {
      "application/vnd.jupyter.widget-view+json": {
       "model_id": "bfd4ed00cc8847a1b6615c83b42e0c10",
       "version_major": 2,
       "version_minor": 0
      },
      "text/plain": [
       "  0%|          | 0/10 [00:00<?, ?it/s]"
      ]
     },
     "metadata": {},
     "output_type": "display_data"
    }
   ],
   "source": [
    "classifications_dict = {}\n",
    "\n",
    "digits = [\"0\", \"1\", \"2\", \"3\", \"4\", \"5\", \"6\", \"7\", \"8\", \"9\"]\n",
    "\n",
    "for eps in LL_test.location_dict.keys():\n",
    "    classifications_dict[eps] = {}\n",
    "    for color in LL_test.location_dict[eps].keys():\n",
    "        classifications_dict[eps][color] = {}\n",
    "        digit_bar = tqdm(LL_test.location_dict[eps][color].keys(), leave=False)\n",
    "        for digit in digit_bar:\n",
    "            classifications_dict[eps][color][digit] = {}\n",
    "            for type_ in [\"pers\", \"lap\"]:\n",
    "                classifications_dict[eps][color][digit][type_] = []\n",
    "                digit_bar.set_description(f\"Processing landscapes for eps {eps}, color {color}, digit {digit}, type {type_}\")\n",
    "                while True:\n",
    "                    cur_land = LL_test.load(eps, color, digit, type_)\n",
    "                    if cur_land is None:\n",
    "                        break\n",
    "                    dists = []\n",
    "                    for other_digit in digits:\n",
    "                        mean_land = mean_landscapes[eps][color][other_digit][type_]\n",
    "                        dists.append((cur_land - mean_land).norm())\n",
    "                    classifications_dict[eps][color][digit][type_].append(np.argmin(dists))"
   ]
  },
  {
   "cell_type": "code",
   "execution_count": 23,
   "metadata": {},
   "outputs": [
    {
     "data": {
      "application/vnd.jupyter.widget-view+json": {
       "model_id": "b922407eb4754129b37dee97b34b1a30",
       "version_major": 2,
       "version_minor": 0
      },
      "text/plain": [
       "  0%|          | 0/10 [00:00<?, ?it/s]"
      ]
     },
     "metadata": {},
     "output_type": "display_data"
    },
    {
     "data": {
      "application/vnd.jupyter.widget-view+json": {
       "model_id": "1b2c5a82e9c443e695730eba5196850c",
       "version_major": 2,
       "version_minor": 0
      },
      "text/plain": [
       "  0%|          | 0/10 [00:00<?, ?it/s]"
      ]
     },
     "metadata": {},
     "output_type": "display_data"
    },
    {
     "data": {
      "application/vnd.jupyter.widget-view+json": {
       "model_id": "d66659031b814c81818f86653240254e",
       "version_major": 2,
       "version_minor": 0
      },
      "text/plain": [
       "  0%|          | 0/10 [00:00<?, ?it/s]"
      ]
     },
     "metadata": {},
     "output_type": "display_data"
    },
    {
     "data": {
      "application/vnd.jupyter.widget-view+json": {
       "model_id": "5af6a9ec2f2a4ac7849886ae6e93fa78",
       "version_major": 2,
       "version_minor": 0
      },
      "text/plain": [
       "  0%|          | 0/10 [00:00<?, ?it/s]"
      ]
     },
     "metadata": {},
     "output_type": "display_data"
    },
    {
     "data": {
      "application/vnd.jupyter.widget-view+json": {
       "model_id": "265d74e4f24847969674bb04d7257f1b",
       "version_major": 2,
       "version_minor": 0
      },
      "text/plain": [
       "  0%|          | 0/10 [00:00<?, ?it/s]"
      ]
     },
     "metadata": {},
     "output_type": "display_data"
    },
    {
     "data": {
      "application/vnd.jupyter.widget-view+json": {
       "model_id": "da6c7149b9ba4a4182fbe979b6df4303",
       "version_major": 2,
       "version_minor": 0
      },
      "text/plain": [
       "  0%|          | 0/10 [00:00<?, ?it/s]"
      ]
     },
     "metadata": {},
     "output_type": "display_data"
    },
    {
     "data": {
      "application/vnd.jupyter.widget-view+json": {
       "model_id": "30934514a38c4d86a81fc47f4fd3d83c",
       "version_major": 2,
       "version_minor": 0
      },
      "text/plain": [
       "  0%|          | 0/10 [00:00<?, ?it/s]"
      ]
     },
     "metadata": {},
     "output_type": "display_data"
    },
    {
     "data": {
      "application/vnd.jupyter.widget-view+json": {
       "model_id": "f6c87030daa3478aa702891046e9ad9a",
       "version_major": 2,
       "version_minor": 0
      },
      "text/plain": [
       "  0%|          | 0/10 [00:00<?, ?it/s]"
      ]
     },
     "metadata": {},
     "output_type": "display_data"
    }
   ],
   "source": [
    "classifications_dict = {}\n",
    "\n",
    "digits = [\"0\", \"1\", \"2\", \"3\", \"4\", \"5\", \"6\", \"7\", \"8\", \"9\"]\n",
    "\n",
    "LL_test_old_filtration.reset_pointer()\n",
    "\n",
    "\n",
    "for eps in LL_test_old_filtration.location_dict.keys():\n",
    "    classifications_dict[eps] = {}\n",
    "    for color in LL_test_old_filtration.location_dict[eps].keys():\n",
    "        classifications_dict[eps][color] = {}\n",
    "        digit_bar = tqdm(LL_test_old_filtration.location_dict[eps][color].keys(), leave=False)\n",
    "        for digit in digit_bar:\n",
    "            classifications_dict[eps][color][digit] = {}\n",
    "            for type_ in [\"pers\", \"lap\", \"both\"]:\n",
    "                classifications_dict[eps][color][digit][type_] = []\n",
    "            digit_bar.set_description(f\"Processing landscapes for eps {eps}, color {color}, digit {digit}\")\n",
    "            while True:\n",
    "                cur_land_pers = LL_test_old_filtration.load(eps, color, digit, \"pers\")\n",
    "                cur_land_lap = LL_test_old_filtration.load(eps, color, digit, \"lap\")\n",
    "                if cur_land_pers is None:\n",
    "                    break\n",
    "                dists_pers = []\n",
    "                dists_lap = []\n",
    "                for other_digit in digits:\n",
    "                    mean_land_pers = mean_landscapes_old_filtration[eps][color][other_digit][\"pers\"]\n",
    "                    mean_land_lap = mean_landscapes_old_filtration[eps][color][other_digit][\"lap\"]\n",
    "                    dists_pers.append((cur_land_pers - mean_land_pers).norm())\n",
    "                    dists_lap.append((cur_land_lap - mean_land_lap).norm())\n",
    "                # print(f\"type: {type_}, min dists: {np.min(dists)}, max dists: {np.max(dists)}, mean dists: {np.mean(dists)}\")\n",
    "                classifications_dict[eps][color][digit][\"pers\"].append(np.argmin(dists_pers))\n",
    "                classifications_dict[eps][color][digit][\"lap\"].append(np.argmin(dists_lap))\n",
    "                dists_both = (np.array(dists_pers)-np.min(dists_pers))/(np.max(dists_pers)-np.min(dists_pers)) + (np.array(dists_lap)-np.min(dists_lap))/(np.max(dists_lap)-np.min(dists_lap))\n",
    "                classifications_dict[eps][color][digit][\"both\"].append(np.argmin(dists_both))"
   ]
  },
  {
   "cell_type": "code",
   "execution_count": null,
   "metadata": {},
   "outputs": [],
   "source": [
    "# with open(\"../mnist_ballmapper/sample_size_7000/classifications_dict_with_combi_5600.pkl\", \"wb\") as f:\n",
    "#     pickle.dump(classifications_dict, f)"
   ]
  },
  {
   "cell_type": "code",
   "execution_count": 37,
   "metadata": {},
   "outputs": [
    {
     "name": "stdout",
     "output_type": "stream",
     "text": [
      "Type\\Digit\t0\t1\t2\t3\t4\t5\t6\t7\t8\t9\n",
      "pers\t\t0.0%\t98.8%\t12.1%\t34.1%\t79.3%\t17.0%\t30.3%\t17.0%\t8.2%\t2.3%\t\n",
      "lap\t\t78.2%\t48.8%\t44.7%\t39.1%\t64.3%\t51.9%\t67.6%\t61.2%\t67.2%\t60.8%\t\n",
      "both\t\t73.9%\t53.5%\t47.7%\t41.3%\t80.0%\t52.6%\t63.4%\t62.6%\t70.5%\t68.5%\t\n"
     ]
    }
   ],
   "source": [
    "print(\"Type\\Digit\\t\" + \"\\t\".join([\"0\", \"1\", \"2\", \"3\", \"4\", \"5\", \"6\", \"7\", \"8\", \"9\"]))\n",
    "for type_ in [\"pers\", \"lap\", \"both\"]:\n",
    "    print(type_, end=\"\\t\\t\")\n",
    "    for digit in [\"0\", \"1\", \"2\", \"3\", \"4\", \"5\", \"6\", \"7\", \"8\", \"9\"]:\n",
    "        # print(f\"{digit}\\t{type_}\", end=\"\\t\")\n",
    "        # print(f\"Digit {digit} classification accuracy:\")\n",
    "        print(np.round(np.mean(np.array(classifications_dict[2][\"color_y\"][digit][type_]) == int(digit))*100, 1), end=\"%\\t\")\n",
    "    print()\n",
    "        # print()"
   ]
  },
  {
   "cell_type": "code",
   "execution_count": 43,
   "metadata": {},
   "outputs": [
    {
     "name": "stdout",
     "output_type": "stream",
     "text": [
      "Digit\\Digit\t0\t1\t2\t3\t4\t5\t6\t7\t8\t9\n",
      "0\t\t73.94%\t0.7%\t2.82%\t0.0%\t4.23%\t3.52%\t2.11%\t0.0%\t11.27%\t1.41%\t\n",
      "1\t\t1.16%\t53.49%\t3.49%\t5.23%\t0.0%\t25.0%\t0.0%\t0.58%\t9.88%\t1.16%\t\n",
      "2\t\t3.79%\t6.82%\t47.73%\t16.67%\t0.0%\t14.39%\t6.82%\t0.0%\t3.79%\t0.0%\t\n",
      "3\t\t0.72%\t8.7%\t5.8%\t41.3%\t0.0%\t27.54%\t0.72%\t0.72%\t13.04%\t1.45%\t\n",
      "4\t\t2.86%\t2.14%\t0.0%\t0.0%\t80.0%\t2.14%\t0.71%\t0.71%\t1.43%\t10.0%\t\n",
      "5\t\t0.0%\t5.19%\t3.7%\t16.3%\t0.0%\t52.59%\t1.48%\t10.37%\t5.19%\t5.19%\t\n",
      "6\t\t6.34%\t0.0%\t25.35%\t0.0%\t1.41%\t3.52%\t63.38%\t0.0%\t0.0%\t0.0%\t\n",
      "7\t\t0.0%\t2.04%\t0.68%\t1.36%\t0.0%\t21.09%\t0.0%\t62.59%\t4.08%\t8.16%\t\n",
      "8\t\t7.38%\t2.46%\t0.82%\t4.1%\t1.64%\t2.46%\t0.82%\t0.82%\t70.49%\t9.02%\t\n",
      "9\t\t3.85%\t2.31%\t0.77%\t0.0%\t2.31%\t2.31%\t0.77%\t15.38%\t3.85%\t68.46%\t\n"
     ]
    }
   ],
   "source": [
    "type_ = \"both\"\n",
    "digit_list = [\"0\", \"1\", \"2\", \"3\", \"4\", \"5\", \"6\", \"7\", \"8\", \"9\"]\n",
    "\n",
    "print(\"Digit\\Digit\\t\" + \"\\t\".join(digit_list))\n",
    "for digit1 in digit_list:\n",
    "    print(digit1, end=\"\\t\\t\")\n",
    "    for digit2 in digit_list:\n",
    "        # print(f\"{digit}\\t{type_}\", end=\"\\t\")\n",
    "        # print(f\"Digit {digit} classification accuracy:\")\n",
    "        print(np.round(np.mean(np.array(classifications_dict[2][\"color_y\"][digit1][type_]) == int(digit2))*100, 2), end=\"%\\t\")\n",
    "    print()\n",
    "        # print()"
   ]
  },
  {
   "cell_type": "code",
   "execution_count": 106,
   "metadata": {},
   "outputs": [
    {
     "name": "stdout",
     "output_type": "stream",
     "text": [
      "eps\tcolor\tType\t\t\tAccuracy\tf1-score\n",
      "1.5\tx\tpers\t\t\t29.6%\t\t0.267\n",
      "1.5\tx\tlap\t\t\t38.5%\t\t0.371\n",
      "1.5\tx\tboth\t\t\t45.5%\t\t0.450\n",
      "1.5\ty\tpers\t\t\t33.2%\t\t0.306\n",
      "1.5\ty\tlap\t\t\t53.2%\t\t0.539\n",
      "1.5\ty\tboth\t\t\t56.4%\t\t0.572\n",
      "2\tx\tpers\t\t\t28.2%\t\t0.248\n",
      "2\tx\tlap\t\t\t42.7%\t\t0.409\n",
      "2\tx\tboth\t\t\t46.8%\t\t0.456\n",
      "2\ty\tpers\t\t\t32.0%\t\t0.293\n",
      "2\ty\tlap\t\t\t58.2%\t\t0.589\n",
      "2\ty\tboth\t\t\t61.2%\t\t0.620\n",
      "2.5\tx\tpers\t\t\t27.6%\t\t0.239\n",
      "2.5\tx\tlap\t\t\t36.4%\t\t0.346\n",
      "2.5\tx\tboth\t\t\t43.1%\t\t0.419\n",
      "2.5\ty\tpers\t\t\t30.2%\t\t0.274\n",
      "2.5\ty\tlap\t\t\t50.5%\t\t0.508\n",
      "2.5\ty\tboth\t\t\t55.8%\t\t0.563\n",
      "3\tx\tpers\t\t\t25.4%\t\t0.209\n",
      "3\tx\tlap\t\t\t36.4%\t\t0.346\n",
      "3\tx\tboth\t\t\t41.3%\t\t0.400\n",
      "3\ty\tpers\t\t\t28.1%\t\t0.250\n",
      "3\ty\tlap\t\t\t45.9%\t\t0.455\n",
      "3\ty\tboth\t\t\t50.9%\t\t0.509\n"
     ]
    }
   ],
   "source": [
    "from sklearn.metrics import f1_score\n",
    "\n",
    "print(\"eps\\tcolor\\tType\\t\\t\\tAccuracy\\tf1-score\")\n",
    "for eps in [1.5, 2, 2.5, 3]:\n",
    "    for color in [\"color_x\", \"color_y\"]:\n",
    "        for type_ in [\"pers\", \"lap\", \"both\"]:\n",
    "\n",
    "            results = np.array([])\n",
    "            y = np.array([])\n",
    "            for digit in [\"0\", \"1\", \"2\", \"3\", \"4\", \"5\", \"6\", \"7\", \"8\", \"9\"]:\n",
    "                cur_results = np.array(classifications_dict[eps][color][digit][type_])\n",
    "                results = np.append(results, cur_results)\n",
    "                y = np.append(y, np.ones_like(cur_results) * int(digit))\n",
    "\n",
    "            print(f\"{eps}\\t{color[-1]}\\t{type_}\", end=\"\\t\\t\\t\")\n",
    "            print(f\"{np.mean(results==y)*100:.1f}%\\t\\t{f1_score(y, results, average='weighted'):.3f}\")\n",
    "            # np.mean(results==y), np.std(results==y)"
   ]
  },
  {
   "cell_type": "markdown",
   "metadata": {},
   "source": [
    "Vector from landscapes\n",
    "-------------------"
   ]
  },
  {
   "cell_type": "code",
   "execution_count": null,
   "metadata": {},
   "outputs": [],
   "source": [
    "LL_all_old_filtration = LandscapeLoader(\"../mnist_ballmapper/sample_size_7000\", [1.5, 2, 2.5, 3])\n",
    "feature_vector_dict_land = {}\n",
    "\n",
    "path_to_vecs = \"../mnist_ballmapper/sample_size_7000/\"\n",
    "\n",
    "y_target = []\n",
    "for digit in [\"0\", \"1\", \"2\", \"3\", \"4\", \"5\", \"6\", \"7\", \"8\", \"9\"]:\n",
    "    y_target += [int(digit)]*(len(os.listdir(osp.join(path_to_vecs, \"eps_1.5\", \"color_x\", digit)))//2)\n",
    "\n",
    "# LL_all_old_filtration.reset_pointer()\n",
    "\n",
    "for eps in [1.5, 2, 2.5, 3]:\n",
    "    feature_vector_dict_land[eps] = {}\n",
    "    for color in [\"color_x\", \"color_y\"]:\n",
    "        feature_vector_dict_land[eps][color] = {}\n",
    "        for type_ in [\"pers\", \"lap\"]:\n",
    "            feature_vector_dict_land[eps][color][type_] = []\n",
    "            for digit in tqdm([\"0\", \"1\", \"2\", \"3\", \"4\", \"5\", \"6\", \"7\", \"8\", \"9\"], desc=f\"Processing eps {eps}, {color} feature vectors\", leave=False):\n",
    "                while True:\n",
    "                    cur_land = LL_all_old_filtration.load(eps, color, digit, type_)\n",
    "                    if cur_land is None:\n",
    "                        break\n",
    "                    feature_vec = []\n",
    "                    for q in range(2):\n",
    "                        try:\n",
    "                            evals = cur_land.sum_k().evaluations[q][0]\n",
    "                        except:\n",
    "                            print(f\"Error in loading landscape for eps {eps}, color {color}, digit {digit}, type {type_}\")\n",
    "                            # cur_land.plot()\n",
    "                            # continue\n",
    "                            raise ValueError\n",
    "                        feature_vec.append(evals[0:len(evals)-1:3])\n",
    "                    # print(np.hstack(feature_vec).shape)\n",
    "                    feature_vector_dict_land[eps][color][type_].append(np.hstack(feature_vec))\n",
    "            feature_vector_dict_land[eps][color][type_] = np.vstack(feature_vector_dict_land[eps][color][type_])"
   ]
  },
  {
   "cell_type": "code",
   "execution_count": 32,
   "metadata": {},
   "outputs": [],
   "source": [
    "with open(\"../mnist_ballmapper/sample_size_7000/feature_vector_dict.pkl\", \"wb\") as f:\n",
    "    pickle.dump(feature_vector_dict_land, f)"
   ]
  },
  {
   "cell_type": "code",
   "execution_count": 31,
   "metadata": {},
   "outputs": [
    {
     "name": "stdout",
     "output_type": "stream",
     "text": [
      "eps\tcolor\ttype\t\tAccuracy on test set\n",
      "1.5 & x & lap & 56.8%\n",
      "1.5 & x & lap_combi & 72.4%\n",
      "1.5 & y & lap & 75.9%\n",
      "1.5 & y & lap_combi & 81.9%\n",
      "2 & x & lap & 53.1%\n",
      "2 & x & lap_combi & 67.6%\n",
      "2 & y & lap & 74.3%\n",
      "2 & y & lap_combi & 81.1%\n",
      "2.5 & x & lap & 45.0%\n",
      "2.5 & x & lap_combi & 64.4%\n",
      "2.5 & y & lap & 61.8%\n",
      "2.5 & y & lap_combi & 76.9%\n",
      "3 & x & lap & 42.5%\n",
      "3 & x & lap_combi & 59.1%\n",
      "3 & y & lap & 59.8%\n",
      "3 & y & lap_combi & 75.3%\n"
     ]
    }
   ],
   "source": [
    "print(\"eps\\tcolor\\ttype\\t\\tAccuracy on test set\")\n",
    "for eps in [1.5, 2, 2.5, 3]:\n",
    "    for color in [\"color_x\", \"color_y\"]:\n",
    "        for type_ in [\"lap\", \"lap_combi\"]:\n",
    "            # print(f\"{eps}\\t{color[-1]}\\t{type_}\", end=\"\\t\\t\")\n",
    "            print(f\"{eps} & {color[-1]} & {type_}\", end=\" & \")\n",
    "            X = feature_vector_dict_land[eps][color][type_]\n",
    "            y = np.array(y_target)\n",
    "            X_train, X_test, y_train, y_test = train_test_split(X, y, test_size=0.2, random_state=42, stratify=y)\n",
    "            LR_model = LogisticRegression(max_iter=5000, random_state=42)\n",
    "            LR_model.fit(X_train, y_train)\n",
    "            print(f\"{LR_model.score(X_test, y_test)*100:.1f}%\")\n",
    "            # print(f\"Accuracy on test set: {LR_model.score(X_test, y_test)*100:.2f}%\")\n",
    "            # print(f\"Accuracy on train set: {LR_model.score(X_train, y_train)*100:.2f}%\")\n",
    "            # print(f\"Number of features: {X.shape[1]}\")\n",
    "            # print(f\"Number of samples: {X.shape[0]}\")"
   ]
  },
  {
   "cell_type": "markdown",
   "metadata": {},
   "source": [
    "FEATURE VECTORS\n",
    "---------------------"
   ]
  },
  {
   "cell_type": "code",
   "execution_count": 15,
   "metadata": {},
   "outputs": [
    {
     "data": {
      "application/vnd.jupyter.widget-view+json": {
       "model_id": "2479f7cee6d04f5c8b904099e2096669",
       "version_major": 2,
       "version_minor": 0
      },
      "text/plain": [
       "Processing eps 1.5, color_x feature vectors:   0%|          | 0/10 [00:00<?, ?it/s]"
      ]
     },
     "metadata": {},
     "output_type": "display_data"
    },
    {
     "data": {
      "application/vnd.jupyter.widget-view+json": {
       "model_id": "3030db1910b040d1b2eacce6b79f87f9",
       "version_major": 2,
       "version_minor": 0
      },
      "text/plain": [
       "Processing eps 1.5, color_x feature vectors:   0%|          | 0/10 [00:00<?, ?it/s]"
      ]
     },
     "metadata": {},
     "output_type": "display_data"
    },
    {
     "data": {
      "application/vnd.jupyter.widget-view+json": {
       "model_id": "d953af1a95da4d85ab644505ba599722",
       "version_major": 2,
       "version_minor": 0
      },
      "text/plain": [
       "Processing eps 1.5, color_y feature vectors:   0%|          | 0/10 [00:00<?, ?it/s]"
      ]
     },
     "metadata": {},
     "output_type": "display_data"
    },
    {
     "data": {
      "application/vnd.jupyter.widget-view+json": {
       "model_id": "1967100969a44066ab182ead516f5376",
       "version_major": 2,
       "version_minor": 0
      },
      "text/plain": [
       "Processing eps 1.5, color_y feature vectors:   0%|          | 0/10 [00:00<?, ?it/s]"
      ]
     },
     "metadata": {},
     "output_type": "display_data"
    },
    {
     "data": {
      "application/vnd.jupyter.widget-view+json": {
       "model_id": "eadae42e954543d8b13a6185ab220ece",
       "version_major": 2,
       "version_minor": 0
      },
      "text/plain": [
       "Processing eps 2, color_x feature vectors:   0%|          | 0/10 [00:00<?, ?it/s]"
      ]
     },
     "metadata": {},
     "output_type": "display_data"
    },
    {
     "data": {
      "application/vnd.jupyter.widget-view+json": {
       "model_id": "487a75a19e184d79a02638497f94378e",
       "version_major": 2,
       "version_minor": 0
      },
      "text/plain": [
       "Processing eps 2, color_x feature vectors:   0%|          | 0/10 [00:00<?, ?it/s]"
      ]
     },
     "metadata": {},
     "output_type": "display_data"
    },
    {
     "data": {
      "application/vnd.jupyter.widget-view+json": {
       "model_id": "c5e067ba69b742e9ae65ace59b07ea9f",
       "version_major": 2,
       "version_minor": 0
      },
      "text/plain": [
       "Processing eps 2, color_y feature vectors:   0%|          | 0/10 [00:00<?, ?it/s]"
      ]
     },
     "metadata": {},
     "output_type": "display_data"
    },
    {
     "data": {
      "application/vnd.jupyter.widget-view+json": {
       "model_id": "79ea8037d5db4e28bc2b9ab599d0090c",
       "version_major": 2,
       "version_minor": 0
      },
      "text/plain": [
       "Processing eps 2, color_y feature vectors:   0%|          | 0/10 [00:00<?, ?it/s]"
      ]
     },
     "metadata": {},
     "output_type": "display_data"
    },
    {
     "data": {
      "application/vnd.jupyter.widget-view+json": {
       "model_id": "32d1fa021a544ec48176ec227f27cc06",
       "version_major": 2,
       "version_minor": 0
      },
      "text/plain": [
       "Processing eps 2.5, color_x feature vectors:   0%|          | 0/10 [00:00<?, ?it/s]"
      ]
     },
     "metadata": {},
     "output_type": "display_data"
    },
    {
     "data": {
      "application/vnd.jupyter.widget-view+json": {
       "model_id": "dc6a821f1a8044afa684c192f30d1d57",
       "version_major": 2,
       "version_minor": 0
      },
      "text/plain": [
       "Processing eps 2.5, color_x feature vectors:   0%|          | 0/10 [00:00<?, ?it/s]"
      ]
     },
     "metadata": {},
     "output_type": "display_data"
    },
    {
     "data": {
      "application/vnd.jupyter.widget-view+json": {
       "model_id": "b6d34497831b4173bc2154de4c020798",
       "version_major": 2,
       "version_minor": 0
      },
      "text/plain": [
       "Processing eps 2.5, color_y feature vectors:   0%|          | 0/10 [00:00<?, ?it/s]"
      ]
     },
     "metadata": {},
     "output_type": "display_data"
    },
    {
     "data": {
      "application/vnd.jupyter.widget-view+json": {
       "model_id": "9efb616b5590422fa8dfa865a7f18f8a",
       "version_major": 2,
       "version_minor": 0
      },
      "text/plain": [
       "Processing eps 2.5, color_y feature vectors:   0%|          | 0/10 [00:00<?, ?it/s]"
      ]
     },
     "metadata": {},
     "output_type": "display_data"
    },
    {
     "data": {
      "application/vnd.jupyter.widget-view+json": {
       "model_id": "de73a63a924249d39e097ef99b9501e2",
       "version_major": 2,
       "version_minor": 0
      },
      "text/plain": [
       "Processing eps 3, color_x feature vectors:   0%|          | 0/10 [00:00<?, ?it/s]"
      ]
     },
     "metadata": {},
     "output_type": "display_data"
    },
    {
     "data": {
      "application/vnd.jupyter.widget-view+json": {
       "model_id": "63c16f9bca464c478317927cbfe1fc9c",
       "version_major": 2,
       "version_minor": 0
      },
      "text/plain": [
       "Processing eps 3, color_x feature vectors:   0%|          | 0/10 [00:00<?, ?it/s]"
      ]
     },
     "metadata": {},
     "output_type": "display_data"
    },
    {
     "data": {
      "application/vnd.jupyter.widget-view+json": {
       "model_id": "9dbccf1b65c84c1bbd58132337580196",
       "version_major": 2,
       "version_minor": 0
      },
      "text/plain": [
       "Processing eps 3, color_y feature vectors:   0%|          | 0/10 [00:00<?, ?it/s]"
      ]
     },
     "metadata": {},
     "output_type": "display_data"
    },
    {
     "data": {
      "application/vnd.jupyter.widget-view+json": {
       "model_id": "c1f48fc36d1f47ed838c968f5d460caf",
       "version_major": 2,
       "version_minor": 0
      },
      "text/plain": [
       "Processing eps 3, color_y feature vectors:   0%|          | 0/10 [00:00<?, ?it/s]"
      ]
     },
     "metadata": {},
     "output_type": "display_data"
    }
   ],
   "source": [
    "feature_vector_dict = {}\n",
    "\n",
    "path_to_vecs = \"../mnist_ballmapper_vectors/sample_size_7000/\"\n",
    "\n",
    "y_target = []\n",
    "for digit in [\"0\", \"1\", \"2\", \"3\", \"4\", \"5\", \"6\", \"7\", \"8\", \"9\"]:\n",
    "    y_target += [int(digit)]*(len(os.listdir(osp.join(path_to_vecs, \"eps_1.5\", \"color_x\", digit)))//2)\n",
    "\n",
    "for eps in [1.5, 2, 2.5, 3]:\n",
    "    feature_vector_dict[eps] = {}\n",
    "    for color in [\"color_x\", \"color_y\"]:\n",
    "        feature_vector_dict[eps][color] = {}\n",
    "        for type_ in [\"mult\", \"pers\"]:\n",
    "            feature_vector_dict[eps][color][type_] = []\n",
    "            for digit in tqdm([\"0\", \"1\", \"2\", \"3\", \"4\", \"5\", \"6\", \"7\", \"8\", \"9\"], desc=f\"Processing eps {eps}, {color} feature vectors\", leave=False):\n",
    "                for vector_file in sorted(os.listdir(osp.join(path_to_vecs, f\"eps_{eps}\", color, digit))):\n",
    "                    if vector_file.split(\"_\")[0] != type_:\n",
    "                        continue\n",
    "                    feature_vector_dict[eps][color][type_].append(np.load(osp.join(path_to_vecs, f\"eps_{eps}\", color, digit, vector_file)))\n",
    "            feature_vector_dict[eps][color][type_] = np.vstack(feature_vector_dict[eps][color][type_])"
   ]
  },
  {
   "cell_type": "code",
   "execution_count": 29,
   "metadata": {},
   "outputs": [],
   "source": [
    "non_zero_features_mult = set()\n",
    "for eps in [1.5, 2, 2.5, 3]:\n",
    "    for color in [\"color_x\", \"color_y\"]:\n",
    "        \n",
    "        for i in range(feature_vector_dict[eps][color][\"mult\"].shape[1]):\n",
    "            if np.max(feature_vector_dict[eps][color][\"mult\"][:, i]) > 1e-5:\n",
    "                non_zero_features_mult.add(i)\n",
    "                # print(f\"Removing feature {i} from {eps}, {color} mult feature vector\")\n",
    "                # feature_vector_dict[eps][color][\"mult\"] = np.delete(feature_vector_dict[eps][color][\"mult\"], i, axis=1)\n",
    "\n",
    "        feature_vector_dict[eps][color][\"combi\"] = []\n",
    "        sum_i = 0\n",
    "        for q in range(2):\n",
    "            sum_i = 434*q\n",
    "            for i in range(29, 0, -1):\n",
    "                sum_i += i\n",
    "                # print(f\"Sum of integers from 1 to 29: {sum_i}\")\n",
    "                feature_vector_dict[eps][color][\"mult_combi\"] = deepcopy(feature_vector_dict[eps][color][\"mult\"])\n",
    "                feature_vector_dict[eps][color][\"mult_combi\"][:, sum_i] = feature_vector_dict[eps][color][\"pers\"][:,sum_i]\n",
    "                feature_vector_dict[eps][color][\"combi\"].append(feature_vector_dict[eps][color][\"pers\"][:,sum_i])\n",
    "        feature_vector_dict[eps][color][\"combi\"] = np.vstack(feature_vector_dict[eps][color][\"combi\"]).T\n",
    "        feature_vector_dict_land[eps][color][\"lap_combi\"] = deepcopy(feature_vector_dict_land[eps][color][\"lap\"] )\n",
    "        feature_vector_dict_land[eps][color][\"lap_combi\"] = np.hstack((feature_vector_dict_land[eps][color][\"lap\"], feature_vector_dict[eps][color][\"combi\"]))\n",
    "    # plt.plot(feature_vector_dict[2.5][\"color_x\"][\"mult\"][:, sum_i])\n"
   ]
  },
  {
   "cell_type": "code",
   "execution_count": 30,
   "metadata": {},
   "outputs": [
    {
     "data": {
      "text/plain": [
       "(7000, 724)"
      ]
     },
     "execution_count": 30,
     "metadata": {},
     "output_type": "execute_result"
    }
   ],
   "source": [
    "feature_vector_dict_land[2.5][\"color_x\"][\"lap_combi\"].shape"
   ]
  },
  {
   "cell_type": "code",
   "execution_count": 17,
   "metadata": {},
   "outputs": [],
   "source": [
    "with open(\"../mnist_ballmapper_vectors/sample_size_7000/feature_vector_dict.pkl\", \"wb\") as f:\n",
    "    pickle.dump(feature_vector_dict, f)"
   ]
  },
  {
   "cell_type": "code",
   "execution_count": 98,
   "metadata": {},
   "outputs": [
    {
     "name": "stdout",
     "output_type": "stream",
     "text": [
      "Number of non-zero features in mult: 546\n",
      "Number of non-zero features in mult_combi: 589\n"
     ]
    }
   ],
   "source": [
    "non_zero_features_mult_combi = deepcopy(non_zero_features_mult)\n",
    "for q in range(2):\n",
    "            sum_i = 434*q\n",
    "            for i in range(29, 0, -1):\n",
    "                sum_i += i\n",
    "                non_zero_features_mult_combi.add(sum_i)\n",
    "print(f\"Number of non-zero features in mult: {len(non_zero_features_mult)}\")\n",
    "print(f\"Number of non-zero features in mult_combi: {len(non_zero_features_mult_combi)}\")"
   ]
  },
  {
   "cell_type": "code",
   "execution_count": 62,
   "metadata": {},
   "outputs": [
    {
     "data": {
      "text/plain": [
       "(58, 7000)"
      ]
     },
     "execution_count": 62,
     "metadata": {},
     "output_type": "execute_result"
    }
   ],
   "source": [
    "feature_vector_dict[2.5][\"color_x\"][\"combi\"].shape"
   ]
  },
  {
   "cell_type": "code",
   "execution_count": 26,
   "metadata": {},
   "outputs": [
    {
     "name": "stdout",
     "output_type": "stream",
     "text": [
      "eps\tcolor\ttype\t\tAccuracy on test set\n",
      "1.5\tx\tmult\t\t42.93%\n",
      "1.5\tx\tpers\t\t65.14%\n",
      "1.5\tx\tcombi\t\t52.86%\n",
      "1.5\ty\tmult\t\t66.36%\n",
      "1.5\ty\tpers\t\t77.36%\n",
      "1.5\ty\tcombi\t\t67.50%\n",
      "2\tx\tmult\t\t42.29%\n",
      "2\tx\tpers\t\t64.50%\n",
      "2\tx\tcombi\t\t51.43%\n",
      "2\ty\tmult\t\t60.86%\n",
      "2\ty\tpers\t\t75.21%\n",
      "2\ty\tcombi\t\t68.21%\n",
      "2.5\tx\tmult\t\t36.43%\n",
      "2.5\tx\tpers\t\t62.00%\n",
      "2.5\tx\tcombi\t\t46.50%\n",
      "2.5\ty\tmult\t\t58.00%\n",
      "2.5\ty\tpers\t\t75.43%\n",
      "2.5\ty\tcombi\t\t66.00%\n",
      "3\tx\tmult\t\t40.71%\n",
      "3\tx\tpers\t\t57.79%\n",
      "3\tx\tcombi\t\t43.86%\n",
      "3\ty\tmult\t\t58.00%\n",
      "3\ty\tpers\t\t75.57%\n",
      "3\ty\tcombi\t\t66.07%\n"
     ]
    }
   ],
   "source": [
    "print(\"eps\\tcolor\\ttype\\t\\tAccuracy on test set\")\n",
    "for eps in [1.5, 2, 2.5, 3]:\n",
    "    for color in [\"color_x\", \"color_y\"]:\n",
    "        for type_ in [\"mult\", \"pers\", \"combi\"]:\n",
    "            print(f\"{eps}\\t{color[-1]}\\t{type_}\", end=\"\\t\\t\")\n",
    "            X = feature_vector_dict[eps][color][type_]#[:, np.array(list(non_zero_features_mult))]\n",
    "            y = np.array(y_target)\n",
    "            X_train, X_test, y_train, y_test = train_test_split(X, y, test_size=0.2, random_state=42, stratify=y)\n",
    "            LR_model = LogisticRegression(max_iter=5000, random_state=42)\n",
    "            LR_model.fit(X_train, y_train)\n",
    "            print(f\"{LR_model.score(X_test, y_test)*100:.1f}%\")\n",
    "            # print(f\"Accuracy on test set: {LR_model.score(X_test, y_test)*100:.2f}%\")\n",
    "            # print(f\"Accuracy on train set: {LR_model.score(X_train, y_train)*100:.2f}%\")\n",
    "            # print(f\"Number of features: {X.shape[1]}\")\n",
    "            # print(f\"Number of samples: {X.shape[0]}\")"
   ]
  },
  {
   "cell_type": "code",
   "execution_count": null,
   "metadata": {},
   "outputs": [],
   "source": []
  }
 ],
 "metadata": {
  "kernelspec": {
   "display_name": "thesis",
   "language": "python",
   "name": "python3"
  },
  "language_info": {
   "codemirror_mode": {
    "name": "ipython",
    "version": 3
   },
   "file_extension": ".py",
   "mimetype": "text/x-python",
   "name": "python",
   "nbconvert_exporter": "python",
   "pygments_lexer": "ipython3",
   "version": "3.9.21"
  }
 },
 "nbformat": 4,
 "nbformat_minor": 2
}
